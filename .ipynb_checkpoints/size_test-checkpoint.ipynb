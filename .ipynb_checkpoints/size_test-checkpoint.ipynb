{
 "cells": [
  {
   "cell_type": "markdown",
   "metadata": {
    "slideshow": {
     "slide_type": "slide"
    }
   },
   "source": [
    "# Git/Shell - polecenia Unix, zmienne środowiskowe\n",
    "_Mikołaj Leszczuk_\n",
    "![](https://manufacturingtoolbox.typepad.com/.a/6a014e888e2eab970d01b7c80b3d0c970b-600wi)"
   ]
  },
  {
   "cell_type": "markdown",
   "metadata": {
    "slideshow": {
     "slide_type": "slide"
    }
   },
   "source": [
    "## Polecenia Unix"
   ]
  },
  {
   "cell_type": "markdown",
   "metadata": {
    "slideshow": {
     "slide_type": "fragment"
    }
   },
   "source": [
    "W tym module nauczymy się podstaw obsługi konsoli / terminala / wiersza poleceń.\n",
    "\n",
    "Poznamy podstawowe komendy:\n",
    "* odnajdywanie siebie w konsoli (wstęp do konsoli),\n",
    "* zarządzanie katalogami (podstawowe komendy, ścieżki - względne i bezwzględne, wyświetlanie zawartości katalogów),\n",
    "* zarządzanie plikami (uprawnienia/prawa dostępu, manipulacje plikami),\n",
    "* przeszukiwanie dysku.\n",
    "\n",
    "Ponadto poznamy różnice między systemem Unix i Windows - ze względu na ścieżki i organizację dysku twardego."
   ]
  },
  {
   "cell_type": "markdown",
   "metadata": {
    "slideshow": {
     "slide_type": "slide"
    }
   },
   "source": [
    "### Wstęp do konsoli\n",
    "\n",
    "Podstawowym narzędziem pracy w Uniksie jest konsola, terminal lub wiersz poleceń.\n",
    "\n",
    "**Powłoka systemu Unix** to interpreter wiersza poleceń lub [powłoka systemowa](https://pl.wikipedia.org/wiki/Pow%C5%82oka_systemowa), która zapewnia [interfejs użytkownika](https://pl.wikipedia.org/wiki/Interfejs_u%C5%BCytkownika) wiersza poleceń dla [systemów operacyjnych](https://pl.wikipedia.org/wiki/System_operacyjny) [typu Unix (uniksopodobnych)](https://pl.wikipedia.org/wiki/System_uniksopodobny). Powłoka jest zarówno interaktywnym [językiem poleceń](https://en.wikipedia.org/wiki/Command_language), jak i [językiem skryptowym](https://pl.wikipedia.org/wiki/J%C4%99zyk_skryptowy) i jest używana przez system operacyjny do sterowania wykonywaniem systemu za pomocą [skryptów powłoki](https://en.wikipedia.org/wiki/Shell_script)."
   ]
  },
  {
   "cell_type": "markdown",
   "metadata": {
    "slideshow": {
     "slide_type": "subslide"
    }
   },
   "source": [
    "![Okna powłoki `tcsh` i `sh` na pulpicie systemu macOS](https://upload.wikimedia.org/wikipedia/commons/1/1f/Tcsh_ejecut%C3%A1ndose_en_escritorio_Mac_OSX.png)"
   ]
  },
  {
   "cell_type": "markdown",
   "metadata": {
    "slideshow": {
     "slide_type": "subslide"
    }
   },
   "source": [
    "Użytkownicy zwykle wchodzą w interakcję z powłoką systemu Unix za pomocą [emulatora terminala](https://en.wikipedia.org/wiki/Terminal_emulator); jednakże bezpośrednia obsługa przez szeregowe połączenia sprzętowe lub [Secure Shell](https://pl.wikipedia.org/wiki/Secure_Shell) są powszechne w systemach serwerowych. Wszystkie powłoki uniksowe zapewniają [symbole wieloznaczne (wieloznaczniki)](https://pl.wikipedia.org/wiki/Wieloznacznik) w nazwach plików, [potoki uniksowe](https://pl.wikipedia.org/wiki/Potok_(Unix)), [\"here documents\"](https://en.wikipedia.org/wiki/Here_document), [podstawianie poleceń](https://en.wikipedia.org/wiki/Command_substitution), [zmienne](https://pl.wikipedia.org/wiki/Zmienna_(informatyka)) i [struktury kontrolne (przeływy sterowania)](https://pl.wikipedia.org/wiki/Przep%C5%82yw_sterowania) do [testowania warunków (instrukcje warunkowe)](https://pl.wikipedia.org/wiki/Instrukcja_warunkowa) i [iteracji](https://pl.wikipedia.org/wiki/Iteracja)."
   ]
  },
  {
   "cell_type": "markdown",
   "metadata": {
    "slideshow": {
     "slide_type": "slide"
    }
   },
   "source": [
    "> ##### Zadanie\n",
    "> Uruchom maszynę wirtualną przeznaczoną do tych zadań, a następnie uruchom program terminala, np.: \"LXTerm\" lub \"Terminal\". Powinno ci się pokazać okno takie (lub podobne) jak poniżej."
   ]
  },
  {
   "cell_type": "markdown",
   "metadata": {
    "slideshow": {
     "slide_type": "subslide"
    }
   },
   "source": [
    "Z poziomu konsoli możliwe jest przechodzenie przez katalogi, tworzenie i modyfikowanie plików, szukanie treści w plikach. Wiele tutaj również wiele narzędzi programistycznych, np. interpreter języka Python czy system kontroli wersji Git.\n",
    "\n",
    "Konsola służy do wprowadzania komend (nazw programów), które następnie są wykonywane.\n",
    "\n",
    "Pierwszy wiersz, który widzisz w konsoli, zawiera sporo przydatnych informacji:\n",
    "\n",
    "```sh\n",
    "dev@dev-Virtualbox:~$ \n",
    "```"
   ]
  },
  {
   "cell_type": "markdown",
   "metadata": {
    "slideshow": {
     "slide_type": "fragment"
    }
   },
   "source": [
    "* `dev` - to jest nazwa użytkownika w systemie\n",
    "* `dev-Virtualbox` - to jest nazwa komputera (hostname)\n",
    "* `~` - to jest aktualna ścieżka (katalog, w którym się znajdujemy)\n",
    "* `$` - to jest znak zachęty, po którym wprowadza się komendy."
   ]
  },
  {
   "cell_type": "markdown",
   "metadata": {
    "slideshow": {
     "slide_type": "subslide"
    }
   },
   "source": [
    "Komendy akceptujemy klawiszem [ENTER]."
   ]
  },
  {
   "cell_type": "markdown",
   "metadata": {
    "slideshow": {
     "slide_type": "slide"
    }
   },
   "source": [
    "> ##### Kim jestem?\n",
    "\n",
    "Jeśli masz więcej niż jedno konto, może być konieczne sprawdzenie, którego konta używasz."
   ]
  },
  {
   "cell_type": "code",
   "execution_count": null,
   "metadata": {
    "slideshow": {
     "slide_type": "fragment"
    }
   },
   "outputs": [],
   "source": [
    "whoami"
   ]
  },
  {
   "cell_type": "markdown",
   "metadata": {
    "slideshow": {
     "slide_type": "fragment"
    }
   },
   "source": [
    "`whoami` poinformuje Cię, pod jaką tożsamością pracujesz."
   ]
  },
  {
   "cell_type": "code",
   "execution_count": null,
   "metadata": {
    "scrolled": true,
    "slideshow": {
     "slide_type": "fragment"
    }
   },
   "outputs": [],
   "source": [
    "logname"
   ]
  },
  {
   "cell_type": "markdown",
   "metadata": {
    "slideshow": {
     "slide_type": "fragment"
    }
   },
   "source": [
    "`logname` pozwala wiedzieć, jakiego konta użyłeś/użyłaś, kiedy po raz pierwszy wszedłeś/weszłaś do systemu (login)."
   ]
  },
  {
   "cell_type": "markdown",
   "metadata": {
    "slideshow": {
     "slide_type": "slide"
    }
   },
   "source": [
    "> ##### Zakończenie sesji\n",
    "\n",
    "Wystarczy zamknąć powłokę, czyli program, który wyświetla monit"
   ]
  },
  {
   "cell_type": "code",
   "execution_count": null,
   "metadata": {
    "slideshow": {
     "slide_type": "fragment"
    }
   },
   "outputs": [],
   "source": [
    "exit"
   ]
  },
  {
   "cell_type": "markdown",
   "metadata": {
    "slideshow": {
     "slide_type": "fragment"
    }
   },
   "source": [
    "`exit` zamyka ostatnią powłokę i wylogowuje użytkownika z systemu."
   ]
  },
  {
   "cell_type": "markdown",
   "metadata": {
    "slideshow": {
     "slide_type": "slide"
    }
   },
   "source": [
    "> ##### Wyłączanie"
   ]
  },
  {
   "cell_type": "code",
   "execution_count": null,
   "metadata": {
    "slideshow": {
     "slide_type": "fragment"
    }
   },
   "outputs": [],
   "source": [
    "shutdown"
   ]
  },
  {
   "cell_type": "markdown",
   "metadata": {
    "slideshow": {
     "slide_type": "fragment"
    }
   },
   "source": [
    "Możesz użyć `su`, aby zostać superużytkownikiem i zamknąć system.\n",
    "\n",
    "```sh\n",
    "su\n",
    "shutdown\n",
    "```"
   ]
  },
  {
   "cell_type": "markdown",
   "metadata": {
    "slideshow": {
     "slide_type": "slide"
    }
   },
   "source": [
    "### Klawiszologia\n",
    "\n",
    "Podstawowe skróty klawiaturowe służą do przechodzenia kursorem pomiędzy literami wiersza poleceń:\n",
    "\n",
    "* strzałki w lewo i w prawo: przeniesienie kursora w lewo lub w prawo w obszarze obecnie wprowadzanej komendy\n",
    "* strzałki w górę i w dół: przywołanie poprzedniej lub następnej (chronologicznie) wprowadzanej komendy\n",
    "* [TAB]: uzupełnianie nazwy komendy, katalogu lub pliku.\n",
    "\n",
    "Kopiowanie i wklejanie w konsoli:\n",
    "\n",
    "* [SHIFT] + [CTRL] + [C] lub [⌘] + [C]: kopiuj zaznaczony tekst\n",
    "* [SHIFT] + [CTRL] + [V] lub [⌘] + [V]: wklej tekst"
   ]
  },
  {
   "cell_type": "markdown",
   "metadata": {
    "slideshow": {
     "slide_type": "subslide"
    }
   },
   "source": [
    "Ponadto do przydatnych skrótów należą:\n",
    "\n",
    "* [CTRL] + [L]: czyść ekran\n",
    "* [CTRL] + [D]: przerwij wprowadzanie treści (sygnał koniec pliku, EOF)\n",
    "* [CTRL] + [C]: przerwij skrypt (sygnał wyłączenia)\n",
    "\n",
    "Czasami może się zdarzyć, że niechcący naciśniesz [CTRL]+[S], które blokuje konsolę. Wpisywane znaki nie pojawią się wtedy na ekranie konsoli. Naciśnij [CTRL]+[Q], aby odblokować terminal."
   ]
  },
  {
   "cell_type": "markdown",
   "metadata": {
    "slideshow": {
     "slide_type": "slide"
    }
   },
   "source": [
    "> ##### Inne przydatne skróty\n",
    "> Naciśnięcie [CTRL]+[Z] sprawi, że program \"zminimalizuje się\". Mamy wtedy dostęp z powrotem do konsoli. Żeby wrócić do programu, należy wpisać komendę `fg`.\\\n",
    "> Innym przydatnym skrótem jest [CTRL]+[R], który włącza przeszukiwanie historii komend wstecz."
   ]
  },
  {
   "cell_type": "markdown",
   "metadata": {
    "slideshow": {
     "slide_type": "slide"
    }
   },
   "source": [
    "### System plików\n",
    "\n",
    "System plików jest zorganizowany w katalogach i podkatalogach.\n",
    "\n",
    "W Uniksie, przykładowo katalog \"Pobrane\" w systemie plików wygląda następująco:\n",
    "\n",
    "```sh\n",
    "/home/dev/Downloads\n",
    "```\n",
    "\n",
    "lub\n",
    "\n",
    "```sh\n",
    "/Users/dev/Downloads\n",
    "```\n",
    "\n",
    "Analogiczna ścieżka w Windows system plików wygląda następująco:\n",
    "\n",
    "```sh\n",
    "C:\\Users\\Dev\\Downloads\n",
    "```"
   ]
  },
  {
   "cell_type": "markdown",
   "metadata": {
    "slideshow": {
     "slide_type": "subslide"
    }
   },
   "source": [
    "Różnice:\n",
    "\n",
    "* w Uniksie nie podajemy litery dysku (`C:\\`),\n",
    "* Windows obsługuje backslashe (`\\`) do oddzielania części ścieżki, natomiast Unix obsługuje slashe (`/`),\n",
    "* dla Unixa katalog `Downloads` oraz `DOWNLOADS` to mogą (domyślnie w Linuksie), ale nie muszą (domyślnie w macOS) być dwa różne katalogi, natomiast ścieżki w Windowsie zawsze zapisywane są bez rozróżnienia wielkości liter."
   ]
  },
  {
   "cell_type": "markdown",
   "metadata": {
    "slideshow": {
     "slide_type": "slide"
    }
   },
   "source": [
    "### Katalogi - podstawowe komendy\n",
    "\n",
    "Wpisz komendę `pwd` i sprawdź, jaki uzyskałeś/uzyskałaś efekt."
   ]
  },
  {
   "cell_type": "code",
   "execution_count": null,
   "metadata": {
    "slideshow": {
     "slide_type": "fragment"
    }
   },
   "outputs": [],
   "source": [
    "pwd"
   ]
  },
  {
   "cell_type": "markdown",
   "metadata": {
    "slideshow": {
     "slide_type": "slide"
    }
   },
   "source": [
    "> ##### Komenda `pwd`\n",
    "> Ta komenda służy do wyświetlenia obecnej ścieżki, w której pracujemy.\n",
    "\n",
    "Do zmiany katalogu używamy `cd nazwa_katalogu`, np. `cd Desktop`."
   ]
  },
  {
   "cell_type": "markdown",
   "metadata": {
    "slideshow": {
     "slide_type": "slide"
    }
   },
   "source": [
    "> ##### Zadanie\n",
    "Przejdź do innego katalogu (`cd`) i sprawdź, jaka jest pełna ścieżka do tego katalogu (`pwd`).\n",
    "\n",
    "Inne komendy:\n",
    "\n",
    "* `mkdir nazwa_katalogu` - utwórz katalog o nazwie `nazwa_katalogu`,\n",
    "* `rmdir nazwa_katalogu` - usuń katalog o nazwie `nazwa_katalogu`."
   ]
  },
  {
   "cell_type": "markdown",
   "metadata": {
    "slideshow": {
     "slide_type": "slide"
    }
   },
   "source": [
    "> ##### Uwaga\n",
    "> `rmdir` pozwoli usunąć jedynie pusty katalog, tj. taki, w którym nie ma żadnych podkatalogów ani żadnych plików, w tym ukrytych."
   ]
  },
  {
   "cell_type": "markdown",
   "metadata": {
    "slideshow": {
     "slide_type": "slide"
    }
   },
   "source": [
    "> ##### Tworzenie katalogu"
   ]
  },
  {
   "cell_type": "code",
   "execution_count": null,
   "metadata": {
    "slideshow": {
     "slide_type": "fragment"
    }
   },
   "outputs": [],
   "source": [
    "pwd"
   ]
  },
  {
   "cell_type": "code",
   "execution_count": null,
   "metadata": {
    "slideshow": {
     "slide_type": "fragment"
    }
   },
   "outputs": [],
   "source": [
    "cd mydir"
   ]
  },
  {
   "cell_type": "code",
   "execution_count": null,
   "metadata": {
    "slideshow": {
     "slide_type": "fragment"
    }
   },
   "outputs": [],
   "source": [
    "mkdir mydir"
   ]
  },
  {
   "cell_type": "code",
   "execution_count": null,
   "metadata": {
    "slideshow": {
     "slide_type": "fragment"
    }
   },
   "outputs": [],
   "source": [
    "cd mydir"
   ]
  },
  {
   "cell_type": "code",
   "execution_count": null,
   "metadata": {
    "slideshow": {
     "slide_type": "fragment"
    }
   },
   "outputs": [],
   "source": [
    "pwd"
   ]
  },
  {
   "cell_type": "code",
   "execution_count": null,
   "metadata": {
    "slideshow": {
     "slide_type": "subslide"
    }
   },
   "outputs": [],
   "source": [
    "cd .."
   ]
  },
  {
   "cell_type": "code",
   "execution_count": null,
   "metadata": {
    "slideshow": {
     "slide_type": "fragment"
    }
   },
   "outputs": [],
   "source": [
    "pwd"
   ]
  },
  {
   "cell_type": "markdown",
   "metadata": {
    "slideshow": {
     "slide_type": "slide"
    }
   },
   "source": [
    "> ##### Usunięcie katalogu\n",
    "\n",
    "Możesz usunąć pusty katalog za pomocą `rmdir`."
   ]
  },
  {
   "cell_type": "code",
   "execution_count": null,
   "metadata": {
    "slideshow": {
     "slide_type": "fragment"
    }
   },
   "outputs": [],
   "source": [
    "rmdir mydir"
   ]
  },
  {
   "cell_type": "code",
   "execution_count": null,
   "metadata": {
    "slideshow": {
     "slide_type": "fragment"
    }
   },
   "outputs": [],
   "source": [
    "cd mydir"
   ]
  },
  {
   "cell_type": "markdown",
   "metadata": {
    "slideshow": {
     "slide_type": "slide"
    }
   },
   "source": [
    "### Ścieżki - względne i bezwzględne\n",
    "\n",
    "Ścieżka bezwzględna zaczyna się od katalogu głównego, podczas gdy ścieżka względna zaczyna się od katalogu bieżącego."
   ]
  },
  {
   "cell_type": "code",
   "execution_count": null,
   "metadata": {
    "slideshow": {
     "slide_type": "fragment"
    }
   },
   "outputs": [],
   "source": [
    "pwd"
   ]
  },
  {
   "cell_type": "code",
   "execution_count": null,
   "metadata": {
    "slideshow": {
     "slide_type": "fragment"
    }
   },
   "outputs": [],
   "source": [
    "cd /usr/local"
   ]
  },
  {
   "cell_type": "markdown",
   "metadata": {
    "slideshow": {
     "slide_type": "fragment"
    }
   },
   "source": [
    "Jest to ścieżka absolutna (bezwzględna), ponieważ zaczyna się od `/`."
   ]
  },
  {
   "cell_type": "code",
   "execution_count": null,
   "metadata": {
    "slideshow": {
     "slide_type": "subslide"
    }
   },
   "outputs": [],
   "source": [
    "pwd"
   ]
  },
  {
   "cell_type": "code",
   "execution_count": null,
   "metadata": {
    "slideshow": {
     "slide_type": "fragment"
    }
   },
   "outputs": [],
   "source": [
    "cd bin"
   ]
  },
  {
   "cell_type": "markdown",
   "metadata": {
    "slideshow": {
     "slide_type": "fragment"
    }
   },
   "source": [
    "To jest ścieżka względna: zaczyna się od katalogu lokalnego (`local`) i przenosi się w \"dół\" do `bin`."
   ]
  },
  {
   "cell_type": "code",
   "execution_count": null,
   "metadata": {
    "slideshow": {
     "slide_type": "fragment"
    }
   },
   "outputs": [],
   "source": [
    "pwd"
   ]
  },
  {
   "cell_type": "markdown",
   "metadata": {
    "slideshow": {
     "slide_type": "slide"
    }
   },
   "source": [
    "> ##### Zastrzeżone znaki i słowa\n",
    "\n",
    "Systemy plików nie zawsze zapewniały ten sam zestaw znaków do tworzenia nazwy pliku. Zanim [Unikod](https://pl.wikipedia.org/wiki/Unikod) stał się de facto standardem, systemy plików najczęściej używały zestawu znaków zależnego od ustawień regionalnych. Z kolei w niektórych nowych systemach nazwa pliku może składać się z prawie dowolnego znaku z repertuaru Unicode, a nawet z sekwencji bajtów innych niż Unicode. Ograniczenia mogą wynikać z systemu plików, systemu operacyjnego, aplikacji lub wymagań dotyczących współdziałania z innymi systemami.\n",
    "\n",
    "Wiele narzędzi systemu plików uniemożliwia wyświetlanie [kodów sterujących](https://pl.wikipedia.org/wiki/Kod_steruj%C4%85cy) w nazwach plików. W systemach plików typu Unix [Null (znak)](https://pl.wikipedia.org/wiki/Null_(znak)) i separator ścieżki `/` są zabronione."
   ]
  },
  {
   "cell_type": "markdown",
   "metadata": {
    "slideshow": {
     "slide_type": "subslide"
    }
   },
   "source": [
    "Uwaga: Chociaż są one dozwolone w nazwach plików i folderów systemu Unix, większość [powłok systemu Unix](https://en.wikipedia.org/wiki/Unix_shell) wymaga określonych znaków, takich jak spacje (` `), `<`,`>`, `|`, `\\`, a czasami `:`, (`,`), `&`, `;`, `#`, a także symboli wieloznacznych, takich jak tak jak `?` i `*`, w cytacie lub po znaku ucieczki ([znaku modyfikacji](https://pl.wikipedia.org/wiki/Znak_modyfikacji), znaku zmiany znaczenia, `\\`):\n",
    "\n",
    "* `pięć\\ i\\ sześć\\<siedem` (przykład zmiany znaczenia)\n",
    "* `'pięć i sześć<siedem'` lub `\"pięć i sześć<siedem\"` (przykłady cytowania)"
   ]
  },
  {
   "cell_type": "markdown",
   "metadata": {
    "slideshow": {
     "slide_type": "subslide"
    }
   },
   "source": [
    "Spacja (` `) jest dozwolona, ale spacja jest również używana jako separator parametrów w aplikacjach wiersza polecenia:"
   ]
  },
  {
   "cell_type": "code",
   "execution_count": null,
   "metadata": {
    "slideshow": {
     "slide_type": "fragment"
    }
   },
   "outputs": [],
   "source": [
    "cd /Users/miklesz/Documents/Courses/Git_Shell"
   ]
  },
  {
   "cell_type": "code",
   "execution_count": null,
   "metadata": {
    "slideshow": {
     "slide_type": "fragment"
    }
   },
   "outputs": [],
   "source": [
    "pwd"
   ]
  },
  {
   "cell_type": "markdown",
   "metadata": {
    "slideshow": {
     "slide_type": "fragment"
    }
   },
   "source": [
    "Przed zajęciami przygotowałem folder o nazwie `Untitled folder`. Spróbujmy do niego wejść:"
   ]
  },
  {
   "cell_type": "code",
   "execution_count": null,
   "metadata": {
    "slideshow": {
     "slide_type": "fragment"
    }
   },
   "outputs": [],
   "source": [
    "cd Untitled folder"
   ]
  },
  {
   "cell_type": "code",
   "execution_count": null,
   "metadata": {
    "slideshow": {
     "slide_type": "fragment"
    }
   },
   "outputs": [],
   "source": [
    "pwd"
   ]
  },
  {
   "cell_type": "markdown",
   "metadata": {
    "slideshow": {
     "slide_type": "subslide"
    }
   },
   "source": [
    "Można to rozwiązać za pomocą zmiany znaczenia (znaku ucieczki, `\\`):"
   ]
  },
  {
   "cell_type": "code",
   "execution_count": null,
   "metadata": {
    "slideshow": {
     "slide_type": "fragment"
    }
   },
   "outputs": [],
   "source": [
    "cd /Users/miklesz/Documents/Courses/Git_Shell"
   ]
  },
  {
   "cell_type": "code",
   "execution_count": null,
   "metadata": {
    "slideshow": {
     "slide_type": "fragment"
    }
   },
   "outputs": [],
   "source": [
    "pwd"
   ]
  },
  {
   "cell_type": "code",
   "execution_count": null,
   "metadata": {
    "slideshow": {
     "slide_type": "fragment"
    }
   },
   "outputs": [],
   "source": [
    "cd Untitled\\ folder"
   ]
  },
  {
   "cell_type": "code",
   "execution_count": null,
   "metadata": {
    "slideshow": {
     "slide_type": "fragment"
    }
   },
   "outputs": [],
   "source": [
    "pwd"
   ]
  },
  {
   "cell_type": "markdown",
   "metadata": {
    "slideshow": {
     "slide_type": "subslide"
    }
   },
   "source": [
    "Może to być także rozwiązane przez cytowanie `''` całej ścieżki."
   ]
  },
  {
   "cell_type": "code",
   "execution_count": null,
   "metadata": {
    "slideshow": {
     "slide_type": "fragment"
    }
   },
   "outputs": [],
   "source": [
    "cd /Users/miklesz/Documents/Courses/Git_Shell"
   ]
  },
  {
   "cell_type": "code",
   "execution_count": null,
   "metadata": {
    "slideshow": {
     "slide_type": "fragment"
    }
   },
   "outputs": [],
   "source": [
    "pwd"
   ]
  },
  {
   "cell_type": "code",
   "execution_count": null,
   "metadata": {
    "slideshow": {
     "slide_type": "fragment"
    }
   },
   "outputs": [],
   "source": [
    "cd 'Untitled folder'"
   ]
  },
  {
   "cell_type": "code",
   "execution_count": null,
   "metadata": {
    "slideshow": {
     "slide_type": "fragment"
    }
   },
   "outputs": [],
   "source": [
    "pwd"
   ]
  },
  {
   "cell_type": "markdown",
   "metadata": {
    "slideshow": {
     "slide_type": "subslide"
    }
   },
   "source": [
    "Może to być także rozwiązane przez cytowanie `\"\"` całej ścieżki."
   ]
  },
  {
   "cell_type": "code",
   "execution_count": null,
   "metadata": {
    "slideshow": {
     "slide_type": "fragment"
    }
   },
   "outputs": [],
   "source": [
    "cd /Users/miklesz/Documents/Courses/Git_Shell"
   ]
  },
  {
   "cell_type": "code",
   "execution_count": null,
   "metadata": {
    "slideshow": {
     "slide_type": "fragment"
    }
   },
   "outputs": [],
   "source": [
    "pwd"
   ]
  },
  {
   "cell_type": "code",
   "execution_count": null,
   "metadata": {
    "slideshow": {
     "slide_type": "fragment"
    }
   },
   "outputs": [],
   "source": [
    "cd \"Untitled folder\""
   ]
  },
  {
   "cell_type": "code",
   "execution_count": null,
   "metadata": {
    "slideshow": {
     "slide_type": "fragment"
    }
   },
   "outputs": [],
   "source": [
    "pwd"
   ]
  },
  {
   "cell_type": "markdown",
   "metadata": {
    "slideshow": {
     "slide_type": "fragment"
    }
   },
   "source": [
    "Ścieżki bezwzględne pokazują \"drogę\" od katalogu głównego w Uniksie (`/`) do wskazanego katalogu. "
   ]
  },
  {
   "cell_type": "markdown",
   "metadata": {
    "slideshow": {
     "slide_type": "slide"
    }
   },
   "source": [
    "> ##### Katalog domowy\n",
    "\n",
    "Każdy użytkownik ma swój katalog, nazywany domowym; zachowuje on wszystkie dane użytkownika.\n",
    "\n",
    "Przykładowo na maszynie Waszej wirtualnej (Linux) katalog domowy użytkownika `dev` to `/home/dev/`, a na mojej maszynie (macOS) katalog domowy uzytkownika `miklesz` to `/Users/miklesz`.\n",
    "\n",
    "Popularnym oznaczeniem na katalog domowy jest tylda `~`. Niektóre powłoki zastępują tyldę na początku ścieżki ścieżką do katalogu domowego użytkownika roboczego.\n",
    "\n",
    "Wpisując tylko `cd`, użytkownik może dotrzeć do swojego katalogu domowego."
   ]
  },
  {
   "cell_type": "code",
   "execution_count": null,
   "metadata": {
    "slideshow": {
     "slide_type": "subslide"
    }
   },
   "outputs": [],
   "source": [
    "pwd"
   ]
  },
  {
   "cell_type": "code",
   "execution_count": null,
   "metadata": {
    "slideshow": {
     "slide_type": "fragment"
    }
   },
   "outputs": [],
   "source": [
    "cd"
   ]
  },
  {
   "cell_type": "code",
   "execution_count": null,
   "metadata": {
    "slideshow": {
     "slide_type": "fragment"
    }
   },
   "outputs": [],
   "source": [
    "pwd"
   ]
  },
  {
   "cell_type": "code",
   "execution_count": null,
   "metadata": {
    "slideshow": {
     "slide_type": "fragment"
    }
   },
   "outputs": [],
   "source": [
    "cd /Users/miklesz/Documents/Courses/Git_Shell"
   ]
  },
  {
   "cell_type": "code",
   "execution_count": null,
   "metadata": {
    "slideshow": {
     "slide_type": "fragment"
    }
   },
   "outputs": [],
   "source": [
    "pwd"
   ]
  },
  {
   "cell_type": "markdown",
   "metadata": {
    "slideshow": {
     "slide_type": "subslide"
    }
   },
   "source": [
    "W ten sam sposób, jeśli tylda zostanie ustawiona przed kontem użytkownika, zostanie zastąpiona ścieżką do katalogu domowego użytkownika."
   ]
  },
  {
   "cell_type": "code",
   "execution_count": null,
   "metadata": {
    "slideshow": {
     "slide_type": "fragment"
    }
   },
   "outputs": [],
   "source": [
    "pwd"
   ]
  },
  {
   "cell_type": "code",
   "execution_count": null,
   "metadata": {
    "slideshow": {
     "slide_type": "fragment"
    }
   },
   "outputs": [],
   "source": [
    "cd ~miklesz"
   ]
  },
  {
   "cell_type": "code",
   "execution_count": null,
   "metadata": {
    "slideshow": {
     "slide_type": "fragment"
    }
   },
   "outputs": [],
   "source": [
    "pwd"
   ]
  },
  {
   "cell_type": "markdown",
   "metadata": {
    "slideshow": {
     "slide_type": "fragment"
    }
   },
   "source": [
    "Wracamy do katalogu startowego."
   ]
  },
  {
   "cell_type": "code",
   "execution_count": null,
   "metadata": {
    "slideshow": {
     "slide_type": "fragment"
    }
   },
   "outputs": [],
   "source": [
    "cd /Users/miklesz/Documents/Courses/Git_Shell"
   ]
  },
  {
   "cell_type": "code",
   "execution_count": null,
   "metadata": {
    "slideshow": {
     "slide_type": "fragment"
    }
   },
   "outputs": [],
   "source": [
    "pwd"
   ]
  },
  {
   "cell_type": "markdown",
   "metadata": {
    "slideshow": {
     "slide_type": "slide"
    }
   },
   "source": [
    "> ##### Cofanie się\n",
    "\n",
    "Linux obsługuje też wskazywanie ścieżek względnie, np. względem obecnego katalogu. Każdy katalog zawiera dwa odniesienia do specjalnego podkatalogu. Stosowane są tutaj następujące oznaczenia:\n",
    "\n",
    "* pojedynczy `.` - który jest obecnym katalogiem (odniesieniem do bieżącego katalogu),\n",
    "* podwójny `..` - który jest katalogiem wyżej (rodzicem, odniesieniem do poprzedniego katalogu).\n",
    "\n",
    "Te symbole są efektywnymi nazwami katalogów."
   ]
  },
  {
   "cell_type": "markdown",
   "metadata": {
    "slideshow": {
     "slide_type": "subslide"
    }
   },
   "source": [
    "Przykładowo, jeśli chcemy podać ścieżkę do katalogu `/home/`, możemy wpisać `~/..`, bo `~` to `/home/dev/`, a `..` wskazują na katalog wyżej.\n",
    "\n",
    "Inny przykład: obecna ścieżka (`pwd`) to `/home/dev/Desktop`. Żeby przejść do `/home/`, należy podać `cd ../..`.\n",
    "\n",
    "Kolejny przykład: obecna ścieżka (`pwd`) to `/home/dev/Desktop`. Żeby przejść do `/home/dev/Downloads`, należy podać `cd ../Downloads`."
   ]
  },
  {
   "cell_type": "code",
   "execution_count": null,
   "metadata": {
    "slideshow": {
     "slide_type": "fragment"
    }
   },
   "outputs": [],
   "source": [
    "cd .."
   ]
  },
  {
   "cell_type": "code",
   "execution_count": null,
   "metadata": {
    "slideshow": {
     "slide_type": "fragment"
    }
   },
   "outputs": [],
   "source": [
    "pwd"
   ]
  },
  {
   "cell_type": "code",
   "execution_count": null,
   "metadata": {
    "slideshow": {
     "slide_type": "fragment"
    }
   },
   "outputs": [],
   "source": [
    "cd Git_Shell"
   ]
  },
  {
   "cell_type": "code",
   "execution_count": null,
   "metadata": {
    "slideshow": {
     "slide_type": "fragment"
    }
   },
   "outputs": [],
   "source": [
    "pwd"
   ]
  },
  {
   "cell_type": "markdown",
   "metadata": {
    "slideshow": {
     "slide_type": "subslide"
    }
   },
   "source": [
    "Możesz cofnąć się o więcej niż jeden poziom."
   ]
  },
  {
   "cell_type": "code",
   "execution_count": null,
   "metadata": {
    "slideshow": {
     "slide_type": "fragment"
    }
   },
   "outputs": [],
   "source": [
    "cd ../../../../../var"
   ]
  },
  {
   "cell_type": "code",
   "execution_count": null,
   "metadata": {
    "slideshow": {
     "slide_type": "fragment"
    }
   },
   "outputs": [],
   "source": [
    "pwd"
   ]
  },
  {
   "cell_type": "code",
   "execution_count": null,
   "metadata": {
    "slideshow": {
     "slide_type": "fragment"
    }
   },
   "outputs": [],
   "source": [
    "cd /usr/bin/../local/bin/.."
   ]
  },
  {
   "cell_type": "code",
   "execution_count": null,
   "metadata": {
    "slideshow": {
     "slide_type": "fragment"
    }
   },
   "outputs": [],
   "source": [
    "pwd"
   ]
  },
  {
   "cell_type": "code",
   "execution_count": null,
   "metadata": {
    "slideshow": {
     "slide_type": "fragment"
    }
   },
   "outputs": [],
   "source": [
    "cd \"../../Users/miklesz/Documents/Courses/Git_Shell\""
   ]
  },
  {
   "cell_type": "code",
   "execution_count": null,
   "metadata": {
    "slideshow": {
     "slide_type": "fragment"
    }
   },
   "outputs": [],
   "source": [
    "pwd"
   ]
  },
  {
   "cell_type": "markdown",
   "metadata": {
    "slideshow": {
     "slide_type": "slide"
    }
   },
   "source": [
    "### Wyświetlanie zawartości katalogów\n",
    "\n",
    "Do wyświetlania zawartości katalogów służy komenda `ls`. Można podać jej ścieżkę do katalogu, ale w domyślnym wariancie komenda `ls` wyświetli zawartość obecnego katalogu:"
   ]
  },
  {
   "cell_type": "code",
   "execution_count": null,
   "metadata": {
    "slideshow": {
     "slide_type": "subslide"
    }
   },
   "outputs": [],
   "source": [
    "ls"
   ]
  },
  {
   "cell_type": "markdown",
   "metadata": {
    "slideshow": {
     "slide_type": "subslide"
    }
   },
   "source": [
    "Możliwe jest użycie **przełączników**, które sprawią, że komenda `ls` trochę inaczej wyświetli swój wynik.\n",
    "\n",
    "**Przełączniki** zaczynają się od znaku `-` (czasem `--`), podawane są po nazwie komendy, a czasem muszą być podane w określonej kolejności.\n",
    "\n",
    "Przykładowo jednym z najpopularniejszych przełączników dla `ls` jest `-l` (*long format*), który wyświetla wynik w długim formacie:"
   ]
  },
  {
   "cell_type": "code",
   "execution_count": null,
   "metadata": {
    "slideshow": {
     "slide_type": "subslide"
    }
   },
   "outputs": [],
   "source": [
    "ls -l"
   ]
  },
  {
   "cell_type": "markdown",
   "metadata": {
    "slideshow": {
     "slide_type": "subslide"
    }
   },
   "source": [
    "Długi format zawiera więcej infomacji, m.in. o dacie modyfikacji pliku lub katalogu oraz o jego rozmiarze.\n",
    "\n",
    "Inny popularny przełącznik to `-h`, który pozwala wyświetlić rozmiar plików w formacie zrozumiałym dla człowieka (*human readable*):"
   ]
  },
  {
   "cell_type": "code",
   "execution_count": null,
   "metadata": {
    "slideshow": {
     "slide_type": "subslide"
    }
   },
   "outputs": [],
   "source": [
    "ls -l"
   ]
  },
  {
   "cell_type": "code",
   "execution_count": null,
   "metadata": {
    "slideshow": {
     "slide_type": "subslide"
    }
   },
   "outputs": [],
   "source": [
    "ls -l -h"
   ]
  },
  {
   "cell_type": "markdown",
   "metadata": {
    "slideshow": {
     "slide_type": "subslide"
    }
   },
   "source": [
    "Jak widać, zmieniła się 5. kolumna, która dla dłuższych plików nie ma już rozmiaru w bajtach, ale w kilobajtach."
   ]
  },
  {
   "cell_type": "markdown",
   "metadata": {
    "slideshow": {
     "slide_type": "slide"
    }
   },
   "source": [
    "> ##### Łączenie przełączników\n",
    "> W przypadku jednoliterowych przełączników możliwe jest łączenie ich ze sobą, np. `ls -lh` to to samo, co `ls -l -h`."
   ]
  },
  {
   "cell_type": "markdown",
   "metadata": {
    "slideshow": {
     "slide_type": "slide"
    }
   },
   "source": [
    "> ##### Ukryte pliki\n",
    "> W Uniksie pliki nie mają atrybutu \"Ukryty\", w przeciwieństwie do Windowsa. Tutaj jest tylko jeden sposób, aby taki plik ukryć: rozpocząć jego nazwę od `.`, np. `.ukryty.txt` to będzie ukryty plik tekstowy.\n",
    "\n",
    "Do wyświetlenia ukrytych plików za pomocą komendy ls służy przełącznik `-a`. \n",
    "\n",
    "Przełącznik `-t` posortuje wynik po czasie modyfikacji (najnowsze na początku)."
   ]
  },
  {
   "cell_type": "markdown",
   "metadata": {
    "slideshow": {
     "slide_type": "slide"
    }
   },
   "source": [
    "> ##### Zadanie\n",
    "> Wyświetl pliki w katalogu `~` w długim formacie, włącznie z ukrytymi, posortowane po czasie modyfikacji. Sprawdź, jaki jest jego rozmiar.\\\n",
    "> Spróbuj sprawdzić różne katalogi w poszukiwaniu największego pliku."
   ]
  },
  {
   "cell_type": "markdown",
   "metadata": {
    "slideshow": {
     "slide_type": "slide"
    }
   },
   "source": [
    "### Uprawnienia (prawa) dostępu\n",
    "\n",
    "**Prawa dostępu** - mechanizm w systemach **uniksowych**, mający na celu umożliwić określenie uprawnień odczytu, edycji i uruchamiania dla poszczególnych użytkowników. Ma on na celu zapewnienie bezpieczeństwa, stabilności i kontroli prywatności w systemach **wielodostępnych**.\n",
    "\n",
    "Prawa dostępu przydzielane są dla kategorii:\n",
    "\n",
    "* *user* - użytkownik, właściciel pliku,\n",
    "* *group* - grupa, właściciel pliku,\n",
    "* *other* - pozostali użytkownicy."
   ]
  },
  {
   "cell_type": "markdown",
   "metadata": {
    "slideshow": {
     "slide_type": "subslide"
    }
   },
   "source": [
    "Dla każdej z tych kategorii możliwe są trzy prawa dostępu, opisane literowo (`rwx`):\n",
    "\n",
    "* *read* - odczyt,\n",
    "* *write* - zapis,\n",
    "* *execute* - wykonywanie."
   ]
  },
  {
   "cell_type": "markdown",
   "metadata": {
    "slideshow": {
     "slide_type": "subslide"
    }
   },
   "source": [
    "Standardowym symbolicznym sposobem zapisu uprawnień jest:\n",
    "\n",
    "```sh\n",
    "-rwxr-xr--   1 fizyk fizyk 2010 kwi 16 13:09 plik\n",
    "tuuugggooo\n",
    "```\n",
    "\n",
    "* **`t`** - oznacza typ pliku (`-` zwykły, `d` katalog, `l` dowiązanie symboliczne, `s` gniazdo, `f` FIFO, `c` urządzenie znakowe, `b` urządzenie blokowe)\n",
    "* **`u`** - uprawnienia właściciela\n",
    "* **`g`** - uprawnienia grupy\n",
    "* **`o`** - uprawnienia pozostałych"
   ]
  },
  {
   "cell_type": "markdown",
   "metadata": {
    "slideshow": {
     "slide_type": "subslide"
    }
   },
   "source": [
    "Znaczenie praw dostępu dla zwykłych plików jest intuicyjne, natomiast dla katalogów znaczenie jest następujące:\n",
    "\n",
    "* jeżeli użytkownik ma prawo **`x`** do katalogu, to może do niego \"wejść\"\n",
    "* jeżeli użytkownik ma prawo **`r`** do katalogu, to może wyświetlić jego zawartość\n",
    "* jeżeli użytkownik ma prawo **`w`** do katalogu, to może w nim tworzyć i kasować pliki/katalogi\n",
    "\n",
    "Powyższe prawa można interpretować w ten sposób, że jeśli np. użytkownik ma prawa **`-wx`**, to może w tym katalogu tworzyć pliki, poruszać się w obrębie jego struktury, ale nie może wyświetlić jego zawartości."
   ]
  },
  {
   "cell_type": "markdown",
   "metadata": {
    "slideshow": {
     "slide_type": "subslide"
    }
   },
   "source": [
    "Do zmiany uprawnień do pliku służy polecenie:"
   ]
  },
  {
   "cell_type": "code",
   "execution_count": null,
   "metadata": {
    "slideshow": {
     "slide_type": "fragment"
    }
   },
   "outputs": [],
   "source": [
    "chmod"
   ]
  },
  {
   "cell_type": "markdown",
   "metadata": {
    "slideshow": {
     "slide_type": "subslide"
    }
   },
   "source": [
    "Poleceniem, którym można sprawdzić prawa dostępu do pliku i katalogu jest:"
   ]
  },
  {
   "cell_type": "code",
   "execution_count": null,
   "metadata": {
    "slideshow": {
     "slide_type": "subslide"
    }
   },
   "outputs": [],
   "source": [
    "ls -l"
   ]
  },
  {
   "cell_type": "markdown",
   "metadata": {
    "slideshow": {
     "slide_type": "subslide"
    }
   },
   "source": [
    "Opis klas użytkowników `chmod`:\n",
    "\n",
    "* **'u'** – użytkownik (ang. *__u__ser*)\n",
    "* **'g'** – grupa (ang. *__g__roup*)\n",
    "* **'o'** – inni (ang. *__o__thers*)\n",
    "* **'a'** – wszyscy (ang. *__a__ll*)"
   ]
  },
  {
   "cell_type": "markdown",
   "metadata": {
    "slideshow": {
     "slide_type": "subslide"
    }
   },
   "source": [
    "Przykłady użycia `chmod`:"
   ]
  },
  {
   "cell_type": "code",
   "execution_count": null,
   "metadata": {
    "slideshow": {
     "slide_type": "fragment"
    }
   },
   "outputs": [],
   "source": [
    "ls -l plik.txt"
   ]
  },
  {
   "cell_type": "markdown",
   "metadata": {
    "slideshow": {
     "slide_type": "fragment"
    }
   },
   "source": [
    "Nadanie wszystkim uprawnienia do zmiany `plik.txt`:"
   ]
  },
  {
   "cell_type": "code",
   "execution_count": null,
   "metadata": {
    "slideshow": {
     "slide_type": "fragment"
    }
   },
   "outputs": [],
   "source": [
    "chmod a+w plik.txt"
   ]
  },
  {
   "cell_type": "code",
   "execution_count": null,
   "metadata": {
    "slideshow": {
     "slide_type": "fragment"
    }
   },
   "outputs": [],
   "source": [
    "ls -l plik.txt"
   ]
  },
  {
   "cell_type": "markdown",
   "metadata": {
    "slideshow": {
     "slide_type": "subslide"
    }
   },
   "source": [
    "Usunięcie możliwości wykonywania `plik.txt` przez pozostałych użytkowników:"
   ]
  },
  {
   "cell_type": "code",
   "execution_count": null,
   "metadata": {
    "slideshow": {
     "slide_type": "fragment"
    }
   },
   "outputs": [],
   "source": [
    "chmod o-x plik.txt"
   ]
  },
  {
   "cell_type": "code",
   "execution_count": null,
   "metadata": {
    "slideshow": {
     "slide_type": "fragment"
    }
   },
   "outputs": [],
   "source": [
    "ls -l plik.txt"
   ]
  },
  {
   "cell_type": "markdown",
   "metadata": {
    "slideshow": {
     "slide_type": "fragment"
    }
   },
   "source": [
    "Usunięcie możliwości odczytywania i wykonywania `plik.txt` przez grupę i pozostałych użytkowników:"
   ]
  },
  {
   "cell_type": "code",
   "execution_count": null,
   "metadata": {
    "slideshow": {
     "slide_type": "fragment"
    }
   },
   "outputs": [],
   "source": [
    "chmod go-rx plik.txt"
   ]
  },
  {
   "cell_type": "code",
   "execution_count": null,
   "metadata": {
    "slideshow": {
     "slide_type": "fragment"
    }
   },
   "outputs": [],
   "source": [
    "ls -l plik.txt"
   ]
  },
  {
   "cell_type": "markdown",
   "metadata": {
    "slideshow": {
     "slide_type": "subslide"
    }
   },
   "source": [
    "Wszyscy będą mogli zmieniać zawartość `plik.txt`, jak też czytać go i wykonywać:"
   ]
  },
  {
   "cell_type": "code",
   "execution_count": null,
   "metadata": {
    "slideshow": {
     "slide_type": "fragment"
    }
   },
   "outputs": [],
   "source": [
    "chmod a+rwx plik.txt"
   ]
  },
  {
   "cell_type": "code",
   "execution_count": null,
   "metadata": {
    "slideshow": {
     "slide_type": "fragment"
    }
   },
   "outputs": [],
   "source": [
    "ls -l plik.txt"
   ]
  },
  {
   "cell_type": "markdown",
   "metadata": {
    "slideshow": {
     "slide_type": "fragment"
    }
   },
   "source": [
    "Odebranie zapisu grupie i innym:"
   ]
  },
  {
   "cell_type": "code",
   "execution_count": null,
   "metadata": {
    "slideshow": {
     "slide_type": "fragment"
    }
   },
   "outputs": [],
   "source": [
    "chmod go-w plik.txt"
   ]
  },
  {
   "cell_type": "code",
   "execution_count": null,
   "metadata": {
    "slideshow": {
     "slide_type": "fragment"
    }
   },
   "outputs": [],
   "source": [
    "ls -l plik.txt"
   ]
  },
  {
   "cell_type": "markdown",
   "metadata": {
    "slideshow": {
     "slide_type": "slide"
    }
   },
   "source": [
    "### Manipulacje plikami"
   ]
  },
  {
   "cell_type": "markdown",
   "metadata": {
    "slideshow": {
     "slide_type": "slide"
    }
   },
   "source": [
    "> ##### Tworzenie plików\n",
    "\n",
    "Istnieją różne sposoby tworzenia pliku. Najłatwiejszym sposobem utworzenia pustego pliku jest użycie polecenia `touch`, np.:"
   ]
  },
  {
   "cell_type": "code",
   "execution_count": null,
   "metadata": {
    "slideshow": {
     "slide_type": "fragment"
    }
   },
   "outputs": [],
   "source": [
    "touch nowyplik.txt"
   ]
  },
  {
   "cell_type": "markdown",
   "metadata": {
    "slideshow": {
     "slide_type": "subslide"
    }
   },
   "source": [
    "Zapisać linijkę tekstu do pliku, także nowego, można również przy użyciu polecenia:"
   ]
  },
  {
   "cell_type": "code",
   "execution_count": null,
   "metadata": {
    "scrolled": true,
    "slideshow": {
     "slide_type": "fragment"
    }
   },
   "outputs": [],
   "source": [
    "echo \"Hello World\""
   ]
  },
  {
   "cell_type": "code",
   "execution_count": null,
   "metadata": {
    "slideshow": {
     "slide_type": "fragment"
    }
   },
   "outputs": [],
   "source": [
    "echo \"Tutaj zapisujemy tresc pliku.\" > plik2.txt"
   ]
  },
  {
   "cell_type": "markdown",
   "metadata": {
    "slideshow": {
     "slide_type": "fragment"
    }
   },
   "source": [
    "* `>` - przekieruj dane wyjściowe do pliku, nadpisując plik\n",
    "* `>>` - przekieruj dane wyjściowe do pliku, dołączając na końcu przekierowane dane wyjściowe"
   ]
  },
  {
   "cell_type": "code",
   "execution_count": null,
   "metadata": {
    "slideshow": {
     "slide_type": "subslide"
    }
   },
   "outputs": [],
   "source": [
    "ls -lh plik2.txt"
   ]
  },
  {
   "cell_type": "markdown",
   "metadata": {
    "slideshow": {
     "slide_type": "subslide"
    }
   },
   "source": [
    "Plik został utworzony."
   ]
  },
  {
   "cell_type": "markdown",
   "metadata": {
    "slideshow": {
     "slide_type": "subslide"
    }
   },
   "source": [
    "Edytować pliki, w tym tworzyć nowe, możesz przy użyciu edytora `nano`, np. `nano plik2.txt`:"
   ]
  },
  {
   "cell_type": "markdown",
   "metadata": {
    "slideshow": {
     "slide_type": "subslide"
    }
   },
   "source": [
    "Menu edytora nano wyświetla się na dole; są to skróty klawiaturowe. Przykładowo, aby wyjść i zapisać plik należy wcisnąć `^X`, co tłumaczymy na [CTRL]+[X]. Następnie nano spyta o zapisanie zmian, które należy potwierdzić [Y]."
   ]
  },
  {
   "cell_type": "markdown",
   "metadata": {
    "slideshow": {
     "slide_type": "subslide"
    }
   },
   "source": [
    "Następnie podajemy nazwę pliku (może być wpisana przez sam edytor) i potwierdzamy wyjście klawiszem [ENTER]."
   ]
  },
  {
   "cell_type": "markdown",
   "metadata": {
    "slideshow": {
     "slide_type": "slide"
    }
   },
   "source": [
    "> ##### Zawartość pliku\n",
    "\n",
    "Do wyświetlania treści pliku służy polecenie `cat`, np. `cat plik2.txt`:"
   ]
  },
  {
   "cell_type": "code",
   "execution_count": null,
   "metadata": {
    "slideshow": {
     "slide_type": "fragment"
    }
   },
   "outputs": [],
   "source": [
    "cat plik2.txt"
   ]
  },
  {
   "cell_type": "code",
   "execution_count": null,
   "metadata": {
    "slideshow": {
     "slide_type": "fragment"
    }
   },
   "outputs": [],
   "source": [
    "cat /etc/profile"
   ]
  },
  {
   "cell_type": "markdown",
   "metadata": {
    "slideshow": {
     "slide_type": "subslide"
    }
   },
   "source": [
    "Do analizy zawartości pliku można użyć opcji `head`, `tail`, `more` i `less` (nie ma to sensu, jeśli jest to plik binarny)."
   ]
  },
  {
   "cell_type": "markdown",
   "metadata": {
    "slideshow": {
     "slide_type": "subslide"
    }
   },
   "source": [
    "`head` : Używany do drukowania pierwszych `N` wierszy pliku. Przyjmuje `N` jako dane wejściowe, a domyślna wartość `N` to `10`."
   ]
  },
  {
   "cell_type": "code",
   "execution_count": null,
   "metadata": {
    "slideshow": {
     "slide_type": "fragment"
    }
   },
   "outputs": [],
   "source": [
    "head -n 5 /etc/profile"
   ]
  },
  {
   "cell_type": "markdown",
   "metadata": {
    "slideshow": {
     "slide_type": "fragment"
    }
   },
   "source": [
    "`tail` : Używany do drukowania ostatnich `N` wierszy pliku. Przyjmuje `N` jako dane wejściowe, a domyślna wartość `N` to `10`."
   ]
  },
  {
   "cell_type": "code",
   "execution_count": null,
   "metadata": {
    "slideshow": {
     "slide_type": "fragment"
    }
   },
   "outputs": [],
   "source": [
    "tail -n 5 /etc/profile"
   ]
  },
  {
   "cell_type": "markdown",
   "metadata": {
    "slideshow": {
     "slide_type": "subslide"
    }
   },
   "source": [
    "`more` : Jest to filtr do stronicowania tekstu po jednym ekranie na raz.\n",
    "\n",
    "```sh\n",
    "more /etc/profile\n",
    "```\n",
    "\n",
    "`less` : Służy do przeglądania plików zamiast otwierania pliku. Podobny do polecenia `more`, ale umożliwia ruch zarówno do przodu, jak i do tyłu.\n",
    "\n",
    "```sh\n",
    "less /etc/profile\n",
    "```"
   ]
  },
  {
   "cell_type": "markdown",
   "metadata": {
    "slideshow": {
     "slide_type": "slide"
    }
   },
   "source": [
    "> ##### Sprawdź typ pliku\n",
    "\n",
    "`file` jest poleceniem używającym tak zwanej liczby magicznej (tradycja uniksowa) do ustalenia typu pliku."
   ]
  },
  {
   "cell_type": "code",
   "execution_count": null,
   "metadata": {
    "slideshow": {
     "slide_type": "subslide"
    }
   },
   "outputs": [],
   "source": [
    "file /etc/*"
   ]
  },
  {
   "cell_type": "markdown",
   "metadata": {
    "slideshow": {
     "slide_type": "subslide"
    }
   },
   "source": [
    "Ta metoda nie jest niezawodna, ale może być przydatna."
   ]
  },
  {
   "cell_type": "markdown",
   "metadata": {
    "slideshow": {
     "slide_type": "slide"
    }
   },
   "source": [
    "> ##### Użyte i wolne miejsce\n",
    "\n",
    "Aby sprawdzić wolne miejsce na dysku, możesz użyć `df`."
   ]
  },
  {
   "cell_type": "code",
   "execution_count": null,
   "metadata": {
    "slideshow": {
     "slide_type": "subslide"
    }
   },
   "outputs": [],
   "source": [
    "df"
   ]
  },
  {
   "cell_type": "code",
   "execution_count": null,
   "metadata": {
    "slideshow": {
     "slide_type": "subslide"
    }
   },
   "outputs": [],
   "source": [
    "df -h"
   ]
  },
  {
   "cell_type": "markdown",
   "metadata": {
    "slideshow": {
     "slide_type": "subslide"
    }
   },
   "source": [
    "Twój wynik może być tylko podobny do mojego."
   ]
  },
  {
   "cell_type": "markdown",
   "metadata": {
    "slideshow": {
     "slide_type": "subslide"
    }
   },
   "source": [
    "Aby sprawdzić używane miejsce w katalogu: `du`."
   ]
  },
  {
   "cell_type": "code",
   "execution_count": null,
   "metadata": {
    "slideshow": {
     "slide_type": "fragment"
    }
   },
   "outputs": [],
   "source": [
    "du /bin"
   ]
  },
  {
   "cell_type": "code",
   "execution_count": null,
   "metadata": {
    "slideshow": {
     "slide_type": "fragment"
    }
   },
   "outputs": [],
   "source": [
    "du -h /bin"
   ]
  },
  {
   "cell_type": "markdown",
   "metadata": {
    "slideshow": {
     "slide_type": "fragment"
    }
   },
   "source": [
    "W tym przypadku katalog `/bin/` przechowuje pliki o łącznej wielkości podanej wyżej w MB."
   ]
  },
  {
   "cell_type": "code",
   "execution_count": null,
   "metadata": {
    "slideshow": {
     "slide_type": "subslide"
    }
   },
   "outputs": [],
   "source": [
    "pwd"
   ]
  },
  {
   "cell_type": "code",
   "execution_count": null,
   "metadata": {
    "slideshow": {
     "slide_type": "fragment"
    }
   },
   "outputs": [],
   "source": [
    "du -h ."
   ]
  },
  {
   "cell_type": "markdown",
   "metadata": {
    "slideshow": {
     "slide_type": "slide"
    }
   },
   "source": [
    "> ##### Kopia pliku\n",
    "\n",
    "Kopiowanie pliku: komenda `cp źródło cel`. Przykładowe skopiowanie pliku:"
   ]
  },
  {
   "cell_type": "code",
   "execution_count": null,
   "metadata": {
    "slideshow": {
     "slide_type": "fragment"
    }
   },
   "outputs": [],
   "source": [
    "cat plik2.txt"
   ]
  },
  {
   "cell_type": "code",
   "execution_count": null,
   "metadata": {
    "slideshow": {
     "slide_type": "fragment"
    }
   },
   "outputs": [],
   "source": [
    "cat nowyplik.txt"
   ]
  },
  {
   "cell_type": "code",
   "execution_count": null,
   "metadata": {
    "slideshow": {
     "slide_type": "fragment"
    }
   },
   "outputs": [],
   "source": [
    "cp plik2.txt nowyplik.txt"
   ]
  },
  {
   "cell_type": "code",
   "execution_count": null,
   "metadata": {
    "slideshow": {
     "slide_type": "fragment"
    }
   },
   "outputs": [],
   "source": [
    "cat nowyplik.txt "
   ]
  },
  {
   "cell_type": "markdown",
   "metadata": {
    "slideshow": {
     "slide_type": "subslide"
    }
   },
   "source": [
    "Przenoszenie (lub zmiana nazwy): komenda `mv źródło cel`. Przykładowe przeniesienie pliku:"
   ]
  },
  {
   "cell_type": "code",
   "execution_count": null,
   "metadata": {
    "slideshow": {
     "slide_type": "fragment"
    }
   },
   "outputs": [],
   "source": [
    "cat plik2.txt"
   ]
  },
  {
   "cell_type": "code",
   "execution_count": null,
   "metadata": {
    "slideshow": {
     "slide_type": "fragment"
    }
   },
   "outputs": [],
   "source": [
    "cat plik3.txt"
   ]
  },
  {
   "cell_type": "code",
   "execution_count": null,
   "metadata": {
    "slideshow": {
     "slide_type": "fragment"
    }
   },
   "outputs": [],
   "source": [
    "mv plik2.txt plik3.txt"
   ]
  },
  {
   "cell_type": "code",
   "execution_count": null,
   "metadata": {
    "slideshow": {
     "slide_type": "fragment"
    }
   },
   "outputs": [],
   "source": [
    "cat plik3.txt"
   ]
  },
  {
   "cell_type": "code",
   "execution_count": null,
   "metadata": {
    "slideshow": {
     "slide_type": "fragment"
    }
   },
   "outputs": [],
   "source": [
    "cat plik2.txt"
   ]
  },
  {
   "cell_type": "markdown",
   "metadata": {
    "slideshow": {
     "slide_type": "subslide"
    }
   },
   "source": [
    "Jak widać, plik źródłowy już nie istnieje, ponieważ ma teraz nową nazwę (`plik3.txt`)."
   ]
  },
  {
   "cell_type": "markdown",
   "metadata": {
    "slideshow": {
     "slide_type": "subslide"
    }
   },
   "source": [
    "Ostatnią popularną komendą do manipulacji plikami jest `rm`, które służy do usuwania plików i katalogów. Przykładowe wywołanie:"
   ]
  },
  {
   "cell_type": "code",
   "execution_count": null,
   "metadata": {
    "slideshow": {
     "slide_type": "subslide"
    }
   },
   "outputs": [],
   "source": [
    "ls"
   ]
  },
  {
   "cell_type": "code",
   "execution_count": null,
   "metadata": {
    "slideshow": {
     "slide_type": "subslide"
    }
   },
   "outputs": [],
   "source": [
    "rm plik3.txt nowyplik.txt"
   ]
  },
  {
   "cell_type": "code",
   "execution_count": null,
   "metadata": {
    "slideshow": {
     "slide_type": "subslide"
    }
   },
   "outputs": [],
   "source": [
    "ls"
   ]
  },
  {
   "cell_type": "markdown",
   "metadata": {
    "slideshow": {
     "slide_type": "slide"
    }
   },
   "source": [
    "> ##### Uwaga\n",
    "> Wywoływanie `rm` jest niebezpieczne. Dla plików posiadających atrybut **`w`**, `rm` nie pyta o potwierdzenie, ani nie przenosi plików do kosza - `rm` je wprost usuwa. Dla plików nieposiadających atrybutu **`w`**, `rm` pyta o potwierdzenie (chyba, że wywołamy `rm -f` - wtedy też wprost je usuwa).\n",
    "\n",
    "Dodatkowym przełącznikiem, który umożliwia usuwanie również katalogów wraz z zawartością, jest `-r`. W poniższym przykładzie został utworzony najpierw pusty katalog, potem wewnątrz pusty plik. Zaprezentowano brak możliwości usunięcia katalogu (bo jest niepusty) przez polecenie `rmdir`, a następnie poprawne usunięcie dzięki `rm` z przełącznikiem `-r`.\\\n",
    "Zachowaj szczególną ostrożność, usuwając coś jako superużytkownik!"
   ]
  },
  {
   "cell_type": "code",
   "execution_count": null,
   "metadata": {
    "slideshow": {
     "slide_type": "subslide"
    }
   },
   "outputs": [],
   "source": [
    "mkdir katalog"
   ]
  },
  {
   "cell_type": "code",
   "execution_count": null,
   "metadata": {
    "slideshow": {
     "slide_type": "fragment"
    }
   },
   "outputs": [],
   "source": [
    "touch katalog/pustyplik.txt"
   ]
  },
  {
   "cell_type": "code",
   "execution_count": null,
   "metadata": {
    "slideshow": {
     "slide_type": "fragment"
    }
   },
   "outputs": [],
   "source": [
    "ls katalog/"
   ]
  },
  {
   "cell_type": "code",
   "execution_count": null,
   "metadata": {
    "slideshow": {
     "slide_type": "subslide"
    }
   },
   "outputs": [],
   "source": [
    "ls"
   ]
  },
  {
   "cell_type": "code",
   "execution_count": null,
   "metadata": {
    "slideshow": {
     "slide_type": "subslide"
    }
   },
   "outputs": [],
   "source": [
    "rmdir katalog"
   ]
  },
  {
   "cell_type": "code",
   "execution_count": null,
   "metadata": {
    "slideshow": {
     "slide_type": "fragment"
    }
   },
   "outputs": [],
   "source": [
    "rm -r katalog"
   ]
  },
  {
   "cell_type": "code",
   "execution_count": null,
   "metadata": {
    "slideshow": {
     "slide_type": "subslide"
    }
   },
   "outputs": [],
   "source": [
    "ls"
   ]
  },
  {
   "cell_type": "markdown",
   "metadata": {
    "slideshow": {
     "slide_type": "slide"
    }
   },
   "source": [
    "### Przeszukiwanie plików i katalogów (polecenia wyodrębniania, sortowania i filtrowania danych)\n",
    "\n",
    "Poszukiwanie plików odbywa się w Uniksie z pomocą komendy `find`, która ma następującą składnię:\n",
    "\n",
    "```sh\n",
    "find katalog parametry\n",
    "```"
   ]
  },
  {
   "cell_type": "markdown",
   "metadata": {
    "slideshow": {
     "slide_type": "subslide"
    }
   },
   "source": [
    "Przykładowe parametry:\n",
    "\n",
    "* `-name 'nazwa'`: poszukiwanie pliku (lub folderu) o nazwie `nazwa`,\n",
    "* `-iname 'nazwa'`: poszukiwanie pliku (lub folderu) o nazwie `nazwa`, bez zwracania uwagi na wielkość liter,\n",
    "* `-iname '*.txt'`: poszukiwanie pliku (lub folderu) o nazwie kończącej się na `.txt`, bez zwracania uwagi na wielkość liter,\n",
    "* `-name '*ala*'`: poszukiwanie pliku (lub folderu), który w nazwie ma `ala`,\n",
    "* `-type f`: ograniczenie wyników do plików,\n",
    "* `-type d`: ograniczenie wyników do katalogów."
   ]
  },
  {
   "cell_type": "markdown",
   "metadata": {
    "slideshow": {
     "slide_type": "subslide"
    }
   },
   "source": [
    "Parametry można łączyć, np. żeby znaleźć w folderze dane pliki, zawierające w nazwie `shell`, można poszukać:"
   ]
  },
  {
   "cell_type": "code",
   "execution_count": null,
   "metadata": {
    "slideshow": {
     "slide_type": "subslide"
    }
   },
   "outputs": [],
   "source": [
    "find \"/Users/miklesz/Documents/Courses\" -iname '*shell*' -type f"
   ]
  },
  {
   "cell_type": "markdown",
   "metadata": {
    "slideshow": {
     "slide_type": "slide"
    }
   },
   "source": [
    "> ##### Więcej parametrów dla `find`\n",
    "> Więcej informacji o komendzie `find`, oraz przykładowych parametrów dla niej, zobaczysz po wpisaniu:"
   ]
  },
  {
   "cell_type": "code",
   "execution_count": null,
   "metadata": {
    "slideshow": {
     "slide_type": "fragment"
    }
   },
   "outputs": [],
   "source": [
    "find"
   ]
  },
  {
   "cell_type": "markdown",
   "metadata": {
    "slideshow": {
     "slide_type": "subslide"
    }
   },
   "source": [
    "> Możesz również zajrzeć do stron manuala Uniksa:"
   ]
  },
  {
   "cell_type": "code",
   "execution_count": null,
   "metadata": {
    "slideshow": {
     "slide_type": "fragment"
    }
   },
   "outputs": [],
   "source": [
    "man find"
   ]
  },
  {
   "cell_type": "markdown",
   "metadata": {
    "slideshow": {
     "slide_type": "subslide"
    }
   },
   "source": [
    "> Wyjdziesz stamtąd po wciśnięciu [Q]."
   ]
  },
  {
   "cell_type": "markdown",
   "metadata": {
    "slideshow": {
     "slide_type": "subslide"
    }
   },
   "source": [
    "![](https://i.pinimg.com/564x/b5/8d/86/b58d867733d518239aa42edb8214edf1.jpg)"
   ]
  },
  {
   "cell_type": "markdown",
   "metadata": {
    "slideshow": {
     "slide_type": "subslide"
    }
   },
   "source": [
    "Do szukania w treści plików służy inne polecenie: `grep`, o następującej składni:\n",
    "\n",
    "```sh\n",
    "grep 'co' gdzie przełączniki\n",
    "```\n",
    "\n",
    "W przypadu tej komendy, `gdzie` musi być plikiem, no chyba że podamy przełącznik `-R`, wtedy `gdzie` musi być katalogiem.\n",
    "\n",
    "Dodatkowym przydatnym przełącznikiem jest `-n`, które w wynikach pokaże numer linii."
   ]
  },
  {
   "cell_type": "markdown",
   "metadata": {
    "slideshow": {
     "slide_type": "subslide"
    }
   },
   "source": [
    "Przykład wyszukiwania określonego tekstu w pliku:"
   ]
  },
  {
   "cell_type": "code",
   "execution_count": null,
   "metadata": {
    "slideshow": {
     "slide_type": "fragment"
    }
   },
   "outputs": [],
   "source": [
    "cat /etc/profile"
   ]
  },
  {
   "cell_type": "code",
   "execution_count": null,
   "metadata": {
    "slideshow": {
     "slide_type": "fragment"
    }
   },
   "outputs": [],
   "source": [
    "grep -n file /etc/profile"
   ]
  },
  {
   "cell_type": "markdown",
   "metadata": {
    "slideshow": {
     "slide_type": "subslide"
    }
   },
   "source": [
    "`sort` : To polecenie służy do sortowania zawartości plików."
   ]
  },
  {
   "cell_type": "code",
   "execution_count": null,
   "metadata": {
    "slideshow": {
     "slide_type": "fragment"
    }
   },
   "outputs": [],
   "source": [
    "cat /etc/profile"
   ]
  },
  {
   "cell_type": "code",
   "execution_count": null,
   "metadata": {
    "slideshow": {
     "slide_type": "subslide"
    }
   },
   "outputs": [],
   "source": [
    "sort /etc/profile"
   ]
  },
  {
   "cell_type": "code",
   "execution_count": null,
   "metadata": {
    "slideshow": {
     "slide_type": "fragment"
    }
   },
   "outputs": [],
   "source": [
    "sort -r /etc/profile"
   ]
  },
  {
   "cell_type": "code",
   "execution_count": null,
   "metadata": {
    "slideshow": {
     "slide_type": "subslide"
    }
   },
   "outputs": [],
   "source": [
    "sort -R /etc/profile"
   ]
  },
  {
   "cell_type": "code",
   "execution_count": null,
   "metadata": {
    "slideshow": {
     "slide_type": "fragment"
    }
   },
   "outputs": [],
   "source": [
    "sort -R /etc/profile"
   ]
  },
  {
   "cell_type": "markdown",
   "metadata": {
    "slideshow": {
     "slide_type": "subslide"
    }
   },
   "source": [
    "`wc` : Służy do zliczania liczby linii, słów, znaków w pliku."
   ]
  },
  {
   "cell_type": "code",
   "execution_count": null,
   "metadata": {
    "slideshow": {
     "slide_type": "fragment"
    }
   },
   "outputs": [],
   "source": [
    "wc /etc/profile"
   ]
  },
  {
   "cell_type": "code",
   "execution_count": null,
   "metadata": {
    "slideshow": {
     "slide_type": "fragment"
    }
   },
   "outputs": [],
   "source": [
    "wc -l /etc/profile"
   ]
  },
  {
   "cell_type": "code",
   "execution_count": null,
   "metadata": {
    "slideshow": {
     "slide_type": "fragment"
    }
   },
   "outputs": [],
   "source": [
    "wc -w /etc/profile"
   ]
  },
  {
   "cell_type": "code",
   "execution_count": null,
   "metadata": {
    "slideshow": {
     "slide_type": "fragment"
    }
   },
   "outputs": [],
   "source": [
    "wc -m /etc/profile"
   ]
  },
  {
   "cell_type": "markdown",
   "metadata": {
    "slideshow": {
     "slide_type": "subslide"
    }
   },
   "source": [
    "`cut` : jest komendą uniksowego [wiersza poleceń](https://pl.wikipedia.org/wiki/Wiersz_polece%C5%84), służącą do wycinania określonej części [pliku](https://pl.wikipedia.org/wiki/Plik).\n",
    "\n",
    "Używa się go do wyciągania części z każdej linii wejścia. Zazwyczaj polecenie to jest używane do wyciągania części z plików. Służą do tego sprecyzowane parametry:\n",
    "\n",
    "* (`-b`) – dla określonych [bajtów](https://pl.wikipedia.org/wiki/Bajt) (ang. *bytes*)\n",
    "* (`-c`) – dla określonych znaków (ang. *characters*)\n",
    "* (`-f`) – dla określonych pól (ang. *fields*)\n",
    "* (`-d`) – separator (ang. *delimiter*). Znak po `-d` jest separatorem. Standardowym separatorem jest: [tab](https://pl.wikipedia.org/wiki/Tab) ale mogą być też inne symbole np. dwukropek"
   ]
  },
  {
   "cell_type": "markdown",
   "metadata": {
    "slideshow": {
     "slide_type": "subslide"
    }
   },
   "source": [
    "Zasięg musi zawierać w każdym przypadku jeden z warunków `N`, `N-M`, `N-` (od `N` do końca linii), lub `-M` (od rozpoczęcia linii do `M`)."
   ]
  },
  {
   "cell_type": "code",
   "execution_count": null,
   "metadata": {
    "slideshow": {
     "slide_type": "subslide"
    }
   },
   "outputs": [],
   "source": [
    "cat /etc/profile"
   ]
  },
  {
   "cell_type": "code",
   "execution_count": null,
   "metadata": {
    "slideshow": {
     "slide_type": "fragment"
    }
   },
   "outputs": [],
   "source": [
    "cut -c 2-4 /etc/profile"
   ]
  },
  {
   "cell_type": "markdown",
   "metadata": {
    "slideshow": {
     "slide_type": "slide"
    }
   },
   "source": [
    "## Zmienne środowiskowe\n",
    "\n",
    "[Zmienna środowiskowa](https://pl.wikipedia.org/wiki/Zmienna_%C5%9Brodowiskowa) (ang. *environment variable*) to nazwana wartość, zazwyczaj zawierająca ciąg znaków, przechowywana i zarządzana przez [powłokę](https://pl.wikipedia.org/wiki/Pow%C5%82oka_systemowa). Zmienna środowiskowa może wpływać na działanie procesów uruchamianych w systemie operacyjnym i wtedy staje się pewnym mechanizmem komunikacji lub też przechowywać wartość w celu jej późniejszego użycia.\n",
    "\n",
    "W systemach [uniksowych](https://pl.wikipedia.org/wiki/Unix), a także w systemach [DOS](https://pl.wikipedia.org/wiki/DOS) i [Windows](https://pl.wikipedia.org/wiki/Microsoft_Windows) każdy proces posiada swój zestaw zmiennych środowiskowych. Nowo tworzony proces dziedziczy zmienne środowiskowe swojego procesu rodzicielskiego, chyba że ten ostatni zmieni wartości niektórych z nich podczas tworzenia procesu potomnego.\n",
    "\n",
    "Zmienne środowiskowe odgrywają ważną rolę i większość programów uzyskuje różne parametry przez zmienne środowiskowe."
   ]
  },
  {
   "cell_type": "markdown",
   "metadata": {
    "slideshow": {
     "slide_type": "subslide"
    }
   },
   "source": [
    "Część zmiennych środowiskowych jest ustawiana przy starcie powłoki i nie można ich zmienić, np. `USER` (nazwa użytkownika), `SHELL` (używana powłoka).\n",
    "\n",
    "Część zmiennych środowiskowych można dowolnie ustawiać, ale są one niezbędne do prawidłowej pracy, np. `PATH` (zawiera listę kartotek, w których są poszukiwane programy).\n",
    "\n",
    "Pewna liczba zmiennych środowiskowych nie ma sformalizowanego znaczenia, ale tradycyjnie przyjęło się ich używać, np. `EDITOR` (wskazuje program używany jako domyślny edytor tekstu). Niektóre programy mają opisane jakie dodatkowe zmienne środowiskowe wpływają na ich działanie.\n",
    "\n",
    "Poza tym użytkownik może definiować w sposób zupełnie dowolny swoje zmienne i używać ich w dowolnym celu."
   ]
  },
  {
   "cell_type": "markdown",
   "metadata": {
    "slideshow": {
     "slide_type": "subslide"
    }
   },
   "source": [
    "Wartość zmiennej o nazwie VAR można sprawdzić poleceniem (odwołanie do wartości następuje przez znak `$` przed nazwą zmiennej):"
   ]
  },
  {
   "cell_type": "markdown",
   "metadata": {
    "slideshow": {
     "slide_type": "fragment"
    }
   },
   "source": [
    "```sh\n",
    "echo $VAR\n",
    "```"
   ]
  },
  {
   "cell_type": "code",
   "execution_count": null,
   "metadata": {
    "slideshow": {
     "slide_type": "subslide"
    }
   },
   "outputs": [],
   "source": [
    "echo $USER"
   ]
  },
  {
   "cell_type": "code",
   "execution_count": null,
   "metadata": {
    "slideshow": {
     "slide_type": "fragment"
    }
   },
   "outputs": [],
   "source": [
    "echo $SHELL"
   ]
  },
  {
   "cell_type": "code",
   "execution_count": null,
   "metadata": {
    "slideshow": {
     "slide_type": "fragment"
    }
   },
   "outputs": [],
   "source": [
    "echo $PATH"
   ]
  },
  {
   "cell_type": "code",
   "execution_count": null,
   "metadata": {
    "slideshow": {
     "slide_type": "fragment"
    }
   },
   "outputs": [],
   "source": [
    "echo $EDITOR"
   ]
  },
  {
   "cell_type": "markdown",
   "metadata": {
    "slideshow": {
     "slide_type": "slide"
    }
   },
   "source": [
    "## Zestaw najważniejszych poleceń"
   ]
  },
  {
   "cell_type": "markdown",
   "metadata": {
    "slideshow": {
     "slide_type": "slide"
    }
   },
   "source": [
    "### Zarządzanie plikami"
   ]
  },
  {
   "cell_type": "markdown",
   "metadata": {
    "slideshow": {
     "slide_type": "subslide"
    }
   },
   "source": [
    "* `cat` – wypisywanie i łączenie plików\n",
    "* `chmod` – zmiana praw dostępu do pliku\n",
    "* `cd` – zmiana bieżącego katalogu, użyty bez argumentów powraca do katalogu domowego\n",
    "* `cp` – kopiowanie plików\n",
    "* `df` – wypisywanie wolnej przestrzeni zamontowanych systemów plików\n",
    "* `du` – wyświetla ilość miejsca zajmowanego przez pliki/katalogi\n",
    "* `file` – ustalanie typu danych zawartych w pliku\n",
    "* `find` – przeszukiwanie systemu plików\n",
    "* `ls` – listowanie zawartości katalogu\n",
    "* `mkdir` – tworzenie katalogów\n",
    "* `mv` – przenoszenie/zmiana nazwy pliku\n",
    "* `pwd` – wydruk aktualnego katalogu\n",
    "* `rm` – usuwanie plików i katalogów.\n",
    "* `rmdir` – usuwanie katalogów\n",
    "* `touch` – zamiana daty ostatniej modyfikacji, lub dostępu do pliku bądź utworzenie pustego pliku"
   ]
  },
  {
   "cell_type": "markdown",
   "metadata": {
    "slideshow": {
     "slide_type": "slide"
    }
   },
   "source": [
    "### Zarządzanie systemem plików"
   ]
  },
  {
   "cell_type": "markdown",
   "metadata": {
    "slideshow": {
     "slide_type": "fragment"
    }
   },
   "source": [
    "* `df` – sprawdzanie przestrzeni (również wolnej) na dyskach"
   ]
  },
  {
   "cell_type": "markdown",
   "metadata": {
    "slideshow": {
     "slide_type": "slide"
    }
   },
   "source": [
    "### Zarządzanie użytkownikami i systemem"
   ]
  },
  {
   "cell_type": "markdown",
   "metadata": {
    "slideshow": {
     "slide_type": "fragment"
    }
   },
   "source": [
    "* `su` – logowanie na konto innego użytkownika (patrz niżej)\n",
    "* `whoami` – pokazuje bieżący efektywny uid, czyli identyfikator użytkownika, z którego prawami działamy"
   ]
  },
  {
   "cell_type": "markdown",
   "metadata": {
    "slideshow": {
     "slide_type": "slide"
    }
   },
   "source": [
    "### Przetwarzanie tekstu"
   ]
  },
  {
   "cell_type": "markdown",
   "metadata": {
    "slideshow": {
     "slide_type": "fragment"
    }
   },
   "source": [
    "* `cut` – wycina określone znaki z wejścia (zazwyczaj z pliku)\n",
    "* `grep` – wypisywanie linii pasujących do wzorca\n",
    "* `head` – wypisanie pierwszych 10 linijek tekstu\n",
    "* `more` – rozwinięcie o sterowanie strumieniem\n",
    "* `less` – dla dużych ilości tekstów\n",
    "* `tail` – wypisanie ostatnich 10 linijek tekstu, także używane w diagnostyce (patrz niżej)"
   ]
  },
  {
   "cell_type": "markdown",
   "metadata": {
    "slideshow": {
     "slide_type": "slide"
    }
   },
   "source": [
    "### Operacje wejścia/wyjścia"
   ]
  },
  {
   "cell_type": "markdown",
   "metadata": {
    "slideshow": {
     "slide_type": "fragment"
    }
   },
   "source": [
    "* `echo` – druk na standardowe wyjście"
   ]
  },
  {
   "cell_type": "markdown",
   "metadata": {
    "slideshow": {
     "slide_type": "slide"
    }
   },
   "source": [
    "### Inne"
   ]
  },
  {
   "cell_type": "markdown",
   "metadata": {
    "slideshow": {
     "slide_type": "fragment"
    }
   },
   "source": [
    "* `man` – podręcznik elektroniczny"
   ]
  },
  {
   "cell_type": "markdown",
   "metadata": {
    "slideshow": {
     "slide_type": "slide"
    }
   },
   "source": [
    "## Ćwiczenia"
   ]
  },
  {
   "cell_type": "markdown",
   "metadata": {
    "slideshow": {
     "slide_type": "slide"
    }
   },
   "source": [
    "### Katalogi"
   ]
  },
  {
   "cell_type": "markdown",
   "metadata": {
    "slideshow": {
     "slide_type": "slide"
    }
   },
   "source": [
    "#### Ćwiczenie"
   ]
  },
  {
   "cell_type": "markdown",
   "metadata": {
    "slideshow": {
     "slide_type": "fragment"
    }
   },
   "source": [
    "Wyświetl wszystkie katalogi w katalogu nadrzędnym."
   ]
  },
  {
   "cell_type": "markdown",
   "metadata": {
    "slideshow": {
     "slide_type": "slide"
    }
   },
   "source": [
    "#### Rozwiązanie"
   ]
  },
  {
   "cell_type": "code",
   "execution_count": null,
   "metadata": {
    "slideshow": {
     "slide_type": "fragment"
    }
   },
   "outputs": [],
   "source": [
    "ls -d ../*"
   ]
  },
  {
   "cell_type": "markdown",
   "metadata": {
    "slideshow": {
     "slide_type": "slide"
    }
   },
   "source": [
    "### Pliki"
   ]
  },
  {
   "cell_type": "markdown",
   "metadata": {
    "slideshow": {
     "slide_type": "slide"
    }
   },
   "source": [
    "#### Ćwiczenie"
   ]
  },
  {
   "cell_type": "markdown",
   "metadata": {
    "slideshow": {
     "slide_type": "fragment"
    }
   },
   "source": [
    "* Utwórz folder `foo/bar/baz`.\n",
    "* Utwórz plik zawierający „`Hello world`” o nazwie `hello.txt` w katalogu `foo/bar`.\n",
    "* Usuń folder `foo` i wszystko, co się w nim znajduje, w tym podkatalogi."
   ]
  },
  {
   "cell_type": "markdown",
   "metadata": {
    "slideshow": {
     "slide_type": "slide"
    }
   },
   "source": [
    "#### Rozwiązanie"
   ]
  },
  {
   "cell_type": "code",
   "execution_count": null,
   "metadata": {
    "slideshow": {
     "slide_type": "fragment"
    }
   },
   "outputs": [],
   "source": [
    "mkdir -p foo/bar/baz"
   ]
  },
  {
   "cell_type": "code",
   "execution_count": null,
   "metadata": {
    "slideshow": {
     "slide_type": "fragment"
    }
   },
   "outputs": [],
   "source": [
    "echo \"Hello world\" > foo/bar/hello.txt"
   ]
  },
  {
   "cell_type": "code",
   "execution_count": null,
   "metadata": {
    "slideshow": {
     "slide_type": "fragment"
    }
   },
   "outputs": [],
   "source": [
    "rm -rf foo"
   ]
  },
  {
   "cell_type": "code",
   "execution_count": null,
   "metadata": {
    "slideshow": {
     "slide_type": "skip"
    }
   },
   "outputs": [],
   "source": []
  }
 ],
 "metadata": {
  "celltoolbar": "Slideshow",
  "kernelspec": {
   "display_name": "Bash",
   "language": "bash",
   "name": "bash"
  },
  "language_info": {
   "codemirror_mode": "shell",
   "file_extension": ".sh",
   "mimetype": "text/x-sh",
   "name": "bash"
  }
 },
 "nbformat": 4,
 "nbformat_minor": 4
}
