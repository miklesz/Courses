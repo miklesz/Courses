{
 "cells": [
  {
   "cell_type": "markdown",
   "id": "8e07295b",
   "metadata": {
    "slideshow": {
     "slide_type": "slide"
    }
   },
   "source": [
    "# Digital Image Filters\n",
    "\n",
    "_Authors: Mikołaj Leszczuk, Zbigniew Hulicki, Jakub Nawała_\n",
    "\n",
    "[http://qoe.agh.edu.pl](http://qoe.agh.edu.pl)"
   ]
  },
  {
   "cell_type": "markdown",
   "id": "69cdd990",
   "metadata": {
    "slideshow": {
     "slide_type": "slide"
    }
   },
   "source": [
    "##  Digital Image Filters"
   ]
  },
  {
   "cell_type": "markdown",
   "id": "1e1327bd",
   "metadata": {
    "slideshow": {
     "slide_type": "fragment"
    }
   },
   "source": [
    "* Image filtering – a process in which a number, quantity etc., of image pixels is altered or manipulated according to formal (i.e., mathematical) rules/ operations and result in a new, modified image\n",
    "* Image filtering is called as the context transformation because to get/compute a new pixel value in the modified image it does require an information from a numer of pixels in the source image"
   ]
  },
  {
   "cell_type": "markdown",
   "id": "33d988f9",
   "metadata": {
    "slideshow": {
     "slide_type": "slide"
    }
   },
   "source": [
    "## The Purpose of Filtering"
   ]
  },
  {
   "cell_type": "markdown",
   "id": "4734302b",
   "metadata": {
    "slideshow": {
     "slide_type": "fragment"
    }
   },
   "source": [
    "Filtering of images is used to get from the source image some other useful information (e.g. positions of edges, corners, objects) which can be utilized for further processing"
   ]
  },
  {
   "cell_type": "markdown",
   "id": "0a2f9e76",
   "metadata": {
    "slideshow": {
     "slide_type": "subslide"
    }
   },
   "source": [
    "![](purpose.png)"
   ]
  },
  {
   "cell_type": "markdown",
   "id": "1f93f130",
   "metadata": {
    "slideshow": {
     "slide_type": "slide"
    }
   },
   "source": [
    "## The Objective of Filtering"
   ]
  },
  {
   "cell_type": "markdown",
   "id": "c424a1d8",
   "metadata": {
    "slideshow": {
     "slide_type": "fragment"
    }
   },
   "source": [
    "* remove unwanted noise in the image\n",
    "* improve the image sharpness\n",
    "* extract specific image features/characteristics\n",
    "* blur the image\n",
    "* remove image drawbacks\n",
    "* improve a low technical quality of the image\n",
    "* reconstruct the image after its degradation"
   ]
  },
  {
   "cell_type": "markdown",
   "id": "3f633746",
   "metadata": {
    "slideshow": {
     "slide_type": "subslide"
    }
   },
   "source": [
    "![](objective.png)"
   ]
  },
  {
   "cell_type": "markdown",
   "id": "6a98a966",
   "metadata": {
    "slideshow": {
     "slide_type": "slide"
    }
   },
   "source": [
    "## Digital Image Filters as Part of the Pre-Processing for Artificial Intelligence"
   ]
  },
  {
   "cell_type": "markdown",
   "id": "ac1f6a3b",
   "metadata": {
    "slideshow": {
     "slide_type": "fragment"
    }
   },
   "source": [
    "* Before a computer vision method can be applied to image data in order to extract some specific piece of information, it is usually necessary to process the data in order to assure that it satisfies certain assumptions implied by the method"
   ]
  },
  {
   "cell_type": "markdown",
   "id": "86ca54d1",
   "metadata": {
    "slideshow": {
     "slide_type": "subslide"
    }
   },
   "source": [
    "* Examples are:\n",
    "  * **Digital image filters**\n",
    "  * Re-sampling to assure that the image coordinate system is correct\n",
    "  * Noise reduction to assure that sensor noise does not introduce false information\n",
    "  * Contrast enhancement to assure that relevant information can be detected\n",
    "  * Scale space representation to enhance image structures at locally appropriate scales"
   ]
  },
  {
   "cell_type": "markdown",
   "id": "9291c41e",
   "metadata": {
    "slideshow": {
     "slide_type": "slide"
    }
   },
   "source": [
    "## The Image Filtering"
   ]
  },
  {
   "cell_type": "markdown",
   "id": "b5761b3e",
   "metadata": {
    "slideshow": {
     "slide_type": "fragment"
    }
   },
   "source": [
    "![](filtering.png)"
   ]
  },
  {
   "cell_type": "markdown",
   "id": "1dfb46c7",
   "metadata": {
    "slideshow": {
     "slide_type": "slide"
    }
   },
   "source": [
    "## Filtering in the Frequency Domain"
   ]
  },
  {
   "cell_type": "markdown",
   "id": "11557839",
   "metadata": {
    "slideshow": {
     "slide_type": "fragment"
    }
   },
   "source": [
    "![](frequency.png)"
   ]
  },
  {
   "cell_type": "markdown",
   "id": "c36d0717",
   "metadata": {
    "slideshow": {
     "slide_type": "slide"
    }
   },
   "source": [
    "## Filtering in the Spatial Domain"
   ]
  },
  {
   "cell_type": "markdown",
   "id": "624f6a53",
   "metadata": {
    "slideshow": {
     "slide_type": "fragment"
    }
   },
   "source": [
    "![](spatial.png)"
   ]
  },
  {
   "cell_type": "markdown",
   "id": "67ff98af",
   "metadata": {
    "slideshow": {
     "slide_type": "slide"
    }
   },
   "source": [
    "## Linear Filtering"
   ]
  },
  {
   "cell_type": "markdown",
   "id": "99e2dacf",
   "metadata": {
    "slideshow": {
     "slide_type": "subslide"
    }
   },
   "source": [
    "Each neighbour pixel has an input onto the final pixel value (after filtering) according to the formula:\n",
    "\n",
    "$$p[m,n]=\\frac{\\sum_a\\sum_bpz[a,b]\\cdot{pf}[m-a,n-b]}{K}$$\n",
    "\n",
    "* $p$ – pixel value after filtering,\n",
    "* $pz$ – subsequent pixel value of the original image,\n",
    "* $pf$ – subsequent weight value in a filter,\n",
    "* $K$ – the sum of weight values in a filter, ev. 1 if the sum is 0."
   ]
  },
  {
   "cell_type": "markdown",
   "id": "1e6e00c9",
   "metadata": {
    "slideshow": {
     "slide_type": "slide"
    }
   },
   "source": [
    "## Kernel"
   ]
  },
  {
   "cell_type": "markdown",
   "id": "2e550a14",
   "metadata": {
    "slideshow": {
     "slide_type": "fragment"
    }
   },
   "source": [
    "* A square matrix\n",
    "* Also called a mask\n",
    "* Its shape and contents define its operation\n",
    "* Has an anchor point\n",
    "  * Also called a zero-zero index or a center point"
   ]
  },
  {
   "cell_type": "markdown",
   "id": "312727d0",
   "metadata": {
    "slideshow": {
     "slide_type": "fragment"
    }
   },
   "source": [
    "| | | |\n",
    "| -- | -- | -- |\n",
    "| $$\\frac{1}{9}$$ | $$\\frac{1}{9}$$ | $$\\frac{1}{9}$$ |\n",
    "| $$\\frac{1}{9}$$ | $$\\frac{1}{9}$$ | $$\\frac{1}{9}$$ |\n",
    "| $$\\frac{1}{9}$$ | $$\\frac{1}{9}$$ | $$\\frac{1}{9}$$ |"
   ]
  },
  {
   "cell_type": "markdown",
   "id": "43469abc",
   "metadata": {
    "slideshow": {
     "slide_type": "slide"
    }
   },
   "source": [
    "## Naming Convention"
   ]
  },
  {
   "cell_type": "markdown",
   "id": "f0eedf6d",
   "metadata": {
    "slideshow": {
     "slide_type": "fragment"
    }
   },
   "source": [
    "* Digital images filtering\n",
    "* Kernel filtering\n",
    "* Box filtering\n",
    "* All mean the same"
   ]
  },
  {
   "cell_type": "markdown",
   "id": "e11c5727",
   "metadata": {
    "slideshow": {
     "slide_type": "subslide"
    }
   },
   "source": [
    "![](naming_0.png)"
   ]
  },
  {
   "cell_type": "markdown",
   "id": "8bf796af",
   "metadata": {
    "slideshow": {
     "slide_type": "subslide"
    }
   },
   "source": [
    "![](naming_1.png)"
   ]
  },
  {
   "cell_type": "markdown",
   "id": "0fb33c44",
   "metadata": {
    "slideshow": {
     "slide_type": "subslide"
    }
   },
   "source": [
    "![](naming_2.png)"
   ]
  },
  {
   "cell_type": "markdown",
   "id": "1ec985b9",
   "metadata": {
    "slideshow": {
     "slide_type": "slide"
    }
   },
   "source": [
    "## Principle of Operation"
   ]
  },
  {
   "cell_type": "markdown",
   "id": "8e631ef3",
   "metadata": {
    "slideshow": {
     "slide_type": "fragment"
    }
   },
   "source": [
    "* Shift and multiply"
   ]
  },
  {
   "cell_type": "markdown",
   "id": "e4e6dcb6",
   "metadata": {
    "slideshow": {
     "slide_type": "fragment"
    }
   },
   "source": [
    "$I:$"
   ]
  },
  {
   "cell_type": "markdown",
   "id": "0a015c41",
   "metadata": {
    "slideshow": {
     "slide_type": "fragment"
    }
   },
   "source": [
    "| | | | |\n",
    "| -- | -- | -- | -- |\n",
    "| 10 | 13 | 24 | 23 |\n",
    "| 17 | **71** | **61** | **29** |\n",
    "| 95 | **73** | **64** | **34** |\n",
    "| 92 | **75** | **96** | **95** |"
   ]
  },
  {
   "cell_type": "markdown",
   "id": "7a6b54d5",
   "metadata": {
    "slideshow": {
     "slide_type": "subslide"
    }
   },
   "source": [
    "| | | |\n",
    "| -- | -- | -- |\n",
    "| $$\\frac{1}{9}$$ | $$\\frac{1}{9}$$ | $$\\frac{1}{9}$$ |\n",
    "| $$\\frac{1}{9}$$ | $$\\frac{1}{9}$$ | $$\\frac{1}{9}$$ |\n",
    "| $$\\frac{1}{9}$$ | $$\\frac{1}{9}$$ | $$\\frac{1}{9}$$ |"
   ]
  },
  {
   "cell_type": "markdown",
   "id": "3f8ee91c",
   "metadata": {
    "slideshow": {
     "slide_type": "fragment"
    }
   },
   "source": [
    "$$I(2,2)=\\frac{1}{9}\\cdot71+\\frac{1}{9}\\cdot61+\\cdots+\\frac{1}{9}\\cdot95$$"
   ]
  },
  {
   "cell_type": "markdown",
   "id": "6d1f4e90",
   "metadata": {
    "slideshow": {
     "slide_type": "subslide"
    }
   },
   "source": [
    "* A general formula\n",
    "$$O\\left( i,j \\right) = \\sum^{ \\lfloor{ \\frac{M}{2} } \\rfloor }_{m=- \\lfloor{ \\frac{M}{2} } \\rfloor } \\sum ^{\\lfloor{ \\frac{M}{2} } \\rfloor}_{n=- \\lfloor{\\frac{M}{2} } \\rfloor} \\left( k \\left( m,n \\right) \\cdot I\\left( i-m, j-n\\right) \\right)$$\n",
    "* For a kernel of size ${M}\\times{M}$ pixels\n",
    "* $O$ - output image, $I$ - input image, $k$ - kernel\n",
    "* $I(i, j)$ - pixel at the $i$-th row and $j$-th column\n",
    "* $\\lfloor{ X } \\rfloor$ - a floor function (round down to the nearest integer)"
   ]
  },
  {
   "cell_type": "markdown",
   "id": "012da628",
   "metadata": {
    "slideshow": {
     "slide_type": "slide"
    }
   },
   "source": [
    "## Non-Linear Filtering"
   ]
  },
  {
   "cell_type": "markdown",
   "id": "c714d043",
   "metadata": {
    "slideshow": {
     "slide_type": "fragment"
    }
   },
   "source": [
    "* In [signal processing](https://en.wikipedia.org/wiki/Signal_processing), a **nonlinear** (or **non-linear**) **filter** is a filter whose output is not a linear function of its input.\n",
    "* That is, if the filter outputs signals $R$ and $S$ for two input signals $r$ and $s$ separately, but does not always output $αR + βS$ when the input is a linear combination $αr + βs$."
   ]
  },
  {
   "cell_type": "markdown",
   "id": "e7bb68f3",
   "metadata": {
    "slideshow": {
     "slide_type": "fragment"
    }
   },
   "source": [
    "Examples of nonlinear filters include:\n",
    "* Bilateral filter\n",
    "* Median filter"
   ]
  },
  {
   "cell_type": "markdown",
   "id": "fd3919b7",
   "metadata": {
    "slideshow": {
     "slide_type": "slide"
    }
   },
   "source": [
    "## Edge Handling"
   ]
  },
  {
   "cell_type": "markdown",
   "id": "ea65941e",
   "metadata": {
    "slideshow": {
     "slide_type": "fragment"
    }
   },
   "source": [
    "* Several strategies possible\n",
    "  * Crop\n",
    "  * Extend\n",
    "  * Mirror\n",
    "  * Wrap"
   ]
  },
  {
   "cell_type": "markdown",
   "id": "3d258854",
   "metadata": {
    "slideshow": {
     "slide_type": "fragment"
    }
   },
   "source": [
    "$I:$"
   ]
  },
  {
   "cell_type": "markdown",
   "id": "8a4a1446",
   "metadata": {
    "slideshow": {
     "slide_type": "fragment"
    }
   },
   "source": [
    "| | | | | |\n",
    "| -- | -- | -- | -- | -- |\n",
    "| **??** | **??** | **??** | | |\n",
    "| **??** | **10** | **13** | 24 | 23 |\n",
    "| **??** | **17** | **71** | 61 | 29 |\n",
    "| | 95 | 73 | 64 | 34 |\n",
    "| | 92 | 75 | 96 | 95 |"
   ]
  },
  {
   "cell_type": "code",
   "execution_count": null,
   "id": "b4541818",
   "metadata": {
    "slideshow": {
     "slide_type": "skip"
    }
   },
   "outputs": [],
   "source": []
  }
 ],
 "metadata": {
  "celltoolbar": "Slideshow",
  "kernelspec": {
   "display_name": "Python 3 (ipykernel)",
   "language": "python",
   "name": "python3"
  },
  "language_info": {
   "codemirror_mode": {
    "name": "ipython",
    "version": 3
   },
   "file_extension": ".py",
   "mimetype": "text/x-python",
   "name": "python",
   "nbconvert_exporter": "python",
   "pygments_lexer": "ipython3",
   "version": "3.11.5"
  }
 },
 "nbformat": 4,
 "nbformat_minor": 5
}
