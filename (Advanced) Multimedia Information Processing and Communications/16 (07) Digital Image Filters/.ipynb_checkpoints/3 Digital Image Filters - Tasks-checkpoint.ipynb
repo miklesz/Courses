{
 "cells": [
  {
   "cell_type": "markdown",
   "id": "647250b2",
   "metadata": {
    "slideshow": {
     "slide_type": "slide"
    }
   },
   "source": [
    "# Digital Image Filters - Tasks\n",
    "\n",
    "## Introduction to Image Processing Using Matlab\n",
    "\n",
    "_Authors: Mikołaj Leszczuk, Zbigniew Hulicki, Jakub Nawała_\n",
    "\n",
    "[http://qoe.agh.edu.pl](http://qoe.agh.edu.pl)"
   ]
  },
  {
   "cell_type": "markdown",
   "id": "0655d826",
   "metadata": {
    "slideshow": {
     "slide_type": "slide"
    }
   },
   "source": [
    "## Task"
   ]
  },
  {
   "cell_type": "markdown",
   "id": "aa56088a",
   "metadata": {
    "slideshow": {
     "slide_type": "fragment"
    }
   },
   "source": [
    "1. Create a new script and call it `my_filter`.\n",
    "1. Clear the workspace (reference source code examples for hints).\n",
    "1. Load the image of your choice.\n",
    "1. Convert the image to `float`\n",
    "1. Use the an appropriate function to apply the “gaussian” filter\n",
    "1. Display the original and output image in the same plot (reference source code examples for hints).\n",
    "1. Repeat the steps with other images.\n"
   ]
  },
  {
   "cell_type": "markdown",
   "id": "f8f3ce7b",
   "metadata": {
    "slideshow": {
     "slide_type": "slide"
    }
   },
   "source": [
    "## Additional Task"
   ]
  },
  {
   "cell_type": "markdown",
   "id": "d48884ef",
   "metadata": {
    "slideshow": {
     "slide_type": "fragment"
    }
   },
   "source": [
    "The best way to get an in-depth understanding of filtration is to write it by yourself. We encourage you to implement blurring filtration with the gaussian filter (reference [this site](https://homepages.inf.ed.ac.uk/rbf/HIPR2/gsmooth.htm) for details). Please do not use any advanced functions and instead, traverse the image on a pixel-by-pixel basis.\n",
    "\n",
    "The kernel of the filter should have a size of 5x5 pixels. You should set the mean and standard deviation to `0.0` and `2.0`, respectively. Before filtering, please convert the input image to a grayscale representation (a single 8-bit channel).\n",
    "\n",
    "The task is worth 7 points, and a deadline is the end of the semester. We expect a source code, which we could test with our image samples. We prefer Python 3, but accept the language of your choice if Python is not your thing. "
   ]
  },
  {
   "cell_type": "markdown",
   "id": "3383a0fa",
   "metadata": {
    "slideshow": {
     "slide_type": "subslide"
    }
   },
   "source": [
    "![](additional_0.png)"
   ]
  },
  {
   "cell_type": "markdown",
   "id": "a79aa269",
   "metadata": {
    "slideshow": {
     "slide_type": "subslide"
    }
   },
   "source": [
    "![](additional_1.png)"
   ]
  },
  {
   "cell_type": "markdown",
   "id": "27851ca4",
   "metadata": {
    "slideshow": {
     "slide_type": "subslide"
    }
   },
   "source": [
    "![](additional_2.png)"
   ]
  },
  {
   "cell_type": "markdown",
   "id": "d39b29a7",
   "metadata": {
    "slideshow": {
     "slide_type": "skip"
    }
   },
   "source": []
  }
 ],
 "metadata": {
  "celltoolbar": "Slideshow",
  "kernelspec": {
   "display_name": "Python 3 (ipykernel)",
   "language": "python",
   "name": "python3"
  },
  "language_info": {
   "codemirror_mode": {
    "name": "ipython",
    "version": 3
   },
   "file_extension": ".py",
   "mimetype": "text/x-python",
   "name": "python",
   "nbconvert_exporter": "python",
   "pygments_lexer": "ipython3",
   "version": "3.10.7"
  }
 },
 "nbformat": 4,
 "nbformat_minor": 5
}
