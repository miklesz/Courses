{
 "cells": [
  {
   "cell_type": "markdown",
   "id": "b9c8e2d4",
   "metadata": {
    "slideshow": {
     "slide_type": "slide"
    }
   },
   "source": [
    "# Image Processing Software - Tasks\n",
    "\n",
    "_Mikołaj Leszczuk_\n",
    "\n",
    "<!--![](https://i.creativecommons.org/l/by/4.0/88x31.png)-->"
   ]
  },
  {
   "cell_type": "markdown",
   "id": "04ad978b",
   "metadata": {
    "slideshow": {
     "slide_type": "slide"
    }
   },
   "source": [
    "## Tasks"
   ]
  },
  {
   "cell_type": "markdown",
   "id": "7d2f2fae",
   "metadata": {
    "slideshow": {
     "slide_type": "fragment"
    }
   },
   "source": [
    "Please do the following tasks, trying to complement the code in the programming environment with Python. Probably it is enough to create one file with the source code, which will be gradually expanded. Be original, choose the image"
   ]
  },
  {
   "cell_type": "markdown",
   "id": "9f93e1a5",
   "metadata": {
    "slideshow": {
     "slide_type": "fragment"
    }
   },
   "source": [
    "**Please note that starting from this exercise, you will not find the appropriate functions in the talk slides. Independent studying of the documentation will be necessary.**"
   ]
  },
  {
   "cell_type": "markdown",
   "id": "fd24fec5",
   "metadata": {
    "slideshow": {
     "slide_type": "slide"
    }
   },
   "source": [
    "### Obtaining Image Regions of Interests (ROI)"
   ]
  },
  {
   "cell_type": "markdown",
   "id": "fb51fbbf",
   "metadata": {
    "slideshow": {
     "slide_type": "fragment"
    }
   },
   "source": [
    "In this task you need to look for an image that contain multiple objects. For example a photography of a library, a cafe, a crowded street or a wild forest. Set two or three region of interest (ROIs) using indexing (for example: a book, a person, a car, some wild beast). Select one ROI and copy it to another region in the image.\n"
   ]
  },
  {
   "cell_type": "code",
   "execution_count": null,
   "id": "f214a7c6",
   "metadata": {
    "slideshow": {
     "slide_type": "fragment"
    }
   },
   "outputs": [],
   "source": []
  },
  {
   "cell_type": "markdown",
   "id": "94f0a277",
   "metadata": {
    "slideshow": {
     "slide_type": "slide"
    }
   },
   "source": [
    "### Splitting and Merging Image Channels"
   ]
  },
  {
   "cell_type": "markdown",
   "id": "afb36a1f",
   "metadata": {
    "slideshow": {
     "slide_type": "fragment"
    }
   },
   "source": [
    "Select a colorfull image for this task.\n",
    "Split the color image to single channels.\n",
    "Set all the red channel pixels to zero if the blue channel intensity is greater than the intensity of the red channel.\n",
    "Reduce in 50% the intensity of the green channel pixels if the blue channel intensity is lower than the intensity of the green channel.\n",
    "Display the results comparing the original image and the modified image.\n"
   ]
  },
  {
   "cell_type": "code",
   "execution_count": null,
   "id": "401c8034",
   "metadata": {
    "slideshow": {
     "slide_type": "fragment"
    }
   },
   "outputs": [],
   "source": []
  },
  {
   "cell_type": "markdown",
   "id": "4e5ed565",
   "metadata": {
    "slideshow": {
     "slide_type": "slide"
    }
   },
   "source": [
    "### Making Borders for Images (Padding)"
   ]
  },
  {
   "cell_type": "markdown",
   "id": "1b557752",
   "metadata": {
    "slideshow": {
     "slide_type": "fragment"
    }
   },
   "source": [
    "Create a border around one image, something like a photo frame.\n",
    "Create a border for a ROI inside the image."
   ]
  },
  {
   "cell_type": "code",
   "execution_count": null,
   "id": "3951c87f",
   "metadata": {
    "slideshow": {
     "slide_type": "fragment"
    }
   },
   "outputs": [],
   "source": []
  },
  {
   "cell_type": "markdown",
   "id": "3d21498a",
   "metadata": {
    "slideshow": {
     "slide_type": "slide"
    }
   },
   "source": [
    "### Mirroring Images"
   ]
  },
  {
   "cell_type": "markdown",
   "id": "74adb5f1",
   "metadata": {
    "slideshow": {
     "slide_type": "fragment"
    }
   },
   "source": [
    "Perform a mirror image reflection."
   ]
  },
  {
   "cell_type": "code",
   "execution_count": null,
   "id": "73d96471",
   "metadata": {
    "slideshow": {
     "slide_type": "fragment"
    }
   },
   "outputs": [],
   "source": []
  }
 ],
 "metadata": {
  "celltoolbar": "Slideshow",
  "kernelspec": {
   "display_name": "Python 3 (ipykernel)",
   "language": "python",
   "name": "python3"
  },
  "language_info": {
   "codemirror_mode": {
    "name": "ipython",
    "version": 3
   },
   "file_extension": ".py",
   "mimetype": "text/x-python",
   "name": "python",
   "nbconvert_exporter": "python",
   "pygments_lexer": "ipython3",
   "version": "3.11.5"
  }
 },
 "nbformat": 4,
 "nbformat_minor": 5
}
