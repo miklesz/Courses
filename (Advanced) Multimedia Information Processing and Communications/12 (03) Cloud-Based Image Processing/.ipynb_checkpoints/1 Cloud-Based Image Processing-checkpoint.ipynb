{
 "cells": [
  {
   "cell_type": "markdown",
   "metadata": {
    "slideshow": {
     "slide_type": "skip"
    }
   },
   "source": [
    "```sh\n",
    "jupyter_mac.command\n",
    "```"
   ]
  },
  {
   "cell_type": "markdown",
   "metadata": {
    "slideshow": {
     "slide_type": "slide"
    }
   },
   "source": [
    "# Cloud-Based Image Processing\n",
    "\n",
    "_Mikołaj Leszczuk, Szymon Turek, Jakub Nawała_\n",
    "\n",
    "![](https://i.creativecommons.org/l/by/4.0/88x31.png)"
   ]
  },
  {
   "cell_type": "markdown",
   "metadata": {
    "slideshow": {
     "slide_type": "slide"
    }
   },
   "source": [
    "## Image Processing (Computer Vision)\n",
    "\n",
    "![](https://pbs.twimg.com/media/DdPTh-zXcAA1QfM.jpg)"
   ]
  },
  {
   "cell_type": "markdown",
   "metadata": {
    "slideshow": {
     "slide_type": "slide"
    }
   },
   "source": [
    "# Cloud Computing\n",
    "\n",
    "![By Sam Johnston - Created by Sam Johnston using OmniGroup's OmniGraffle and Inkscape (includes Computer.svg by Sasa Stefanovic)This vector image was created with Inkscape., CC BY-SA 3.0, https://commons.wikimedia.org/w/index.php?curid=6080417\n",
    "![image.png](attachment:image.png)](https://upload.wikimedia.org/wikipedia/commons/thumb/b/b5/Cloud_computing.svg/848px-Cloud_computing.svg.png)"
   ]
  },
  {
   "cell_type": "markdown",
   "metadata": {
    "slideshow": {
     "slide_type": "slide"
    }
   },
   "source": [
    "## Cloud-Based Image Processing\n"
   ]
  },
  {
   "cell_type": "markdown",
   "metadata": {
    "slideshow": {
     "slide_type": "fragment"
    }
   },
   "source": [
    "* **Amazon Rekognition**\n",
    "* **Microsoft Azure Computer Vision API**\n",
    "* **Google Cloud API**\n",
    "* **IBM Watson Visual Recognition**\n",
    "* CloudSight AI\n",
    "* Clarifai Computer Vision"
   ]
  },
  {
   "cell_type": "markdown",
   "metadata": {
    "slideshow": {
     "slide_type": "slide"
    }
   },
   "source": [
    "## Comparison of Possibilities Offered by the Above Tools"
   ]
  },
  {
   "cell_type": "markdown",
   "metadata": {
    "slideshow": {
     "slide_type": "subslide"
    }
   },
   "source": [
    "![Source: https://www.altexsoft.com/blog/datascience/comparing-machine-learning-as-a-service-amazon-microsoft-azure-google-cloud-ai/\n",
    "![image.png](attachment:image.png)](https://content.altexsoft.com/media/2017/03/word-image-4.png)"
   ]
  },
  {
   "cell_type": "markdown",
   "metadata": {
    "slideshow": {
     "slide_type": "slide"
    }
   },
   "source": [
    "## CloudSight AI\n",
    "\n",
    "![](https://avatars.githubusercontent.com/u/5758856)"
   ]
  },
  {
   "cell_type": "markdown",
   "metadata": {
    "slideshow": {
     "slide_type": "subslide"
    }
   },
   "source": [
    "* Generating natural language description based on image content\n",
    "* Recognizing fine-grained objects\n",
    "* Classification of images\n",
    "* Scene understanding"
   ]
  },
  {
   "cell_type": "markdown",
   "metadata": {
    "slideshow": {
     "slide_type": "slide"
    }
   },
   "source": [
    "## Clarifai\n",
    "\n",
    "![](https://pbs.twimg.com/profile_images/1286339140502654977/FmPAcETU_400x400.jpg)"
   ]
  },
  {
   "cell_type": "markdown",
   "metadata": {
    "slideshow": {
     "slide_type": "subslide"
    }
   },
   "source": [
    "* Chosen for exercise\n",
    "* Very simple authentication\n",
    "* Creation of free account not requiring credit card number (notorious procedure for other applications)\n",
    "* Free version of Clarifai allowing to process transactions:\n",
    "  * 5000 images per month if confirmed e-mail\n",
    "  * 100 images per month if unconfirmed e-mail"
   ]
  },
  {
   "cell_type": "markdown",
   "metadata": {
    "slideshow": {
     "slide_type": "slide"
    }
   },
   "source": [
    "## Getting Started"
   ]
  },
  {
   "cell_type": "markdown",
   "metadata": {
    "slideshow": {
     "slide_type": "fragment"
    }
   },
   "source": [
    "* Clarifai API offering image and video recognition as service\n",
    "* Using AI to recognize visual content\n",
    "* API built around simple idea:\n",
    "  * Sending inputs (image or video) to service\n",
    "  * Receiving predictions\n",
    "  \n",
    "![](https://i0.wp.com/d2dybsqaihwlah.cloudfront.net/wp-content/uploads/2017/05/01211327/inputs-outputs.png)"
   ]
  },
  {
   "cell_type": "markdown",
   "metadata": {
    "slideshow": {
     "slide_type": "slide"
    }
   },
   "source": [
    "## Predict Images via URL"
   ]
  },
  {
   "cell_type": "markdown",
   "metadata": {
    "slideshow": {
     "slide_type": "fragment"
    }
   },
   "source": [
    "* To get predictions for input, need to supply: image and model to get predictions from\n",
    "* Image supply either with publicly accessible URL or by directly sending bytes\n",
    "* Sending up to 128 images in one API call"
   ]
  },
  {
   "cell_type": "markdown",
   "metadata": {
    "slideshow": {
     "slide_type": "slide"
    }
   },
   "source": [
    "## Introduction to Clarifai"
   ]
  },
  {
   "cell_type": "markdown",
   "metadata": {
    "slideshow": {
     "slide_type": "fragment"
    }
   },
   "source": [
    "The aim of this exercise is to get acquainted with the basics of programming using cloud-based image processing software. The exercise will be performed in the Python programming environment. Utilizing it, we will call remote Clarifai (cloud-based image processing software) functions.\n",
    "\n",
    "![Clarifai Web Logo](https://upload.wikimedia.org/wikipedia/commons/b/bc/Clarifai_Logo_FC_Web.png)"
   ]
  },
  {
   "cell_type": "markdown",
   "metadata": {
    "slideshow": {
     "slide_type": "slide"
    }
   },
   "source": [
    "## Setup Tasks"
   ]
  },
  {
   "cell_type": "markdown",
   "metadata": {
    "slideshow": {
     "slide_type": "fragment"
    }
   },
   "source": [
    "Below are instructions for setting up an environment for computer vision applications (Python + image processing libraries).\n",
    "\n",
    "**Python** is a general-purpose high-level programming language with an extensive standard library package, whose guiding principle is the readability and clarity of the source code. Its syntax is characterized by transparency and brevity. \n",
    "\n",
    "**Clarifai** is an Artificial Intelligence (AI) cloud service that specializes in computer vision and uses machine learning and deep neural networks to identify and analyze images and videos. The cloud service offers its solutions via API, mobile SDK, and on-premises solutions."
   ]
  },
  {
   "cell_type": "markdown",
   "metadata": {
    "slideshow": {
     "slide_type": "slide"
    }
   },
   "source": [
    "### App-Specific API Keys"
   ]
  },
  {
   "cell_type": "markdown",
   "metadata": {
    "slideshow": {
     "slide_type": "fragment"
    }
   },
   "source": [
    "App-specific API Keys are used to authorize your Clarifai applications. A key is automatically generated when you create a new application. You can also go to the application's list, select an app of your choice and create a new key in the app details page. _Each API key is tied to a specific user and a specific app._\n",
    "\n",
    "After creating a free account, the next steps are: (i) create a new application and (ii) generate the application key (the key should be put in the script)."
   ]
  },
  {
   "cell_type": "markdown",
   "metadata": {
    "slideshow": {
     "slide_type": "slide"
    }
   },
   "source": [
    "### Create an Application and Generate the Application Key"
   ]
  },
  {
   "cell_type": "markdown",
   "metadata": {
    "slideshow": {
     "slide_type": "fragment"
    }
   },
   "source": [
    "To create an application, head on over to the applications page and press the 'Create Application' button."
   ]
  },
  {
   "cell_type": "markdown",
   "metadata": {
    "slideshow": {
     "slide_type": "subslide"
    }
   },
   "source": [
    "![](https://gblobscdn.gitbook.com/assets%2F-LisemUaXxC3S7Kk9xFz%2Fsync%2F069fd59ae3fb51f51b3acbed9dd72e997287a0f2.png?alt=media)"
   ]
  },
  {
   "cell_type": "markdown",
   "metadata": {
    "slideshow": {
     "slide_type": "subslide"
    }
   },
   "source": [
    "Start by creating a free Clarifai account ([https://portal.clarifai.com/signup](https://portal.clarifai.com/signup)).\n",
    "\n",
    "[`key.txt`](key.txt)"
   ]
  },
  {
   "cell_type": "markdown",
   "metadata": {
    "slideshow": {
     "slide_type": "slide"
    }
   },
   "source": [
    "### API Client Installation Instructions"
   ]
  },
  {
   "cell_type": "markdown",
   "metadata": {
    "slideshow": {
     "slide_type": "fragment"
    }
   },
   "source": [
    "Using client library to access API."
   ]
  },
  {
   "cell_type": "markdown",
   "metadata": {
    "slideshow": {
     "slide_type": "fragment"
    }
   },
   "source": [
    "**Tip 1**: Please note that if you use Python, there might be two independently configured versions installed on the machine: Python 2 (`python`) and Python 3 (`python3`). The two versions are not always compatible. You are advised to use Python 3 as Python 2 support officially ended in January 2020."
   ]
  },
  {
   "cell_type": "markdown",
   "metadata": {
    "slideshow": {
     "slide_type": "fragment"
    }
   },
   "source": [
    "**Tip 2**: To install Clarifai for Python, you must execute the following _pip_ command (usually you do not need administrative privileges to run this command, please keep in mind that the _pip_ command installs packages only for Python 3):"
   ]
  },
  {
   "cell_type": "code",
   "execution_count": null,
   "metadata": {
    "slideshow": {
     "slide_type": "subslide"
    }
   },
   "outputs": [],
   "source": [
    "pip install clarifai-grpc"
   ]
  },
  {
   "cell_type": "markdown",
   "metadata": {
    "slideshow": {
     "slide_type": "subslide"
    }
   },
   "source": [
    "**Tip 3**: In case of error messages saying that the pip version is too old, you must upgrade it by executing the following command (it can be noted that this should not be necessary and may break your machine configuration):"
   ]
  },
  {
   "cell_type": "code",
   "execution_count": null,
   "metadata": {
    "slideshow": {
     "slide_type": "fragment"
    }
   },
   "outputs": [],
   "source": [
    "pip install --upgrade pip"
   ]
  },
  {
   "cell_type": "markdown",
   "metadata": {
    "slideshow": {
     "slide_type": "fragment"
    }
   },
   "source": [
    "**Tip 4**: In case of error messages saying that you do not have sufficient permissions, you can use the root (administrator) account. **Before you do so, please first consult with the tutor.**"
   ]
  },
  {
   "cell_type": "markdown",
   "metadata": {
    "slideshow": {
     "slide_type": "subslide"
    }
   },
   "source": [
    "**Tip 5**: **If you get the following error when installing the library: ``Failed building wheel for grpcio``**\n",
    "\n",
    "Try upgrading **setuptools** to a version **40.7.1** or higher."
   ]
  },
  {
   "cell_type": "code",
   "execution_count": null,
   "metadata": {
    "slideshow": {
     "slide_type": "fragment"
    }
   },
   "outputs": [],
   "source": [
    "pip install --upgrade setuptools"
   ]
  },
  {
   "cell_type": "markdown",
   "metadata": {
    "slideshow": {
     "slide_type": "slide"
    }
   },
   "source": [
    "## Example - Tags Extraction on Images via URL (Prediction of Concepts in an Image)"
   ]
  },
  {
   "cell_type": "markdown",
   "metadata": {
    "slideshow": {
     "slide_type": "fragment"
    }
   },
   "source": [
    "Construct the `V2Stub` object using which you'll access all the Clarifai API functionality:"
   ]
  },
  {
   "cell_type": "code",
   "execution_count": null,
   "metadata": {
    "slideshow": {
     "slide_type": "fragment"
    }
   },
   "outputs": [],
   "source": [
    "from clarifai_grpc.channel.clarifai_channel import ClarifaiChannel\n",
    "from clarifai_grpc.grpc.api import service_pb2_grpc\n",
    "\n",
    "stub = service_pb2_grpc.V2Stub(ClarifaiChannel.get_grpc_channel())"
   ]
  },
  {
   "cell_type": "markdown",
   "metadata": {
    "slideshow": {
     "slide_type": "subslide"
    }
   },
   "source": [
    "Predict concepts in an image:"
   ]
  },
  {
   "cell_type": "markdown",
   "metadata": {
    "slideshow": {
     "slide_type": "fragment"
    }
   },
   "source": [
    "![](https://samples.clarifai.com/metro-north.jpg)"
   ]
  },
  {
   "cell_type": "code",
   "execution_count": null,
   "metadata": {
    "slideshow": {
     "slide_type": "subslide"
    }
   },
   "outputs": [],
   "source": [
    "from clarifai_grpc.grpc.api import service_pb2, resources_pb2\n",
    "from clarifai_grpc.grpc.api.status import status_code_pb2"
   ]
  },
  {
   "cell_type": "markdown",
   "metadata": {
    "slideshow": {
     "slide_type": "fragment"
    }
   },
   "source": [
    "This is how you authenticate. This will be used by every Clarifai endpoint call."
   ]
  },
  {
   "cell_type": "code",
   "execution_count": null,
   "metadata": {
    "slideshow": {
     "slide_type": "fragment"
    }
   },
   "outputs": [],
   "source": [
    "with open('key.txt') as f:\n",
    "    key = f.read()\n",
    "\n",
    "metadata = (('authorization', 'Key '+key),)"
   ]
  },
  {
   "cell_type": "markdown",
   "metadata": {
    "slideshow": {
     "slide_type": "fragment"
    }
   },
   "source": [
    "This is the model ID of a publicly available General model. You may use any other public or custom model ID."
   ]
  },
  {
   "cell_type": "code",
   "execution_count": null,
   "metadata": {
    "slideshow": {
     "slide_type": "fragment"
    }
   },
   "outputs": [],
   "source": [
    "model_id = 'aaa03c23b3724a16a56b629203edc62c'"
   ]
  },
  {
   "cell_type": "markdown",
   "metadata": {
    "slideshow": {
     "slide_type": "subslide"
    }
   },
   "source": [
    "The script should point the Clarifai API to a URL path to an image:"
   ]
  },
  {
   "cell_type": "code",
   "execution_count": null,
   "metadata": {
    "slideshow": {
     "slide_type": "fragment"
    }
   },
   "outputs": [],
   "source": [
    "request = service_pb2.PostModelOutputsRequest(\n",
    "    model_id=model_id,\n",
    "    inputs=[\n",
    "        resources_pb2.Input(\n",
    "            data=resources_pb2.Data(\n",
    "                image=resources_pb2.Image(\n",
    "                    url='https://samples.clarifai.com/metro-north.jpg'\n",
    "                )\n",
    "            )\n",
    "        )\n",
    "    ]\n",
    ")\n",
    "response = stub.PostModelOutputs(request, metadata=metadata)"
   ]
  },
  {
   "cell_type": "markdown",
   "metadata": {
    "slideshow": {
     "slide_type": "subslide"
    }
   },
   "source": [
    "Finally, please print the output data:"
   ]
  },
  {
   "cell_type": "code",
   "execution_count": null,
   "metadata": {
    "slideshow": {
     "slide_type": "fragment"
    }
   },
   "outputs": [],
   "source": [
    "print(response)"
   ]
  },
  {
   "cell_type": "markdown",
   "metadata": {
    "slideshow": {
     "slide_type": "subslide"
    }
   },
   "source": [
    "As the response is formatted using JSON (JavaScript Object Notation), instead of the regular **`print`**, it is better to use:"
   ]
  },
  {
   "cell_type": "code",
   "execution_count": null,
   "metadata": {
    "slideshow": {
     "slide_type": "fragment"
    }
   },
   "outputs": [],
   "source": [
    "for concept in response.outputs[0].data.concepts:\n",
    "    print('%21s: %.2f' % (concept.name, concept.value))"
   ]
  },
  {
   "cell_type": "markdown",
   "metadata": {
    "slideshow": {
     "slide_type": "fragment"
    }
   },
   "source": [
    "Let's compare with the image..."
   ]
  },
  {
   "cell_type": "code",
   "execution_count": null,
   "metadata": {
    "slideshow": {
     "slide_type": "subslide"
    }
   },
   "outputs": [],
   "source": [
    "[print(concept.name, end=' ') for concept in response.outputs[0].data.concepts];"
   ]
  },
  {
   "cell_type": "markdown",
   "metadata": {
    "slideshow": {
     "slide_type": "-"
    }
   },
   "source": [
    "![](https://samples.clarifai.com/metro-north.jpg)"
   ]
  },
  {
   "cell_type": "markdown",
   "metadata": {
    "slideshow": {
     "slide_type": "subslide"
    }
   },
   "source": [
    "Let's try with \"Lenna\"...\n",
    "![](https://upload.wikimedia.org/wikipedia/en/7/7d/Lenna_%28test_image%29.png)"
   ]
  },
  {
   "cell_type": "code",
   "execution_count": null,
   "metadata": {
    "slideshow": {
     "slide_type": "subslide"
    }
   },
   "outputs": [],
   "source": [
    "request = service_pb2.PostModelOutputsRequest(\n",
    "    model_id=model_id,\n",
    "    inputs=[\n",
    "        resources_pb2.Input(\n",
    "            data=resources_pb2.Data(\n",
    "                image=resources_pb2.Image(\n",
    "                    url='https://upload.wikimedia.org/wikipedia/en/7/7d/Lenna_%28test_image%29.png'\n",
    "                )\n",
    "            )\n",
    "        )\n",
    "    ]\n",
    ")\n",
    "response = stub.PostModelOutputs(request, metadata=metadata)"
   ]
  },
  {
   "cell_type": "code",
   "execution_count": null,
   "metadata": {
    "slideshow": {
     "slide_type": "subslide"
    }
   },
   "outputs": [],
   "source": [
    "[print(concept.name, end=' ') for concept in response.outputs[0].data.concepts];"
   ]
  },
  {
   "cell_type": "markdown",
   "metadata": {
    "slideshow": {
     "slide_type": "-"
    }
   },
   "source": [
    "![](https://upload.wikimedia.org/wikipedia/en/7/7d/Lenna_%28test_image%29.png)"
   ]
  },
  {
   "cell_type": "markdown",
   "metadata": {
    "slideshow": {
     "slide_type": "subslide"
    }
   },
   "source": [
    "Error handling..."
   ]
  },
  {
   "cell_type": "code",
   "execution_count": null,
   "metadata": {
    "slideshow": {
     "slide_type": "fragment"
    }
   },
   "outputs": [],
   "source": [
    "request = service_pb2.PostModelOutputsRequest(\n",
    "    model_id=model_id,\n",
    "    inputs=[\n",
    "        resources_pb2.Input(\n",
    "            data=resources_pb2.Data(\n",
    "                image=resources_pb2.Image(url='http://foo.bar')\n",
    "            )\n",
    "        )\n",
    "    ]\n",
    ")\n",
    "response = stub.PostModelOutputs(request, metadata=metadata)"
   ]
  },
  {
   "cell_type": "code",
   "execution_count": null,
   "metadata": {
    "slideshow": {
     "slide_type": "fragment"
    }
   },
   "outputs": [],
   "source": [
    "print(response)"
   ]
  },
  {
   "cell_type": "code",
   "execution_count": null,
   "metadata": {
    "slideshow": {
     "slide_type": "subslide"
    }
   },
   "outputs": [],
   "source": [
    "if response.status.code != status_code_pb2.SUCCESS:\n",
    "    print(\"There was an error with your request!\")\n",
    "    print(\"\\tCode: {}\".format(response.outputs[0].status.code))\n",
    "    print(\"\\tDescription: {}\".format(response.outputs[0].status.description))\n",
    "    print(\"\\tDetails: {}\".format(response.outputs[0].status.details))\n",
    "    raise Exception(\"Request failed, status code: \" + str(response.status.code))"
   ]
  },
  {
   "cell_type": "markdown",
   "metadata": {
    "slideshow": {
     "slide_type": "slide"
    }
   },
   "source": [
    "## Additional References"
   ]
  },
  {
   "cell_type": "markdown",
   "metadata": {
    "slideshow": {
     "slide_type": "fragment"
    }
   },
   "source": [
    "1. “Getting Started Guide | Clarifai Developer” (link to the documentation),\n",
    "[https://www.clarifai.com/developer/guide/](https://www.clarifai.com/developer/guide/)\n",
    "1. “Sign Up | Clarifai Developer” (setting up a free account),\n",
    "[https://clarifai.com/developer/account/signup](https://clarifai.com/developer/account/signup)\n",
    "1. “Applications | Clarifai Developer” (creating a new application),\n",
    "[https://clarifai.com/developer/account/applications](https://clarifai.com/developer/account/applications)\n",
    "1. “API Keys | Clarifai Developer” (generation of the application key),\n",
    "[https://www.clarifai.com/developer/account/keys](https://www.clarifai.com/developer/account/keys)\n"
   ]
  },
  {
   "cell_type": "code",
   "execution_count": null,
   "metadata": {
    "slideshow": {
     "slide_type": "skip"
    }
   },
   "outputs": [],
   "source": []
  }
 ],
 "metadata": {
  "celltoolbar": "Slideshow",
  "kernelspec": {
   "display_name": "Python 3 (ipykernel)",
   "language": "python",
   "name": "python3"
  },
  "language_info": {
   "codemirror_mode": {
    "name": "ipython",
    "version": 3
   },
   "file_extension": ".py",
   "mimetype": "text/x-python",
   "name": "python",
   "nbconvert_exporter": "python",
   "pygments_lexer": "ipython3",
   "version": "3.11.5"
  }
 },
 "nbformat": 4,
 "nbformat_minor": 4
}
