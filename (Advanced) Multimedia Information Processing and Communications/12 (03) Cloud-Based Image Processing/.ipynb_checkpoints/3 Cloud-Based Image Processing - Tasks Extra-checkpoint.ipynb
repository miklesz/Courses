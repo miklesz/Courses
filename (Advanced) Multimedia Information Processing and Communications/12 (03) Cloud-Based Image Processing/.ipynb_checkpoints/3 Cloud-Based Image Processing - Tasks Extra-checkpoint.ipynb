{
 "cells": [
  {
   "cell_type": "markdown",
   "metadata": {
    "slideshow": {
     "slide_type": "skip"
    }
   },
   "source": [
    "```sh\n",
    "jupyter_mac.command\n",
    "```"
   ]
  },
  {
   "cell_type": "markdown",
   "metadata": {
    "slideshow": {
     "slide_type": "slide"
    }
   },
   "source": [
    "# Cloud-Based Image Processing - Tasks\n",
    "\n",
    "_Mikołaj Leszczuk, Szymon Turek, Jakub Nawała_\n",
    "\n",
    "![](https://i.creativecommons.org/l/by/4.0/88x31.png)"
   ]
  },
  {
   "cell_type": "markdown",
   "metadata": {
    "slideshow": {
     "slide_type": "slide"
    }
   },
   "source": [
    "## Tasks"
   ]
  },
  {
   "cell_type": "markdown",
   "metadata": {
    "slideshow": {
     "slide_type": "fragment"
    }
   },
   "source": [
    "Please perform the following tasks.\n",
    "\n",
    "Please perform automatic extraction of machine markers (tags), using Clarifai and Python (the script should be written in Python 3)."
   ]
  },
  {
   "cell_type": "markdown",
   "metadata": {
    "slideshow": {
     "slide_type": "slide"
    }
   },
   "source": [
    "### (Optional, Supplemental) Classifying Video Content"
   ]
  },
  {
   "cell_type": "markdown",
   "metadata": {
    "slideshow": {
     "slide_type": "fragment"
    }
   },
   "source": [
    "Please send a binary payload to a video through the Clarifai API. You should receive back tags for each second of a video. \n",
    "\n",
    "Please note that similarly to the previous exercise, you must look through the documentation to find appropriate API functions. \n",
    "\n",
    "**If you manage to make this exercise, please send your source code to the tutor.**\n",
    "\n",
    "**The additional exercise is worth 5 points.**"
   ]
  },
  {
   "cell_type": "code",
   "execution_count": null,
   "metadata": {
    "slideshow": {
     "slide_type": "skip"
    }
   },
   "outputs": [],
   "source": []
  }
 ],
 "metadata": {
  "celltoolbar": "Slideshow",
  "kernelspec": {
   "display_name": "Python 3 (ipykernel)",
   "language": "python",
   "name": "python3"
  },
  "language_info": {
   "codemirror_mode": {
    "name": "ipython",
    "version": 3
   },
   "file_extension": ".py",
   "mimetype": "text/x-python",
   "name": "python",
   "nbconvert_exporter": "python",
   "pygments_lexer": "ipython3",
   "version": "3.11.5"
  }
 },
 "nbformat": 4,
 "nbformat_minor": 4
}
