{
 "cells": [
  {
   "cell_type": "markdown",
   "id": "6dc2d0c3",
   "metadata": {
    "slideshow": {
     "slide_type": "-"
    }
   },
   "source": [
    "# Mathematical Morphological (MM) Operations on Images - Task\n",
    "_Mikołaj Leszczuk, Andrzej Matiolański_\n",
    "![](https://i.creativecommons.org/l/by/4.0/88x31.png)"
   ]
  },
  {
   "cell_type": "markdown",
   "id": "c8864b22",
   "metadata": {
    "slideshow": {
     "slide_type": "slide"
    }
   },
   "source": [
    "## Dilation Task"
   ]
  },
  {
   "cell_type": "markdown",
   "id": "89a7e0b6",
   "metadata": {
    "slideshow": {
     "slide_type": "fragment"
    }
   },
   "source": [
    "Dilation is one of the two basic operators in the area of mathematical morphology. It is typically applied to binary images, but there are versions that work on grayscale images. The basic effect of the operator on a binary image is to gradually enlarge the boundaries of regions of foreground pixels. Thus areas of foreground pixels grow in size while holes within those regions become smaller."
   ]
  },
  {
   "cell_type": "markdown",
   "id": "a24e2945",
   "metadata": {
    "slideshow": {
     "slide_type": "slide"
    }
   },
   "source": [
    "### Instruction"
   ]
  },
  {
   "cell_type": "markdown",
   "id": "35da5d84",
   "metadata": {
    "slideshow": {
     "slide_type": "fragment"
    }
   },
   "source": [
    "* Load our image into array. To do so you need to create a variable and load into it image (e.g. we will be using ‘`img8.png`’).\n",
    "* We can see if the image is loaded properly.\n",
    "* Our application will be operating on the black and white images using their array binary form. `255`’s stands for white color and `0`’s stands for black color. Convert our image into grayscale array and then into array containing `255`’s and `0`’s.\n",
    "* See it.\n",
    "* Next step is creating our `9 x 9` **disk** structuring element.\n",
    "* Dilate the image."
   ]
  },
  {
   "cell_type": "markdown",
   "id": "a86a25d9",
   "metadata": {
    "slideshow": {
     "slide_type": "subslide"
    }
   },
   "source": [
    "As a result of the code you should get something like this:"
   ]
  },
  {
   "cell_type": "markdown",
   "id": "584a3dfb",
   "metadata": {
    "slideshow": {
     "slide_type": "fragment"
    }
   },
   "source": [
    "![](dilate.png)"
   ]
  },
  {
   "cell_type": "code",
   "execution_count": null,
   "id": "c7faec97",
   "metadata": {
    "slideshow": {
     "slide_type": "skip"
    }
   },
   "outputs": [],
   "source": []
  }
 ],
 "metadata": {
  "celltoolbar": "Slideshow",
  "kernelspec": {
   "display_name": "Python 3 (ipykernel)",
   "language": "python",
   "name": "python3"
  },
  "language_info": {
   "codemirror_mode": {
    "name": "ipython",
    "version": 3
   },
   "file_extension": ".py",
   "mimetype": "text/x-python",
   "name": "python",
   "nbconvert_exporter": "python",
   "pygments_lexer": "ipython3",
   "version": "3.11.5"
  }
 },
 "nbformat": 4,
 "nbformat_minor": 5
}
