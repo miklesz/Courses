{
 "cells": [
  {
   "cell_type": "markdown",
   "id": "6dc2d0c3",
   "metadata": {
    "slideshow": {
     "slide_type": "-"
    }
   },
   "source": [
    "# Mathematical Morphological (MM) Operations on Images - Exercise\n",
    "_Mikołaj Leszczuk, Andrzej Matiolański_\n",
    "![](https://i.creativecommons.org/l/by/4.0/88x31.png)"
   ]
  },
  {
   "cell_type": "markdown",
   "id": "c8864b22",
   "metadata": {
    "slideshow": {
     "slide_type": "slide"
    }
   },
   "source": [
    "## Erosion Exercise"
   ]
  },
  {
   "cell_type": "markdown",
   "id": "89a7e0b6",
   "metadata": {
    "slideshow": {
     "slide_type": "fragment"
    }
   },
   "source": [
    "Erosion is one of the two basic operators in the area of mathematical morphology, the other being dilation. It is typically applied to binary images, but there are versions that work on grayscale images. The basic effect of the operator on a binary image is to erode away the boundaries of regions of foreground pixels (i.e. white pixels, typically). Thus areas of foreground pixels shrink in size, and holes within those areas become larger."
   ]
  },
  {
   "cell_type": "markdown",
   "id": "32e2aaa2",
   "metadata": {
    "slideshow": {
     "slide_type": "slide"
    }
   },
   "source": [
    "### List of Functions Used in the Exercise and Their Descriptions"
   ]
  },
  {
   "cell_type": "markdown",
   "id": "a340067f",
   "metadata": {
    "slideshow": {
     "slide_type": "fragment"
    }
   },
   "source": [
    "* `cv2.cvtColor(src, code)` - Converts an image from one color space to another.\n",
    "* `cv2.erode(src, kernel)` - Erodes an image by using a specific structuring element.\n",
    "* `cv2.imread(filename)` - Loads an image from a file.\n",
    "* `cv2.threshold(src, thresh, maxval, type)` - Applies a fixed-level threshold to each array element.\n",
    "* `np.ones(shape, dtype)` - Return a new array of given shape and type, filled with ones.\n",
    "* `plt.imshow(X, cmap)` - Display data as an image, i.e., on a 2D regular raster.\n",
    "* `plt.show()` - Display all open figures."
   ]
  },
  {
   "cell_type": "markdown",
   "id": "a24e2945",
   "metadata": {
    "slideshow": {
     "slide_type": "slide"
    }
   },
   "source": [
    "### Instruction"
   ]
  },
  {
   "cell_type": "markdown",
   "id": "35da5d84",
   "metadata": {
    "slideshow": {
     "slide_type": "fragment"
    }
   },
   "source": [
    "* Load our image into array. To do so you need to create a variable and load into it image (e.g. we will be using ‘`img8.png`’).\n",
    "* We can see if the image is loaded properly.\n",
    "* Our application will be operating on the black and white images using their array binary form. `255`’s stands for white color and `0`’s stands for black color. Convert our image into grayscale array and then into array containing `255`’s and `0`’s.\n",
    "* See it.\n",
    "* Next step is creating our `4 x 4` rectangular structuring element.\n",
    "* Erode the image."
   ]
  },
  {
   "cell_type": "markdown",
   "id": "a86a25d9",
   "metadata": {
    "slideshow": {
     "slide_type": "subslide"
    }
   },
   "source": [
    "As a result of the code you should get something like this:"
   ]
  },
  {
   "cell_type": "markdown",
   "id": "584a3dfb",
   "metadata": {
    "slideshow": {
     "slide_type": "fragment"
    }
   },
   "source": [
    "![](erode.png)"
   ]
  },
  {
   "cell_type": "markdown",
   "id": "fd57c41d",
   "metadata": {
    "slideshow": {
     "slide_type": "slide"
    }
   },
   "source": [
    "## Erosion Solution"
   ]
  },
  {
   "cell_type": "code",
   "execution_count": null,
   "id": "39b8857d",
   "metadata": {
    "slideshow": {
     "slide_type": "fragment"
    }
   },
   "outputs": [],
   "source": [
    "import cv2\n",
    "import matplotlib.pyplot as plt\n",
    "import numpy as np"
   ]
  },
  {
   "cell_type": "code",
   "execution_count": null,
   "id": "ee825442",
   "metadata": {
    "slideshow": {
     "slide_type": "fragment"
    }
   },
   "outputs": [],
   "source": [
    "original = cv2.imread('images/img8.png')\n",
    "plt.imshow(cv2.cvtColor(original, cv2.COLOR_BGR2RGB))\n",
    "plt.show()"
   ]
  },
  {
   "cell_type": "code",
   "execution_count": null,
   "id": "7b5d63cc",
   "metadata": {
    "slideshow": {
     "slide_type": "subslide"
    }
   },
   "outputs": [],
   "source": [
    "grayscale = cv2.cvtColor(original, cv2.COLOR_BGR2GRAY)\n",
    "plt.imshow(grayscale, cmap='gray')\n",
    "plt.show()"
   ]
  },
  {
   "cell_type": "code",
   "execution_count": null,
   "id": "f24ed5ee",
   "metadata": {
    "slideshow": {
     "slide_type": "subslide"
    }
   },
   "outputs": [],
   "source": [
    "retval, binary = cv2.threshold(grayscale, thresh=128, maxval=255, type=cv2.THRESH_BINARY)\n",
    "plt.imshow(binary, cmap='gray')\n",
    "plt.show()"
   ]
  },
  {
   "cell_type": "code",
   "execution_count": null,
   "id": "257b0452",
   "metadata": {
    "slideshow": {
     "slide_type": "subslide"
    }
   },
   "outputs": [],
   "source": [
    "kernel = np.ones((4, 4), np.uint8)\n",
    "eroded = cv2.erode(binary, kernel)\n",
    "plt.imshow(eroded, cmap='gray')\n",
    "plt.show()"
   ]
  },
  {
   "cell_type": "code",
   "execution_count": null,
   "id": "c7faec97",
   "metadata": {
    "slideshow": {
     "slide_type": "skip"
    }
   },
   "outputs": [],
   "source": []
  }
 ],
 "metadata": {
  "celltoolbar": "Slideshow",
  "kernelspec": {
   "display_name": "Python 3 (ipykernel)",
   "language": "python",
   "name": "python3"
  },
  "language_info": {
   "codemirror_mode": {
    "name": "ipython",
    "version": 3
   },
   "file_extension": ".py",
   "mimetype": "text/x-python",
   "name": "python",
   "nbconvert_exporter": "python",
   "pygments_lexer": "ipython3",
   "version": "3.11.5"
  }
 },
 "nbformat": 4,
 "nbformat_minor": 5
}
