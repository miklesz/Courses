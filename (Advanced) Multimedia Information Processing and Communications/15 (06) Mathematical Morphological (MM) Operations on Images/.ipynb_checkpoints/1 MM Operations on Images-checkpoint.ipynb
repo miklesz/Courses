{
 "cells": [
  {
   "cell_type": "markdown",
   "id": "6dc2d0c3",
   "metadata": {
    "slideshow": {
     "slide_type": "-"
    }
   },
   "source": [
    "# Mathematical Morphological (MM) Operations on Images\n",
    "_Mikołaj Leszczuk, Andrzej Matiolański_\n",
    "![](https://i.creativecommons.org/l/by/4.0/88x31.png)"
   ]
  },
  {
   "cell_type": "markdown",
   "id": "d0cf88ba",
   "metadata": {
    "slideshow": {
     "slide_type": "slide"
    }
   },
   "source": [
    "### Mathematical Morphological (MM) Operations in Images"
   ]
  },
  {
   "cell_type": "markdown",
   "id": "910ff45d",
   "metadata": {
    "slideshow": {
     "slide_type": "fragment"
    }
   },
   "source": [
    "* Theory/technique for analysis/processing of geometrical structures, based on:\n",
    "  * **Set theory**\n",
    "  * **Lattice theory**\n",
    "  * **Topology**\n",
    "  * **Random functions**"
   ]
  },
  {
   "cell_type": "markdown",
   "id": "4b307c0d",
   "metadata": {
    "slideshow": {
     "slide_type": "fragment"
    }
   },
   "source": [
    "* Foundation of basic MM operators to transform images:\n",
    "  * **Erosion**\n",
    "  * **Dilation**\n",
    "  * **Opening**\n",
    "  * **Closing**"
   ]
  },
  {
   "cell_type": "markdown",
   "id": "adb5f58a",
   "metadata": {
    "slideshow": {
     "slide_type": "slide"
    }
   },
   "source": [
    "### Shape (**Blue**) and Its Morphological Dilation (**Green**) and Erosion (**Yellow**)"
   ]
  },
  {
   "cell_type": "markdown",
   "id": "95f8481b",
   "metadata": {
    "slideshow": {
     "slide_type": "fragment"
    }
   },
   "source": [
    "![](https://upload.wikimedia.org/wikipedia/commons/f/fc/DilationErosion.png)"
   ]
  },
  {
   "cell_type": "markdown",
   "id": "b631b2f3",
   "metadata": {
    "slideshow": {
     "slide_type": "slide"
    }
   },
   "source": [
    "### Erosion"
   ]
  },
  {
   "cell_type": "markdown",
   "id": "7cf8ef0c",
   "metadata": {
    "slideshow": {
     "slide_type": "subslide"
    }
   },
   "source": [
    "* **1** of **2** fundamental operations in **MM**\n",
    "* Other being **dilation**\n",
    "* Basis for other MM operations\n",
    "* Example:\n",
    "  * Erosion of **dark-blue square** by disk\n",
    "  * Resulting in **light-blue square**\n",
    "* Application: thinner lines"
   ]
  },
  {
   "cell_type": "markdown",
   "id": "99deaa8a",
   "metadata": {
    "slideshow": {
     "slide_type": "fragment"
    }
   },
   "source": [
    "![](https://upload.wikimedia.org/wikipedia/commons/3/3a/Erosion.png)"
   ]
  },
  {
   "cell_type": "markdown",
   "id": "1d802816",
   "metadata": {
    "slideshow": {
     "slide_type": "slide"
    }
   },
   "source": [
    "### Example of Erosion on Grayscale Image"
   ]
  },
  {
   "cell_type": "markdown",
   "id": "8144e328",
   "metadata": {
    "slideshow": {
     "slide_type": "subslide"
    }
   },
   "source": [
    "* Using a 5x5 flat structuring element\n",
    "* Top figure demonstrates application of structuring element window to individual pixels of original image\n",
    "* Bottom figure shows resulting eroded image"
   ]
  },
  {
   "cell_type": "markdown",
   "id": "1e8e9066",
   "metadata": {
    "slideshow": {
     "slide_type": "fragment"
    }
   },
   "source": [
    "![](https://upload.wikimedia.org/wikipedia/commons/b/b9/Grayscale_Morphological_Erosion.gif)"
   ]
  },
  {
   "cell_type": "markdown",
   "id": "2ad394e3",
   "metadata": {
    "slideshow": {
     "slide_type": "slide"
    }
   },
   "source": [
    "### Dilation"
   ]
  },
  {
   "cell_type": "markdown",
   "id": "67dce484",
   "metadata": {
    "slideshow": {
     "slide_type": "subslide"
    }
   },
   "source": [
    "* **1** of basic operations in **MM**\n",
    "* Using **structuring element** (here: disk)\n",
    "* Probing/expanding shapes contained in input image\n",
    "* Example:\n",
    "  * Dilation of **dark-blue square** by disk\n",
    "  * Resulting in **light-blue square** with rounded corners\n",
    "* Application: thicker lines"
   ]
  },
  {
   "cell_type": "markdown",
   "id": "bc593cac",
   "metadata": {
    "slideshow": {
     "slide_type": "fragment"
    }
   },
   "source": [
    "![](https://upload.wikimedia.org/wikipedia/commons/8/8d/Dilation.png)"
   ]
  },
  {
   "cell_type": "markdown",
   "id": "f1893349",
   "metadata": {
    "slideshow": {
     "slide_type": "slide"
    }
   },
   "source": [
    "### Example of Dilation on Grayscale Image"
   ]
  },
  {
   "cell_type": "markdown",
   "id": "548711ac",
   "metadata": {
    "slideshow": {
     "slide_type": "subslide"
    }
   },
   "source": [
    "* Using a 5x5 flat structuring element\n",
    "* Top figure demonstrates application of structuring element window to individual pixels of original image\n",
    "* Bottom figure shows resulting dilated image"
   ]
  },
  {
   "cell_type": "markdown",
   "id": "d7631028",
   "metadata": {
    "slideshow": {
     "slide_type": "fragment"
    }
   },
   "source": [
    "![](https://upload.wikimedia.org/wikipedia/commons/7/70/Grayscale_Morphological_Dilation.gif)"
   ]
  },
  {
   "cell_type": "markdown",
   "id": "2ffd9102",
   "metadata": {
    "slideshow": {
     "slide_type": "slide"
    }
   },
   "source": [
    "### Opening"
   ]
  },
  {
   "cell_type": "markdown",
   "id": "4b43c013",
   "metadata": {
    "slideshow": {
     "slide_type": "subslide"
    }
   },
   "source": [
    "* **Dilation** of **erosion** by **structuring element**\n",
    "* Example:\n",
    "  * Opening of **dark-blue square** by disk\n",
    "  * Resulting in **light-blue square** with round corners\n",
    "* Application: removing small objects"
   ]
  },
  {
   "cell_type": "markdown",
   "id": "8da87b41",
   "metadata": {
    "slideshow": {
     "slide_type": "fragment"
    }
   },
   "source": [
    "![](https://upload.wikimedia.org/wikipedia/commons/c/c1/Opening.png)"
   ]
  },
  {
   "cell_type": "markdown",
   "id": "0909a9fd",
   "metadata": {
    "slideshow": {
     "slide_type": "slide"
    }
   },
   "source": [
    "### Closing"
   ]
  },
  {
   "cell_type": "markdown",
   "id": "0a7ffd9f",
   "metadata": {
    "slideshow": {
     "slide_type": "subslide"
    }
   },
   "source": [
    "* **Erosion** of **dilation** by **structuring element**\n",
    "* Example:\n",
    "  * Closing of **dark-blue shape** by disk\n",
    "  * **Union of 2 squares**\n",
    "  * Resulting in:\n",
    "    * **Union of dark-blue shape**, and\n",
    "    * **Light-blue areas**\n",
    "* Application: removing small holes"
   ]
  },
  {
   "cell_type": "markdown",
   "id": "e0adc489",
   "metadata": {
    "slideshow": {
     "slide_type": "fragment"
    }
   },
   "source": [
    "![](https://upload.wikimedia.org/wikipedia/commons/2/2e/Closing.png)"
   ]
  },
  {
   "cell_type": "markdown",
   "id": "485fd3b1",
   "metadata": {
    "slideshow": {
     "slide_type": "slide"
    }
   },
   "source": [
    "### Hit-or-Miss Transform"
   ]
  },
  {
   "cell_type": "markdown",
   "id": "4759e1a2",
   "metadata": {
    "slideshow": {
     "slide_type": "fragment"
    }
   },
   "source": [
    "* Detecting, in **binary image**, given: \n",
    "  * Configuration, or\n",
    "  * Pattern\n",
    "* Using:\n",
    "  * Morphological **erosion** operator, and\n",
    "  * Pair of **disjoint structuring elements**\n",
    "* Result – set of positions, where:\n",
    "  * **1st structuring element** fitting in foreground of input image and\n",
    "  * **2nd structuring element** missing it completely"
   ]
  },
  {
   "cell_type": "markdown",
   "id": "7be36b12",
   "metadata": {
    "slideshow": {
     "slide_type": "subslide"
    }
   },
   "source": [
    "![](https://upload.wikimedia.org/wikipedia/commons/6/69/Hitormisstransformatie.jpg)"
   ]
  },
  {
   "cell_type": "markdown",
   "id": "b1b5ca92",
   "metadata": {
    "slideshow": {
     "slide_type": "slide"
    }
   },
   "source": [
    "### (Topological) Image Skeleton"
   ]
  },
  {
   "cell_type": "markdown",
   "id": "64729088",
   "metadata": {
    "slideshow": {
     "slide_type": "fragment"
    }
   },
   "source": [
    "* Thinner version of **shape/binary image** \n",
    "* **Equidistant** to its **boundaries**\n",
    "* **Morphological skeleton**\n",
    "* **Skeleton** computed by **morphological operators**\n",
    "* Example:\n",
    "  * Shape and its skeleton \n",
    "  * Made with algorithm preserving topology\n",
    "* Applications\n",
    "  * Fingerprints scanning\n",
    "  * Optical Character Recognition (OCR)\n",
    "  * Compression\n",
    "  * Protein folding analysis"
   ]
  },
  {
   "cell_type": "markdown",
   "id": "5ad3d512",
   "metadata": {
    "slideshow": {
     "slide_type": "subslide"
    }
   },
   "source": [
    "![](https://upload.wikimedia.org/wikipedia/commons/9/93/Skel.png)"
   ]
  },
  {
   "cell_type": "markdown",
   "id": "6f6046b3",
   "metadata": {
    "slideshow": {
     "slide_type": "slide"
    }
   },
   "source": [
    "### Examples of Binary Image and Its Image Skeleton"
   ]
  },
  {
   "cell_type": "markdown",
   "id": "9d7dbd00",
   "metadata": {
    "slideshow": {
     "slide_type": "fragment"
    }
   },
   "source": [
    "![](https://www.mathworks.com/help/examples/images/win64/PerformMorphologicalOperationsOnBinaryImageExample_01.png)"
   ]
  },
  {
   "cell_type": "markdown",
   "id": "80594c22",
   "metadata": {
    "slideshow": {
     "slide_type": "fragment"
    }
   },
   "source": [
    "![](https://www.mathworks.com/help/examples/images/win64/PerformMorphologicalOperationsOnBinaryImageExample_03.png)"
   ]
  },
  {
   "cell_type": "markdown",
   "id": "6645a492",
   "metadata": {
    "slideshow": {
     "slide_type": "slide"
    }
   },
   "source": [
    "### Contours (Edges) Finding (Detection)"
   ]
  },
  {
   "cell_type": "markdown",
   "id": "4e110843",
   "metadata": {
    "slideshow": {
     "slide_type": "fragment"
    }
   },
   "source": [
    "* Set of mathematical methods aiming at identifying discontinuity points\n",
    "* Discontinuity points – were **image brightness** changes sharply\n",
    "* These points typically organized into a set of curved line segments (edges)\n",
    "* Like:\n",
    "  * **Step detection** (**1D** signals)\n",
    "  * **Change detection** (**time** signals)\n",
    "* Fundamental tool in:\n",
    "  * Image processing\n",
    "  * Machine/computer vision"
   ]
  },
  {
   "cell_type": "markdown",
   "id": "1faf9b47",
   "metadata": {
    "slideshow": {
     "slide_type": "slide"
    }
   },
   "source": [
    "### Contours (Edges) Finding (Detection) Example"
   ]
  },
  {
   "cell_type": "markdown",
   "id": "801b900b",
   "metadata": {
    "slideshow": {
     "slide_type": "fragment"
    }
   },
   "source": [
    "* **Canny edge detection**\n",
    "* Applied to photograph\n",
    "* Applications: \n",
    "  * **Feature detection**\n",
    "  * **Feature extraction**"
   ]
  },
  {
   "cell_type": "markdown",
   "id": "33b4f481",
   "metadata": {
    "slideshow": {
     "slide_type": "fragment"
    }
   },
   "source": [
    "![](https://upload.wikimedia.org/wikipedia/commons/2/20/Ääretuvastuse_näide.png)"
   ]
  },
  {
   "cell_type": "markdown",
   "id": "121505a9",
   "metadata": {
    "slideshow": {
     "slide_type": "slide"
    }
   },
   "source": [
    "### Distance Transform"
   ]
  },
  {
   "cell_type": "markdown",
   "id": "3be5c1e2",
   "metadata": {
    "slideshow": {
     "slide_type": "fragment"
    }
   },
   "source": [
    "* Labelling each pixel of an image with a distance to the nearest obstacle pixel\n",
    "* Most common type of an obstacle pixel – boundary pixel in a **binary image**\n",
    "* Usually qualified with a chosen **metric**"
   ]
  },
  {
   "cell_type": "markdown",
   "id": "5a1463ce",
   "metadata": {
    "slideshow": {
     "slide_type": "slide"
    }
   },
   "source": [
    "### Common Metrics"
   ]
  },
  {
   "cell_type": "markdown",
   "id": "2551d6f9",
   "metadata": {
    "slideshow": {
     "slide_type": "subslide"
    }
   },
   "source": [
    "* **Euclidean distance**:\n",
    "  * Euclidean metric\n",
    "  * Pythagorean metric\n",
    "  * $L^2$ norm\n",
    "  * $L^2$ distance"
   ]
  },
  {
   "cell_type": "markdown",
   "id": "ce3fe973",
   "metadata": {
    "slideshow": {
     "slide_type": "subslide"
    }
   },
   "source": [
    "* **Taxicab geometry**:\n",
    "  * City block distance\n",
    "  * Manhattan distance\n",
    "  * Manhattan length\n",
    "  * Rectilinear distance\n",
    "  * $L^1$ norm\n",
    "  * $L^1$ distance"
   ]
  },
  {
   "cell_type": "markdown",
   "id": "5bd908c5",
   "metadata": {
    "slideshow": {
     "slide_type": "subslide"
    }
   },
   "source": [
    "* **Chebyshev distance**:\n",
    "  * Tchebychev distance\n",
    "  * Maximum distance\n",
    "  * Chessboard distance\n",
    "  * $L^∞$ norm\n",
    "  * $L^∞$ distance"
   ]
  },
  {
   "cell_type": "markdown",
   "id": "e2f21071",
   "metadata": {
    "slideshow": {
     "slide_type": "slide"
    }
   },
   "source": [
    "### Euclidean Distance"
   ]
  },
  {
   "cell_type": "markdown",
   "id": "4b03758f",
   "metadata": {
    "slideshow": {
     "slide_type": "fragment"
    }
   },
   "source": [
    "* Distance between **2** points\n",
    "* In **Euclidean space**\n",
    "* **Ordinary distance** – i.e., straight-line"
   ]
  },
  {
   "cell_type": "markdown",
   "id": "41af53ee",
   "metadata": {
    "slideshow": {
     "slide_type": "fragment"
    }
   },
   "source": [
    "![](https://upload.wikimedia.org/wikipedia/en/f/f7/Distance_Transformation.gif)"
   ]
  },
  {
   "cell_type": "markdown",
   "id": "99cda21e",
   "metadata": {
    "slideshow": {
     "slide_type": "slide"
    }
   },
   "source": [
    "### Taxicab Geometry"
   ]
  },
  {
   "cell_type": "markdown",
   "id": "50595e33",
   "metadata": {
    "slideshow": {
     "slide_type": "fragment"
    }
   },
   "source": [
    "* **Distance** between **2** points\n",
    "* Sum of **absolute differences** of their **Cartesian coordinates**"
   ]
  },
  {
   "cell_type": "markdown",
   "id": "016c62cd",
   "metadata": {
    "slideshow": {
     "slide_type": "subslide"
    }
   },
   "source": [
    "* Taxicab geometry vs. Euclidean distance:\n",
    "  * Taxicab - all paths having shortest length of **12**:\n",
    "    * **Red**\n",
    "    * **Yellow**\n",
    "    * **Blue**\n",
    "  * Euclidean - **green** line having:\n",
    "    * Length $6\\sqrt{2}\\approx8.49$\n",
    "    * Unique shortest path"
   ]
  },
  {
   "cell_type": "markdown",
   "id": "4b1a9adc",
   "metadata": {
    "slideshow": {
     "slide_type": "fragment"
    }
   },
   "source": [
    "![](https://upload.wikimedia.org/wikipedia/commons/0/08/Manhattan_distance.svg)"
   ]
  },
  {
   "cell_type": "markdown",
   "id": "d7833487",
   "metadata": {
    "slideshow": {
     "slide_type": "subslide"
    }
   },
   "source": [
    "![](https://wikimedia.org/api/rest_v1/media/math/render/svg/acfaa800fbf2ed3950888c74a973aa0a7f79c0da)"
   ]
  },
  {
   "cell_type": "markdown",
   "id": "e0f37251",
   "metadata": {
    "slideshow": {
     "slide_type": "slide"
    }
   },
   "source": [
    "### Chebyshev Distance"
   ]
  },
  {
   "cell_type": "markdown",
   "id": "0149c160",
   "metadata": {
    "slideshow": {
     "slide_type": "fragment"
    }
   },
   "source": [
    "* **Distance** between **2 vectors**\n",
    "* Max of differences along any dimension\n",
    "* **Chess** board example\n",
    "* Minimum number of **required king moves**\n",
    "* Figure: distances of each square from f6"
   ]
  },
  {
   "cell_type": "markdown",
   "id": "c5f7b369",
   "metadata": {
    "slideshow": {
     "slide_type": "fragment"
    }
   },
   "source": [
    "![](https://wikimedia.org/api/rest_v1/media/math/render/svg/ef6bef9e786a1ec7618e3588803793a4c05ca2a4)"
   ]
  },
  {
   "cell_type": "markdown",
   "id": "de0a0260",
   "metadata": {
    "slideshow": {
     "slide_type": "fragment"
    }
   },
   "source": [
    "![](https://encrypted-tbn0.gstatic.com/images?q=tbn:ANd9GcSWtwCSgkUa3PWY8QXUZRcpnio5WDCyUJ1L8w&usqp=CAU)"
   ]
  },
  {
   "cell_type": "markdown",
   "id": "5ba22074",
   "metadata": {
    "slideshow": {
     "slide_type": "slide"
    }
   },
   "source": [
    "## Thank You for Your Attention!"
   ]
  },
  {
   "cell_type": "code",
   "execution_count": null,
   "id": "c7faec97",
   "metadata": {
    "slideshow": {
     "slide_type": "skip"
    }
   },
   "outputs": [],
   "source": []
  }
 ],
 "metadata": {
  "celltoolbar": "Slideshow",
  "kernelspec": {
   "display_name": "Python 3 (ipykernel)",
   "language": "python",
   "name": "python3"
  },
  "language_info": {
   "codemirror_mode": {
    "name": "ipython",
    "version": 3
   },
   "file_extension": ".py",
   "mimetype": "text/x-python",
   "name": "python",
   "nbconvert_exporter": "python",
   "pygments_lexer": "ipython3",
   "version": "3.9.7"
  }
 },
 "nbformat": 4,
 "nbformat_minor": 5
}
