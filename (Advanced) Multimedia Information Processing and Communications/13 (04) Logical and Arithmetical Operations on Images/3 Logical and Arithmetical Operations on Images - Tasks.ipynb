{
 "cells": [
  {
   "cell_type": "markdown",
   "id": "210f647e",
   "metadata": {
    "slideshow": {
     "slide_type": "slide"
    }
   },
   "source": [
    "# Logical and Arithmetical Operations on Images - Tasks\n",
    "\n",
    "_Mikołaj Leszczuk, Andrzej Matiolański, Zbigniew Hulicki_\n",
    "\n",
    "![](https://i.creativecommons.org/l/by/4.0/88x31.png)"
   ]
  },
  {
   "cell_type": "markdown",
   "id": "1bc2c941",
   "metadata": {
    "slideshow": {
     "slide_type": "slide"
    }
   },
   "source": [
    "## Logical Operations"
   ]
  },
  {
   "cell_type": "markdown",
   "id": "35a767d9",
   "metadata": {
    "slideshow": {
     "slide_type": "slide"
    }
   },
   "source": [
    "### Thresholding"
   ]
  },
  {
   "cell_type": "markdown",
   "id": "7cd86057",
   "metadata": {
    "slideshow": {
     "slide_type": "fragment"
    }
   },
   "source": [
    "Thresholding produces a binary image from a grey-scale or color image by setting pixel values to 1 or 0 depending on whether they are above or below the threshold value.\n",
    "\n",
    "Thresholding is commonly used to separate or segment a region\n",
    "or object within the image based upon its pixel values."
   ]
  },
  {
   "cell_type": "markdown",
   "id": "30558c6d",
   "metadata": {
    "slideshow": {
     "slide_type": "fragment"
    }
   },
   "source": [
    "![](thresholding_example.png)"
   ]
  },
  {
   "cell_type": "code",
   "execution_count": null,
   "id": "9b52af57",
   "metadata": {
    "slideshow": {
     "slide_type": "slide"
    }
   },
   "outputs": [],
   "source": []
  },
  {
   "cell_type": "markdown",
   "id": "6c908c9f",
   "metadata": {
    "slideshow": {
     "slide_type": "slide"
    }
   },
   "source": [
    "## Arithmetic Operations"
   ]
  },
  {
   "cell_type": "markdown",
   "id": "42b53bc3",
   "metadata": {
    "slideshow": {
     "slide_type": "fragment"
    }
   },
   "source": [
    "Arithmetic operation on images is the implementation of standard arithmetic operation such as: addition, subtraction, multiplication, division, which are performed pixel by pixel between two images or among many images, or adding a value to each image pixel value which can be used to achieve some effects on image, such as contrast adjustment for example."
   ]
  },
  {
   "cell_type": "markdown",
   "id": "26eb2e67",
   "metadata": {
    "slideshow": {
     "slide_type": "slide"
    }
   },
   "source": [
    "### Image Addition"
   ]
  },
  {
   "cell_type": "markdown",
   "id": "bfb384b2",
   "metadata": {
    "slideshow": {
     "slide_type": "fragment"
    }
   },
   "source": [
    "This is also called pixel addition. An addition operator adds two images in pixel by pixel fashion.\n",
    "\n",
    "As we mentioned above, we can also add a value to an image pixel value."
   ]
  },
  {
   "cell_type": "markdown",
   "id": "e7f6779d",
   "metadata": {
    "slideshow": {
     "slide_type": "slide"
    }
   },
   "source": [
    "#### Image to Constant Value Addition"
   ]
  },
  {
   "cell_type": "markdown",
   "id": "fe78765c",
   "metadata": {
    "slideshow": {
     "slide_type": "fragment"
    }
   },
   "source": [
    "Adding a positive constant value to each pixel location increases its value, and the result called “Contrast adjustment”"
   ]
  },
  {
   "cell_type": "markdown",
   "id": "3ebea637",
   "metadata": {
    "slideshow": {
     "slide_type": "fragment"
    }
   },
   "source": [
    "![](image_to_constant_value_addition.png)"
   ]
  },
  {
   "cell_type": "code",
   "execution_count": null,
   "id": "f6621444",
   "metadata": {
    "slideshow": {
     "slide_type": "slide"
    }
   },
   "outputs": [],
   "source": []
  },
  {
   "cell_type": "markdown",
   "id": "389c4f70",
   "metadata": {
    "slideshow": {
     "slide_type": "slide"
    }
   },
   "source": [
    "#### Two Images Addition"
   ]
  },
  {
   "cell_type": "markdown",
   "id": "ec843689",
   "metadata": {
    "slideshow": {
     "slide_type": "fragment"
    }
   },
   "source": [
    "![](two_images_addition.png)"
   ]
  },
  {
   "cell_type": "markdown",
   "id": "11acfbc5",
   "metadata": {
    "slideshow": {
     "slide_type": "subslide"
    }
   },
   "source": [
    "Comments:\n",
    "1. Generally, images must be of the same dimension and of the same data type (e.g. 8 bit integer) for addition and subtraction to be possible between them.\n",
    "2. Addition operation could be performed on gray scale images and black and white images as well, and to achieve that, RGB images should be converted to gray scale or black and white if they are not originally in gray scale, or B&W."
   ]
  },
  {
   "cell_type": "code",
   "execution_count": null,
   "id": "36597979",
   "metadata": {
    "slideshow": {
     "slide_type": "slide"
    }
   },
   "outputs": [],
   "source": []
  }
 ],
 "metadata": {
  "celltoolbar": "Slideshow",
  "kernelspec": {
   "display_name": "Python 3 (ipykernel)",
   "language": "python",
   "name": "python3"
  },
  "language_info": {
   "codemirror_mode": {
    "name": "ipython",
    "version": 3
   },
   "file_extension": ".py",
   "mimetype": "text/x-python",
   "name": "python",
   "nbconvert_exporter": "python",
   "pygments_lexer": "ipython3",
   "version": "3.11.5"
  }
 },
 "nbformat": 4,
 "nbformat_minor": 5
}
