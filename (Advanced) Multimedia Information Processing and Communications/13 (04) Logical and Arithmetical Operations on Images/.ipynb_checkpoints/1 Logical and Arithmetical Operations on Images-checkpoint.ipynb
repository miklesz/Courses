{
 "cells": [
  {
   "cell_type": "markdown",
   "id": "210f647e",
   "metadata": {
    "slideshow": {
     "slide_type": "slide"
    }
   },
   "source": [
    "# Logical and Arithmetical Operations on Images\n",
    "\n",
    "_Mikołaj Leszczuk, Andrzej Matiolański, Zbigniew Hulicki_\n",
    "\n",
    "![](https://i.creativecommons.org/l/by/4.0/88x31.png)"
   ]
  },
  {
   "cell_type": "markdown",
   "id": "dd037b67",
   "metadata": {
    "slideshow": {
     "slide_type": "slide"
    }
   },
   "source": [
    "## Description"
   ]
  },
  {
   "cell_type": "markdown",
   "id": "0d7b316c",
   "metadata": {
    "slideshow": {
     "slide_type": "fragment"
    }
   },
   "source": [
    "* Logical operations on images:\n",
    "  * AND\n",
    "  * OR\n",
    "  * XOR\n",
    "  * NEGATIVE\n",
    "  * Threshold\n",
    "* Arithmetical operations on images:\n",
    "  * Weighted sum/convolution\n",
    "  * Basics of background modelling (subtraction)/foreground detection"
   ]
  },
  {
   "cell_type": "markdown",
   "id": "30c9220f",
   "metadata": {
    "slideshow": {
     "slide_type": "slide"
    }
   },
   "source": [
    "## Logical Operations on Images"
   ]
  },
  {
   "cell_type": "markdown",
   "id": "64e2693f",
   "metadata": {
    "slideshow": {
     "slide_type": "slide"
    }
   },
   "source": [
    "### Bit Block Transfer (Bit Blit)"
   ]
  },
  {
   "cell_type": "markdown",
   "id": "33095c12",
   "metadata": {
    "slideshow": {
     "slide_type": "fragment"
    }
   },
   "source": [
    "* **Computer graphics** operation in which **several bitmaps** are combined into **`1`** using **Boolean function**\n",
    "* Operation involving **`2+`** bitmaps:\n",
    "  1. Source\n",
    "  1. Destination, \n",
    "  1. Mask (possibly) \n",
    "  1. Stencil (sometimes)\n",
    "* Pixels of each combined bitwise according to a specified **raster operation (ROP)**"
   ]
  },
  {
   "cell_type": "markdown",
   "id": "954ffa2a",
   "metadata": {
    "slideshow": {
     "slide_type": "subslide"
    }
   },
   "source": [
    "* Result then written to the destination\n",
    "* **ROP** – essentially **Boolean** formula\n",
    "* Most obvious **ROP** overwriting destination with source\n",
    "* Other **ROPs** may involve:\n",
    "  * **AND**\n",
    "  * **OR**\n",
    "  * **XOR**\n",
    "  * **NOT**"
   ]
  },
  {
   "cell_type": "markdown",
   "id": "4c783415",
   "metadata": {
    "slideshow": {
     "slide_type": "slide"
    }
   },
   "source": [
    "### Basic Logical Operations"
   ]
  },
  {
   "cell_type": "markdown",
   "id": "f20c8766",
   "metadata": {
    "slideshow": {
     "slide_type": "fragment"
    }
   },
   "source": [
    "![](a.png)\n",
    "a"
   ]
  },
  {
   "cell_type": "markdown",
   "id": "24e279fa",
   "metadata": {
    "slideshow": {
     "slide_type": "fragment"
    }
   },
   "source": [
    "![](b.png)\n",
    "b"
   ]
  },
  {
   "cell_type": "markdown",
   "id": "f575a3c0",
   "metadata": {
    "slideshow": {
     "slide_type": "fragment"
    }
   },
   "source": [
    "Black pixels represent binary **`0`** (**`False`** state)"
   ]
  },
  {
   "cell_type": "markdown",
   "id": "405a8e68",
   "metadata": {
    "slideshow": {
     "slide_type": "subslide"
    }
   },
   "source": [
    "![](not.png)\n",
    "NOT(a)"
   ]
  },
  {
   "cell_type": "markdown",
   "id": "65ec3c16",
   "metadata": {
    "slideshow": {
     "slide_type": "subslide"
    }
   },
   "source": [
    "![](and.png)\n",
    "a . b"
   ]
  },
  {
   "cell_type": "markdown",
   "id": "52c407a5",
   "metadata": {
    "slideshow": {
     "slide_type": "subslide"
    }
   },
   "source": [
    "![](or.png)\n",
    "a + b"
   ]
  },
  {
   "cell_type": "markdown",
   "id": "42a24386",
   "metadata": {
    "slideshow": {
     "slide_type": "slide"
    }
   },
   "source": [
    "### Image Masks"
   ]
  },
  {
   "cell_type": "markdown",
   "id": "3d54d408",
   "metadata": {
    "slideshow": {
     "slide_type": "fragment"
    }
   },
   "source": [
    "* When a given image is intended to be placed over a background, transparent areas can be specified with a binary mask\n",
    "* This way, for each intended image – **`2` bitmaps** are needed:\n",
    "  1. Original image, in which unused areas have **pixel** value set to **`0`** (all channels)\n",
    "  1. Additional mask, in which:\n",
    "     * Areas where the original image is to be placed have all pixels set to **`0`** (all channels)\n",
    "     * Surrounding areas have all pixels set to **`1`** (all channels)"
   ]
  },
  {
   "cell_type": "markdown",
   "id": "b05ab776",
   "metadata": {
    "slideshow": {
     "slide_type": "subslide"
    }
   },
   "source": [
    "* In sample below:\n",
    "  * Black pixels having **all-`0`** bits\n",
    "  * White pixels having **all-`1`** bits\n"
   ]
  },
  {
   "cell_type": "markdown",
   "id": "cc48ef11",
   "metadata": {
    "slideshow": {
     "slide_type": "fragment"
    }
   },
   "source": [
    "![](https://upload.wikimedia.org/wikipedia/commons/7/7c/Blit_dot.gif)"
   ]
  },
  {
   "cell_type": "markdown",
   "id": "1e4a741e",
   "metadata": {
    "slideshow": {
     "slide_type": "subslide"
    }
   },
   "source": [
    "* To put an image over a background:\n",
    "  1. Mask background pixels with an image mask at desired coordinates using **bitwise AND** operation:\n",
    "     * Preserve background pixels of transparent areas (white pixels)\n",
    "     * Set to **`0`** all pixels to be obscured by the overlapped image\n",
    "  1. Render the selected image pixels by combining them with background pixels using **bitwise OR** operation:\n",
    "     * Image pixels must be appropriately placed\n",
    "     * Rendering keeps surrounding pixels of the background preserved"
   ]
  },
  {
   "cell_type": "markdown",
   "id": "037277c7",
   "metadata": {
    "slideshow": {
     "slide_type": "subslide"
    }
   },
   "source": [
    "* Result: a perfect compound of the image and the background"
   ]
  },
  {
   "cell_type": "markdown",
   "id": "78b7719f",
   "metadata": {
    "slideshow": {
     "slide_type": "fragment"
    }
   },
   "source": [
    "![](https://upload.wikimedia.org/wikipedia/commons/1/11/Sprite_rendering_by_binary_image_mask.png)"
   ]
  },
  {
   "cell_type": "markdown",
   "id": "c74e6316",
   "metadata": {
    "slideshow": {
     "slide_type": "slide"
    }
   },
   "source": [
    "### Thresholding"
   ]
  },
  {
   "cell_type": "markdown",
   "id": "c46c1cb7",
   "metadata": {
    "slideshow": {
     "slide_type": "fragment"
    }
   },
   "source": [
    "* The simplest method of image segmentation\n",
    "* A grayscale image can be converted into binary one\n",
    "* Simplest thresholding methods – replace each pixel in image with:\n",
    "  * Black pixel if image intensity $I_{ij}$ (in i-th row and j-th column) less than some fixed constant $T$\n",
    "  * White pixel if image intensity greater than that constant\n",
    "\n",
    "![](thresholding.png)"
   ]
  },
  {
   "cell_type": "markdown",
   "id": "6d1789c2",
   "metadata": {
    "slideshow": {
     "slide_type": "subslide"
    }
   },
   "source": [
    "* An exemplary image will follow – resulting in:\n",
    "  * Darker regions becoming completely black\n",
    "  * Lighter regions becoming completely white\n",
    "\n",
    "![](thresholding.png)"
   ]
  },
  {
   "cell_type": "markdown",
   "id": "b151dea1",
   "metadata": {
    "slideshow": {
     "slide_type": "slide"
    }
   },
   "source": [
    "### Original Image and Example of Threshold Effect Used on Image"
   ]
  },
  {
   "cell_type": "markdown",
   "id": "539692e3",
   "metadata": {
    "slideshow": {
     "slide_type": "subslide"
    }
   },
   "source": [
    "![](https://upload.wikimedia.org/wikipedia/commons/d/d6/Pavlovsk_Railing_of_bridge_Yellow_palace_Winter.jpg)"
   ]
  },
  {
   "cell_type": "markdown",
   "id": "e20b6639",
   "metadata": {
    "slideshow": {
     "slide_type": "subslide"
    }
   },
   "source": [
    "![](https://upload.wikimedia.org/wikipedia/commons/d/d4/Pavlovsk_Railing_of_bridge_Yellow_palace_Winter_bw_threshold.jpg)"
   ]
  },
  {
   "cell_type": "markdown",
   "id": "9561cdcc",
   "metadata": {
    "slideshow": {
     "slide_type": "slide"
    }
   },
   "source": [
    "## Arithmetical Operations on Images"
   ]
  },
  {
   "cell_type": "markdown",
   "id": "426a4994",
   "metadata": {
    "slideshow": {
     "slide_type": "slide"
    }
   },
   "source": [
    "### Image Arithmetic"
   ]
  },
  {
   "cell_type": "markdown",
   "id": "31862011",
   "metadata": {
    "slideshow": {
     "slide_type": "fragment"
    }
   },
   "source": [
    "* Implementation of standard arithmetic operations on images – examples:\n",
    "  * Addition\n",
    "  * Subtraction\n",
    "  * Multiplication\n",
    "  * Division\n",
    "* Having many uses in image processing:\n",
    "  * Preliminary step in more complex operations\n",
    "  * By itself\n",
    "* Example: image subtraction to be used to detect differences between **`2+`** images of same scene/object"
   ]
  },
  {
   "cell_type": "markdown",
   "id": "962dd87b",
   "metadata": {
    "slideshow": {
     "slide_type": "slide"
    }
   },
   "source": [
    "### Image Addition"
   ]
  },
  {
   "cell_type": "markdown",
   "id": "29393064",
   "metadata": {
    "slideshow": {
     "slide_type": "fragment"
    }
   },
   "source": [
    "* Adding\n",
    "  * `2` **images**, or\n",
    "  * **constant to an image**\n",
    "* Adding:\n",
    "  * each element in the **`1`st** image matrix, with \n",
    "  * a corresponding element in the **`2`nd** image matrix\n",
    "* Returning a sum of corresponding elements to the **`3`rd**, output image matrix\n",
    "* Image matrices – real, non-sparse numeric matrices with the same size"
   ]
  },
  {
   "cell_type": "markdown",
   "id": "f851e619",
   "metadata": {
    "slideshow": {
     "slide_type": "slide"
    }
   },
   "source": [
    "### Image Subtraction"
   ]
  },
  {
   "cell_type": "markdown",
   "id": "3335ce68",
   "metadata": {
    "slideshow": {
     "slide_type": "fragment"
    }
   },
   "source": [
    "* Subtracting\n",
    "  * **`1` image from another**, or\n",
    "  * **a constant from an image**\n",
    "* Subtracting:\n",
    "  * each element in the **`1`st** image matrix, from\n",
    "  * a corresponding element in the **`2`nd** image matrix\n",
    "* Returning a difference of corresponding elements to the **`3`rd**, output image matrix\n",
    "* Image matrices – real, non-sparse numeric matrices with the same size"
   ]
  },
  {
   "cell_type": "markdown",
   "id": "582a023f",
   "metadata": {
    "slideshow": {
     "slide_type": "slide"
    }
   },
   "source": [
    "### Image Absolute Difference"
   ]
  },
  {
   "cell_type": "markdown",
   "id": "6b5a0675",
   "metadata": {
    "slideshow": {
     "slide_type": "fragment"
    }
   },
   "source": [
    "* Absolute difference of **`2`** images\n",
    "* Subtracting:\n",
    "  * each element in the **`1`st** image matrix, from \n",
    "  * a corresponding element in the **`2`nd** image matrix\n",
    "* Returning an absolute difference of corresponding elements to the **`3`rd**, output image matrix"
   ]
  },
  {
   "cell_type": "markdown",
   "id": "b42e8de7",
   "metadata": {
    "slideshow": {
     "slide_type": "fragment"
    }
   },
   "source": [
    "![](https://www.mathworks.com/help/examples/images/win64/DisplayAbsoluteDifferenceBetweenFilteredImageAndOriginalExample_01.png)"
   ]
  },
  {
   "cell_type": "markdown",
   "id": "a48392a2",
   "metadata": {
    "slideshow": {
     "slide_type": "slide"
    }
   },
   "source": [
    "### Image Complementation"
   ]
  },
  {
   "cell_type": "markdown",
   "id": "7adf8ecb",
   "metadata": {
    "slideshow": {
     "slide_type": "fragment"
    }
   },
   "source": [
    "* Complementing an image\n",
    "* Computing complement of the image matrix\n",
    "* Image matrix can be:\n",
    "  * a **binary** image\n",
    "  * a **grayscale** image\n",
    "  * a **true-colour (RGB)** image\n",
    "* Output has the same size as the input"
   ]
  },
  {
   "cell_type": "markdown",
   "id": "3a3f3a1c",
   "metadata": {
    "slideshow": {
     "slide_type": "fragment"
    }
   },
   "source": [
    "![](http://matlab.izmiran.ru/help/toolbox/images/refer20d.gif)"
   ]
  },
  {
   "cell_type": "markdown",
   "id": "50cd1c46",
   "metadata": {
    "slideshow": {
     "slide_type": "slide"
    }
   },
   "source": [
    "### Image Multiplication"
   ]
  },
  {
   "cell_type": "markdown",
   "id": "196c8690",
   "metadata": {
    "slideshow": {
     "slide_type": "fragment"
    }
   },
   "source": [
    "* Multiplying:\n",
    "  * **`2` images**, or\n",
    "  * **an image by a constant**\n",
    "* Multiplying each element in the **`1`st** image matrix by a corresponding element in the **`2`nd** image matrix - **not like matrices multiplication from algebra**\n",
    "* Returning corresponding elements to the **`3`rd**, output image matrix\n",
    "* Image matrices – real, non-sparse numeric matrices with the same size"
   ]
  },
  {
   "cell_type": "markdown",
   "id": "7eef5a63",
   "metadata": {
    "slideshow": {
     "slide_type": "slide"
    }
   },
   "source": [
    "### Image Division"
   ]
  },
  {
   "cell_type": "markdown",
   "id": "5eaef1f3",
   "metadata": {
    "slideshow": {
     "slide_type": "fragment"
    }
   },
   "source": [
    "* Dividing:\n",
    "  * **`1` image by another**, or\n",
    "  * **an image by a constant**\n",
    "* Dividing each element in the **`1`st** image matrix by a corresponding element in the **`2`nd** image matrix - **is there a corresponding algebraic operation?**\n",
    "* Returning corresponding elements to the **`3`rd**, output image matrix\n",
    "* Image matrices – real, non-sparse numeric matrices with the same size"
   ]
  },
  {
   "cell_type": "markdown",
   "id": "84663c39",
   "metadata": {
    "slideshow": {
     "slide_type": "slide"
    }
   },
   "source": [
    "### Linear Combination of Images"
   ]
  },
  {
   "cell_type": "markdown",
   "id": "b1b0ab70",
   "metadata": {
    "slideshow": {
     "slide_type": "fragment"
    }
   },
   "source": [
    "![](lincomb.png)"
   ]
  },
  {
   "cell_type": "markdown",
   "id": "f5e01cc9",
   "metadata": {
    "slideshow": {
     "slide_type": "fragment"
    }
   },
   "source": [
    "* where:\n",
    "  * $A_{out}$ - the output image\n",
    "  * $k_1...k_n$ - weights of each image,\n",
    "  * $A_1...A_n$ - image matrices,\n",
    "  * $k_0$ - bias term (constant shift). "
   ]
  },
  {
   "cell_type": "markdown",
   "id": "30f3e26c",
   "metadata": {
    "slideshow": {
     "slide_type": "fragment"
    }
   },
   "source": [
    "* Output has the same size as input\n",
    "* **Mind the notation!**"
   ]
  },
  {
   "cell_type": "markdown",
   "id": "548be4b5",
   "metadata": {
    "slideshow": {
     "slide_type": "slide"
    }
   },
   "source": [
    "### Weighting Matrix"
   ]
  },
  {
   "cell_type": "markdown",
   "id": "d04d188a",
   "metadata": {
    "slideshow": {
     "slide_type": "fragment"
    }
   },
   "source": [
    "![](applymatrix.png)"
   ]
  },
  {
   "cell_type": "markdown",
   "id": "847ff7d2",
   "metadata": {
    "slideshow": {
     "slide_type": "subslide"
    }
   },
   "source": [
    "* Linear combination of colour channels\n",
    "* Computing linear combination of:\n",
    "  * Rows of weighting matrix, with\n",
    "  * Colour channels of image matrix\n",
    "* Possibly adding corresponding constant value to each combination\n",
    "* Output data size – same as input data size\n",
    "\n",
    "![](https://www.mathworks.com/help/examples/images/win64/ComputeLinearCombinationOfColorChannelsExample_01.png)"
   ]
  },
  {
   "cell_type": "markdown",
   "id": "7a6c325a",
   "metadata": {
    "slideshow": {
     "slide_type": "slide"
    }
   },
   "source": [
    "### Image Averaging (Smoothing)"
   ]
  },
  {
   "cell_type": "markdown",
   "id": "9eec72d7",
   "metadata": {
    "slideshow": {
     "slide_type": "fragment"
    }
   },
   "source": [
    "* Creating an approximating function:\n",
    "  * Attempting to capture important **patterns** in data, while\n",
    "  * Leaving out:\n",
    "    * **Noise**, or\n",
    "    * Other fine-scale structures/rapid phenomena\n",
    "* Pixels modified so:\n",
    "  * **Isolated** pixels (presumably because of noise) reduced, and\n",
    "  * Pixels slightly darker (or brighter) than adjacent pixels made brighter (or darker) leading to a smoother image"
   ]
  },
  {
   "cell_type": "markdown",
   "id": "b0f83313",
   "metadata": {
    "slideshow": {
     "slide_type": "slide"
    }
   },
   "source": [
    "### Weighted Sum/Convolution"
   ]
  },
  {
   "cell_type": "markdown",
   "id": "718af448",
   "metadata": {
    "slideshow": {
     "slide_type": "fragment"
    }
   },
   "source": [
    "* **A digital counterpart of the mathematical operation** (that you have learned during the Signals Theory course)\n",
    "* An **input image** is **convolved** with a **kernel**\n",
    "* Application: blurring\n",
    "* Example: **Gaussian blur** used in order to obtain a smoother grayscale digital image of **halftone** print"
   ]
  },
  {
   "cell_type": "markdown",
   "id": "8c250884",
   "metadata": {
    "slideshow": {
     "slide_type": "subslide"
    }
   },
   "source": [
    "![](https://upload.wikimedia.org/wikipedia/commons/d/d7/Halftone%2C_Gaussian_Blur.jpg)"
   ]
  },
  {
   "cell_type": "markdown",
   "id": "cd3aeb23",
   "metadata": {
    "slideshow": {
     "slide_type": "slide"
    }
   },
   "source": [
    "### Basics of Background Modelling (Subtraction)/Foreground Detection"
   ]
  },
  {
   "cell_type": "markdown",
   "id": "457bfc33",
   "metadata": {
    "slideshow": {
     "slide_type": "fragment"
    }
   },
   "source": [
    "* Technique extracting image foreground for further processing (object recognition etc.)"
   ]
  },
  {
   "cell_type": "markdown",
   "id": "0067596b",
   "metadata": {
    "slideshow": {
     "slide_type": "fragment"
    }
   },
   "source": [
    "* One of the major **image processing**/**computer vision** tasks aiming at **detection of changes in an image sequence**"
   ]
  },
  {
   "cell_type": "markdown",
   "id": "1bb1c983",
   "metadata": {
    "slideshow": {
     "slide_type": "fragment"
    }
   },
   "source": [
    "![“Background foreground” by Hgallego – Own work. Licensed under CC BY-SA 3.0 via Commons – https://commons.wikimedia.org/wiki/File:Background_foreground.tiff#/media/File:Background_foreground.tiff\n",
    "![image.png](attachment:image.png)](https://upload.wikimedia.org/wikipedia/commons/9/98/Background_foreground.tiff)"
   ]
  },
  {
   "cell_type": "code",
   "execution_count": null,
   "id": "f6621444",
   "metadata": {
    "slideshow": {
     "slide_type": "skip"
    }
   },
   "outputs": [],
   "source": []
  }
 ],
 "metadata": {
  "celltoolbar": "Slideshow",
  "kernelspec": {
   "display_name": "Python 3 (ipykernel)",
   "language": "python",
   "name": "python3"
  },
  "language_info": {
   "codemirror_mode": {
    "name": "ipython",
    "version": 3
   },
   "file_extension": ".py",
   "mimetype": "text/x-python",
   "name": "python",
   "nbconvert_exporter": "python",
   "pygments_lexer": "ipython3",
   "version": "3.11.5"
  }
 },
 "nbformat": 4,
 "nbformat_minor": 5
}
