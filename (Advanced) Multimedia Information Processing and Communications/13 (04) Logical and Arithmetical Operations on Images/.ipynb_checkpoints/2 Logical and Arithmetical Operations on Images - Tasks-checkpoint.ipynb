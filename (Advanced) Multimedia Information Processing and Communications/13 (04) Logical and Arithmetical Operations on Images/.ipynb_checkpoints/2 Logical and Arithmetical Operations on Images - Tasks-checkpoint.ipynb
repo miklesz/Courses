{
 "cells": [
  {
   "cell_type": "markdown",
   "id": "210f647e",
   "metadata": {
    "slideshow": {
     "slide_type": "slide"
    }
   },
   "source": [
    "# Logical and Arithmetical Operations on Images - Tasks\n",
    "\n",
    "_Mikołaj Leszczuk, Andrzej Matiolański, Zbigniew Hulicki_\n",
    "\n",
    "![](https://i.creativecommons.org/l/by/4.0/88x31.png)"
   ]
  },
  {
   "cell_type": "markdown",
   "id": "389c4f70",
   "metadata": {
    "slideshow": {
     "slide_type": "slide"
    }
   },
   "source": [
    "## Exercises"
   ]
  },
  {
   "cell_type": "code",
   "execution_count": null,
   "id": "dc88fb0c",
   "metadata": {
    "slideshow": {
     "slide_type": "fragment"
    }
   },
   "outputs": [],
   "source": [
    "import cv2\n",
    "import matplotlib.pyplot as plt"
   ]
  },
  {
   "cell_type": "markdown",
   "id": "e31b2bdb",
   "metadata": {
    "slideshow": {
     "slide_type": "slide"
    }
   },
   "source": [
    "## Logical Operations"
   ]
  },
  {
   "cell_type": "markdown",
   "id": "b05f2448",
   "metadata": {
    "slideshow": {
     "slide_type": "fragment"
    }
   },
   "source": [
    "We can perform standard logical operations between images such as NOT, OR, XOR and AND. In general, logical operation is performed between each corresponding bit of the image pixel representation."
   ]
  },
  {
   "cell_type": "markdown",
   "id": "4e468e22",
   "metadata": {
    "slideshow": {
     "slide_type": "fragment"
    }
   },
   "source": [
    "**Comments**:\n",
    "    \n",
    "* Note that the images have to be first converted to grayscale and then to binary using the OpenCV `cv2.threshold()` function (with a certain threshold, recommended: `127`).\n",
    "* Note that the resulting images, being the element `[1]` from the `tuple` of `cv2.threshold()` function have to be displayed with a `'gray'` colormap."
   ]
  },
  {
   "cell_type": "markdown",
   "id": "b477170c",
   "metadata": {
    "slideshow": {
     "slide_type": "slide"
    }
   },
   "source": [
    "### NOT (Inversion)"
   ]
  },
  {
   "cell_type": "markdown",
   "id": "5ccae316",
   "metadata": {
    "slideshow": {
     "slide_type": "fragment"
    }
   },
   "source": [
    "Inplement NOT operation that inverts the image representation, in the simplest case of a binary image, where the (black) background pixels become (white) foreground and vice versa. For greyscale and color images, the procedure is to replace each pixel value:\n",
    "\n",
    "_Ioutput_ (_i_,_j_) as follows:\n",
    "\n",
    "$$I_{output}(i,j) = MAX – I_{output}({i},{j})$$\n",
    "\n",
    "Where _MAX_ is the maximum possible value in the given image representation.\n",
    "\n",
    "Thus, for an 8-bit grey-scale image (or for 8-bit channels within a color image), _MAX_ = 255."
   ]
  },
  {
   "cell_type": "markdown",
   "id": "97ea6294",
   "metadata": {
    "slideshow": {
     "slide_type": "subslide"
    }
   },
   "source": [
    "Example:\n",
    "\n",
    "![](not_example.png)"
   ]
  },
  {
   "cell_type": "markdown",
   "id": "d201e317",
   "metadata": {
    "slideshow": {
     "slide_type": "slide"
    }
   },
   "source": [
    "**Python implementation example**:"
   ]
  },
  {
   "cell_type": "code",
   "execution_count": null,
   "id": "2cbe837b",
   "metadata": {
    "slideshow": {
     "slide_type": "subslide"
    }
   },
   "outputs": [],
   "source": [
    "im1 = cv2.imread('Matlab Workspace/rose1.jpg')  # reading image\n",
    "im1_gray = cv2.cvtColor(im1, cv2.COLOR_BGR2GRAY)\n",
    "ret, im1_bw = cv2.threshold(im1_gray, 127, 255, cv2.THRESH_BINARY)\n",
    "imcomplement_result_1 = 255-im1  # Invert the RGB image\n",
    "imcomplement_result_2 = 255-im1_bw  # Invert the B&W image\n",
    "plt.figure()\n",
    "plt.subplot(2, 2, 1), plt.xticks(()), plt.yticks(())\n",
    "plt.imshow(cv2.cvtColor(im1, cv2.COLOR_BGR2RGB))  # Display the image\n",
    "plt.title('image 1')\n",
    "plt.subplot(2, 2, 3), plt.xticks(()), plt.yticks(())\n",
    "plt.imshow(cv2.cvtColor(imcomplement_result_1, cv2.COLOR_BGR2RGB))  # Display the result\n",
    "plt.title('Operation : Im complement')\n",
    "plt.subplot(2, 2, 2), plt.xticks(()), plt.yticks(())\n",
    "plt.imshow(im1_bw, 'gray')  # Display the image\n",
    "plt.title('image 1 B&W')\n",
    "plt.subplot(2, 2, 4), plt.xticks(()), plt.yticks(())\n",
    "plt.imshow(imcomplement_result_2, 'gray')  # Display the result\n",
    "plt.title('Operation : Im complement');"
   ]
  },
  {
   "cell_type": "markdown",
   "id": "b7e1e865",
   "metadata": {
    "slideshow": {
     "slide_type": "slide"
    }
   },
   "source": [
    "### OR/XOR"
   ]
  },
  {
   "cell_type": "markdown",
   "id": "fd3b6a70",
   "metadata": {
    "slideshow": {
     "slide_type": "fragment"
    }
   },
   "source": [
    "Logical OR (and XOR) is useful for processing binary-valued images (`0` or `1`) to detect objects which have moved between frames."
   ]
  },
  {
   "cell_type": "markdown",
   "id": "a7b961ad",
   "metadata": {
    "slideshow": {
     "slide_type": "slide"
    }
   },
   "source": [
    "#### Logical OR Operation"
   ]
  },
  {
   "cell_type": "markdown",
   "id": "70ac0c39",
   "metadata": {
    "slideshow": {
     "slide_type": "fragment"
    }
   },
   "source": [
    "Example:\n",
    "\n",
    "![](or_example.png)"
   ]
  },
  {
   "cell_type": "markdown",
   "id": "c0aa2c65",
   "metadata": {
    "slideshow": {
     "slide_type": "slide"
    }
   },
   "source": [
    "**Python implementation example**:"
   ]
  },
  {
   "cell_type": "code",
   "execution_count": null,
   "id": "b9353265",
   "metadata": {
    "slideshow": {
     "slide_type": "subslide"
    }
   },
   "outputs": [],
   "source": [
    "im1 = cv2.imread('Matlab Workspace/rose1.jpg')  # reading image\n",
    "im2 = cv2.imread('Matlab Workspace/rose2.jpg')  # reading image\n",
    "ret, im1_bw = cv2.threshold(cv2.cvtColor(im1, cv2.COLOR_BGR2GRAY), 127, 255, cv2.THRESH_BINARY)  # converting RGB image to black and white\n",
    "ret, im2_bw = cv2.threshold(cv2.cvtColor(im2, cv2.COLOR_BGR2GRAY), 127, 255, cv2.THRESH_BINARY)  # converting RGB image to black and white\n",
    "operation_or_result = cv2.bitwise_or(im1_bw, im2_bw)\n",
    "plt.figure()\n",
    "plt.subplot(4, 4, 1), plt.xticks(()), plt.yticks(())\n",
    "plt.imshow(cv2.cvtColor(im1, cv2.COLOR_BGR2RGB))  # Display the image\n",
    "plt.title('image 1')\n",
    "plt.subplot(4, 4, 2), plt.xticks(()), plt.yticks(())\n",
    "plt.imshow(cv2.cvtColor(im2, cv2.COLOR_BGR2RGB))  # Display the image\n",
    "plt.title('image 2')\n",
    "plt.subplot(4, 4, 3), plt.xticks(()), plt.yticks(())\n",
    "plt.imshow(im1_bw, 'gray')  # Display the image\n",
    "plt.title('image 1 B&W')\n",
    "plt.subplot(4, 4, 4), plt.xticks(()), plt.yticks(())\n",
    "plt.imshow(im2_bw, 'gray')  # Display the image\n",
    "plt.title('image 2 B&W')\n",
    "plt.subplot(2, 2, 3), plt.xticks(()), plt.yticks(())\n",
    "plt.imshow(cv2.cvtColor(operation_or_result, cv2.COLOR_BGR2RGB))  # Display the result\n",
    "plt.title('Logical Operation: OR');"
   ]
  },
  {
   "cell_type": "markdown",
   "id": "25e269be",
   "metadata": {
    "slideshow": {
     "slide_type": "slide"
    }
   },
   "source": [
    "#### Logical XOR Operation"
   ]
  },
  {
   "cell_type": "markdown",
   "id": "7ccd6a8e",
   "metadata": {
    "slideshow": {
     "slide_type": "fragment"
    }
   },
   "source": [
    "Example:\n",
    "\n",
    "![](xor_example.png)"
   ]
  },
  {
   "cell_type": "markdown",
   "id": "8080015c",
   "metadata": {
    "slideshow": {
     "slide_type": "slide"
    }
   },
   "source": [
    "**Python implementation example**:"
   ]
  },
  {
   "cell_type": "code",
   "execution_count": null,
   "id": "ab5c9ec3",
   "metadata": {
    "slideshow": {
     "slide_type": "subslide"
    }
   },
   "outputs": [],
   "source": [
    "im1 = cv2.imread('Matlab Workspace/rose1.jpg')  # reading image\n",
    "im2 = cv2.imread('Matlab Workspace/rose2.jpg')  # reading image\n",
    "ret, im1_bw = cv2.threshold(cv2.cvtColor(im1, cv2.COLOR_BGR2GRAY), 127, 255, cv2.THRESH_BINARY)  # converting RGB image to black and white\n",
    "ret, im2_bw = cv2.threshold(cv2.cvtColor(im2, cv2.COLOR_BGR2GRAY), 127, 255, cv2.THRESH_BINARY)  # converting RGB image to black and white\n",
    "operation_or_result = cv2.bitwise_xor(im1_bw, im2_bw)\n",
    "plt.figure()\n",
    "plt.subplot(4, 4, 1), plt.xticks(()), plt.yticks(())\n",
    "plt.imshow(cv2.cvtColor(im1, cv2.COLOR_BGR2RGB))  # Display the image\n",
    "plt.title('image 1')\n",
    "plt.subplot(4, 4, 2), plt.xticks(()), plt.yticks(())\n",
    "plt.imshow(cv2.cvtColor(im2, cv2.COLOR_BGR2RGB))  # Display the image\n",
    "plt.title('image 2')\n",
    "plt.subplot(4, 4, 3), plt.xticks(()), plt.yticks(())\n",
    "plt.imshow(im1_bw, 'gray')  # Display the image\n",
    "plt.title('image 1 B&W')\n",
    "plt.subplot(4, 4, 4), plt.xticks(()), plt.yticks(())\n",
    "plt.imshow(im2_bw, 'gray')  # Display the image\n",
    "plt.title('image 2 B&W')\n",
    "plt.subplot(2, 2, 3), plt.xticks(()), plt.yticks(())\n",
    "plt.imshow(cv2.cvtColor(operation_or_result, cv2.COLOR_BGR2RGB))  # Display the result\n",
    "plt.title('Logical Operation: XOR');"
   ]
  },
  {
   "cell_type": "markdown",
   "id": "a2e710e3",
   "metadata": {
    "slideshow": {
     "slide_type": "slide"
    }
   },
   "source": [
    "## More Operations"
   ]
  },
  {
   "cell_type": "markdown",
   "id": "7b27029a",
   "metadata": {
    "slideshow": {
     "slide_type": "fragment"
    }
   },
   "source": [
    "[Logical and Arithmetical Operations on Images.pdf](https://github.com/miklesz/Courses/blob/main/Advanced%20Multimedia%20Information%20Processing%20and%20Communications/04%20(13)%20Logical%20and%20Arithmetical%20Operations%20on%20Images/Logical%20and%20Arithmetical%20Operations%20on%20Images.pdf)"
   ]
  },
  {
   "cell_type": "code",
   "execution_count": null,
   "id": "f6621444",
   "metadata": {
    "slideshow": {
     "slide_type": "skip"
    }
   },
   "outputs": [],
   "source": []
  }
 ],
 "metadata": {
  "celltoolbar": "Slideshow",
  "kernelspec": {
   "display_name": "Python 3 (ipykernel)",
   "language": "python",
   "name": "python3"
  },
  "language_info": {
   "codemirror_mode": {
    "name": "ipython",
    "version": 3
   },
   "file_extension": ".py",
   "mimetype": "text/x-python",
   "name": "python",
   "nbconvert_exporter": "python",
   "pygments_lexer": "ipython3",
   "version": "3.9.7"
  }
 },
 "nbformat": 4,
 "nbformat_minor": 5
}
