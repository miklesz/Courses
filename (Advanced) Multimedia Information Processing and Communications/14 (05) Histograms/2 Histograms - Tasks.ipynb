{
 "cells": [
  {
   "cell_type": "markdown",
   "id": "26cc9fd7",
   "metadata": {
    "slideshow": {
     "slide_type": "slide"
    }
   },
   "source": [
    "# Histograms and Image Statistics - Tasks\n",
    "_Zbigniew Hulicki, Mikołaj Leszczuk, Jakub Nawała_\n",
    "![](https://i.creativecommons.org/l/by/4.0/88x31.png)"
   ]
  },
  {
   "cell_type": "markdown",
   "id": "1cb13402",
   "metadata": {
    "slideshow": {
     "slide_type": "slide"
    }
   },
   "source": [
    "## Abstract"
   ]
  },
  {
   "cell_type": "markdown",
   "id": "ae94cddd",
   "metadata": {
    "slideshow": {
     "slide_type": "fragment"
    }
   },
   "source": [
    "This document is a exercise instruction, introducing students into basic histogram operations in image processing, using Python."
   ]
  },
  {
   "cell_type": "markdown",
   "id": "4203171d",
   "metadata": {
    "slideshow": {
     "slide_type": "slide"
    }
   },
   "source": [
    "## What Is an Image Histogram?"
   ]
  },
  {
   "cell_type": "markdown",
   "id": "1de0f27d",
   "metadata": {
    "slideshow": {
     "slide_type": "fragment"
    }
   },
   "source": [
    "An **image histogram** is a type of histogram that acts as a graphical representation of the tonal distribution in a digital image. It plots the number of pixels for each tonal value.\n",
    "\n",
    "It is important to note that Histogram _IS NOT_ 1:1 property of the image. There are many images that have the same histogram."
   ]
  },
  {
   "cell_type": "markdown",
   "id": "45da9d18",
   "metadata": {
    "slideshow": {
     "slide_type": "slide"
    }
   },
   "source": [
    "### Applications of the Histogram"
   ]
  },
  {
   "cell_type": "markdown",
   "id": "dcbd7e45",
   "metadata": {
    "slideshow": {
     "slide_type": "fragment"
    }
   },
   "source": [
    "Image histograms are present on many modern [digital cameras](https://en.wikipedia.org/wiki/Digital_camera). Photographers can use them as an aid to show the distribution of tones captured, and whether image detail has been lost to blown-out highlights or blacked-out shadows."
   ]
  },
  {
   "cell_type": "markdown",
   "id": "bd96c2f9",
   "metadata": {
    "slideshow": {
     "slide_type": "subslide"
    }
   },
   "source": [
    "![](picture_1.png)"
   ]
  },
  {
   "cell_type": "markdown",
   "id": "73f8f337",
   "metadata": {
    "slideshow": {
     "slide_type": "slide"
    }
   },
   "source": [
    "### Python Implementation Task"
   ]
  },
  {
   "cell_type": "markdown",
   "id": "588aa38e",
   "metadata": {
    "slideshow": {
     "slide_type": "fragment"
    }
   },
   "source": [
    "Please write a Python script, which will:\n",
    "1.\tRead an original RGB image.\n",
    "2.\tConvert the original RGB image to a grayscale.\n",
    "3.\tCalculate a grayscale image histogram.\n",
    "4.\tDisplay simultaneously:\n",
    "  1.\tThe original RGB image.\n",
    "  1.\tThe grayscale image.\n",
    "  1.\tThe grayscale image histogram plot.\n"
   ]
  },
  {
   "cell_type": "markdown",
   "id": "12914604",
   "metadata": {
    "slideshow": {
     "slide_type": "slide"
    }
   },
   "source": [
    "## Histogram Matching (Specification)"
   ]
  },
  {
   "cell_type": "markdown",
   "id": "2b53b15e",
   "metadata": {
    "slideshow": {
     "slide_type": "fragment"
    }
   },
   "source": [
    "There are many instances in which equalization produces quite undesirable effects. A closely related technique known as histogram matching (also known as histogram specification) is sometimes more appropriate and can be employed both as a means for:\n",
    "*\timproving visual contrast,\n",
    "*\tregularizing an image prior to subsequent processing or analysis.\n",
    "\n",
    "The idea underpinning histogram matching is very simple. Given the original (input) image $I_{input}$ and its corresponding histogram $p_x(x)$ we seek to effect a transformation $f(x)$ on the input intensity values such that the transformed (output) image $I_{output}$ has a desired (target) histogram $p_z(z)$.\n"
   ]
  },
  {
   "cell_type": "markdown",
   "id": "8b148efb",
   "metadata": {
    "slideshow": {
     "slide_type": "subslide"
    }
   },
   "source": [
    "![](picture_2.png)"
   ]
  },
  {
   "cell_type": "markdown",
   "id": "31491747",
   "metadata": {
    "slideshow": {
     "slide_type": "slide"
    }
   },
   "source": [
    "### Python Implementation Task"
   ]
  },
  {
   "cell_type": "markdown",
   "id": "c4056447",
   "metadata": {
    "slideshow": {
     "slide_type": "fragment"
    }
   },
   "source": [
    "Please write a Python script, which will:\n",
    "1.\tRead an original RGB image.\n",
    "2.\tConvert the original RGB image to a grayscale.\n",
    "3.\tPerform a histogram equalisation with a histogram length of 0 to 255.\n",
    "4.\tDisplay simultaneously:\n",
    "  1.\tThe original RGB image.\n",
    "  1.\tThe grayscale image.\n",
    "  1.\tThe grayscale image histogram plot.\n",
    "  1.\tThe grayscale image after equalization of histogram.\n",
    "  1.\tThe equalised histogram."
   ]
  },
  {
   "cell_type": "markdown",
   "id": "e279cb61",
   "metadata": {
    "slideshow": {
     "slide_type": "slide"
    }
   },
   "source": [
    "## A Detector of Visually Dense Regions"
   ]
  },
  {
   "cell_type": "markdown",
   "id": "77f35ae7",
   "metadata": {
    "slideshow": {
     "slide_type": "fragment"
    }
   },
   "source": [
    "Please imagine that you are implementing a detector of visually dense regions. Such a detector could be useful when performing image compression. It is crucial for a compression algorithm to know where are the regions containing a lot of information. Having this information, it can use more bandwidth to compress those (and leaving less bandwidth for other regions). Let us call the regions containing a lot of information _visually dense regions_.\n",
    "\n",
    "Please implement a detector of visually dense regions. Do it by dividing an image into 32x32 pixels blocks and calculating a standard deviation for each block.\n",
    "> If you work with a true colour image use the average standard deviation from all colour channels.\n",
    "\n",
    "As an output, please return the position of the most visually dense region."
   ]
  },
  {
   "cell_type": "markdown",
   "id": "aaafa350",
   "metadata": {
    "slideshow": {
     "slide_type": "subslide"
    }
   },
   "source": [
    "**Please report to the tutor if you have finished this exercise.**"
   ]
  },
  {
   "cell_type": "markdown",
   "id": "a41d541a",
   "metadata": {
    "slideshow": {
     "slide_type": "slide"
    }
   },
   "source": [
    "## Bibliography"
   ]
  },
  {
   "cell_type": "markdown",
   "id": "575c77b1",
   "metadata": {
    "slideshow": {
     "slide_type": "fragment"
    }
   },
   "source": [
    "1.\t“Digital Image Processing Using MATLAB”, Rafael C. Gonzalez, Richard E. Woods, Steven L. Eddins\n",
    "2.\t“Fundamentals of Digital Image Processing: A Practical Approach with Examples in MATLAB”, Chris Solomon, Toby Breckon"
   ]
  },
  {
   "cell_type": "code",
   "execution_count": null,
   "id": "9194c1b2",
   "metadata": {
    "slideshow": {
     "slide_type": "skip"
    }
   },
   "outputs": [],
   "source": []
  }
 ],
 "metadata": {
  "celltoolbar": "Slideshow",
  "kernelspec": {
   "display_name": "Python 3 (ipykernel)",
   "language": "python",
   "name": "python3"
  },
  "language_info": {
   "codemirror_mode": {
    "name": "ipython",
    "version": 3
   },
   "file_extension": ".py",
   "mimetype": "text/x-python",
   "name": "python",
   "nbconvert_exporter": "python",
   "pygments_lexer": "ipython3",
   "version": "3.11.5"
  }
 },
 "nbformat": 4,
 "nbformat_minor": 5
}
