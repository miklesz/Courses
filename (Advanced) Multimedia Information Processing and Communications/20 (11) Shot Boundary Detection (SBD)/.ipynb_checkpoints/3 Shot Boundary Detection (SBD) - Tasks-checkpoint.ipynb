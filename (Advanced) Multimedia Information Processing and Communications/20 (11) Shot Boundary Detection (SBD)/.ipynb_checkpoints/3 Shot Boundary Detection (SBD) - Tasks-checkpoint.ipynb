{
 "cells": [
  {
   "cell_type": "markdown",
   "id": "6fa64895",
   "metadata": {
    "slideshow": {
     "slide_type": "slide"
    }
   },
   "source": [
    "# Shot Boundary Detection (SBD) - Tasks\n",
    "\n",
    "_Authors: Mikołaj Leszczuk_\n",
    "\n",
    "[http://qoe.agh.edu.pl](http://qoe.agh.edu.pl)"
   ]
  },
  {
   "cell_type": "markdown",
   "id": "64e8173b",
   "metadata": {
    "slideshow": {
     "slide_type": "slide"
    }
   },
   "source": [
    "## Additional Exercise"
   ]
  },
  {
   "cell_type": "markdown",
   "id": "0be23a0d",
   "metadata": {
    "slideshow": {
     "slide_type": "fragment"
    }
   },
   "source": [
    "You are encouraged to write your very own Shot Boundary Detector (SBD). The task is to write it without using any dedicated libraries for this purpose (e.g., [PySceneDetect](https://pyscenedetect.readthedocs.io/en/latest/)). However, usage of supplementary libraries (like NumPy or Pandas for Python) is allowed.\n",
    "\n",
    "The recommended method for the detection of shot boundaries is the Differential Mean Squared Error (dMSE) approach. It is not directly mentioned in the presentation accompanying this instruction, but it merely refers to calculating MSE between each two (2) consecutive video frames and then taking the derivative. Of course, you can use any other method if it guarantees accuracy as good as this one."
   ]
  },
  {
   "cell_type": "markdown",
   "id": "8a9a6b5c",
   "metadata": {
    "slideshow": {
     "slide_type": "subslide"
    }
   },
   "source": [
    "We recommend first to test your code before you submit it to us. The best way to do it would be to utilize the [PySceneDetect](https://pyscenedetect.readthedocs.io/en/latest/) library. You can also try to push it manually (by watching video samples and noting downtimes of shot boundaries), but the library mentioned is sufficiently accurate to do the same more effectively.\n",
    "\n",
    "The task is worth 13 points, and a deadline is the end of the semester. We expect a source code, which we could test on our video samples. We prefer Python 3 but accept the language of your choice if Python is not your thing. "
   ]
  },
  {
   "cell_type": "code",
   "execution_count": null,
   "id": "a64b23cc",
   "metadata": {
    "slideshow": {
     "slide_type": "skip"
    }
   },
   "outputs": [],
   "source": []
  }
 ],
 "metadata": {
  "celltoolbar": "Slideshow",
  "kernelspec": {
   "display_name": "Python 3 (ipykernel)",
   "language": "python",
   "name": "python3"
  },
  "language_info": {
   "codemirror_mode": {
    "name": "ipython",
    "version": 3
   },
   "file_extension": ".py",
   "mimetype": "text/x-python",
   "name": "python",
   "nbconvert_exporter": "python",
   "pygments_lexer": "ipython3",
   "version": "3.11.3"
  }
 },
 "nbformat": 4,
 "nbformat_minor": 5
}
