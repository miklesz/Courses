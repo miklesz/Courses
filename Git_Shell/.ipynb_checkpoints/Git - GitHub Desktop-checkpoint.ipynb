{
 "cells": [
  {
   "cell_type": "markdown",
   "metadata": {},
   "source": [
    "![](data:image/jpeg;base64,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)\n",
    "\n",
    "# Git\n",
    "\n",
    "_Mikołaj Leszczuk_\n",
    "\n",
    "Konfigurowanie i używanie GitHub Desktop do zarządzania pracą nad projektem."
   ]
  },
  {
   "cell_type": "markdown",
   "metadata": {},
   "source": [
    "## GitHub Desktop\n",
    "\n",
    "\"Skoncentruj się na tym, co ważne, zamiast walczyć z Gitem. Niezależnie od tego, czy jesteś nowym użytkownikiem Git, czy doświadczonym użytkownikiem, GitHub Desktop upraszcza przepływ pracy związanej z programowaniem.\"\n",
    "\n",
    "![](https://desktop.github.com/images/github-desktop-screenshot-mac.png)"
   ]
  },
  {
   "cell_type": "markdown",
   "metadata": {},
   "source": [
    "## Instalowanie i konfigurowanie GitHub Desktop - przegląd\n",
    "\n",
    "Konfigurowanie GitHub Desktop do zarządzania pracą nad projektem. Uwierzytelnianie się w GitHub.com lub GitHub Enterprise, aktualizowanie aplikacji i ustawianie preferowanych ustawień.\n",
    "\n",
    "Szybkie tworzenie pierwszego repozytorium GitHub Desktop."
   ]
  },
  {
   "cell_type": "markdown",
   "metadata": {},
   "source": [
    "### Pierwsze kroki z GitHub Desktop\n",
    "\n",
    "Konfigurowanie, uwierzytelnianie i konfigurowanie GitHub Desktop, w celu umożliwienia współtworzenia projektów."
   ]
  },
  {
   "cell_type": "markdown",
   "metadata": {},
   "source": [
    "#### Wprowadzenie\n",
    "\n",
    "GitHub Desktop to aplikacja, która umożliwia interakcję z GitHub przy użyciu GUI zamiast wiersza poleceń lub przeglądarki internetowej. GitHub Desktop umożliwia współpracę zespołową przy użyciu najlepszych praktyk z Git i GitHub. GitHub Desktop można użyć, aby wykonać większość poleceń Git z pulpitu z wizualnym potwierdzeniem zmian. Możesz wypychać, pobierać i klonować zdalne repozytoria za pomocą GitHub Desktop i korzystać z narzędzi do współpracy, takich jak przypisywanie zatwierdzeń i tworzenie żądań ściągnięcia.\n",
    "\n",
    "Rozpoczniemy korzystanie z GitHub Desktop, konfigurując aplikację, uwierzytelniając swoje konto, konfigurując podstawowe ustawienia i przedstawiając podstawy zarządzania projektami za pomocą GitHub Desktop. Będziecie mogli używać GitHub Desktop do współpracy nad projektami i łączenia się ze zdalnymi repozytoriami.\n",
    "\n",
    "GitHub Desktop to projekt typu open source. Możliwe jest zobaczenie mapy drogowej jego rozwoju, wnoszenie swojego wkładu w projekt lub otwieranie problemów, aby przekazać opinię lub prośby o dodanie funkcji."
   ]
  },
  {
   "cell_type": "markdown",
   "metadata": {},
   "source": [
    "##### Część 1: Instalacja i uwierzytelnianie\n",
    "\n",
    "Możena zainstalować GitHub Desktop w dowolnym obsługiwanym systemie operacyjnym (macOS i Windows).\n",
    "\n",
    "Aby zainstalować GitHub Desktop, trzeba odwiedzić stronę pobierania [GitHub Desktop](https://desktop.github.com/).\n",
    "\n",
    "Po zainstalowaniu GitHub Desktop można uwierzytelnić aplikację za pomocą swojego konta na GitHub lub GitHub Enterprise. Uwierzytelnianie umożliwia łączenie się ze zdalnymi repozytoriami w GitHub lub GitHub Enterprise.\n",
    "\n",
    "1. Aby móc uwierzytelnić się w GitHub lub GitHub Enterprise, będzie potrzebne uprzednio utworzone konto.\n",
    "\n",
    "1. W menu rozwijanym GitHub Desktop należy kliknąć opcję **Preferences**. W oknie preferencji należy kliknąć **Accounts** i postępować zgodnie z instrukcjami, aby się zalogować.\n",
    "\n",
    "![](https://docs.github.com/assets/images/help/desktop/mac-sign-in-github.png)"
   ]
  },
  {
   "cell_type": "markdown",
   "metadata": {},
   "source": [
    "##### Część 2: Konfiguracja i dostosowywanie GitHub Desktop\n",
    "\n",
    "Po zainstalowaniu GitHub Desktop można skonfigurować i dostosować aplikację, aby najlepiej odpowiadała Waszym potrzebom.\n",
    "\n",
    "Można łączyć lub usuwać konta na GitHub lub GitHub Enterprise, wybrać domyślny edytor tekstu lub powłokę, edytować konfigurację Git, zmienić wygląd GitHub Desktop, dostosować okna dialogowe systemu i ustawić preferencje prywatności w oknie GitHub Desktop Preferences.\n",
    "\n",
    "![](https://docs.github.com/assets/images/help/desktop/mac-appearance-tab-themes.png)"
   ]
  },
  {
   "cell_type": "markdown",
   "metadata": {},
   "source": [
    "##### Część 3: Współtworzenie projektów za pomocą GitHub Desktop\n",
    "\n",
    "Po zainstalowaniu, uwierzytelnieniu i skonfigurowaniu aplikacji można rozpocząć korzystanie z GitHub Desktop. Można tworzyć, dodawać lub klonować repozytoria i używać GitHub Desktop do zarządzania wkładami do swoich repozytoriów."
   ]
  },
  {
   "cell_type": "markdown",
   "metadata": {},
   "source": [
    "###### Tworzenie, dodawanie i klonowanie repozytoriów\n",
    "\n",
    "Można utworzyć nowe repozytorium, wybierając menu File i klikając **New repository...**.\n",
    "\n",
    "Można dodać repozytorium z komputera lokalnego, wybierając menu File i klikając **Add Local Repository...**.\n",
    "\n",
    "Można sklonować repozytorium z GitHub, wybierając menu File i klikając **Clone Repository...**.\n",
    "\n",
    "![](https://docs.github.com/assets/images/help/desktop/mac-file-menu.png)"
   ]
  },
  {
   "cell_type": "markdown",
   "metadata": {},
   "source": [
    "###### Dokonywanie zmian w gałęzi\n",
    "\n",
    "Można użyć GitHub Desktop, aby utworzyć gałąź projektu. Gałęzie izolują prace programistyczne od innych gałęzi w repozytorium, dzięki czemu można bezpiecznie eksperymentować ze zmianami.\n",
    "\n",
    "![](https://docs.github.com/assets/images/help/desktop/new-branch-button-mac.png)\n",
    "\n",
    "Po wprowadzeniu zmian w gałęzi można przejrzeć je w GitHub Desktop i zrobić `commit` w celu śledzenia zmian.\n",
    "\n",
    "![](https://docs.github.com/assets/images/help/desktop/commit-button.png)\n",
    "\n",
    "Jeśli chce się uzyskać zdalny dostęp do swoich zmian lub udostępnić je innym osobom, można przesłać swoje `commit`y do GitHub."
   ]
  },
  {
   "cell_type": "markdown",
   "metadata": {},
   "source": [
    "###### Współpraca z GitHub Desktop\n",
    "\n",
    "Można użyć GitHub Desktop do tworzenia problemów lub pobierania żądań w celu współpracy nad projektami z innymi osobami. Problemy pomagają śledzić pomysły i omawiać możliwe zmiany w projektach. Żądania ściągnięcia umożliwiają udostępnianie proponowanych zmian innym, otrzymywanie opinii i scalanie zmian w projekcie.\n",
    "\n",
    "Można przeglądać żądania ściągnięcia własne lub współpracowników w GitHub Desktop. Przeglądanie żądania ściągnięcia w GitHub Desktop pozwala zobaczyć wszelkie proponowane zmiany i wprowadzić dodatkowe zmiany, otwierając pliki projektu i repozytoria w domyślnym edytorze tekstu."
   ]
  },
  {
   "cell_type": "markdown",
   "metadata": {},
   "source": [
    "###### Utrzymywanie synchronizacji lokalnego repozytorium\n",
    "\n",
    "Kiedy wprowadza się zmiany w lokalnych repozytoriach lub gdy inne osoby wprowadzają zmiany w zdalnych repozytoriach, musi się zsynchronizować lokalną kopię projektu ze zdalnym repozytorium. GitHub Desktop może zsynchronizować lokalną kopię projektu z wersją zdalną, wypychając i wyciągając `commit`y."
   ]
  },
  {
   "cell_type": "markdown",
   "metadata": {},
   "source": [
    "### Tworzenie pierwszego repozytorium za pomocą GitHub Desktop\n",
    "\n",
    "Można użyć GitHub Desktop do tworzenia repozytorium Git i zarządzania nim bez używania wiersza poleceń."
   ]
  },
  {
   "cell_type": "markdown",
   "metadata": {},
   "source": [
    "#### Wprowadzenie\n",
    "\n",
    "GitHub Desktop rozszerza i upraszcza przepływ pracy w witrynie GitHub.com, używając interfejsu wizualnego zamiast poleceń tekstowych w wierszu poleceń. GitHub Desktop umożliwia tworzenie repozytoriów, wprowadzenie zmian w repozytorium i publikowanie zmian w GitHub.\n",
    "\n",
    "Po zainstalowaniu GitHub Desktop i zalogowaniu się do GitHub lub GitHub Enterprise, można utworzyć i sklonować repozytorium. Poznacie podstawy pracy z Git i GitHub, w tym instalację edytora tekstu, tworzenie gałęzi, zatwierdzanie (`commit`), wysyłanie do GitHub.com i otwieranie żądania ściągnięcia."
   ]
  },
  {
   "cell_type": "markdown",
   "metadata": {},
   "source": [
    "##### Część 1: Instalowanie GitHub Desktop i uwierzytelnianie konta\n",
    "\n",
    "Można zainstalować GitHub Desktop w dowolnym obsługiwanym systemie operacyjnym. Po zainstalowaniu aplikacji należy zalogować się i uwierzytelnić swoje konto w GitHub lub GitHub Enterprise, zanim będzie można utworzyć i sklonować repozytorium tutorialowe."
   ]
  },
  {
   "cell_type": "markdown",
   "metadata": {},
   "source": [
    "##### Część 2: Tworzenie nowego repozytorium\n",
    "\n",
    "Jeśli nie ma się jeszcze żadnych repozytoriów powiązanych z GitHub Desktop, pokazę się komunikat „Let's get started!” w widoku, w którym można utworzyć i sklonować repozytorium tutorialowe, sklonować istniejące repozytorium z Internetu, utworzyć nowe repozytorium lub dodać istniejące repozytorium z dysku twardego.\n",
    "\n",
    "![](https://docs.github.com/assets/images/help/desktop/lets-get-started.png)"
   ]
  },
  {
   "cell_type": "markdown",
   "metadata": {},
   "source": [
    "###### Tworzenie i klonowanie repozytorium tutorialowego\n",
    "\n",
    "Zacznijmy od Zalecamy utworzenia i sklonowania repozytorium tutorialowego jako pierwszego projektu do ćwiczenia korzystania z GitHub Desktop.\n",
    "\n",
    "1. Kliknij **Create a tutorial repository and clone it**.\n",
    "![](https://docs.github.com/assets/images/help/desktop/getting-started-guide/create-and-clone-a-tutorial-repository.png)\n",
    "\n",
    "1. Postępuj zgodnie z instrukcjami, aby zainstalować edytor tekstu, utworzyć gałąź, edytować plik, zatwierdzić, opublikować w serwisie GitHub i otworzyć żądanie ściągnięcia."
   ]
  },
  {
   "cell_type": "markdown",
   "metadata": {},
   "source": [
    "###### Tworzenie nowego repozytorium\n",
    "\n",
    "Jeśli nie chce się tworzyć i klonować repozytorium tutorialowego, można utworzyć nowe repozytorium.\n",
    "\n",
    "1. Kliknij **Create a New Repository on your Hard Drive...**.\n",
    "![](https://docs.github.com/assets/images/help/desktop/getting-started-guide/creating-a-repository.png)\n",
    "\n",
    "1. Wypełnij pola i wybierz preferowane opcje.\n",
    "![](https://docs.github.com/assets/images/help/desktop/getting-started-guide/create-a-new-repository-options.png)\n",
    "  * „Name” określa nazwę repozytorium zarówno lokalnie, jak i na GitHub.\n",
    "  * „Description” to opcjonalne pole, którego można użyć, aby podać więcej informacji o przeznaczeniu repozytorium.\n",
    "  * „Local path” określa lokalizację repozytorium na własnym komputerze. Domyślnie GitHub Desktop tworzy folder *GitHub* w folderze *Documents* do przechowywania repozytoriów, ale można wybrać dowolną lokalizację na swoim komputerze. Nowe repozytorium będzie folderem w wybranej lokalizacji. Na przykład, jeśli nazwie repozytorium `Tutorial`, folder o nazwie *Tutorial* zostanie utworzony w folderze ustawionym dla ścieżki lokalnej. GitHub Desktop zapamiętuje wybraną lokalizację podczas następnego tworzenia lub klonowania nowego repozytorium.\n",
    "  * **Initialize this repository with a README**, tworzy wstępny `commit` z plikiem *README.md*. Pliki README pomagają zrozumieć cel projektu, dlatego zaleca się wybranie tego i wypełnienie pomocnymi informacjami. Kiedy ktoś odwiedza repozytorium w GitHub, README jest pierwszą rzeczą, którą zobaczy, gdy dowie się o projekcie.\n",
    "  * Menu rozwijane **Git ignore** pozwala dodać niestandardowy plik, aby zignorować określone pliki w lokalnym repozytorium, których nie chce się przechowywać w kontroli wersji. Jeśli istnieje określony język lub platforma, której będziesz się używać, można wybrać opcję z dostępnej listy. Jeśli dopiero zaczyna się, można pominąć ten wybór.\n",
    "  * Rozwijane menu **License** umożliwia dodanie licencji open source do pliku *LICENSE* w repozytorium. Nie musi się martwić o od razu dodanie licencji.\n",
    "  \n",
    "1. Kliknij **Create repository**."
   ]
  },
  {
   "cell_type": "markdown",
   "metadata": {},
   "source": [
    "##### Część 3: Odkrywanie GitHub Desktop\n",
    "\n",
    "W menu plików u góry ekranu można uzyskać dostęp do ustawień i działań, które możesz wykonać w GitHub Desktop. Większość czynności ma również skróty klawiaturowe, które pomagają wydajniej pracować."
   ]
  },
  {
   "cell_type": "markdown",
   "metadata": {},
   "source": [
    "###### Pasek menu GitHub Desktop\n",
    "\n",
    "U góry aplikacji GitHub Desktop można zobaczyć pasek pokazujący aktualny stan repozytorium.\n",
    "\n",
    "* **Current repository** pokazuje nazwę repozytorium, nad którym się pracuje. Możena kliknąć **Current repository**, aby przełączyć się do innego repozytorium w GitHub Desktop.\n",
    "\n",
    "* **Current branch** pokazuje nazwę gałęzi, nad którą się pracuje. Możena kliknąć **Current branch**, aby wyświetlić wszystkie gałęzie w swoim repozytorium, przełączyć się na inną gałąź lub utworzyć nową gałąź. Po utworzeniu żądań ściągnięcia w repozytorium można je również wyświetlić, klikając **Current branch**.\n",
    "\n",
    "* **Publish repository** pojawia się, ponieważ nie opublikowało się jeszcze swojego repozytorium w GitHub, co zrobi się później w następnym kroku. Ta sekcja paska zmieni się w zależności od stanu bieżącej gałęzi i repozytorium. Dostępne będą różne akcje zależne od kontekstu, które umożliwią wymianę danych między repozytoriami lokalnymi i zdalnymi.\n",
    "![](https://docs.github.com/assets/images/help/desktop/getting-started-guide/explore-github-desktop.png)"
   ]
  },
  {
   "cell_type": "markdown",
   "metadata": {},
   "source": [
    "###### Zmiany i historia\n",
    "\n",
    "Na lewym pasku bocznym znajdują się widoki **Changes** i **History**.\n",
    "\n",
    "![](https://docs.github.com/assets/images/help/desktop/changes-and-history.png)\n",
    "\n",
    "* Widok **Changes** pokazuje zmiany wprowadzone w plikach w bieżącej gałęzi, ale niezatwierdzone w repozytorium lokalnym. U dołu znajduje się pole z polami tekstowymi „Summary” i „Description” oraz przycisk **Commit to BRANCH**. Tam wprowadza się nowe zmiany. Przycisk **Commit to BRANCH** jest dynamiczny i wyświetla gałąź, w której zatwierdza się zmiany.\n",
    "![](https://docs.github.com/assets/images/help/desktop/getting-started-guide/commit-area.png)\n",
    "\n",
    "* Widok **History** pokazuje poprzednie zatwierdzenia w bieżącej gałęzi repozytorium. Można zobaczyć „Initial commit”, które został utworzony przez GitHub Desktop podczas tworzenia repozytorium. Po prawej stronie zatwierdzenia, w zależności od opcji wybranych podczas tworzenia repozytorium, można zobaczyć pliki *.gitattributes*, *.gitignore*, *LICENSE* lub *README*. Można kliknąć każdy plik, aby zobaczyć różnicę dla tego pliku, czyli zmiany wprowadzone w pliku w tym zatwierdzeniu. Różnica pokazuje tylko te części pliku, które uległy zmianie, a nie całą zawartość pliku.\n",
    "![](https://docs.github.com/assets/images/help/desktop/getting-started-guide/history-view.png)"
   ]
  },
  {
   "cell_type": "markdown",
   "metadata": {},
   "source": [
    "##### Publikowanie repozytorium na GitHub\n",
    "\n",
    "Kiedy tworzy się nowe repozytorium, istnieje ono tylko na lokalnum komputerze i twórca repozytorium jest jedyną osobą, która ma dostęp do repozytorium. Można opublikować swoje repozytorium w GitHub, aby zsynchronizować je na wielu komputerach i umożliwić innym osobom dostęp do niego. Aby opublikować repozytorium, należy wypchnąć lokalne zmiany do GitHub.\n",
    "\n",
    "1. Kliknij **Publish repository** na pasku menu.\n",
    "![](https://docs.github.com/assets/images/help/desktop/getting-started-guide/publish-repository.png)\n",
    "\n",
    "  * GitHub Desktop automatycznie wypełnia pola „Name” i „Description” informacjami wprowadzonymi podczas tworzenia repozytorium.\n",
    "  * **Keep this code private**, aby kontrolować, kto może wyświetlać projekt. Jeśli pozostawisz tę opcję niezaznaczoną, inni użytkownicy GitHub będą mogli zobaczyć kod. Jeśli wybierze się tę opcję, kod nie będzie publicznie dostępny.\n",
    "  * Menu rozwijane **Organization**, jeśli jest dostępne, umożliwia opublikowanie repozytorium w określonej organizacji, do której się należy, na GitHub.\n",
    "![](https://docs.github.com/assets/images/help/desktop/getting-started-guide/publish-repository-steps.png)\n",
    "\n",
    "1. Kliknij przycisk **Publish Repository**.\n",
    "\n",
    "1. Można uzyskać dostęp do repozytorium na GitHub.com z poziomu GitHub Desktop. W menu pliku kliknij **Repository**, a następnie kliknij **View on GitHub**. Przenosi to bezpośrednio do repozytorium w domyślnej przeglądarce."
   ]
  },
  {
   "cell_type": "markdown",
   "metadata": {},
   "source": [
    "##### Część 5: Dokonywanie, zatwierdzanie i wypychanie zmian\n",
    "\n",
    "Teraz, gdy utworzono i opublikowano repozytorium, jesteśmy gotowy, aby wprowadzić zmiany w projekcie i rozpocząć tworzenie pierwszego zatwierdzenia do repozytorium.\n",
    "\n",
    "1. Aby uruchomić zewnętrzny edytor z GitHub Desktop, kliknij **Repository**, a następnie kliknij **Open in EDITOR**.\n",
    "![](https://docs.github.com/assets/images/help/desktop/getting-started-guide/open-in-editor.png)\n",
    "\n",
    "1. Wprowadźcie zmiany w utworzonym wcześniej pliku README.md. Można dodać informacje opisujące projekt, np. czym się zajmuje i dlaczego jest przydatny. Jeśli jesteście zadowoleni ze zmian, zapiszcie je w swoim edytorze tekstu.\n",
    "\n",
    "1. W GitHub Desktop przejdźcie do widoku **Changes**. Na liście plików powinien pojawić się plik *README.md*. Znacznik wyboru po lewej stronie pliku *README.md* wskazuje, że zmiany wprowadzone w pliku będą częścią dokonanego zatwierdzenia. W przyszłości można wprowadzić zmiany w wielu plikach, ale chcemy zatwierdzić tylko zmiany wprowadzone w niektórych plikach. Jeśli kliknie się znacznik wyboru obok pliku, plik ten nie zostanie uwzględniony w zatwierdzeniu.\n",
    "![](https://docs.github.com/assets/images/help/desktop/getting-started-guide/viewing-changes.png)\n",
    "\n",
    "1. U dołu listy **Changes** wprowadźcie komunikat dotyczący zatwierdzenia. Po prawej stronie zdjęcia profilowego wpisz krótki opis zatwierdzenia. Ponieważ zmieniamy plik *README.md*, „Add information about purpose of project” byłoby dobrym podsumowaniem zmian. Pod podsumowaniem zobaczysz pole tekstowe „Description”, w którym można wpisać dłuższy opis zmian w zatwierdzeniu, co jest pomocne, gdy spojrzy się wstecz na historię projektu i zrozumie, dlaczego wprowadzono zmiany. Ponieważ dokonujemy prostej aktualizacji pliku *README.md*, można pominąć opis.\n",
    "![](https://docs.github.com/assets/images/help/desktop/getting-started-guide/commit-message.png)\n",
    "\n",
    "1. Kliknijcie **Commit to BRANCH NAME**. Przycisk zatwierdzenia pokazuje bieżącą gałąź, więc ma się pewność, że zatwierdza się tę gałąź, którą się chce.\n",
    "![](https://docs.github.com/assets/images/help/desktop/getting-started-guide/click-commit-to-master.png)\n",
    "\n",
    "1. Kliknijcie **Commit to master**. Przycisk zatwierdzenia pokazuje bieżącą gałąź, którą w tym przypadku jest master, dzięki czemu wiadomo, w której gałęzi wykonujemy zatwierdzenie.\n",
    "![](https://docs.github.com/assets/images/help/desktop/getting-started-guide/click-commit-to-master.png)\n",
    "\n",
    "1. Aby przesłać zmiany do zdalnego repozytorium w serwisie GitHub, kliknijcie opcję **Push origin**.\n",
    "![](https://docs.github.com/assets/images/help/desktop/getting-started-guide/push-to-origin.png)\n",
    "\n",
    "  * Przycisk **Push origin** to ten sam przycisk, który został kliknięty w celu opublikowania repozytorium w serwisie GitHub. Ten przycisk zmienia kontekst w zależności od tego, gdzie jesteśmy w przepływie pracy Git. Powinien teraz mieć postać `Push origin` z `1` obok niego, co oznacza, że ​​istnieje jedno zatwierdzenie, które nie zostało przekazane do GitHub.\n",
    "  \n",
    "  * Określenie „origin” w **Push origin** oznacza, że ​​przesyłamy zmiany do zdalnego o nazwie `origin`, który w tym przypadku jest repozytorium projektu na GitHub.com. Dopóki nie wyślemy nowych zatwierdzeń do GitHub, będą różnice między repozytorium naszego projektu na lokalnym komputerze a repozytorium naszego projektu na GitHub.com. Umożliwia to pracę lokalną i przesyłanie zmian do GitHub.com dopiero wtedy, gdy jest się gotowym/gotową.\n",
    "  \n",
    "1. W oknie po prawej stronie widoku **Changes** można zobaczyć sugestie działań, które można wykonać w następnej kolejności. Aby otworzyć repozytorium na GitHub w przeglądarce, trzeba kliknąć **View on GitHub**.\n",
    "![](https://docs.github.com/assets/images/help/desktop/available-actions.png)\n",
    "\n",
    "1. W przeglądarce kliknijcie **2 commits**. Zobaczycie listę zatwierdzeń w tym repozytorium na GitHub. Pierwszym zatwierdzeniem powinno być zatwierdzenie, które właśnie wykonaliście w GitHub Desktop.\n",
    "![](https://docs.github.com/assets/images/help/desktop/getting-started-guide/click-two-commits.png)"
   ]
  },
  {
   "cell_type": "markdown",
   "metadata": {},
   "source": [
    "##### Podsumowanie\n",
    "\n",
    "Utworzyliście właśnie repozytorium, opublikowaliście repozytorium w GitHub, dokonaliście zatwierdzenia i przesłaliście zmiany do GitHub. Możecie postępować zgodnie z tym samym przepływem pracy, w przypadku innych projektów, które tworzycie lub nad którymi współpracujecie."
   ]
  },
  {
   "cell_type": "markdown",
   "metadata": {},
   "source": [
    "## Współtworzenie i współpraca przy użyciu GitHub Desktop - klonowanie repozytoriów\n",
    "\n",
    "GitHub Desktop możnna używać do zarządzania projektami, tworzenia commitów i śledzenia historii projektu w aplikacji zamiast w wierszu poleceń.\n",
    "\n",
    "Możliwe jest klonowanie repozytoriów z GitHub."
   ]
  },
  {
   "cell_type": "markdown",
   "metadata": {},
   "source": [
    "### Klonowanie repozytorium z GitHub do GitHub Desktop\n",
    "\n",
    "Można użyć GitHub do klonowania zdalnych repozytoriów na GitHub Desktop.\n",
    "\n",
    "1. Zaloguj się do GitHub i GitHub Desktop przed rozpoczęciem klonowania.\n",
    "\n",
    "1. W GitHub przejdź do strony głównej repozytorium.\n",
    "\n",
    "1. Nad listą plików kliknij **Code**.\n",
    "![](https://docs.github.com/assets/images/help/repository/code-button.png)\n",
    "\n",
    "1. Kliknij **Open with GitHub Desktop**, aby sklonować i otworzyć repozytorium za pomocą GitHub Desktop.\n",
    "![](https://docs.github.com/assets/images/help/repository/open-with-desktop.png)\n",
    "\n",
    "1. Kliknij **Choose...** i korzystając z okna, przejdź do ścieżki lokalnej, w której chcesz sklonować repozytorium.\n",
    "![](https://docs.github.com/assets/images/help/desktop/clone-choose-button-url-mac.png)\n",
    "\n",
    "1. Kliknij opcję **Clone**.\n",
    "![](https://docs.github.com/assets/images/help/desktop/clone-button-url-mac.png)"
   ]
  },
  {
   "cell_type": "code",
   "execution_count": null,
   "metadata": {},
   "outputs": [],
   "source": []
  }
 ],
 "metadata": {
  "kernelspec": {
   "display_name": "Bash",
   "language": "bash",
   "name": "bash"
  },
  "language_info": {
   "codemirror_mode": "shell",
   "file_extension": ".sh",
   "mimetype": "text/x-sh",
   "name": "bash"
  }
 },
 "nbformat": 4,
 "nbformat_minor": 4
}
