{
 "cells": [
  {
   "cell_type": "markdown",
   "metadata": {},
   "source": [
    "![](data:image/jpeg;base64,/9j/4AAQSkZJRgABAQAAAQABAAD/2wCEAAkGBwgQEhUQBxESFhEXERASEBAPFhIVGBgdFRUXFhUWFxQYHTQgJBolGxgXITIhJSkrLi4vFyAzODMsNygtLisBCgoKDg0OGxAQGyslICUrLTcwNzc3LTEwMi0rNysvLS03KzgtLS0tLS0tLzYtNS03NSsrLS01LS0tLTcrLSsrNv/AABEIAOEA4QMBIgACEQEDEQH/xAAbAAEAAwEBAQEAAAAAAAAAAAAABAUGAwEHAv/EAEAQAAICAQMDAgIHBQQJBQAAAAABAgMEBRESBhMhMUFRYRQVIlJxgaEHMjORsSNCYsFyc5KTorLR4fAWNENVg//EABoBAQADAQEBAAAAAAAAAAAAAAABAgUEAwb/xAAmEQEAAgICAQIGAwAAAAAAAAAAAQIDEQQFIRJREzEyQVJxFCIz/9oADAMBAAIRAxEAPwD7gAAAAAAAAAAAAAAAAAAAAAAAAAAAAAAAAAAAAAAAAAAAAAAAAAAAAAAAAAAAAAAAAAAAAAAAAAAAAAAAAAAAAAAAAAAAAAAAAAAAAAAAAAAAAAAAAAAAAAAAAAAAAAAAAAAAAAAAAAAAAAAAAAAAAAAAAAAAAAAAAAAAAAAAAAAA3BF1G6UK5Sj67ePz8FMmSMdJtP2TEbnSRuj3dGXx8XMuTlW9/PvJo7fVWf8AH/iZk17PLaPVXFMw6JwVidTaGi3Q5IzNOBmy34P0bi95P1R+/qrP+K/2mTHZZpjcYZR8Gv5Q0fJDdGZrwMyTag/R7P7T+R0+qtQ+K/2mI7LNMbjDKfg0/OGickEzMRwc1uUYPzHbf7T91uv0PVbn0P7fLb4S8p/mRHbWjzfHMR7n8eJ+m0TLTgi4GZC2O8fD918CUa2PJXJWLVnxLnmJidSAAugAAAAAAAAAAAAAAAAAAAAACBrP8KX5f1RPIGtfwZfl/VHNzP8AC/6lfH9cftx6e/hv/S/yRaMy+FqVlS4wSflvySPr2/7sf1Mnidpx8eCtLT5iHRl497WmYhaab6T/ANbMmGao1a2G/GMfMnL39zt9e3/dj+p64e341aREyrbjZN/JZ4H71n+sf9ETDN06tbFycYr7UuT9fgkdPr2/7sf1GHtuNWupktxskz8lpifxbvxh/wAiJF9UJpxsW6aM/Xq1sZSkoreTTfr7LY6fXt/3Y/qVp2vF9E1tPv8AYnjZd7iHLTZSqv4ezbg/8jTGUxbHO+Mpermn4NWX6a/qx2iPlE+DlRq0b9gAGy5gAAAAAAAAAAAAAAAAAAAAAIOsp9qW3y/qiceSin4fp8DyzY/iY5p7wms6nbGVwlJpQ9X6I7vEf9yUHJesU/P5eC8lpdK5OjdScZJefC3XwK+jDvbhF18eMt5WfE+VnqrY/wCt43toTyfV5hVA0ktHxW23v5bfq/cfUmJ/i/myJ6Pkb8aWjmUZs9Sb9DR/UmJ/i/mz9V6TixalHfdeVuxHR8jfnRPMprwovocvRyhy+5v5/D09SM014l6rwyylhZPmvt+XPfu/5/8AnxLOzScab5Wb7vbfZkx1Vsu/RGphWOT6fq8qPTU+7Db7yNaRMXTset71Lz8X5ZLN3rOHbjY5rf5zLlz5YyW3AADSeAAAAAAAAAAAAAAAAAAAAAAAAAeHoAAAAAAAAAAAAAAAAAAAAAAAAAABgeSkl5l6erf/AHM3k9fdJVy4W5+Py32+zNSW/wAOUfBS9TK/VM/6qrnKGJTVC/PdbcZWc/4dPJeUmvtfz+CNbgaDpFEO3h41MYbeihHz+La3b/EDrpmraflQ7ml3V2w3250yjNfg2n4fyZNMwujMCrLhmaO3jyTavqoSVd0dnspw/dT32e6Xt+DO/VHVFWE66qap35Vu6oxaduUtvWUm/EYL3kwNADD5HVXVGLHva/pkVjLzZZiXq6da+9Kvit0vfZ+DXYufi21Rvosi6ZQ7kbE1x47b8t/hsBKIGpavhY8qoZkmpXWxppSjKW82m0nsvHhPy/BmaOq9dzG59K4MbMZSajk5drpVmz2brgotuO6/eKXX9fuvytOx9Tx54+VDUaZyqk1OMouMlzqtSSlHfZPwmt/KA+npgz/U/U1eG66seqd+Va32MWppSlt6ylJ+IwXvJlTf1R1Rirva9pkVjrzZZiXq6da95Sr4rdL1bTA12dm41EJW5s4writ5zm9kl6bt/Ao1170l/wDYYv8AvYL9WQv2iZdN2jZV2HJShPF51zj7ptNNE7F0/ppUQlk1YSXag5SnChf3Vu22gL3FyqLYqeJOM4SW8Z1yjKL+aknsdjBfsyjUrc96Tv8AV7yYfQ9t+DfBq517/wB3lt6eCz1rq62GQ8PQcWWVkxip3RjNVV1J7bc7WmlJp7qO27A1QM11F1T9GnXjYNEsjNsjyhjVtLZL1nZY1tGG/jdorL+ruoMTazqfTlXjNpSvxLlf292lvZDinx+aA0+va5p2DV39Wnwr5Rjy2lLzL0SjFb/H+RPqshJKVb3i0mmvdNbpme6t1XTq8J5OZTDJo5Y+0PsSjLu2QjCS5Lb+8n+BM6h1/CwKO/mctt4wrqrXKc5S/drhH3bAtwYW3rXX6k7tQ0e+GKlynZG2E7Ix+9KhR38Ly1vujV1arhSoWXGyPYdXe7r8Ljtycn+QE8GIo6q6lyl3endNjLG/+O3Lu7MrF96NfFtRfs36lt011PHLlOjLpnj5dSTuxrWm0nulOE14lBteqA0IMxr/AFXZRcsTR8aeVl8O5KmEowjCPs7LWmo7+y2f6kfP6m1t3yxdDw67baqqbMt23duEHYm41RlxfKXh+dkv12DXgr9Cz8jIqVmZRZRZvKMqbdm04vZtNesX7PxuiwAAAAGABhMCyOLreTHL8LNox7ceT9JSoj251r/FsuW34m7KnqTp/Bz6+1np+HzrsrfGyuS9JwmvKZQw0LrepcMXVapwX7ssnGTml85Rl5fzYGuuyaYuMbZRUpPjBSaTk9t9op+r29kY7TeH17l/S9u59Bxvou/r2+X9tx//AE47/kS9I6NcLo5mvZM8vLj/AAp2RUK6t/XtUrwn8yb1L0zXluFtFs6MqrfsZVWzlHf1jKL8Sg/H2WBeW8OL7u3HZ8uW223vvv7bHyjA7/8A6by/oPLhvn/R/Xftd6Xp8uPL9TSX9K9S5K7OvapyxmtrK8WiNM7F7xlYpbpP3SXnc1uLg41dUaKIRVUYKEa0vCjtttt8NgI/T7xfo1P1ft2ezV2uO223FbenyM313VVPL0uMEncs/nFL1VcK5Stf+juo/oeU9H61iNx6Vz+zjuTksXIqV8YN+X25tpqO/niWOgdKyoueZquRPJzJR4d6xKEYRfrCqpeIrx592BmsvE1WzXMj6Bk10WLCo7MraVdyrbXcUN5LbaxefxRd2aP1hs+7qmPx2fJSwobbe+/9p6bFj1L01Xluu7HtnRlVcuxlVbNx5fvRlF+JQfjeL+BUX9L9T5K7WuapF478WQxKFTOxe8ZWOT2T99gKjUdNjidOZFVGTDIgqrp1XVJKLU7eW0dpNbJt+5a4X7NOjp1QlZhw5OuEnJTuT3cU291P5suNb6bpuwLNOweNVcqVTXsm1FJr233f8ynr6f65ilGGr0qKSil9Dr8JeF7/AAA4aNj2aZqdenYVs54d2PbbXTbJzdEq354Sfng0/T4skfsvhyqyr7PNlmpZrnL3fCxwit/gktkT+muk5Y1s8vU8ieTmTioSvsSiowXnhXWntGO/lkvpHQp4NNlVk1Pnk5F/JJrbuzc+O2/tv6gUnS3D621T6T/H3xO3v69pV+OPy323+expeobcSOLfLUduyqLe7y8pxcWmtvn6be5XdSdKxyrIZODdPHzK1xryakpbx9eFkH4lH5Mq59GaxlOK6s1Dv0xkpLGopjRCbXlOxpttf4QMnj3WT6Wrdzbauqhu/hDUFGK/JJL8jXdYRctQ0iEv3e/lWbfOFS4v8uT/AJn5r6GvWlfVnehy73d7qjLj/wC57/Hjvv6fZ9S61fQbL8rDyYzSWNK9yg02592EYrZ7+Ntt/cC4vgnCSl5TjJP815Pkt/dfS8VW2oqShY152rjluMvH3VFefkn6ep9dlFtNfFNFD0306sbBjg5rjbFK6Nj47RkrJyk1xb+EtgK7G0fq3hH6NquP2+EeHHChtx2XHb+09NjhgaDqEdRpyNW1Gi2+ui2PYrpjTOVc/VvaxtxU9nvsdMfpXqPFj2en9SUcdeK6suhXyqX3Y2ck2l7KXwLLpvpeOLOeRmXTyMuxKNuTbsnsvKhCC8Rhv7ICr/Z3Dlfql9vmyWpXUufvwo+zXH8Evb5sla90/qcMiWf0vbCORKEIZGPem6r1Xvw3kvMJpNpSX/Xef0zoM8N5LnYp9/NvylsmuKse/F+fLXxIWq6D1E7p26JqTqhZtypvqjcoNJR3qba29PT4gWPSeuRzqO663XZGyym+mT3cLKpcZx39/Pv8y5KnpjQ6sGhUVSlN8p2W2z25WTm+U5y292y2AAAAAAAAAAAAAAAAAAAAAAAAAAAAAAAAAAAAAAAAAAAAAAAAAAAAAAAAAAAAAAAAAAAAAAAAAAAAAAAAAAAAAAAAAAAAAAAAAAAAAAAAAAAAAAAAAAAAAAAAAAAAAAAAAAAAAAAAAAAAAAAAAAAAAAAAAAAAAAAAAAAAAAAAAAAAAAAAAAAAAAAAAAAAAAAAAAAAAAAAAAAD/9k=)"
   ]
  },
  {
   "cell_type": "markdown",
   "metadata": {},
   "source": [
    "# Unix Shell\n",
    "\n",
    "_Mikołaj Leszczuk_"
   ]
  },
  {
   "cell_type": "markdown",
   "metadata": {},
   "source": [
    "## Skrypty powłoki\n",
    "\n",
    "### Wprowadzenie\n",
    "\n",
    "**Skrypt powłoki** to [program komputerowy](https://pl.wikipedia.org/wiki/Program_komputerowy) przeznaczony do uruchamiania przez [powłokę systemu Unix](https://en.wikipedia.org/wiki/Unix_shell), [interpreter wiersza poleceń](https://pl.wikipedia.org/wiki/Wiersz_polece%C5%84). Za [języki skryptowe](https://pl.wikipedia.org/wiki/J%C4%99zyk_skryptowy) uważa się różne dialekty skryptów powłoki. Typowe operacje wykonywane przez skrypty powłoki obejmują manipulowanie plikami, wykonywanie programu i drukowanie tekstu. Skrypt, który konfiguruje środowisko, uruchamia program i wykonuje niezbędne czyszczenie, rejestrowanie itp. nazywany jest **opakowaniem** (ang. __*wrapperem*__).\n",
    "\n",
    "![Edycja skryptu powłoki FreeBSD do konfiguracji zapory IP](https://upload.wikimedia.org/wikipedia/commons/f/f0/FreeBSD_10_vi_RC_Firewall.png)\n",
    "\n",
    "Termin ten jest również używany bardziej ogólnie do oznaczenia zautomatyzowanego trybu uruchamiania powłoki systemu operacyjnego; w określonych systemach operacyjnych nazywane są innymi rzeczami, takimi jak pliki wsadowe (strumień MSDos-Win95, [OS/2](https://pl.wikipedia.org/wiki/OS/2)), procedury poleceń (VMS) i skrypty powłoki (strumień [Windows NT](https://pl.wikipedia.org/wiki/Windows_NT) i pochodne innych firm, takie jak [4NT](https://en.wikipedia.org/wiki/Take_Command_Console) - [`cmd.exe`](https://pl.wikipedia.org/wiki/Cmd.exe)), a systemy operacyjne mainframe są powiązane z wieloma terminami.\n",
    "\n",
    "Typowa instalacja zgodna z Unix/Linux/POSIX zawiera [Korn Shell](https://pl.wikipedia.org/wiki/Korn_shell) (`ksh`) w kilku możliwych wersjach, takich jak ksh88, Korn Shell '93 i inne. Najstarszą powszechnie używaną powłoką jest [powłoka Bourne'a](https://pl.wikipedia.org/wiki/Pow%C5%82oka_Bourne%E2%80%99a) (`sh`); Systemy uniksowe niezmiennie zawierają również [powłokę C](https://pl.wikipedia.org/wiki/Csh) (`csh`), [Bash](https://pl.wikipedia.org/wiki/Bash) (`bash`), [Remote Shell](https://pl.wikipedia.org/wiki/Rsh_(remote_shell)) (`rsh`), [Secure Shell](https://pl.wikipedia.org/wiki/Secure_Shell) (`ssh`) dla połączeń [SSL](https://pl.wikipedia.org/wiki/Transport_Layer_Security) [telnet](https://pl.wikipedia.org/wiki/Telnet) oraz powłokę, która jest głównym składnikiem instalacji [Tcl/Tk](https://pl.wikipedia.org/wiki/Tk), zwaną [`tclsh`](https://pl.wikipedia.org/wiki/Tk); [Wish](https://pl.wikipedia.org/wiki/Tk) to oparta na GUI powłoka Tcl/Tk. Powłoki C i Tcl mają składnię dość podobną do składni wspomnianych języków programowania, a powłoki Korna i Bash są rozwinięciem powłoki Bourne'a, która jest oparta na języku [ALGOL](https://pl.wikipedia.org/wiki/ALGOL) z dodanymi elementami wielu innych. Z drugiej strony, różne powłoki plus narzędzia, takie jak [awk](https://pl.wikipedia.org/wiki/AWK), [program sed](https://pl.wikipedia.org/wiki/Sed_(program)), [grep](https://pl.wikipedia.org/wiki/Grep) i języki programowania [BASIC](https://pl.wikipedia.org/wiki/BASIC), [Lisp](https://pl.wikipedia.org/wiki/Lisp), [C](https://pl.wikipedia.org/wiki/C_(j%C4%99zyk_programowania)) i tak dalej, przyczyniły się do powstania języka programowania [Perl](https://pl.wikipedia.org/wiki/Perl).\n",
    "\n",
    "Inne powłoki dostępne na komputerze lub dostępne do pobrania i/lub zakupu to [powłoka Almquist](https://en.wikipedia.org/wiki/Almquist_shell) (`ash`), [Windows PowerShell](https://pl.wikipedia.org/wiki/Windows_PowerShell) (`msh`), [powłoka Z](https://pl.wikipedia.org/wiki/Zsh) (`zsh`, szczególnie popularny ulepszony KornShell), [powłoka Tenex C](https://pl.wikipedia.org/wiki/Tcsh) (`tcsh`), powłoka podobna do Perla (`psh`). Powiązane programy, takie jak powłoki oparte na językach programowania [Python](https://pl.wikipedia.org/wiki/Python), [Ruby](https://pl.wikipedia.org/wiki/Ruby_(j%C4%99zyk_programowania)), [C](https://pl.wikipedia.org/wiki/C_(j%C4%99zyk_programowania)), [Java](https://pl.wikipedia.org/wiki/Java), [Perl](https://pl.wikipedia.org/wiki/Perl), [Pascal](https://pl.wikipedia.org/wiki/Pascal_(j%C4%99zyk_programowania)), [REXX](https://pl.wikipedia.org/wiki/REXX) w różnych formach, są również szeroko dostępne. Inną dość powszechną powłoką jest `osh`, której strona podręcznika mówi, że „jest to ulepszony, wstecznie kompatybilny port standardowego interpretera poleceń z szóstego wydania Unix”.\n",
    "\n",
    "Oprogramowanie współdziałające Windows-Unix, takie jak [MKS Toolkit](https://en.wikipedia.org/wiki/MKS_Toolkit), [Cygwin](https://pl.wikipedia.org/wiki/Cygwin), [UWIN](https://en.wikipedia.org/wiki/UWIN), [Interix](https://pl.wikipedia.org/wiki/Interix) i inne, udostępnia powyższe powłoki i programowanie Unix w systemach Windows, zapewniając funkcjonalność aż do sygnałów i innej [komunikacji między-procesorowej](https://pl.wikipedia.org/wiki/Komunikacja_mi%C4%99dzyprocesowa), [wywołań systemowych](https://pl.wikipedia.org/wiki/Wywo%C5%82anie_systemowe) i [interfejsów programowania aplikacji (API)](https://pl.wikipedia.org/wiki/Interfejs_programowania_aplikacji). [Powłoka Hamilton C](https://en.wikipedia.org/wiki/Hamilton_C_shell) jest powłoką systemu Windows, która jest bardzo podobna do powłoki Unix C. Microsoft dystrybuuje [usługi Windows dla systemu UNIX](https://en.wikipedia.org/wiki/Windows_Services_for_UNIX) do użytku w szczególności z jego systemami operacyjnymi opartymi na NT, które mają [podsystem środowiskowy](https://en.wikipedia.org/wiki/Environmental_subsystem) POSIX."
   ]
  },
  {
   "cell_type": "markdown",
   "metadata": {},
   "source": [
    "### Filozofia\n",
    "\n",
    "Programowanie skryptów powłoki ma nieco złą opinię wśród niektórych administratorów systemów uniksowych, a ostatnio wśród profesjonalnych programistów, ponieważ wymagania współczesnego przemysłu oprogramowania w coraz większym stopniu zależą od funkcji skryptów powłoki.\n",
    "\n",
    "Wady programowania powłoki zwykle dzielą się na jedną z dwóch kategorii:\n",
    "\n",
    "1. Prędkość\\\n",
    "Niska szybkość działania zinterpretowanego programu powłoki w porównaniu z programem w języku C, programem w języku Java, a nawet z interpretowanym programem w języku Perl, Go, Rust, Ruby, Node.js, Python.\n",
    "1. Jakość\\\n",
    "Ponieważ łatwo jest napisać prosty skrypt powłoki typu zadania wsadowego, istnieje wiele skryptów powłoki niskiej jakości. Ułatwia to również zasugerowanie, że wszystkie skrypty powłoki są złe.\n",
    "\n",
    "Dlatego bardzo przydatna jest możliwość tworzenia *dobrych* skryptów powłoki. Skrypty, które można wykorzystać do wdrożeń, transformacji danych, wydajnej obsługi plików lub efektywnej manipulacji niskopoziomowymi szczegółami maszyny, sieci lub systemu operacyjnego - do których program Java, Python lub Go nie miałby dostępu tak łatwo lub tak wydajnie. Łączenie różnych części potoku kompilacji w kilku wierszach skryptu powłoki jest szybkie, efektywne i umożliwia wykonanie zadania tam, gdzie inne narzędzia nie są w stanie sprostać zadaniu.\n",
    "\n",
    "Istnieje wiele czynników, które mogą mieć wpływ na dobre, czyste, szybkie skrypty powłoki.\n",
    "\n",
    "1. Formatowanie\\\n",
    "Najważniejszymi kryteriami dla każdego kodu musi być przejrzysty, czytelny układ. Odnosi się to do wszystkich języków, ale ponownie tam, gdzie główne języki są obsługiwane przez rozbudowane środowiska IDE, wiele skryptów powłoki jest napisanych w znacznie mniej wyrozumiałych edytorach, więc to na skrypcie spoczywa obowiązek upewnienia się, że kod jest dobrze przedstawiony. Źle sformatowany kod jest o wiele trudniejszy w utrzymaniu niż dobrze sformatowany kod.\\\n",
    "Wydaje się, że coś w skryptach powłoki sprawia, że szczególnie prawdopodobne jest, że są one źle wcięte, a ponieważ główne struktury kontrolne to if/then/else i pętle, wcięcia są krytyczne dla zrozumienia, co robi skrypt. Ponownie, „właściwy” programista prawdopodobnie używa potężnego, ale skomplikowanego IDE, podczas gdy wiele skryptów powłoki jest napisanych w edytorach typu `nano` czy `vim`.\n",
    "1. Wydajność\\\n",
    "Łatwo wpaść w pułapkę używania niepotrzebnych poleceń. Powłoka nie jest szybkim ani wydajnym procesorem własnego języka i nie ma kompilatora, który reinterpretowałby Twoje zamiary w najbardziej wydajną implementację, więc kilka drobnych zmian w skrypcie może często spowodować ogromną różnicę (dobrą lub złą) w wydajności kodu.\n",
    "\n",
    "Przejrzysty układ sprawia, że skrypt powłoki może wyglądać jak „czarna magia” albo jest takim, który jest łatwy do utrzymania i zrozumienia.\\\n",
    "Możesz myśleć, że przy prostym skrypcie nie jest to zbyt poważny problem, ale warto pamiętać o dwóch rzeczach.\n",
    "\n",
    "1. Pełzanie funkcji\\\n",
    "Po pierwsze, prosty skrypt - częściej niż przewidywano - przerodzi się w duży, złożony.\n",
    "2. Konserwowalność\\\n",
    "Po drugie, jeśli nikt inny nie może zrozumieć, jak to działa, możesz utknąć w utrzymywaniu go samodzielnie do końca życia!\n",
    "\n",
    "Tak więc skromny skrypt powłoki ma wiele przeszkód na swojej drodze, ale nadal jest przydatny. Musimy więc nauczyć się go dobrze używać, w ramach jego własnych ograniczeń. Nie obsługuje z wdziękiem wielowymiarowych tablic, ale poradzi sobie łatwo z przekierowaniem we/wy. Będzie natomiast zarządzać wielozadaniowością i kontrolą pracy w sposób, o którym bardziej złożone języki nigdy nie mogą marzyć. Jednak jego zdolność do obsługi wielobajtowych liczb całkowitych jest bardzo słaba. Musimy więc nauczyć się powłoki i zrozumieć to, w czym się wyróżnia, zawsze wybierając najlepsze narzędzie do wykonywanej pracy, pamiętając, że jest wiele rzeczy, które najlepiej wykonać innymi narzędziami."
   ]
  },
  {
   "cell_type": "markdown",
   "metadata": {},
   "source": [
    "### Pierwszy skrypt\n",
    "\n",
    "Dla naszego pierwszego skryptu powłoki napiszemy po prostu skrypt z napisem „Hello World”. Następnie postaramy się wyciągnąć więcej z programu Hello World niż z jakiegokolwiek innego samouczka, jaki kiedykolwiek czytałeś :-) Użyj prostego edytora tekstu (ale nie procesora tekstu), aby utworzyć zwykły plik tekstowy o nazwie `first.sh` z taką zawartością (lub pobierz go z linku poniżej):\n",
    "\n",
    "[`first.sh`](https://github.com/miklesz/CodeBrainers/blob/master/Unix%20Shell:Git/first.sh)\n",
    "\n",
    "```sh\n",
    "#!/bin/sh\n",
    "# To jest komentarz!\n",
    "echo Hello World\t# To też jest komentarz!\n",
    "```\n",
    "\n",
    "Pierwsza linia mówi Uniksowi, że plik ma być wykonany przez `/bin/sh`. Jest to standardowa lokalizacja powłoki kompatybilnej z Bourne w prawie każdym systemie typu Unix. Jeśli używasz systemu GNU/Linux, `/bin/sh` jest zwykle dowiązaniem symbolicznym do powłoki `bash` lub prawdopodobnie `dash`. Przyjrzymy się `#!` za chwilę.\n",
    "\n",
    "Druga linia zaczyna się specjalnym symbolem: `#`. Oznacza to wiersz jako komentarz i jest całkowicie ignorowany przez powłokę.\\\n",
    "Jedynym wyjątkiem jest sytuacja, gdy *pierwsza* linia pliku zaczyna się od znaku `#!` ... jak nasz. Jest to specjalna dyrektywa, którą Unix traktuje specjalnie. Oznacza to, że nawet jeśli używasz csh, ksh lub czegokolwiek innego jako powłoki interaktywnej, to co następuje, powinno być zinterpretowane przez powłokę Bourne'a.\\\n",
    "Podobnie, skrypt Perla może zaczynać się od linii `#!/usr/bin/perl`, aby poinformować Twoją interaktywną powłokę, że program, który następuje, powinien być wykonywany przez Perl. W przypadku programowania powłoki Bourne'a będziemy trzymać się `#!/bin/sh`.\n",
    "\n",
    "Trzecia linia uruchamia polecenie: `echo`, z dwoma parametrami lub argumentami - pierwsza to `Hello`; drugi to `World`.\\\n",
    "Zauważ, że `echo` automatycznie umieści pojedynczą spację między parametrami.\n",
    "Symbol `#` w linii 3 nadal oznacza komentarz; `#` i wszystko po nim (aż do końca wiersza) jest ignorowane przez powłokę.\n",
    "\n",
    "Teraz uruchom najpierw `chmod +x first.sh`, aby plik tekstowy był wykonywalny, a następnie uruchom `./first.sh`.\\\n",
    "Twój ekran powinien wtedy wyglądać następująco:"
   ]
  },
  {
   "cell_type": "code",
   "execution_count": 73,
   "metadata": {},
   "outputs": [],
   "source": [
    "chmod +x first.sh"
   ]
  },
  {
   "cell_type": "code",
   "execution_count": 74,
   "metadata": {},
   "outputs": [
    {
     "name": "stdout",
     "output_type": "stream",
     "text": [
      "Hello World\n"
     ]
    }
   ],
   "source": [
    "./first.sh"
   ]
  },
  {
   "cell_type": "markdown",
   "metadata": {},
   "source": [
    "Prawdopodobnie się tego spodziewałeś/spodziewałaś! Nawet wystarczy uruchomić:"
   ]
  },
  {
   "cell_type": "code",
   "execution_count": 75,
   "metadata": {},
   "outputs": [
    {
     "name": "stdout",
     "output_type": "stream",
     "text": [
      "Hello World\n"
     ]
    }
   ],
   "source": [
    "echo Hello World"
   ]
  },
  {
   "cell_type": "markdown",
   "metadata": {},
   "source": [
    "Ale teraz wprowadźmy kilka zmian."
   ]
  },
  {
   "cell_type": "markdown",
   "metadata": {},
   "source": [
    "#### Wprowadzanie zmian\n",
    "\n",
    "Najlepszym sposobem, aby się czegoś dowiedzieć, jest to zmienić, szturchnąć i zobaczyć, co się stanie.\n",
    "\n",
    "Po pierwsze, zauważ, że `echo` umieszcza JEDNĄ spację między parametrami. Pomiędzy `„Hello”` i `„World”` wstaw kilka spacji. Jaki będzie wynik? A co z umieszczeniem między nimi znaku TAB?\\\n",
    "Jak zawsze w przypadku programowania powłoki, wypróbuj to i zobacz."
   ]
  },
  {
   "cell_type": "code",
   "execution_count": 76,
   "metadata": {},
   "outputs": [
    {
     "name": "stdout",
     "output_type": "stream",
     "text": [
      "Hello World\n"
     ]
    }
   ],
   "source": [
    "echo Hello        World"
   ]
  },
  {
   "cell_type": "markdown",
   "metadata": {},
   "source": [
    "Wynik jest dokładnie taki sam! Wywołujemy program `echo` z dwoma argumentami. Teraz ponownie zmodyfikuj kod:"
   ]
  },
  {
   "cell_type": "code",
   "execution_count": 77,
   "metadata": {},
   "outputs": [
    {
     "name": "stdout",
     "output_type": "stream",
     "text": [
      "Hello      World\n"
     ]
    }
   ],
   "source": [
    "#!/bin/sh\n",
    "# To jest komentarz!\n",
    "echo \"Hello      World\"       # To też jest komentarz!"
   ]
  },
  {
   "cell_type": "markdown",
   "metadata": {},
   "source": [
    "Tym razem to działa. Prawdopodobnie tego też się spodziewałeś/spodziewałaś, jeśli masz doświadczenie z innymi językami programowania. Ale kluczem do zrozumienia, co się dzieje z bardziej złożonymi poleceniami i skryptami powłoki, jest zrozumienie i umiejętność wyjaśnienia: DLACZEGO?\\\n",
    "`echo` zostało teraz wywołane tylko z JEDNYM argumentem - łańcuchem `„Hello World”`. Drukuje to dokładnie.\\\n",
    "Należy tutaj zrozumieć, że powłoka analizuje argumenty PRZED przekazaniem ich do wywoływanego programu. W tym przypadku usuwa cudzysłowy, ale przekazuje ciąg jako jeden argument.\\\n",
    "Jako ostatni przykład wpisz następujący skrypt. Spróbuj przewidzieć wynik, zanim go uruchomisz:\n",
    "\n",
    "[`first2.sh`](https://github.com/miklesz/CodeBrainers/blob/master/Unix%20Shell:Git/first2.sh)"
   ]
  },
  {
   "cell_type": "code",
   "execution_count": 78,
   "metadata": {
    "scrolled": true
   },
   "outputs": [
    {
     "name": "stdout",
     "output_type": "stream",
     "text": [
      "Hello      World\n",
      "Hello World\n",
      "Hello * World\n",
      "Hello Git.ipynb Unix Shell.ipynb first.sh first2.sh for.sh for2.sh myvar2.sh nowyplik.txt pierwszy.txt plik.txt user.sh var.sh var2.sh while.sh World\n",
      "Hello World\n",
      "Hello World\n",
      "Hello       World\n",
      "Hello * World\n",
      "bash: hello: command not found\n",
      "world\n",
      "hello world\n"
     ]
    }
   ],
   "source": [
    "#!/bin/sh\n",
    "# To jest komentarz!\n",
    "echo \"Hello      World\"       # To też jest komentarz!\n",
    "echo \"Hello World\"\n",
    "echo \"Hello * World\"\n",
    "echo Hello * World\n",
    "echo Hello      World\n",
    "echo \"Hello\" World\n",
    "echo Hello \"     \" World\n",
    "echo \"Hello \"*\" World\"\n",
    "echo `hello` world\n",
    "echo 'hello' world"
   ]
  },
  {
   "cell_type": "markdown",
   "metadata": {},
   "source": [
    "Czy wszystko jest zgodne z oczekiwaniami? Jeśli nie, nie martw się! To tylko niektóre z rzeczy, które omówimy w tym kursie ... i tak, będziemy używać potężniejszych poleceń niż `echo`!"
   ]
  },
  {
   "cell_type": "markdown",
   "metadata": {},
   "source": [
    "### Zmienne\n",
    "\n",
    "Prawie każdy istniejący język programowania ma pojęcie *zmiennych* - symboliczną nazwę fragmentu pamięci, do którego możemy przypisywać wartości, czytać i manipulować jego zawartością. Powłoka Bourne'a nie jest wyjątkiem i ta sekcja przedstawia tę ideę.\\\n",
    "Spójrzmy wstecz na nasz pierwszy przykład Hello World. Można to zrobić za pomocą zmiennych (chociaż jest to tak prosty przykład, że nie uzasadnia tego!)\n",
    "Zwróćcie uwagę, że wokół znaku „=” nie może być spacji: `VAR=wartość` działa; `VAR = wartość` nie działa. W pierwszym przypadku powłoka widzi symbol „=” i traktuje polecenie jako przypisanie zmiennej. W drugim przypadku powłoka przyjmuje, że VAR musi być nazwą polecenia i próbuje je wykonać.\n",
    "Jeśli się nad tym zastanowić, ma to sens - jak inaczej można powiedzieć mu, aby uruchomił polecenie VAR z pierwszym argumentem „=”, a drugim argumentem „wartość”?\n",
    "Wprowadź następujący kod do `var.sh`:\n",
    "\n",
    "[`var.sh`](https://github.com/miklesz/CodeBrainers/blob/master/Unix%20Shell:Git/var.sh)"
   ]
  },
  {
   "cell_type": "code",
   "execution_count": 79,
   "metadata": {},
   "outputs": [
    {
     "name": "stdout",
     "output_type": "stream",
     "text": [
      "Hello World\n"
     ]
    }
   ],
   "source": [
    "#!/bin/sh\n",
    "MY_MESSAGE=\"Hello World\"\n",
    "echo $MY_MESSAGE"
   ]
  },
  {
   "cell_type": "markdown",
   "metadata": {},
   "source": [
    "Spowoduje to przypisanie ciągu „Hello World” do zmiennej `MY_MESSAGE`, a następnie `echo` wartości tej zmiennej.\\\n",
    "Zauważcie, że potrzebujemy cudzysłowów wokół ciągu Hello World. Podczas gdy z `echo Hello World` mogłoby sie udać, ponieważ echo pobierze dowolną liczbę parametrów, zmienna może przechowywać tylko jedną wartość, więc ciąg znaków ze spacjami musi być cytowany w cudzysłowie, aby powłoka wiedziała, że ma traktować to wszystko jako jedną. W przeciwnym razie powłoka spróbuje wykonać polecenie `World` po przypisaniu `MY_MESSAGE=Hello`.\n",
    "\n",
    "Powłoka nie dba o typy zmiennych; mogą przechowywać łańcuchy, liczby całkowite, liczby rzeczywiste - cokolwiek zechcecie.\\\n",
    "Ludzie przyzwyczajeni do Perla i Pythona mogą być z tego całkowicie zadowoleni; jeśli ktoś uczył się C, Pascala lub co gorsza języka Ada, to dla takiej osoby może się to wydawać dość dziwne.\\\n",
    "Prawdę mówiąc, wszystkie zmienne są przechowywane jako łańcuchy, ale procedury, które oczekują liczby, mogą je jako takie traktować.\\\n",
    "Jeśli przypiszesz ciąg do zmiennej, a następnie spróbujesz dodać 1 do niej, nie ujdzie to na sucho:"
   ]
  },
  {
   "cell_type": "code",
   "execution_count": 80,
   "metadata": {},
   "outputs": [
    {
     "name": "stdout",
     "output_type": "stream",
     "text": [
      "expr: not a decimal number: 'hello'\n"
     ]
    },
    {
     "ename": "",
     "evalue": "2",
     "output_type": "error",
     "traceback": []
    }
   ],
   "source": [
    "x=\"hello\"\n",
    "expr $x + 1"
   ]
  },
  {
   "cell_type": "markdown",
   "metadata": {},
   "source": [
    "Dzieje się tak, ponieważ program zewnętrzny `expr` oczekuje tylko liczb. Ale nie ma różnicy składniowej między żadnymi z tych definicji zmiennych:"
   ]
  },
  {
   "cell_type": "code",
   "execution_count": 81,
   "metadata": {},
   "outputs": [],
   "source": [
    "MY_MESSAGE=\"Hello World\"\n",
    "MY_SHORT_MESSAGE=hi\n",
    "MY_NUMBER=1\n",
    "MY_PI=3.142\n",
    "MY_OTHER_PI=\"3.142\"\n",
    "MY_MIXED=123abc"
   ]
  },
  {
   "cell_type": "markdown",
   "metadata": {},
   "source": [
    "Należy jednak pamiętać, że znaki specjalne muszą być odpowiednio chronione, aby uniknąć interpretacji przez powłokę.\n",
    "\n",
    "Możemy interaktywnie ustawiać nazwy zmiennych za pomocą polecenia `read`; poniższy skrypt prosi o podanie imienia, a następnie wita się osobiście:\n",
    "\n",
    "[`var2.sh`](https://github.com/miklesz/CodeBrainers/blob/master/Unix%20Shell:Git/var2.sh)\n",
    "\n",
    "```sh\n",
    "#!/bin/sh\n",
    "echo Jak masz na imię?\n",
    "read MY_NAME\n",
    "echo \"Witaj $MY_NAME - mam nadzieję, że wszystko w porządku.\"\n",
    "```"
   ]
  },
  {
   "cell_type": "markdown",
   "metadata": {},
   "source": [
    "Wykorzystuje wbudowane w powłoce polecenie `read`, które wczytuje wiersz ze standardowego wejścia do podanej zmiennej.\\\n",
    "Zwróćcie uwagę, że nawet jeśli podasz swoje pełne imię i nazwisko i nie użyjesz podwójnych cudzysłowów wokół polecenia `echo`, nadal wyświetla poprawnie. Jak to się robi? W przypadku zmiennej `MY_MESSAGE` wcześniej musieliśmy umieścić ją w cudzysłowie, aby ją ustawić.\\\n",
    "Dzieje się tak, że polecenie `read` automatycznie umieszcza cudzysłowy wokół swojego wejścia, dzięki czemu spacje są poprawnie traktowane. (Oczywiście będziesz musiał/musiała zacytować wynik - np. `echo \"$MY_MESSAGE\"`)."
   ]
  },
  {
   "cell_type": "markdown",
   "metadata": {},
   "source": [
    "#### Zakres zmiennych\n",
    "\n",
    "Zmienne w powłoce Bourne'a nie muszą być deklarowane, jak to ma miejsce w językach takich jak C. Ale jeśli spróbujesz odczytać niezadeklarowaną zmienną, wynikiem jest pusty ciąg. Nie otrzymasz żadnych ostrzeżeń ani błędów. Może powodować subtelne błędy - jeśli przypiszesz:"
   ]
  },
  {
   "cell_type": "code",
   "execution_count": 82,
   "metadata": {},
   "outputs": [],
   "source": [
    "MY_OBFUSCATED_VARIABLE=Witaj"
   ]
  },
  {
   "cell_type": "markdown",
   "metadata": {},
   "source": [
    "i wtedy:"
   ]
  },
  {
   "cell_type": "code",
   "execution_count": 83,
   "metadata": {},
   "outputs": [
    {
     "name": "stdout",
     "output_type": "stream",
     "text": [
      "\n"
     ]
    }
   ],
   "source": [
    "echo $MY_OSFUCATED_VARIABLE"
   ]
  },
  {
   "cell_type": "markdown",
   "metadata": {},
   "source": [
    "Wtedy nic nie dostaniesz (ponieważ druga OBFUSCATED jest błędnie napisana).\n",
    "\n",
    "Istnieje polecenie o nazwie `export`, które ma rzeczywisty wpływ na zakres zmiennych. Aby wiedzieć, co się dzieje z Waszymi zmiennymi, musicie zrozumieć, jak to jest używane.\n",
    "\n",
    "Utwórz mały skrypt powłoki, `myvar2.sh`:\n",
    "\n",
    "[`myvar2.sh`](https://github.com/miklesz/CodeBrainers/blob/master/Unix%20Shell:Git/myvar2.sh)\n",
    "\n",
    "```sh\n",
    "#!/bin/sh\n",
    "echo \"MYVAR to: $MYVAR\"\n",
    "MYVAR=\"cześć\"\n",
    "echo \"MYVAR to: $MYVAR\"\n",
    "```"
   ]
  },
  {
   "cell_type": "markdown",
   "metadata": {},
   "source": [
    "Teraz uruchom skrypt:"
   ]
  },
  {
   "cell_type": "code",
   "execution_count": 84,
   "metadata": {},
   "outputs": [
    {
     "name": "stdout",
     "output_type": "stream",
     "text": [
      "MYVAR to: \n",
      "MYVAR to: cześć\n"
     ]
    }
   ],
   "source": [
    "./myvar2.sh"
   ]
  },
  {
   "cell_type": "markdown",
   "metadata": {},
   "source": [
    "`MYVAR` nie został ustawiony na żadną wartość, więc jest pusty. Następnie nadajemy mu wartość i daje oczekiwany wynik.\\\n",
    "Teraz uruchom:"
   ]
  },
  {
   "cell_type": "code",
   "execution_count": 85,
   "metadata": {},
   "outputs": [
    {
     "name": "stdout",
     "output_type": "stream",
     "text": [
      "MYVAR to: \n",
      "MYVAR to: cześć\n"
     ]
    }
   ],
   "source": [
    "MYVAR=hello\n",
    "./myvar2.sh"
   ]
  },
  {
   "cell_type": "markdown",
   "metadata": {},
   "source": [
    "Nadal nie zostało ustawione! Co się dzieje?!\\\n",
    "Kiedy wywołujesz `myvar2.sh` z interaktywnej powłoki, pojawia się nowa powłoka, która uruchamia skrypt. Częściowo jest to spowodowane linią `#!/bin/sh` na początku skryptu, o której rozmawialiśmy wcześniej.\\\n",
    "Musimy zrobić `export` zmiennej, aby została odziedziczona przez inny program - w tym skrypt powłoki. Wpisz:"
   ]
  },
  {
   "cell_type": "code",
   "execution_count": 86,
   "metadata": {},
   "outputs": [
    {
     "name": "stdout",
     "output_type": "stream",
     "text": [
      "MYVAR to: hello\n",
      "MYVAR to: cześć\n"
     ]
    }
   ],
   "source": [
    "export MYVAR\n",
    "./myvar2.sh"
   ]
  },
  {
   "cell_type": "markdown",
   "metadata": {},
   "source": [
    "Teraz spójrzcie na linię 3 skryptu: to zmienia wartość `MYVAR`. Ale nie ma sposobu, aby to zostało przekazane z powrotem do Waszej interaktywnej powłoki. Spróbujcie odczytać wartość `MYVAR`:"
   ]
  },
  {
   "cell_type": "code",
   "execution_count": 87,
   "metadata": {},
   "outputs": [
    {
     "name": "stdout",
     "output_type": "stream",
     "text": [
      "hello\n"
     ]
    }
   ],
   "source": [
    "echo $MYVAR"
   ]
  },
  {
   "cell_type": "markdown",
   "metadata": {},
   "source": [
    "Po zakończeniu działania skryptu powłoki jego środowisko zostaje zniszczone. Ale `MYVAR` zachowuje swoją wartość `hello` w Waszej interaktywnej powłoce.\\\n",
    "Aby otrzymać zmiany środowiskowe z powrotem ze skryptu, musimy *pozyskać* (ang. *to source*) skrypt - to skutecznie uruchamia skrypt w naszej własnej interaktywnej powłoce, zamiast tworzyć inną powłokę, aby go uruchomić.\\\n",
    "Możemy *pozyskać* skrypt przez \"`.`\" (kropka) polecenie:"
   ]
  },
  {
   "cell_type": "code",
   "execution_count": 88,
   "metadata": {},
   "outputs": [
    {
     "name": "stdout",
     "output_type": "stream",
     "text": [
      "hello\n"
     ]
    }
   ],
   "source": [
    "MYVAR=hello\n",
    "echo $MYVAR"
   ]
  },
  {
   "cell_type": "code",
   "execution_count": 89,
   "metadata": {},
   "outputs": [
    {
     "name": "stdout",
     "output_type": "stream",
     "text": [
      "MYVAR to: hello\n",
      "MYVAR to: cześć\n"
     ]
    }
   ],
   "source": [
    ". ./myvar2.sh"
   ]
  },
  {
   "cell_type": "code",
   "execution_count": 90,
   "metadata": {},
   "outputs": [
    {
     "name": "stdout",
     "output_type": "stream",
     "text": [
      "cześć\n"
     ]
    }
   ],
   "source": [
    "echo $MYVAR"
   ]
  },
  {
   "cell_type": "markdown",
   "metadata": {},
   "source": [
    "Zmiana ponownie dotarła do naszej powłoki! Tak działa na przykład plik `.profile` lub `.bash_profile`.\\\n",
    "Zwróć uwagę, że w tym przypadku nie musimy zrobić `export MYVAR`.\\\n",
    "Inną rzeczą, o której warto w tym miejscu wspomnieć o zmiennych, jest rozważenie następującego skryptu powłoki:\n",
    "\n",
    "```sh\n",
    "#!/bin/sh\n",
    "echo \"Jak masz na imię?\"\n",
    "read USER_NAME\n",
    "echo \"Witaj $USER_NAME\"\n",
    "echo \"Utworzę plik o nazwie $USER_NAME_plik\"\n",
    "touch $USER_NAME_plik\n",
    "```"
   ]
  },
  {
   "cell_type": "markdown",
   "metadata": {},
   "source": [
    "Zastanówcie się, jakiego wyniku możecie się spodziewać. Na przykład, jeśli wpiszecie „stefan” jako swój USER_NAME, czy skrypt powinien utworzyć `stefan_plik`?\\\n",
    "Właściwie nie. Spowoduje to błąd, chyba że istnieje zmienna o nazwie `USER_NAME_plik`. Powłoka nie wie, gdzie kończy się zmienna, a zaczyna się reszta. Jak możemy to zdefiniować?\\\n",
    "Odpowiedź jest taka, że samą zmienną umieszczamy w *nawiasach klamrowych*:\n",
    "\n",
    "[`user.sh`](https://github.com/miklesz/CodeBrainers/blob/master/Unix%20Shell:Git/user.sh)\n",
    "\n",
    "```sh\n",
    "#!/bin/sh\n",
    "echo \"Jak masz na imię?\"\n",
    "read USER_NAME\n",
    "echo \"Witaj $USER_NAME\"\n",
    "echo \"Utworzę plik o nazwie ${USER_NAME}_plik\"\n",
    "touch \"${USER_NAME}_plik\"\n",
    "```"
   ]
  },
  {
   "cell_type": "markdown",
   "metadata": {},
   "source": [
    "Powłoka wie teraz, że odnosimy się do zmiennej `USER_NAME` i chcemy, aby była ona poprzedzona sufiksem „`_plik`”. Może to być przyczyną wpadek wielu nowych programistów skryptów powłoki, ponieważ źródło problemu może być trudne do wyśledzenia.\n",
    "\n",
    "Zwróćcie również uwagę na cudzysłowy wokół `\"${USER_NAME}_plik\"` - jeśli użytkownik wprowadziłby „Stefan Gajowy” (zwróćcie uwagę na spację), to bez cudzysłowów argumentami przekazanymi do `touch` byłyby `Stefan` i `Gajowy_plik` - to znaczy faktycznie wykonywalibyśmy `touch Stefan Gajowy_plik`, czyli dwa pliki do dotknięcia (`touch`), a nie jeden. Cytaty tego unikają."
   ]
  },
  {
   "cell_type": "markdown",
   "metadata": {},
   "source": [
    "### Symbole wieloznaczne\n",
    "\n",
    "Symbole wieloznaczne nie są niczym nowym, jeśli w ogóle używaliście Uniksa.\\\n",
    "Jednak niekoniecznie jest oczywiste, jak są one przydatne w skryptach powłoki. Ta sekcja ma na celu skłonienie starych szarych komórek do myślenia o tym, jak wyglądają rzeczy, gdy jesteś w skrypcie powłoki - przewidując efekt użycia różnych składni. Będzie używany później, szczególnie w sekcji Pętle.\\\n",
    "Pomyślcie najpierw, jak skopiować wszystkie pliki z `/tmp/a` do `/tmp/b`. Wszystkie pliki `.txt`? Wszystkie pliki `.html`?\\\n",
    "Miejmy nadzieję, że wymyślicie:\n",
    "\n",
    "```sh\n",
    "$ cp /tmp/a/* /tmp/b/\n",
    "$ cp /tmp/a/*.txt /tmp/b/\n",
    "$ cp /tmp/a/*.html /tmp/b/\n",
    "```"
   ]
  },
  {
   "cell_type": "markdown",
   "metadata": {},
   "source": [
    "W jaki sposób można by wyświetlić listę plików w `/tmp/` bez użycia:"
   ]
  },
  {
   "cell_type": "code",
   "execution_count": null,
   "metadata": {},
   "outputs": [],
   "source": [
    "ls /tmp/"
   ]
  },
  {
   "cell_type": "markdown",
   "metadata": {},
   "source": [
    "Co powiecie na:"
   ]
  },
  {
   "cell_type": "code",
   "execution_count": null,
   "metadata": {},
   "outputs": [],
   "source": [
    "echo /tmp/*"
   ]
  },
  {
   "cell_type": "markdown",
   "metadata": {},
   "source": [
    "Jakie są kluczowe różnice między tym a wyjściem ls? Jak to może być przydatne? Albo w czym przeszadzać?\\\n",
    "Jak możecie zmienić nazwy wszystkich plików .txt na .bak? Zwróćcie na to uwagę:\n",
    "\n",
    "```sh\n",
    "mv *.txt *.bak\n",
    "```\n",
    "\n",
    "Nie przyniesie pożądanego efektu; pomyślcie o tym, jak to zostanie rozszerzone przez powłokę, zanim zostanie przekazane do `mv`. Spróbujcie tego używając `echo` zamiast `mv`, jeśli to pomaga.\\\n",
    "Przyjrzymy się temu dalej, ponieważ wykorzystuje kilka koncepcji, które nie zostały jeszcze omówione."
   ]
  },
  {
   "cell_type": "markdown",
   "metadata": {},
   "source": [
    "### Pętle\n",
    "\n",
    "Większość języków ma koncepcję pętli: jeśli chcemy powtórzyć zadanie dwadzieścia razy, nie chcemy wpisywać kodu dwadzieścia razy, być może za każdym razem z niewielką zmianą.\\\n",
    "W rezultacie mamy pętle `for` i `while` w powłoce Bourne'a. Jest to nieco mniej funkcji niż inne języki, ale nikt nie twierdził, że programowanie powłoki ma moc języków C lub Python."
   ]
  },
  {
   "cell_type": "markdown",
   "metadata": {},
   "source": [
    "#### Pętle for\n",
    "\n",
    "Pętle `for` iterują przez zestaw wartości, aż lista zostanie wyczerpana:\n",
    "\n",
    "[`for.sh`](https://github.com/miklesz/CodeBrainers/blob/master/Unix%20Shell:Git/for.sh)"
   ]
  },
  {
   "cell_type": "code",
   "execution_count": null,
   "metadata": {},
   "outputs": [],
   "source": [
    "#!/bin/sh\n",
    "for i in 1 2 3 4 5\n",
    "do\n",
    "  echo \"Pętla ... numer $i\"\n",
    "done"
   ]
  },
  {
   "cell_type": "markdown",
   "metadata": {},
   "source": [
    "Wypróbuj ten kod i zobacz, co robi. Zauważ, że wartości mogą być dowolne:\n",
    "\n",
    "[`for2.sh`](https://github.com/miklesz/CodeBrainers/blob/master/Unix%20Shell:Git/for2.sh)"
   ]
  },
  {
   "cell_type": "code",
   "execution_count": null,
   "metadata": {},
   "outputs": [],
   "source": [
    "#!/bin/sh\n",
    "for i in cześć 1 * 2 pożegnanie\n",
    "do\n",
    "  echo \"Pętla ... zmienna i jest ustawiona na $i\"\n",
    "done"
   ]
  },
  {
   "cell_type": "markdown",
   "metadata": {},
   "source": [
    "Warto spróbować. Upewnijcie się, że rozumiecie, co się tutaj dzieje. Wypróbujcie bez `*` i zrozumcie na czym polega pomysł, a następnie przypomnijcie sobie ponownie sekcję Symbole wieloznaczne i spróbujcie ponownie z `*` na miejscu. Wypróbujcie również w różnych katalogach, z `*` otoczonym podwójnymi cudzysłowami i spróbujcie go poprzedzić odwrotnym ukośnikiem (`\\*`)\n",
    "\n",
    "Tak więc, jak widać, pętle `for` przechodzą przez dowolne dane wejściowe, dopóki nie skończą się dane wejściowe."
   ]
  },
  {
   "cell_type": "markdown",
   "metadata": {},
   "source": [
    "#### Pętle while\n",
    "\n",
    "Tymczasem pętle `while` mogą być o wiele przyjemniejsze! (w zależności od Waszego pomysłu na to, jak definiujecie \"przyjemność\" i tego, jak często wychodzicie z domu).\n",
    "\n",
    "[`while.sh`](https://github.com/miklesz/CodeBrainers/blob/master/Unix%20Shell:Git/while.sh)\n",
    "\n",
    "```sh\n",
    "#!/bin/sh\n",
    "INPUT_STRING=cześć\n",
    "while [ \"$INPUT_STRING\" != \"żegnaj\" ]\n",
    "do\n",
    "  echo \"Wpisz coś (żegnaj, żeby wyjść)\"\n",
    "  read INPUT_STRING\n",
    "  echo \"Wpisano: $INPUT_STRING\"\n",
    "done\n",
    "```"
   ]
  },
  {
   "cell_type": "markdown",
   "metadata": {},
   "source": [
    "W tym przypadku instrukcje echo i read będą działały przez czas nieokreślony, dopóki nie wpiszecie `żegnaj`; gdy pojawi się monit.\\\n",
    "Przypomnijcie sobie część kursu poświęconą zmiennym, aby zobaczyć, dlaczego ustawiliśmy `INPUT_STRING=cześć` przed przetestowaniem. To sprawia, że jest to pętla powtarzania, a nie tradycyjna pętla while."
   ]
  },
  {
   "cell_type": "code",
   "execution_count": null,
   "metadata": {},
   "outputs": [],
   "source": []
  }
 ],
 "metadata": {
  "kernelspec": {
   "display_name": "Bash",
   "language": "bash",
   "name": "bash"
  },
  "language_info": {
   "codemirror_mode": "shell",
   "file_extension": ".sh",
   "mimetype": "text/x-sh",
   "name": "bash"
  }
 },
 "nbformat": 4,
 "nbformat_minor": 4
}
