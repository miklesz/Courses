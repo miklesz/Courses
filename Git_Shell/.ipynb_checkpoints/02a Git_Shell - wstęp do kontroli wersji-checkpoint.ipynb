{
 "cells": [
  {
   "cell_type": "markdown",
   "metadata": {
    "slideshow": {
     "slide_type": "slide"
    }
   },
   "source": [
    "# Git/Shell - wstęp do kontroli wersji\n",
    "_Mikołaj Leszczuk_\n",
    "![](https://memegenerator.net/img/instances/36986461.jpg)"
   ]
  },
  {
   "cell_type": "markdown",
   "metadata": {
    "slideshow": {
     "slide_type": "slide"
    }
   },
   "source": [
    "## Wstęp\n",
    "\n",
    "Oprogramowanie do kontroli wersji pomaga kontrolować co i kiedy zrobiliśmy z danym programem lub zestawem programów. Może służyć też do zapisywania kolejnych wersji naszych plików. To zwykle jest o wiele lepsze od sytuacji z poniższego obrazka:"
   ]
  },
  {
   "cell_type": "markdown",
   "metadata": {
    "slideshow": {
     "slide_type": "subslide"
    }
   },
   "source": [
    "![](https://www.researchgate.net/profile/Jose-Serrano-2/publication/324208381/figure/fig3/AS:966400076165125@1607419141691/Figura-6-He-terminado-o-no-Fuente-Piled-Higher-and-Deeper-by-Jorge-Cham.png)"
   ]
  },
  {
   "cell_type": "markdown",
   "metadata": {
    "slideshow": {
     "slide_type": "slide"
    }
   },
   "source": [
    "## Kontrola wersji\n",
    "\n",
    "Kontrola wersji może służyć zapisowi kolejnych wersji dokumentów.\n",
    "\n",
    "![](https://ucsbcarpentry.github.io/2019-10-24-gitbash/fig/play-changes.svg)\n",
    "\n",
    "W ten sposób w każdej chwili możemy powrócić do poprzednich wersji naszej pracy i coś odzyskać lub poprawić."
   ]
  },
  {
   "cell_type": "markdown",
   "metadata": {
    "slideshow": {
     "slide_type": "subslide"
    }
   },
   "source": [
    "Nad danym dokumentem może pracować kilka osób i wtedy zwykle prowadzi to do kilku wersji tekstów\n",
    "\n",
    "![](https://bham-carpentries.github.io/2019-02-22-bham_git-novice/fig/versions.svg)"
   ]
  },
  {
   "cell_type": "markdown",
   "metadata": {
    "slideshow": {
     "slide_type": "subslide"
    }
   },
   "source": [
    "Jeżeli zmiany zostaną dokonane w tej samej części dokumentu rodzi się konflikt, którą wersję wybrać:\n",
    "\n",
    "![](https://reproducible-analysis-workshop.readthedocs.io/en/latest/_images/merge.svg)"
   ]
  },
  {
   "cell_type": "markdown",
   "metadata": {
    "slideshow": {
     "slide_type": "subslide"
    }
   },
   "source": [
    "Systemy kontroli umożliwiają łatwe zarządzanie nie tylko zmianami w projekcie, ale również pozwalają zmniejszać liczbę powstających konfliktów między wersjami oraz ułatwiają rozwiązanie tych, które powstały. Są one stworzone po to by śledzić zmiany w dokumentach, decydować którą wersję w czasie konfliktu zachować tworząc nową wersję dokumentów oraz trzymają pełną historię zmian. Kompletna historia wszystkich zmian w pikach oraz wszystkich wersji plików tworzy **repozytorium**."
   ]
  },
  {
   "cell_type": "code",
   "execution_count": null,
   "metadata": {
    "scrolled": false,
    "slideshow": {
     "slide_type": "skip"
    }
   },
   "outputs": [],
   "source": []
  }
 ],
 "metadata": {
  "celltoolbar": "Slideshow",
  "kernelspec": {
   "display_name": "Bash",
   "language": "bash",
   "name": "bash"
  },
  "language_info": {
   "codemirror_mode": "shell",
   "file_extension": ".sh",
   "mimetype": "text/x-sh",
   "name": "bash"
  }
 },
 "nbformat": 4,
 "nbformat_minor": 4
}
