{
 "cells": [
  {
   "cell_type": "markdown",
   "metadata": {},
   "source": [
    "![](data:image/jpeg;base64,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)"
   ]
  },
  {
   "cell_type": "markdown",
   "metadata": {},
   "source": [
    "# Unix Shell\n",
    "\n",
    "_Mikołaj Leszczuk_\n",
    "\n",
    "## Konspekt\n",
    "\n",
    "W tym module nauczymy się podstaw obsługi konsoli / terminala / wiersza poleceń.\n",
    "\n",
    "Poznamy podstawowe komendy:\n",
    "* odnajdywanie siebie w konsoli (wstęp do konsoli),\n",
    "* zarządzanie katalogami (podstawowe komendy, ścieżki - względne i bezwzględne, wyświetlanie zawartości katalogów),\n",
    "* zarządzanie plikami (uprawnienia/prawa dostępu, manipulacje plikami),\n",
    "* przeszukiwanie dysku.\n",
    "\n",
    "Ponadto poznamy różnice między systemem Unix i Windows - ze względu na ścieżki i organizację dysku twardego.\n",
    "\n",
    "## Unix\n",
    "\n",
    "### Wstęp do konsoli\n",
    "\n",
    "Podstawowym narzędziem pracy w Uniksie jest konsola, terminal lub wiersz poleceń.\n",
    "\n",
    "**Powłoka systemu Unix** to interpreter wiersza poleceń lub [powłoka systemowa](https://pl.wikipedia.org/wiki/Pow%C5%82oka_systemowa), która zapewnia [interfejs użytkownika](https://pl.wikipedia.org/wiki/Interfejs_u%C5%BCytkownika) wiersza poleceń dla [systemów operacyjnych](https://pl.wikipedia.org/wiki/System_operacyjny) [typu Unix (uniksopodobnych)](https://pl.wikipedia.org/wiki/System_uniksopodobny). Powłoka jest zarówno interaktywnym [językiem poleceń](https://en.wikipedia.org/wiki/Command_language), jak i [językiem skryptowym](https://pl.wikipedia.org/wiki/J%C4%99zyk_skryptowy) i jest używana przez system operacyjny do sterowania wykonywaniem systemu za pomocą [skryptów powłoki](https://en.wikipedia.org/wiki/Shell_script).\n",
    "\n",
    "![Okna powłoki `tcsh` i `sh` na pulpicie systemu macOS](https://upload.wikimedia.org/wikipedia/commons/1/1f/Tcsh_ejecut%C3%A1ndose_en_escritorio_Mac_OSX.png)\n",
    "\n",
    "Użytkownicy zwykle wchodzą w interakcję z powłoką systemu Unix za pomocą [emulatora terminala](https://en.wikipedia.org/wiki/Terminal_emulator); jednakże bezpośrednia obsługa przez szeregowe połączenia sprzętowe lub [Secure Shell](https://pl.wikipedia.org/wiki/Secure_Shell) są powszechne w systemach serwerowych. Wszystkie powłoki uniksowe zapewniają [symbole wieloznaczne (wieloznaczniki)](https://pl.wikipedia.org/wiki/Wieloznacznik) w nazwach plików, [potoki uniksowe](https://pl.wikipedia.org/wiki/Potok_(Unix)), [\"here documents\"](https://en.wikipedia.org/wiki/Here_document), [podstawianie poleceń](https://en.wikipedia.org/wiki/Command_substitution), [zmienne](https://pl.wikipedia.org/wiki/Zmienna_(informatyka)) i [struktury kontrolne (przeływy sterowania)](https://pl.wikipedia.org/wiki/Przep%C5%82yw_sterowania) do [testowania warunków (instrukcje warunkowe)](https://pl.wikipedia.org/wiki/Instrukcja_warunkowa) i [iteracji](https://pl.wikipedia.org/wiki/Iteracja)."
   ]
  },
  {
   "cell_type": "markdown",
   "metadata": {},
   "source": [
    "![](data:image/png;base64,iVBORw0KGgoAAAANSUhEUgAAA0MAAAGsCAYAAAAfTXyRAAAAAXNSR0IArs4c6QAAAARnQU1BAACxjwv8YQUAAAAJcEhZcwAADsMAAA7DAcdvqGQAADORSURBVHhe7d2Hu1Xlnejx+7fcO3dukkk1iTGZZKKTZDKTSTyoMaLYRcRKk14sIKiIoFgQLNgH7KhIERAEVGyo2ECKLWqKDc0YY+Z397vPeQ+b46twDAp5+ezn+TywV9tr781zWF/etRb/6+t7HxkAAAC7GzEEAADslsQQAACwWxJDAADAbuljMXTkkQAAAHXp2j1JMYY8PDw8PDw8PDw8PDxqeXQrhv7nf/4HAACgCt2Kob/+9a8AAABV6FYM/eUvfwEAAKhCt2Loww8//EQPP/pwnH/J+Q2Ttri03eQWeVpeZvKl58eDjzxY3CYAAMDnpVsx9Oc//7lo3Qvr4oj+PaPHkT+O3xy/dxw68F/jqBE/iT5n/CxOmPBvcfLEn8cp5/1789cTxv9bHHvaz+LI4T+JXv33iQP77h1HDurZ3EZp2wAAAJ+HbsXQf//3fxctWrIo9j1sn/jx/l+Onx/+1di379fjwIHfjF4j94ijxn0nep/73ehz3p7R+5zvxpFnficOGb5HHDDgm/HLPl+Ln/X6p9iv9782t1HaNsCu5JFHHmn+PExWrVpVXObz9N577xWnb8vO3u/tNXbs2OY+jho1qjh/Z9qV9w3g78Hpp5/eVJq3s6Sf6127JynG0J/+9KeiexffG/sd/dP4xWHfjoXLb49Tzzk4jhz9z9Fnwo/i5At+HAMv2ydOvXyfGHDpPnHi5B/HsWf9MA4f8YM4aMBe0Xbsd+M3x/8sFi5aWNw2wK6ka1SUltmR3n///Vi2bFmcc845cdxxxzVf9/jjj4+zzz477rvvvub80npdfdH7nZ177rnN1+zdu3f8/ve//9j8qVOnNucfddRR8corr3QGx8iRIz+2bMkNN9zQ+b7eeuut4jI7Smnf8v5n6X307ds3Ro8eHXfccUczXlu3AbA7yzFUmtcdn7ad7r5G+tndtXuSYgylv3RLUsj8vOde8a+/+UrMXTI73tn8Zgy7sGccddZ34vgpe0b/Gd+PU6/+QfS7bK847vw944gzvxM9h3wrepz0jfj3I78avzzi+7Hg3gXFbQPsSh5++OHOA9+HHnqouMyO8rvf/S7Gjx8fRx99dFx00UWxePHieOyxx+L++++P6dOnNwPjrLPOij/+8Y/F9Vt9kfvdavny5Z2ve9ddd201L8VReg9pXoqmNO2dd96Jt99+u/lr67JdpcjYvHlzXH/99Z3bf/PNN4vL7iitMZSntcbQ0KFDY9iwYdGnT5/OabfddttW2wDYneVQKc3rjrydrtv6pOmfJv2s7to9STGG0l8+JSlkfvLrbzdjaN2mp+OcKwZFr+Hfbp4i13fynnHKtL1iwBXfj5Mv2at5utwRZ3w7DkoxdGIjho74avx7r+/G/IXzi9sG2FnSSMOVV14ZJ5xwQvMANx34LlmypPNA98EHH9xq+UWLFjV/AKcRnHSQn0YH0rQ8/4orrmiul0YO0rbz9IULF3Zuc+3atc1p7777bpx55plx6qmnxgsvvNC5bJqefk0H/uvWrYtBgwY1gyiFQV5mZ+53VylqTj755OYyI0aM2GpeiqO8foqmNC295/Q8BUdernVa2q/0maQRmLxuV+edd15zvSFDhjSfT5gwoXNbrXH2+OOPN6fdfffdzfd84oknNsMzfQ7pNZcuXdq5XlLatwsvvLBzey+++GJz2vr16zunpRG9vGySPrPTTjut+b0ce+yxzc8kjSDl7zVFa35vd955Z3NaisaBAwc2p6U4zt9163f65JNPdr4GwK4qh0ppXnflbeXtdX2+vdLP0K7dkxRjKP2wLpm3YF787MDvxX8c+u04uN/e0XPAXnHZzWNjzrIrYspN/aLfRXs3T5HrN3XvOOG8f4ljxv4wDhv+g/hNv72irfd34xeH7hX3zL+nuG2AnWXGjBmdB5vpQDkd1OdT1ZIHHnigc9lrr722c/oZZ5wR48aN6zyovemmm5rLPPPMM53LpFPc8ropZtK09AM8T0sH6OmAOQVPen7rrbc29yHFSgqdtHxa5qmnnmq+Tuu+7Mz9Lrnuuus611+zZk3n9HTtTZp2yimnNEeD0rTW4MjL5WkpHtKv/fr1a4ZeiqK0bpqWpKBJZs6c2VyvNYbyttIph3n5Rx99tDktBc2AAQOay6WQSoGZl1m5cmXnuqV9a42hTZs2NeMvjbzladdcc03nsmm/8vT0nfTv37/zedpOXi6PdqX3myIzv0ZaJ51KmJdLI4V5/dWrV3dOB+iu1pD4JKX1tqW0nZLSuttjR2wr/Qzt2j1JMYbSD/mSFDJ7/fzL8S/7fbl5Q4R0Y4RB5/aMsdOPi4FT9o2jz/pOHDP+u82RosPGfLt5itx+p3wj/rP31+KnB/9T/Kjtn2LuvLnFbQPsDC+99FJzlCD97EuBkE5FS6Mi6VqdfACaDpTTsukgOAdEuoYlbyOHRgqYN954ozltzJgxzWkTJ05sPk+jCXnd+fPnd66blrv00kubv0/xkuanU+XSa6bRhPQ8jayk+engPI3epN/vzP1OQfOHP/xhK2laGinJy6ZQS8s+/fTTzedJiqU0LcnBkd5j12lJCsA0LW03jY61xlwaQcnrJDmG0nvP07rGUJr26quvNn99/fXXY8OGDc0AyaNZU6ZM6Vy3tG8XXHBB5/a6SnGZ96n1s06jO2nf03tI32le/oknnmgum76v/Fop/NKvad00apRfN0n7n76P5Pnnn99qXkkK61tuuSUuv/zymDdvXrz22mud89J3tWDBgq2WB3YfpajoqrTetpS2U1Jad3v9rdtJP2O7dk9SjKH0g7skhcy39v6/8YP//FLs85uvNE99+1Xfr8cB/b8ZBw3+VvPucYeM2CMOHrZH/ObUb8X+jRBKwfTzw/4p9j7gy7Hnv/1j3H3P3cVtA+wMrf+6f88993ROT6dp5ekrVqxoTkunU+VpnyRd65OWTdtKz4855pjmQfjNN9/cfJ5OQUvXCOXXSSGSIiP9Ph28pmXSwXp6nq4ZSs/TaVTpebreJp0Kl36/M/c7jVK1rpukfU3z8ihSWj4FQj71Lh3kp1hKyyStwdF1WhrlSqGQpyetMdT6+SWtMZSntb7ndFOJNO3ee+/tPA2tq/Taed3SvrXGUHq9dM1QGrXK09L7TMulEbU8LZ0ql9dPN7PI09Ppcnl6is3W7aRYzfM+i/Sd50jO0p+xFGYp+FL8tb5XgM9DjpbSvM+iNYQ+67bTz8Ou3ZMUYyj9S1bJ3XPvju/95Oux977fin87aI/4zyO+Ez2O2zMOPPl7zVPmDjn1+9Fr8A+avx7Uf6/49Unfa95F7heHfyd+duAe8cNffCPuuvuu4rYBdoZ0XU0+aExRkqe3HtSm60/StNZrN84///zmqVFdpdGGtGwKmnyB/Zw5c5oHz+n36YYI+TXSaE46cE0H6el5GiFK0ZAO9tPzPFKU1k//op9O8UoHy2neztzvNLKRt5el+EjzWmNs7ty5nQf6KZLy+kkaTUnTU3B82rQs7WPebtrH1nk5hlpfI0ddkkIkjajkEZv0l2j6zNJnlU9hSyNied3SfqSQyNtL13alaek7yTdbSNtOYdP6Wbd+L63fV7rZQp6ePssUK3ne5MmTO+d9Fimcb7zxxuYIVRoRSn8G0r6n7yGFUPp9/q4BPi85WErzuitvK2+v6/PtlX7Gdu2epBhD6S/okhQy39jrH2OPf/m/sdfP/1/8qO1LzZsp/Nuh/xT/cdRX4xe9v9Y8Je4Xx3wt/uPIrzZPpdvnwC/HD/f9UnzvZ/8Y3/7xl+LOu+4sbhtgZ9i4cWPnQXIadcnT08F/PkBNox5pWjoIzstefPHFncsm6bS1dPDfOm3atGnNZVuvd0kHv63LDB48uHmgn36fTmlKy8yaNau5X+mi/PQ8BdBll13WHG1J+5CW3dn7/UnS6XZpZCet03r9UrrupXW51uD4tGlZOsDP20oH+q3zcpCka4DSaFSKlHRdUF4+xVBrpKTRk7Reeu/5+qQUQ3l7pf1ojaF0Glqall4rv3aSIiPNy591Go3J+5O+o7xcOu0trZ9G3vJ1S+kUyLxeCpr8ukna/zQqmKTrulrndZVerzQd4IuUY6U0rztaw2d7pn+a9PO1a/ckxRhKP7hLUsh843tfjq/u+X+aQbRnI3D++Zdfal5DtM+BX4l/Pegr8ZOe7b/u/esvx7/0+FL84Bf/L/b86T/GN3/4D7HHD74Sc+5s/xdOgF1FGpFJP/uSdP1NOpDOB6ZJioq8bL6pQZJusZyu40gHsum0snTdR+t208Xuedkk3UigdX6SQuikk05qXjCfRoRaD7rz6Vp53XRXtNZ1d+Z+f5qrrrpqq/VTHKXRnNZlcnAMHz78U6dlrTGT9jfFSxp5SfNSPOZ5aSQrvb/WzyGdUphCJY/ApPedAjMtm08pS9vLr1Xaj9bvJQVs19PkUjjl8MmnBiYpKFtPzUsjc3mbaRQoTUufTwq8PPqV9jOdipiXS9f45PXT9UR5OsCuKodKaV53fNp2uvsa6Wdo1+5JijGU/kIuuWPOHfH9fb7TiJqvxp4//lr84Gdfjx/94puxd9u34if7fyt++us9Ov1r43k6ne5H//GN+P5Pvx7f/VFj+ca6t99xe3HbADtL+hf6NBqS/pPTNFKQ/kU/ncqUD0DTKWB52TTykUZS8m2TU0ykU63S9SrptLLW7SbpIDlvpzQ/HQSnA+YUM2mkIk1Lp3SlWyin05zSKEK6M1vX9ZKdud+fpvWmCUmKo67LpL/A0rwUHJ82LUv7n0a9Ujjm0EkRlOblzyFFRRqNSpGRbiCQXz+dbpiWS0GVQinFRhqRSe8rvVZaJt2dLr9WaT9yuLRKn2EKnfTa6YYMedm0r2nbKSLT95KWS687e/bsZhSmZdL8vJ20X2la+r7TfqRpKbhyIKfoy8umUaL8OgBsv/QztGv3JMUYSj/IS1LIfPeH34wvffN/N33l2/87vva9/xPf/Od/aI4UfXvvhn3af93jX/4hvtGYnkaRvrxH+/J7NtZN2yhtG2B3lUZ8UhCla4Juv/325qhAOrhO09MIRhqBSNe3lNYFALatWzGU/uWqJF0A+uOf/jD2+vEe8b0ff6vTXnt/K76/zx7xg5/sEf/ckH5Nz/dqXaaxTlo3/atWadsAu7N0XU++Lij9HM5SJKVbUr/88svF9QCAbetWDKWh+pI0ZJ/OOz/8iMOjZ8+D4qCev9kuadm0Tlo3baO0bQBea57ylW5WkP7xKY0Q/fa3vy0uBwBsv27FUPrL+JOkc9rT3XLSOezdkdZJ65a2CQAA8HnpVgyl0RsAAIAadCuG0rnpAAAANehWDKX/RRsAAKAG3Yqh9P9eAAAA1EAMAQAAuyUxBAAA7JbEEAAAsFsSQwAAwG5JDAEAALslMQQAAOyWdk4MbXw87rhwTEy4cVVsKM3fGTY+EQtmXhiXz30yNpbm7wo2ronF102Nabc/uut8bttjV/y+AQDY7X0xMbR+SUw9rmccc/7CWNd8vjQu7N0jjr3o/ljfddmdZf3imHTEfnHi9I4D9q77vPH5eHTxXTHvged2XixtWBGX9t0vjr5g6a7zuW2PXfH7BgBgt7djYmjjU3HdqT3il7/8ZRc9YsiNa2Ljhgfi2lGnxPCrlrcfDH/eB8efuD9tW2Knq64x9LF9XhDn9OoRJ1/x8GePoY2Px8z+bYX96tBjcNywZmN53eSLjqGOz3G/ETfH813mrb11VOzXY1Bc98Sn7G8mhgAA2AXt0Bhq639JzFu0KBZ1WhwPPLX+48t/QTFU2p8Vq9eV1+kaQx+bvwNiaNMLsXr5vbFw4cKGeTFz9CHRdvgZcf389Lzh3pXxxPrSeh3EEAAA7DA7NIZKB81NXQ/iSwfH6x+Luy4ZEycd1TMO2O83cUS/cXHt0mc/W3hsa3+Sdavi1slDonfP/aNtv55x9IBBcdyBPVpGhrruc4qhX7WM5OwXo25dW972dlkfiyYdHm29L4ylnQG0IVZdPyqOOfiA6NHWFgccclwMv2hurN7QMb+5T21xUN9B0f/og2K/tgPikD7D4sI7Ho4X8nY3Ph/Lrx8f/Y78Tfs2eh0bp896bId/jh+LoU/7/rp+3xtXxx3nD44Tjz4kft2jLdr27xnHDJwQVy9e8zeEJgAAdM+OjaHhs+PZ9etjfYcNGzoOlLcZQ8/Hosm9Y//DhsQlty2KZffNiRnDD422w8bH3Oc6XqM7thVDG5+NeeccFW0HHh/jZ94R8+bfFbMuHRVH79dyGl0xhnpE38lzY+XKlQ0PxurntmNU5BOVYmhjPLvinrhz3uJYunRx3DljRBze1jNOu70jKjpiaP/eY+LSG2+Pe+bdFleNPS4OaDs6Ji18vrmNDSsujb49esWw6XfFfcvvj8Vzb4m5D7zQsf1u6vwcZ8WadetiXYtnZo9oiaFtfH9dv+/m++gRvYbPiDnz5se8O2+IC4YcFj0OODGmLf+M+woAAN20Q2Noq+tfGjoP9LcRQxufvilG/vrAGDF7y8jAxtUzo3+PnjHu7s9wcPwJ+/OrgyfEvMb+bFwzK4YfsF/0u+qRLSMRH7tmqBxDf9tpcq1KMdTFhgfjshP2i6Mm39cSES371Jz2UMw4sS0OHHNrPNt4vn7BuXFYW++Ysrg9jv4mn/A5duqIoW1+f8UY6vI+1jWW6dMWPc+885NH8wAAYAfaoTHUNuCyuHfp0ljaYdkDq2Ntmr+NGFp/3+Q4at9fRVtbj+jRI2uLfX/VcQOG/Drbq2N/egycHouXL4/lHVY09uf5jY3XW9J4vbajY8p9Ldcz7RIx9EI8cudFMeaUY+Kwgw6Mg3odEb0OaItDJy785IhobOfe89J2psaytJ0XVsTMIb2i7YAjYuD4GXHr8jUty3ZT/l77XxoL7rsv7muxcNrAxnfUHkPb/P62J4bS+5h4aLQde1Hc/0lxCAAAO9AOjaHPes1Qe5wcGmNvWhkPPfRQi1Xx+LMbPr69bdnG/qy/b0oc3XZUTF7SzRg69PONoQ0rL4sT9zswTjpvVsxfujJWLrs9JvbZnhg6rBERU7dExMbn4+F518akIUfFAfseFP2mL22/PXh3fcrn2HrN0Da/v+2Nodao65wOAACfj50aQ72nLms+T6etjTigLY67ZEXLwfHfYBv7s/GZW2LUgW1x/KUrt7zeNmNoSUw+Ku1zxwH93+zjMfT8LSMbgTEsZj3dcS1S81bc+316DL2wNKYe1xYHnTGn8F6fj8WTe0dbr7Nj/mcJjO2MoW1+f12+7+L76HK638e2AQAAO9jOiaGNj8ZVp7TFASdfGHetSv+J6XOxYNIx0WP/o2P0tNlx94J7Y/5ds2PmrCXx3MYu29oeHfvT1u+imNu8jfUW9y59rLGP6+K+qX1j//2OipGXzm4sc28suGtGDOv5KXeT2/h03DzqwGg7ckxcdeeCmD9nVtyy5Om/YZTo4zG0fvnFcVzbb+KUSbNi3n33x/Jld8ak43p0iaF044Er4q7GZ7Tw7llx8fAjYr9044H726+t2vDwXXHtjXMa73N5LFs8Jy4bcki09bkoln+OMbRpW99f1++7+T4az5s3grgj5s27I2aO67vVjSAAAODztnNiaNPGWHPPBTHwiIOi95Ql7dPWr465006Lk45Mt4xui/0OOiJOmnBrPP43xFDpov+2vpfGinSr6g1Pxb1XjYv+R/dsvN6+0XZAzziy76kxec6T7YHzsX1uxMqqm2LCKYfFr9P+9TwmRlz7YHs4fSala4bab4vd/6jGZ7BvY5/2OzAOPqJPDL+qY8Rl4+Nx+6RB0feIno1waMzfv2ccPXB8zGy5JfW6xZfFoMZ72r/tV7HvfgfFUf3GxjWfwy3KP35r7U/7/rp83x0x1LxFeOO99mjbPw7uMywuuL3lFuEAAPA52zExBN1RCE0AAPiiiSG+eGIIAIBdgBjiiyeGAADYBYghAABgtySGAACA3ZIYAgAAdkvdiqF33nkHAACgCt2Kob/+6WUAAIBdUil4srtWvRDXLH6m092r1osh2JUdO3LsdimtCwCwuylFUNYaQpkYgl1YKXxKSusCAOxuShGUiaG/V28ujHMHDY6e/U6L6U+8WF6GKpXCp6S0LgDA7qYUQdnnF0PvPRm3njM0ep4yNEbOfTL+Ulpmh3kxNr+4MpYvviNuufP2uGflg/Ha26XlWnyh+/dpXoo3Fk6JQ08ZHL3G/lesfW/LvA+fuSFO7j84Dh50YSx846WWdRp2ZAy9/0ysXnhLzJ5zayx7YWN5mR3og8eujGP6Nfa98Z6b+o2MCx/Z9PFl314Uk9J77Fju4H5D47Ahp8fAKVfEbU88Ex92Xf7vxOYHr4kLlq+NjwrztkcpfEpK6wIA7G5KEZT9/cfQ5jWx4vqJjYPrIVsOrk8ZEoedcXkse+VTImGXiaFG9Dz/XzEwRc/AC2PB6zl6XorXF5zfHknjb4oNLZHU9PaDcfsVl8WkGTNj4Ya/MYY2PxRXn54+i2ExfulnP0jfXh8+e2uMP39ynDZpfPTp3/jethVDjQjqfdr4GDh2XJwwZGgcnMJo4IS47tnPP9w+DymGptz/vBgCAPgClCIo+/uOoffXxiPXjotDGwfTw6+7J555ZX188M66eOmRG2LUkCFx9KUL4o/vF9ZLdqEY+uvby+KioSkKxsSlj+co2BAPXTmqceA/JI67dnl80HWdHekLjqFO7y6Nixrf0zZjqP/4uO75juB766G4Zlz793by7FV/R6NDL8Xv18yNK6ZfGKeeMS6OP/O8GHnB9Ljk9mXxatfQ3YZS+JSU1gUA2N2UIijbYTH00ZuPxryrJ8VJQ4bHkaMmxWVLl8R/FWNjU7z6yE0x+byx0fvU9tOeTp06M+5+em3nMh8+e0P06xgpmf/alpGS1xZMbh8pGTcr1jUOID947sYY2H9onHTN0nirGT0vxntvPBt/fHN9PHXDmXHIkBnx0Dvt29wZ+9c+fTu8/1wsnDqsET5DY+ic1e2v894jcUM66O83PCYs2xIof37i6ui71Slmn3CaXCMUF188rD0arp8fy266OAaPHBGHDhgRfcbdEE9sfjn+8vIdMXpAy7a20hJG7z8b8y9s/6z639wRIO8uicnNUZtRcfFjW0Lmgw33xrVXXhCDR4+KwwcMjUMHj4l+Ey+LGx56Mv67Y5lOnyWGGt/Pg5ePaEbisY1I/HPn8pvitUdvjskTz4xjBg2Lw4eNjdFX3hqPvbrls/no90vj4jFpZGlonND4M/Nu48/MR39YEheMSPswNE659v54p0s8f/TmE/H4g0tixZNPxfufFNbb4c/r74jTT58YE+9ZGc/ee0VMnPdQPPfEorjt1gWxrvFdlNb5JKXwKSmtCwCwuylFULZjYuj9dbFq5unN05fSKWq9GgejhwwYHb3Tge5WsfFSvLF8WvRtnho1PPqeNTGGjx0ThzUO7tNpT9esWd++vXcfiCsbB63pIHnSyhc6DsgbB/eXDG8eyPa/KR2Qb4onrz8jDhl0Qdzz6kvx0evL4urzTotezW2dEUPHnx6HDLwoFv2+ESs7Zf/S9rbXi7HhjrOjV2PfDr9kQfOA/KM35sa4gY39GDAxbtm45YD+w7V3xLmTJ8dp542P3imKthlDQ+KwU4dHr/6j4pSzz4/Tzx3XeN8z4oF3G6/x2qKYPiWdrnZOHD8ofRZD4pgzJ8Vp6RS28y+Iax7L7217Y+ileGvpRY3Pa2gcPXpCjLrw4hh39hlxePr8BkyIG9d22c9ux9CL8f7Li+LiNIrVWGfC0mfb96/xur9/cEac2PzehsQRw06PYxvvJwVTr9OvjFW/2xKs7zx+dZzSWO7ggefG7BfWx3O3TGj8mWksd8Y1sfqPebkt/rJpTpw+emz0vfie+G03R3C2eCleWXBJHH/WrHiqET7Na4ZWuGYIAOCLUIqgbIfE0Ee/WxBnn5oORIfGqbNWxNvvbYqXl1wSfdLBemtsvLMyLh+dDmRHxzn3rWn/V/3318eaWY0D0saB6xEXzes4rW1jrL4uxUv7KWLNEYW3lsbUdCpZ/7Fx5ZrGgfN7T8Qt5wyNQ8+7I159b12svGJM44D7zJhw29xYvPDaGDOssezAqbGocSC8U/YvTeuGD1bPbO7PIaOvbR4wf/D4Vc3nB4+6pvn8Y+ts6wYKnTHU2MaQ8+Om5zvCpuFPr6zZ+vTBbZ0m142RoffX3hcr163dEoPvPx+LLk4jOY3P/vZHt47E7Y2hztGqpBEuQyfEObcujdfz57J5VVxzRvv+nXLtsvhjI1o+fH1JTD2tfdqpt7W87vsvxBM3jm8G0NETL4jhgxthNGB8XPnk+mKcfHoMbYzXn14c98y7NW6Yc0fMW/Vw/PbNjqBq/Ll5+cmH47WOdd564Ko46bSLY/Zz6+IdMQQA8IUpRVC2Q2Low6evb971rOeA8+POlzsOBt9dEdNHNg50W2Ljwxdmx6lpucYB9KApU+Osqe3GTRgTh6SD9pFXN0/fSuv/6bEr2+PgjBvjuca0Pz91bZyYTk1rxMET6dS3zStjxqihceSV98UHjd+n1zr84vmdp8u9eNfE6NURQztl/9JrNL0Ub21YGatXL4/HsydWxqY/bD0K8dHvF8SENDozYFLMefnF2DTn3GaAHXnZvbG5ZblO2x1DQ+Koy5fE+13nt9qBMfTX99bGhofvjptmXxOXXDUjLrhiepxxejoFcEgcM3PZ1tc+bW8Mdd5A4aw4aVhjW43nfc69MhZvar+Bwl823RYjBjSW6392zF6fP4sXY+2tjehpfG+HTpoTr7XG35sPxtXj2m/E0Azkmx6M9/K8bvhw7Z1x3sWXxNiLWlx6RVx84w1xyeXTYtyMO2NtDrZ3nowl10yJE0ZPiIFnnR2DL5sdd658KF7f1l0PC0rhU1JaFwBgd1OKoGyHxNCfH78qjk2jLIMuixX54O691XHz2e0H0Dk2/vzENVtf79LFwYNnxEPvdqz/5n1xYRppGTAxbtu0KV64o310ps81y+JPaf7mFTFtxND2A+zNy+PSYY1waBz0N+c1AuSNe6fEoR0xtFP2r9OmePiqke0H3lm6UcLqLgGTRrrS/jTCYPKDz8R9HafcjZ63pn3UqqvtjqGhcdKsB7cekelqR8XQe2ti0aWnxyHFz3BIHHFFI1xbt/tZrhlqxNbj16fIGRKHTbw9Xk6jQB3XcKWRwC23IG+5Zfm42fHCVqM6m2Ldbem0xLTtCXHD2sJrb4cPX1gScx99LF7/48b44O3n48U1i+OOW66J8y6bHpOvuzkWrHm2y3VSL8ZbGx+IJbMvisEXTI8x486KEybdEA91Xne2fUrhU1JaFwBgd1OKoGyHxFDnyMvAlv8Pp+XUpc6Rl7WzmreQTiM0d72yjQPA91+IFTMaEdFvWIxb9FDMmZRCYXRc+HDHdTvvPRLXjx0ah100L95+7/lYcsnIOGTohXHLU2vidxuXxlUTGjHRdWToi9y/TtsZQ40D5aduOKMZQP1n3RbTRzciof/YmPlMIXSSbsTQNu+6ts0Yeq4RQ+3bOuWmh9q39daiOK9LDH24/qYYnD6/fsNjxE3L4pU/bIy/vL8pHpnZfle8j8fQsrg4BWVj+ckPFW6TXbyBwsvxwaNXxtGN4Dp40CWx9M3tGBk6f+uRoQ/W3xqj0mmTze+jsV/n3RYbcuR+AfI1Q3/5w/0xfcK4GHrbw5/+/XRRCp+S0roAALubUgRlOySGtlyTMzLG3/d0Myzef+aG9lPOWmLjr28vj2np1LR+Q2Pwjcvi9/kUovfWx2+fnBuzl7ZeU/JSvL38kjiq35A4avLUGJMuiB8yPVbkazL+9EIsn94IoBFXxiNvvRR/fnF+TD4jjaakg/Fh0WdEI0A+ds3QF7l/3fVSvLvi0jiicZDfa8zYOKmxbwcPmREr3yot27AjY+i9R+PGs9rDcPjdHZ/FVtbHsmnps2281+mLmndh+9Oa69tHY1pjKEdna7xsfiRuaG67EEMtQTr49kdb7gzXoRRD76+PZ25pH9U5ePD0eCCN9DW2c+2Z7ds55dql7dcMvbZ4yzVDrdcqvfNozD6n8V4a3/GQm+bEFY2gPrgRYyPvfLR4+/KP3lwdj6xcFPc/8eTfdDe5j1rW7byBwntr4u6LxsVJ193/8TvtfYpS+JSU1gUA2N2UIijbITGU7tb20FXtd2s7eNAZMXLqlBg4dHgc3rxDWUts/OnFePW+i6NPIyDSwfGhQ86M/memWyG33/mrz7Urtjog/uiNeTG+5V/wj5q2MN7uPKh8Kd5aOS2OaQTOmYs6TiXbvDZeWbsqnt/4fLzz20djzdOPxx9T0OyU/eu+v7y09a2uD518Z7zRur33noj5V0xpv9tb593khkbfs85vnzblmliZR766E0ONsFx5eRq9aXw+A8fEoIld7iaXPpf5k9vvqtd/TAybOjWGjBzevHPfVqfJvbksLh3V/pn2vfCGmLv07vivaWc11yvGUCOyHr2m43tJd7s7J72PKTFl0RMdcdr1mqHxccqI4R2n4Q2J4y5f1HGNWPvd5E7ouJvc4UPHdH5nvU5rvZvchnjutnOa+3PI6JnxaCNc3151efPUyIMHTYzZaz8+OrVj7ib3YmxccEWcO+uuuH/1qnh6/hUxcf6D8cTiq2PYmIlxyaru3UyhFD4lpXUBAHY3pQjKdkwMNXz05sNx95UT4/hTh8URI8+NKfMWxHVdrslpX3ZjvProLXHRlPHRd8iw6NV/WBw14qwYPe3amPNEvlVyh+a1Kuni+3RAPDwmdD2F693H4pZzh8fBgyfGzEef2XpkoRFGv//9lhGTnbJ/3bV5Vcxsjmakg/2hMeCWR7aOmM0Px3XNEZA0v2DA+XF3Pr2vWzH0cnz4ypK45uJz4oTGez6kGYNdTpl7+7GYf+W50WdQ4/MYPSmmLb45zulymlyKks1r58a0yeOi96D0fzSNjTEzb28E0ehmmHw8hhrfy+9Wxs2XnRvHD04jNOl9tFyXlGMov7/GfvUaNDKOHzc5zr9lYWzcahRuU/z20Zti8rlj4+j02kPHxugrbtnq/xl67+kb4tQBKZhGNb6rZ9rf2/tPx7wL02mMQ+KwCbPiuS43NNgxMfRybN6wJG79ryvizPMmxsljxkWf0eOj/6QZcfXy1bG5mwFdCp+S0roAALubUgRlOyyGdpYPX10S085Kpz2NiFMmT4/Lb5kV11w/I844fWT0nrZw61tIwy5g84NXx5T7n//M4VwKn5LSugAAu5tSBGV/9zGUfPTWk7Hq7pkx/uzGQeCpQ6PXoNFx0jmXxlWLV3WcRgW7juY1Q8vFEADAF6EUQVkVMQR/Tz7YdH88uGFDcd72KIVPSWldAIDdTSmCMjEEf2dK4VNSWhcAYHdTiqBMDAEAANUqRVAmhgAAgGqVIigTQwAAQLVKEZSJIQAAoFqlCMrEEAAAUK1SBGViCAAAqFYpgjIxBAAAVKsUQZkYAgAAqlWKoEwMAQAA1SpFUCaGAACAapUiKBNDAABAtUoRlIkhAACgWqUIysQQAABQrVIEZWIIAACoVimCMjEEAABUqxRBmRgCAACqVYqgTAwBAADVKkVQJoYAAIBqlSIoE0MAAEC1ShGUiSEAAKBapQjKxBAAAFCtUgRlYggAAKhWKYIyMQQAAFSrFEGZGAIAAKpViqBMDAEAANUqRVAmhgAAgGqVIigTQwAAQLVKEZSJIQAAoFqlCMrEEAAAUK1SBGViCAAAqFYpgjIxBAAAVKsUQZkYAgAAqlWKoEwMAQAA1SpFUCaGAACAapUiKBNDAABAtUoRlIkhAACgWqUIysQQAABQrVIEZWIIAACoVimCMjEEAABUqxRBmRgCAACqVYqgTAwBAADVKkVQJoYAAIBqlSIoE0MAAEC1ShGUiSEAAKBapQjKxBAAAFCtUgRlYggAAKhWKYIyMQQAAFSrFEGZGAIAAKpViqBMDAEAANUqRVAmhgAAgGqVIigTQwAAQLVKEZSJIQAAoFqlCMrEEAAAUK1SBGViCAAAqFYpgjIxBAAAVKsUQZkYAgAAqlWKoEwMAQAA1SpFUCaGAACAapUiKBNDAABAtUoRlIkhAACgWqUIysQQAABQrVIEZWIIAACoVimCMjEEAABUqxRBmRgCAACqVYqgTAwBAADVKkVQJoYAAIBqlSIoE0MAAEC1ShGUiSEAAKBapQjKxBAAAFCtUgRlYggAAKhWKYIyMQQAAFSrFEGZGAIAAKpViqBMDAEAANUqRVAmhgAAgGqVIigTQwAAQLVKEZSJIQAAoFqlCMrEEAAAUK1SBGViCAAAqFYpgjIxBAAAVKsUQZkYAgAAqlWKoEwMAQAA1SpFUCaGAACAapUiKBNDAABAtUoRlIkhAACgWqUIysQQAABQrVIEZWIIAACoVimCMjEEAABUqxRBmRgCAACqVYqgTAwBAADVKkVQJoYAAIBqlSIoE0MAAEC1ShGUiSEAAKBapQjKxBAAAFCtUgRlYggAAKhWKYIyMQQAAFSrFEGZGAIAAKpViqBMDAEAANUqRVAmhgAAgGqVIigTQwAAQLVKEZSJIQAAoFqlCMrEEAAAUK1SBGViCAAAqFYpgjIxBAAAVKsUQZkYAgAAqlWKoEwMAQAA1SpFUCaGAACAapUiKBNDAABAtUoRlIkhAACgWqUIysQQAABQrVIEZWIIAACoVimCMjEEAABUqxRBmRgCAACqVYqgTAwBAADVKkVQJoYAAIBqlSIoE0MAAEC1ShGUiSEAAKBapQjKxBAAAFCtUgRlYggAAKhWKYIyMQQAAFSrFEGZGAIAAKpViqBMDAEAANUqRVAmhgAAgGqVIigTQwAAQLVKEZSJIQAAoFqlCMrEEAAAUK1SBGViCAAAqFYpgjIxBAAAVKsUQZkYAgAAqlWKoEwMAQAA1SpFUCaGAACAapUiKBNDAABAtUoRlIkhAACgWqUIysQQAABQrVIEZWIIAACoVimCMjEEAABUqxRBmRgCAACqVYqgTAwBAADVKkVQJoYAAIBqlSIoE0MAAEC1ShGUiSEAAKBapQjKxBAAAFCtUgRlYggAAKhWKYIyMQQAAFSrFEGZGAIAAKpViqBMDAEAANUqRVAmhgAAgGqVIigTQwAAQLVKEZSJIQAAoFqlCMrEEAAAUK1SBGViCAAAqFYpgjIxBAAAVKsUQZkYAgAAqlWKoEwMAQAA1SpFUCaGAACAapUiKBNDAABAtUoRlIkhAACgWqUIysQQAABQrVIEZWIIAACoVimCMjEEAABUqxRBmRgCAACqVYqgTAwBAADVKkVQJoYAAIBqlSIoE0MAAEC1ShGUiSEAAKBapQjKxBAAAFCtUgRlYggAAKhWKYIyMQQAAFSrFEGZGAIAAKpViqBMDAEAANUqRVAmhgAAgGqVIigTQwAAQLVKEZSJIQAAoFqlCMrEEAAAUK1SBGViCAAAqFYpgjIxBAAAVKsUQZkYAgAAqlWKoEwMAQAA1SpFUCaGAACAapUiKBNDAABAtUoRlIkhAACgWqUIysQQAABQrVIEZWIIAACoVimCMjEEAABUqxRBmRgCAACqVYqgTAwBAADVKkVQJoYAAIBqlSIoE0MAAEC1ShGUiSEAAKBapQjKxBAAAFCtUgRlYggAAKhWKYIyMQQAAFSrFEGZGAIAAKpViqBMDAEAANUqRVAmhgAAgGqVIigTQwAAQLVKEZSJIQAAoFqlCMrEEAAAUK1SBGViCAAAqFYpgjIxBAAAVKsUQZkYAgAAqlWKoEwMAQAA1SpFUCaGAACAapUiKBNDAABAtUoRlIkhAACgWqUIysQQAABQrVIEZWIIAACoVimCMjEEAABUqxRBmRgCAACqVYqgTAwBAADVKkVQJoYAAIBqlSIoE0MAAEC1ShGUiSEAAKBapQjKxBAAAFCtUgRlYggAAKhWKYIyMQQAAFSrFEGZGAIAAKpViqBMDAEAANUqRVAmhgAAgGqVIigTQwAAQLVKEZSJIQAAoFqlCMrEEAAAUK1SBGViCAAAqFYpgjIxBAAAVKsUQZkYAgAAqlWKoEwMAQAA1SpFUCaGAACAapUiKBNDAABAtUoRlIkhAACgWqUIysQQAABQrVIEZWIIAACoVimCMjEEAABUqxRBmRgCAACqVYqgTAwBAADVKkVQJoYAAIBqlSIoE0MAAEC1ShGUiSEAAKBapQjKxBAAAFCtUgRlYggAAKhWKYIyMQQAAFSrFEGZGAIAAKpViqBMDAEAANUqRVAmhgAAgGqVIigTQwAAQLVKEZSJIQAAoFqlCMrEEAAAUK1SBGViCAAAqFYpgjIxBAAAVKsUQZkYAgAAqlWKoEwMAQAA1SpFUCaGAACAapUiKBNDAABAtUoRlIkhAACgWqUIysQQAABQrVIEZWIIAACoVimCMjEEAABUqxRBmRgCAACqVYqgTAwBAADVKkVQJoYAAIBqlSIoE0MAAEC1ShGUiSEAAKBapQjKxBAAAFCtUgRlYggAAKhWKYIyMQQAAFSrFEGZGAIAAKpViqBMDAEAANUqRVAmhgAAgGqVIigTQwAAQLVKEZSJIQAAoFqlCMrEEAAAUK1SBGViCAAAqFYpgjIxBAAAVKsUQZkYAgAAqlWKoEwMAQAA1SpFUCaGAACAapUiKBNDAABAtUoRlIkhAACgWqUIysQQAABQrVIEZWIIAACoVimCMjEEAABUqxRBmRgCAACqVYqgTAwBAADVKkVQJoYAAIBqlSIoE0MAAEC1ShGUiSEAAKBapQjKxBAAAFCtUgRlYggAAKhWKYIyMQQAAFSrFEGZGAIAAKpViqBMDAEAANUqRVAmhgAAgGqVIigTQwAAQLVKEZSJIQAAoFqlCMrEEAAAUK1SBGViCAAAqFYpgjIxBAAAVKsUQZkYAgAAqlWKoEwMAQAA1SpFUCaGAACAapUiKBNDAABAtUoRlIkhAACgWqUIysQQAABQrVIEZWIIAACoVimCMjEEAABUqxRBmRgCAACqVYqgTAwBAADVKkVQJoYAAIBqlSIoE0MAAEC1ShGUiSEAAKBapQjKxBAAAFCtUgRlYggAAKhWKYIyMQQAAFSrFEGZGAIAAKpViqBMDAEAANUqRVAmhgAAgGqVIigTQwAAQLVKEZSJIQAAoFqlCMrEEAAAUK1SBGViCAAAqFYpgjIxBAAAVKsUQZkYAgAAqlWKoEwMAQAA1SpFUCaGAACAapUiKBNDAABAtUoRlIkhAACgWqUIysQQAABQrVIEZWIIAACoVimCMjEEAABUqxRBmRgCAACqVYqgTAwBAADVKkVQJoYAAIBqlSIoE0MAAEC1ShGUiSEAAKBapQjKxBAAAFCtUgRlYggAAKhWKYIyMQQAAFSrFEGZGAIAAKpViqBMDAEAANUqRVAmhgAAgGqVIigTQwAAQLVKEZSJIQAAoFqlCMrEEAAAUK1SBGViCAAAqFYpgjIxBAAAVKsUQdndD6/fKoTS827FEAAAQE26dk9SjKEv4vFFvY6Hh4eHh4eHh4eHx675+CLbo2v3JJ8YQ9dff/3nKr3OjTfeCAAA7Ka+yPbo2j2J0+QAAIDqde2e5GMxBAAAsDsQQwAAwG5JDAEAALslMQQAAOyWxBAAALBbEkMAAMBu6Mj4/2Y3Yye2MAodAAAAAElFTkSuQmCC)"
   ]
  },
  {
   "cell_type": "markdown",
   "metadata": {},
   "source": [
    "> ##### Zadanie\n",
    "> Uruchom maszynę wirtualną przeznaczoną do tych zadań, a następnie uruchom program terminala, np.: \"LXTerm\" lub \"Terminal\". Powinno ci się pokazać okno takie (lub podobne) jak powyżej.\n",
    "\n",
    "Z poziomu konsoli możliwe jest przechodzenie przez katalogi, tworzenie i modyfikowanie plików, szukanie treści w plikach. Wiele tutaj również wiele narzędzi programistycznych, np. interpreter języka Python czy system kontroli wersji Git.\n",
    "\n",
    "Konsola służy do wprowadzania komend (nazw programów), które następnie są wykonywane.\n",
    "\n",
    "Pierwszy wiersz, który widzisz w konsoli, zawiera sporo przydatnych informacji:\n",
    "\n",
    "```sh\n",
    "dev@dev-Virtualbox:~$ \n",
    "```"
   ]
  },
  {
   "cell_type": "markdown",
   "metadata": {},
   "source": [
    "* `dev` - to jest nazwa użytkownika w systemie\n",
    "* `dev-Virtualbox` - to jest nazwa komputera (hostname)\n",
    "* `~` - to jest aktualna ścieżka (katalog, w którym się znajdujemy)\n",
    "* `$` - to jest znak zachęty, po którym wprowadza się komendy."
   ]
  },
  {
   "cell_type": "markdown",
   "metadata": {},
   "source": [
    "Komendy akceptujemy klawiszem [ENTER].\n",
    "\n",
    "> ##### Kim jestem?\n",
    "\n",
    "Jeśli masz więcej niż jedno konto, może być konieczne sprawdzenie, którego konta używasz."
   ]
  },
  {
   "cell_type": "code",
   "execution_count": 1,
   "metadata": {},
   "outputs": [
    {
     "name": "stdout",
     "output_type": "stream",
     "text": [
      "miklesz\n"
     ]
    }
   ],
   "source": [
    "whoami"
   ]
  },
  {
   "cell_type": "markdown",
   "metadata": {},
   "source": [
    "`whoami` poinformuje Cię, pod jaką tożsamością pracujesz."
   ]
  },
  {
   "cell_type": "code",
   "execution_count": 2,
   "metadata": {
    "scrolled": true
   },
   "outputs": [
    {
     "name": "stdout",
     "output_type": "stream",
     "text": [
      "miklesz\n"
     ]
    }
   ],
   "source": [
    "logname"
   ]
  },
  {
   "cell_type": "markdown",
   "metadata": {},
   "source": [
    "`logname` pozwala wiedzieć, jakiego konta użyłeś/użyłaś, kiedy po raz pierwszy wszedłeś/weszłaś do systemu (login).\n",
    "\n",
    "> ##### Zakończenie sesji\n",
    "\n",
    "Wystarczy zamknąć powłokę, czyli program, który wyświetla monit"
   ]
  },
  {
   "cell_type": "code",
   "execution_count": 4,
   "metadata": {},
   "outputs": [
    {
     "name": "stdout",
     "output_type": "stream",
     "text": [
      "exit\n",
      "Saving session...\n",
      "...saving history...truncating history files...\n",
      "...completed.\n",
      "Restarting Bash"
     ]
    }
   ],
   "source": [
    "exit"
   ]
  },
  {
   "cell_type": "markdown",
   "metadata": {},
   "source": [
    "`exit` zamyka ostatnią powłokę i wylogowuje użytkownika z systemu.\n",
    "\n",
    "> ##### Wyłączanie"
   ]
  },
  {
   "cell_type": "code",
   "execution_count": 5,
   "metadata": {},
   "outputs": [
    {
     "name": "stdout",
     "output_type": "stream",
     "text": [
      "shutdown: NOT super-user\n"
     ]
    },
    {
     "ename": "",
     "evalue": "1",
     "output_type": "error",
     "traceback": []
    }
   ],
   "source": [
    "shutdown"
   ]
  },
  {
   "cell_type": "markdown",
   "metadata": {},
   "source": [
    "Możesz użyć `su`, aby zostać superużytkownikiem i zamknąć system.\n",
    "\n",
    "```sh\n",
    "su\n",
    "shutdown\n",
    "```"
   ]
  },
  {
   "cell_type": "markdown",
   "metadata": {},
   "source": [
    "### Klawiszologia\n",
    "\n",
    "Podstawowe skróty klawiaturowe służą do przechodzenia kursorem pomiędzy literami wiersza poleceń:\n",
    "\n",
    "* strzałki w lewo i w prawo: przeniesienie kursora w lewo lub w prawo w obszarze obecnie wprowadzanej komendy\n",
    "* strzałki w górę i w dół: przywołanie poprzedniej lub następnej (chronologicznie) wprowadzanej komendy\n",
    "* [TAB]: uzupełnianie nazwy komendy, katalogu lub pliku.\n",
    "\n",
    "Kopiowanie i wklejanie w konsoli:\n",
    "\n",
    "* [SHIFT] + [CTRL] + [C] lub [⌘] + [C]: kopiuj zaznaczony tekst\n",
    "* [SHIFT] + [CTRL] + [V] lub [⌘] + [V]: wklej tekst\n",
    "\n",
    "Ponadto do przydatnych skrótów należą:\n",
    "\n",
    "* [CTRL] + [L]: czyść ekran\n",
    "* [CTRL] + [D]: przerwij wprowadzanie treści (sygnał koniec pliku, EOF)\n",
    "* [CTRL] + [C]: przerwij skrypt (sygnał wyłączenia)\n",
    "\n",
    "Czasami może się zdarzyć, że niechcący naciśniesz [CTRL]+[S], które blokuje konsolę. Wpisywane znaki nie pojawią się wtedy na ekranie konsoli. Naciśnij [CTRL]+[Q], aby odblokować terminal.\n",
    "\n",
    "> ##### Inne przydatne skróty\n",
    "> Naciśnięcie [CTRL]+[Z] sprawi, że program \"zminimalizuje się\". Mamy wtedy dostęp z powrotem do konsoli. Żeby wrócić do programu, należy wpisać komendę `fg`.\\\n",
    "> Innym przydatnym skrótem jest [CTRL]+[R], który włącza przeszukiwanie historii komend wstecz.\n",
    "\n",
    "### System plików\n",
    "\n",
    "System plików jest zorganizowany w katalogach i podkatalogach.\n",
    "\n",
    "W Uniksie, przykładowo katalog \"Pobrane\" w systemie plików wygląda następująco:\n",
    "\n",
    "```sh\n",
    "/home/dev/Downloads\n",
    "```\n",
    "\n",
    "lub\n",
    "\n",
    "```sh\n",
    "/Users/dev/Downloads\n",
    "```\n",
    "\n",
    "Analogiczna ścieżka w Windows system plików wygląda następująco:\n",
    "\n",
    "```sh\n",
    "C:\\Users\\Dev\\Downloads\n",
    "```\n",
    "\n",
    "Różnice:\n",
    "\n",
    "* w Uniksie nie podajemy litery dysku (`C:\\`),\n",
    "* Windows obsługuje backslashe (`\\`) do oddzielania części ścieżki, natomiast Unix obsługuje slashe (`/`),\n",
    "* dla Unixa katalog `Downloads` oraz `DOWNLOADS` to mogą (domyślnie w Linuksie), ale nie muszą (domyślnie w macOS) być dwa różne katalogi, natomiast ścieżki w Windowsie zawsze zapisywane są bez rozróżnienia wielkości liter.\n",
    "\n",
    "### Katalogi - podstawowe komendy\n",
    "\n",
    "Wpisz komendę `pwd` i sprawdź, jaki uzyskałeś/uzyskałaś efekt."
   ]
  },
  {
   "cell_type": "code",
   "execution_count": 6,
   "metadata": {},
   "outputs": [
    {
     "name": "stdout",
     "output_type": "stream",
     "text": [
      "/Users/miklesz/Documents/CodeBrainers/Unix_Shell_Git\n"
     ]
    }
   ],
   "source": [
    "pwd"
   ]
  },
  {
   "cell_type": "markdown",
   "metadata": {},
   "source": [
    "> ##### Komenda `pwd`\n",
    "> Ta komenda służy do wyświetlenia obecnej ścieżki, w której pracujemy.\n",
    "\n",
    "Do zmiany katalogu używamy `cd nazwa_katalogu`, np. `cd Desktop`.\n",
    "\n",
    "> ##### Zadanie\n",
    "Przejdź do innego katalogu (`cd`) i sprawdź, jaka jest pełna ścieżka do tego katalogu (`pwd`).\n",
    "\n",
    "Inne komendy:\n",
    "\n",
    "* `mkdir nazwa_katalogu` - utwórz katalog o nazwie `nazwa_katalogu`,\n",
    "* `rmdir nazwa_katalogu` - usuń katalog o nazwie `nazwa_katalogu`.\n",
    "\n",
    "> ##### Uwaga\n",
    "> `rmdir` pozwoli usunąć jedynie pusty katalog, tj. taki, w którym nie ma żadnych podkatalogów ani żadnych plików, w tym ukrytych.\n",
    "\n",
    "> ##### Tworzenie katalogu"
   ]
  },
  {
   "cell_type": "code",
   "execution_count": 7,
   "metadata": {},
   "outputs": [
    {
     "name": "stdout",
     "output_type": "stream",
     "text": [
      "/Users/miklesz/Documents/CodeBrainers/Unix_Shell_Git\n"
     ]
    }
   ],
   "source": [
    "pwd"
   ]
  },
  {
   "cell_type": "code",
   "execution_count": 9,
   "metadata": {},
   "outputs": [
    {
     "name": "stdout",
     "output_type": "stream",
     "text": [
      "bash: cd: mydir: No such file or directory\n"
     ]
    },
    {
     "ename": "",
     "evalue": "1",
     "output_type": "error",
     "traceback": []
    }
   ],
   "source": [
    "cd mydir"
   ]
  },
  {
   "cell_type": "code",
   "execution_count": 10,
   "metadata": {},
   "outputs": [],
   "source": [
    "mkdir mydir"
   ]
  },
  {
   "cell_type": "code",
   "execution_count": 11,
   "metadata": {},
   "outputs": [],
   "source": [
    "cd mydir"
   ]
  },
  {
   "cell_type": "code",
   "execution_count": 13,
   "metadata": {},
   "outputs": [
    {
     "name": "stdout",
     "output_type": "stream",
     "text": [
      "/Users/miklesz/Documents/CodeBrainers/Unix_Shell_Git/mydir\n"
     ]
    }
   ],
   "source": [
    "pwd"
   ]
  },
  {
   "cell_type": "code",
   "execution_count": 14,
   "metadata": {},
   "outputs": [],
   "source": [
    "cd .."
   ]
  },
  {
   "cell_type": "code",
   "execution_count": 16,
   "metadata": {},
   "outputs": [
    {
     "name": "stdout",
     "output_type": "stream",
     "text": [
      "/Users/miklesz/Documents/CodeBrainers/Unix_Shell_Git\n"
     ]
    }
   ],
   "source": [
    "pwd"
   ]
  },
  {
   "cell_type": "markdown",
   "metadata": {},
   "source": [
    "> ##### Usunięcie katalogu\n",
    "\n",
    "Możesz usunąć pusty katalog za pomocą `rmdir`."
   ]
  },
  {
   "cell_type": "code",
   "execution_count": 17,
   "metadata": {},
   "outputs": [],
   "source": [
    "rmdir mydir"
   ]
  },
  {
   "cell_type": "code",
   "execution_count": 18,
   "metadata": {},
   "outputs": [
    {
     "name": "stdout",
     "output_type": "stream",
     "text": [
      "bash: cd: mydir: No such file or directory\n"
     ]
    },
    {
     "ename": "",
     "evalue": "1",
     "output_type": "error",
     "traceback": []
    }
   ],
   "source": [
    "cd mydir"
   ]
  },
  {
   "cell_type": "markdown",
   "metadata": {},
   "source": [
    "### Ścieżki - względne i bezwzględne\n",
    "\n",
    "Ścieżka bezwzględna zaczyna się od katalogu głównego, podczas gdy ścieżka względna zaczyna się od katalogu bieżącego."
   ]
  },
  {
   "cell_type": "code",
   "execution_count": 19,
   "metadata": {},
   "outputs": [
    {
     "name": "stdout",
     "output_type": "stream",
     "text": [
      "/Users/miklesz/Documents/CodeBrainers/Unix_Shell_Git\n"
     ]
    }
   ],
   "source": [
    "pwd"
   ]
  },
  {
   "cell_type": "code",
   "execution_count": 20,
   "metadata": {},
   "outputs": [],
   "source": [
    "cd /usr/local"
   ]
  },
  {
   "cell_type": "markdown",
   "metadata": {},
   "source": [
    "Jest to ścieżka absolutna (bezwzględna), ponieważ zaczyna się od `/`."
   ]
  },
  {
   "cell_type": "code",
   "execution_count": 21,
   "metadata": {},
   "outputs": [
    {
     "name": "stdout",
     "output_type": "stream",
     "text": [
      "/usr/local\n"
     ]
    }
   ],
   "source": [
    "pwd"
   ]
  },
  {
   "cell_type": "code",
   "execution_count": 22,
   "metadata": {},
   "outputs": [],
   "source": [
    "cd bin"
   ]
  },
  {
   "cell_type": "markdown",
   "metadata": {},
   "source": [
    "To jest ścieżka względna: zaczyna się od katalogu lokalnego (`local`) i przenosi się w \"dół\" do `bin`."
   ]
  },
  {
   "cell_type": "code",
   "execution_count": 23,
   "metadata": {},
   "outputs": [
    {
     "name": "stdout",
     "output_type": "stream",
     "text": [
      "/usr/local/bin\n"
     ]
    }
   ],
   "source": [
    "pwd"
   ]
  },
  {
   "cell_type": "markdown",
   "metadata": {},
   "source": [
    "> ##### Zastrzeżone znaki i słowa\n",
    "\n",
    "Systemy plików nie zawsze zapewniały ten sam zestaw znaków do tworzenia nazwy pliku. Zanim [Unikod](https://pl.wikipedia.org/wiki/Unikod) stał się de facto standardem, systemy plików najczęściej używały zestawu znaków zależnego od ustawień regionalnych. Z kolei w niektórych nowych systemach nazwa pliku może składać się z prawie dowolnego znaku z repertuaru Unicode, a nawet z sekwencji bajtów innych niż Unicode. Ograniczenia mogą wynikać z systemu plików, systemu operacyjnego, aplikacji lub wymagań dotyczących współdziałania z innymi systemami.\n",
    "\n",
    "Wiele narzędzi systemu plików uniemożliwia wyświetlanie [kodów sterujących](https://pl.wikipedia.org/wiki/Kod_steruj%C4%85cy) w nazwach plików. W systemach plików typu Unix [Null (znak)](https://pl.wikipedia.org/wiki/Null_(znak)) i separator ścieżki `/` są zabronione.\n",
    "\n",
    "Uwaga: Chociaż są one dozwolone w nazwach plików i folderów systemu Unix, większość [powłok systemu Unix](https://en.wikipedia.org/wiki/Unix_shell) wymaga określonych znaków, takich jak spacje (` `), `<`,`>`, `|`, `\\`, a czasami `:`, (`,`), `&`, `;`, `#`, a także symboli wieloznacznych, takich jak tak jak `?` i `*`, w cytacie lub po znaku ucieczki ([znaku modyfikacji](https://pl.wikipedia.org/wiki/Znak_modyfikacji), znaku zmiany znaczenia, `\\`):\n",
    "\n",
    "* `pięć\\ i\\ sześć\\<siedem` (przykład zmiany znaczenia)\n",
    "* `'pięć i sześć<siedem'` lub `\"pięć i sześć<siedem\"` (przykłady cytowania)"
   ]
  },
  {
   "cell_type": "markdown",
   "metadata": {},
   "source": [
    "Spacja (` `) jest dozwolona, ale spacja jest również używana jako separator parametrów w aplikacjach wiersza polecenia:"
   ]
  },
  {
   "cell_type": "code",
   "execution_count": 24,
   "metadata": {},
   "outputs": [],
   "source": [
    "cd /Users/miklesz/Documents/CodeBrainers/Unix_Shell_Git"
   ]
  },
  {
   "cell_type": "code",
   "execution_count": 25,
   "metadata": {},
   "outputs": [
    {
     "name": "stdout",
     "output_type": "stream",
     "text": [
      "/Users/miklesz/Documents/CodeBrainers/Unix_Shell_Git\n"
     ]
    }
   ],
   "source": [
    "pwd"
   ]
  },
  {
   "cell_type": "markdown",
   "metadata": {},
   "source": [
    "Przed zajęciami przygotowałem folder o nazwie `Untitled folder`. Spróbujmy do niego wejść."
   ]
  },
  {
   "cell_type": "code",
   "execution_count": 27,
   "metadata": {},
   "outputs": [
    {
     "name": "stdout",
     "output_type": "stream",
     "text": [
      "bash: cd: Untitled: No such file or directory\n"
     ]
    },
    {
     "ename": "",
     "evalue": "1",
     "output_type": "error",
     "traceback": []
    }
   ],
   "source": [
    "cd Untitled folder"
   ]
  },
  {
   "cell_type": "code",
   "execution_count": 28,
   "metadata": {},
   "outputs": [
    {
     "name": "stdout",
     "output_type": "stream",
     "text": [
      "/Users/miklesz/Documents/CodeBrainers/Unix_Shell_Git\n"
     ]
    }
   ],
   "source": [
    "pwd"
   ]
  },
  {
   "cell_type": "markdown",
   "metadata": {},
   "source": [
    "Można to rozwiązać za pomocą zmiany znaczenia (znaku ucieczki, `\\`):"
   ]
  },
  {
   "cell_type": "code",
   "execution_count": 29,
   "metadata": {},
   "outputs": [],
   "source": [
    "cd /Users/miklesz/Documents/CodeBrainers/Unix_Shell_Git"
   ]
  },
  {
   "cell_type": "code",
   "execution_count": 30,
   "metadata": {},
   "outputs": [
    {
     "name": "stdout",
     "output_type": "stream",
     "text": [
      "/Users/miklesz/Documents/CodeBrainers/Unix_Shell_Git\n"
     ]
    }
   ],
   "source": [
    "pwd"
   ]
  },
  {
   "cell_type": "code",
   "execution_count": 31,
   "metadata": {},
   "outputs": [],
   "source": [
    "cd Untitled\\ folder"
   ]
  },
  {
   "cell_type": "code",
   "execution_count": 33,
   "metadata": {},
   "outputs": [
    {
     "name": "stdout",
     "output_type": "stream",
     "text": [
      "/Users/miklesz/Documents/CodeBrainers/Unix_Shell_Git/Untitled folder\n"
     ]
    }
   ],
   "source": [
    "pwd"
   ]
  },
  {
   "cell_type": "markdown",
   "metadata": {},
   "source": [
    "Może to być także rozwiązane przez cytowanie `''` całej ścieżki."
   ]
  },
  {
   "cell_type": "code",
   "execution_count": 34,
   "metadata": {},
   "outputs": [],
   "source": [
    "cd /Users/miklesz/Documents/CodeBrainers/Unix_Shell_Git"
   ]
  },
  {
   "cell_type": "code",
   "execution_count": 35,
   "metadata": {},
   "outputs": [
    {
     "name": "stdout",
     "output_type": "stream",
     "text": [
      "/Users/miklesz/Documents/CodeBrainers/Unix_Shell_Git\n"
     ]
    }
   ],
   "source": [
    "pwd"
   ]
  },
  {
   "cell_type": "code",
   "execution_count": 43,
   "metadata": {},
   "outputs": [
    {
     "name": "stdout",
     "output_type": "stream",
     "text": [
      "bash: cd: Untitled folder: No such file or directory\n"
     ]
    },
    {
     "ename": "",
     "evalue": "1",
     "output_type": "error",
     "traceback": []
    }
   ],
   "source": [
    "cd 'Untitled folder'"
   ]
  },
  {
   "cell_type": "code",
   "execution_count": 37,
   "metadata": {},
   "outputs": [
    {
     "name": "stdout",
     "output_type": "stream",
     "text": [
      "/Users/miklesz/Documents/CodeBrainers/Unix_Shell_Git/Untitled folder\n"
     ]
    }
   ],
   "source": [
    "pwd"
   ]
  },
  {
   "cell_type": "markdown",
   "metadata": {},
   "source": [
    "Może to być także rozwiązane przez cytowanie `\"\"` całej ścieżki."
   ]
  },
  {
   "cell_type": "code",
   "execution_count": 44,
   "metadata": {},
   "outputs": [],
   "source": [
    "cd /Users/miklesz/Documents/CodeBrainers/Unix_Shell_Git"
   ]
  },
  {
   "cell_type": "code",
   "execution_count": 45,
   "metadata": {},
   "outputs": [
    {
     "name": "stdout",
     "output_type": "stream",
     "text": [
      "/Users/miklesz/Documents/CodeBrainers/Unix_Shell_Git\n"
     ]
    }
   ],
   "source": [
    "pwd"
   ]
  },
  {
   "cell_type": "code",
   "execution_count": 46,
   "metadata": {},
   "outputs": [],
   "source": [
    "cd \"Untitled folder\""
   ]
  },
  {
   "cell_type": "code",
   "execution_count": 47,
   "metadata": {},
   "outputs": [
    {
     "name": "stdout",
     "output_type": "stream",
     "text": [
      "/Users/miklesz/Documents/CodeBrainers/Unix_Shell_Git/Untitled folder\n"
     ]
    }
   ],
   "source": [
    "pwd"
   ]
  },
  {
   "cell_type": "markdown",
   "metadata": {},
   "source": [
    "Ścieżki bezwzględne pokazują \"drogę\" od katalogu głównego w Uniksie (`/`) do wskazanego katalogu. \n",
    "\n",
    "> ##### Katalog domowy\n",
    "\n",
    "Każdy użytkownik ma swój katalog, nazywany domowym; zachowuje on wszystkie dane użytkownika.\n",
    "\n",
    "Przykładowo na maszynie wirtualnej CodeBrainers (Linux) katalog domowy użytkownika `dev` to `/home/dev/`, a na mojej maszynie (macOS) katalog domowy uzytkownika `miklesz` to `/Users/miklesz`.\n",
    "\n",
    "Popularnym oznaczeniem na katalog domowy jest tylda `~`. Niektóre powłoki zastępują tyldę na początku ścieżki ścieżką do katalogu domowego użytkownika roboczego.\n",
    "\n",
    "Wpisując tylko `cd`, użytkownik może dotrzeć do swojego katalogu domowego."
   ]
  },
  {
   "cell_type": "code",
   "execution_count": 48,
   "metadata": {},
   "outputs": [
    {
     "name": "stdout",
     "output_type": "stream",
     "text": [
      "/Users/miklesz/Documents/CodeBrainers/Unix_Shell_Git/Untitled folder\n"
     ]
    }
   ],
   "source": [
    "pwd"
   ]
  },
  {
   "cell_type": "code",
   "execution_count": 49,
   "metadata": {},
   "outputs": [],
   "source": [
    "cd"
   ]
  },
  {
   "cell_type": "code",
   "execution_count": 50,
   "metadata": {},
   "outputs": [
    {
     "name": "stdout",
     "output_type": "stream",
     "text": [
      "/Users/miklesz\n"
     ]
    }
   ],
   "source": [
    "pwd"
   ]
  },
  {
   "cell_type": "code",
   "execution_count": 51,
   "metadata": {},
   "outputs": [],
   "source": [
    "cd /Users/miklesz/Documents/CodeBrainers/Unix_Shell_Git"
   ]
  },
  {
   "cell_type": "code",
   "execution_count": 52,
   "metadata": {},
   "outputs": [
    {
     "name": "stdout",
     "output_type": "stream",
     "text": [
      "/Users/miklesz/Documents/CodeBrainers/Unix_Shell_Git\n"
     ]
    }
   ],
   "source": [
    "pwd"
   ]
  },
  {
   "cell_type": "markdown",
   "metadata": {},
   "source": [
    "W ten sam sposób, jeśli tylda zostanie ustawiona przed kontem użytkownika, zostanie zastąpiona ścieżką do katalogu domowego użytkownika."
   ]
  },
  {
   "cell_type": "code",
   "execution_count": 53,
   "metadata": {},
   "outputs": [
    {
     "name": "stdout",
     "output_type": "stream",
     "text": [
      "/Users/miklesz/Documents/CodeBrainers/Unix_Shell_Git\n"
     ]
    }
   ],
   "source": [
    "pwd"
   ]
  },
  {
   "cell_type": "code",
   "execution_count": 54,
   "metadata": {},
   "outputs": [],
   "source": [
    "cd ~miklesz"
   ]
  },
  {
   "cell_type": "code",
   "execution_count": 55,
   "metadata": {},
   "outputs": [
    {
     "name": "stdout",
     "output_type": "stream",
     "text": [
      "/Users/miklesz\n"
     ]
    }
   ],
   "source": [
    "pwd"
   ]
  },
  {
   "cell_type": "markdown",
   "metadata": {},
   "source": [
    "Wracamy do katalogu startowego."
   ]
  },
  {
   "cell_type": "code",
   "execution_count": 62,
   "metadata": {},
   "outputs": [],
   "source": [
    "cd /Users/miklesz/Documents/CodeBrainers/Unix_Shell_Git"
   ]
  },
  {
   "cell_type": "code",
   "execution_count": 63,
   "metadata": {},
   "outputs": [
    {
     "name": "stdout",
     "output_type": "stream",
     "text": [
      "/Users/miklesz/Documents/CodeBrainers/Unix_Shell_Git\n"
     ]
    }
   ],
   "source": [
    "pwd"
   ]
  },
  {
   "cell_type": "markdown",
   "metadata": {},
   "source": [
    "> ##### Cofanie się\n",
    "\n",
    "Linux obsługuje też wskazywanie ścieżek względnie, np. względem obecnego katalogu. Każdy katalog zawiera dwa odniesienia do specjalnego podkatalogu. Stosowane są tutaj następujące oznaczenia:\n",
    "\n",
    "* pojedynczy `.` - który jest obecnym katalogiem (odniesieniem do bieżącego katalogu),\n",
    "* podwójny `..` - który jest katalogiem wyżejej (rodzicem, odniesieniem do poprzedniego katalogu).\n",
    "\n",
    "Te symbole są efektywnymi nazwami katalogów.\n",
    "\n",
    "Przykładowo, jeśli chcemy podać ścieżkę do katalogu `/home/`, możemy wpisać `~/..`, bo `~` to `/home/dev/`, a `..` wskazują na katalog wyżej.\n",
    "\n",
    "Inny przykład: obecna ścieżka (`pwd`) to `/home/dev/Desktop`. Żeby przejść do `/home/`, należy podać `cd ../..`.\n",
    "\n",
    "Kolejny przykład: obecna ścieżka (`pwd`) to `/home/dev/Desktop`. Żeby przejść do `/home/dev/Downloads`, należy podać `cd ../Downloads`."
   ]
  },
  {
   "cell_type": "code",
   "execution_count": 64,
   "metadata": {},
   "outputs": [],
   "source": [
    "cd .."
   ]
  },
  {
   "cell_type": "code",
   "execution_count": 65,
   "metadata": {},
   "outputs": [
    {
     "name": "stdout",
     "output_type": "stream",
     "text": [
      "/Users/miklesz/Documents/CodeBrainers\n"
     ]
    }
   ],
   "source": [
    "pwd"
   ]
  },
  {
   "cell_type": "code",
   "execution_count": 66,
   "metadata": {},
   "outputs": [],
   "source": [
    "cd Unix_Shell_Git"
   ]
  },
  {
   "cell_type": "code",
   "execution_count": 67,
   "metadata": {},
   "outputs": [
    {
     "name": "stdout",
     "output_type": "stream",
     "text": [
      "/Users/miklesz/Documents/CodeBrainers/Unix_Shell_Git\n"
     ]
    }
   ],
   "source": [
    "pwd"
   ]
  },
  {
   "cell_type": "markdown",
   "metadata": {},
   "source": [
    "Możesz cofnąć się o więcej niż jeden poziom."
   ]
  },
  {
   "cell_type": "code",
   "execution_count": 68,
   "metadata": {},
   "outputs": [],
   "source": [
    "cd ../../../../../var"
   ]
  },
  {
   "cell_type": "code",
   "execution_count": 69,
   "metadata": {},
   "outputs": [
    {
     "name": "stdout",
     "output_type": "stream",
     "text": [
      "/var\n"
     ]
    }
   ],
   "source": [
    "pwd"
   ]
  },
  {
   "cell_type": "code",
   "execution_count": 70,
   "metadata": {},
   "outputs": [],
   "source": [
    "cd /usr/bin/../local/bin/.."
   ]
  },
  {
   "cell_type": "code",
   "execution_count": 71,
   "metadata": {},
   "outputs": [
    {
     "name": "stdout",
     "output_type": "stream",
     "text": [
      "/usr/local\n"
     ]
    }
   ],
   "source": [
    "pwd"
   ]
  },
  {
   "cell_type": "code",
   "execution_count": 72,
   "metadata": {},
   "outputs": [],
   "source": [
    "cd \"../../Users/miklesz/Documents/CodeBrainers/Unix_Shell_Git\""
   ]
  },
  {
   "cell_type": "code",
   "execution_count": 73,
   "metadata": {},
   "outputs": [
    {
     "name": "stdout",
     "output_type": "stream",
     "text": [
      "/Users/miklesz/Documents/CodeBrainers/Unix_Shell_Git\n"
     ]
    }
   ],
   "source": [
    "pwd"
   ]
  },
  {
   "cell_type": "markdown",
   "metadata": {},
   "source": [
    "### Wyświetlanie zawartości katalogów\n",
    "\n",
    "Do wyświetlania zawartości katalogów służy komenda `ls`. Można podać jej ścieżkę do katalogu, ale w domyślnym wariancie komenda `ls` wyświetli zawartość obecnego katalogu:"
   ]
  },
  {
   "cell_type": "code",
   "execution_count": 75,
   "metadata": {},
   "outputs": [
    {
     "name": "stdout",
     "output_type": "stream",
     "text": [
      "Git - GitHub Desktop.ipynb\n",
      "Git - konspekt, Git.ipynb\n",
      "Unix Shell - konspekt, Unix, zmienne środowiskowe.ipynb\n",
      "Unix Shell - skrypty powłoki.ipynb\n",
      "Untitled folder\n",
      "a\n",
      "first.sh\n",
      "first2.sh\n",
      "for.sh\n",
      "for2.sh\n",
      "index.html\n",
      "myfile\n",
      "myvar2.sh\n",
      "nowyplik.txt\n",
      "pierwszy.txt\n",
      "plik.txt\n",
      "user.sh\n",
      "var.sh\n",
      "var2.sh\n",
      "while.sh\n",
      "while2.sh\n",
      "while3a.sh\n",
      "while3b.sh\n"
     ]
    }
   ],
   "source": [
    "ls"
   ]
  },
  {
   "cell_type": "markdown",
   "metadata": {},
   "source": [
    "Możliwe jest użycie **przełączników**, które sprawią, że komenda `ls` trochę inaczej wyświetli swój wynik.\n",
    "\n",
    "**Przełączniki** zaczynają się od znaku `-` (czasem `--`), podawane są po nazwie komendy, a czasem muszą być podane w określonej kolejności.\n",
    "\n",
    "Przykładowo jednym z najpopularniejszych przełączników dla `ls` jest `-l` (*long format*), który wyświetla wynik w długim formacie:"
   ]
  },
  {
   "cell_type": "code",
   "execution_count": 78,
   "metadata": {},
   "outputs": [
    {
     "name": "stdout",
     "output_type": "stream",
     "text": [
      "total 728\n",
      "-rw-r--r--@ 1 miklesz  staff   29216  9 paź 22:35 Git - GitHub Desktop.ipynb\n",
      "-rw-r--r--@ 1 miklesz  staff   37968 26 lis 13:40 Git - konspekt, Git.ipynb\n",
      "-rw-r--r--@ 1 miklesz  staff  168483 26 lis 20:10 Unix Shell - konspekt, Unix, zmienne środowiskowe.ipynb\n",
      "-rw-r--r--@ 1 miklesz  staff   50101  6 paź 19:39 Unix Shell - skrypty powłoki.ipynb\n",
      "drwxr-xr-x@ 2 miklesz  staff      64 26 lis 01:15 Untitled folder\n",
      "-rw-r--r--@ 1 miklesz  staff       0  7 paź 19:24 a\n",
      "-rwxr-xr-x@ 1 miklesz  staff      74 28 wrz 02:18 first.sh\n",
      "-rw-r--r--@ 1 miklesz  staff     275  1 paź 02:17 first2.sh\n",
      "-rw-r--r--@ 1 miklesz  staff      66  1 paź 17:41 for.sh\n",
      "-rw-r--r--@ 1 miklesz  staff     104  1 paź 17:43 for2.sh\n",
      "-rw-r--r--@ 1 miklesz  staff    8252  7 paź 12:10 index.html\n",
      "-rw-r--r--@ 1 miklesz  staff      48  5 paź 20:06 myfile\n",
      "-rwxr-xr-x@ 1 miklesz  staff      74  1 paź 02:59 myvar2.sh\n",
      "-rw-r--r--@ 1 miklesz  staff      32 26 lis 01:03 nowyplik.txt\n",
      "-rw-r--r--@ 1 miklesz  staff      34 27 wrz 19:18 pierwszy.txt\n",
      "-rwxr-xr-x@ 1 miklesz  staff       0 27 wrz 01:18 plik.txt\n",
      "-rw-r--r--@ 1 miklesz  staff     149  1 paź 16:34 user.sh\n",
      "-rw-r--r--@ 1 miklesz  staff      52  1 paź 02:32 var.sh\n",
      "-rw-r--r--@ 1 miklesz  staff     112  1 paź 02:43 var2.sh\n",
      "-rw-r--r--@ 1 miklesz  staff     175  1 paź 17:53 while.sh\n",
      "-rw-r--r--@ 1 miklesz  staff     120  5 paź 02:43 while2.sh\n",
      "-rwxr-xr-x@ 1 miklesz  staff     352  5 paź 02:51 while3a.sh\n",
      "-rwxr-xr-x@ 1 miklesz  staff     356  5 paź 20:13 while3b.sh\n"
     ]
    }
   ],
   "source": [
    "ls -l"
   ]
  },
  {
   "cell_type": "markdown",
   "metadata": {},
   "source": [
    "Długi format zawiera więcej infomacji, m.in. o dacie modyfikacji pliku lub katalogu oraz o jego rozmiarze.\n",
    "\n",
    "Inny popularny przełącznik to `-h`, który pozwala wyświetlić rozmiar plików w formacie zrozumiałym dla człowieka (*human readable*):"
   ]
  },
  {
   "cell_type": "code",
   "execution_count": 79,
   "metadata": {},
   "outputs": [
    {
     "name": "stdout",
     "output_type": "stream",
     "text": [
      "total 728\n",
      "-rw-r--r--@ 1 miklesz  staff   29216  9 paź 22:35 Git - GitHub Desktop.ipynb\n",
      "-rw-r--r--@ 1 miklesz  staff   37968 26 lis 13:40 Git - konspekt, Git.ipynb\n",
      "-rw-r--r--@ 1 miklesz  staff  168483 26 lis 20:10 Unix Shell - konspekt, Unix, zmienne środowiskowe.ipynb\n",
      "-rw-r--r--@ 1 miklesz  staff   50101  6 paź 19:39 Unix Shell - skrypty powłoki.ipynb\n",
      "drwxr-xr-x@ 2 miklesz  staff      64 26 lis 01:15 Untitled folder\n",
      "-rw-r--r--@ 1 miklesz  staff       0  7 paź 19:24 a\n",
      "-rwxr-xr-x@ 1 miklesz  staff      74 28 wrz 02:18 first.sh\n",
      "-rw-r--r--@ 1 miklesz  staff     275  1 paź 02:17 first2.sh\n",
      "-rw-r--r--@ 1 miklesz  staff      66  1 paź 17:41 for.sh\n",
      "-rw-r--r--@ 1 miklesz  staff     104  1 paź 17:43 for2.sh\n",
      "-rw-r--r--@ 1 miklesz  staff    8252  7 paź 12:10 index.html\n",
      "-rw-r--r--@ 1 miklesz  staff      48  5 paź 20:06 myfile\n",
      "-rwxr-xr-x@ 1 miklesz  staff      74  1 paź 02:59 myvar2.sh\n",
      "-rw-r--r--@ 1 miklesz  staff      32 26 lis 01:03 nowyplik.txt\n",
      "-rw-r--r--@ 1 miklesz  staff      34 27 wrz 19:18 pierwszy.txt\n",
      "-rwxr-xr-x@ 1 miklesz  staff       0 27 wrz 01:18 plik.txt\n",
      "-rw-r--r--@ 1 miklesz  staff     149  1 paź 16:34 user.sh\n",
      "-rw-r--r--@ 1 miklesz  staff      52  1 paź 02:32 var.sh\n",
      "-rw-r--r--@ 1 miklesz  staff     112  1 paź 02:43 var2.sh\n",
      "-rw-r--r--@ 1 miklesz  staff     175  1 paź 17:53 while.sh\n",
      "-rw-r--r--@ 1 miklesz  staff     120  5 paź 02:43 while2.sh\n",
      "-rwxr-xr-x@ 1 miklesz  staff     352  5 paź 02:51 while3a.sh\n",
      "-rwxr-xr-x@ 1 miklesz  staff     356  5 paź 20:13 while3b.sh\n"
     ]
    }
   ],
   "source": [
    "ls -l"
   ]
  },
  {
   "cell_type": "code",
   "execution_count": 80,
   "metadata": {},
   "outputs": [
    {
     "name": "stdout",
     "output_type": "stream",
     "text": [
      "total 728\n",
      "-rw-r--r--@ 1 miklesz  staff    29K  9 paź 22:35 Git - GitHub Desktop.ipynb\n",
      "-rw-r--r--@ 1 miklesz  staff    37K 26 lis 13:40 Git - konspekt, Git.ipynb\n",
      "-rw-r--r--@ 1 miklesz  staff   165K 26 lis 20:10 Unix Shell - konspekt, Unix, zmienne środowiskowe.ipynb\n",
      "-rw-r--r--@ 1 miklesz  staff    49K  6 paź 19:39 Unix Shell - skrypty powłoki.ipynb\n",
      "drwxr-xr-x@ 2 miklesz  staff    64B 26 lis 01:15 Untitled folder\n",
      "-rw-r--r--@ 1 miklesz  staff     0B  7 paź 19:24 a\n",
      "-rwxr-xr-x@ 1 miklesz  staff    74B 28 wrz 02:18 first.sh\n",
      "-rw-r--r--@ 1 miklesz  staff   275B  1 paź 02:17 first2.sh\n",
      "-rw-r--r--@ 1 miklesz  staff    66B  1 paź 17:41 for.sh\n",
      "-rw-r--r--@ 1 miklesz  staff   104B  1 paź 17:43 for2.sh\n",
      "-rw-r--r--@ 1 miklesz  staff   8,1K  7 paź 12:10 index.html\n",
      "-rw-r--r--@ 1 miklesz  staff    48B  5 paź 20:06 myfile\n",
      "-rwxr-xr-x@ 1 miklesz  staff    74B  1 paź 02:59 myvar2.sh\n",
      "-rw-r--r--@ 1 miklesz  staff    32B 26 lis 01:03 nowyplik.txt\n",
      "-rw-r--r--@ 1 miklesz  staff    34B 27 wrz 19:18 pierwszy.txt\n",
      "-rwxr-xr-x@ 1 miklesz  staff     0B 27 wrz 01:18 plik.txt\n",
      "-rw-r--r--@ 1 miklesz  staff   149B  1 paź 16:34 user.sh\n",
      "-rw-r--r--@ 1 miklesz  staff    52B  1 paź 02:32 var.sh\n",
      "-rw-r--r--@ 1 miklesz  staff   112B  1 paź 02:43 var2.sh\n",
      "-rw-r--r--@ 1 miklesz  staff   175B  1 paź 17:53 while.sh\n",
      "-rw-r--r--@ 1 miklesz  staff   120B  5 paź 02:43 while2.sh\n",
      "-rwxr-xr-x@ 1 miklesz  staff   352B  5 paź 02:51 while3a.sh\n",
      "-rwxr-xr-x@ 1 miklesz  staff   356B  5 paź 20:13 while3b.sh\n"
     ]
    }
   ],
   "source": [
    "ls -l -h"
   ]
  },
  {
   "cell_type": "markdown",
   "metadata": {},
   "source": [
    "Jak widać, zmieniła się 5. kolumna, która dla dłuższych plików nie ma już rozmiaru w bajtach, ale w kilobajtach.\n",
    "\n",
    "> ##### Łączenie przełączników\n",
    "> W przypadku jednoliterowych przełączników możliwe jest łączenie ich ze sobą, np. `ls -lh` to to samo, co `ls -l -h`.\n",
    "\n",
    "> ##### Ukryte pliki\n",
    "> W Uniksie pliki nie mają atrybutu \"Ukryty\", w przeciwieństwie do Windowsa. Tutaj jest tylko jeden sposób, aby taki plik ukryć: rozpocząć jego nazwę od `.`, np. `.ukryty.txt` to będzie ukryty plik tekstowy.\n",
    "\n",
    "Do wyświetlenia ukrytych plików za pomocą komendy ls służy przełącznik `-a`. \n",
    "\n",
    "Przełącznik `-t` posortuje wynik po czasie modyfikacji (najnowsze na początku).\n",
    "\n",
    "> ##### Zadanie\n",
    "> Wyświetl pliki w katalogu `~` w długim formacie, włącznie z ukrytymi, posortowane po czasie modyfikacji. Sprawdź, jaki jest jego rozmiar.\\\n",
    "> Spróbuj sprawdzić różne katalogi w poszukiwaniu największego pliku.\n",
    "\n",
    "### Uprawnienia (prawa) dostępu\n",
    "\n",
    "**Prawa dostępu** - mechanizm w systemach **uniksowych**, mający na celu umożliwić określenie uprawnień odczytu, edycji i uruchamiania dla poszczególnych użytkowników. Ma on na celu zapewnienie bezpieczeństwa, stabilności i kontroli prywatności w systemach **wielodostępnych**.\n",
    "\n",
    "Prawa dostępu przydzielane są dla kategorii:\n",
    "\n",
    "* *user* - użytkownik, właściciel pliku,\n",
    "* *group* - grupa, właściciel pliku,\n",
    "* *other* - pozostali użytkownicy.\n",
    "\n",
    "Dla każdej z tych kategorii możliwe są trzy prawa dostępu, opisane literowo (`rwx`):\n",
    "\n",
    "* *read* - odczyt,\n",
    "* *write* - zapis,\n",
    "* *execute* - wykonywanie.\n",
    "\n",
    "Standardowym symbolicznym sposobem zapisu uprawnień jest:\n",
    "\n",
    "```sh\n",
    "-rwxr-xr--   1 fizyk fizyk 2010 kwi 16 13:09 plik\n",
    "tuuugggooo\n",
    "```\n",
    "\n",
    "* **`t`** - oznacza typ pliku (`-` zwykły, `d` katalog, `l` dowiązanie symboliczne, `s` gniazdo, `f` FIFO, `c` urządzenie znakowe, `b` urządzenie blokowe)\n",
    "* **`u`** - uprawnienia właściciela\n",
    "* **`g`** - uprawnienia grupy\n",
    "* **`o`** - uprawnienia pozostałych\n",
    "\n",
    "Znaczenie praw dostępu dla zwykłych plików jest intuicyjne, natomiast dla katalogów znaczenie jest następujące:\n",
    "\n",
    "* jeżeli użytkownik ma prawo **`x`** do katalogu, to może do niego \"wejść\"\n",
    "* jeżeli użytkownik ma prawo **`r`** do katalogu, to może wyświetlić jego zawartość\n",
    "* jeżeli użytkownik ma prawo **`w`** do katalogu, to może w nim tworzyć i kasować pliki/katalogi\n",
    "\n",
    "Powyższe prawa można interpretować w ten sposób, że jeśli np. użytkownik ma prawa **`-wx`**, to może w tym katalogu tworzyć pliki, poruszać się w obrębie jego struktury, ale nie może wyświetlić jego zawartości.\n",
    "\n",
    "Do zmiany uprawnień do pliku służy polecenie:"
   ]
  },
  {
   "cell_type": "code",
   "execution_count": 81,
   "metadata": {},
   "outputs": [
    {
     "name": "stdout",
     "output_type": "stream",
     "text": [
      "usage:\tchmod [-fhv] [-R [-H | -L | -P]] [-a | +a | =a  [i][# [ n]]] mode|entry file ...\n",
      "\tchmod [-fhv] [-R [-H | -L | -P]] [-E | -C | -N | -i | -I] file ...\n"
     ]
    },
    {
     "ename": "",
     "evalue": "1",
     "output_type": "error",
     "traceback": []
    }
   ],
   "source": [
    "chmod"
   ]
  },
  {
   "cell_type": "markdown",
   "metadata": {},
   "source": [
    "Poleceniem, którym można sprawdzić prawa dostępu do pliku i katalogu jest:"
   ]
  },
  {
   "cell_type": "code",
   "execution_count": 82,
   "metadata": {},
   "outputs": [
    {
     "name": "stdout",
     "output_type": "stream",
     "text": [
      "total 736\n",
      "-rw-r--r--@ 1 miklesz  staff   29216  9 paź 22:35 Git - GitHub Desktop.ipynb\n",
      "-rw-r--r--@ 1 miklesz  staff   37968 26 lis 13:40 Git - konspekt, Git.ipynb\n",
      "-rw-r--r--@ 1 miklesz  staff  172166 26 lis 20:14 Unix Shell - konspekt, Unix, zmienne środowiskowe.ipynb\n",
      "-rw-r--r--@ 1 miklesz  staff   50101  6 paź 19:39 Unix Shell - skrypty powłoki.ipynb\n",
      "drwxr-xr-x@ 2 miklesz  staff      64 26 lis 01:15 Untitled folder\n",
      "-rw-r--r--@ 1 miklesz  staff       0  7 paź 19:24 a\n",
      "-rwxr-xr-x@ 1 miklesz  staff      74 28 wrz 02:18 first.sh\n",
      "-rw-r--r--@ 1 miklesz  staff     275  1 paź 02:17 first2.sh\n",
      "-rw-r--r--@ 1 miklesz  staff      66  1 paź 17:41 for.sh\n",
      "-rw-r--r--@ 1 miklesz  staff     104  1 paź 17:43 for2.sh\n",
      "-rw-r--r--@ 1 miklesz  staff    8252  7 paź 12:10 index.html\n",
      "-rw-r--r--@ 1 miklesz  staff      48  5 paź 20:06 myfile\n",
      "-rwxr-xr-x@ 1 miklesz  staff      74  1 paź 02:59 myvar2.sh\n",
      "-rw-r--r--@ 1 miklesz  staff      32 26 lis 01:03 nowyplik.txt\n",
      "-rw-r--r--@ 1 miklesz  staff      34 27 wrz 19:18 pierwszy.txt\n",
      "-rwxr-xr-x@ 1 miklesz  staff       0 27 wrz 01:18 plik.txt\n",
      "-rw-r--r--@ 1 miklesz  staff     149  1 paź 16:34 user.sh\n",
      "-rw-r--r--@ 1 miklesz  staff      52  1 paź 02:32 var.sh\n",
      "-rw-r--r--@ 1 miklesz  staff     112  1 paź 02:43 var2.sh\n",
      "-rw-r--r--@ 1 miklesz  staff     175  1 paź 17:53 while.sh\n",
      "-rw-r--r--@ 1 miklesz  staff     120  5 paź 02:43 while2.sh\n",
      "-rwxr-xr-x@ 1 miklesz  staff     352  5 paź 02:51 while3a.sh\n",
      "-rwxr-xr-x@ 1 miklesz  staff     356  5 paź 20:13 while3b.sh\n"
     ]
    }
   ],
   "source": [
    "ls -l"
   ]
  },
  {
   "cell_type": "markdown",
   "metadata": {},
   "source": [
    "Opis klas użytkowników `chmod`:\n",
    "\n",
    "* **'u'** – użytkownik (ang. *__u__ser*)\n",
    "* **'g'** – grupa (ang. *__g__roup*)\n",
    "* **'o'** – inni (ang. *__o__thers*)\n",
    "* **'a'** – wszyscy (ang. *__a__ll*)\n",
    "\n",
    "Przykłady użycia `chmod`:"
   ]
  },
  {
   "cell_type": "code",
   "execution_count": 83,
   "metadata": {},
   "outputs": [
    {
     "name": "stdout",
     "output_type": "stream",
     "text": [
      "-rwxr-xr-x@ 1 miklesz  staff  0 27 wrz 01:18 plik.txt\n"
     ]
    }
   ],
   "source": [
    "ls -l plik.txt"
   ]
  },
  {
   "cell_type": "markdown",
   "metadata": {},
   "source": [
    "Nadanie wszystkim uprawnienia do zmiany `plik.txt`:"
   ]
  },
  {
   "cell_type": "code",
   "execution_count": 84,
   "metadata": {},
   "outputs": [],
   "source": [
    "chmod a+w plik.txt"
   ]
  },
  {
   "cell_type": "code",
   "execution_count": 85,
   "metadata": {},
   "outputs": [
    {
     "name": "stdout",
     "output_type": "stream",
     "text": [
      "-rwxrwxrwx@ 1 miklesz  staff  0 27 wrz 01:18 plik.txt\n"
     ]
    }
   ],
   "source": [
    "ls -l plik.txt"
   ]
  },
  {
   "cell_type": "markdown",
   "metadata": {},
   "source": [
    "Usunięcie możliwości wykonywania `plik.txt` przez pozostałych użytkowników:"
   ]
  },
  {
   "cell_type": "code",
   "execution_count": 86,
   "metadata": {},
   "outputs": [],
   "source": [
    "chmod o-x plik.txt"
   ]
  },
  {
   "cell_type": "code",
   "execution_count": 87,
   "metadata": {},
   "outputs": [
    {
     "name": "stdout",
     "output_type": "stream",
     "text": [
      "-rwxrwxrw-@ 1 miklesz  staff  0 27 wrz 01:18 plik.txt\n"
     ]
    }
   ],
   "source": [
    "ls -l plik.txt"
   ]
  },
  {
   "cell_type": "markdown",
   "metadata": {},
   "source": [
    "Usunięcie możliwości odczytywania i wykonywania `plik.txt` przez grupę i pozostałych użytkowników:"
   ]
  },
  {
   "cell_type": "code",
   "execution_count": 88,
   "metadata": {},
   "outputs": [],
   "source": [
    "chmod go-rx plik.txt"
   ]
  },
  {
   "cell_type": "code",
   "execution_count": 89,
   "metadata": {},
   "outputs": [
    {
     "name": "stdout",
     "output_type": "stream",
     "text": [
      "-rwx-w--w-@ 1 miklesz  staff  0 27 wrz 01:18 plik.txt\n"
     ]
    }
   ],
   "source": [
    "ls -l plik.txt"
   ]
  },
  {
   "cell_type": "markdown",
   "metadata": {},
   "source": [
    "Wszyscy będą mogli zmieniać zawartość `plik.txt`, jak też czytać go i wykonywać:"
   ]
  },
  {
   "cell_type": "code",
   "execution_count": 92,
   "metadata": {},
   "outputs": [],
   "source": [
    "chmod a+rwx plik.txt"
   ]
  },
  {
   "cell_type": "code",
   "execution_count": 93,
   "metadata": {},
   "outputs": [
    {
     "name": "stdout",
     "output_type": "stream",
     "text": [
      "-rwxrwxrwx@ 1 miklesz  staff  0 27 wrz 01:18 plik.txt\n"
     ]
    }
   ],
   "source": [
    "ls -l plik.txt"
   ]
  },
  {
   "cell_type": "markdown",
   "metadata": {},
   "source": [
    "Odebranie zapisu grupie i innym:"
   ]
  },
  {
   "cell_type": "code",
   "execution_count": 94,
   "metadata": {},
   "outputs": [],
   "source": [
    "chmod go-w plik.txt"
   ]
  },
  {
   "cell_type": "code",
   "execution_count": 95,
   "metadata": {},
   "outputs": [
    {
     "name": "stdout",
     "output_type": "stream",
     "text": [
      "-rwxr-xr-x@ 1 miklesz  staff  0 27 wrz 01:18 plik.txt\n"
     ]
    }
   ],
   "source": [
    "ls -l plik.txt"
   ]
  },
  {
   "cell_type": "markdown",
   "metadata": {},
   "source": [
    "### Manipulacje plikami\n",
    "\n",
    "> ##### Tworzenie plików\n",
    "\n",
    "Istnieją różne sposoby tworzenia pliku. Najłatwiejszym sposobem utworzenia pustego pliku jest użycie polecenia `touch`, np.:"
   ]
  },
  {
   "cell_type": "code",
   "execution_count": 96,
   "metadata": {},
   "outputs": [],
   "source": [
    "touch nowyplik.txt"
   ]
  },
  {
   "cell_type": "markdown",
   "metadata": {},
   "source": [
    "Zapisać linijkę tekstu do pliku, także nowego, można również przy użyciu polecenia:"
   ]
  },
  {
   "cell_type": "code",
   "execution_count": 98,
   "metadata": {},
   "outputs": [
    {
     "name": "stdout",
     "output_type": "stream",
     "text": [
      "Hello World\n"
     ]
    }
   ],
   "source": [
    "echo \"Hello World\""
   ]
  },
  {
   "cell_type": "code",
   "execution_count": 101,
   "metadata": {},
   "outputs": [],
   "source": [
    "echo \"Tutaj zapisujemy tresc pliku.\" > plik2.txt"
   ]
  },
  {
   "cell_type": "markdown",
   "metadata": {},
   "source": [
    "* `>` - przekieruj dane wyjściowe do pliku, nadpisując plik\n",
    "* `>>` - przekieruj dane wyjściowe do pliku, dołączając na końcu przekierowane dane wyjściowe"
   ]
  },
  {
   "cell_type": "code",
   "execution_count": 103,
   "metadata": {},
   "outputs": [
    {
     "name": "stdout",
     "output_type": "stream",
     "text": [
      "total 752\n",
      "-rw-r--r--@ 1 miklesz  staff   29216  9 paź 22:35 Git - GitHub Desktop.ipynb\n",
      "-rw-r--r--@ 1 miklesz  staff   37968 26 lis 13:40 Git - konspekt, Git.ipynb\n",
      "-rw-r--r--@ 1 miklesz  staff  177471 26 lis 20:34 Unix Shell - konspekt, Unix, zmienne środowiskowe.ipynb\n",
      "-rw-r--r--@ 1 miklesz  staff   50101  6 paź 19:39 Unix Shell - skrypty powłoki.ipynb\n",
      "drwxr-xr-x@ 2 miklesz  staff      64 26 lis 01:15 Untitled folder\n",
      "-rw-r--r--@ 1 miklesz  staff       0  7 paź 19:24 a\n",
      "-rwxr-xr-x@ 1 miklesz  staff      74 28 wrz 02:18 first.sh\n",
      "-rw-r--r--@ 1 miklesz  staff     275  1 paź 02:17 first2.sh\n",
      "-rw-r--r--@ 1 miklesz  staff      66  1 paź 17:41 for.sh\n",
      "-rw-r--r--@ 1 miklesz  staff     104  1 paź 17:43 for2.sh\n",
      "-rw-r--r--@ 1 miklesz  staff    8252  7 paź 12:10 index.html\n",
      "-rw-r--r--@ 1 miklesz  staff      48  5 paź 20:06 myfile\n",
      "-rwxr-xr-x@ 1 miklesz  staff      74  1 paź 02:59 myvar2.sh\n",
      "-rw-r--r--@ 1 miklesz  staff      32 26 lis 20:31 nowyplik.txt\n",
      "-rw-r--r--@ 1 miklesz  staff      34 27 wrz 19:18 pierwszy.txt\n",
      "-rwxr-xr-x@ 1 miklesz  staff       0 27 wrz 01:18 plik.txt\n",
      "-rw-r--r--  1 miklesz  staff      30 26 lis 20:34 plik2.txt\n",
      "-rw-r--r--@ 1 miklesz  staff     149  1 paź 16:34 user.sh\n",
      "-rw-r--r--@ 1 miklesz  staff      52  1 paź 02:32 var.sh\n",
      "-rw-r--r--@ 1 miklesz  staff     112  1 paź 02:43 var2.sh\n",
      "-rw-r--r--@ 1 miklesz  staff     175  1 paź 17:53 while.sh\n",
      "-rw-r--r--@ 1 miklesz  staff     120  5 paź 02:43 while2.sh\n",
      "-rwxr-xr-x@ 1 miklesz  staff     352  5 paź 02:51 while3a.sh\n",
      "-rwxr-xr-x@ 1 miklesz  staff     356  5 paź 20:13 while3b.sh\n"
     ]
    }
   ],
   "source": [
    "ls -l"
   ]
  },
  {
   "cell_type": "markdown",
   "metadata": {},
   "source": [
    "Plik został utworzony.\n",
    "\n",
    "Edytować pliki, w tym tworzyć nowe, możesz przy użyciu edytora `nano`, np. `nano plik2.txt`:\n",
    "\n",
    "![](data:image/png;base64,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)\n",
    "\n",
    "Menu edytora nano wyświetla się na dole; są to skróty klawiaturowe. Przykładowo, aby wyjść i zapisać plik należy wcisnąć `^X`, co tłumaczymy na [CTRL]+[X]. Następnie nano spyta o zapisanie zmian, które należy potwierdzić [Y].\n",
    "\n",
    "![](data:image/png;base64,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)\n",
    "\n",
    "Następnie podajemy nazwę pliku (może być wpisana przez sam edytor) i potwierdzamy wyjście klawiszem [ENTER].\n",
    "\n",
    "> ##### Zawartość pliku\n",
    "\n",
    "Do wyświetlania treści pliku służy polecenie `cat`, np. `cat plik2.txt`:"
   ]
  },
  {
   "cell_type": "code",
   "execution_count": 105,
   "metadata": {},
   "outputs": [
    {
     "name": "stdout",
     "output_type": "stream",
     "text": [
      "Tutaj zapisujemy tresc pliku.\n"
     ]
    }
   ],
   "source": [
    "cat plik2.txt"
   ]
  },
  {
   "cell_type": "code",
   "execution_count": 109,
   "metadata": {},
   "outputs": [
    {
     "name": "stdout",
     "output_type": "stream",
     "text": [
      "#\t$OpenBSD: ssh_config,v 1.34 2019/02/04 02:39:42 dtucker Exp $\n",
      "\n",
      "# This is the ssh client system-wide configuration file.  See\n",
      "# ssh_config(5) for more information.  This file provides defaults for\n",
      "# users, and the values can be changed in per-user configuration files\n",
      "# or on the command line.\n",
      "\n",
      "# Configuration data is parsed as follows:\n",
      "#  1. command line options\n",
      "#  2. user-specific file\n",
      "#  3. system-wide file\n",
      "# Any configuration value is only changed the first time it is set.\n",
      "# Thus, host-specific definitions should be at the beginning of the\n",
      "# configuration file, and defaults at the end.\n",
      "\n",
      "# Site-wide defaults for some commonly used options.  For a comprehensive\n",
      "# list of available options, their meanings and defaults, please see the\n",
      "# ssh_config(5) man page.\n",
      "\n",
      "# Host *\n",
      "#   ForwardAgent no\n",
      "#   ForwardX11 no\n",
      "#   PasswordAuthentication yes\n",
      "#   HostbasedAuthentication no\n",
      "#   GSSAPIAuthentication no\n",
      "#   GSSAPIDelegateCredentials no\n",
      "#   BatchMode no\n",
      "#   CheckHostIP yes\n",
      "#   AddressFamily any\n",
      "#   ConnectTimeout 0\n",
      "#   StrictHostKeyChecking ask\n",
      "#   IdentityFile ~/.ssh/id_rsa\n",
      "#   IdentityFile ~/.ssh/id_dsa\n",
      "#   IdentityFile ~/.ssh/id_ecdsa\n",
      "#   IdentityFile ~/.ssh/id_ed25519\n",
      "#   Port 22\n",
      "#   Ciphers aes128-ctr,aes192-ctr,aes256-ctr,aes128-cbc,3des-cbc\n",
      "#   MACs hmac-md5,hmac-sha1,umac-64@openssh.com\n",
      "#   EscapeChar ~\n",
      "#   Tunnel no\n",
      "#   TunnelDevice any:any\n",
      "#   PermitLocalCommand no\n",
      "#   VisualHostKey no\n",
      "#   ProxyCommand ssh -q -W %h:%p gateway.example.com\n",
      "#   RekeyLimit 1G 1h\n",
      "\n",
      "Host *\n",
      "\tSendEnv LANG LC_*\n"
     ]
    }
   ],
   "source": [
    "cat /etc/ssh/ssh_config"
   ]
  },
  {
   "cell_type": "markdown",
   "metadata": {},
   "source": [
    "Do analizy zawartości pliku można użyć opcji `head`, `tail`, `more` i `less` (nie ma to sensu, jeśli jest to plik binarny).\n",
    "\n",
    "`head` : Używany do drukowania pierwszych `N` wierszy pliku. Przyjmuje `N` jako dane wejściowe, a domyślna wartość `N` to `10`."
   ]
  },
  {
   "cell_type": "code",
   "execution_count": 110,
   "metadata": {},
   "outputs": [
    {
     "name": "stdout",
     "output_type": "stream",
     "text": [
      "#\t$OpenBSD: ssh_config,v 1.34 2019/02/04 02:39:42 dtucker Exp $\n",
      "\n",
      "# This is the ssh client system-wide configuration file.  See\n",
      "# ssh_config(5) for more information.  This file provides defaults for\n",
      "# users, and the values can be changed in per-user configuration files\n",
      "# or on the command line.\n",
      "\n",
      "# Configuration data is parsed as follows:\n",
      "#  1. command line options\n",
      "#  2. user-specific file\n"
     ]
    }
   ],
   "source": [
    "head /etc/ssh/ssh_config"
   ]
  },
  {
   "cell_type": "markdown",
   "metadata": {},
   "source": [
    "`tail` : Używany do drukowania ostatnich `N` wierszy pliku. Przyjmuje `N` jako dane wejściowe, a domyślna wartość `N` to `10`."
   ]
  },
  {
   "cell_type": "code",
   "execution_count": 111,
   "metadata": {},
   "outputs": [
    {
     "name": "stdout",
     "output_type": "stream",
     "text": [
      "#   EscapeChar ~\n",
      "#   Tunnel no\n",
      "#   TunnelDevice any:any\n",
      "#   PermitLocalCommand no\n",
      "#   VisualHostKey no\n",
      "#   ProxyCommand ssh -q -W %h:%p gateway.example.com\n",
      "#   RekeyLimit 1G 1h\n",
      "\n",
      "Host *\n",
      "\tSendEnv LANG LC_*\n"
     ]
    }
   ],
   "source": [
    "tail /etc/ssh/ssh_config"
   ]
  },
  {
   "cell_type": "markdown",
   "metadata": {},
   "source": [
    "`more` : Jest to filtr do stronicowania tekstu po jednym ekranie na raz.\n",
    "\n",
    "```sh\n",
    "more /etc/ssh/ssh_config\n",
    "```\n",
    "\n",
    "`less` : Służy do przeglądania plików zamiast otwierania pliku. Podobny do polecenia `more`, ale umożliwia ruch zarówno do przodu, jak i do tyłu.\n",
    "\n",
    "```sh\n",
    "less /etc/ssh/ssh_config\n",
    "```"
   ]
  },
  {
   "cell_type": "markdown",
   "metadata": {},
   "source": [
    "> ##### Sprawdź typ pliku\n",
    "\n",
    "`file` jest poleceniem używającym tak zwanej liczby magicznej (tradycja uniksowa) do ustalenia typu pliku."
   ]
  },
  {
   "cell_type": "code",
   "execution_count": 112,
   "metadata": {},
   "outputs": [
    {
     "name": "stdout",
     "output_type": "stream",
     "text": [
      "/etc/afpovertcp.cfg:                        ASCII text\n",
      "/etc/afpovertcp.cfg~orig:                   ASCII text\n",
      "/etc/aliases:                               ASCII text\n",
      "/etc/aliases.db:                            cannot open: Permission denied\n",
      "/etc/apache2:                               directory\n",
      "/etc/asl:                                   directory\n",
      "/etc/asl.conf:                              ASCII text\n",
      "/etc/auto_home:                             ASCII text\n",
      "/etc/auto_master:                           ASCII text\n",
      "/etc/auto_master~orig:                      ASCII text\n",
      "/etc/autofs.conf:                           ASCII text\n",
      "/etc/bashrc:                                ASCII text\n",
      "/etc/bashrc_Apple_Terminal:                 ASCII text\n",
      "/etc/bashrc~previous:                       ASCII text\n",
      "/etc/bootpd.plist:                          XML 1.0 document text, ASCII text\n",
      "/etc/com.apple.screensharing.agent.launchd: ASCII text, with no line terminators\n",
      "/etc/csh.cshrc:                             ASCII text\n",
      "/etc/csh.cshrc~orig:                        ASCII text\n",
      "/etc/csh.login:                             ASCII text\n",
      "/etc/csh.login~orig:                        ASCII text\n",
      "/etc/csh.logout:                            ASCII text\n",
      "/etc/csh.logout~orig:                       ASCII text\n",
      "/etc/cups:                                  directory\n",
      "/etc/defaults:                              directory\n",
      "/etc/efax.rc~previous:                      ASCII text\n",
      "/etc/emond.d:                               directory\n",
      "/etc/find.codes:                            empty\n",
      "/etc/find.codes~orig:                       empty\n",
      "/etc/fstab.hd~previous:                     ASCII text\n",
      "/etc/ftpusers:                              ASCII text\n",
      "/etc/ftpusers~orig:                         ASCII text\n",
      "/etc/gettytab:                              ASCII text\n",
      "/etc/gettytab~orig:                         ASCII text\n",
      "/etc/group:                                 ASCII text\n",
      "/etc/group~previous:                        ASCII text\n",
      "/etc/hasplm:                                directory\n",
      "/etc/hosts:                                 ASCII text\n",
      "/etc/hosts.equiv:                           empty\n",
      "/etc/hosts~orig:                            ASCII text\n",
      "/etc/irbrc:                                 Ruby script text, ASCII text\n",
      "/etc/kern_loader.conf:                      empty\n",
      "/etc/kern_loader.conf~previous:             empty\n",
      "/etc/krb5.keytab:                           cannot open: Permission denied\n",
      "/etc/krb5.keytab~orig:                      cannot open: Permission denied\n",
      "/etc/localtime:                             timezone data, version 2, 10 gmt time flags, 10 std time flags, no leap seconds, 167 transition times, 10 abbreviation chars\n",
      "/etc/localtime~orig:                        timezone data, version 2, 8 gmt time flags, 8 std time flags, no leap seconds, 144 transition times, 8 abbreviation chars\n",
      "/etc/locate.rc:                             ASCII text\n",
      "/etc/mail.rc:                               ASCII text\n",
      "/etc/mail.rc~orig:                          ASCII text\n",
      "/etc/man.conf:                              ASCII text\n",
      "/etc/manpaths:                              ASCII text\n",
      "/etc/manpaths.d:                            directory\n",
      "/etc/master.passwd:                         cannot open: Permission denied\n",
      "/etc/master.passwd~orig:                    cannot open: Permission denied\n",
      "/etc/nanorc:                                ASCII text\n",
      "/etc/networks:                              ASCII text\n",
      "/etc/networks~orig:                         ASCII text\n",
      "/etc/newsyslog.conf:                        ASCII text\n",
      "/etc/newsyslog.d:                           directory\n",
      "/etc/nfs.conf:                              ASCII text\n",
      "/etc/nfs.conf~orig:                         ASCII text\n",
      "/etc/notify.conf:                           ASCII text\n",
      "/etc/ntp.conf:                              ASCII text\n",
      "/etc/ntp.conf~orig:                         ASCII text\n",
      "/etc/ntp_opendirectory.conf:                ASCII text\n",
      "/etc/openldap:                              directory\n",
      "/etc/pam.d:                                 directory\n",
      "/etc/passwd:                                ASCII text\n",
      "/etc/passwd~orig:                           ASCII text\n",
      "/etc/paths:                                 ASCII text\n",
      "/etc/paths.d:                               directory\n",
      "/etc/paths~orig:                            ASCII text\n",
      "/etc/periodic:                              directory\n",
      "/etc/pf.anchors:                            directory\n",
      "/etc/pf.conf:                               ASCII text\n",
      "/etc/pf.os:                                 ASCII text\n",
      "/etc/php-NOTICE-PLANNED-REMOVAL.txt:        ASCII text\n",
      "/etc/php-fpm.conf.default:                  ASCII text\n",
      "/etc/php-fpm.d:                             directory\n",
      "/etc/php.ini.default:                       ASCII text\n",
      "/etc/php.ini.default-5.2-previous:          ASCII text\n",
      "/etc/php.ini.default-previous:              ASCII text\n",
      "/etc/php.ini.default-previous~orig:         ASCII text\n",
      "/etc/postfix:                               directory\n",
      "/etc/ppp:                                   directory\n",
      "/etc/profile:                               ASCII text\n",
      "/etc/profile~orig:                          ASCII text\n",
      "/etc/protocols:                             ASCII text\n",
      "/etc/protocols~previous:                    ASCII text\n",
      "/etc/racoon:                                directory\n",
      "/etc/rc.common:                             ASCII text\n",
      "/etc/rc.common~previous:                    ASCII text\n",
      "/etc/rc.netboot:                            POSIX shell script text executable, ASCII text\n",
      "/etc/resolv.conf:                           ASCII text\n",
      "/etc/rmtab:                                 empty\n",
      "/etc/rpc:                                   ASCII text\n",
      "/etc/rpc~previous:                          ASCII text\n",
      "/etc/rtadvd.conf:                           ASCII text\n",
      "/etc/rtadvd.conf~previous:                  ASCII text\n",
      "/etc/security:                              directory\n",
      "/etc/services:                              ASCII text\n",
      "/etc/services~previous:                     ASCII text\n",
      "/etc/shells:                                ASCII text\n",
      "/etc/shells~orig:                           ASCII text\n",
      "/etc/snmp:                                  directory\n",
      "/etc/ssh:                                   directory\n",
      "/etc/ssl:                                   directory\n",
      "/etc/sudo_lecture:                          cannot open: Permission denied\n",
      "/etc/sudoers:                               cannot open: Permission denied\n",
      "/etc/sudoers.d:                             directory\n",
      "/etc/sudoers~orig:                          cannot open: Permission denied\n",
      "/etc/syslog.conf:                           ASCII text\n",
      "/etc/syslog.conf~previous:                  ASCII text\n",
      "/etc/ttys:                                  ASCII text\n",
      "/etc/ttys~previous:                         ASCII text\n",
      "/etc/uucp:                                  directory\n",
      "/etc/wfs:                                   directory\n",
      "/etc/xtab:                                  empty\n",
      "/etc/zprofile:                              ASCII text\n",
      "/etc/zshrc:                                 ASCII text\n",
      "/etc/zshrc_Apple_Terminal:                  ASCII text\n"
     ]
    }
   ],
   "source": [
    "file /etc/*"
   ]
  },
  {
   "cell_type": "markdown",
   "metadata": {},
   "source": [
    "Ta metoda nie jest niezawodna, ale może być przydatna."
   ]
  },
  {
   "cell_type": "markdown",
   "metadata": {},
   "source": [
    "> ##### Użyte i wolne miejsce\n",
    "\n",
    "Aby sprawdzić wolne miejsce na dysku, możesz użyć `df`."
   ]
  },
  {
   "cell_type": "code",
   "execution_count": 113,
   "metadata": {},
   "outputs": [
    {
     "name": "stdout",
     "output_type": "stream",
     "text": [
      "Filesystem                                                                            512-blocks       Used  Available Capacity     iused      ifree %iused  Mounted on\n",
      "/dev/disk1s5s1                                                                        1952326096   29179192  106874888    22%      563932 9761066548    0%   /\n",
      "devfs                                                                                        486        486          0   100%         842          0  100%   /dev\n",
      "/dev/disk1s4                                                                          1952326096    2099264  106874888     2%           2 9761630478    0%   /System/Volumes/VM\n",
      "/dev/disk1s2                                                                          1952326096     561200  106874888     1%         780 9761629700    0%   /System/Volumes/Preboot\n",
      "/dev/disk1s6                                                                          1952326096        624  106874888     1%          13 9761630467    0%   /System/Volumes/Update\n",
      "/dev/disk1s1                                                                          1952326096 1811924792  106874888    95%     6962426 9754668054    0%   /System/Volumes/Data\n",
      "map auto_home                                                                                  0          0          0   100%           0          0  100%   /System/Volumes/Data/home\n",
      "/dev/disk2s2                                                                          3906289624 3205451624  700838000    83%    26871215 4268096064    1%   /Volumes/My Passport\n",
      "/Applications/WD App Manager/WD App Manager.app                                       1952326096 1748178976  170620704    92%     7056552 9754573928    0%   /private/var/folders/w5/6ws954b512b4jb_x_l_jl9qh0000gn/T/AppTranslocation/FCC0882D-DA6E-40C2-BB84-C5182BF924F1\n",
      "drivefs                                                                               1952326096 1850794960  101531136    95% 18446744069414585126 4294967295 2291521002411749632%   /Volumes/GoogleDrive\n",
      "//Mikołaj%20Leszczuk@Apple%20Network%20bca4e9._afpovertcp._tcp.local./Time%20Capsule 5856338784 3907418048 1948920736    67%   488427254  243615092   67%   /Volumes/.timemachine/Apple Network bca4e9._afpovertcp._tcp.local./EBD2B6A0-65F7-4D66-A68D-8AF5A8511DF1/Time Capsule\n",
      "/dev/disk3s2                                                                          5562850016 3868220080 1694629936    70%    34012186 4260955093    1%   /Volumes/Time Machine Backups\n",
      "com.apple.TimeMachine.2020-11-26-201046.local@/dev/disk1s1                            1952326096 1810174456  106874888    95%     6961095 9754669385    0%   /Volumes/com.apple.TimeMachine.localsnapshots/Backups.backupdb/MacBook Pro (Mikołaj)/2020-11-26-201046/Macintosh HD - Data\n",
      "com.apple.TimeMachine.2020-11-26-032434.local@/dev/disk1s1                            1952326096 1733010432  106874888    95%     7258713 9754371767    0%   /Volumes/com.apple.TimeMachine.localsnapshots/Backups.backupdb/MacBook Pro (Mikołaj)/2020-11-26-032434/Macintosh HD - Data\n"
     ]
    }
   ],
   "source": [
    "df"
   ]
  },
  {
   "cell_type": "markdown",
   "metadata": {},
   "source": [
    "Twój wynik może być tylko podobny do mojego.\n",
    "\n",
    "Aby sprawdzić używane miejsce w katalogu: `du`."
   ]
  },
  {
   "cell_type": "code",
   "execution_count": 114,
   "metadata": {},
   "outputs": [
    {
     "name": "stdout",
     "output_type": "stream",
     "text": [
      "9336\t/bin\n"
     ]
    }
   ],
   "source": [
    "du /bin"
   ]
  },
  {
   "cell_type": "code",
   "execution_count": 115,
   "metadata": {},
   "outputs": [
    {
     "name": "stdout",
     "output_type": "stream",
     "text": [
      "4,6M\t/bin\n"
     ]
    }
   ],
   "source": [
    "du -h /bin"
   ]
  },
  {
   "cell_type": "markdown",
   "metadata": {},
   "source": [
    "W tym przypadku katalog `/bin/` przechowuje pliki o łącznej wielkości podanej wyżej w MB."
   ]
  },
  {
   "cell_type": "markdown",
   "metadata": {},
   "source": [
    "> ##### Kopia pliku\n",
    "\n",
    "Kopiowanie pliku: komenda `cp źródło cel`. Przykładowe skopiowanie pliku:"
   ]
  },
  {
   "cell_type": "code",
   "execution_count": 116,
   "metadata": {},
   "outputs": [
    {
     "name": "stdout",
     "output_type": "stream",
     "text": [
      "Tutaj zapisujemy tresc pliku.\n"
     ]
    }
   ],
   "source": [
    "cat plik2.txt"
   ]
  },
  {
   "cell_type": "code",
   "execution_count": 117,
   "metadata": {},
   "outputs": [
    {
     "name": "stdout",
     "output_type": "stream",
     "text": [
      "cat: nowyplik.txt: No such file or directory\n"
     ]
    },
    {
     "ename": "",
     "evalue": "1",
     "output_type": "error",
     "traceback": []
    }
   ],
   "source": [
    "rm nowyplik.txt\n",
    "cat nowyplik.txt"
   ]
  },
  {
   "cell_type": "code",
   "execution_count": 118,
   "metadata": {},
   "outputs": [],
   "source": [
    "cp plik2.txt nowyplik.txt"
   ]
  },
  {
   "cell_type": "code",
   "execution_count": 119,
   "metadata": {},
   "outputs": [
    {
     "name": "stdout",
     "output_type": "stream",
     "text": [
      "Tutaj zapisujemy tresc pliku.\n"
     ]
    }
   ],
   "source": [
    "cat nowyplik.txt "
   ]
  },
  {
   "cell_type": "markdown",
   "metadata": {},
   "source": [
    "Przenoszenie (lub zmiana nazwy): komenda `mv źródło cel`. Przykładowe przeniesienie pliku:"
   ]
  },
  {
   "cell_type": "code",
   "execution_count": 120,
   "metadata": {},
   "outputs": [
    {
     "name": "stdout",
     "output_type": "stream",
     "text": [
      "Tutaj zapisujemy tresc pliku.\n"
     ]
    }
   ],
   "source": [
    "cat plik2.txt"
   ]
  },
  {
   "cell_type": "code",
   "execution_count": 121,
   "metadata": {},
   "outputs": [
    {
     "name": "stdout",
     "output_type": "stream",
     "text": [
      "cat: plik3.txt: No such file or directory\n"
     ]
    },
    {
     "ename": "",
     "evalue": "1",
     "output_type": "error",
     "traceback": []
    }
   ],
   "source": [
    "cat plik3.txt"
   ]
  },
  {
   "cell_type": "code",
   "execution_count": 122,
   "metadata": {},
   "outputs": [],
   "source": [
    "mv plik2.txt plik3.txt"
   ]
  },
  {
   "cell_type": "code",
   "execution_count": 124,
   "metadata": {},
   "outputs": [
    {
     "name": "stdout",
     "output_type": "stream",
     "text": [
      "Tutaj zapisujemy tresc pliku.\n"
     ]
    }
   ],
   "source": [
    "cat plik3.txt"
   ]
  },
  {
   "cell_type": "code",
   "execution_count": 125,
   "metadata": {},
   "outputs": [
    {
     "name": "stdout",
     "output_type": "stream",
     "text": [
      "cat: plik2.txt: No such file or directory\n"
     ]
    },
    {
     "ename": "",
     "evalue": "1",
     "output_type": "error",
     "traceback": []
    }
   ],
   "source": [
    "cat plik2.txt"
   ]
  },
  {
   "cell_type": "markdown",
   "metadata": {},
   "source": [
    "Jak widać, plik źródłowy już nie istnieje, ponieważ ma teraz nową nazwę (`plik3.txt`).\n",
    "\n",
    "Ostatnią popularną komendą do manipulacji plikami jest `rm`, które służy do usuwania plików i katalogów. Przykładowe wywołanie:"
   ]
  },
  {
   "cell_type": "code",
   "execution_count": 126,
   "metadata": {},
   "outputs": [
    {
     "name": "stdout",
     "output_type": "stream",
     "text": [
      "Git - GitHub Desktop.ipynb\n",
      "Git - konspekt, Git.ipynb\n",
      "Unix Shell - konspekt, Unix, zmienne środowiskowe.ipynb\n",
      "Unix Shell - skrypty powłoki.ipynb\n",
      "Untitled folder\n",
      "a\n",
      "first.sh\n",
      "first2.sh\n",
      "for.sh\n",
      "for2.sh\n",
      "index.html\n",
      "myfile\n",
      "myvar2.sh\n",
      "nowyplik.txt\n",
      "pierwszy.txt\n",
      "plik.txt\n",
      "plik3.txt\n",
      "user.sh\n",
      "var.sh\n",
      "var2.sh\n",
      "while.sh\n",
      "while2.sh\n",
      "while3a.sh\n",
      "while3b.sh\n"
     ]
    }
   ],
   "source": [
    "ls"
   ]
  },
  {
   "cell_type": "code",
   "execution_count": 127,
   "metadata": {},
   "outputs": [],
   "source": [
    "rm plik3.txt"
   ]
  },
  {
   "cell_type": "code",
   "execution_count": 128,
   "metadata": {},
   "outputs": [
    {
     "name": "stdout",
     "output_type": "stream",
     "text": [
      "Git - GitHub Desktop.ipynb\n",
      "Git - konspekt, Git.ipynb\n",
      "Unix Shell - konspekt, Unix, zmienne środowiskowe.ipynb\n",
      "Unix Shell - skrypty powłoki.ipynb\n",
      "Untitled folder\n",
      "a\n",
      "first.sh\n",
      "first2.sh\n",
      "for.sh\n",
      "for2.sh\n",
      "index.html\n",
      "myfile\n",
      "myvar2.sh\n",
      "nowyplik.txt\n",
      "pierwszy.txt\n",
      "plik.txt\n",
      "user.sh\n",
      "var.sh\n",
      "var2.sh\n",
      "while.sh\n",
      "while2.sh\n",
      "while3a.sh\n",
      "while3b.sh\n"
     ]
    }
   ],
   "source": [
    "ls"
   ]
  },
  {
   "cell_type": "markdown",
   "metadata": {},
   "source": [
    "> ##### Uwaga\n",
    "> Wywoływanie `rm` jest niebezpieczne. Dla plików posiadających atrybut **`w`**, `rm` nie pyta o potwierdzenie, ani nie przenosi plików do kosza - `rm` je wprost usuwa. Dla plików nieposiadających atrybutu **`w`**, `rm` pyta o potwierdzenie (chyba, że wywołamy `rm -f` - wtedy też wprost je usuwa).\n",
    "\n",
    "Dodatkowym przełącznikiem, który umożliwia usuwanie również katalogów wraz z zawartością, jest `-r`. W poniższym przykładzie został utworzony najpierw pusty katalog, potem wewnątrz pusty plik. Zaprezentowano brak możliwości usunięcia katalogu (bo jest niepusty) przez polecenie `rmdir`, a następnie poprawne usunięcie dzięki `rm` z przełącznikiem `-r`.\\\n",
    "Zachowaj szczególną ostrożność, usuwając coś jako superużytkownik!"
   ]
  },
  {
   "cell_type": "code",
   "execution_count": 129,
   "metadata": {},
   "outputs": [],
   "source": [
    "mkdir katalog"
   ]
  },
  {
   "cell_type": "code",
   "execution_count": 130,
   "metadata": {},
   "outputs": [],
   "source": [
    "touch katalog/pustyplik.txt"
   ]
  },
  {
   "cell_type": "code",
   "execution_count": 131,
   "metadata": {},
   "outputs": [
    {
     "name": "stdout",
     "output_type": "stream",
     "text": [
      "pustyplik.txt\n"
     ]
    }
   ],
   "source": [
    "ls katalog/"
   ]
  },
  {
   "cell_type": "code",
   "execution_count": 133,
   "metadata": {},
   "outputs": [
    {
     "name": "stdout",
     "output_type": "stream",
     "text": [
      "Git - GitHub Desktop.ipynb\n",
      "Git - konspekt, Git.ipynb\n",
      "Unix Shell - konspekt, Unix, zmienne środowiskowe.ipynb\n",
      "Unix Shell - skrypty powłoki.ipynb\n",
      "Untitled folder\n",
      "a\n",
      "first.sh\n",
      "first2.sh\n",
      "for.sh\n",
      "for2.sh\n",
      "index.html\n",
      "katalog\n",
      "myfile\n",
      "myvar2.sh\n",
      "nowyplik.txt\n",
      "pierwszy.txt\n",
      "plik.txt\n",
      "user.sh\n",
      "var.sh\n",
      "var2.sh\n",
      "while.sh\n",
      "while2.sh\n",
      "while3a.sh\n",
      "while3b.sh\n"
     ]
    }
   ],
   "source": [
    "ls"
   ]
  },
  {
   "cell_type": "code",
   "execution_count": 134,
   "metadata": {},
   "outputs": [
    {
     "name": "stdout",
     "output_type": "stream",
     "text": [
      "rmdir: katalog: Directory not empty\n"
     ]
    },
    {
     "ename": "",
     "evalue": "1",
     "output_type": "error",
     "traceback": []
    }
   ],
   "source": [
    "rmdir katalog"
   ]
  },
  {
   "cell_type": "code",
   "execution_count": 135,
   "metadata": {},
   "outputs": [],
   "source": [
    "rm -r katalog"
   ]
  },
  {
   "cell_type": "code",
   "execution_count": 136,
   "metadata": {},
   "outputs": [
    {
     "name": "stdout",
     "output_type": "stream",
     "text": [
      "Git - GitHub Desktop.ipynb\n",
      "Git - konspekt, Git.ipynb\n",
      "Unix Shell - konspekt, Unix, zmienne środowiskowe.ipynb\n",
      "Unix Shell - skrypty powłoki.ipynb\n",
      "Untitled folder\n",
      "a\n",
      "first.sh\n",
      "first2.sh\n",
      "for.sh\n",
      "for2.sh\n",
      "index.html\n",
      "myfile\n",
      "myvar2.sh\n",
      "nowyplik.txt\n",
      "pierwszy.txt\n",
      "plik.txt\n",
      "user.sh\n",
      "var.sh\n",
      "var2.sh\n",
      "while.sh\n",
      "while2.sh\n",
      "while3a.sh\n",
      "while3b.sh\n"
     ]
    }
   ],
   "source": [
    "ls"
   ]
  },
  {
   "cell_type": "markdown",
   "metadata": {},
   "source": [
    "### Przeszukiwanie plików i katalogów (polecenia wyodrębniania, sortowania i filtrowania danych)\n",
    "\n",
    "Poszukiwanie plików odbywa się w Linuksie z pomocą komendy `find`, która ma następującą składnię:\n",
    "\n",
    "```sh\n",
    "find katalog parametry\n",
    "```\n",
    "\n",
    "Przykładowe parametry:\n",
    "\n",
    "* `-name 'nazwa'`: poszukiwanie pliku (lub folderu) o nazwie `nazwa`,\n",
    "* `-iname 'nazwa'`: poszukiwanie pliku (lub folderu) o nazwie `nazwa`, bez zwracania uwagi na wielkość liter,\n",
    "* `-iname '*.txt'`: poszukiwanie pliku (lub folderu) o nazwie kończącej się na `.txt`, bez zwracania uwagi na wielkość liter,\n",
    "* `-name '*ala*'`: poszukiwanie pliku (lub folderu), który w nazwie ma `ala`,\n",
    "* `-type f`: ograniczenie wyników do plików,\n",
    "* `-type d`: ograniczenie wyników do katalogów.\n",
    "\n",
    "Parametry można łączyć, np. żeby znaleźć w folderze dane katalogi, zawierające w nazwie 'codebrainers', można poszukać:"
   ]
  },
  {
   "cell_type": "code",
   "execution_count": null,
   "metadata": {},
   "outputs": [],
   "source": [
    "find \"/Users/miklesz/Documents\" -iname '*codebrainers*' -type d"
   ]
  },
  {
   "cell_type": "markdown",
   "metadata": {},
   "source": [
    "> ##### Więcej parametrów dla `find`\n",
    "> Więcej informacji o komendzie `find`, oraz przykładowych parametrów dla niej, zobaczysz po wpisaniu:"
   ]
  },
  {
   "cell_type": "code",
   "execution_count": null,
   "metadata": {},
   "outputs": [],
   "source": [
    "find"
   ]
  },
  {
   "cell_type": "markdown",
   "metadata": {},
   "source": [
    "> Możesz również zajrzeć do stron manuala Uniksa:"
   ]
  },
  {
   "cell_type": "code",
   "execution_count": null,
   "metadata": {},
   "outputs": [],
   "source": [
    "man find"
   ]
  },
  {
   "cell_type": "markdown",
   "metadata": {},
   "source": [
    "> Wyjdziesz stamtąd po wciśnięciu [Q].\n",
    "\n",
    "![](https://i.pinimg.com/564x/b5/8d/86/b58d867733d518239aa42edb8214edf1.jpg)\n",
    "\n",
    "Do szukania w treści plików służy inne polecenie: `grep`, o następującej składni:\n",
    "\n",
    "```sh\n",
    "grep 'co' gdzie przełączniki\n",
    "```\n",
    "\n",
    "W przypadu tej komendy, `gdzie` musi być plikiem, no chyba że podamy przełącznik `-R`, wtedy `gdzie` musi być katalogiem.\n",
    "\n",
    "Dodatkowym przydatnym przełącznikiem jest `-n`, które w wynikach pokaże numer linii.\n",
    "\n",
    "Przykład wyszukiwania określonego tekstu w pliku:"
   ]
  },
  {
   "cell_type": "code",
   "execution_count": null,
   "metadata": {},
   "outputs": [],
   "source": [
    "cat /etc/ssh/ssh_config"
   ]
  },
  {
   "cell_type": "code",
   "execution_count": null,
   "metadata": {},
   "outputs": [],
   "source": [
    "grep file /etc/ssh/ssh_config"
   ]
  },
  {
   "cell_type": "markdown",
   "metadata": {},
   "source": [
    "`sort` : To polecenie służy do sortowania zawartości plików."
   ]
  },
  {
   "cell_type": "code",
   "execution_count": null,
   "metadata": {},
   "outputs": [],
   "source": [
    "cat /etc/ssh/ssh_config"
   ]
  },
  {
   "cell_type": "code",
   "execution_count": null,
   "metadata": {},
   "outputs": [],
   "source": [
    "sort /etc/ssh/ssh_config"
   ]
  },
  {
   "cell_type": "code",
   "execution_count": null,
   "metadata": {},
   "outputs": [],
   "source": [
    "sort -r /etc/ssh/ssh_config"
   ]
  },
  {
   "cell_type": "code",
   "execution_count": null,
   "metadata": {},
   "outputs": [],
   "source": [
    "sort -R /etc/ssh/ssh_config"
   ]
  },
  {
   "cell_type": "code",
   "execution_count": null,
   "metadata": {},
   "outputs": [],
   "source": [
    "sort -R /etc/ssh/ssh_config"
   ]
  },
  {
   "cell_type": "markdown",
   "metadata": {},
   "source": [
    "`wc` : Służy do zliczania liczby linii, słów, znaków w pliku."
   ]
  },
  {
   "cell_type": "code",
   "execution_count": null,
   "metadata": {},
   "outputs": [],
   "source": [
    "wc /etc/ssh/ssh_config"
   ]
  },
  {
   "cell_type": "code",
   "execution_count": null,
   "metadata": {},
   "outputs": [],
   "source": [
    "wc -l /etc/ssh/ssh_config"
   ]
  },
  {
   "cell_type": "code",
   "execution_count": null,
   "metadata": {},
   "outputs": [],
   "source": [
    "wc -w /etc/ssh/ssh_config"
   ]
  },
  {
   "cell_type": "code",
   "execution_count": null,
   "metadata": {},
   "outputs": [],
   "source": [
    "wc -m /etc/ssh/ssh_config"
   ]
  },
  {
   "cell_type": "markdown",
   "metadata": {},
   "source": [
    "`cut` : jest komendą uniksowego [wiersza poleceń](https://pl.wikipedia.org/wiki/Wiersz_polece%C5%84), służącą do wycinania określonej części [pliku](https://pl.wikipedia.org/wiki/Plik).\n",
    "\n",
    "Używa się go do wyciągania części z każdej linii wejścia. Zazwyczaj polecenie to jest używane do wyciągania części z plików. Służą do tego sprecyzowane parametry:\n",
    "\n",
    "* (`-b`) – dla określonych [bajtów](https://pl.wikipedia.org/wiki/Bajt) (ang. *bytes*)\n",
    "* (`-c`) – dla określonych znaków (ang. *characters*)\n",
    "* (`-f`) – dla określonych pól (ang. *fields*)\n",
    "* (`-d`) – separator (ang. *delimiter*). Znak po `-d` jest separatorem. Standardowym separatorem jest: [tab](https://pl.wikipedia.org/wiki/Tab) ale mogą być też inne symbole np. dwukropek\n",
    "\n",
    "Zasięg musi zawierać w każdym przypadku jeden z warunków `N`, `N-M`, `N-` (od `N` do końca linii), lub `-M` (od rozpoczęcia linii do `M`)."
   ]
  },
  {
   "cell_type": "code",
   "execution_count": null,
   "metadata": {},
   "outputs": [],
   "source": [
    "cat /etc/ssh/ssh_config"
   ]
  },
  {
   "cell_type": "code",
   "execution_count": null,
   "metadata": {},
   "outputs": [],
   "source": [
    "cut -c 2-4 /etc/ssh/ssh_config"
   ]
  },
  {
   "cell_type": "markdown",
   "metadata": {},
   "source": [
    "## Zmienne środowiskowe\n",
    "\n",
    "[Zmienna środowiskowa](https://pl.wikipedia.org/wiki/Zmienna_%C5%9Brodowiskowa) (ang. *environment variable*) to nazwana wartość, zazwyczaj zawierająca ciąg znaków, przechowywana i zarządzana przez [powłokę](https://pl.wikipedia.org/wiki/Pow%C5%82oka_systemowa). Zmienna środowiskowa może wpływać na działanie procesów uruchamianych w systemie operacyjnym i wtedy staje się pewnym mechanizmem komunikacji lub też przechowywać wartość w celu jej późniejszego użycia.\n",
    "\n",
    "W systemach [uniksowych](https://pl.wikipedia.org/wiki/Unix), a także w systemach [DOS](https://pl.wikipedia.org/wiki/DOS) i [Windows](https://pl.wikipedia.org/wiki/Microsoft_Windows) każdy proces posiada swój zestaw zmiennych środowiskowych. Nowo tworzony proces dziedziczy zmienne środowiskowe swojego procesu rodzicielskiego, chyba że ten ostatni zmieni wartości niektórych z nich podczas tworzenia procesu potomnego.\n",
    "\n",
    "Zmienne środowiskowe odgrywają ważną rolę i większość programów uzyskuje różne parametry przez zmienne środowiskowe.\n",
    "\n",
    "Część zmiennych środowiskowych jest ustawiana przy starcie powłoki i nie można ich zmienić, np. `USER` (nazwa użytkownika), `SHELL` (używana powłoka).\n",
    "\n",
    "Część zmiennych środowiskowych można dowolnie ustawiać, ale są one niezbędne do prawidłowej pracy, np. `PATH` (zawiera listę kartotek, w których są poszukiwane programy).\n",
    "\n",
    "Pewna liczba zmiennych środowiskowych nie ma sformalizowanego znaczenia, ale tradycyjnie przyjęło się ich używać, np. `EDITOR` (wskazuje program używany jako domyślny edytor tekstu). Niektóre programy mają opisane jakie dodatkowe zmienne środowiskowe wpływają na ich działanie.\n",
    "\n",
    "Poza tym użytkownik może definiować w sposób zupełnie dowolny swoje zmienne i używać ich w dowolnym celu.\n",
    "\n",
    "Wartość zmiennej o nazwie VAR można sprawdzić poleceniem (odwołanie do wartości następuje przez znak `$` przed nazwą zmiennej):"
   ]
  },
  {
   "cell_type": "markdown",
   "metadata": {},
   "source": [
    "```sh\n",
    "echo $VAR\n",
    "```"
   ]
  },
  {
   "cell_type": "code",
   "execution_count": null,
   "metadata": {},
   "outputs": [],
   "source": [
    "echo $USER"
   ]
  },
  {
   "cell_type": "code",
   "execution_count": null,
   "metadata": {},
   "outputs": [],
   "source": [
    "echo $SHELL"
   ]
  },
  {
   "cell_type": "code",
   "execution_count": null,
   "metadata": {},
   "outputs": [],
   "source": [
    "echo $PATH"
   ]
  },
  {
   "cell_type": "code",
   "execution_count": null,
   "metadata": {},
   "outputs": [],
   "source": [
    "echo $EDITOR"
   ]
  },
  {
   "cell_type": "markdown",
   "metadata": {},
   "source": [
    "## Zestaw najważniejszych poleceń"
   ]
  },
  {
   "cell_type": "markdown",
   "metadata": {},
   "source": [
    "### Zarządzanie plikami"
   ]
  },
  {
   "cell_type": "markdown",
   "metadata": {},
   "source": [
    "* `cat` – wypisywanie i łączenie plików\n",
    "* `chmod` – zmiana praw dostępu do pliku\n",
    "* `cd` – zmiana bieżącego katalogu, użyty bez argumentów powraca do katalogu domowego\n",
    "* `cp` – kopiowanie plików\n",
    "* `df` – wypisywanie wolnej przestrzeni zamontowanych systemów plików\n",
    "* `du` – wyświetla ilość miejsca zajmowanego przez pliki/katalogi\n",
    "* `file` – ustalanie typu danych zawartych w pliku\n",
    "* `find` – przeszukiwanie systemu plików\n",
    "* `ls` – listowanie zawartości katalogu\n",
    "* `mkdir` – tworzenie katalogów\n",
    "* `mv` – przenoszenie/zmiana nazwy pliku\n",
    "* `pwd` – wydruk aktualnego katalogu\n",
    "* `rm` – usuwanie plików i katalogów.\n",
    "* `rmdir` – usuwanie katalogów\n",
    "* `touch` – zamiana daty ostatniej modyfikacji, lub dostępu do pliku bądź utworzenie pustego pliku"
   ]
  },
  {
   "cell_type": "markdown",
   "metadata": {},
   "source": [
    "### Zarządzanie systemem plików"
   ]
  },
  {
   "cell_type": "markdown",
   "metadata": {},
   "source": [
    "* `df` – sprawdzanie przestrzeni (również wolnej) na dyskach"
   ]
  },
  {
   "cell_type": "markdown",
   "metadata": {},
   "source": [
    "### Zarządzanie użytkownikami i systemem"
   ]
  },
  {
   "cell_type": "markdown",
   "metadata": {},
   "source": [
    "* `su` – logowanie na konto innego użytkownika (patrz niżej)\n",
    "* `whoami` – pokazuje bieżący efektywny uid, czyli identyfikator użytkownika, z którego prawami działamy"
   ]
  },
  {
   "cell_type": "markdown",
   "metadata": {},
   "source": [
    "### Przetwarzanie tekstu"
   ]
  },
  {
   "cell_type": "markdown",
   "metadata": {},
   "source": [
    "* `cut` – wycina określone znaki z wejścia (zazwyczaj z pliku)\n",
    "* `grep` – wypisywanie linii pasujących do wzorca\n",
    "* `head` – wypisanie pierwszych 10 linijek tekstu\n",
    "* `more` – rozwinięcie o sterowanie strumieniem\n",
    "* `less` – dla dużych ilości tekstów\n",
    "* `tail` – wypisanie ostatnich 10 linijek tekstu, także używane w diagnostyce (patrz niżej)"
   ]
  },
  {
   "cell_type": "markdown",
   "metadata": {},
   "source": [
    "### Operacje wejścia/wyjścia"
   ]
  },
  {
   "cell_type": "markdown",
   "metadata": {},
   "source": [
    "* `echo` – druk na standardowe wyjście"
   ]
  },
  {
   "cell_type": "markdown",
   "metadata": {},
   "source": [
    "### Inne"
   ]
  },
  {
   "cell_type": "markdown",
   "metadata": {},
   "source": [
    "* `man` – podręcznik elektroniczny"
   ]
  },
  {
   "cell_type": "code",
   "execution_count": null,
   "metadata": {},
   "outputs": [],
   "source": []
  }
 ],
 "metadata": {
  "kernelspec": {
   "display_name": "Bash",
   "language": "bash",
   "name": "bash"
  },
  "language_info": {
   "codemirror_mode": "shell",
   "file_extension": ".sh",
   "mimetype": "text/x-sh",
   "name": "bash"
  }
 },
 "nbformat": 4,
 "nbformat_minor": 4
}
