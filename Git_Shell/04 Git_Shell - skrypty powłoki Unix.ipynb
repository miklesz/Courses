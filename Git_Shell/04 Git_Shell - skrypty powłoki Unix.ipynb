{
 "cells": [
  {
   "cell_type": "markdown",
   "metadata": {
    "slideshow": {
     "slide_type": "slide"
    }
   },
   "source": [
    "# Git/Shell - skrypty powłoki Unix\n",
    "_Mikołaj Leszczuk_\n",
    "![](https://i.imgflip.com/3h7w7w.jpg)"
   ]
  },
  {
   "cell_type": "markdown",
   "metadata": {
    "slideshow": {
     "slide_type": "slide"
    }
   },
   "source": [
    "## Skrypty powłoki"
   ]
  },
  {
   "cell_type": "markdown",
   "metadata": {
    "slideshow": {
     "slide_type": "slide"
    }
   },
   "source": [
    "### Wprowadzenie\n",
    "\n",
    "**Skrypt powłoki** to [program komputerowy](https://pl.wikipedia.org/wiki/Program_komputerowy) przeznaczony do uruchamiania przez [powłokę systemu Unix](https://en.wikipedia.org/wiki/Unix_shell), [interpreter wiersza poleceń](https://pl.wikipedia.org/wiki/Wiersz_polece%C5%84). Za [języki skryptowe](https://pl.wikipedia.org/wiki/J%C4%99zyk_skryptowy) uważa się różne dialekty skryptów powłoki. Typowe operacje wykonywane przez skrypty powłoki obejmują manipulowanie plikami, wykonywanie programu i drukowanie tekstu. Skrypt, który konfiguruje środowisko, uruchamia program i wykonuje niezbędne czyszczenie, rejestrowanie itp. nazywany jest **opakowaniem** (ang. __*wrapperem*__)."
   ]
  },
  {
   "cell_type": "markdown",
   "metadata": {
    "slideshow": {
     "slide_type": "subslide"
    }
   },
   "source": [
    "![Edycja skryptu powłoki FreeBSD do konfiguracji zapory IP](https://upload.wikimedia.org/wikipedia/commons/f/f0/FreeBSD_10_vi_RC_Firewall.png)"
   ]
  },
  {
   "cell_type": "markdown",
   "metadata": {
    "slideshow": {
     "slide_type": "subslide"
    }
   },
   "source": [
    "Termin ten jest również używany bardziej ogólnie do oznaczenia zautomatyzowanego trybu uruchamiania powłoki systemu operacyjnego; w określonych systemach operacyjnych nazywane są innymi rzeczami, takimi jak pliki wsadowe (strumień MSDos-Win95, [OS/2](https://pl.wikipedia.org/wiki/OS/2)), procedury poleceń (VMS) i skrypty powłoki (strumień [Windows NT](https://pl.wikipedia.org/wiki/Windows_NT) i pochodne innych firm, takie jak [4NT](https://en.wikipedia.org/wiki/Take_Command_Console) - [`cmd.exe`](https://pl.wikipedia.org/wiki/Cmd.exe)), a systemy operacyjne mainframe są powiązane z wieloma terminami."
   ]
  },
  {
   "cell_type": "markdown",
   "metadata": {
    "slideshow": {
     "slide_type": "subslide"
    }
   },
   "source": [
    "Typowa instalacja zgodna z Unix/Linux/POSIX zawiera [Korn Shell](https://pl.wikipedia.org/wiki/Korn_shell) (`ksh`) w kilku możliwych wersjach, takich jak ksh88, Korn Shell '93 i inne. Najstarszą powszechnie używaną powłoką jest [powłoka Bourne'a](https://pl.wikipedia.org/wiki/Pow%C5%82oka_Bourne%E2%80%99a) (`sh`); Systemy uniksowe niezmiennie zawierają również [powłokę C](https://pl.wikipedia.org/wiki/Csh) (`csh`), [Bash](https://pl.wikipedia.org/wiki/Bash) (`bash`), [Remote Shell](https://pl.wikipedia.org/wiki/Rsh_(remote_shell)) (`rsh`), [Secure Shell](https://pl.wikipedia.org/wiki/Secure_Shell) (`ssh`) dla połączeń [SSL](https://pl.wikipedia.org/wiki/Transport_Layer_Security) [telnet](https://pl.wikipedia.org/wiki/Telnet) oraz powłokę, która jest głównym składnikiem instalacji [Tcl/Tk](https://pl.wikipedia.org/wiki/Tk), zwaną [`tclsh`](https://pl.wikipedia.org/wiki/Tk); [Wish](https://pl.wikipedia.org/wiki/Tk) to oparta na GUI powłoka Tcl/Tk. Powłoki C i Tcl mają składnię dość podobną do składni wspomnianych języków programowania, a powłoki Korna i Bash są rozwinięciem powłoki Bourne'a, która jest oparta na języku [ALGOL](https://pl.wikipedia.org/wiki/ALGOL) z dodanymi elementami wielu innych. Z drugiej strony, różne powłoki plus narzędzia, takie jak [awk](https://pl.wikipedia.org/wiki/AWK), [program sed](https://pl.wikipedia.org/wiki/Sed_(program)), [grep](https://pl.wikipedia.org/wiki/Grep) i języki programowania [BASIC](https://pl.wikipedia.org/wiki/BASIC), [Lisp](https://pl.wikipedia.org/wiki/Lisp), [C](https://pl.wikipedia.org/wiki/C_(j%C4%99zyk_programowania)) i tak dalej, przyczyniły się do powstania języka programowania [Perl](https://pl.wikipedia.org/wiki/Perl)."
   ]
  },
  {
   "cell_type": "markdown",
   "metadata": {
    "slideshow": {
     "slide_type": "subslide"
    }
   },
   "source": [
    "Inne powłoki dostępne na komputerze lub dostępne do pobrania i/lub zakupu to [powłoka Almquist](https://en.wikipedia.org/wiki/Almquist_shell) (`ash`), [Windows PowerShell](https://pl.wikipedia.org/wiki/Windows_PowerShell) (`msh`), [powłoka Z](https://pl.wikipedia.org/wiki/Zsh) (`zsh`, szczególnie popularny ulepszony KornShell), [powłoka Tenex C](https://pl.wikipedia.org/wiki/Tcsh) (`tcsh`), powłoka podobna do Perla (`psh`). Powiązane programy, takie jak powłoki oparte na językach programowania [Python](https://pl.wikipedia.org/wiki/Python), [Ruby](https://pl.wikipedia.org/wiki/Ruby_(j%C4%99zyk_programowania)), [C](https://pl.wikipedia.org/wiki/C_(j%C4%99zyk_programowania)), [Java](https://pl.wikipedia.org/wiki/Java), [Perl](https://pl.wikipedia.org/wiki/Perl), [Pascal](https://pl.wikipedia.org/wiki/Pascal_(j%C4%99zyk_programowania)), [REXX](https://pl.wikipedia.org/wiki/REXX) w różnych formach, są również szeroko dostępne. Inną dość powszechną powłoką jest `osh`, której strona podręcznika mówi, że „jest to ulepszony, wstecznie kompatybilny port standardowego interpretera poleceń z szóstego wydania Unix”."
   ]
  },
  {
   "cell_type": "markdown",
   "metadata": {
    "slideshow": {
     "slide_type": "subslide"
    }
   },
   "source": [
    "Oprogramowanie współdziałające Windows-Unix, takie jak [MKS Toolkit](https://en.wikipedia.org/wiki/MKS_Toolkit), [Cygwin](https://pl.wikipedia.org/wiki/Cygwin), [UWIN](https://en.wikipedia.org/wiki/UWIN), [Interix](https://pl.wikipedia.org/wiki/Interix) i inne, udostępnia powyższe powłoki i programowanie Unix w systemach Windows, zapewniając funkcjonalność aż do sygnałów i innej [komunikacji między-procesorowej](https://pl.wikipedia.org/wiki/Komunikacja_mi%C4%99dzyprocesowa), [wywołań systemowych](https://pl.wikipedia.org/wiki/Wywo%C5%82anie_systemowe) i [interfejsów programowania aplikacji (API)](https://pl.wikipedia.org/wiki/Interfejs_programowania_aplikacji). [Powłoka Hamilton C](https://en.wikipedia.org/wiki/Hamilton_C_shell) jest powłoką systemu Windows, która jest bardzo podobna do powłoki Unix C. Microsoft dystrybuuje [usługi Windows dla systemu UNIX](https://en.wikipedia.org/wiki/Windows_Services_for_UNIX) do użytku w szczególności z jego systemami operacyjnymi opartymi na NT, które mają [podsystem środowiskowy](https://en.wikipedia.org/wiki/Environmental_subsystem) POSIX."
   ]
  },
  {
   "cell_type": "markdown",
   "metadata": {
    "slideshow": {
     "slide_type": "slide"
    }
   },
   "source": [
    "### Filozofia\n",
    "\n",
    "Programowanie skryptów powłoki ma nieco złą opinię wśród niektórych administratorów systemów uniksowych, a ostatnio wśród profesjonalnych programistów, ponieważ wymagania współczesnego przemysłu oprogramowania w coraz większym stopniu zależą od funkcji skryptów powłoki."
   ]
  },
  {
   "cell_type": "markdown",
   "metadata": {
    "slideshow": {
     "slide_type": "subslide"
    }
   },
   "source": [
    "Wady programowania powłoki zwykle dzielą się na jedną z dwóch kategorii:\n",
    "\n",
    "1. Prędkość\\\n",
    "Niska szybkość działania zinterpretowanego programu powłoki w porównaniu z programem w języku C, programem w języku Java, a nawet z interpretowanym programem w języku Perl, Go, Rust, Ruby, Node.js, Python.\n",
    "1. Jakość\\\n",
    "Ponieważ łatwo jest napisać prosty skrypt powłoki typu zadania wsadowego, istnieje wiele skryptów powłoki niskiej jakości. Ułatwia to również zasugerowanie, że wszystkie skrypty powłoki są złe."
   ]
  },
  {
   "cell_type": "markdown",
   "metadata": {
    "slideshow": {
     "slide_type": "subslide"
    }
   },
   "source": [
    "Dlatego bardzo przydatna jest możliwość tworzenia *dobrych* skryptów powłoki. Skrypty, które można wykorzystać do wdrożeń, transformacji danych, wydajnej obsługi plików lub efektywnej manipulacji niskopoziomowymi szczegółami maszyny, sieci lub systemu operacyjnego - do których program Java, Python lub Go nie miałby dostępu tak łatwo lub tak wydajnie. Łączenie różnych części potoku kompilacji w kilku wierszach skryptu powłoki jest szybkie, efektywne i umożliwia wykonanie zadania tam, gdzie inne narzędzia nie są w stanie sprostać zadaniu."
   ]
  },
  {
   "cell_type": "markdown",
   "metadata": {
    "slideshow": {
     "slide_type": "subslide"
    }
   },
   "source": [
    "Istnieje wiele czynników, które mogą mieć wpływ na dobre, czyste, szybkie skrypty powłoki, ale najwazniejsze 2 to..."
   ]
  },
  {
   "cell_type": "markdown",
   "metadata": {
    "slideshow": {
     "slide_type": "subslide"
    }
   },
   "source": [
    "1. Formatowanie\\\n",
    "Najważniejszymi kryteriami dla każdego kodu musi być przejrzysty, czytelny układ. Odnosi się to do wszystkich języków, ale ponownie tam, gdzie główne języki są obsługiwane przez rozbudowane środowiska IDE, wiele skryptów powłoki jest napisanych w znacznie mniej wyrozumiałych edytorach, więc to na skrypcie spoczywa obowiązek upewnienia się, że kod jest dobrze przedstawiony. Źle sformatowany kod jest o wiele trudniejszy w utrzymaniu niż dobrze sformatowany kod.\\\n",
    "Wydaje się, że coś w skryptach powłoki sprawia, że szczególnie prawdopodobne jest, że są one źle wcięte, a ponieważ główne struktury kontrolne to if/then/else i pętle, wcięcia są krytyczne dla zrozumienia, co robi skrypt. Ponownie, „właściwy” programista prawdopodobnie używa potężnego, ale skomplikowanego IDE, podczas gdy wiele skryptów powłoki jest napisanych w edytorach typu `nano` czy `vim`."
   ]
  },
  {
   "cell_type": "markdown",
   "metadata": {
    "slideshow": {
     "slide_type": "subslide"
    }
   },
   "source": [
    "2. Wydajność\\\n",
    "Łatwo wpaść w pułapkę używania niepotrzebnych poleceń. Powłoka nie jest szybkim ani wydajnym procesorem własnego języka i nie ma kompilatora, który reinterpretowałby Twoje zamiary w najbardziej wydajną implementację, więc kilka drobnych zmian w skrypcie może często spowodować ogromną różnicę (dobrą lub złą) w wydajności kodu."
   ]
  },
  {
   "cell_type": "markdown",
   "metadata": {
    "slideshow": {
     "slide_type": "subslide"
    }
   },
   "source": [
    "Przejrzysty układ sprawia, że skrypt powłoki może wyglądać jak „czarna magia” albo jest takim, który jest łatwy do utrzymania i zrozumienia.\\\n",
    "Możesz myśleć, że przy prostym skrypcie nie jest to zbyt poważny problem, ale warto pamiętać o dwóch rzeczach.\n",
    "\n",
    "1. Pełzanie funkcji\\\n",
    "Po pierwsze, prosty skrypt - częściej niż przewidywano - przerodzi się w duży, złożony.\n",
    "2. Konserwowalność\\\n",
    "Po drugie, jeśli nikt inny nie może zrozumieć, jak to działa, możesz utknąć w utrzymywaniu go samodzielnie do końca życia!"
   ]
  },
  {
   "cell_type": "markdown",
   "metadata": {
    "slideshow": {
     "slide_type": "subslide"
    }
   },
   "source": [
    "Tak więc skromny skrypt powłoki ma wiele przeszkód na swojej drodze, ale nadal jest przydatny. Musimy więc nauczyć się go dobrze używać, w ramach jego własnych ograniczeń. Nie obsługuje z wdziękiem wielowymiarowych tablic, ale poradzi sobie łatwo z przekierowaniem we/wy. Będzie natomiast zarządzać wielozadaniowością i kontrolą pracy w sposób, o którym bardziej złożone języki nigdy nie mogą marzyć. Jednak jego zdolność do obsługi wielobajtowych liczb całkowitych jest bardzo słaba. Musimy więc nauczyć się powłoki i zrozumieć to, w czym się wyróżnia, zawsze wybierając najlepsze narzędzie do wykonywanej pracy, pamiętając, że jest wiele rzeczy, które najlepiej wykonać innymi narzędziami."
   ]
  },
  {
   "cell_type": "markdown",
   "metadata": {
    "slideshow": {
     "slide_type": "slide"
    }
   },
   "source": [
    "### Pierwszy skrypt\n",
    "\n",
    "Dla naszego pierwszego skryptu powłoki napiszemy po prostu skrypt z napisem „Hello World”. Następnie postaramy się wyciągnąć więcej z programu Hello World niż z jakiegokolwiek innego samouczka, jaki kiedykolwiek czytałeś :-) Użyj prostego edytora tekstu (ale nie procesora tekstu), aby utworzyć zwykły plik tekstowy o nazwie `first.sh` z taką zawartością (lub pobierz go z linku poniżej):\n",
    "\n",
    "[`first.sh`](https://github.com/miklesz/Courses/blob/main/Git_Shell/first.sh)\n",
    "\n",
    "```sh\n",
    "#!/bin/sh\n",
    "# To jest komentarz!\n",
    "echo Hello World\t# To też jest komentarz!\n",
    "```"
   ]
  },
  {
   "cell_type": "markdown",
   "metadata": {
    "slideshow": {
     "slide_type": "slide"
    }
   },
   "source": [
    "Pierwsza linia mówi Uniksowi, że plik ma być wykonany przez `/bin/sh`. Jest to standardowa lokalizacja powłoki kompatybilnej z Bourne w prawie każdym systemie typu Unix. Jeśli używasz systemu GNU/Linux, `/bin/sh` jest zwykle dowiązaniem symbolicznym do powłoki `bash` lub prawdopodobnie `dash`. Przyjrzymy się `#!` za chwilę."
   ]
  },
  {
   "cell_type": "markdown",
   "metadata": {
    "slideshow": {
     "slide_type": "slide"
    }
   },
   "source": [
    "Druga linia zaczyna się specjalnym symbolem: `#`. Oznacza to wiersz jako komentarz i jest całkowicie ignorowany przez powłokę.\\\n",
    "Jedynym wyjątkiem jest sytuacja, gdy *pierwsza* linia pliku zaczyna się od znaku `#!` ... jak nasz. Jest to specjalna dyrektywa, którą Unix traktuje specjalnie. Oznacza to, że nawet jeśli używasz csh, ksh lub czegokolwiek innego jako powłoki interaktywnej, to co następuje, powinno być zinterpretowane przez powłokę Bourne'a.\\\n",
    "Podobnie, skrypt Perla może zaczynać się od linii `#!/usr/bin/perl`, aby poinformować Twoją interaktywną powłokę, że program, który następuje, powinien być wykonywany przez Perl. W przypadku programowania powłoki Bourne'a będziemy trzymać się `#!/bin/sh`."
   ]
  },
  {
   "cell_type": "markdown",
   "metadata": {
    "slideshow": {
     "slide_type": "slide"
    }
   },
   "source": [
    "Trzecia linia uruchamia polecenie: `echo`, z dwoma parametrami lub argumentami - pierwsza to `Hello`; drugi to `World`.\\\n",
    "Zauważ, że `echo` automatycznie umieści pojedynczą spację między parametrami.\n",
    "Symbol `#` w linii 3 nadal oznacza komentarz; `#` i wszystko po nim (aż do końca wiersza) jest ignorowane przez powłokę."
   ]
  },
  {
   "cell_type": "markdown",
   "metadata": {
    "slideshow": {
     "slide_type": "slide"
    }
   },
   "source": [
    "Teraz uruchom najpierw `chmod +x first.sh`, aby plik tekstowy był wykonywalny, a następnie uruchom `./first.sh`.\\\n",
    "Twój ekran powinien wtedy wyglądać następująco:"
   ]
  },
  {
   "cell_type": "code",
   "execution_count": null,
   "metadata": {
    "slideshow": {
     "slide_type": "fragment"
    }
   },
   "outputs": [],
   "source": [
    "chmod +x first.sh"
   ]
  },
  {
   "cell_type": "code",
   "execution_count": null,
   "metadata": {
    "slideshow": {
     "slide_type": "fragment"
    }
   },
   "outputs": [],
   "source": [
    "./first.sh"
   ]
  },
  {
   "cell_type": "markdown",
   "metadata": {
    "slideshow": {
     "slide_type": "subslide"
    }
   },
   "source": [
    "Prawdopodobnie się tego spodziewałeś/spodziewałaś! Nawet wystarczy uruchomić:"
   ]
  },
  {
   "cell_type": "code",
   "execution_count": null,
   "metadata": {
    "slideshow": {
     "slide_type": "fragment"
    }
   },
   "outputs": [],
   "source": [
    "echo Hello World"
   ]
  },
  {
   "cell_type": "markdown",
   "metadata": {
    "slideshow": {
     "slide_type": "fragment"
    }
   },
   "source": [
    "Ale teraz wprowadźmy kilka zmian."
   ]
  },
  {
   "cell_type": "markdown",
   "metadata": {
    "slideshow": {
     "slide_type": "slide"
    }
   },
   "source": [
    "#### Wprowadzanie zmian\n",
    "\n",
    "Najlepszym sposobem, aby się czegoś dowiedzieć, jest to zmienić, szturchnąć i zobaczyć, co się stanie.\n",
    "\n",
    "Po pierwsze, zauważ, że `echo` umieszcza JEDNĄ spację między parametrami. Pomiędzy `„Hello”` i `„World”` wstaw kilka spacji. Jaki będzie wynik? A co z umieszczeniem między nimi znaku TAB?\\\n",
    "Jak zawsze w przypadku programowania powłoki, wypróbuj to i zobacz."
   ]
  },
  {
   "cell_type": "code",
   "execution_count": null,
   "metadata": {
    "slideshow": {
     "slide_type": "fragment"
    }
   },
   "outputs": [],
   "source": [
    "echo Hello        World"
   ]
  },
  {
   "cell_type": "markdown",
   "metadata": {
    "slideshow": {
     "slide_type": "fragment"
    }
   },
   "source": [
    "Wynik jest dokładnie taki sam! Wywołujemy program `echo` z dwoma argumentami."
   ]
  },
  {
   "cell_type": "markdown",
   "metadata": {
    "slideshow": {
     "slide_type": "subslide"
    }
   },
   "source": [
    "Teraz ponownie zmodyfikuj kod:"
   ]
  },
  {
   "cell_type": "code",
   "execution_count": null,
   "metadata": {
    "scrolled": true,
    "slideshow": {
     "slide_type": "fragment"
    }
   },
   "outputs": [],
   "source": [
    "#!/bin/sh\n",
    "# To jest komentarz!\n",
    "echo \"Hello      World\"       # To też jest komentarz!"
   ]
  },
  {
   "cell_type": "markdown",
   "metadata": {
    "slideshow": {
     "slide_type": "fragment"
    }
   },
   "source": [
    "Tym razem to działa. Prawdopodobnie tego też się spodziewałeś/spodziewałaś, jeśli masz doświadczenie z innymi językami programowania. Ale kluczem do zrozumienia, co się dzieje z bardziej złożonymi poleceniami i skryptami powłoki, jest zrozumienie i umiejętność wyjaśnienia: DLACZEGO?\\\n",
    "`echo` zostało teraz wywołane tylko z JEDNYM argumentem - łańcuchem `\"Hello      World\"`. Drukuje to dokładnie.\\\n",
    "Należy tutaj zrozumieć, że powłoka analizuje argumenty PRZED przekazaniem ich do wywoływanego programu. W tym przypadku usuwa cudzysłowy, ale przekazuje ciąg jako jeden argument."
   ]
  },
  {
   "cell_type": "markdown",
   "metadata": {
    "slideshow": {
     "slide_type": "subslide"
    }
   },
   "source": [
    "Jako ostatni przykład wpisz następujący skrypt. Spróbuj przewidzieć wynik, zanim go uruchomisz:\n",
    "\n",
    "[`first2.sh`](https://github.com/miklesz/Courses/blob/main/Git_Shell/first2.sh)"
   ]
  },
  {
   "cell_type": "code",
   "execution_count": null,
   "metadata": {
    "scrolled": true,
    "slideshow": {
     "slide_type": "subslide"
    }
   },
   "outputs": [],
   "source": [
    "#!/bin/sh\n",
    "# To jest komentarz!\n",
    "echo \"Hello      World\"       # To też jest komentarz!\n",
    "echo \"Hello World\"\n",
    "echo \"Hello * World\"\n",
    "echo Hello * World\n",
    "echo Hello      World\n",
    "echo \"Hello\" World\n",
    "echo Hello \"     \" World\n",
    "echo \"Hello \"*\" World\"\n",
    "echo `hello` world\n",
    "echo 'hello' world"
   ]
  },
  {
   "cell_type": "markdown",
   "metadata": {
    "slideshow": {
     "slide_type": "subslide"
    }
   },
   "source": [
    "Czy wszystko jest zgodne z oczekiwaniami? Jeśli nie, nie martw się! To tylko niektóre z rzeczy, które omówimy w tym kursie ... i tak, będziemy używać potężniejszych poleceń niż `echo`!"
   ]
  },
  {
   "cell_type": "markdown",
   "metadata": {
    "slideshow": {
     "slide_type": "slide"
    }
   },
   "source": [
    "### Zmienne"
   ]
  },
  {
   "cell_type": "markdown",
   "metadata": {
    "slideshow": {
     "slide_type": "subslide"
    }
   },
   "source": [
    "Prawie każdy istniejący język programowania ma pojęcie *zmiennych* - symboliczną nazwę fragmentu pamięci, do którego możemy przypisywać wartości, czytać i manipulować jego zawartością. Powłoka Bourne'a nie jest wyjątkiem i ta sekcja przedstawia tę ideę.\\\n",
    "Spójrzmy wstecz na nasz pierwszy przykład Hello World. Można to zrobić za pomocą zmiennych (chociaż jest to tak prosty przykład, że nie uzasadnia tego!)\n",
    "Zwróćcie uwagę, że wokół znaku „=” nie może być spacji: `VAR=wartość` działa; `VAR = wartość` nie działa. W pierwszym przypadku powłoka widzi symbol „=” i traktuje polecenie jako przypisanie zmiennej. W drugim przypadku powłoka przyjmuje, że VAR musi być nazwą polecenia i próbuje je wykonać.\n",
    "Jeśli się nad tym zastanowić, ma to sens - jak inaczej można powiedzieć mu, aby uruchomił polecenie VAR z pierwszym argumentem „=”, a drugim argumentem „wartość”?\n",
    "Wprowadź następujący kod do `var.sh`:\n",
    "\n",
    "[`var.sh`](https://github.com/miklesz/Courses/blob/main/Git_Shell/var.sh)"
   ]
  },
  {
   "cell_type": "code",
   "execution_count": null,
   "metadata": {
    "slideshow": {
     "slide_type": "subslide"
    }
   },
   "outputs": [],
   "source": [
    "#!/bin/sh\n",
    "MY_MESSAGE=\"Hello World\"\n",
    "echo $MY_MESSAGE"
   ]
  },
  {
   "cell_type": "markdown",
   "metadata": {
    "slideshow": {
     "slide_type": "fragment"
    }
   },
   "source": [
    "Spowoduje to przypisanie ciągu „Hello World” do zmiennej `MY_MESSAGE`, a następnie `echo` wartości tej zmiennej.\\\n",
    "Zauważcie, że potrzebujemy cudzysłowów wokół ciągu Hello World. Podczas gdy z `echo Hello World` mogłoby sie udać, ponieważ echo pobierze dowolną liczbę parametrów, zmienna może przechowywać tylko jedną wartość, więc ciąg znaków ze spacjami musi być cytowany w cudzysłowie, aby powłoka wiedziała, że ma traktować to wszystko jako jedną. W przeciwnym razie powłoka spróbuje wykonać polecenie `World` po przypisaniu `MY_MESSAGE=Hello`."
   ]
  },
  {
   "cell_type": "markdown",
   "metadata": {
    "slideshow": {
     "slide_type": "subslide"
    }
   },
   "source": [
    "Powłoka nie dba o typy zmiennych; mogą przechowywać łańcuchy, liczby całkowite, liczby rzeczywiste - cokolwiek zechcecie.\\\n",
    "Ludzie przyzwyczajeni do Perla i Pythona mogą być z tego całkowicie zadowoleni; jeśli ktoś uczył się C, Pascala lub co gorsza języka Ada, to dla takiej osoby może się to wydawać dość dziwne.\\\n",
    "Prawdę mówiąc, wszystkie zmienne są przechowywane jako łańcuchy, ale procedury, które oczekują liczby, mogą je jako takie traktować."
   ]
  },
  {
   "cell_type": "markdown",
   "metadata": {
    "slideshow": {
     "slide_type": "subslide"
    }
   },
   "source": [
    "Jeśli przypiszesz ciąg do zmiennej, a następnie spróbujesz dodać 1 do niej, nie ujdzie to na sucho:"
   ]
  },
  {
   "cell_type": "code",
   "execution_count": null,
   "metadata": {
    "slideshow": {
     "slide_type": "fragment"
    }
   },
   "outputs": [],
   "source": [
    "x=2\n",
    "expr $x + 1"
   ]
  },
  {
   "cell_type": "code",
   "execution_count": null,
   "metadata": {
    "slideshow": {
     "slide_type": "fragment"
    }
   },
   "outputs": [],
   "source": [
    "x=\"hello\"\n",
    "expr $x + 1"
   ]
  },
  {
   "cell_type": "markdown",
   "metadata": {
    "slideshow": {
     "slide_type": "fragment"
    }
   },
   "source": [
    "Dzieje się tak, ponieważ program zewnętrzny `expr` oczekuje tylko liczb."
   ]
  },
  {
   "cell_type": "markdown",
   "metadata": {
    "slideshow": {
     "slide_type": "subslide"
    }
   },
   "source": [
    "Ale nie ma różnicy składniowej między żadnymi z tych definicji zmiennych:"
   ]
  },
  {
   "cell_type": "code",
   "execution_count": null,
   "metadata": {
    "slideshow": {
     "slide_type": "fragment"
    }
   },
   "outputs": [],
   "source": [
    "MY_MESSAGE=\"Hello World\"\n",
    "MY_SHORT_MESSAGE=hi\n",
    "MY_NUMBER=1\n",
    "MY_PI=3.142\n",
    "MY_OTHER_PI=\"3.142\"\n",
    "MY_MIXED=123abc"
   ]
  },
  {
   "cell_type": "code",
   "execution_count": null,
   "metadata": {
    "slideshow": {
     "slide_type": "subslide"
    }
   },
   "outputs": [],
   "source": [
    "expr $MY_MESSAGE + 1"
   ]
  },
  {
   "cell_type": "code",
   "execution_count": null,
   "metadata": {
    "slideshow": {
     "slide_type": "fragment"
    }
   },
   "outputs": [],
   "source": [
    "expr $MY_SHORT_MESSAGE + 1"
   ]
  },
  {
   "cell_type": "code",
   "execution_count": null,
   "metadata": {
    "slideshow": {
     "slide_type": "fragment"
    }
   },
   "outputs": [],
   "source": [
    "expr $MY_NUMBER + 1"
   ]
  },
  {
   "cell_type": "code",
   "execution_count": null,
   "metadata": {
    "slideshow": {
     "slide_type": "fragment"
    }
   },
   "outputs": [],
   "source": [
    "expr $MY_PI + 1"
   ]
  },
  {
   "cell_type": "code",
   "execution_count": null,
   "metadata": {
    "slideshow": {
     "slide_type": "fragment"
    }
   },
   "outputs": [],
   "source": [
    "expr $MY_OTHER_PI + 1"
   ]
  },
  {
   "cell_type": "code",
   "execution_count": null,
   "metadata": {
    "slideshow": {
     "slide_type": "fragment"
    }
   },
   "outputs": [],
   "source": [
    "expr $MY_MIXED + 1"
   ]
  },
  {
   "cell_type": "markdown",
   "metadata": {
    "slideshow": {
     "slide_type": "subslide"
    }
   },
   "source": [
    "Należy jednak pamiętać, że znaki specjalne muszą być odpowiednio chronione, aby uniknąć interpretacji przez powłokę.\n",
    "\n",
    "Możemy interaktywnie ustawiać nazwy zmiennych za pomocą polecenia `read`; poniższy skrypt prosi o podanie imienia, a następnie wita się osobiście:\n",
    "\n",
    "[`var2.sh`](https://github.com/miklesz/Courses/blob/main/Git_Shell/var2.sh)\n",
    "\n",
    "```sh\n",
    "#!/bin/sh\n",
    "echo Jak masz na imię?\n",
    "read MY_NAME\n",
    "echo \"Witaj $MY_NAME - mam nadzieję, że wszystko w porządku.\"\n",
    "```"
   ]
  },
  {
   "cell_type": "markdown",
   "metadata": {
    "slideshow": {
     "slide_type": "subslide"
    }
   },
   "source": [
    "Używa wbudowane w powłoce polecenie `read`, które wczytuje wiersz ze standardowego wejścia do podanej zmiennej.\\\n",
    "Zwróćcie uwagę, że nawet jeśli podasz swoje pełne imię i nazwisko i nie użyjesz podwójnych cudzysłowów wokół polecenia `echo`, nadal wyświetla poprawnie. Jak to się robi? W przypadku zmiennej `MY_MESSAGE` wcześniej musieliśmy umieścić ją w cudzysłowie, aby ją ustawić.\\\n",
    "Dzieje się tak, że polecenie `read` automatycznie umieszcza cudzysłowy wokół swojego wejścia, dzięki czemu spacje są poprawnie traktowane. (Oczywiście będziesz musiał/musiała zacytować wynik - np. `echo \"$MY_MESSAGE\"`)."
   ]
  },
  {
   "cell_type": "markdown",
   "metadata": {
    "slideshow": {
     "slide_type": "slide"
    }
   },
   "source": [
    "#### Zakres zmiennych\n",
    "\n",
    "Zmienne w powłoce Bourne'a nie muszą być deklarowane, jak to ma miejsce w językach takich jak C. Ale jeśli spróbujesz odczytać niezadeklarowaną zmienną, wynikiem jest pusty ciąg. Nie otrzymasz żadnych ostrzeżeń ani błędów. Może powodować subtelne błędy - jeśli przypiszesz:"
   ]
  },
  {
   "cell_type": "code",
   "execution_count": null,
   "metadata": {
    "slideshow": {
     "slide_type": "fragment"
    }
   },
   "outputs": [],
   "source": [
    "MY_OBFUSCATED_VARIABLE=\"Witaj\""
   ]
  },
  {
   "cell_type": "markdown",
   "metadata": {
    "slideshow": {
     "slide_type": "subslide"
    }
   },
   "source": [
    "i wtedy:"
   ]
  },
  {
   "cell_type": "code",
   "execution_count": null,
   "metadata": {
    "slideshow": {
     "slide_type": "fragment"
    }
   },
   "outputs": [],
   "source": [
    "echo $MY_OSFUCATED_VARIABLE"
   ]
  },
  {
   "cell_type": "markdown",
   "metadata": {
    "slideshow": {
     "slide_type": "subslide"
    }
   },
   "source": [
    "Wtedy nic nie dostaniesz (ponieważ druga OBFUSCATED jest błędnie napisana).\n",
    "\n",
    "Istnieje polecenie o nazwie `export`, które ma rzeczywisty wpływ na zakres zmiennych. Aby wiedzieć, co się dzieje z Waszymi zmiennymi, musicie zrozumieć, jak to jest używane.\n",
    "\n",
    "Utwórz mały skrypt powłoki, `myvar2.sh`:\n",
    "\n",
    "[`myvar2.sh`](https://github.com/miklesz/Courses/blob/main/Git_Shell/myvar2.sh)\n",
    "\n",
    "```sh\n",
    "#!/bin/sh\n",
    "echo \"MYVAR to: $MYVAR\"\n",
    "MYVAR=\"cześć\"\n",
    "echo \"MYVAR to: $MYVAR\"\n",
    "```"
   ]
  },
  {
   "cell_type": "markdown",
   "metadata": {
    "slideshow": {
     "slide_type": "subslide"
    }
   },
   "source": [
    "Teraz uruchom skrypt:"
   ]
  },
  {
   "cell_type": "code",
   "execution_count": null,
   "metadata": {
    "slideshow": {
     "slide_type": "fragment"
    }
   },
   "outputs": [],
   "source": [
    "./myvar2.sh"
   ]
  },
  {
   "cell_type": "markdown",
   "metadata": {
    "slideshow": {
     "slide_type": "fragment"
    }
   },
   "source": [
    "`MYVAR` nie został ustawiony na żadną wartość, więc jest pusty. Następnie nadajemy mu wartość i daje oczekiwany wynik."
   ]
  },
  {
   "cell_type": "markdown",
   "metadata": {
    "slideshow": {
     "slide_type": "subslide"
    }
   },
   "source": [
    "Teraz uruchom:"
   ]
  },
  {
   "cell_type": "code",
   "execution_count": null,
   "metadata": {
    "slideshow": {
     "slide_type": "fragment"
    }
   },
   "outputs": [],
   "source": [
    "MYVAR=\"hello\"\n",
    "echo \"MYVAR to: $MYVAR\"\n",
    "MYVAR=\"cześć\"\n",
    "echo \"MYVAR to: $MYVAR\""
   ]
  },
  {
   "cell_type": "code",
   "execution_count": null,
   "metadata": {
    "slideshow": {
     "slide_type": "fragment"
    }
   },
   "outputs": [],
   "source": [
    "MYVAR=\"hello\"\n",
    "./myvar2.sh"
   ]
  },
  {
   "cell_type": "markdown",
   "metadata": {
    "slideshow": {
     "slide_type": "fragment"
    }
   },
   "source": [
    "Nadal nie zostało ustawione! Co się dzieje?!\\\n",
    "Kiedy wywołujesz `myvar2.sh` z interaktywnej powłoki, pojawia się nowa powłoka, która uruchamia skrypt. Częściowo jest to spowodowane linią `#!/bin/sh` na początku skryptu, o której rozmawialiśmy wcześniej."
   ]
  },
  {
   "cell_type": "markdown",
   "metadata": {
    "slideshow": {
     "slide_type": "subslide"
    }
   },
   "source": [
    "Musimy zrobić `export` zmiennej, aby została odziedziczona przez inny program - w tym skrypt powłoki. Wpisz:"
   ]
  },
  {
   "cell_type": "code",
   "execution_count": null,
   "metadata": {
    "slideshow": {
     "slide_type": "fragment"
    }
   },
   "outputs": [],
   "source": [
    "export MYVAR\n",
    "./myvar2.sh"
   ]
  },
  {
   "cell_type": "markdown",
   "metadata": {
    "slideshow": {
     "slide_type": "fragment"
    }
   },
   "source": [
    "Teraz spójrzcie na linię 3 skryptu: to zmienia wartość `MYVAR`. Ale nie ma sposobu, aby to zostało przekazane z powrotem do Waszej interaktywnej powłoki. Spróbujcie odczytać wartość `MYVAR`:"
   ]
  },
  {
   "cell_type": "code",
   "execution_count": null,
   "metadata": {
    "slideshow": {
     "slide_type": "fragment"
    }
   },
   "outputs": [],
   "source": [
    "echo $MYVAR"
   ]
  },
  {
   "cell_type": "markdown",
   "metadata": {
    "slideshow": {
     "slide_type": "subslide"
    }
   },
   "source": [
    "Po zakończeniu działania skryptu powłoki jego środowisko zostaje zniszczone. Ale `MYVAR` zachowuje swoją wartość `hello` w Waszej interaktywnej powłoce.\\\n",
    "Aby otrzymać zmiany środowiskowe z powrotem ze skryptu, musimy *pozyskać* (ang. *to source*) skrypt - to skutecznie uruchamia skrypt w naszej własnej interaktywnej powłoce, zamiast tworzyć inną powłokę, aby go uruchomić.\\\n",
    "Możemy *pozyskać* skrypt przez \"`.`\" (kropka) polecenie:"
   ]
  },
  {
   "cell_type": "code",
   "execution_count": null,
   "metadata": {
    "slideshow": {
     "slide_type": "fragment"
    }
   },
   "outputs": [],
   "source": [
    "MYVAR=hello\n",
    "echo $MYVAR"
   ]
  },
  {
   "cell_type": "code",
   "execution_count": null,
   "metadata": {
    "slideshow": {
     "slide_type": "fragment"
    }
   },
   "outputs": [],
   "source": [
    ". ./myvar2.sh"
   ]
  },
  {
   "cell_type": "code",
   "execution_count": null,
   "metadata": {
    "slideshow": {
     "slide_type": "fragment"
    }
   },
   "outputs": [],
   "source": [
    "echo $MYVAR"
   ]
  },
  {
   "cell_type": "markdown",
   "metadata": {
    "slideshow": {
     "slide_type": "subslide"
    }
   },
   "source": [
    "Zmiana ponownie dotarła do naszej powłoki! Tak działa na przykład plik `.profile` lub `.bash_profile`.\\\n",
    "Zwróć uwagę, że w tym przypadku nie musimy zrobić `export MYVAR`.\n",
    "\n",
    "Inną rzeczą, o której warto w tym miejscu wspomnieć o zmiennych, jest rozważenie następującego skryptu powłoki:\n",
    "\n",
    "```sh\n",
    "#!/bin/sh\n",
    "echo \"Jak masz na imię?\"\n",
    "read USER_NAME\n",
    "echo \"Witaj $USER_NAME\"\n",
    "echo \"Utworzę plik o nazwie $USER_NAME_plik\"\n",
    "touch $USER_NAME_plik\n",
    "```"
   ]
  },
  {
   "cell_type": "markdown",
   "metadata": {
    "slideshow": {
     "slide_type": "subslide"
    }
   },
   "source": [
    "Zastanówcie się, jakiego wyniku możecie się spodziewać. Na przykład, jeśli wpiszecie „stefan” jako swój USER_NAME, czy skrypt powinien utworzyć `stefan_plik`?\\\n",
    "Właściwie nie. Spowoduje to błąd, chyba że istnieje zmienna o nazwie `USER_NAME_plik`. Powłoka nie wie, gdzie kończy się zmienna, a zaczyna się reszta. Jak możemy to zdefiniować?\\\n",
    "Odpowiedź jest taka, że samą zmienną umieszczamy w *nawiasach klamrowych*:\n",
    "\n",
    "[`user.sh`](https://github.com/miklesz/Courses/blob/main/Git_Shell/user.sh)\n",
    "\n",
    "```sh\n",
    "#!/bin/sh\n",
    "echo \"Jak masz na imię?\"\n",
    "read USER_NAME\n",
    "echo \"Witaj $USER_NAME\"\n",
    "echo \"Utworzę plik o nazwie ${USER_NAME}_plik\"\n",
    "touch \"${USER_NAME}_plik\"\n",
    "```"
   ]
  },
  {
   "cell_type": "markdown",
   "metadata": {
    "slideshow": {
     "slide_type": "subslide"
    }
   },
   "source": [
    "Powłoka wie teraz, że odnosimy się do zmiennej `USER_NAME` i chcemy, aby była ona poprzedzona sufiksem „`_plik`”. Może to być przyczyną wpadek wielu nowych programistów skryptów powłoki, ponieważ źródło problemu może być trudne do wyśledzenia.\n",
    "\n",
    "Zwróćcie również uwagę na cudzysłowy wokół `\"${USER_NAME}_plik\"` - jeśli użytkownik wprowadziłby „Stefan Gajowy” (zwróćcie uwagę na spację), to bez cudzysłowów argumentami przekazanymi do `touch` byłyby `Stefan` i `Gajowy_plik` - to znaczy faktycznie wykonywalibyśmy `touch Stefan Gajowy_plik`, czyli dwa pliki do dotknięcia (`touch`), a nie jeden. Cudzysłowy tego unikają."
   ]
  },
  {
   "cell_type": "markdown",
   "metadata": {
    "slideshow": {
     "slide_type": "slide"
    }
   },
   "source": [
    "### Symbole wieloznaczne\n",
    "\n",
    "Symbole wieloznaczne nie są niczym nowym, jeśli w ogóle używaliście Uniksa.\\\n",
    "Jednak niekoniecznie jest oczywiste, jak są one przydatne w skryptach powłoki. Ta sekcja ma na celu skłonienie starych szarych komórek do myślenia o tym, jak wyglądają rzeczy, gdy jesteście w skrypcie powłoki - przewidując efekt użycia różnych składni. Będzie używany później, szczególnie w sekcji Pętle.\\\n",
    "Pomyślcie najpierw, jak skopiować wszystkie pliki z `/tmp/a` do `/tmp/b`. Wszystkie pliki `.txt`? Wszystkie pliki `.html`?\\\n",
    "Miejmy nadzieję, że wymyślicie:\n",
    "\n",
    "```sh\n",
    "$ cp /tmp/a/* /tmp/b/\n",
    "$ cp /tmp/a/*.txt /tmp/b/\n",
    "$ cp /tmp/a/*.html /tmp/b/\n",
    "```"
   ]
  },
  {
   "cell_type": "markdown",
   "metadata": {
    "slideshow": {
     "slide_type": "subslide"
    }
   },
   "source": [
    "W jaki sposób można by wyświetlić listę plików w `/tmp/` bez użycia:"
   ]
  },
  {
   "cell_type": "code",
   "execution_count": null,
   "metadata": {
    "slideshow": {
     "slide_type": "fragment"
    }
   },
   "outputs": [],
   "source": [
    "ls /tmp/"
   ]
  },
  {
   "cell_type": "markdown",
   "metadata": {
    "slideshow": {
     "slide_type": "subslide"
    }
   },
   "source": [
    "Co powiecie na:"
   ]
  },
  {
   "cell_type": "code",
   "execution_count": null,
   "metadata": {
    "slideshow": {
     "slide_type": "fragment"
    }
   },
   "outputs": [],
   "source": [
    "echo /tmp/*"
   ]
  },
  {
   "cell_type": "markdown",
   "metadata": {
    "slideshow": {
     "slide_type": "subslide"
    }
   },
   "source": [
    "Jakie są kluczowe różnice między tym a wyjściem `ls`? Jak to może być przydatne? Albo w czym przeszkadzać?\\\n",
    "Jak możecie zmienić nazwy wszystkich plików `.txt` na `.bak`? Zwróćcie na to uwagę:\n",
    "\n",
    "```sh\n",
    "mv *.txt *.bak\n",
    "```\n",
    "\n",
    "Nie przyniesie pożądanego efektu; pomyślcie o tym, jak to zostanie rozszerzone przez powłokę, zanim zostanie przekazane do `mv`."
   ]
  },
  {
   "cell_type": "markdown",
   "metadata": {
    "slideshow": {
     "slide_type": "slide"
    }
   },
   "source": [
    "> #### Zadanie domowe\n",
    "> Spróbujcie tego używając `echo` zamiast `mv`, i sprawdźcie, czy to pomoże."
   ]
  },
  {
   "cell_type": "markdown",
   "metadata": {
    "slideshow": {
     "slide_type": "subslide"
    }
   },
   "source": [
    "Symbolom wieloznacznym przyjrzymy się dalej, kiedy omawiać będziemy kilka koncepcji, które nie zostały jeszcze omówione."
   ]
  },
  {
   "cell_type": "markdown",
   "metadata": {
    "slideshow": {
     "slide_type": "slide"
    }
   },
   "source": [
    "### Pętle\n",
    "\n",
    "Większość języków ma koncepcję pętli: jeśli chcemy powtórzyć zadanie dwadzieścia razy, nie chcemy wpisywać kodu dwadzieścia razy, być może za każdym razem z niewielką zmianą.\\\n",
    "W rezultacie mamy pętle `for` i `while` w powłoce Bourne'a. Jest to nieco mniej funkcji niż inne języki, ale nikt nie twierdził, że programowanie powłoki ma moc języków C lub Python."
   ]
  },
  {
   "cell_type": "markdown",
   "metadata": {
    "slideshow": {
     "slide_type": "slide"
    }
   },
   "source": [
    "#### Pętle for\n",
    "\n",
    "Pętle `for` iterują przez zestaw wartości, aż lista zostanie wyczerpana:\n",
    "\n",
    "[`for.sh`](https://github.com/miklesz/Courses/blob/main/Git_Shell/for.sh)"
   ]
  },
  {
   "cell_type": "code",
   "execution_count": null,
   "metadata": {
    "slideshow": {
     "slide_type": "fragment"
    }
   },
   "outputs": [],
   "source": [
    "#!/bin/sh\n",
    "for i in 1 2 3 4 5\n",
    "do\n",
    "  echo \"Pętla ... numer $i\"\n",
    "done"
   ]
  },
  {
   "cell_type": "markdown",
   "metadata": {
    "slideshow": {
     "slide_type": "subslide"
    }
   },
   "source": [
    "Wypróbuj ten kod i zobacz, co robi. Zauważ, że wartości mogą być dowolne:\n",
    "\n",
    "[`for2.sh`](https://github.com/miklesz/Courses/blob/main/Git_Shell/for2.sh)"
   ]
  },
  {
   "cell_type": "code",
   "execution_count": null,
   "metadata": {
    "slideshow": {
     "slide_type": "subslide"
    }
   },
   "outputs": [],
   "source": [
    "#!/bin/sh\n",
    "for i in cześć 1 2 *\n",
    "do\n",
    "  echo \"Pętla ... zmienna i jest ustawiona na $i\"\n",
    "done"
   ]
  },
  {
   "cell_type": "markdown",
   "metadata": {
    "slideshow": {
     "slide_type": "subslide"
    }
   },
   "source": [
    "Warto spróbować. Upewnijcie się, że rozumiecie, co się tutaj dzieje. Wypróbujcie bez `*` i zrozumcie na czym polega pomysł, a następnie przypomnijcie sobie ponownie sekcję Symbole wieloznaczne i spróbujcie ponownie z `*` na miejscu. Wypróbujcie również w różnych katalogach, z `*` otoczonym podwójnymi cudzysłowami."
   ]
  },
  {
   "cell_type": "markdown",
   "metadata": {
    "slideshow": {
     "slide_type": "subslide"
    }
   },
   "source": [
    "Spróbujcie go poprzedzić odwrotnym ukośnikiem (`\\*`)"
   ]
  },
  {
   "cell_type": "code",
   "execution_count": null,
   "metadata": {
    "slideshow": {
     "slide_type": "fragment"
    }
   },
   "outputs": [],
   "source": [
    "#!/bin/sh\n",
    "for i in cześć 1 2 \\*\n",
    "do\n",
    "  echo \"Pętla ... zmienna i jest ustawiona na $i\"\n",
    "done"
   ]
  },
  {
   "cell_type": "markdown",
   "metadata": {
    "slideshow": {
     "slide_type": "fragment"
    }
   },
   "source": [
    "Tak więc, jak widać, pętle `for` przechodzą przez dowolne dane wejściowe, dopóki nie skończą się dane wejściowe."
   ]
  },
  {
   "cell_type": "markdown",
   "metadata": {
    "slideshow": {
     "slide_type": "slide"
    }
   },
   "source": [
    "#### Pętle while\n",
    "\n",
    "Tymczasem pętle `while` mogą być o wiele przyjemniejsze! (w zależności od Waszego pomysłu na to, jak definiujecie \"przyjemność\" i tego, jak często wychodzicie z domu).\n",
    "\n",
    "[`while.sh`](https://github.com/miklesz/Courses/blob/main/Git_Shell/while.sh)\n",
    "\n",
    "```sh\n",
    "#!/bin/sh\n",
    "INPUT_STRING=cześć\n",
    "while [ \"$INPUT_STRING\" != \"żegnaj\" ]\n",
    "do\n",
    "  echo \"Wpisz coś (żegnaj, żeby wyjść)\"\n",
    "  read INPUT_STRING\n",
    "  echo \"Wpisano: $INPUT_STRING\"\n",
    "done\n",
    "```"
   ]
  },
  {
   "cell_type": "markdown",
   "metadata": {
    "slideshow": {
     "slide_type": "subslide"
    }
   },
   "source": [
    "W tym przypadku instrukcje echo i read będą działały przez czas nieokreślony, dopóki nie wpiszecie `żegnaj`; gdy pojawi się monit.\\\n",
    "Przypomnijcie sobie część kursu poświęconą zmiennym, aby zobaczyć, dlaczego ustawiliśmy `INPUT_STRING=cześć` przed przetestowaniem. To sprawia, że jest to pętla powtarzania, a nie tradycyjna pętla while."
   ]
  },
  {
   "cell_type": "markdown",
   "metadata": {
    "slideshow": {
     "slide_type": "subslide"
    }
   },
   "source": [
    "Dwukropek (`:`) zawsze daje wartość true; Chociaż użycie tego może być czasami konieczne, często lepiej jest użyć rzeczywistego warunku zakończenia. Porównajcie wyjście z powyższej pętli z poniższą; zobaczcie, który jest bardziej elegancki. Pomyślcie także o sytuacjach, w których każda z nich byłaby bardziej przydatna od drugiej:\n",
    "\n",
    "[`while2.sh`](https://github.com/miklesz/Courses/blob/main/Git_Shell/while2.sh)\n",
    "\n",
    "```sh\n",
    "#!/bin/sh\n",
    "while :\n",
    "do\n",
    "  echo \"Wpisz coś (^C, aby zakończyć)\"\n",
    "  read INPUT_STRING\n",
    "  echo \"Wpisano: $INPUT_STRING\"\n",
    "done\n",
    "```"
   ]
  },
  {
   "cell_type": "markdown",
   "metadata": {
    "slideshow": {
     "slide_type": "subslide"
    }
   },
   "source": [
    "Kolejną przydatną sztuczką jest pętla `while read f`. W tym przykładzie użyto instrukcji `case`, którą omówimy później. Skrypt czyta z pliku [`myfile`](https://github.com/miklesz/CodeBrainers/blob/master/Unix_Shell_Git/myfile) i dla każdej linii mówi nam, jaki (ludzki, a nie komputerowy) język jest używany. Każda linia musi kończyć się LF (nowa linia) - jeśli:"
   ]
  },
  {
   "cell_type": "code",
   "execution_count": null,
   "metadata": {
    "slideshow": {
     "slide_type": "fragment"
    }
   },
   "outputs": [],
   "source": [
    "cat myfile"
   ]
  },
  {
   "cell_type": "markdown",
   "metadata": {
    "slideshow": {
     "slide_type": "fragment"
    }
   },
   "source": [
    "nie kończy się pustą linią, ta ostatnia linia nie będzie przetwarzana.\n",
    "\n",
    "[`while3a.sh`](https://github.com/miklesz/Courses/blob/main/Git_Shell/while3a.sh)"
   ]
  },
  {
   "cell_type": "code",
   "execution_count": null,
   "metadata": {
    "slideshow": {
     "slide_type": "subslide"
    }
   },
   "outputs": [],
   "source": [
    "#!/bin/sh\n",
    "while read f\n",
    "do\n",
    "    case $f in\n",
    "        hello)          echo angielski     ;;\n",
    "        howdy)          echo amerykański   ;;\n",
    "        gday)           echo australijski  ;;\n",
    "        bonjour)        echo francuski     ;;\n",
    "        \"guten tag\")    echo niemiecki     ;;\n",
    "        *)              echo nieznany język: $f         ;;\n",
    "    esac\n",
    "done < myfile"
   ]
  },
  {
   "cell_type": "markdown",
   "metadata": {
    "slideshow": {
     "slide_type": "fragment"
    }
   },
   "source": [
    "Zwróćcie uwagę, że `esac` jest odwróconym `case`! Jest to używane również z `if` i `fi`."
   ]
  },
  {
   "cell_type": "markdown",
   "metadata": {
    "slideshow": {
     "slide_type": "subslide"
    }
   },
   "source": [
    "W wielu systemach Unix (ale nie GNU / Linux) można to również zrobić w następujący sposób:\n",
    "\n",
    "[`while3b.sh`](https://github.com/miklesz/Courses/blob/main/Git_Shell/while3b.sh)\n",
    "\n",
    "```sh\n",
    "#!/bin/sh\n",
    "while f=`line`\n",
    "do\n",
    "    case $f in\n",
    "        hello)          echo angielski     ;;\n",
    "        howdy)          echo amerykański   ;;\n",
    "        gday)           echo australijski  ;;\n",
    "        bonjour)        echo francuski     ;;\n",
    "        \"guten tag\")    echo niemiecki     ;;\n",
    "        *)              echo nieznany język: $f         ;;\n",
    "    esac\n",
    "done < myfile\n",
    "```"
   ]
  },
  {
   "cell_type": "markdown",
   "metadata": {
    "slideshow": {
     "slide_type": "subslide"
    }
   },
   "source": [
    "Ale ponieważ `while read f` działa z dowolnym \\*niksem i nie zależy od programu zewnętrznego `line`, preferowany jest ten pierwszy sposób."
   ]
  },
  {
   "cell_type": "markdown",
   "metadata": {
    "slideshow": {
     "slide_type": "slide"
    }
   },
   "source": [
    "### Test\n",
    "\n",
    "Test jest używany przez praktycznie każdy napisany skrypt powłoki. Może się tak nie wydawać, ponieważ `test` nie jest często wywoływany bezpośrednio. `test` jest częściej nazywany `[`. `[` jest dowiązaniem symbolicznym do `test`, aby uczynić programy powłoki bardziej czytelnymi. Zwykle jest to również wbudowane w powłokę (co oznacza, że sama powłoka zinterpretuje znaczenie `[` jako `test`, nawet jeśli Wasze środowisko jest inaczej skonfigurowane):"
   ]
  },
  {
   "cell_type": "code",
   "execution_count": null,
   "metadata": {
    "slideshow": {
     "slide_type": "fragment"
    }
   },
   "outputs": [],
   "source": [
    "type ["
   ]
  },
  {
   "cell_type": "code",
   "execution_count": null,
   "metadata": {
    "slideshow": {
     "slide_type": "fragment"
    }
   },
   "outputs": [],
   "source": [
    "which ["
   ]
  },
  {
   "cell_type": "code",
   "execution_count": null,
   "metadata": {
    "slideshow": {
     "slide_type": "subslide"
    }
   },
   "outputs": [],
   "source": [
    "ls -l /bin/["
   ]
  },
  {
   "cell_type": "code",
   "execution_count": null,
   "metadata": {
    "slideshow": {
     "slide_type": "fragment"
    }
   },
   "outputs": [],
   "source": [
    "ls -l /bin/test"
   ]
  },
  {
   "cell_type": "markdown",
   "metadata": {
    "slideshow": {
     "slide_type": "fragment"
    }
   },
   "source": [
    "Oznacza to, że '`[`' jest programem, tak jak `ls` i inne programy, więc muszą go otaczać spacje:\n",
    "\n",
    "```sh\n",
    "if [$foo = \"bar\" ]\n",
    "```"
   ]
  },
  {
   "cell_type": "markdown",
   "metadata": {
    "slideshow": {
     "slide_type": "fragment"
    }
   },
   "source": [
    "nie będzie działać; jest interpretowane tak: `if test $ foo = \"bar\"]`, co oznacza '`]`' bez początkowego '`[`'."
   ]
  },
  {
   "cell_type": "markdown",
   "metadata": {
    "slideshow": {
     "slide_type": "subslide"
    }
   },
   "source": [
    "Umieśćcie spacje wokół wszystkich swoich operatorów.\n",
    "\n",
    "Podkreślono obowiązkowe spacje słowem „SPACJA” - zamieńcie „SPACJA” na rzeczywistą spację; jeśli nie ma tam spacji, to nie zadziała:\n",
    "\n",
    "```sh\n",
    "if SPACJA [ SPACJA \"$foo\" SPACJA = SPACJA \"bar\" SPACJA ]\n",
    "```"
   ]
  },
  {
   "cell_type": "markdown",
   "metadata": {
    "slideshow": {
     "slide_type": "fragment"
    }
   },
   "source": [
    "Uwaga: Niektóre powłoki akceptują również „`==`” do porównywania łańcuchów; to nie jest przenośne, powinno się używać pojedynczego „`=`” dla łańcuchów lub „`-eq`” dla liczb całkowitych.\n",
    "\n",
    "Test jest prostym, ale potężnym narzędziem porównawczym. Aby uzyskać szczegółowe informacje, w tym zestaw porównań `test`owych, uruchomcie `man test` w swoim systemie, ale oto kilka zastosowań i typowe przykłady."
   ]
  },
  {
   "cell_type": "markdown",
   "metadata": {
    "slideshow": {
     "slide_type": "slide"
    }
   },
   "source": [
    "#### If .. Then .. Else\n",
    "\n",
    "Test jest najczęściej wywoływany pośrednio za pomocą instrukcji `if` i `while`. Jest to również powód, dla którego napotkacie trudności, jeśli utworzycie program nazwany `test` i spróbujecie go uruchomić, ponieważ ta wbudowana powłoka zostanie wywołana zamiast Waszego programu!\\\n",
    "Składnia `if ... then ... else ...` to:\n",
    "\n",
    "```sh\n",
    "if [ ... ]\n",
    "then\n",
    "  # kod if\n",
    "else\n",
    "  # kod else\n",
    "fi\n",
    "```"
   ]
  },
  {
   "cell_type": "markdown",
   "metadata": {
    "slideshow": {
     "slide_type": "subslide"
    }
   },
   "source": [
    "Zwróćcie uwagę na składnię - polecenia „`if [...]`” i „`then`” muszą znajdować się w różnych wierszach. Alternatywnie, średnik \"`;`\" można je rozdzielić:\n",
    "\n",
    "```sh\n",
    "if [ ... ]; then\n",
    "  # zrób coś\n",
    "fi\n",
    "```"
   ]
  },
  {
   "cell_type": "markdown",
   "metadata": {
    "slideshow": {
     "slide_type": "subslide"
    }
   },
   "source": [
    "Możesz także użyć `elif`, na przykład:\n",
    "\n",
    "```sh\n",
    "if  [ something ]; then\n",
    " echo \"Coś\"\n",
    " elif [ something_else ]; then\n",
    "   echo \"Coś innego\"\n",
    " else\n",
    "   echo \"Żadne z powyższych\"\n",
    "fi\n",
    "```\n",
    "\n",
    "Jeśli test `[ something ]` się powiedzie, zrobi `echo „coś”`. W przeciwnym razie przetestuje `[ something_else ]` i zrobi `echo „Coś innego”`, jeśli to się powiedzie. Jeśli wszystko inne zawiedzie, zrobi się `echo „Żadne z powyższych”`."
   ]
  },
  {
   "cell_type": "code",
   "execution_count": null,
   "metadata": {
    "slideshow": {
     "slide_type": "skip"
    }
   },
   "outputs": [],
   "source": []
  }
 ],
 "metadata": {
  "celltoolbar": "Slideshow",
  "kernelspec": {
   "display_name": "Bash",
   "language": "bash",
   "name": "bash"
  },
  "language_info": {
   "codemirror_mode": "shell",
   "file_extension": ".sh",
   "mimetype": "text/x-sh",
   "name": "bash"
  }
 },
 "nbformat": 4,
 "nbformat_minor": 4
}
