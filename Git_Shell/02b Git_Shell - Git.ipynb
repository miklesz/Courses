{
 "cells": [
  {
   "cell_type": "markdown",
   "metadata": {
    "slideshow": {
     "slide_type": "slide"
    }
   },
   "source": [
    "# Git/Shell - Git\n",
    "_Mikołaj Leszczuk_\n",
    "![](https://miro.medium.com/max/600/0*VcMPr1unIjAIHw2j.jpg)"
   ]
  },
  {
   "cell_type": "markdown",
   "metadata": {
    "slideshow": {
     "slide_type": "subslide"
    }
   },
   "source": [
    "W tym module nauczymy się podstaw obsługi gita z poziomu terminala.\n",
    "\n",
    "Dowiemy się jak skonfigurować gita oraz GitHuba, żeby nam poprawnie działały. Poznamy podstawowe słownictwo i komendy:\n",
    "\n",
    "* tworzenia pustego repozytorium,\n",
    "* ściągania istniejącego repozytorium,\n",
    "* sprawdzania stanu repozytorium,\n",
    "* zapisywania zmian,\n",
    "* przeglądania historii, przywracanie wersji historycznych.\n",
    "\n",
    "Ponadto poznamy sposoby na pracę zespołową, gałęzie i metody rozwiązywania konfliktów"
   ]
  },
  {
   "cell_type": "markdown",
   "metadata": {
    "slideshow": {
     "slide_type": "slide"
    }
   },
   "source": [
    "### Pierwsze kroki - konfiguracja Git\n",
    "\n",
    "Przed uruchomieniem po raz pierwszy Gita musimy skonfigurować jego środowisko. Git potrzebuje od nas informacji o\n",
    "\n",
    "* naszej tożsamości \n",
    "* naszym e-mailu\n",
    "\n",
    "W linii poleceń (inaczej nazywanej konsolą czyli tekstowym trybie użytkownika) polecenia Gita podawane są jako `git polecenie opcje`, gdzie `polecenie` to rzecz, którą chcemy zrobić a `opcje` zawierają dodatkowe informacje, które mogą być potrzebne dla `polecenia`."
   ]
  },
  {
   "cell_type": "markdown",
   "metadata": {
    "slideshow": {
     "slide_type": "slide"
    }
   },
   "source": [
    "#### Informacja o użytkowniku\n",
    "\n",
    "Najpierw podajmy informacje o użytkowniku"
   ]
  },
  {
   "cell_type": "code",
   "execution_count": 1,
   "metadata": {
    "scrolled": false,
    "slideshow": {
     "slide_type": "fragment"
    }
   },
   "outputs": [],
   "source": [
    "git config --global user.name \"Mikołaj Leszczuk\""
   ]
  },
  {
   "cell_type": "code",
   "execution_count": 2,
   "metadata": {
    "scrolled": false,
    "slideshow": {
     "slide_type": "fragment"
    }
   },
   "outputs": [],
   "source": [
    "git config --global user.email \"leszczuk@agh.edu.pl\""
   ]
  },
  {
   "cell_type": "markdown",
   "metadata": {
    "slideshow": {
     "slide_type": "fragment"
    }
   },
   "source": [
    "Ponieważ używamy opcji `--global` będziemy musieli to zrobić tylko raz dla naszego konta na naszym komputerze. Dla innego komputera będziemy musieli powtórzyć tą konfigurację."
   ]
  },
  {
   "cell_type": "markdown",
   "metadata": {
    "slideshow": {
     "slide_type": "slide"
    }
   },
   "source": [
    "#### Konwersja plików\n",
    "\n",
    "Ponieważ pliki między systemami się różnią jeżeli chodzi o koniec linii może to powodować pewne różnice w zachowaniu Gita gdy pracujemy na różnych komputerach. W skrócie chodzi o to, że Windows kończy linię tekstu znakami `CRLF` a Unix (Linux oraz macOS) znakami `LF`, co powoduje, że poprawnie sformatowany plik na Unixie na Windowsach będzie traktowany jakby zawierał tylko jedną linię. Więcej informacji o tym problemie można znaleźć na stronie [Githuba](https://help.github.com/articles/dealing-with-line-endings/)."
   ]
  },
  {
   "cell_type": "markdown",
   "metadata": {
    "slideshow": {
     "slide_type": "subslide"
    }
   },
   "source": [
    "W celu uniknięcia tych problemów na Windows wykonajmy polecenie:"
   ]
  },
  {
   "cell_type": "code",
   "execution_count": 3,
   "metadata": {
    "scrolled": false,
    "slideshow": {
     "slide_type": "fragment"
    }
   },
   "outputs": [],
   "source": [
    "git config --global core.autocrlf true"
   ]
  },
  {
   "cell_type": "markdown",
   "metadata": {
    "slideshow": {
     "slide_type": "fragment"
    }
   },
   "source": [
    "a na macOS oraz Linux:"
   ]
  },
  {
   "cell_type": "code",
   "execution_count": 4,
   "metadata": {
    "scrolled": false,
    "slideshow": {
     "slide_type": "fragment"
    }
   },
   "outputs": [],
   "source": [
    "git config --global core.autocrlf input"
   ]
  },
  {
   "cell_type": "markdown",
   "metadata": {
    "slideshow": {
     "slide_type": "slide"
    }
   },
   "source": [
    "#### Ustawienie domyślnego edytora\n",
    "\n",
    "Przy zapisywaniu kolejnych zmian do repozytorium, każda z nich musi być opisana. W tym celu Git będzie potrzebował użyć jakiegoś edytora tekstów. W naszym przypadku będzie to nano, zatem musimy dodać taką informacje do konfiguracji"
   ]
  },
  {
   "cell_type": "code",
   "execution_count": 5,
   "metadata": {
    "scrolled": false,
    "slideshow": {
     "slide_type": "fragment"
    }
   },
   "outputs": [],
   "source": [
    "git config --global core.editor \"nano -w\""
   ]
  },
  {
   "cell_type": "markdown",
   "metadata": {
    "slideshow": {
     "slide_type": "slide"
    }
   },
   "source": [
    "#### Listowanie konfiguracji\n",
    "\n",
    "Po wszyskich powyższych działaniach możemy sprawdzić czy wszystko zostało dobrze skonfigurowane"
   ]
  },
  {
   "cell_type": "code",
   "execution_count": 6,
   "metadata": {
    "scrolled": false,
    "slideshow": {
     "slide_type": "subslide"
    }
   },
   "outputs": [
    {
     "name": "stdout",
     "output_type": "stream",
     "text": [
      "credential.helper=osxkeychain\n",
      "credential.helper=osxkeychain\n",
      "filter.lfs.clean=git-lfs clean -- %f\n",
      "filter.lfs.smudge=git-lfs smudge -- %f\n",
      "filter.lfs.process=git-lfs filter-process\n",
      "filter.lfs.required=true\n",
      "user.name=Mikołaj Leszczuk\n",
      "user.email=leszczuk@agh.edu.pl\n",
      "core.autocrlf=input\n",
      "core.editor=nano -w\n",
      "http.postbuffer=100000000\n",
      "core.repositoryformatversion=0\n",
      "core.filemode=true\n",
      "core.bare=false\n",
      "core.logallrefupdates=true\n",
      "core.ignorecase=true\n",
      "core.precomposeunicode=true\n",
      "remote.origin.url=https://github.com/miklesz/Courses.git\n",
      "remote.origin.fetch=+refs/heads/*:refs/remotes/origin/*\n",
      "branch.main.remote=origin\n",
      "branch.main.merge=refs/heads/main\n",
      "remote.github-desktop-av-r0.url=https://github.com/av-r0/courses-miklesz.git\n",
      "remote.github-desktop-av-r0.fetch=+refs/heads/*:refs/remotes/github-desktop-av-r0/*\n",
      "branch.pr/2.remote=github-desktop-av-r0\n",
      "branch.pr/2.merge=refs/heads/main\n"
     ]
    }
   ],
   "source": [
    "git config --list"
   ]
  },
  {
   "cell_type": "markdown",
   "metadata": {
    "slideshow": {
     "slide_type": "subslide"
    }
   },
   "source": [
    "W przypadku jakichkolwiek problemów możemy wykonać polecenie"
   ]
  },
  {
   "cell_type": "code",
   "execution_count": 7,
   "metadata": {
    "scrolled": false,
    "slideshow": {
     "slide_type": "subslide"
    }
   },
   "outputs": [
    {
     "name": "stdout",
     "output_type": "stream",
     "text": [
      "usage: git config [<options>]\n",
      "\n",
      "Config file location\n",
      "    --global              use global config file\n",
      "    --system              use system config file\n",
      "    --local               use repository config file\n",
      "    --worktree            use per-worktree config file\n",
      "    -f, --file <file>     use given config file\n",
      "    --blob <blob-id>      read config from given blob object\n",
      "\n",
      "Action\n",
      "    --get                 get value: name [value-pattern]\n",
      "    --get-all             get all values: key [value-pattern]\n",
      "    --get-regexp          get values for regexp: name-regex [value-pattern]\n",
      "    --get-urlmatch        get value specific for the URL: section[.var] URL\n",
      "    --replace-all         replace all matching variables: name value [value-pattern]\n",
      "    --add                 add a new variable: name value\n",
      "    --unset               remove a variable: name [value-pattern]\n",
      "    --unset-all           remove all matches: name [value-pattern]\n",
      "    --rename-section      rename section: old-name new-name\n",
      "    --remove-section      remove a section: name\n",
      "    -l, --list            list all\n",
      "    --fixed-value         use string equality when comparing values to 'value-pattern'\n",
      "    -e, --edit            open an editor\n",
      "    --get-color           find the color configured: slot [default]\n",
      "    --get-colorbool       find the color setting: slot [stdout-is-tty]\n",
      "\n",
      "Type\n",
      "    -t, --type <type>     value is given this type\n",
      "    --bool                value is \"true\" or \"false\"\n",
      "    --int                 value is decimal number\n",
      "    --bool-or-int         value is --bool or --int\n",
      "    --bool-or-str         value is --bool or string\n",
      "    --path                value is a path (file or directory name)\n",
      "    --expiry-date         value is an expiry date\n",
      "\n",
      "Other\n",
      "    -z, --null            terminate values with NUL byte\n",
      "    --name-only           show variable names only\n",
      "    --includes            respect include directives on lookup\n",
      "    --show-origin         show origin of config (file, standard input, blob, command line)\n",
      "    --show-scope          show scope of config (worktree, local, global, system, command)\n",
      "    --default <value>     with --get, use default value when missing entry\n",
      "\n"
     ]
    },
    {
     "ename": "",
     "evalue": "129",
     "output_type": "error",
     "traceback": []
    }
   ],
   "source": [
    "git config -h"
   ]
  },
  {
   "cell_type": "code",
   "execution_count": 8,
   "metadata": {
    "scrolled": true,
    "slideshow": {
     "slide_type": "subslide"
    }
   },
   "outputs": [
    {
     "name": "stdout",
     "output_type": "stream",
     "text": [
      "Unknown locale, assuming C\n",
      "GIT-CONFIG(1)                     Git Manual                     GIT-CONFIG(1)\n",
      "\n",
      "NAME\n",
      "       git-config - Get and set repository or global options\n",
      "\n",
      "SYNOPSIS\n",
      "       git config [<file-option>] [--type=<type>] [--fixed-value] [--show-origin] [--show-scope] [-z|--null] <name> [<value> [<value-pattern>]]\n",
      "       git config [<file-option>] [--type=<type>] --add <name> <value>\n",
      "       git config [<file-option>] [--type=<type>] [--fixed-value] --replace-all <name> <value> [<value-pattern>]\n",
      "       git config [<file-option>] [--type=<type>] [--show-origin] [--show-scope] [-z|--null] [--fixed-value] --get <name> [<value-pattern>]\n",
      "       git config [<file-option>] [--type=<type>] [--show-origin] [--show-scope] [-z|--null] [--fixed-value] --get-all <name> [<value-pattern>]\n",
      "       git config [<file-option>] [--type=<type>] [--show-origin] [--show-scope] [-z|--null] [--fixed-value] [--name-only] --get-regexp <name-regex> [<value-pattern>]\n",
      "       git config [<file-option>] [--type=<type>] [-z|--null] --get-urlmatch <name> <URL>\n",
      "       git config [<file-option>] [--fixed-value] --unset <name> [<value-pattern>]\n",
      "       git config [<file-option>] [--fixed-value] --unset-all <name> [<value-pattern>]\n",
      "       git config [<file-option>] --rename-section <old-name> <new-name>\n",
      "       git config [<file-option>] --remove-section <name>\n",
      "       git config [<file-option>] [--show-origin] [--show-scope] [-z|--null] [--name-only] -l | --list\n",
      "       git config [<file-option>] --get-color <name> [<default>]\n",
      "       git config [<file-option>] --get-colorbool <name> [<stdout-is-tty>]\n",
      "       git config [<file-option>] -e | --edit\n",
      "\n",
      "\n",
      "DESCRIPTION\n",
      "       You can query/set/replace/unset options with this command. The name is\n",
      "       actually the section and the key separated by a dot, and the value will\n",
      "       be escaped.\n",
      "\n",
      "       Multiple lines can be added to an option by using the --add option. If\n",
      "       you want to update or unset an option which can occur on multiple\n",
      "       lines, a value-pattern (which is an extended regular expression, unless\n",
      "       the --fixed-value option is given) needs to be given. Only the existing\n",
      "       values that match the pattern are updated or unset. If you want to\n",
      "       handle the lines that do not match the pattern, just prepend a single\n",
      "       exclamation mark in front (see also the section called “EXAMPLES”), but\n",
      "       note that this only works when the --fixed-value option is not in use.\n",
      "\n",
      "       The --type=<type> option instructs git config to ensure that incoming\n",
      "       and outgoing values are canonicalize-able under the given <type>. If no\n",
      "       --type=<type> is given, no canonicalization will be performed. Callers\n",
      "       may unset an existing --type specifier with --no-type.\n",
      "\n",
      "       When reading, the values are read from the system, global and\n",
      "       repository local configuration files by default, and options --system,\n",
      "       --global, --local, --worktree and --file <filename> can be used to tell\n",
      "       the command to read from only that location (see the section called\n",
      "       “FILES”).\n",
      "\n",
      "       When writing, the new value is written to the repository local\n",
      "       configuration file by default, and options --system, --global,\n",
      "       --worktree, --file <filename> can be used to tell the command to write\n",
      "       to that location (you can say --local but that is the default).\n",
      "\n",
      "       This command will fail with non-zero status upon error. Some exit codes\n",
      "       are:\n",
      "\n",
      "       •   The section or key is invalid (ret=1),\n",
      "\n",
      "       •   no section or name was provided (ret=2),\n",
      "\n",
      "       •   the config file is invalid (ret=3),\n",
      "\n",
      "       •   the config file cannot be written (ret=4),\n",
      "\n",
      "       •   you try to unset an option which does not exist (ret=5),\n",
      "\n",
      "       •   you try to unset/set an option for which multiple lines match\n",
      "           (ret=5), or\n",
      "\n",
      "       •   you try to use an invalid regexp (ret=6).\n",
      "\n",
      "       On success, the command returns the exit code 0.\n",
      "\n",
      "       A list of all available configuration variables can be obtained using\n",
      "       the git help --config command.\n",
      "\n",
      "OPTIONS\n",
      "       --replace-all\n",
      "           Default behavior is to replace at most one line. This replaces all\n",
      "           lines matching the key (and optionally the value-pattern).\n",
      "\n",
      "       --add\n",
      "           Adds a new line to the option without altering any existing values.\n",
      "           This is the same as providing ^$ as the value-pattern in\n",
      "           --replace-all.\n",
      "\n",
      "       --get\n",
      "           Get the value for a given key (optionally filtered by a regex\n",
      "           matching the value). Returns error code 1 if the key was not found\n",
      "           and the last value if multiple key values were found.\n",
      "\n",
      "       --get-all\n",
      "           Like get, but returns all values for a multi-valued key.\n",
      "\n",
      "       --get-regexp\n",
      "           Like --get-all, but interprets the name as a regular expression and\n",
      "           writes out the key names. Regular expression matching is currently\n",
      "           case-sensitive and done against a canonicalized version of the key\n",
      "           in which section and variable names are lowercased, but subsection\n",
      "           names are not.\n",
      "\n",
      "       --get-urlmatch <name> <URL>\n",
      "           When given a two-part name section.key, the value for\n",
      "           section.<URL>.key whose <URL> part matches the best to the given\n",
      "           URL is returned (if no such key exists, the value for section.key\n",
      "           is used as a fallback). When given just the section as name, do so\n",
      "           for all the keys in the section and list them. Returns error code 1\n",
      "           if no value is found.\n",
      "\n",
      "       --global\n",
      "           For writing options: write to global ~/.gitconfig file rather than\n",
      "           the repository .git/config, write to $XDG_CONFIG_HOME/git/config\n",
      "           file if this file exists and the ~/.gitconfig file doesn’t.\n",
      "\n",
      "           For reading options: read only from global ~/.gitconfig and from\n",
      "           $XDG_CONFIG_HOME/git/config rather than from all available files.\n",
      "\n",
      "           See also the section called “FILES”.\n",
      "\n",
      "       --system\n",
      "           For writing options: write to system-wide $(prefix)/etc/gitconfig\n",
      "           rather than the repository .git/config.\n",
      "\n",
      "           For reading options: read only from system-wide\n",
      "           $(prefix)/etc/gitconfig rather than from all available files.\n",
      "\n",
      "           See also the section called “FILES”.\n",
      "\n",
      "       --local\n",
      "           For writing options: write to the repository .git/config file. This\n",
      "           is the default behavior.\n",
      "\n",
      "           For reading options: read only from the repository .git/config\n",
      "           rather than from all available files.\n",
      "\n",
      "           See also the section called “FILES”.\n",
      "\n",
      "       --worktree\n",
      "           Similar to --local except that $GIT_DIR/config.worktree is read\n",
      "           from or written to if extensions.worktreeConfig is enabled. If not\n",
      "           it’s the same as --local. Note that $GIT_DIR is equal to\n",
      "           $GIT_COMMON_DIR for the main working tree, but is of the form\n",
      "           $GIT_DIR/worktrees/<id>/ for other working trees. See git-\n",
      "           worktree(1) to learn how to enable extensions.worktreeConfig.\n",
      "\n",
      "       -f <config-file>, --file <config-file>\n",
      "           For writing options: write to the specified file rather than the\n",
      "           repository .git/config.\n",
      "\n",
      "           For reading options: read only from the specified file rather than\n",
      "           from all available files.\n",
      "\n",
      "           See also the section called “FILES”.\n",
      "\n",
      "       --blob <blob>\n",
      "           Similar to --file but use the given blob instead of a file. E.g.\n",
      "           you can use master:.gitmodules to read values from the file\n",
      "           .gitmodules in the master branch. See \"SPECIFYING REVISIONS\"\n",
      "           section in gitrevisions(7) for a more complete list of ways to\n",
      "           spell blob names.\n",
      "\n",
      "       --remove-section\n",
      "           Remove the given section from the configuration file.\n",
      "\n",
      "       --rename-section\n",
      "           Rename the given section to a new name.\n",
      "\n",
      "       --unset\n",
      "           Remove the line matching the key from config file.\n",
      "\n",
      "       --unset-all\n",
      "           Remove all lines matching the key from config file.\n",
      "\n",
      "       -l, --list\n",
      "           List all variables set in config file, along with their values.\n",
      "\n",
      "       --fixed-value\n",
      "           When used with the value-pattern argument, treat value-pattern as\n"
     ]
    },
    {
     "name": "stdout",
     "output_type": "stream",
     "text": [
      "           an exact string instead of a regular expression. This will restrict\n",
      "           the name/value pairs that are matched to only those where the value\n",
      "           is exactly equal to the value-pattern.\n",
      "\n",
      "       --type <type>\n",
      "           git config will ensure that any input or output is valid under the\n",
      "           given type constraint(s), and will canonicalize outgoing values in\n",
      "           <type>'s canonical form.\n",
      "\n",
      "           Valid <type>'s include:\n",
      "\n",
      "           •   bool: canonicalize values as either \"true\" or \"false\".\n",
      "\n",
      "           •   int: canonicalize values as simple decimal numbers. An optional\n",
      "               suffix of k, m, or g will cause the value to be multiplied by\n",
      "               1024, 1048576, or 1073741824 upon input.\n",
      "\n",
      "           •   bool-or-int: canonicalize according to either bool or int, as\n",
      "               described above.\n",
      "\n",
      "           •   path: canonicalize by adding a leading ~ to the value of $HOME\n",
      "               and ~user to the home directory for the specified user. This\n",
      "               specifier has no effect when setting the value (but you can use\n",
      "               git config section.variable ~/ from the command line to let\n",
      "               your shell do the expansion.)\n",
      "\n",
      "           •   expiry-date: canonicalize by converting from a fixed or\n",
      "               relative date-string to a timestamp. This specifier has no\n",
      "               effect when setting the value.\n",
      "\n",
      "           •   color: When getting a value, canonicalize by converting to an\n",
      "               ANSI color escape sequence. When setting a value, a\n",
      "               sanity-check is performed to ensure that the given value is\n",
      "               canonicalize-able as an ANSI color, but it is written as-is.\n",
      "\n",
      "       --bool, --int, --bool-or-int, --path, --expiry-date\n",
      "           Historical options for selecting a type specifier. Prefer instead\n",
      "           --type (see above).\n",
      "\n",
      "       --no-type\n",
      "           Un-sets the previously set type specifier (if one was previously\n",
      "           set). This option requests that git config not canonicalize the\n",
      "           retrieved variable.  --no-type has no effect without --type=<type>\n",
      "           or --<type>.\n",
      "\n",
      "       -z, --null\n",
      "           For all options that output values and/or keys, always end values\n",
      "           with the null character (instead of a newline). Use newline instead\n",
      "           as a delimiter between key and value. This allows for secure\n",
      "           parsing of the output without getting confused e.g. by values that\n",
      "           contain line breaks.\n",
      "\n",
      "       --name-only\n",
      "           Output only the names of config variables for --list or\n",
      "           --get-regexp.\n",
      "\n",
      "       --show-origin\n",
      "           Augment the output of all queried config options with the origin\n",
      "           type (file, standard input, blob, command line) and the actual\n",
      "           origin (config file path, ref, or blob id if applicable).\n",
      "\n",
      "       --show-scope\n",
      "           Similar to --show-origin in that it augments the output of all\n",
      "           queried config options with the scope of that value (worktree,\n",
      "           local, global, system, command).\n",
      "\n",
      "       --get-colorbool <name> [<stdout-is-tty>]\n",
      "           Find the color setting for <name> (e.g.  color.diff) and output\n",
      "           \"true\" or \"false\".  <stdout-is-tty> should be either \"true\" or\n",
      "           \"false\", and is taken into account when configuration says \"auto\".\n",
      "           If <stdout-is-tty> is missing, then checks the standard output of\n",
      "           the command itself, and exits with status 0 if color is to be used,\n",
      "           or exits with status 1 otherwise. When the color setting for name\n",
      "           is undefined, the command uses color.ui as fallback.\n",
      "\n",
      "       --get-color <name> [<default>]\n",
      "           Find the color configured for name (e.g.  color.diff.new) and\n",
      "           output it as the ANSI color escape sequence to the standard output.\n",
      "           The optional default parameter is used instead, if there is no\n",
      "           color configured for name.\n",
      "\n",
      "           --type=color [--default=<default>] is preferred over --get-color\n",
      "           (but note that --get-color will omit the trailing newline printed\n",
      "           by --type=color).\n",
      "\n",
      "       -e, --edit\n",
      "           Opens an editor to modify the specified config file; either\n",
      "           --system, --global, or repository (default).\n",
      "\n",
      "       --[no-]includes\n",
      "           Respect include.* directives in config files when looking up\n",
      "           values. Defaults to off when a specific file is given (e.g., using\n",
      "           --file, --global, etc) and on when searching all config files.\n",
      "\n",
      "       --default <value>\n",
      "           When using --get, and the requested variable is not found, behave\n",
      "           as if <value> were the value assigned to the that variable.\n",
      "\n",
      "CONFIGURATION\n",
      "       pager.config is only respected when listing configuration, i.e., when\n",
      "       using --list or any of the --get-* which may return multiple results.\n",
      "       The default is to use a pager.\n",
      "\n",
      "FILES\n",
      "       By default, git config will read configuration options from multiple\n",
      "       files:\n",
      "\n",
      "       $(prefix)/etc/gitconfig\n",
      "           System-wide configuration file.\n",
      "\n",
      "       $XDG_CONFIG_HOME/git/config, ~/.gitconfig\n",
      "           User-specific configuration files. When the XDG_CONFIG_HOME\n",
      "           environment variable is not set or empty, $HOME/.config/ is used as\n",
      "           $XDG_CONFIG_HOME.\n",
      "\n",
      "           These are also called \"global\" configuration files. If both files\n",
      "           exist, both files are read in the order given above.\n",
      "\n",
      "       $GIT_DIR/config\n",
      "           Repository specific configuration file.\n",
      "\n",
      "       $GIT_DIR/config.worktree\n",
      "           This is optional and is only searched when\n",
      "           extensions.worktreeConfig is present in $GIT_DIR/config.\n",
      "\n",
      "       You may also provide additional configuration parameters when running\n",
      "       any git command by using the -c option. See git(1) for details.\n",
      "\n",
      "       Options will be read from all of these files that are available. If the\n",
      "       global or the system-wide configuration files are missing or unreadable\n",
      "       they will be ignored. If the repository configuration file is missing\n",
      "       or unreadable, git config will exit with a non-zero error code. An\n",
      "       error message is produced if the file is unreadable, but not if it is\n",
      "       missing.\n",
      "\n",
      "       The files are read in the order given above, with last value found\n",
      "       taking precedence over values read earlier. When multiple values are\n",
      "       taken then all values of a key from all files will be used.\n",
      "\n",
      "       By default, options are only written to the repository specific\n",
      "       configuration file. Note that this also affects options like\n",
      "       --replace-all and --unset. git config will only ever change one file at\n",
      "       a time.\n",
      "\n",
      "       You can limit which configuration sources are read from or written to\n",
      "       by specifying the path of a file with the --file option, or by\n",
      "       specifying a configuration scope with --system, --global, --local, or\n",
      "       --worktree. For more, see the section called “OPTIONS” above.\n",
      "\n",
      "SCOPES\n",
      "       Each configuration source falls within a configuration scope. The\n",
      "       scopes are:\n",
      "\n",
      "       system\n",
      "           $(prefix)/etc/gitconfig\n",
      "\n",
      "       global\n",
      "           $XDG_CONFIG_HOME/git/config\n",
      "\n",
      "           ~/.gitconfig\n",
      "\n",
      "       local\n",
      "           $GIT_DIR/config\n",
      "\n",
      "       worktree\n",
      "           $GIT_DIR/config.worktree\n",
      "\n",
      "       command\n",
      "           GIT_CONFIG_{COUNT,KEY,VALUE} environment variables (see the section\n",
      "           called “ENVIRONMENT” below)\n",
      "\n",
      "           the -c option\n",
      "\n",
      "       With the exception of command, each scope corresponds to a command line\n",
      "       option: --system, --global, --local, --worktree.\n",
      "\n",
      "       When reading options, specifying a scope will only read options from\n",
      "       the files within that scope. When writing options, specifying a scope\n",
      "       will write to the files within that scope (instead of the repository\n",
      "       specific configuration file). See the section called “OPTIONS” above\n",
      "       for a complete description.\n",
      "\n",
      "       Most configuration options are respected regardless of the scope it is\n",
      "       defined in, but some options are only respected in certain scopes. See\n",
      "       the respective option’s documentation for the full details.\n",
      "\n",
      "   Protected configuration\n",
      "       Protected configuration refers to the system, global, and command\n"
     ]
    },
    {
     "name": "stdout",
     "output_type": "stream",
     "text": [
      "       scopes. For security reasons, certain options are only respected when\n",
      "       they are specified in protected configuration, and ignored otherwise.\n",
      "\n",
      "       Git treats these scopes as if they are controlled by the user or a\n",
      "       trusted administrator. This is because an attacker who controls these\n",
      "       scopes can do substantial harm without using Git, so it is assumed that\n",
      "       the user’s environment protects these scopes against attackers.\n",
      "\n",
      "ENVIRONMENT\n",
      "       GIT_CONFIG_GLOBAL, GIT_CONFIG_SYSTEM\n",
      "           Take the configuration from the given files instead from global or\n",
      "           system-level configuration. See git(1) for details.\n",
      "\n",
      "       GIT_CONFIG_NOSYSTEM\n",
      "           Whether to skip reading settings from the system-wide\n",
      "           $(prefix)/etc/gitconfig file. See git(1) for details.\n",
      "\n",
      "       See also the section called “FILES”.\n",
      "\n",
      "       GIT_CONFIG_COUNT, GIT_CONFIG_KEY_<n>, GIT_CONFIG_VALUE_<n>\n",
      "           If GIT_CONFIG_COUNT is set to a positive number, all environment\n",
      "           pairs GIT_CONFIG_KEY_<n> and GIT_CONFIG_VALUE_<n> up to that number\n",
      "           will be added to the process’s runtime configuration. The config\n",
      "           pairs are zero-indexed. Any missing key or value is treated as an\n",
      "           error. An empty GIT_CONFIG_COUNT is treated the same as\n",
      "           GIT_CONFIG_COUNT=0, namely no pairs are processed. These\n",
      "           environment variables will override values in configuration files,\n",
      "           but will be overridden by any explicit options passed via git -c.\n",
      "\n",
      "           This is useful for cases where you want to spawn multiple git\n",
      "           commands with a common configuration but cannot depend on a\n",
      "           configuration file, for example when writing scripts.\n",
      "\n",
      "       GIT_CONFIG\n",
      "           If no --file option is provided to git config, use the file given\n",
      "           by GIT_CONFIG as if it were provided via --file. This variable has\n",
      "           no effect on other Git commands, and is mostly for historical\n",
      "           compatibility; there is generally no reason to use it instead of\n",
      "           the --file option.\n",
      "\n",
      "EXAMPLES\n",
      "       Given a .git/config like this:\n",
      "\n",
      "           #\n",
      "           # This is the config file, and\n",
      "           # a '#' or ';' character indicates\n",
      "           # a comment\n",
      "           #\n",
      "\n",
      "           ; core variables\n",
      "           [core]\n",
      "                   ; Don't trust file modes\n",
      "                   filemode = false\n",
      "\n",
      "           ; Our diff algorithm\n",
      "           [diff]\n",
      "                   external = /usr/local/bin/diff-wrapper\n",
      "                   renames = true\n",
      "\n",
      "           ; Proxy settings\n",
      "           [core]\n",
      "                   gitproxy=proxy-command for kernel.org\n",
      "                   gitproxy=default-proxy ; for all the rest\n",
      "\n",
      "           ; HTTP\n",
      "           [http]\n",
      "                   sslVerify\n",
      "           [http \"https://weak.example.com\"]\n",
      "                   sslVerify = false\n",
      "                   cookieFile = /tmp/cookie.txt\n",
      "\n",
      "\n",
      "       you can set the filemode to true with\n",
      "\n",
      "           % git config core.filemode true\n",
      "\n",
      "\n",
      "       The hypothetical proxy command entries actually have a postfix to\n",
      "       discern what URL they apply to. Here is how to change the entry for\n",
      "       kernel.org to \"ssh\".\n",
      "\n",
      "           % git config core.gitproxy '\"ssh\" for kernel.org' 'for kernel.org$'\n",
      "\n",
      "\n",
      "       This makes sure that only the key/value pair for kernel.org is\n",
      "       replaced.\n",
      "\n",
      "       To delete the entry for renames, do\n",
      "\n",
      "           % git config --unset diff.renames\n",
      "\n",
      "\n",
      "       If you want to delete an entry for a multivar (like core.gitproxy\n",
      "       above), you have to provide a regex matching the value of exactly one\n",
      "       line.\n",
      "\n",
      "       To query the value for a given key, do\n",
      "\n",
      "           % git config --get core.filemode\n",
      "\n",
      "\n",
      "       or\n",
      "\n",
      "           % git config core.filemode\n",
      "\n",
      "\n",
      "       or, to query a multivar:\n",
      "\n",
      "           % git config --get core.gitproxy \"for kernel.org$\"\n",
      "\n",
      "\n",
      "       If you want to know all the values for a multivar, do:\n",
      "\n",
      "           % git config --get-all core.gitproxy\n",
      "\n",
      "\n",
      "       If you like to live dangerously, you can replace all core.gitproxy by a\n",
      "       new one with\n",
      "\n",
      "           % git config --replace-all core.gitproxy ssh\n",
      "\n",
      "\n",
      "       However, if you really only want to replace the line for the default\n",
      "       proxy, i.e. the one without a \"for ...\" postfix, do something like\n",
      "       this:\n",
      "\n",
      "           % git config core.gitproxy ssh '! for '\n",
      "\n",
      "\n",
      "       To actually match only values with an exclamation mark, you have to\n",
      "\n",
      "           % git config section.key value '[!]'\n",
      "\n",
      "\n",
      "       To add a new proxy, without altering any of the existing ones, use\n",
      "\n",
      "           % git config --add core.gitproxy '\"proxy-command\" for example.com'\n",
      "\n",
      "\n",
      "       An example to use customized color from the configuration in your\n",
      "       script:\n",
      "\n",
      "           #!/bin/sh\n",
      "           WS=$(git config --get-color color.diff.whitespace \"blue reverse\")\n",
      "           RESET=$(git config --get-color \"\" \"reset\")\n",
      "           echo \"${WS}your whitespace color or blue reverse${RESET}\"\n",
      "\n",
      "\n",
      "       For URLs in https://weak.example.com, http.sslVerify is set to false,\n",
      "       while it is set to true for all others:\n",
      "\n",
      "           % git config --type=bool --get-urlmatch http.sslverify https://good.example.com\n",
      "           true\n",
      "           % git config --type=bool --get-urlmatch http.sslverify https://weak.example.com\n",
      "           false\n",
      "           % git config --get-urlmatch http https://weak.example.com\n",
      "           http.cookieFile /tmp/cookie.txt\n",
      "           http.sslverify false\n",
      "\n",
      "\n",
      "CONFIGURATION FILE\n",
      "       The Git configuration file contains a number of variables that affect\n",
      "       the Git commands' behavior. The files .git/config and optionally\n",
      "       config.worktree (see the \"CONFIGURATION FILE\" section of git-\n",
      "       worktree(1)) in each repository are used to store the configuration for\n",
      "       that repository, and $HOME/.gitconfig is used to store a per-user\n",
      "       configuration as fallback values for the .git/config file. The file\n",
      "       /etc/gitconfig can be used to store a system-wide default\n",
      "       configuration.\n",
      "\n",
      "       The configuration variables are used by both the Git plumbing and the\n",
      "       porcelains. The variables are divided into sections, wherein the fully\n",
      "       qualified variable name of the variable itself is the last\n",
      "       dot-separated segment and the section name is everything before the\n",
      "       last dot. The variable names are case-insensitive, allow only\n",
      "       alphanumeric characters and -, and must start with an alphabetic\n",
      "       character. Some variables may appear multiple times; we say then that\n",
      "       the variable is multivalued.\n",
      "\n",
      "   Syntax\n",
      "       The syntax is fairly flexible and permissive; whitespaces are mostly\n",
      "       ignored. The # and ; characters begin comments to the end of line,\n",
      "       blank lines are ignored.\n",
      "\n",
      "       The file consists of sections and variables. A section begins with the\n",
      "       name of the section in square brackets and continues until the next\n",
      "       section begins. Section names are case-insensitive. Only alphanumeric\n",
      "       characters, - and . are allowed in section names. Each variable must\n",
      "       belong to some section, which means that there must be a section header\n",
      "       before the first setting of a variable.\n",
      "\n",
      "       Sections can be further divided into subsections. To begin a subsection\n",
      "       put its name in double quotes, separated by space from the section\n",
      "       name, in the section header, like in the example below:\n",
      "\n",
      "                   [section \"subsection\"]\n",
      "\n",
      "\n",
      "       Subsection names are case sensitive and can contain any characters\n",
      "       except newline and the null byte. Doublequote \" and backslash can be\n",
      "       included by escaping them as \\\" and \\\\, respectively. Backslashes\n",
      "       preceding other characters are dropped when reading; for example, \\t is\n",
      "       read as t and \\0 is read as 0. Section headers cannot span multiple\n",
      "       lines. Variables may belong directly to a section or to a given\n",
      "       subsection. You can have [section] if you have [section \"subsection\"],\n",
      "       but you don’t need to.\n",
      "\n",
      "       There is also a deprecated [section.subsection] syntax. With this\n",
      "       syntax, the subsection name is converted to lower-case and is also\n",
      "       compared case sensitively. These subsection names follow the same\n",
      "       restrictions as section names.\n"
     ]
    },
    {
     "name": "stdout",
     "output_type": "stream",
     "text": [
      "\n",
      "       All the other lines (and the remainder of the line after the section\n",
      "       header) are recognized as setting variables, in the form name = value\n",
      "       (or just name, which is a short-hand to say that the variable is the\n",
      "       boolean \"true\"). The variable names are case-insensitive, allow only\n",
      "       alphanumeric characters and -, and must start with an alphabetic\n",
      "       character.\n",
      "\n",
      "       A line that defines a value can be continued to the next line by ending\n",
      "       it with a \\; the backslash and the end-of-line are stripped. Leading\n",
      "       whitespaces after name =, the remainder of the line after the first\n",
      "       comment character # or ;, and trailing whitespaces of the line are\n",
      "       discarded unless they are enclosed in double quotes. Internal\n",
      "       whitespaces within the value are retained verbatim.\n",
      "\n",
      "       Inside double quotes, double quote \" and backslash \\ characters must be\n",
      "       escaped: use \\\" for \" and \\\\ for \\.\n",
      "\n",
      "       The following escape sequences (beside \\\" and \\\\) are recognized: \\n\n",
      "       for newline character (NL), \\t for horizontal tabulation (HT, TAB) and\n",
      "       \\b for backspace (BS). Other char escape sequences (including octal\n",
      "       escape sequences) are invalid.\n",
      "\n",
      "   Includes\n",
      "       The include and includeIf sections allow you to include config\n",
      "       directives from another source. These sections behave identically to\n",
      "       each other with the exception that includeIf sections may be ignored if\n",
      "       their condition does not evaluate to true; see \"Conditional includes\"\n",
      "       below.\n",
      "\n",
      "       You can include a config file from another by setting the special\n",
      "       include.path (or includeIf.*.path) variable to the name of the file to\n",
      "       be included. The variable takes a pathname as its value, and is subject\n",
      "       to tilde expansion. These variables can be given multiple times.\n",
      "\n",
      "       The contents of the included file are inserted immediately, as if they\n",
      "       had been found at the location of the include directive. If the value\n",
      "       of the variable is a relative path, the path is considered to be\n",
      "       relative to the configuration file in which the include directive was\n",
      "       found. See below for examples.\n",
      "\n",
      "   Conditional includes\n",
      "       You can include a config file from another conditionally by setting a\n",
      "       includeIf.<condition>.path variable to the name of the file to be\n",
      "       included.\n",
      "\n",
      "       The condition starts with a keyword followed by a colon and some data\n",
      "       whose format and meaning depends on the keyword. Supported keywords\n",
      "       are:\n",
      "\n",
      "       gitdir\n",
      "           The data that follows the keyword gitdir: is used as a glob\n",
      "           pattern. If the location of the .git directory matches the pattern,\n",
      "           the include condition is met.\n",
      "\n",
      "           The .git location may be auto-discovered, or come from $GIT_DIR\n",
      "           environment variable. If the repository is auto discovered via a\n",
      "           .git file (e.g. from submodules, or a linked worktree), the .git\n",
      "           location would be the final location where the .git directory is,\n",
      "           not where the .git file is.\n",
      "\n",
      "           The pattern can contain standard globbing wildcards and two\n",
      "           additional ones, **/ and /**, that can match multiple path\n",
      "           components. Please refer to gitignore(5) for details. For\n",
      "           convenience:\n",
      "\n",
      "           •   If the pattern starts with ~/, ~ will be substituted with the\n",
      "               content of the environment variable HOME.\n",
      "\n",
      "           •   If the pattern starts with ./, it is replaced with the\n",
      "               directory containing the current config file.\n",
      "\n",
      "           •   If the pattern does not start with either ~/, ./ or /, **/ will\n",
      "               be automatically prepended. For example, the pattern foo/bar\n",
      "               becomes **/foo/bar and would match /any/path/to/foo/bar.\n",
      "\n",
      "           •   If the pattern ends with /, ** will be automatically added. For\n",
      "               example, the pattern foo/ becomes foo/**. In other words, it\n",
      "               matches \"foo\" and everything inside, recursively.\n",
      "\n",
      "       gitdir/i\n",
      "           This is the same as gitdir except that matching is done\n",
      "           case-insensitively (e.g. on case-insensitive file systems)\n",
      "\n",
      "       onbranch\n",
      "           The data that follows the keyword onbranch: is taken to be a\n",
      "           pattern with standard globbing wildcards and two additional ones,\n",
      "           **/ and /**, that can match multiple path components. If we are in\n",
      "           a worktree where the name of the branch that is currently checked\n",
      "           out matches the pattern, the include condition is met.\n",
      "\n",
      "           If the pattern ends with /, ** will be automatically added. For\n",
      "           example, the pattern foo/ becomes foo/**. In other words, it\n",
      "           matches all branches that begin with foo/. This is useful if your\n",
      "           branches are organized hierarchically and you would like to apply a\n",
      "           configuration to all the branches in that hierarchy.\n",
      "\n",
      "       hasconfig:remote.*.url:\n",
      "           The data that follows this keyword is taken to be a pattern with\n",
      "           standard globbing wildcards and two additional ones, **/ and /**,\n",
      "           that can match multiple components. The first time this keyword is\n",
      "           seen, the rest of the config files will be scanned for remote URLs\n",
      "           (without applying any values). If there exists at least one remote\n",
      "           URL that matches this pattern, the include condition is met.\n",
      "\n",
      "           Files included by this option (directly or indirectly) are not\n",
      "           allowed to contain remote URLs.\n",
      "\n",
      "           Note that unlike other includeIf conditions, resolving this\n",
      "           condition relies on information that is not yet known at the point\n",
      "           of reading the condition. A typical use case is this option being\n",
      "           present as a system-level or global-level config, and the remote\n",
      "           URL being in a local-level config; hence the need to scan ahead\n",
      "           when resolving this condition. In order to avoid the\n",
      "           chicken-and-egg problem in which potentially-included files can\n",
      "           affect whether such files are potentially included, Git breaks the\n",
      "           cycle by prohibiting these files from affecting the resolution of\n",
      "           these conditions (thus, prohibiting them from declaring remote\n",
      "           URLs).\n",
      "\n",
      "           As for the naming of this keyword, it is for forwards compatibiliy\n",
      "           with a naming scheme that supports more variable-based include\n",
      "           conditions, but currently Git only supports the exact keyword\n",
      "           described above.\n",
      "\n",
      "       A few more notes on matching via gitdir and gitdir/i:\n",
      "\n",
      "       •   Symlinks in $GIT_DIR are not resolved before matching.\n",
      "\n",
      "       •   Both the symlink & realpath versions of paths will be matched\n",
      "           outside of $GIT_DIR. E.g. if ~/git is a symlink to\n",
      "           /mnt/storage/git, both gitdir:~/git and gitdir:/mnt/storage/git\n",
      "           will match.\n",
      "\n",
      "           This was not the case in the initial release of this feature in\n",
      "           v2.13.0, which only matched the realpath version. Configuration\n",
      "           that wants to be compatible with the initial release of this\n",
      "           feature needs to either specify only the realpath version, or both\n",
      "           versions.\n",
      "\n",
      "       •   Note that \"../\" is not special and will match literally, which is\n",
      "           unlikely what you want.\n",
      "\n",
      "   Example\n",
      "           # Core variables\n",
      "           [core]\n",
      "                   ; Don't trust file modes\n",
      "                   filemode = false\n",
      "\n",
      "           # Our diff algorithm\n",
      "           [diff]\n",
      "                   external = /usr/local/bin/diff-wrapper\n",
      "                   renames = true\n",
      "\n",
      "           [branch \"devel\"]\n",
      "                   remote = origin\n",
      "                   merge = refs/heads/devel\n",
      "\n",
      "           # Proxy settings\n",
      "           [core]\n",
      "                   gitProxy=\"ssh\" for \"kernel.org\"\n",
      "                   gitProxy=default-proxy ; for the rest\n",
      "\n",
      "           [include]\n",
      "                   path = /path/to/foo.inc ; include by absolute path\n",
      "                   path = foo.inc ; find \"foo.inc\" relative to the current file\n",
      "                   path = ~/foo.inc ; find \"foo.inc\" in your `$HOME` directory\n",
      "\n",
      "           ; include if $GIT_DIR is /path/to/foo/.git\n"
     ]
    },
    {
     "name": "stdout",
     "output_type": "stream",
     "text": [
      "           [includeIf \"gitdir:/path/to/foo/.git\"]\n",
      "                   path = /path/to/foo.inc\n",
      "\n",
      "           ; include for all repositories inside /path/to/group\n",
      "           [includeIf \"gitdir:/path/to/group/\"]\n",
      "                   path = /path/to/foo.inc\n",
      "\n",
      "           ; include for all repositories inside $HOME/to/group\n",
      "           [includeIf \"gitdir:~/to/group/\"]\n",
      "                   path = /path/to/foo.inc\n",
      "\n",
      "           ; relative paths are always relative to the including\n",
      "           ; file (if the condition is true); their location is not\n",
      "           ; affected by the condition\n",
      "           [includeIf \"gitdir:/path/to/group/\"]\n",
      "                   path = foo.inc\n",
      "\n",
      "           ; include only if we are in a worktree where foo-branch is\n",
      "           ; currently checked out\n",
      "           [includeIf \"onbranch:foo-branch\"]\n",
      "                   path = foo.inc\n",
      "\n",
      "           ; include only if a remote with the given URL exists (note\n",
      "           ; that such a URL may be provided later in a file or in a\n",
      "           ; file read after this file is read, as seen in this example)\n",
      "           [includeIf \"hasconfig:remote.*.url:https://example.com/**\"]\n",
      "                   path = foo.inc\n",
      "           [remote \"origin\"]\n",
      "                   url = https://example.com/git\n",
      "\n",
      "\n",
      "   Values\n",
      "       Values of many variables are treated as a simple string, but there are\n",
      "       variables that take values of specific types and there are rules as to\n",
      "       how to spell them.\n",
      "\n",
      "       boolean\n",
      "           When a variable is said to take a boolean value, many synonyms are\n",
      "           accepted for true and false; these are all case-insensitive.\n",
      "\n",
      "           true\n",
      "               Boolean true literals are yes, on, true, and 1. Also, a\n",
      "               variable defined without = <value> is taken as true.\n",
      "\n",
      "           false\n",
      "               Boolean false literals are no, off, false, 0 and the empty\n",
      "               string.\n",
      "\n",
      "               When converting a value to its canonical form using the\n",
      "               --type=bool type specifier, git config will ensure that the\n",
      "               output is \"true\" or \"false\" (spelled in lowercase).\n",
      "\n",
      "       integer\n",
      "           The value for many variables that specify various sizes can be\n",
      "           suffixed with k, M,... to mean \"scale the number by 1024\", \"by\n",
      "           1024x1024\", etc.\n",
      "\n",
      "       color\n",
      "           The value for a variable that takes a color is a list of colors (at\n",
      "           most two, one for foreground and one for background) and attributes\n",
      "           (as many as you want), separated by spaces.\n",
      "\n",
      "           The basic colors accepted are normal, black, red, green, yellow,\n",
      "           blue, magenta, cyan, white and default. The first color given is\n",
      "           the foreground; the second is the background. All the basic colors\n",
      "           except normal and default have a bright variant that can be\n",
      "           specified by prefixing the color with bright, like brightred.\n",
      "\n",
      "           The color normal makes no change to the color. It is the same as an\n",
      "           empty string, but can be used as the foreground color when\n",
      "           specifying a background color alone (for example, \"normal red\").\n",
      "\n",
      "           The color default explicitly resets the color to the terminal\n",
      "           default, for example to specify a cleared background. Although it\n",
      "           varies between terminals, this is usually not the same as setting\n",
      "           to \"white black\".\n",
      "\n",
      "           Colors may also be given as numbers between 0 and 255; these use\n",
      "           ANSI 256-color mode (but note that not all terminals may support\n",
      "           this). If your terminal supports it, you may also specify 24-bit\n",
      "           RGB values as hex, like #ff0ab3.\n",
      "\n",
      "           The accepted attributes are bold, dim, ul, blink, reverse, italic,\n",
      "           and strike (for crossed-out or \"strikethrough\" letters). The\n",
      "           position of any attributes with respect to the colors (before,\n",
      "           after, or in between), doesn’t matter. Specific attributes may be\n",
      "           turned off by prefixing them with no or no- (e.g., noreverse,\n",
      "           no-ul, etc).\n",
      "\n",
      "           The pseudo-attribute reset resets all colors and attributes before\n",
      "           applying the specified coloring. For example, reset green will\n",
      "           result in a green foreground and default background without any\n",
      "           active attributes.\n",
      "\n",
      "           An empty color string produces no color effect at all. This can be\n",
      "           used to avoid coloring specific elements without disabling color\n",
      "           entirely.\n",
      "\n",
      "           For git’s pre-defined color slots, the attributes are meant to be\n",
      "           reset at the beginning of each item in the colored output. So\n",
      "           setting color.decorate.branch to black will paint that branch name\n",
      "           in a plain black, even if the previous thing on the same output\n",
      "           line (e.g. opening parenthesis before the list of branch names in\n",
      "           log --decorate output) is set to be painted with bold or some other\n",
      "           attribute. However, custom log formats may do more complicated and\n",
      "           layered coloring, and the negated forms may be useful there.\n",
      "\n",
      "       pathname\n",
      "           A variable that takes a pathname value can be given a string that\n",
      "           begins with \"~/\" or \"~user/\", and the usual tilde expansion happens\n",
      "           to such a string: ~/ is expanded to the value of $HOME, and ~user/\n",
      "           to the specified user’s home directory.\n",
      "\n",
      "           If a path starts with %(prefix)/, the remainder is interpreted as a\n",
      "           path relative to Git’s \"runtime prefix\", i.e. relative to the\n",
      "           location where Git itself was installed. For example,\n",
      "           %(prefix)/bin/ refers to the directory in which the Git executable\n",
      "           itself lives. If Git was compiled without runtime prefix support,\n",
      "           the compiled-in prefix will be substituted instead. In the unlikely\n",
      "           event that a literal path needs to be specified that should not be\n",
      "           expanded, it needs to be prefixed by ./, like so: ./%(prefix)/bin.\n",
      "\n",
      "   Variables\n",
      "       Note that this list is non-comprehensive and not necessarily complete.\n",
      "       For command-specific variables, you will find a more detailed\n",
      "       description in the appropriate manual page.\n",
      "\n",
      "       Other git-related tools may and do use their own variables. When\n",
      "       inventing new variables for use in your own tool, make sure their names\n",
      "       do not conflict with those that are used by Git itself and other\n",
      "       popular tools, and describe them in your documentation.\n",
      "\n",
      "       advice.*\n",
      "           These variables control various optional help messages designed to\n",
      "           aid new users. All advice.* variables default to true, and you can\n",
      "           tell Git that you do not need help by setting these to false:\n",
      "\n",
      "           ambiguousFetchRefspec\n",
      "               Advice shown when fetch refspec for multiple remotes map to the\n",
      "               same remote-tracking branch namespace and causes branch\n",
      "               tracking set-up to fail.\n",
      "\n",
      "           fetchShowForcedUpdates\n",
      "               Advice shown when git-fetch(1) takes a long time to calculate\n",
      "               forced updates after ref updates, or to warn that the check is\n",
      "               disabled.\n",
      "\n",
      "           pushUpdateRejected\n",
      "               Set this variable to false if you want to disable\n",
      "               pushNonFFCurrent, pushNonFFMatching, pushAlreadyExists,\n",
      "               pushFetchFirst, pushNeedsForce, and pushRefNeedsUpdate\n",
      "               simultaneously.\n",
      "\n",
      "           pushNonFFCurrent\n",
      "               Advice shown when git-push(1) fails due to a non-fast-forward\n",
      "               update to the current branch.\n",
      "\n",
      "           pushNonFFMatching\n",
      "               Advice shown when you ran git-push(1) and pushed matching refs\n",
      "               explicitly (i.e. you used :, or specified a refspec that isn’t\n",
      "               your current branch) and it resulted in a non-fast-forward\n",
      "               error.\n",
      "\n",
      "           pushAlreadyExists\n",
      "               Shown when git-push(1) rejects an update that does not qualify\n",
      "               for fast-forwarding (e.g., a tag.)\n",
      "\n",
      "           pushFetchFirst\n",
      "               Shown when git-push(1) rejects an update that tries to\n",
      "               overwrite a remote ref that points at an object we do not have.\n"
     ]
    },
    {
     "name": "stdout",
     "output_type": "stream",
     "text": [
      "\n",
      "           pushNeedsForce\n",
      "               Shown when git-push(1) rejects an update that tries to\n",
      "               overwrite a remote ref that points at an object that is not a\n",
      "               commit-ish, or make the remote ref point at an object that is\n",
      "               not a commit-ish.\n",
      "\n",
      "           pushUnqualifiedRefname\n",
      "               Shown when git-push(1) gives up trying to guess based on the\n",
      "               source and destination refs what remote ref namespace the\n",
      "               source belongs in, but where we can still suggest that the user\n",
      "               push to either refs/heads/* or refs/tags/* based on the type of\n",
      "               the source object.\n",
      "\n",
      "           pushRefNeedsUpdate\n",
      "               Shown when git-push(1) rejects a forced update of a branch when\n",
      "               its remote-tracking ref has updates that we do not have\n",
      "               locally.\n",
      "\n",
      "           skippedCherryPicks\n",
      "               Shown when git-rebase(1) skips a commit that has already been\n",
      "               cherry-picked onto the upstream branch.\n",
      "\n",
      "           statusAheadBehind\n",
      "               Shown when git-status(1) computes the ahead/behind counts for a\n",
      "               local ref compared to its remote tracking ref, and that\n",
      "               calculation takes longer than expected. Will not appear if\n",
      "               status.aheadBehind is false or the option --no-ahead-behind is\n",
      "               given.\n",
      "\n",
      "           statusHints\n",
      "               Show directions on how to proceed from the current state in the\n",
      "               output of git-status(1), in the template shown when writing\n",
      "               commit messages in git-commit(1), and in the help message shown\n",
      "               by git-switch(1) or git-checkout(1) when switching branch.\n",
      "\n",
      "           statusUoption\n",
      "               Advise to consider using the -u option to git-status(1) when\n",
      "               the command takes more than 2 seconds to enumerate untracked\n",
      "               files.\n",
      "\n",
      "           commitBeforeMerge\n",
      "               Advice shown when git-merge(1) refuses to merge to avoid\n",
      "               overwriting local changes.\n",
      "\n",
      "           resetNoRefresh\n",
      "               Advice to consider using the --no-refresh option to git-\n",
      "               reset(1) when the command takes more than 2 seconds to refresh\n",
      "               the index after reset.\n",
      "\n",
      "           resolveConflict\n",
      "               Advice shown by various commands when conflicts prevent the\n",
      "               operation from being performed.\n",
      "\n",
      "           sequencerInUse\n",
      "               Advice shown when a sequencer command is already in progress.\n",
      "\n",
      "           implicitIdentity\n",
      "               Advice on how to set your identity configuration when your\n",
      "               information is guessed from the system username and domain\n",
      "               name.\n",
      "\n",
      "           detachedHead\n",
      "               Advice shown when you used git-switch(1) or git-checkout(1) to\n",
      "               move to the detach HEAD state, to instruct how to create a\n",
      "               local branch after the fact.\n",
      "\n",
      "           suggestDetachingHead\n",
      "               Advice shown when git-switch(1) refuses to detach HEAD without\n",
      "               the explicit --detach option.\n",
      "\n",
      "           checkoutAmbiguousRemoteBranchName\n",
      "               Advice shown when the argument to git-checkout(1) and git-\n",
      "               switch(1) ambiguously resolves to a remote tracking branch on\n",
      "               more than one remote in situations where an unambiguous\n",
      "               argument would have otherwise caused a remote-tracking branch\n",
      "               to be checked out. See the checkout.defaultRemote configuration\n",
      "               variable for how to set a given remote to used by default in\n",
      "               some situations where this advice would be printed.\n",
      "\n",
      "           amWorkDir\n",
      "               Advice that shows the location of the patch file when git-am(1)\n",
      "               fails to apply it.\n",
      "\n",
      "           rmHints\n",
      "               In case of failure in the output of git-rm(1), show directions\n",
      "               on how to proceed from the current state.\n",
      "\n",
      "           addEmbeddedRepo\n",
      "               Advice on what to do when you’ve accidentally added one git\n",
      "               repo inside of another.\n",
      "\n",
      "           ignoredHook\n",
      "               Advice shown if a hook is ignored because the hook is not set\n",
      "               as executable.\n",
      "\n",
      "           waitingForEditor\n",
      "               Print a message to the terminal whenever Git is waiting for\n",
      "               editor input from the user.\n",
      "\n",
      "           nestedTag\n",
      "               Advice shown if a user attempts to recursively tag a tag\n",
      "               object.\n",
      "\n",
      "           submoduleAlternateErrorStrategyDie\n",
      "               Advice shown when a submodule.alternateErrorStrategy option\n",
      "               configured to \"die\" causes a fatal error.\n",
      "\n",
      "           submodulesNotUpdated\n",
      "               Advice shown when a user runs a submodule command that fails\n",
      "               because git submodule update --init was not run.\n",
      "\n",
      "           addIgnoredFile\n",
      "               Advice shown if a user attempts to add an ignored file to the\n",
      "               index.\n",
      "\n",
      "           addEmptyPathspec\n",
      "               Advice shown if a user runs the add command without providing\n",
      "               the pathspec parameter.\n",
      "\n",
      "           updateSparsePath\n",
      "               Advice shown when either git-add(1) or git-rm(1) is asked to\n",
      "               update index entries outside the current sparse checkout.\n",
      "\n",
      "       core.fileMode\n",
      "           Tells Git if the executable bit of files in the working tree is to\n",
      "           be honored.\n",
      "\n",
      "           Some filesystems lose the executable bit when a file that is marked\n",
      "           as executable is checked out, or checks out a non-executable file\n",
      "           with executable bit on.  git-clone(1) or git-init(1) probe the\n",
      "           filesystem to see if it handles the executable bit correctly and\n",
      "           this variable is automatically set as necessary.\n",
      "\n",
      "           A repository, however, may be on a filesystem that handles the\n",
      "           filemode correctly, and this variable is set to true when created,\n",
      "           but later may be made accessible from another environment that\n",
      "           loses the filemode (e.g. exporting ext4 via CIFS mount, visiting a\n",
      "           Cygwin created repository with Git for Windows or Eclipse). In such\n",
      "           a case it may be necessary to set this variable to false. See git-\n",
      "           update-index(1).\n",
      "\n",
      "           The default is true (when core.filemode is not specified in the\n",
      "           config file).\n",
      "\n",
      "       core.hideDotFiles\n",
      "           (Windows-only) If true, mark newly-created directories and files\n",
      "           whose name starts with a dot as hidden. If dotGitOnly, only the\n",
      "           .git/ directory is hidden, but no other files starting with a dot.\n",
      "           The default mode is dotGitOnly.\n",
      "\n",
      "       core.ignoreCase\n",
      "           Internal variable which enables various workarounds to enable Git\n",
      "           to work better on filesystems that are not case sensitive, like\n",
      "           APFS, HFS+, FAT, NTFS, etc. For example, if a directory listing\n",
      "           finds \"makefile\" when Git expects \"Makefile\", Git will assume it is\n",
      "           really the same file, and continue to remember it as \"Makefile\".\n",
      "\n",
      "           The default is false, except git-clone(1) or git-init(1) will probe\n",
      "           and set core.ignoreCase true if appropriate when the repository is\n",
      "           created.\n",
      "\n",
      "           Git relies on the proper configuration of this variable for your\n",
      "           operating and file system. Modifying this value may result in\n",
      "           unexpected behavior.\n",
      "\n",
      "       core.precomposeUnicode\n",
      "           This option is only used by Mac OS implementation of Git. When\n",
      "           core.precomposeUnicode=true, Git reverts the unicode decomposition\n",
      "           of filenames done by Mac OS. This is useful when sharing a\n",
      "           repository between Mac OS and Linux or Windows. (Git for Windows\n",
      "           1.7.10 or higher is needed, or Git under cygwin 1.7). When false,\n",
      "           file names are handled fully transparent by Git, which is backward\n",
      "           compatible with older versions of Git.\n",
      "\n",
      "       core.protectHFS\n",
      "           If set to true, do not allow checkout of paths that would be\n",
      "           considered equivalent to .git on an HFS+ filesystem. Defaults to\n",
      "           true on Mac OS, and false elsewhere.\n"
     ]
    },
    {
     "name": "stdout",
     "output_type": "stream",
     "text": [
      "\n",
      "       core.protectNTFS\n",
      "           If set to true, do not allow checkout of paths that would cause\n",
      "           problems with the NTFS filesystem, e.g. conflict with 8.3 \"short\"\n",
      "           names. Defaults to true on Windows, and false elsewhere.\n",
      "\n",
      "       core.fsmonitor\n",
      "           If set to true, enable the built-in file system monitor daemon for\n",
      "           this working directory (git-fsmonitor--daemon(1)).\n",
      "\n",
      "           Like hook-based file system monitors, the built-in file system\n",
      "           monitor can speed up Git commands that need to refresh the Git\n",
      "           index (e.g.  git status) in a working directory with many files.\n",
      "           The built-in monitor eliminates the need to install and maintain an\n",
      "           external third-party tool.\n",
      "\n",
      "           The built-in file system monitor is currently available only on a\n",
      "           limited set of supported platforms. Currently, this includes\n",
      "           Windows and MacOS.\n",
      "\n",
      "               Otherwise, this variable contains the pathname of the \"fsmonitor\"\n",
      "               hook command.\n",
      "\n",
      "           This hook command is used to identify all files that may have\n",
      "           changed since the requested date/time. This information is used to\n",
      "           speed up git by avoiding unnecessary scanning of files that have\n",
      "           not changed.\n",
      "\n",
      "           See the \"fsmonitor-watchman\" section of githooks(5).\n",
      "\n",
      "           Note that if you concurrently use multiple versions of Git, such as\n",
      "           one version on the command line and another version in an IDE tool,\n",
      "           that the definition of core.fsmonitor was extended to allow boolean\n",
      "           values in addition to hook pathnames. Git versions 2.35.1 and prior\n",
      "           will not understand the boolean values and will consider the \"true\"\n",
      "           or \"false\" values as hook pathnames to be invoked. Git versions\n",
      "           2.26 thru 2.35.1 default to hook protocol V2 and will fall back to\n",
      "           no fsmonitor (full scan). Git versions prior to 2.26 default to\n",
      "           hook protocol V1 and will silently assume there were no changes to\n",
      "           report (no scan), so status commands may report incomplete results.\n",
      "           For this reason, it is best to upgrade all of your Git versions\n",
      "           before using the built-in file system monitor.\n",
      "\n",
      "       core.fsmonitorHookVersion\n",
      "           Sets the protocol version to be used when invoking the \"fsmonitor\"\n",
      "           hook.\n",
      "\n",
      "           There are currently versions 1 and 2. When this is not set, version\n",
      "           2 will be tried first and if it fails then version 1 will be tried.\n",
      "           Version 1 uses a timestamp as input to determine which files have\n",
      "           changes since that time but some monitors like Watchman have race\n",
      "           conditions when used with a timestamp. Version 2 uses an opaque\n",
      "           string so that the monitor can return something that can be used to\n",
      "           determine what files have changed without race conditions.\n",
      "\n",
      "       core.trustctime\n",
      "           If false, the ctime differences between the index and the working\n",
      "           tree are ignored; useful when the inode change time is regularly\n",
      "           modified by something outside Git (file system crawlers and some\n",
      "           backup systems). See git-update-index(1). True by default.\n",
      "\n",
      "       core.splitIndex\n",
      "           If true, the split-index feature of the index will be used. See\n",
      "           git-update-index(1). False by default.\n",
      "\n",
      "       core.untrackedCache\n",
      "           Determines what to do about the untracked cache feature of the\n",
      "           index. It will be kept, if this variable is unset or set to keep.\n",
      "           It will automatically be added if set to true. And it will\n",
      "           automatically be removed, if set to false. Before setting it to\n",
      "           true, you should check that mtime is working properly on your\n",
      "           system. See git-update-index(1).  keep by default, unless\n",
      "           feature.manyFiles is enabled which sets this setting to true by\n",
      "           default.\n",
      "\n",
      "       core.checkStat\n",
      "           When missing or is set to default, many fields in the stat\n",
      "           structure are checked to detect if a file has been modified since\n",
      "           Git looked at it. When this configuration variable is set to\n",
      "           minimal, sub-second part of mtime and ctime, the uid and gid of the\n",
      "           owner of the file, the inode number (and the device number, if Git\n",
      "           was compiled to use it), are excluded from the check among these\n",
      "           fields, leaving only the whole-second part of mtime (and ctime, if\n",
      "           core.trustCtime is set) and the filesize to be checked.\n",
      "\n",
      "           There are implementations of Git that do not leave usable values in\n",
      "           some fields (e.g. JGit); by excluding these fields from the\n",
      "           comparison, the minimal mode may help interoperability when the\n",
      "           same repository is used by these other systems at the same time.\n",
      "\n",
      "       core.quotePath\n",
      "           Commands that output paths (e.g.  ls-files, diff), will quote\n",
      "           \"unusual\" characters in the pathname by enclosing the pathname in\n",
      "           double-quotes and escaping those characters with backslashes in the\n",
      "           same way C escapes control characters (e.g.  \\t for TAB, \\n for LF,\n",
      "           \\\\ for backslash) or bytes with values larger than 0x80 (e.g. octal\n",
      "           \\302\\265 for \"micro\" in UTF-8). If this variable is set to false,\n",
      "           bytes higher than 0x80 are not considered \"unusual\" any more.\n",
      "           Double-quotes, backslash and control characters are always escaped\n",
      "           regardless of the setting of this variable. A simple space\n",
      "           character is not considered \"unusual\". Many commands can output\n",
      "           pathnames completely verbatim using the -z option. The default\n",
      "           value is true.\n",
      "\n",
      "       core.eol\n",
      "           Sets the line ending type to use in the working directory for files\n",
      "           that are marked as text (either by having the text attribute set,\n",
      "           or by having text=auto and Git auto-detecting the contents as\n",
      "           text). Alternatives are lf, crlf and native, which uses the\n",
      "           platform’s native line ending. The default value is native. See\n",
      "           gitattributes(5) for more information on end-of-line conversion.\n",
      "           Note that this value is ignored if core.autocrlf is set to true or\n",
      "           input.\n",
      "\n",
      "       core.safecrlf\n",
      "           If true, makes Git check if converting CRLF is reversible when\n",
      "           end-of-line conversion is active. Git will verify if a command\n",
      "           modifies a file in the work tree either directly or indirectly. For\n",
      "           example, committing a file followed by checking out the same file\n",
      "           should yield the original file in the work tree. If this is not the\n",
      "           case for the current setting of core.autocrlf, Git will reject the\n",
      "           file. The variable can be set to \"warn\", in which case Git will\n",
      "           only warn about an irreversible conversion but continue the\n",
      "           operation.\n",
      "\n",
      "           CRLF conversion bears a slight chance of corrupting data. When it\n",
      "           is enabled, Git will convert CRLF to LF during commit and LF to\n",
      "           CRLF during checkout. A file that contains a mixture of LF and CRLF\n",
      "           before the commit cannot be recreated by Git. For text files this\n",
      "           is the right thing to do: it corrects line endings such that we\n",
      "           have only LF line endings in the repository. But for binary files\n",
      "           that are accidentally classified as text the conversion can corrupt\n",
      "           data.\n",
      "\n",
      "           If you recognize such corruption early you can easily fix it by\n",
      "           setting the conversion type explicitly in .gitattributes. Right\n",
      "           after committing you still have the original file in your work tree\n",
      "           and this file is not yet corrupted. You can explicitly tell Git\n",
      "           that this file is binary and Git will handle the file\n",
      "           appropriately.\n",
      "\n",
      "           Unfortunately, the desired effect of cleaning up text files with\n",
      "           mixed line endings and the undesired effect of corrupting binary\n",
      "           files cannot be distinguished. In both cases CRLFs are removed in\n",
      "           an irreversible way. For text files this is the right thing to do\n"
     ]
    },
    {
     "name": "stdout",
     "output_type": "stream",
     "text": [
      "           because CRLFs are line endings, while for binary files converting\n",
      "           CRLFs corrupts data.\n",
      "\n",
      "           Note, this safety check does not mean that a checkout will generate\n",
      "           a file identical to the original file for a different setting of\n",
      "           core.eol and core.autocrlf, but only for the current one. For\n",
      "           example, a text file with LF would be accepted with core.eol=lf and\n",
      "           could later be checked out with core.eol=crlf, in which case the\n",
      "           resulting file would contain CRLF, although the original file\n",
      "           contained LF. However, in both work trees the line endings would be\n",
      "           consistent, that is either all LF or all CRLF, but never mixed. A\n",
      "           file with mixed line endings would be reported by the core.safecrlf\n",
      "           mechanism.\n",
      "\n",
      "       core.autocrlf\n",
      "           Setting this variable to \"true\" is the same as setting the text\n",
      "           attribute to \"auto\" on all files and core.eol to \"crlf\". Set to\n",
      "           true if you want to have CRLF line endings in your working\n",
      "           directory and the repository has LF line endings. This variable can\n",
      "           be set to input, in which case no output conversion is performed.\n",
      "\n",
      "       core.checkRoundtripEncoding\n",
      "           A comma and/or whitespace separated list of encodings that Git\n",
      "           performs UTF-8 round trip checks on if they are used in an\n",
      "           working-tree-encoding attribute (see gitattributes(5)). The default\n",
      "           value is SHIFT-JIS.\n",
      "\n",
      "       core.symlinks\n",
      "           If false, symbolic links are checked out as small plain files that\n",
      "           contain the link text.  git-update-index(1) and git-add(1) will not\n",
      "           change the recorded type to regular file. Useful on filesystems\n",
      "           like FAT that do not support symbolic links.\n",
      "\n",
      "           The default is true, except git-clone(1) or git-init(1) will probe\n",
      "           and set core.symlinks false if appropriate when the repository is\n",
      "           created.\n",
      "\n",
      "       core.gitProxy\n",
      "           A \"proxy command\" to execute (as command host port) instead of\n",
      "           establishing direct connection to the remote server when using the\n",
      "           Git protocol for fetching. If the variable value is in the \"COMMAND\n",
      "           for DOMAIN\" format, the command is applied only on hostnames ending\n",
      "           with the specified domain string. This variable may be set multiple\n",
      "           times and is matched in the given order; the first match wins.\n",
      "\n",
      "           Can be overridden by the GIT_PROXY_COMMAND environment variable\n",
      "           (which always applies universally, without the special \"for\"\n",
      "           handling).\n",
      "\n",
      "           The special string none can be used as the proxy command to specify\n",
      "           that no proxy be used for a given domain pattern. This is useful\n",
      "           for excluding servers inside a firewall from proxy use, while\n",
      "           defaulting to a common proxy for external domains.\n",
      "\n",
      "       core.sshCommand\n",
      "           If this variable is set, git fetch and git push will use the\n",
      "           specified command instead of ssh when they need to connect to a\n",
      "           remote system. The command is in the same form as the\n",
      "           GIT_SSH_COMMAND environment variable and is overridden when the\n",
      "           environment variable is set.\n",
      "\n",
      "       core.ignoreStat\n",
      "           If true, Git will avoid using lstat() calls to detect if files have\n",
      "           changed by setting the \"assume-unchanged\" bit for those tracked\n",
      "           files which it has updated identically in both the index and\n",
      "           working tree.\n",
      "\n",
      "           When files are modified outside of Git, the user will need to stage\n",
      "           the modified files explicitly (e.g. see Examples section in git-\n",
      "           update-index(1)). Git will not normally detect changes to those\n",
      "           files.\n",
      "\n",
      "           This is useful on systems where lstat() calls are very slow, such\n",
      "           as CIFS/Microsoft Windows.\n",
      "\n",
      "           False by default.\n",
      "\n",
      "       core.preferSymlinkRefs\n",
      "           Instead of the default \"symref\" format for HEAD and other symbolic\n",
      "           reference files, use symbolic links. This is sometimes needed to\n",
      "           work with old scripts that expect HEAD to be a symbolic link.\n",
      "\n",
      "       core.alternateRefsCommand\n",
      "           When advertising tips of available history from an alternate, use\n",
      "           the shell to execute the specified command instead of git-for-each-\n",
      "           ref(1). The first argument is the absolute path of the alternate.\n",
      "           Output must contain one hex object id per line (i.e., the same as\n",
      "           produced by git for-each-ref --format='%(objectname)').\n",
      "\n",
      "           Note that you cannot generally put git for-each-ref directly into\n",
      "           the config value, as it does not take a repository path as an\n",
      "           argument (but you can wrap the command above in a shell script).\n",
      "\n",
      "       core.alternateRefsPrefixes\n",
      "           When listing references from an alternate, list only references\n",
      "           that begin with the given prefix. Prefixes match as if they were\n",
      "           given as arguments to git-for-each-ref(1). To list multiple\n",
      "           prefixes, separate them with whitespace. If\n",
      "           core.alternateRefsCommand is set, setting\n",
      "           core.alternateRefsPrefixes has no effect.\n",
      "\n",
      "       core.bare\n",
      "           If true this repository is assumed to be bare and has no working\n",
      "           directory associated with it. If this is the case a number of\n",
      "           commands that require a working directory will be disabled, such as\n",
      "           git-add(1) or git-merge(1).\n",
      "\n",
      "           This setting is automatically guessed by git-clone(1) or git-\n",
      "           init(1) when the repository was created. By default a repository\n",
      "           that ends in \"/.git\" is assumed to be not bare (bare = false),\n",
      "           while all other repositories are assumed to be bare (bare = true).\n",
      "\n",
      "       core.worktree\n",
      "           Set the path to the root of the working tree. If GIT_COMMON_DIR\n",
      "           environment variable is set, core.worktree is ignored and not used\n",
      "           for determining the root of working tree. This can be overridden by\n",
      "           the GIT_WORK_TREE environment variable and the --work-tree\n",
      "           command-line option. The value can be an absolute path or relative\n",
      "           to the path to the .git directory, which is either specified by\n",
      "           --git-dir or GIT_DIR, or automatically discovered. If --git-dir or\n",
      "           GIT_DIR is specified but none of --work-tree, GIT_WORK_TREE and\n",
      "           core.worktree is specified, the current working directory is\n",
      "           regarded as the top level of your working tree.\n",
      "\n",
      "           Note that this variable is honored even when set in a configuration\n",
      "           file in a \".git\" subdirectory of a directory and its value differs\n",
      "           from the latter directory (e.g. \"/path/to/.git/config\" has\n",
      "           core.worktree set to \"/different/path\"), which is most likely a\n",
      "           misconfiguration. Running Git commands in the \"/path/to\" directory\n",
      "           will still use \"/different/path\" as the root of the work tree and\n",
      "           can cause confusion unless you know what you are doing (e.g. you\n",
      "           are creating a read-only snapshot of the same index to a location\n",
      "           different from the repository’s usual working tree).\n",
      "\n",
      "       core.logAllRefUpdates\n",
      "           Enable the reflog. Updates to a ref <ref> is logged to the file\n",
      "           \"$GIT_DIR/logs/<ref>\", by appending the new and old SHA-1, the\n",
      "           date/time and the reason of the update, but only when the file\n",
      "           exists. If this configuration variable is set to true, missing\n",
      "           \"$GIT_DIR/logs/<ref>\" file is automatically created for branch\n",
      "           heads (i.e. under refs/heads/), remote refs (i.e. under\n",
      "           refs/remotes/), note refs (i.e. under refs/notes/), and the\n",
      "           symbolic ref HEAD. If it is set to always, then a missing reflog is\n",
      "           automatically created for any ref under refs/.\n",
      "\n",
      "           This information can be used to determine what commit was the tip\n",
      "           of a branch \"2 days ago\".\n",
      "\n",
      "           This value is true by default in a repository that has a working\n",
      "           directory associated with it, and false by default in a bare\n"
     ]
    },
    {
     "name": "stdout",
     "output_type": "stream",
     "text": [
      "           repository.\n",
      "\n",
      "       core.repositoryFormatVersion\n",
      "           Internal variable identifying the repository format and layout\n",
      "           version.\n",
      "\n",
      "       core.sharedRepository\n",
      "           When group (or true), the repository is made shareable between\n",
      "           several users in a group (making sure all the files and objects are\n",
      "           group-writable). When all (or world or everybody), the repository\n",
      "           will be readable by all users, additionally to being\n",
      "           group-shareable. When umask (or false), Git will use permissions\n",
      "           reported by umask(2). When 0xxx, where 0xxx is an octal number,\n",
      "           files in the repository will have this mode value.  0xxx will\n",
      "           override user’s umask value (whereas the other options will only\n",
      "           override requested parts of the user’s umask value). Examples: 0660\n",
      "           will make the repo read/write-able for the owner and group, but\n",
      "           inaccessible to others (equivalent to group unless umask is e.g.\n",
      "           0022).  0640 is a repository that is group-readable but not\n",
      "           group-writable. See git-init(1). False by default.\n",
      "\n",
      "       core.warnAmbiguousRefs\n",
      "           If true, Git will warn you if the ref name you passed it is\n",
      "           ambiguous and might match multiple refs in the repository. True by\n",
      "           default.\n",
      "\n",
      "       core.compression\n",
      "           An integer -1..9, indicating a default compression level. -1 is the\n",
      "           zlib default. 0 means no compression, and 1..9 are various\n",
      "           speed/size tradeoffs, 9 being slowest. If set, this provides a\n",
      "           default to other compression variables, such as\n",
      "           core.looseCompression and pack.compression.\n",
      "\n",
      "       core.looseCompression\n",
      "           An integer -1..9, indicating the compression level for objects that\n",
      "           are not in a pack file. -1 is the zlib default. 0 means no\n",
      "           compression, and 1..9 are various speed/size tradeoffs, 9 being\n",
      "           slowest. If not set, defaults to core.compression. If that is not\n",
      "           set, defaults to 1 (best speed).\n",
      "\n",
      "       core.packedGitWindowSize\n",
      "           Number of bytes of a pack file to map into memory in a single\n",
      "           mapping operation. Larger window sizes may allow your system to\n",
      "           process a smaller number of large pack files more quickly. Smaller\n",
      "           window sizes will negatively affect performance due to increased\n",
      "           calls to the operating system’s memory manager, but may improve\n",
      "           performance when accessing a large number of large pack files.\n",
      "\n",
      "           Default is 1 MiB if NO_MMAP was set at compile time, otherwise 32\n",
      "           MiB on 32 bit platforms and 1 GiB on 64 bit platforms. This should\n",
      "           be reasonable for all users/operating systems. You probably do not\n",
      "           need to adjust this value.\n",
      "\n",
      "           Common unit suffixes of k, m, or g are supported.\n",
      "\n",
      "       core.packedGitLimit\n",
      "           Maximum number of bytes to map simultaneously into memory from pack\n",
      "           files. If Git needs to access more than this many bytes at once to\n",
      "           complete an operation it will unmap existing regions to reclaim\n",
      "           virtual address space within the process.\n",
      "\n",
      "           Default is 256 MiB on 32 bit platforms and 32 TiB (effectively\n",
      "           unlimited) on 64 bit platforms. This should be reasonable for all\n",
      "           users/operating systems, except on the largest projects. You\n",
      "           probably do not need to adjust this value.\n",
      "\n",
      "           Common unit suffixes of k, m, or g are supported.\n",
      "\n",
      "       core.deltaBaseCacheLimit\n",
      "           Maximum number of bytes per thread to reserve for caching base\n",
      "           objects that may be referenced by multiple deltified objects. By\n",
      "           storing the entire decompressed base objects in a cache Git is able\n",
      "           to avoid unpacking and decompressing frequently used base objects\n",
      "           multiple times.\n",
      "\n",
      "           Default is 96 MiB on all platforms. This should be reasonable for\n",
      "           all users/operating systems, except on the largest projects. You\n",
      "           probably do not need to adjust this value.\n",
      "\n",
      "           Common unit suffixes of k, m, or g are supported.\n",
      "\n",
      "       core.bigFileThreshold\n",
      "           The size of files considered \"big\", which as discussed below\n",
      "           changes the behavior of numerous git commands, as well as how such\n",
      "           files are stored within the repository. The default is 512 MiB.\n",
      "           Common unit suffixes of k, m, or g are supported.\n",
      "\n",
      "           Files above the configured limit will be:\n",
      "\n",
      "           •   Stored deflated in packfiles, without attempting delta\n",
      "               compression.\n",
      "\n",
      "               The default limit is primarily set with this use-case in mind.\n",
      "               With it, most projects will have their source code and other\n",
      "               text files delta compressed, but not larger binary media files.\n",
      "\n",
      "               Storing large files without delta compression avoids excessive\n",
      "               memory usage, at the slight expense of increased disk usage.\n",
      "\n",
      "           •   Will be treated as if they were labeled \"binary\" (see\n",
      "               gitattributes(5)). e.g.  git-log(1) and git-diff(1) will not\n",
      "               compute diffs for files above this limit.\n",
      "\n",
      "           •   Will generally be streamed when written, which avoids excessive\n",
      "               memory usage, at the cost of some fixed overhead. Commands that\n",
      "               make use of this include git-archive(1), git-fast-import(1),\n",
      "               git-index-pack(1), git-unpack-objects(1) and git-fsck(1).\n",
      "\n",
      "       core.excludesFile\n",
      "           Specifies the pathname to the file that contains patterns to\n",
      "           describe paths that are not meant to be tracked, in addition to\n",
      "           .gitignore (per-directory) and .git/info/exclude. Defaults to\n",
      "           $XDG_CONFIG_HOME/git/ignore. If $XDG_CONFIG_HOME is either not set\n",
      "           or empty, $HOME/.config/git/ignore is used instead. See\n",
      "           gitignore(5).\n",
      "\n",
      "       core.askPass\n",
      "           Some commands (e.g. svn and http interfaces) that interactively ask\n",
      "           for a password can be told to use an external program given via the\n",
      "           value of this variable. Can be overridden by the GIT_ASKPASS\n",
      "           environment variable. If not set, fall back to the value of the\n",
      "           SSH_ASKPASS environment variable or, failing that, a simple\n",
      "           password prompt. The external program shall be given a suitable\n",
      "           prompt as command-line argument and write the password on its\n",
      "           STDOUT.\n",
      "\n",
      "       core.attributesFile\n",
      "           In addition to .gitattributes (per-directory) and\n",
      "           .git/info/attributes, Git looks into this file for attributes (see\n",
      "           gitattributes(5)). Path expansions are made the same way as for\n",
      "           core.excludesFile. Its default value is\n",
      "           $XDG_CONFIG_HOME/git/attributes. If $XDG_CONFIG_HOME is either not\n",
      "           set or empty, $HOME/.config/git/attributes is used instead.\n",
      "\n",
      "       core.hooksPath\n",
      "           By default Git will look for your hooks in the $GIT_DIR/hooks\n",
      "           directory. Set this to different path, e.g.  /etc/git/hooks, and\n",
      "           Git will try to find your hooks in that directory, e.g.\n",
      "           /etc/git/hooks/pre-receive instead of in\n",
      "           $GIT_DIR/hooks/pre-receive.\n",
      "\n",
      "           The path can be either absolute or relative. A relative path is\n",
      "           taken as relative to the directory where the hooks are run (see the\n",
      "           \"DESCRIPTION\" section of githooks(5)).\n",
      "\n",
      "           This configuration variable is useful in cases where you’d like to\n",
      "           centrally configure your Git hooks instead of configuring them on a\n",
      "           per-repository basis, or as a more flexible and centralized\n",
      "           alternative to having an init.templateDir where you’ve changed\n",
      "           default hooks.\n",
      "\n",
      "       core.editor\n",
      "           Commands such as commit and tag that let you edit messages by\n",
      "           launching an editor use the value of this variable when it is set,\n",
      "           and the environment variable GIT_EDITOR is not set. See git-var(1).\n",
      "\n",
      "       core.commentChar\n",
      "           Commands such as commit and tag that let you edit messages consider\n"
     ]
    },
    {
     "name": "stdout",
     "output_type": "stream",
     "text": [
      "           a line that begins with this character commented, and removes them\n",
      "           after the editor returns (default #).\n",
      "\n",
      "           If set to \"auto\", git-commit would select a character that is not\n",
      "           the beginning character of any line in existing commit messages.\n",
      "\n",
      "       core.filesRefLockTimeout\n",
      "           The length of time, in milliseconds, to retry when trying to lock\n",
      "           an individual reference. Value 0 means not to retry at all; -1\n",
      "           means to try indefinitely. Default is 100 (i.e., retry for 100ms).\n",
      "\n",
      "       core.packedRefsTimeout\n",
      "           The length of time, in milliseconds, to retry when trying to lock\n",
      "           the packed-refs file. Value 0 means not to retry at all; -1 means\n",
      "           to try indefinitely. Default is 1000 (i.e., retry for 1 second).\n",
      "\n",
      "       core.pager\n",
      "           Text viewer for use by Git commands (e.g., less). The value is\n",
      "           meant to be interpreted by the shell. The order of preference is\n",
      "           the $GIT_PAGER environment variable, then core.pager configuration,\n",
      "           then $PAGER, and then the default chosen at compile time (usually\n",
      "           less).\n",
      "\n",
      "           When the LESS environment variable is unset, Git sets it to FRX (if\n",
      "           LESS environment variable is set, Git does not change it at all).\n",
      "           If you want to selectively override Git’s default setting for LESS,\n",
      "           you can set core.pager to e.g.  less -S. This will be passed to the\n",
      "           shell by Git, which will translate the final command to LESS=FRX\n",
      "           less -S. The environment does not set the S option but the command\n",
      "           line does, instructing less to truncate long lines. Similarly,\n",
      "           setting core.pager to less -+F will deactivate the F option\n",
      "           specified by the environment from the command-line, deactivating\n",
      "           the \"quit if one screen\" behavior of less. One can specifically\n",
      "           activate some flags for particular commands: for example, setting\n",
      "           pager.blame to less -S enables line truncation only for git blame.\n",
      "\n",
      "           Likewise, when the LV environment variable is unset, Git sets it to\n",
      "           -c. You can override this setting by exporting LV with another\n",
      "           value or setting core.pager to lv +c.\n",
      "\n",
      "       core.whitespace\n",
      "           A comma separated list of common whitespace problems to notice.\n",
      "           git diff will use color.diff.whitespace to highlight them, and git\n",
      "           apply --whitespace=error will consider them as errors. You can\n",
      "           prefix - to disable any of them (e.g.  -trailing-space):\n",
      "\n",
      "           •   blank-at-eol treats trailing whitespaces at the end of the line\n",
      "               as an error (enabled by default).\n",
      "\n",
      "           •   space-before-tab treats a space character that appears\n",
      "               immediately before a tab character in the initial indent part\n",
      "               of the line as an error (enabled by default).\n",
      "\n",
      "           •   indent-with-non-tab treats a line that is indented with space\n",
      "               characters instead of the equivalent tabs as an error (not\n",
      "               enabled by default).\n",
      "\n",
      "           •   tab-in-indent treats a tab character in the initial indent part\n",
      "               of the line as an error (not enabled by default).\n",
      "\n",
      "           •   blank-at-eof treats blank lines added at the end of file as an\n",
      "               error (enabled by default).\n",
      "\n",
      "           •   trailing-space is a short-hand to cover both blank-at-eol and\n",
      "               blank-at-eof.\n",
      "\n",
      "           •   cr-at-eol treats a carriage-return at the end of line as part\n",
      "               of the line terminator, i.e. with it, trailing-space does not\n",
      "               trigger if the character before such a carriage-return is not a\n",
      "               whitespace (not enabled by default).\n",
      "\n",
      "           •   tabwidth=<n> tells how many character positions a tab occupies;\n",
      "               this is relevant for indent-with-non-tab and when Git fixes\n",
      "               tab-in-indent errors. The default tab width is 8. Allowed\n",
      "               values are 1 to 63.\n",
      "\n",
      "       core.fsync\n",
      "           A comma-separated list of components of the repository that should\n",
      "           be hardened via the core.fsyncMethod when created or modified. You\n",
      "           can disable hardening of any component by prefixing it with a -.\n",
      "           Items that are not hardened may be lost in the event of an unclean\n",
      "           system shutdown. Unless you have special requirements, it is\n",
      "           recommended that you leave this option empty or pick one of\n",
      "           committed, added, or all.\n",
      "\n",
      "           When this configuration is encountered, the set of components\n",
      "           starts with the platform default value, disabled components are\n",
      "           removed, and additional components are added.  none resets the\n",
      "           state so that the platform default is ignored.\n",
      "\n",
      "           The empty string resets the fsync configuration to the platform\n",
      "           default. The default on most platforms is equivalent to\n",
      "           core.fsync=committed,-loose-object, which has good performance, but\n",
      "           risks losing recent work in the event of an unclean system\n",
      "           shutdown.\n",
      "\n",
      "           •   none clears the set of fsynced components.\n",
      "\n",
      "           •   loose-object hardens objects added to the repo in loose-object\n",
      "               form.\n",
      "\n",
      "           •   pack hardens objects added to the repo in packfile form.\n",
      "\n",
      "           •   pack-metadata hardens packfile bitmaps and indexes.\n",
      "\n",
      "           •   commit-graph hardens the commit-graph file.\n",
      "\n",
      "           •   index hardens the index when it is modified.\n",
      "\n",
      "           •   objects is an aggregate option that is equivalent to\n",
      "               loose-object,pack.\n",
      "\n",
      "           •   reference hardens references modified in the repo.\n",
      "\n",
      "           •   derived-metadata is an aggregate option that is equivalent to\n",
      "               pack-metadata,commit-graph.\n",
      "\n",
      "           •   committed is an aggregate option that is currently equivalent\n",
      "               to objects. This mode sacrifices some performance to ensure\n",
      "               that work that is committed to the repository with git commit\n",
      "               or similar commands is hardened.\n",
      "\n",
      "           •   added is an aggregate option that is currently equivalent to\n",
      "               committed,index. This mode sacrifices additional performance to\n",
      "               ensure that the results of commands like git add and similar\n",
      "               operations are hardened.\n",
      "\n",
      "           •   all is an aggregate option that syncs all individual components\n",
      "               above.\n",
      "\n",
      "       core.fsyncMethod\n",
      "           A value indicating the strategy Git will use to harden repository\n",
      "           data using fsync and related primitives.\n",
      "\n",
      "           •   fsync uses the fsync() system call or platform equivalents.\n",
      "\n",
      "           •   writeout-only issues pagecache writeback requests, but\n",
      "               depending on the filesystem and storage hardware, data added to\n",
      "               the repository may not be durable in the event of a system\n",
      "               crash. This is the default mode on macOS.\n",
      "\n",
      "           •   batch enables a mode that uses writeout-only flushes to stage\n",
      "               multiple updates in the disk writeback cache and then does a\n",
      "               single full fsync of a dummy file to trigger the disk cache\n",
      "               flush at the end of the operation.\n",
      "\n",
      "               Currently batch mode only applies to loose-object files. Other\n",
      "               repository data is made durable as if fsync was specified. This\n",
      "               mode is expected to be as safe as fsync on macOS for repos\n",
      "               stored on HFS+ or APFS filesystems and on Windows for repos\n",
      "               stored on NTFS or ReFS filesystems.\n",
      "\n",
      "       core.fsyncObjectFiles\n",
      "           This boolean will enable fsync() when writing object files. This\n",
      "           setting is deprecated. Use core.fsync instead.\n",
      "\n",
      "           This setting affects data added to the Git repository in\n",
      "           loose-object form. When set to true, Git will issue an fsync or\n",
      "           similar system call to flush caches so that loose-objects remain\n",
      "           consistent in the face of a unclean system shutdown.\n",
      "\n",
      "       core.preloadIndex\n",
      "           Enable parallel index preload for operations like git diff\n"
     ]
    },
    {
     "name": "stdout",
     "output_type": "stream",
     "text": [
      "\n",
      "           This can speed up operations like git diff and git status\n",
      "           especially on filesystems like NFS that have weak caching semantics\n",
      "           and thus relatively high IO latencies. When enabled, Git will do\n",
      "           the index comparison to the filesystem data in parallel, allowing\n",
      "           overlapping IO’s. Defaults to true.\n",
      "\n",
      "       core.unsetenvvars\n",
      "           Windows-only: comma-separated list of environment variables' names\n",
      "           that need to be unset before spawning any other process. Defaults\n",
      "           to PERL5LIB to account for the fact that Git for Windows insists on\n",
      "           using its own Perl interpreter.\n",
      "\n",
      "       core.restrictinheritedhandles\n",
      "           Windows-only: override whether spawned processes inherit only\n",
      "           standard file handles (stdin, stdout and stderr) or all handles.\n",
      "           Can be auto, true or false. Defaults to auto, which means true on\n",
      "           Windows 7 and later, and false on older Windows versions.\n",
      "\n",
      "       core.createObject\n",
      "           You can set this to link, in which case a hardlink followed by a\n",
      "           delete of the source are used to make sure that object creation\n",
      "           will not overwrite existing objects.\n",
      "\n",
      "           On some file system/operating system combinations, this is\n",
      "           unreliable. Set this config setting to rename there; However, This\n",
      "           will remove the check that makes sure that existing object files\n",
      "           will not get overwritten.\n",
      "\n",
      "       core.notesRef\n",
      "           When showing commit messages, also show notes which are stored in\n",
      "           the given ref. The ref must be fully qualified. If the given ref\n",
      "           does not exist, it is not an error but means that no notes should\n",
      "           be printed.\n",
      "\n",
      "           This setting defaults to \"refs/notes/commits\", and it can be\n",
      "           overridden by the GIT_NOTES_REF environment variable. See git-\n",
      "           notes(1).\n",
      "\n",
      "       core.commitGraph\n",
      "           If true, then git will read the commit-graph file (if it exists) to\n",
      "           parse the graph structure of commits. Defaults to true. See git-\n",
      "           commit-graph(1) for more information.\n",
      "\n",
      "       core.useReplaceRefs\n",
      "           If set to false, behave as if the --no-replace-objects option was\n",
      "           given on the command line. See git(1) and git-replace(1) for more\n",
      "           information.\n",
      "\n",
      "       core.multiPackIndex\n",
      "           Use the multi-pack-index file to track multiple packfiles using a\n",
      "           single index. See git-multi-pack-index(1) for more information.\n",
      "           Defaults to true.\n",
      "\n",
      "       core.sparseCheckout\n",
      "           Enable \"sparse checkout\" feature. See git-sparse-checkout(1) for\n",
      "           more information.\n",
      "\n",
      "       core.sparseCheckoutCone\n",
      "           Enables the \"cone mode\" of the sparse checkout feature. When the\n",
      "           sparse-checkout file contains a limited set of patterns, this mode\n",
      "           provides significant performance advantages. The \"non-cone mode\"\n",
      "           can be requested to allow specifying more flexible patterns by\n",
      "           setting this variable to false. See git-sparse-checkout(1) for more\n",
      "           information.\n",
      "\n",
      "       core.abbrev\n",
      "           Set the length object names are abbreviated to. If unspecified or\n",
      "           set to \"auto\", an appropriate value is computed based on the\n",
      "           approximate number of packed objects in your repository, which\n",
      "           hopefully is enough for abbreviated object names to stay unique for\n",
      "           some time. If set to \"no\", no abbreviation is made and the object\n",
      "           names are shown in their full length. The minimum length is 4.\n",
      "\n",
      "       add.ignoreErrors, add.ignore-errors (deprecated)\n",
      "           Tells git add to continue adding files when some files cannot be\n",
      "           added due to indexing errors. Equivalent to the --ignore-errors\n",
      "           option of git-add(1).  add.ignore-errors is deprecated, as it does\n",
      "           not follow the usual naming convention for configuration variables.\n",
      "\n",
      "       add.interactive.useBuiltin\n",
      "           Set to false to fall back to the original Perl implementation of\n",
      "           the interactive version of git-add(1) instead of the built-in\n",
      "           version. Is true by default.\n",
      "\n",
      "       alias.*\n",
      "           Command aliases for the git(1) command wrapper - e.g. after\n",
      "           defining alias.last = cat-file commit HEAD, the invocation git last\n",
      "           is equivalent to git cat-file commit HEAD. To avoid confusion and\n",
      "           troubles with script usage, aliases that hide existing Git commands\n",
      "           are ignored. Arguments are split by spaces, the usual shell quoting\n",
      "           and escaping is supported. A quote pair or a backslash can be used\n",
      "           to quote them.\n",
      "\n",
      "           Note that the first word of an alias does not necessarily have to\n",
      "           be a command. It can be a command-line option that will be passed\n",
      "           into the invocation of git. In particular, this is useful when used\n",
      "           with -c to pass in one-time configurations or -p to force\n",
      "           pagination. For example, loud-rebase = -c commit.verbose=true\n",
      "           rebase can be defined such that running git loud-rebase would be\n",
      "           equivalent to git -c commit.verbose=true rebase. Also, ps = -p\n",
      "           status would be a helpful alias since git ps would paginate the\n",
      "           output of git status where the original command does not.\n",
      "\n",
      "           If the alias expansion is prefixed with an exclamation point, it\n",
      "           will be treated as a shell command. For example, defining alias.new\n",
      "           = !gitk --all --not ORIG_HEAD, the invocation git new is equivalent\n",
      "           to running the shell command gitk --all --not ORIG_HEAD. Note that\n",
      "           shell commands will be executed from the top-level directory of a\n",
      "           repository, which may not necessarily be the current directory.\n",
      "           GIT_PREFIX is set as returned by running git rev-parse\n",
      "           --show-prefix from the original current directory. See git-rev-\n",
      "           parse(1).\n",
      "\n",
      "       am.keepcr\n",
      "           If true, git-am will call git-mailsplit for patches in mbox format\n",
      "           with parameter --keep-cr. In this case git-mailsplit will not\n",
      "           remove \\r from lines ending with \\r\\n. Can be overridden by giving\n",
      "           --no-keep-cr from the command line. See git-am(1), git-\n",
      "           mailsplit(1).\n",
      "\n",
      "       am.threeWay\n",
      "           By default, git am will fail if the patch does not apply cleanly.\n",
      "           When set to true, this setting tells git am to fall back on 3-way\n",
      "           merge if the patch records the identity of blobs it is supposed to\n",
      "           apply to and we have those blobs available locally (equivalent to\n",
      "           giving the --3way option from the command line). Defaults to false.\n",
      "           See git-am(1).\n",
      "\n",
      "       apply.ignoreWhitespace\n",
      "           When set to change, tells git apply to ignore changes in\n",
      "           whitespace, in the same way as the --ignore-space-change option.\n",
      "           When set to one of: no, none, never, false tells git apply to\n",
      "           respect all whitespace differences. See git-apply(1).\n",
      "\n",
      "       apply.whitespace\n",
      "           Tells git apply how to handle whitespaces, in the same way as the\n",
      "           --whitespace option. See git-apply(1).\n",
      "\n",
      "       blame.blankBoundary\n",
      "           Show blank commit object name for boundary commits in git-blame(1).\n",
      "           This option defaults to false.\n",
      "\n",
      "       blame.coloring\n",
      "           This determines the coloring scheme to be applied to blame output.\n",
      "           It can be repeatedLines, highlightRecent, or none which is the\n",
      "           default.\n",
      "\n",
      "       blame.date\n",
      "           Specifies the format used to output dates in git-blame(1). If unset\n",
      "           the iso format is used. For supported values, see the discussion of\n",
      "           the --date option at git-log(1).\n",
      "\n",
      "       blame.showEmail\n",
      "           Show the author email instead of author name in git-blame(1). This\n",
      "           option defaults to false.\n",
      "\n",
      "       blame.showRoot\n",
      "           Do not treat root commits as boundaries in git-blame(1). This\n",
      "           option defaults to false.\n",
      "\n",
      "       blame.ignoreRevsFile\n",
      "           Ignore revisions listed in the file, one unabbreviated object name\n",
      "           per line, in git-blame(1). Whitespace and comments beginning with #\n"
     ]
    },
    {
     "name": "stdout",
     "output_type": "stream",
     "text": [
      "           are ignored. This option may be repeated multiple times. Empty file\n",
      "           names will reset the list of ignored revisions. This option will be\n",
      "           handled before the command line option --ignore-revs-file.\n",
      "\n",
      "       blame.markUnblamableLines\n",
      "           Mark lines that were changed by an ignored revision that we could\n",
      "           not attribute to another commit with a * in the output of git-\n",
      "           blame(1).\n",
      "\n",
      "       blame.markIgnoredLines\n",
      "           Mark lines that were changed by an ignored revision that we\n",
      "           attributed to another commit with a ? in the output of git-\n",
      "           blame(1).\n",
      "\n",
      "       branch.autoSetupMerge\n",
      "           Tells git branch, git switch and git checkout to set up new\n",
      "           branches so that git-pull(1) will appropriately merge from the\n",
      "           starting point branch. Note that even if this option is not set,\n",
      "           this behavior can be chosen per-branch using the --track and\n",
      "           --no-track options. The valid settings are: false — no automatic\n",
      "           setup is done; true — automatic setup is done when the starting\n",
      "           point is a remote-tracking branch; always —  automatic setup is\n",
      "           done when the starting point is either a local branch or\n",
      "           remote-tracking branch; inherit — if the starting point has a\n",
      "           tracking configuration, it is copied to the new branch; simple —\n",
      "           automatic setup is done only when the starting point is a\n",
      "           remote-tracking branch and the new branch has the same name as the\n",
      "           remote branch. This option defaults to true.\n",
      "\n",
      "       branch.autoSetupRebase\n",
      "           When a new branch is created with git branch, git switch or git\n",
      "           checkout that tracks another branch, this variable tells Git to set\n",
      "           up pull to rebase instead of merge (see \"branch.<name>.rebase\").\n",
      "           When never, rebase is never automatically set to true. When local,\n",
      "           rebase is set to true for tracked branches of other local branches.\n",
      "           When remote, rebase is set to true for tracked branches of\n",
      "           remote-tracking branches. When always, rebase will be set to true\n",
      "           for all tracking branches. See \"branch.autoSetupMerge\" for details\n",
      "           on how to set up a branch to track another branch. This option\n",
      "           defaults to never.\n",
      "\n",
      "       branch.sort\n",
      "           This variable controls the sort ordering of branches when displayed\n",
      "           by git-branch(1). Without the \"--sort=<value>\" option provided, the\n",
      "           value of this variable will be used as the default. See git-for-\n",
      "           each-ref(1) field names for valid values.\n",
      "\n",
      "       branch.<name>.remote\n",
      "           When on branch <name>, it tells git fetch and git push which remote\n",
      "           to fetch from/push to. The remote to push to may be overridden with\n",
      "           remote.pushDefault (for all branches). The remote to push to, for\n",
      "           the current branch, may be further overridden by\n",
      "           branch.<name>.pushRemote. If no remote is configured, or if you are\n",
      "           not on any branch and there is more than one remote defined in the\n",
      "           repository, it defaults to origin for fetching and\n",
      "           remote.pushDefault for pushing. Additionally, . (a period) is the\n",
      "           current local repository (a dot-repository), see\n",
      "           branch.<name>.merge's final note below.\n",
      "\n",
      "       branch.<name>.pushRemote\n",
      "           When on branch <name>, it overrides branch.<name>.remote for\n",
      "           pushing. It also overrides remote.pushDefault for pushing from\n",
      "           branch <name>. When you pull from one place (e.g. your upstream)\n",
      "           and push to another place (e.g. your own publishing repository),\n",
      "           you would want to set remote.pushDefault to specify the remote to\n",
      "           push to for all branches, and use this option to override it for a\n",
      "           specific branch.\n",
      "\n",
      "       branch.<name>.merge\n",
      "           Defines, together with branch.<name>.remote, the upstream branch\n",
      "           for the given branch. It tells git fetch/git pull/git rebase which\n",
      "           branch to merge and can also affect git push (see push.default).\n",
      "           When in branch <name>, it tells git fetch the default refspec to be\n",
      "           marked for merging in FETCH_HEAD. The value is handled like the\n",
      "           remote part of a refspec, and must match a ref which is fetched\n",
      "           from the remote given by \"branch.<name>.remote\". The merge\n",
      "           information is used by git pull (which at first calls git fetch) to\n",
      "           lookup the default branch for merging. Without this option, git\n",
      "           pull defaults to merge the first refspec fetched. Specify multiple\n",
      "           values to get an octopus merge. If you wish to setup git pull so\n",
      "           that it merges into <name> from another branch in the local\n",
      "           repository, you can point branch.<name>.merge to the desired\n",
      "           branch, and use the relative path setting . (a period) for\n",
      "           branch.<name>.remote.\n",
      "\n",
      "       branch.<name>.mergeOptions\n",
      "           Sets default options for merging into branch <name>. The syntax and\n",
      "           supported options are the same as those of git-merge(1), but option\n",
      "           values containing whitespace characters are currently not\n",
      "           supported.\n",
      "\n",
      "       branch.<name>.rebase\n",
      "           When true, rebase the branch <name> on top of the fetched branch,\n",
      "           instead of merging the default branch from the default remote when\n",
      "           \"git pull\" is run. See \"pull.rebase\" for doing this in a non\n",
      "           branch-specific manner.\n",
      "\n",
      "           When merges (or just m), pass the --rebase-merges option to git\n",
      "           rebase so that the local merge commits are included in the rebase\n",
      "           (see git-rebase(1) for details).\n",
      "\n",
      "           When the value is interactive (or just i), the rebase is run in\n",
      "           interactive mode.\n",
      "\n",
      "           NOTE: this is a possibly dangerous operation; do not use it unless\n",
      "           you understand the implications (see git-rebase(1) for details).\n",
      "\n",
      "       branch.<name>.description\n",
      "           Branch description, can be edited with git branch\n",
      "           --edit-description. Branch description is automatically added in\n",
      "           the format-patch cover letter or request-pull summary.\n",
      "\n",
      "       browser.<tool>.cmd\n",
      "           Specify the command to invoke the specified browser. The specified\n",
      "           command is evaluated in shell with the URLs passed as arguments.\n",
      "           (See git-web--browse(1).)\n",
      "\n",
      "       browser.<tool>.path\n",
      "           Override the path for the given tool that may be used to browse\n",
      "           HTML help (see -w option in git-help(1)) or a working repository in\n",
      "           gitweb (see git-instaweb(1)).\n",
      "\n",
      "       bundle.*\n",
      "           The bundle.* keys may appear in a bundle list file found via the\n",
      "           git clone --bundle-uri option. These keys currently have no effect\n",
      "           if placed in a repository config file, though this will change in\n",
      "           the future. See the bundle URI design document[1] for more details.\n",
      "\n",
      "       bundle.version\n",
      "           This integer value advertises the version of the bundle list format\n",
      "           used by the bundle list. Currently, the only accepted value is 1.\n",
      "\n",
      "       bundle.mode\n",
      "           This string value should be either all or any. This value describes\n",
      "           whether all of the advertised bundles are required to unbundle a\n",
      "           complete understanding of the bundled information (all) or if any\n",
      "           one of the listed bundle URIs is sufficient (any).\n",
      "\n",
      "       bundle.<id>.*\n",
      "           The bundle.<id>.* keys are used to describe a single item in the\n",
      "           bundle list, grouped under <id> for identification purposes.\n",
      "\n",
      "       bundle.<id>.uri\n",
      "           This string value defines the URI by which Git can reach the\n",
      "           contents of this <id>. This URI may be a bundle file or another\n",
      "           bundle list.\n",
      "\n",
      "       checkout.defaultRemote\n",
      "           When you run git checkout <something> or git switch <something> and\n",
      "           only have one remote, it may implicitly fall back on checking out\n",
      "           and tracking e.g.  origin/<something>. This stops working as soon\n",
      "           as you have more than one remote with a <something> reference. This\n"
     ]
    },
    {
     "name": "stdout",
     "output_type": "stream",
     "text": [
      "           setting allows for setting the name of a preferred remote that\n",
      "           should always win when it comes to disambiguation. The typical\n",
      "           use-case is to set this to origin.\n",
      "\n",
      "           Currently this is used by git-switch(1) and git-checkout(1) when\n",
      "           git checkout <something> or git switch <something> will checkout\n",
      "           the <something> branch on another remote, and by git-worktree(1)\n",
      "           when git worktree add refers to a remote branch. This setting might\n",
      "           be used for other checkout-like commands or functionality in the\n",
      "           future.\n",
      "\n",
      "       checkout.guess\n",
      "           Provides the default value for the --guess or --no-guess option in\n",
      "           git checkout and git switch. See git-switch(1) and git-checkout(1).\n",
      "\n",
      "       checkout.workers\n",
      "           The number of parallel workers to use when updating the working\n",
      "           tree. The default is one, i.e. sequential execution. If set to a\n",
      "           value less than one, Git will use as many workers as the number of\n",
      "           logical cores available. This setting and\n",
      "           checkout.thresholdForParallelism affect all commands that perform\n",
      "           checkout. E.g. checkout, clone, reset, sparse-checkout, etc.\n",
      "\n",
      "           Note: parallel checkout usually delivers better performance for\n",
      "           repositories located on SSDs or over NFS. For repositories on\n",
      "           spinning disks and/or machines with a small number of cores, the\n",
      "           default sequential checkout often performs better. The size and\n",
      "           compression level of a repository might also influence how well the\n",
      "           parallel version performs.\n",
      "\n",
      "       checkout.thresholdForParallelism\n",
      "           When running parallel checkout with a small number of files, the\n",
      "           cost of subprocess spawning and inter-process communication might\n",
      "           outweigh the parallelization gains. This setting allows to define\n",
      "           the minimum number of files for which parallel checkout should be\n",
      "           attempted. The default is 100.\n",
      "\n",
      "       clean.requireForce\n",
      "           A boolean to make git-clean do nothing unless given -f, -i or -n.\n",
      "           Defaults to true.\n",
      "\n",
      "       clone.defaultRemoteName\n",
      "           The name of the remote to create when cloning a repository.\n",
      "           Defaults to origin, and can be overridden by passing the --origin\n",
      "           command-line option to git-clone(1).\n",
      "\n",
      "       clone.rejectShallow\n",
      "           Reject to clone a repository if it is a shallow one, can be\n",
      "           overridden by passing option --reject-shallow in command line. See\n",
      "           git-clone(1)\n",
      "\n",
      "       clone.filterSubmodules\n",
      "           If a partial clone filter is provided (see --filter in git-rev-\n",
      "           list(1)) and --recurse-submodules is used, also apply the filter to\n",
      "           submodules.\n",
      "\n",
      "       color.advice\n",
      "           A boolean to enable/disable color in hints (e.g. when a push\n",
      "           failed, see advice.* for a list). May be set to always, false (or\n",
      "           never) or auto (or true), in which case colors are used only when\n",
      "           the error output goes to a terminal. If unset, then the value of\n",
      "           color.ui is used (auto by default).\n",
      "\n",
      "       color.advice.hint\n",
      "           Use customized color for hints.\n",
      "\n",
      "       color.blame.highlightRecent\n",
      "           Specify the line annotation color for git blame --color-by-age\n",
      "           depending upon the age of the line.\n",
      "\n",
      "           This setting should be set to a comma-separated list of color and\n",
      "           date settings, starting and ending with a color, the dates should\n",
      "           be set from oldest to newest. The metadata will be colored with the\n",
      "           specified colors if the line was introduced before the given\n",
      "           timestamp, overwriting older timestamped colors.\n",
      "\n",
      "           Instead of an absolute timestamp relative timestamps work as well,\n",
      "           e.g.  2.weeks.ago is valid to address anything older than 2 weeks.\n",
      "\n",
      "           It defaults to blue,12 month ago,white,1 month ago,red, which\n",
      "           colors everything older than one year blue, recent changes between\n",
      "           one month and one year old are kept white, and lines introduced\n",
      "           within the last month are colored red.\n",
      "\n",
      "       color.blame.repeatedLines\n",
      "           Use the specified color to colorize line annotations for git blame\n",
      "           --color-lines, if they come from the same commit as the preceding\n",
      "           line. Defaults to cyan.\n",
      "\n",
      "       color.branch\n",
      "           A boolean to enable/disable color in the output of git-branch(1).\n",
      "           May be set to always, false (or never) or auto (or true), in which\n",
      "           case colors are used only when the output is to a terminal. If\n",
      "           unset, then the value of color.ui is used (auto by default).\n",
      "\n",
      "       color.branch.<slot>\n",
      "           Use customized color for branch coloration.  <slot> is one of\n",
      "           current (the current branch), local (a local branch), remote (a\n",
      "           remote-tracking branch in refs/remotes/), upstream (upstream\n",
      "           tracking branch), plain (other refs).\n",
      "\n",
      "       color.diff\n",
      "           Whether to use ANSI escape sequences to add color to patches. If\n",
      "           this is set to always, git-diff(1), git-log(1), and git-show(1)\n",
      "           will use color for all patches. If it is set to true or auto, those\n",
      "           commands will only use color when output is to the terminal. If\n",
      "           unset, then the value of color.ui is used (auto by default).\n",
      "\n",
      "           This does not affect git-format-patch(1) or the git-diff-* plumbing\n",
      "           commands. Can be overridden on the command line with the\n",
      "           --color[=<when>] option.\n",
      "\n",
      "       color.diff.<slot>\n",
      "           Use customized color for diff colorization.  <slot> specifies which\n",
      "           part of the patch to use the specified color, and is one of context\n",
      "           (context text - plain is a historical synonym), meta\n",
      "           (metainformation), frag (hunk header), func (function in hunk\n",
      "           header), old (removed lines), new (added lines), commit (commit\n",
      "           headers), whitespace (highlighting whitespace errors), oldMoved\n",
      "           (deleted lines), newMoved (added lines), oldMovedDimmed,\n",
      "           oldMovedAlternative, oldMovedAlternativeDimmed, newMovedDimmed,\n",
      "           newMovedAlternative newMovedAlternativeDimmed (See the <mode>\n",
      "           setting of --color-moved in git-diff(1) for details),\n",
      "           contextDimmed, oldDimmed, newDimmed, contextBold, oldBold, and\n",
      "           newBold (see git-range-diff(1) for details).\n",
      "\n",
      "       color.decorate.<slot>\n",
      "           Use customized color for git log --decorate output.  <slot> is one\n",
      "           of branch, remoteBranch, tag, stash or HEAD for local branches,\n",
      "           remote-tracking branches, tags, stash and HEAD, respectively and\n",
      "           grafted for grafted commits.\n",
      "\n",
      "       color.grep\n",
      "           When set to always, always highlight matches. When false (or\n",
      "           never), never. When set to true or auto, use color only when the\n",
      "           output is written to the terminal. If unset, then the value of\n",
      "           color.ui is used (auto by default).\n",
      "\n",
      "       color.grep.<slot>\n",
      "           Use customized color for grep colorization.  <slot> specifies which\n",
      "           part of the line to use the specified color, and is one of\n",
      "\n",
      "           context\n",
      "               non-matching text in context lines (when using -A, -B, or -C)\n",
      "\n",
      "           filename\n",
      "               filename prefix (when not using -h)\n",
      "\n",
      "           function\n",
      "               function name lines (when using -p)\n",
      "\n",
      "           lineNumber\n",
      "               line number prefix (when using -n)\n",
      "\n",
      "           column\n",
      "               column number prefix (when using --column)\n",
      "\n",
      "           match\n",
      "               matching text (same as setting matchContext and matchSelected)\n",
      "\n",
      "           matchContext\n",
      "               matching text in context lines\n",
      "\n",
      "           matchSelected\n",
      "               matching text in selected lines. Also, used to customize the\n",
      "               following git-log(1) subcommands: --grep, --author and\n",
      "               --committer.\n",
      "\n",
      "           selected\n",
      "               non-matching text in selected lines. Also, used to customize\n",
      "               the following git-log(1) subcommands: --grep, --author and\n"
     ]
    },
    {
     "name": "stdout",
     "output_type": "stream",
     "text": [
      "               --committer.\n",
      "\n",
      "           separator\n",
      "               separators between fields on a line (:, -, and =) and between\n",
      "               hunks (--)\n",
      "\n",
      "       color.interactive\n",
      "           When set to always, always use colors for interactive prompts and\n",
      "           displays (such as those used by \"git-add --interactive\" and\n",
      "           \"git-clean --interactive\"). When false (or never), never. When set\n",
      "           to true or auto, use colors only when the output is to the\n",
      "           terminal. If unset, then the value of color.ui is used (auto by\n",
      "           default).\n",
      "\n",
      "       color.interactive.<slot>\n",
      "           Use customized color for git add --interactive and git clean\n",
      "           --interactive output.  <slot> may be prompt, header, help or error,\n",
      "           for four distinct types of normal output from interactive commands.\n",
      "\n",
      "       color.pager\n",
      "           A boolean to specify whether auto color modes should colorize\n",
      "           output going to the pager. Defaults to true; set this to false if\n",
      "           your pager does not understand ANSI color codes.\n",
      "\n",
      "       color.push\n",
      "           A boolean to enable/disable color in push errors. May be set to\n",
      "           always, false (or never) or auto (or true), in which case colors\n",
      "           are used only when the error output goes to a terminal. If unset,\n",
      "           then the value of color.ui is used (auto by default).\n",
      "\n",
      "       color.push.error\n",
      "           Use customized color for push errors.\n",
      "\n",
      "       color.remote\n",
      "           If set, keywords at the start of the line are highlighted. The\n",
      "           keywords are \"error\", \"warning\", \"hint\" and \"success\", and are\n",
      "           matched case-insensitively. May be set to always, false (or never)\n",
      "           or auto (or true). If unset, then the value of color.ui is used\n",
      "           (auto by default).\n",
      "\n",
      "       color.remote.<slot>\n",
      "           Use customized color for each remote keyword.  <slot> may be hint,\n",
      "           warning, success or error which match the corresponding keyword.\n",
      "\n",
      "       color.showBranch\n",
      "           A boolean to enable/disable color in the output of git-show-\n",
      "           branch(1). May be set to always, false (or never) or auto (or\n",
      "           true), in which case colors are used only when the output is to a\n",
      "           terminal. If unset, then the value of color.ui is used (auto by\n",
      "           default).\n",
      "\n",
      "       color.status\n",
      "           A boolean to enable/disable color in the output of git-status(1).\n",
      "           May be set to always, false (or never) or auto (or true), in which\n",
      "           case colors are used only when the output is to a terminal. If\n",
      "           unset, then the value of color.ui is used (auto by default).\n",
      "\n",
      "       color.status.<slot>\n",
      "           Use customized color for status colorization.  <slot> is one of\n",
      "           header (the header text of the status message), added or updated\n",
      "           (files which are added but not committed), changed (files which are\n",
      "           changed but not added in the index), untracked (files which are not\n",
      "           tracked by Git), branch (the current branch), nobranch (the color\n",
      "           the no branch warning is shown in, defaulting to red), localBranch\n",
      "           or remoteBranch (the local and remote branch names, respectively,\n",
      "           when branch and tracking information is displayed in the status\n",
      "           short-format), or unmerged (files which have unmerged changes).\n",
      "\n",
      "       color.transport\n",
      "           A boolean to enable/disable color when pushes are rejected. May be\n",
      "           set to always, false (or never) or auto (or true), in which case\n",
      "           colors are used only when the error output goes to a terminal. If\n",
      "           unset, then the value of color.ui is used (auto by default).\n",
      "\n",
      "       color.transport.rejected\n",
      "           Use customized color when a push was rejected.\n",
      "\n",
      "       color.ui\n",
      "           This variable determines the default value for variables such as\n",
      "           color.diff and color.grep that control the use of color per command\n",
      "           family. Its scope will expand as more commands learn configuration\n",
      "           to set a default for the --color option. Set it to false or never\n",
      "           if you prefer Git commands not to use color unless enabled\n",
      "           explicitly with some other configuration or the --color option. Set\n",
      "           it to always if you want all output not intended for machine\n",
      "           consumption to use color, to true or auto (this is the default\n",
      "           since Git 1.8.4) if you want such output to use color when written\n",
      "           to the terminal.\n",
      "\n",
      "       column.ui\n",
      "           Specify whether supported commands should output in columns. This\n",
      "           variable consists of a list of tokens separated by spaces or\n",
      "           commas:\n",
      "\n",
      "           These options control when the feature should be enabled (defaults\n",
      "           to never):\n",
      "\n",
      "           always\n",
      "               always show in columns\n",
      "\n",
      "           never\n",
      "               never show in columns\n",
      "\n",
      "           auto\n",
      "               show in columns if the output is to the terminal\n",
      "\n",
      "           These options control layout (defaults to column). Setting any of\n",
      "           these implies always if none of always, never, or auto are\n",
      "           specified.\n",
      "\n",
      "           column\n",
      "               fill columns before rows\n",
      "\n",
      "           row\n",
      "               fill rows before columns\n",
      "\n",
      "           plain\n",
      "               show in one column\n",
      "\n",
      "           Finally, these options can be combined with a layout option\n",
      "           (defaults to nodense):\n",
      "\n",
      "           dense\n",
      "               make unequal size columns to utilize more space\n",
      "\n",
      "           nodense\n",
      "               make equal size columns\n",
      "\n",
      "       column.branch\n",
      "           Specify whether to output branch listing in git branch in columns.\n",
      "           See column.ui for details.\n",
      "\n",
      "       column.clean\n",
      "           Specify the layout when list items in git clean -i, which always\n",
      "           shows files and directories in columns. See column.ui for details.\n",
      "\n",
      "       column.status\n",
      "           Specify whether to output untracked files in git status in columns.\n",
      "           See column.ui for details.\n",
      "\n",
      "       column.tag\n",
      "           Specify whether to output tag listing in git tag in columns. See\n",
      "           column.ui for details.\n",
      "\n",
      "       commit.cleanup\n",
      "           This setting overrides the default of the --cleanup option in git\n",
      "           commit. See git-commit(1) for details. Changing the default can be\n",
      "           useful when you always want to keep lines that begin with comment\n",
      "           character # in your log message, in which case you would do git\n",
      "           config commit.cleanup whitespace (note that you will have to remove\n",
      "           the help lines that begin with # in the commit log template\n",
      "           yourself, if you do this).\n",
      "\n",
      "       commit.gpgSign\n",
      "           A boolean to specify whether all commits should be GPG signed. Use\n",
      "           of this option when doing operations such as rebase can result in a\n",
      "           large number of commits being signed. It may be convenient to use\n",
      "           an agent to avoid typing your GPG passphrase several times.\n",
      "\n",
      "       commit.status\n",
      "           A boolean to enable/disable inclusion of status information in the\n",
      "           commit message template when using an editor to prepare the commit\n",
      "           message. Defaults to true.\n",
      "\n",
      "       commit.template\n",
      "           Specify the pathname of a file to use as the template for new\n",
      "           commit messages.\n",
      "\n",
      "       commit.verbose\n",
      "           A boolean or int to specify the level of verbose with git commit.\n",
      "           See git-commit(1).\n",
      "\n",
      "       commitGraph.generationVersion\n",
      "           Specifies the type of generation number version to use when writing\n",
      "           or reading the commit-graph file. If version 1 is specified, then\n",
      "           the corrected commit dates will not be written or read. Defaults to\n",
      "           2.\n",
      "\n",
      "       commitGraph.maxNewFilters\n",
      "           Specifies the default value for the --max-new-filters option of git\n",
      "           commit-graph write (c.f., git-commit-graph(1)).\n",
      "\n",
      "       commitGraph.readChangedPaths\n",
      "           If true, then git will use the changed-path Bloom filters in the\n",
      "           commit-graph file (if it exists, and they are present). Defaults to\n",
      "           true. See git-commit-graph(1) for more information.\n",
      "\n",
      "       credential.helper\n"
     ]
    },
    {
     "name": "stdout",
     "output_type": "stream",
     "text": [
      "           Specify an external helper to be called when a username or password\n",
      "           credential is needed; the helper may consult external storage to\n",
      "           avoid prompting the user for the credentials. This is normally the\n",
      "           name of a credential helper with possible arguments, but may also\n",
      "           be an absolute path with arguments or, if preceded by !, shell\n",
      "           commands.\n",
      "\n",
      "           Note that multiple helpers may be defined. See gitcredentials(7)\n",
      "           for details and examples.\n",
      "\n",
      "       credential.useHttpPath\n",
      "           When acquiring credentials, consider the \"path\" component of an\n",
      "           http or https URL to be important. Defaults to false. See\n",
      "           gitcredentials(7) for more information.\n",
      "\n",
      "       credential.username\n",
      "           If no username is set for a network authentication, use this\n",
      "           username by default. See credential.<context>.* below, and\n",
      "           gitcredentials(7).\n",
      "\n",
      "       credential.<url>.*\n",
      "           Any of the credential.* options above can be applied selectively to\n",
      "           some credentials. For example\n",
      "           \"credential.https://example.com.username\" would set the default\n",
      "           username only for https connections to example.com. See\n",
      "           gitcredentials(7) for details on how URLs are matched.\n",
      "\n",
      "       credentialCache.ignoreSIGHUP\n",
      "           Tell git-credential-cache—daemon to ignore SIGHUP, instead of\n",
      "           quitting.\n",
      "\n",
      "       credentialStore.lockTimeoutMS\n",
      "           The length of time, in milliseconds, for git-credential-store to\n",
      "           retry when trying to lock the credentials file. Value 0 means not\n",
      "           to retry at all; -1 means to try indefinitely. Default is 1000\n",
      "           (i.e., retry for 1s).\n",
      "\n",
      "       completion.commands\n",
      "           This is only used by git-completion.bash to add or remove commands\n",
      "           from the list of completed commands. Normally only porcelain\n",
      "           commands and a few select others are completed. You can add more\n",
      "           commands, separated by space, in this variable. Prefixing the\n",
      "           command with - will remove it from the existing list.\n",
      "\n",
      "       diff.autoRefreshIndex\n",
      "           When using git diff to compare with work tree files, do not\n",
      "           consider stat-only change as changed. Instead, silently run git\n",
      "           update-index --refresh to update the cached stat information for\n",
      "           paths whose contents in the work tree match the contents in the\n",
      "           index. This option defaults to true. Note that this affects only\n",
      "           git diff Porcelain, and not lower level diff commands such as git\n",
      "           diff-files.\n",
      "\n",
      "       diff.dirstat\n",
      "           A comma separated list of --dirstat parameters specifying the\n",
      "           default behavior of the --dirstat option to git-diff(1) and\n",
      "           friends. The defaults can be overridden on the command line (using\n",
      "           --dirstat=<param1,param2,...>). The fallback defaults (when not\n",
      "           changed by diff.dirstat) are changes,noncumulative,3. The following\n",
      "           parameters are available:\n",
      "\n",
      "           changes\n",
      "               Compute the dirstat numbers by counting the lines that have\n",
      "               been removed from the source, or added to the destination. This\n",
      "               ignores the amount of pure code movements within a file. In\n",
      "               other words, rearranging lines in a file is not counted as much\n",
      "               as other changes. This is the default behavior when no\n",
      "               parameter is given.\n",
      "\n",
      "           lines\n",
      "               Compute the dirstat numbers by doing the regular line-based\n",
      "               diff analysis, and summing the removed/added line counts. (For\n",
      "               binary files, count 64-byte chunks instead, since binary files\n",
      "               have no natural concept of lines). This is a more expensive\n",
      "               --dirstat behavior than the changes behavior, but it does count\n",
      "               rearranged lines within a file as much as other changes. The\n",
      "               resulting output is consistent with what you get from the other\n",
      "               --*stat options.\n",
      "\n",
      "           files\n",
      "               Compute the dirstat numbers by counting the number of files\n",
      "               changed. Each changed file counts equally in the dirstat\n",
      "               analysis. This is the computationally cheapest --dirstat\n",
      "               behavior, since it does not have to look at the file contents\n",
      "               at all.\n",
      "\n",
      "           cumulative\n",
      "               Count changes in a child directory for the parent directory as\n",
      "               well. Note that when using cumulative, the sum of the\n",
      "               percentages reported may exceed 100%. The default\n",
      "               (non-cumulative) behavior can be specified with the\n",
      "               noncumulative parameter.\n",
      "\n",
      "           <limit>\n",
      "               An integer parameter specifies a cut-off percent (3% by\n",
      "               default). Directories contributing less than this percentage of\n",
      "               the changes are not shown in the output.\n",
      "\n",
      "           Example: The following will count changed files, while ignoring\n",
      "           directories with less than 10% of the total amount of changed\n",
      "           files, and accumulating child directory counts in the parent\n",
      "           directories: files,10,cumulative.\n",
      "\n",
      "       diff.statGraphWidth\n",
      "           Limit the width of the graph part in --stat output. If set, applies\n",
      "           to all commands generating --stat output except format-patch.\n",
      "\n",
      "       diff.context\n",
      "           Generate diffs with <n> lines of context instead of the default of\n",
      "           3. This value is overridden by the -U option.\n",
      "\n",
      "       diff.interHunkContext\n",
      "           Show the context between diff hunks, up to the specified number of\n",
      "           lines, thereby fusing the hunks that are close to each other. This\n",
      "           value serves as the default for the --inter-hunk-context command\n",
      "           line option.\n",
      "\n",
      "       diff.external\n",
      "           If this config variable is set, diff generation is not performed\n",
      "           using the internal diff machinery, but using the given command. Can\n",
      "           be overridden with the ‘GIT_EXTERNAL_DIFF’ environment variable.\n",
      "           The command is called with parameters as described under \"git\n",
      "           Diffs\" in git(1). Note: if you want to use an external diff program\n",
      "           only on a subset of your files, you might want to use\n",
      "           gitattributes(5) instead.\n",
      "\n",
      "       diff.ignoreSubmodules\n",
      "           Sets the default value of --ignore-submodules. Note that this\n",
      "           affects only git diff Porcelain, and not lower level diff commands\n",
      "           such as git diff-files.  git checkout and git switch also honor\n",
      "           this setting when reporting uncommitted changes. Setting it to all\n",
      "           disables the submodule summary normally shown by git commit and git\n",
      "           status when status.submoduleSummary is set unless it is overridden\n",
      "           by using the --ignore-submodules command-line option. The git\n",
      "           submodule commands are not affected by this setting. By default\n",
      "           this is set to untracked so that any untracked submodules are\n",
      "           ignored.\n",
      "\n",
      "       diff.mnemonicPrefix\n",
      "           If set, git diff uses a prefix pair that is different from the\n",
      "           standard \"a/\" and \"b/\" depending on what is being compared. When\n",
      "           this configuration is in effect, reverse diff output also swaps the\n",
      "           order of the prefixes:\n",
      "\n",
      "           git diff\n",
      "               compares the (i)ndex and the (w)ork tree;\n",
      "\n",
      "           git diff HEAD\n",
      "               compares a (c)ommit and the (w)ork tree;\n",
      "\n",
      "           git diff --cached\n",
      "               compares a (c)ommit and the (i)ndex;\n",
      "\n",
      "           git diff HEAD:file1 file2\n",
      "               compares an (o)bject and a (w)ork tree entity;\n",
      "\n",
      "           git diff --no-index a b\n",
      "               compares two non-git things (1) and (2).\n",
      "\n",
      "       diff.noprefix\n",
      "           If set, git diff does not show any source or destination prefix.\n",
      "\n",
      "       diff.relative\n",
      "           If set to true, git diff does not show changes outside of the\n",
      "           directory and show pathnames relative to the current directory.\n",
      "\n",
      "       diff.orderFile\n",
      "           File indicating how to order files within a diff. See the -O option\n"
     ]
    },
    {
     "name": "stdout",
     "output_type": "stream",
     "text": [
      "           to git-diff(1) for details. If diff.orderFile is a relative\n",
      "           pathname, it is treated as relative to the top of the working tree.\n",
      "\n",
      "       diff.renameLimit\n",
      "           The number of files to consider in the exhaustive portion of\n",
      "           copy/rename detection; equivalent to the git diff option -l. If not\n",
      "           set, the default value is currently 1000. This setting has no\n",
      "           effect if rename detection is turned off.\n",
      "\n",
      "       diff.renames\n",
      "           Whether and how Git detects renames. If set to \"false\", rename\n",
      "           detection is disabled. If set to \"true\", basic rename detection is\n",
      "           enabled. If set to \"copies\" or \"copy\", Git will detect copies, as\n",
      "           well. Defaults to true. Note that this affects only git diff\n",
      "           Porcelain like git-diff(1) and git-log(1), and not lower level\n",
      "           commands such as git-diff-files(1).\n",
      "\n",
      "       diff.suppressBlankEmpty\n",
      "           A boolean to inhibit the standard behavior of printing a space\n",
      "           before each empty output line. Defaults to false.\n",
      "\n",
      "       diff.submodule\n",
      "           Specify the format in which differences in submodules are shown.\n",
      "           The \"short\" format just shows the names of the commits at the\n",
      "           beginning and end of the range. The \"log\" format lists the commits\n",
      "           in the range like git-submodule(1) summary does. The \"diff\" format\n",
      "           shows an inline diff of the changed contents of the submodule.\n",
      "           Defaults to \"short\".\n",
      "\n",
      "       diff.wordRegex\n",
      "           A POSIX Extended Regular Expression used to determine what is a\n",
      "           \"word\" when performing word-by-word difference calculations.\n",
      "           Character sequences that match the regular expression are \"words\",\n",
      "           all other characters are ignorable whitespace.\n",
      "\n",
      "       diff.<driver>.command\n",
      "           The custom diff driver command. See gitattributes(5) for details.\n",
      "\n",
      "       diff.<driver>.xfuncname\n",
      "           The regular expression that the diff driver should use to recognize\n",
      "           the hunk header. A built-in pattern may also be used. See\n",
      "           gitattributes(5) for details.\n",
      "\n",
      "       diff.<driver>.binary\n",
      "           Set this option to true to make the diff driver treat files as\n",
      "           binary. See gitattributes(5) for details.\n",
      "\n",
      "       diff.<driver>.textconv\n",
      "           The command that the diff driver should call to generate the\n",
      "           text-converted version of a file. The result of the conversion is\n",
      "           used to generate a human-readable diff. See gitattributes(5) for\n",
      "           details.\n",
      "\n",
      "       diff.<driver>.wordRegex\n",
      "           The regular expression that the diff driver should use to split\n",
      "           words in a line. See gitattributes(5) for details.\n",
      "\n",
      "       diff.<driver>.cachetextconv\n",
      "           Set this option to true to make the diff driver cache the text\n",
      "           conversion outputs. See gitattributes(5) for details.\n",
      "\n",
      "           araxis\n",
      "               Use Araxis Merge (requires a graphical session)\n",
      "\n",
      "           bc\n",
      "               Use Beyond Compare (requires a graphical session)\n",
      "\n",
      "           bc3\n",
      "               Use Beyond Compare (requires a graphical session)\n",
      "\n",
      "           bc4\n",
      "               Use Beyond Compare (requires a graphical session)\n",
      "\n",
      "           codecompare\n",
      "               Use Code Compare (requires a graphical session)\n",
      "\n",
      "           deltawalker\n",
      "               Use DeltaWalker (requires a graphical session)\n",
      "\n",
      "           diffmerge\n",
      "               Use DiffMerge (requires a graphical session)\n",
      "\n",
      "           diffuse\n",
      "               Use Diffuse (requires a graphical session)\n",
      "\n",
      "           ecmerge\n",
      "               Use ECMerge (requires a graphical session)\n",
      "\n",
      "           emerge\n",
      "               Use Emacs' Emerge\n",
      "\n",
      "           examdiff\n",
      "               Use ExamDiff Pro (requires a graphical session)\n",
      "\n",
      "           guiffy\n",
      "               Use Guiffy’s Diff Tool (requires a graphical session)\n",
      "\n",
      "           gvimdiff\n",
      "               Use gVim (requires a graphical session)\n",
      "\n",
      "           kdiff3\n",
      "               Use KDiff3 (requires a graphical session)\n",
      "\n",
      "           kompare\n",
      "               Use Kompare (requires a graphical session)\n",
      "\n",
      "           meld\n",
      "               Use Meld (requires a graphical session)\n",
      "\n",
      "           nvimdiff\n",
      "               Use Neovim\n",
      "\n",
      "           opendiff\n",
      "               Use FileMerge (requires a graphical session)\n",
      "\n",
      "           p4merge\n",
      "               Use HelixCore P4Merge (requires a graphical session)\n",
      "\n",
      "           smerge\n",
      "               Use Sublime Merge (requires a graphical session)\n",
      "\n",
      "           tkdiff\n",
      "               Use TkDiff (requires a graphical session)\n",
      "\n",
      "           vimdiff\n",
      "               Use Vim\n",
      "\n",
      "           winmerge\n",
      "               Use WinMerge (requires a graphical session)\n",
      "\n",
      "           xxdiff\n",
      "               Use xxdiff (requires a graphical session)\n",
      "\n",
      "       diff.indentHeuristic\n",
      "           Set this option to false to disable the default heuristics that\n",
      "           shift diff hunk boundaries to make patches easier to read.\n",
      "\n",
      "       diff.algorithm\n",
      "           Choose a diff algorithm. The variants are as follows:\n",
      "\n",
      "           default, myers\n",
      "               The basic greedy diff algorithm. Currently, this is the\n",
      "               default.\n",
      "\n",
      "           minimal\n",
      "               Spend extra time to make sure the smallest possible diff is\n",
      "               produced.\n",
      "\n",
      "           patience\n",
      "               Use \"patience diff\" algorithm when generating patches.\n",
      "\n",
      "           histogram\n",
      "               This algorithm extends the patience algorithm to \"support\n",
      "               low-occurrence common elements\".\n",
      "\n",
      "       diff.wsErrorHighlight\n",
      "           Highlight whitespace errors in the context, old or new lines of the\n",
      "           diff. Multiple values are separated by comma, none resets previous\n",
      "           values, default reset the list to new and all is a shorthand for\n",
      "           old,new,context. The whitespace errors are colored with\n",
      "           color.diff.whitespace. The command line option\n",
      "           --ws-error-highlight=<kind> overrides this setting.\n",
      "\n",
      "       diff.colorMoved\n",
      "           If set to either a valid <mode> or a true value, moved lines in a\n",
      "           diff are colored differently, for details of valid modes see\n",
      "           --color-moved in git-diff(1). If simply set to true the default\n",
      "           color mode will be used. When set to false, moved lines are not\n",
      "           colored.\n",
      "\n",
      "       diff.colorMovedWS\n",
      "           When moved lines are colored using e.g. the diff.colorMoved\n",
      "           setting, this option controls the <mode> how spaces are treated for\n",
      "           details of valid modes see --color-moved-ws in git-diff(1).\n",
      "\n",
      "       diff.tool\n",
      "           Controls which diff tool is used by git-difftool(1). This variable\n",
      "           overrides the value configured in merge.tool. The list below shows\n",
      "           the valid built-in values. Any other value is treated as a custom\n",
      "           diff tool and requires that a corresponding difftool.<tool>.cmd\n",
      "           variable is defined.\n",
      "\n",
      "       diff.guitool\n",
      "           Controls which diff tool is used by git-difftool(1) when the\n",
      "           -g/--gui flag is specified. This variable overrides the value\n",
      "           configured in merge.guitool. The list below shows the valid\n",
      "           built-in values. Any other value is treated as a custom diff tool\n",
      "           and requires that a corresponding difftool.<guitool>.cmd variable\n",
      "           is defined.\n",
      "\n",
      "       difftool.<tool>.cmd\n",
      "           Specify the command to invoke the specified diff tool. The\n",
      "           specified command is evaluated in shell with the following\n",
      "           variables available: LOCAL is set to the name of the temporary file\n",
      "           containing the contents of the diff pre-image and REMOTE is set to\n",
      "           the name of the temporary file containing the contents of the diff\n",
      "           post-image.\n",
      "\n",
      "           See the --tool=<tool> option in git-difftool(1) for more details.\n",
      "\n",
      "       difftool.<tool>.path\n",
      "           Override the path for the given tool. This is useful in case your\n",
      "           tool is not in the PATH.\n",
      "\n",
      "       difftool.trustExitCode\n",
      "           Exit difftool if the invoked diff tool returns a non-zero exit\n",
      "           status.\n",
      "\n",
      "           See the --trust-exit-code option in git-difftool(1) for more\n",
      "           details.\n",
      "\n",
      "       difftool.prompt\n",
      "           Prompt before each invocation of the diff tool.\n"
     ]
    },
    {
     "name": "stdout",
     "output_type": "stream",
     "text": [
      "\n",
      "       extensions.objectFormat\n",
      "           Specify the hash algorithm to use. The acceptable values are sha1\n",
      "           and sha256. If not specified, sha1 is assumed. It is an error to\n",
      "           specify this key unless core.repositoryFormatVersion is 1.\n",
      "\n",
      "           Note that this setting should only be set by git-init(1) or git-\n",
      "           clone(1). Trying to change it after initialization will not work\n",
      "           and will produce hard-to-diagnose issues.\n",
      "\n",
      "       extensions.worktreeConfig\n",
      "           If enabled, then worktrees will load config settings from the\n",
      "           $GIT_DIR/config.worktree file in addition to the\n",
      "           $GIT_COMMON_DIR/config file. Note that $GIT_COMMON_DIR and $GIT_DIR\n",
      "           are the same for the main working tree, while other working trees\n",
      "           have $GIT_DIR equal to $GIT_COMMON_DIR/worktrees/<id>/. The\n",
      "           settings in the config.worktree file will override settings from\n",
      "           any other config files.\n",
      "\n",
      "           When enabling extensions.worktreeConfig, you must be careful to\n",
      "           move certain values from the common config file to the main working\n",
      "           tree’s config.worktree file, if present:\n",
      "\n",
      "           •   core.worktree must be moved from $GIT_COMMON_DIR/config to\n",
      "               $GIT_COMMON_DIR/config.worktree.\n",
      "\n",
      "           •   If core.bare is true, then it must be moved from\n",
      "               $GIT_COMMON_DIR/config to $GIT_COMMON_DIR/config.worktree.\n",
      "\n",
      "               It may also be beneficial to adjust the locations of\n",
      "               core.sparseCheckout and core.sparseCheckoutCone depending on\n",
      "               your desire for customizable sparse-checkout settings for each\n",
      "               worktree. By default, the git sparse-checkout builtin enables\n",
      "               extensions.worktreeConfig, assigns these config values on a\n",
      "               per-worktree basis, and uses the $GIT_DIR/info/sparse-checkout\n",
      "               file to specify the sparsity for each worktree independently.\n",
      "               See git-sparse-checkout(1) for more details.\n",
      "\n",
      "               For historical reasons, extensions.worktreeConfig is respected\n",
      "               regardless of the core.repositoryFormatVersion setting.\n",
      "\n",
      "       fastimport.unpackLimit\n",
      "           If the number of objects imported by git-fast-import(1) is below\n",
      "           this limit, then the objects will be unpacked into loose object\n",
      "           files. However if the number of imported objects equals or exceeds\n",
      "           this limit then the pack will be stored as a pack. Storing the pack\n",
      "           from a fast-import can make the import operation complete faster,\n",
      "           especially on slow filesystems. If not set, the value of\n",
      "           transfer.unpackLimit is used instead.\n",
      "\n",
      "       feature.*\n",
      "           The config settings that start with feature. modify the defaults of\n",
      "           a group of other config settings. These groups are created by the\n",
      "           Git developer community as recommended defaults and are subject to\n",
      "           change. In particular, new config options may be added with\n",
      "           different defaults.\n",
      "\n",
      "       feature.experimental\n",
      "           Enable config options that are new to Git, and are being considered\n",
      "           for future defaults. Config settings included here may be added or\n",
      "           removed with each release, including minor version updates. These\n",
      "           settings may have unintended interactions since they are so new.\n",
      "           Please enable this setting if you are interested in providing\n",
      "           feedback on experimental features. The new default values are:\n",
      "\n",
      "           •   fetch.negotiationAlgorithm=skipping may improve fetch\n",
      "               negotiation times by skipping more commits at a time, reducing\n",
      "               the number of round trips.\n",
      "\n",
      "           •   gc.cruftPacks=true reduces disk space used by unreachable\n",
      "               objects during garbage collection, preventing loose object\n",
      "               explosions.\n",
      "\n",
      "       feature.manyFiles\n",
      "           Enable config options that optimize for repos with many files in\n",
      "           the working directory. With many files, commands such as git status\n",
      "           and git checkout may be slow and these new defaults improve\n",
      "           performance:\n",
      "\n",
      "           •   index.version=4 enables path-prefix compression in the index.\n",
      "\n",
      "           •   core.untrackedCache=true enables the untracked cache. This\n",
      "               setting assumes that mtime is working on your machine.\n",
      "\n",
      "       fetch.recurseSubmodules\n",
      "           This option controls whether git fetch (and the underlying fetch in\n",
      "           git pull) will recursively fetch into populated submodules. This\n",
      "           option can be set either to a boolean value or to on-demand.\n",
      "           Setting it to a boolean changes the behavior of fetch and pull to\n",
      "           recurse unconditionally into submodules when set to true or to not\n",
      "           recurse at all when set to false. When set to on-demand, fetch and\n",
      "           pull will only recurse into a populated submodule when its\n",
      "           superproject retrieves a commit that updates the submodule’s\n",
      "           reference. Defaults to on-demand, or to the value of\n",
      "           submodule.recurse if set.\n",
      "\n",
      "       fetch.fsckObjects\n",
      "           If it is set to true, git-fetch-pack will check all fetched\n",
      "           objects. See transfer.fsckObjects for what’s checked. Defaults to\n",
      "           false. If not set, the value of transfer.fsckObjects is used\n",
      "           instead.\n",
      "\n",
      "       fetch.fsck.<msg-id>\n",
      "           Acts like fsck.<msg-id>, but is used by git-fetch-pack(1) instead\n",
      "           of git-fsck(1). See the fsck.<msg-id> documentation for details.\n",
      "\n",
      "       fetch.fsck.skipList\n",
      "           Acts like fsck.skipList, but is used by git-fetch-pack(1) instead\n",
      "           of git-fsck(1). See the fsck.skipList documentation for details.\n",
      "\n",
      "       fetch.unpackLimit\n",
      "           If the number of objects fetched over the Git native transfer is\n",
      "           below this limit, then the objects will be unpacked into loose\n",
      "           object files. However if the number of received objects equals or\n",
      "           exceeds this limit then the received pack will be stored as a pack,\n",
      "           after adding any missing delta bases. Storing the pack from a push\n",
      "           can make the push operation complete faster, especially on slow\n",
      "           filesystems. If not set, the value of transfer.unpackLimit is used\n",
      "           instead.\n",
      "\n",
      "       fetch.prune\n",
      "           If true, fetch will automatically behave as if the --prune option\n",
      "           was given on the command line. See also remote.<name>.prune and the\n",
      "           PRUNING section of git-fetch(1).\n",
      "\n",
      "       fetch.pruneTags\n",
      "           If true, fetch will automatically behave as if the\n",
      "           refs/tags/*:refs/tags/* refspec was provided when pruning, if not\n",
      "           set already. This allows for setting both this option and\n",
      "           fetch.prune to maintain a 1=1 mapping to upstream refs. See also\n",
      "           remote.<name>.pruneTags and the PRUNING section of git-fetch(1).\n",
      "\n",
      "       fetch.output\n",
      "           Control how ref update status is printed. Valid values are full and\n",
      "           compact. Default value is full. See section OUTPUT in git-fetch(1)\n",
      "           for detail.\n",
      "\n",
      "       fetch.negotiationAlgorithm\n",
      "           Control how information about the commits in the local repository\n",
      "           is sent when negotiating the contents of the packfile to be sent by\n",
      "           the server. Set to \"consecutive\" to use an algorithm that walks\n",
      "           over consecutive commits checking each one. Set to \"skipping\" to\n",
      "           use an algorithm that skips commits in an effort to converge\n",
      "           faster, but may result in a larger-than-necessary packfile; or set\n",
      "           to \"noop\" to not send any information at all, which will almost\n",
      "           certainly result in a larger-than-necessary packfile, but will skip\n",
      "           the negotiation step. Set to \"default\" to override settings made\n",
      "           previously and use the default behaviour. The default is normally\n",
      "           \"consecutive\", but if feature.experimental is true, then the\n",
      "           default is \"skipping\". Unknown values will cause git fetch to error\n",
      "           out.\n",
      "\n",
      "           See also the --negotiate-only and --negotiation-tip options to git-\n"
     ]
    },
    {
     "name": "stdout",
     "output_type": "stream",
     "text": [
      "           fetch(1).\n",
      "\n",
      "       fetch.showForcedUpdates\n",
      "           Set to false to enable --no-show-forced-updates in git-fetch(1) and\n",
      "           git-pull(1) commands. Defaults to true.\n",
      "\n",
      "       fetch.parallel\n",
      "           Specifies the maximal number of fetch operations to be run in\n",
      "           parallel at a time (submodules, or remotes when the --multiple\n",
      "           option of git-fetch(1) is in effect).\n",
      "\n",
      "           A value of 0 will give some reasonable default. If unset, it\n",
      "           defaults to 1.\n",
      "\n",
      "           For submodules, this setting can be overridden using the\n",
      "           submodule.fetchJobs config setting.\n",
      "\n",
      "       fetch.writeCommitGraph\n",
      "           Set to true to write a commit-graph after every git fetch command\n",
      "           that downloads a pack-file from a remote. Using the --split option,\n",
      "           most executions will create a very small commit-graph file on top\n",
      "           of the existing commit-graph file(s). Occasionally, these files\n",
      "           will merge and the write may take longer. Having an updated\n",
      "           commit-graph file helps performance of many Git commands, including\n",
      "           git merge-base, git push -f, and git log --graph. Defaults to\n",
      "           false.\n",
      "\n",
      "       format.attach\n",
      "           Enable multipart/mixed attachments as the default for format-patch.\n",
      "           The value can also be a double quoted string which will enable\n",
      "           attachments as the default and set the value as the boundary. See\n",
      "           the --attach option in git-format-patch(1).\n",
      "\n",
      "       format.from\n",
      "           Provides the default value for the --from option to format-patch.\n",
      "           Accepts a boolean value, or a name and email address. If false,\n",
      "           format-patch defaults to --no-from, using commit authors directly\n",
      "           in the \"From:\" field of patch mails. If true, format-patch defaults\n",
      "           to --from, using your committer identity in the \"From:\" field of\n",
      "           patch mails and including a \"From:\" field in the body of the patch\n",
      "           mail if different. If set to a non-boolean value, format-patch uses\n",
      "           that value instead of your committer identity. Defaults to false.\n",
      "\n",
      "       format.forceInBodyFrom\n",
      "           Provides the default value for the --[no-]force-in-body-from option\n",
      "           to format-patch. Defaults to false.\n",
      "\n",
      "       format.numbered\n",
      "           A boolean which can enable or disable sequence numbers in patch\n",
      "           subjects. It defaults to \"auto\" which enables it only if there is\n",
      "           more than one patch. It can be enabled or disabled for all messages\n",
      "           by setting it to \"true\" or \"false\". See --numbered option in git-\n",
      "           format-patch(1).\n",
      "\n",
      "       format.headers\n",
      "           Additional email headers to include in a patch to be submitted by\n",
      "           mail. See git-format-patch(1).\n",
      "\n",
      "       format.to, format.cc\n",
      "           Additional recipients to include in a patch to be submitted by\n",
      "           mail. See the --to and --cc options in git-format-patch(1).\n",
      "\n",
      "       format.subjectPrefix\n",
      "           The default for format-patch is to output files with the [PATCH]\n",
      "           subject prefix. Use this variable to change that prefix.\n",
      "\n",
      "       format.coverFromDescription\n",
      "           The default mode for format-patch to determine which parts of the\n",
      "           cover letter will be populated using the branch’s description. See\n",
      "           the --cover-from-description option in git-format-patch(1).\n",
      "\n",
      "       format.signature\n",
      "           The default for format-patch is to output a signature containing\n",
      "           the Git version number. Use this variable to change that default.\n",
      "           Set this variable to the empty string (\"\") to suppress signature\n",
      "           generation.\n",
      "\n",
      "       format.signatureFile\n",
      "           Works just like format.signature except the contents of the file\n"
     ]
    },
    {
     "name": "stderr",
     "output_type": "stream",
     "text": [
      "IOPub message rate exceeded.\n",
      "The notebook server will temporarily stop sending output\n",
      "to the client in order to avoid crashing it.\n",
      "To change this limit, set the config variable\n",
      "`--NotebookApp.iopub_msg_rate_limit`.\n",
      "\n",
      "Current values:\n",
      "NotebookApp.iopub_msg_rate_limit=1000.0 (msgs/sec)\n",
      "NotebookApp.rate_limit_window=3.0 (secs)\n",
      "\n"
     ]
    }
   ],
   "source": [
    "git config --help"
   ]
  },
  {
   "cell_type": "markdown",
   "metadata": {
    "slideshow": {
     "slide_type": "fragment"
    }
   },
   "source": [
    "Git ma bardzo dobrą dokumentacje dla każdego z jego `poleceń`. Wywołujemy ją komendą `git polecenie -h` lub `git polecenie --help`"
   ]
  },
  {
   "cell_type": "markdown",
   "metadata": {
    "slideshow": {
     "slide_type": "slide"
    }
   },
   "source": [
    "### Tworzenie repozytorium\n",
    "\n",
    "Utwórzmy nowe repozytorum Gita. W tym celu uruchommy terminal, przenieśmy się na Desktop, utwórzmy katalog repozytorium oraz wejdźmy do niego."
   ]
  },
  {
   "cell_type": "code",
   "execution_count": 9,
   "metadata": {
    "scrolled": false,
    "slideshow": {
     "slide_type": "fragment"
    }
   },
   "outputs": [],
   "source": [
    "cd ~/Desktop"
   ]
  },
  {
   "cell_type": "code",
   "execution_count": 10,
   "metadata": {
    "scrolled": false,
    "slideshow": {
     "slide_type": "fragment"
    }
   },
   "outputs": [],
   "source": [
    "rm -rf repozytorium"
   ]
  },
  {
   "cell_type": "code",
   "execution_count": 11,
   "metadata": {
    "scrolled": false,
    "slideshow": {
     "slide_type": "fragment"
    }
   },
   "outputs": [],
   "source": [
    "mkdir repozytorium"
   ]
  },
  {
   "cell_type": "code",
   "execution_count": 12,
   "metadata": {
    "scrolled": false,
    "slideshow": {
     "slide_type": "fragment"
    }
   },
   "outputs": [],
   "source": [
    "cd repozytorium"
   ]
  },
  {
   "cell_type": "markdown",
   "metadata": {
    "slideshow": {
     "slide_type": "subslide"
    }
   },
   "source": [
    "Tak przygotowany katalog o nazwie repozytorium będzie naszym miejscem pracy."
   ]
  },
  {
   "cell_type": "code",
   "execution_count": 13,
   "metadata": {
    "scrolled": false,
    "slideshow": {
     "slide_type": "fragment"
    }
   },
   "outputs": [
    {
     "name": "stdout",
     "output_type": "stream",
     "text": [
      "total 0\n"
     ]
    }
   ],
   "source": [
    "ls -l"
   ]
  },
  {
   "cell_type": "markdown",
   "metadata": {
    "slideshow": {
     "slide_type": "fragment"
    }
   },
   "source": [
    "Samo repozytorium tworzymy poleceniem"
   ]
  },
  {
   "cell_type": "code",
   "execution_count": 14,
   "metadata": {
    "scrolled": false,
    "slideshow": {
     "slide_type": "fragment"
    }
   },
   "outputs": [
    {
     "name": "stdout",
     "output_type": "stream",
     "text": [
      "\u001b[33mhint: Using 'master' as the name for the initial branch. This default branch name\u001b[m\n",
      "\u001b[33mhint: is subject to change. To configure the initial branch name to use in all\u001b[m\n",
      "\u001b[33mhint: of your new repositories, which will suppress this warning, call:\u001b[m\n",
      "\u001b[33mhint: \u001b[m\n",
      "\u001b[33mhint: \tgit config --global init.defaultBranch <name>\u001b[m\n",
      "\u001b[33mhint: \u001b[m\n",
      "\u001b[33mhint: Names commonly chosen instead of 'master' are 'main', 'trunk' and\u001b[m\n",
      "\u001b[33mhint: 'development'. The just-created branch can be renamed via this command:\u001b[m\n",
      "\u001b[33mhint: \u001b[m\n",
      "\u001b[33mhint: \tgit branch -m <name>\u001b[m\n",
      "Initialized empty Git repository in /Users/miklesz/Desktop/repozytorium/.git/\n"
     ]
    }
   ],
   "source": [
    "git init"
   ]
  },
  {
   "cell_type": "markdown",
   "metadata": {
    "slideshow": {
     "slide_type": "subslide"
    }
   },
   "source": [
    "Sprawdźmy co zmieniło się w katalogu, w którym utworzyliśmy repozytorium poleceniem:"
   ]
  },
  {
   "cell_type": "code",
   "execution_count": 15,
   "metadata": {
    "scrolled": false,
    "slideshow": {
     "slide_type": "fragment"
    }
   },
   "outputs": [
    {
     "name": "stdout",
     "output_type": "stream",
     "text": [
      "total 0\n"
     ]
    }
   ],
   "source": [
    "ls -l"
   ]
  },
  {
   "cell_type": "markdown",
   "metadata": {
    "slideshow": {
     "slide_type": "fragment"
    }
   },
   "source": [
    "Katalog wygląda na pusty."
   ]
  },
  {
   "cell_type": "markdown",
   "metadata": {
    "slideshow": {
     "slide_type": "subslide"
    }
   },
   "source": [
    "Sprawdźmy jednak czy nie pojawiły się jakieś ukryte pliki lub katalogi poleceniem:"
   ]
  },
  {
   "cell_type": "code",
   "execution_count": 16,
   "metadata": {
    "scrolled": false,
    "slideshow": {
     "slide_type": "fragment"
    }
   },
   "outputs": [
    {
     "name": "stdout",
     "output_type": "stream",
     "text": [
      "total 0\n",
      "drwxr-xr-x@    3 miklesz  staff     96 Mar 18 13:20 .\n",
      "drwx------@ 1997 miklesz  staff  63904 Mar 18 13:20 ..\n",
      "drwxr-xr-x@    9 miklesz  staff    288 Mar 18 13:20 .git\n"
     ]
    }
   ],
   "source": [
    "ls -al"
   ]
  },
  {
   "cell_type": "markdown",
   "metadata": {
    "slideshow": {
     "slide_type": "fragment"
    }
   },
   "source": [
    "Utworzony poleceniem `git init` katalog ukryty `.git` będzie zawierać wszystkie informacje, które Git zbiera o powstałym repozytorium. Jeżeli skasujemy ten podkatalog tj. `.git`, skasujemy wszystkie informacje o historii i zmianach naszym projekcie."
   ]
  },
  {
   "cell_type": "markdown",
   "metadata": {
    "slideshow": {
     "slide_type": "slide"
    }
   },
   "source": [
    "### Sprawdzanie statusu\n",
    "\n",
    "Sprawdźmy czy repozytorium Gita powstało oraz czy wszytko poszło dobrze:"
   ]
  },
  {
   "cell_type": "code",
   "execution_count": 17,
   "metadata": {
    "scrolled": true,
    "slideshow": {
     "slide_type": "fragment"
    }
   },
   "outputs": [
    {
     "name": "stdout",
     "output_type": "stream",
     "text": [
      "On branch master\n",
      "\n",
      "No commits yet\n",
      "\n",
      "nothing to commit (create/copy files and use \"git add\" to track)\n"
     ]
    }
   ],
   "source": [
    "git status"
   ]
  },
  {
   "cell_type": "markdown",
   "metadata": {
    "slideshow": {
     "slide_type": "slide"
    }
   },
   "source": [
    "> ##### Info\n",
    "> Poleceniem `git status` będziemy sprawdzać zmiany, które zrobiliśmy w naszym projekcie oraz ich status w repozytorium Gita."
   ]
  },
  {
   "cell_type": "markdown",
   "metadata": {
    "slideshow": {
     "slide_type": "slide"
    }
   },
   "source": [
    "### Śledzenie zmian\n",
    "\n",
    "Utwórzmy pierwszy plik w katalogu `repozytorium` o nazwie `pierwszy.txt`.\n",
    "\n",
    "Zapiszmy w zawartości pliku `pierwszy.txt` nasz pierwszy dzisiaj tekst:"
   ]
  },
  {
   "cell_type": "code",
   "execution_count": 18,
   "metadata": {
    "scrolled": false,
    "slideshow": {
     "slide_type": "fragment"
    }
   },
   "outputs": [],
   "source": [
    "echo \"Witaj świecie. Tutaj pierwszy plik.\" > pierwszy.txt"
   ]
  },
  {
   "cell_type": "code",
   "execution_count": 19,
   "metadata": {
    "scrolled": false,
    "slideshow": {
     "slide_type": "fragment"
    }
   },
   "outputs": [
    {
     "name": "stdout",
     "output_type": "stream",
     "text": [
      "Witaj świecie. Tutaj pierwszy plik.\n"
     ]
    }
   ],
   "source": [
    "cat pierwszy.txt"
   ]
  },
  {
   "cell_type": "markdown",
   "metadata": {
    "slideshow": {
     "slide_type": "subslide"
    }
   },
   "source": [
    "Sprawdźmy zawartość katalogu poleceniem:"
   ]
  },
  {
   "cell_type": "code",
   "execution_count": 20,
   "metadata": {
    "scrolled": false,
    "slideshow": {
     "slide_type": "fragment"
    }
   },
   "outputs": [
    {
     "name": "stdout",
     "output_type": "stream",
     "text": [
      "total 8\n",
      "drwxr-xr-x@    4 miklesz  staff    128 Mar 18 13:27 .\n",
      "drwx------@ 1997 miklesz  staff  63904 Mar 18 13:27 ..\n",
      "drwxr-xr-x@    9 miklesz  staff    288 Mar 18 13:22 .git\n",
      "-rw-r--r--     1 miklesz  staff     37 Mar 18 13:27 pierwszy.txt\n"
     ]
    }
   ],
   "source": [
    "ls -la"
   ]
  },
  {
   "cell_type": "markdown",
   "metadata": {
    "slideshow": {
     "slide_type": "fragment"
    }
   },
   "source": [
    "Jak widzimy w katalogu pojawił się nam plik `pierwszy.txt`."
   ]
  },
  {
   "cell_type": "markdown",
   "metadata": {
    "slideshow": {
     "slide_type": "subslide"
    }
   },
   "source": [
    "Sprawdźmy o czym poinformuje nas Git poleceniem:"
   ]
  },
  {
   "cell_type": "code",
   "execution_count": 21,
   "metadata": {
    "scrolled": false,
    "slideshow": {
     "slide_type": "fragment"
    }
   },
   "outputs": [
    {
     "name": "stdout",
     "output_type": "stream",
     "text": [
      "On branch master\n",
      "\n",
      "No commits yet\n",
      "\n",
      "Untracked files:\n",
      "  (use \"git add <file>...\" to include in what will be committed)\n",
      "\t\u001b[31mpierwszy.txt\u001b[m\n",
      "\n",
      "nothing added to commit but untracked files present (use \"git add\" to track)\n"
     ]
    }
   ],
   "source": [
    "git status"
   ]
  },
  {
   "cell_type": "markdown",
   "metadata": {
    "slideshow": {
     "slide_type": "fragment"
    }
   },
   "source": [
    "Jak widać nasz plik `pierwszy.txt` nie jest jeszcze włożony do repozytorium i Git nie śledzi jego zmian. Możemy to zmienić poleceniem\n",
    "```sh\n",
    "git add <plik(i)>\n",
    "```"
   ]
  },
  {
   "cell_type": "code",
   "execution_count": 22,
   "metadata": {
    "scrolled": false,
    "slideshow": {
     "slide_type": "fragment"
    }
   },
   "outputs": [],
   "source": [
    "git add pierwszy.txt"
   ]
  },
  {
   "cell_type": "markdown",
   "metadata": {
    "slideshow": {
     "slide_type": "subslide"
    }
   },
   "source": [
    "Sprawdźmy jak zmienił się stan repozytorium:"
   ]
  },
  {
   "cell_type": "code",
   "execution_count": 23,
   "metadata": {
    "scrolled": false,
    "slideshow": {
     "slide_type": "fragment"
    }
   },
   "outputs": [
    {
     "name": "stdout",
     "output_type": "stream",
     "text": [
      "On branch master\n",
      "\n",
      "No commits yet\n",
      "\n",
      "Changes to be committed:\n",
      "  (use \"git rm --cached <file>...\" to unstage)\n",
      "\t\u001b[32mnew file:   pierwszy.txt\u001b[m\n",
      "\n"
     ]
    }
   ],
   "source": [
    "git status"
   ]
  },
  {
   "cell_type": "markdown",
   "metadata": {
    "slideshow": {
     "slide_type": "fragment"
    }
   },
   "source": [
    "W tej chwili Git już wie, że powinien śledzić zmiany w pliku `pierwszy.txt` i jest gotowy do dołożenia go do repozytorium. W tym celu wykonamy polecenie `git commit`:"
   ]
  },
  {
   "cell_type": "code",
   "execution_count": 24,
   "metadata": {
    "scrolled": false,
    "slideshow": {
     "slide_type": "fragment"
    }
   },
   "outputs": [
    {
     "name": "stdout",
     "output_type": "stream",
     "text": [
      "[master (root-commit) 57ecd1b] Pierwsza wersja pliku pierwszy.txt\n",
      " 1 file changed, 1 insertion(+)\n",
      " create mode 100644 pierwszy.txt\n"
     ]
    }
   ],
   "source": [
    "git commit -m \"Pierwsza wersja pliku pierwszy.txt\""
   ]
  },
  {
   "cell_type": "markdown",
   "metadata": {
    "slideshow": {
     "slide_type": "subslide"
    }
   },
   "source": [
    "Sprawdźmy jak zmienił się stan repozytorium:"
   ]
  },
  {
   "cell_type": "code",
   "execution_count": 25,
   "metadata": {
    "scrolled": false,
    "slideshow": {
     "slide_type": "fragment"
    }
   },
   "outputs": [
    {
     "name": "stdout",
     "output_type": "stream",
     "text": [
      "On branch master\n",
      "nothing to commit, working tree clean\n"
     ]
    }
   ],
   "source": [
    "git status"
   ]
  },
  {
   "cell_type": "markdown",
   "metadata": {
    "slideshow": {
     "slide_type": "subslide"
    }
   },
   "source": [
    "Kolejne zmiany w repozytorium możemy sprawdzić poleceniem `git log`:"
   ]
  },
  {
   "cell_type": "code",
   "execution_count": 26,
   "metadata": {
    "scrolled": false,
    "slideshow": {
     "slide_type": "fragment"
    }
   },
   "outputs": [
    {
     "name": "stdout",
     "output_type": "stream",
     "text": [
      "\u001b[33mcommit 57ecd1b1b2f27e3a93143170e0e4ec9dfbd0fd98\u001b[m\u001b[33m (\u001b[m\u001b[1;36mHEAD -> \u001b[m\u001b[1;32mmaster\u001b[m\u001b[33m)\u001b[m\n",
      "Author: Mikołaj Leszczuk <leszczuk@agh.edu.pl>\n",
      "Date:   Sat Mar 18 13:31:33 2023 +0100\n",
      "\n",
      "    Pierwsza wersja pliku pierwszy.txt\n"
     ]
    }
   ],
   "source": [
    "git log"
   ]
  },
  {
   "cell_type": "markdown",
   "metadata": {
    "slideshow": {
     "slide_type": "fragment"
    }
   },
   "source": [
    "Każda taka zmiana zapisana w repozytorium nazywa się **`commit`**.\n",
    "\n",
    "Opcja `git log` ma również kilka wariantów np.:"
   ]
  },
  {
   "cell_type": "code",
   "execution_count": 27,
   "metadata": {
    "scrolled": false,
    "slideshow": {
     "slide_type": "fragment"
    }
   },
   "outputs": [
    {
     "name": "stdout",
     "output_type": "stream",
     "text": [
      "\u001b[33m57ecd1b\u001b[m\u001b[33m (\u001b[m\u001b[1;36mHEAD -> \u001b[m\u001b[1;32mmaster\u001b[m\u001b[33m)\u001b[m Pierwsza wersja pliku pierwszy.txt\n"
     ]
    }
   ],
   "source": [
    "git log --oneline"
   ]
  },
  {
   "cell_type": "markdown",
   "metadata": {
    "slideshow": {
     "slide_type": "fragment"
    }
   },
   "source": [
    "Wyświetla ona tylko podstawowe informacje dla każdego \"commitu\"."
   ]
  },
  {
   "cell_type": "markdown",
   "metadata": {
    "slideshow": {
     "slide_type": "subslide"
    }
   },
   "source": [
    "Zmieńmy teraz plik `pierwszy.txt` i dodajmy kolejną linijkę:"
   ]
  },
  {
   "cell_type": "code",
   "execution_count": 28,
   "metadata": {
    "scrolled": false,
    "slideshow": {
     "slide_type": "fragment"
    }
   },
   "outputs": [],
   "source": [
    "echo \"Dziś jest piekny dzień.\" >> pierwszy.txt"
   ]
  },
  {
   "cell_type": "code",
   "execution_count": 29,
   "metadata": {
    "scrolled": false,
    "slideshow": {
     "slide_type": "fragment"
    }
   },
   "outputs": [
    {
     "name": "stdout",
     "output_type": "stream",
     "text": [
      "Witaj świecie. Tutaj pierwszy plik.\n",
      "Dziś jest piekny dzień.\n"
     ]
    }
   ],
   "source": [
    "cat pierwszy.txt"
   ]
  },
  {
   "cell_type": "markdown",
   "metadata": {
    "slideshow": {
     "slide_type": "subslide"
    }
   },
   "source": [
    "Sprawdźmy status repozytorium:"
   ]
  },
  {
   "cell_type": "code",
   "execution_count": 30,
   "metadata": {
    "scrolled": false,
    "slideshow": {
     "slide_type": "fragment"
    }
   },
   "outputs": [
    {
     "name": "stdout",
     "output_type": "stream",
     "text": [
      "On branch master\n",
      "Changes not staged for commit:\n",
      "  (use \"git add <file>...\" to update what will be committed)\n",
      "  (use \"git restore <file>...\" to discard changes in working directory)\n",
      "\t\u001b[31mmodified:   pierwszy.txt\u001b[m\n",
      "\n",
      "no changes added to commit (use \"git add\" and/or \"git commit -a\")\n"
     ]
    }
   ],
   "source": [
    "git status"
   ]
  },
  {
   "cell_type": "markdown",
   "metadata": {
    "slideshow": {
     "slide_type": "fragment"
    }
   },
   "source": [
    "Widzimy, że pojawiły się zmiany w pliku `pierwszy.txt`, których jeszcze nie zapisaliśmy do repozytorium."
   ]
  },
  {
   "cell_type": "markdown",
   "metadata": {
    "slideshow": {
     "slide_type": "subslide"
    }
   },
   "source": [
    "Informacja o wszystkich zmianach możemy wyświetlić poleceniem:"
   ]
  },
  {
   "cell_type": "code",
   "execution_count": 31,
   "metadata": {
    "scrolled": false,
    "slideshow": {
     "slide_type": "fragment"
    }
   },
   "outputs": [
    {
     "name": "stdout",
     "output_type": "stream",
     "text": [
      "\u001b[1mdiff --git a/pierwszy.txt b/pierwszy.txt\u001b[m\n",
      "\u001b[1mindex 73b3284..f5d2d9b 100644\u001b[m\n",
      "\u001b[1m--- a/pierwszy.txt\u001b[m\n",
      "\u001b[1m+++ b/pierwszy.txt\u001b[m\n",
      "\u001b[36m@@ -1 +1,2 @@\u001b[m\n",
      " Witaj świecie. Tutaj pierwszy plik.\u001b[m\n",
      "\u001b[32m+\u001b[m\u001b[32mDziś jest piekny dzień.\u001b[m\n"
     ]
    }
   ],
   "source": [
    "git diff"
   ]
  },
  {
   "cell_type": "markdown",
   "metadata": {
    "slideshow": {
     "slide_type": "fragment"
    }
   },
   "source": [
    "Dodajmy te zmiany do repozytorium poleceniem `git add pierwszy.txt`, a następnie `git commit -m \"Wiadomość\"`:"
   ]
  },
  {
   "cell_type": "code",
   "execution_count": 32,
   "metadata": {
    "scrolled": false,
    "slideshow": {
     "slide_type": "fragment"
    }
   },
   "outputs": [],
   "source": [
    "git add pierwszy.txt"
   ]
  },
  {
   "cell_type": "code",
   "execution_count": 33,
   "metadata": {
    "scrolled": false,
    "slideshow": {
     "slide_type": "fragment"
    }
   },
   "outputs": [
    {
     "name": "stdout",
     "output_type": "stream",
     "text": [
      "[master 529e5f7] Pierwsza zmiana w pliku pierwszy.txt\n",
      " 1 file changed, 1 insertion(+)\n"
     ]
    }
   ],
   "source": [
    "git commit -m \"Pierwsza zmiana w pliku pierwszy.txt\""
   ]
  },
  {
   "cell_type": "markdown",
   "metadata": {
    "slideshow": {
     "slide_type": "slide"
    }
   },
   "source": [
    "#### Staging area\n",
    "\n",
    "Za każdym razem zanim zapiszemy zmiany w repozytorium poleceniem `git commit` wkładamy rzeczy gotowe do zapisu do tzw. \"staging area\" poleceniem `git add`.\n",
    "\n",
    "![](https://swcarpentry.github.io/git-novice/fig/git-staging-area.svg)"
   ]
  },
  {
   "cell_type": "markdown",
   "metadata": {
    "slideshow": {
     "slide_type": "subslide"
    }
   },
   "source": [
    "Dodajmy kolejną zmianę w pliku `pierwszy.txt`:"
   ]
  },
  {
   "cell_type": "code",
   "execution_count": 34,
   "metadata": {
    "scrolled": false,
    "slideshow": {
     "slide_type": "fragment"
    }
   },
   "outputs": [],
   "source": [
    "echo \"Poznajemy Git.\" >> pierwszy.txt"
   ]
  },
  {
   "cell_type": "code",
   "execution_count": 35,
   "metadata": {
    "scrolled": false,
    "slideshow": {
     "slide_type": "fragment"
    }
   },
   "outputs": [
    {
     "name": "stdout",
     "output_type": "stream",
     "text": [
      "Witaj świecie. Tutaj pierwszy plik.\n",
      "Dziś jest piekny dzień.\n",
      "Poznajemy Git.\n"
     ]
    }
   ],
   "source": [
    "cat pierwszy.txt"
   ]
  },
  {
   "cell_type": "markdown",
   "metadata": {
    "slideshow": {
     "slide_type": "fragment"
    }
   },
   "source": [
    "Sprawdźmy powstałe zmiany poleceniem:"
   ]
  },
  {
   "cell_type": "code",
   "execution_count": 36,
   "metadata": {
    "scrolled": false,
    "slideshow": {
     "slide_type": "fragment"
    }
   },
   "outputs": [
    {
     "name": "stdout",
     "output_type": "stream",
     "text": [
      "\u001b[1mdiff --git a/pierwszy.txt b/pierwszy.txt\u001b[m\n",
      "\u001b[1mindex f5d2d9b..46e566d 100644\u001b[m\n",
      "\u001b[1m--- a/pierwszy.txt\u001b[m\n",
      "\u001b[1m+++ b/pierwszy.txt\u001b[m\n",
      "\u001b[36m@@ -1,2 +1,3 @@\u001b[m\n",
      " Witaj świecie. Tutaj pierwszy plik.\u001b[m\n",
      " Dziś jest piekny dzień.\u001b[m\n",
      "\u001b[32m+\u001b[m\u001b[32mPoznajemy Git.\u001b[m\n"
     ]
    }
   ],
   "source": [
    "git diff"
   ]
  },
  {
   "cell_type": "markdown",
   "metadata": {
    "slideshow": {
     "slide_type": "subslide"
    }
   },
   "source": [
    "Dodajmy zmiany poleceniem:"
   ]
  },
  {
   "cell_type": "code",
   "execution_count": 37,
   "metadata": {
    "scrolled": false,
    "slideshow": {
     "slide_type": "fragment"
    }
   },
   "outputs": [],
   "source": [
    "git add pierwszy.txt"
   ]
  },
  {
   "cell_type": "markdown",
   "metadata": {
    "slideshow": {
     "slide_type": "fragment"
    }
   },
   "source": [
    "Sprawdźmy zmiany:"
   ]
  },
  {
   "cell_type": "code",
   "execution_count": 38,
   "metadata": {
    "scrolled": false,
    "slideshow": {
     "slide_type": "fragment"
    }
   },
   "outputs": [],
   "source": [
    "git diff"
   ]
  },
  {
   "cell_type": "markdown",
   "metadata": {
    "slideshow": {
     "slide_type": "subslide"
    }
   },
   "source": [
    "Sprawdźmy zmiany, które są już przygotowane do kolejnej wersji repozytorium:"
   ]
  },
  {
   "cell_type": "code",
   "execution_count": 39,
   "metadata": {
    "scrolled": false,
    "slideshow": {
     "slide_type": "fragment"
    }
   },
   "outputs": [
    {
     "name": "stdout",
     "output_type": "stream",
     "text": [
      "\u001b[1mdiff --git a/pierwszy.txt b/pierwszy.txt\u001b[m\n",
      "\u001b[1mindex f5d2d9b..46e566d 100644\u001b[m\n",
      "\u001b[1m--- a/pierwszy.txt\u001b[m\n",
      "\u001b[1m+++ b/pierwszy.txt\u001b[m\n",
      "\u001b[36m@@ -1,2 +1,3 @@\u001b[m\n",
      " Witaj świecie. Tutaj pierwszy plik.\u001b[m\n",
      " Dziś jest piekny dzień.\u001b[m\n",
      "\u001b[32m+\u001b[m\u001b[32mPoznajemy Git.\u001b[m\n"
     ]
    }
   ],
   "source": [
    "git diff --staged"
   ]
  },
  {
   "cell_type": "markdown",
   "metadata": {
    "slideshow": {
     "slide_type": "fragment"
    }
   },
   "source": [
    "I dodajmy je do repozytorium w drugiej operacji `commit`:"
   ]
  },
  {
   "cell_type": "code",
   "execution_count": 40,
   "metadata": {
    "scrolled": false,
    "slideshow": {
     "slide_type": "fragment"
    }
   },
   "outputs": [
    {
     "name": "stdout",
     "output_type": "stream",
     "text": [
      "[master cc490c6] Druga zmiana w pliku pierwszy.txt\n",
      " 1 file changed, 1 insertion(+)\n"
     ]
    }
   ],
   "source": [
    "git commit -m \"Druga zmiana w pliku pierwszy.txt\""
   ]
  },
  {
   "cell_type": "markdown",
   "metadata": {
    "slideshow": {
     "slide_type": "slide"
    }
   },
   "source": [
    "#### Poprawa w ostatniej zapisanej zmianie\n",
    "\n",
    "Czasem zdaża się, że zapomnieliśmy dodać czegoś do ostatniej operacji `commit`, wtedy zawsze możemy dodać brakujące pliki do staging area i wykonać polecenie:\n",
    "\n",
    "```sh\n",
    "git commit --amend\n",
    "```\n",
    "\n",
    "Gdy chcemy jedynie zmienić opis zmiany możemy wykonać polecenie:"
   ]
  },
  {
   "cell_type": "code",
   "execution_count": 41,
   "metadata": {
    "scrolled": false,
    "slideshow": {
     "slide_type": "fragment"
    }
   },
   "outputs": [
    {
     "name": "stdout",
     "output_type": "stream",
     "text": [
      "[master 53f7f98] Poprawiony opis zmiany\n",
      " Date: Sat Mar 18 13:45:31 2023 +0100\n",
      " 1 file changed, 1 insertion(+)\n"
     ]
    }
   ],
   "source": [
    "git commit --amend -m \"Poprawiony opis zmiany\""
   ]
  },
  {
   "cell_type": "markdown",
   "metadata": {
    "slideshow": {
     "slide_type": "slide"
    }
   },
   "source": [
    "### Sprawdzanie historii i przywracanie stanu\n",
    "\n",
    "W każdej chwili można sprawdzić historie projektu poleceniem `git log`, które wyświetli opisy kolejnych operacji `commit` do repozytorium."
   ]
  },
  {
   "cell_type": "code",
   "execution_count": 42,
   "metadata": {
    "scrolled": false,
    "slideshow": {
     "slide_type": "fragment"
    }
   },
   "outputs": [
    {
     "name": "stdout",
     "output_type": "stream",
     "text": [
      "\u001b[33mcommit 53f7f98e80d5c2a73e5848ab941860ce2d9ed197\u001b[m\u001b[33m (\u001b[m\u001b[1;36mHEAD -> \u001b[m\u001b[1;32mmaster\u001b[m\u001b[33m)\u001b[m\n",
      "Author: Mikołaj Leszczuk <leszczuk@agh.edu.pl>\n",
      "Date:   Sat Mar 18 13:45:31 2023 +0100\n",
      "\n",
      "    Poprawiony opis zmiany\n",
      "\n",
      "\u001b[33mcommit 529e5f7c9fb7e64136127dc120c591ee1ab7ff9f\u001b[m\n",
      "Author: Mikołaj Leszczuk <leszczuk@agh.edu.pl>\n",
      "Date:   Sat Mar 18 13:40:13 2023 +0100\n",
      "\n",
      "    Pierwsza zmiana w pliku pierwszy.txt\n",
      "\n",
      "\u001b[33mcommit 57ecd1b1b2f27e3a93143170e0e4ec9dfbd0fd98\u001b[m\n",
      "Author: Mikołaj Leszczuk <leszczuk@agh.edu.pl>\n",
      "Date:   Sat Mar 18 13:31:33 2023 +0100\n",
      "\n",
      "    Pierwsza wersja pliku pierwszy.txt\n"
     ]
    }
   ],
   "source": [
    "git log"
   ]
  },
  {
   "cell_type": "markdown",
   "metadata": {
    "slideshow": {
     "slide_type": "subslide"
    }
   },
   "source": [
    "W celu wyświetlenia zawartości każdej zapisanej zmiany w repozytorium (czyli operacji `commit`) możemy wydać polecenie\n",
    "```sh\n",
    "git show <hash-operacji-commit>\n",
    "```\n",
    "gdzie `<hash-operacji-commit>` jest unikalnym identyfikatorem danej zmiany w repozytorium, np. `dd6efe19bcf632eb3f43c0b5815fecbba6adc6d6`. Innym sposobem podejrzenia danej zmiany jest użycie aliasu `HEAD` lub `HEAD~x`, gdzie `HEAD` jest nazwą ostatniego zapisanej zmiany a `HEAD~x` nazwą `x+1` zmiany od końca, np. `HEAD~2` będzie trzecią zmianą od końca."
   ]
  },
  {
   "cell_type": "code",
   "execution_count": 43,
   "metadata": {
    "scrolled": false,
    "slideshow": {
     "slide_type": "subslide"
    }
   },
   "outputs": [
    {
     "name": "stdout",
     "output_type": "stream",
     "text": [
      "\u001b[33mcommit 57ecd1b1b2f27e3a93143170e0e4ec9dfbd0fd98\u001b[m\n",
      "Author: Mikołaj Leszczuk <leszczuk@agh.edu.pl>\n",
      "Date:   Sat Mar 18 13:31:33 2023 +0100\n",
      "\n",
      "    Pierwsza wersja pliku pierwszy.txt\n",
      "\n",
      "\u001b[1mdiff --git a/pierwszy.txt b/pierwszy.txt\u001b[m\n",
      "\u001b[1mnew file mode 100644\u001b[m\n",
      "\u001b[1mindex 0000000..73b3284\u001b[m\n",
      "\u001b[1m--- /dev/null\u001b[m\n",
      "\u001b[1m+++ b/pierwszy.txt\u001b[m\n",
      "\u001b[36m@@ -0,0 +1 @@\u001b[m\n",
      "\u001b[32m+\u001b[m\u001b[32mWitaj świecie. Tutaj pierwszy plik.\u001b[m\n"
     ]
    }
   ],
   "source": [
    "git show 57ecd1b1b2f27e3a93143170e0e4ec9dfbd0fd98"
   ]
  },
  {
   "cell_type": "code",
   "execution_count": 44,
   "metadata": {
    "scrolled": true,
    "slideshow": {
     "slide_type": "fragment"
    }
   },
   "outputs": [
    {
     "name": "stdout",
     "output_type": "stream",
     "text": [
      "\u001b[33mcommit 529e5f7c9fb7e64136127dc120c591ee1ab7ff9f\u001b[m\n",
      "Author: Mikołaj Leszczuk <leszczuk@agh.edu.pl>\n",
      "Date:   Sat Mar 18 13:40:13 2023 +0100\n",
      "\n",
      "    Pierwsza zmiana w pliku pierwszy.txt\n",
      "\n",
      "\u001b[1mdiff --git a/pierwszy.txt b/pierwszy.txt\u001b[m\n",
      "\u001b[1mindex 73b3284..f5d2d9b 100644\u001b[m\n",
      "\u001b[1m--- a/pierwszy.txt\u001b[m\n",
      "\u001b[1m+++ b/pierwszy.txt\u001b[m\n",
      "\u001b[36m@@ -1 +1,2 @@\u001b[m\n",
      " Witaj świecie. Tutaj pierwszy plik.\u001b[m\n",
      "\u001b[32m+\u001b[m\u001b[32mDziś jest piekny dzień.\u001b[m\n"
     ]
    }
   ],
   "source": [
    "git show HEAD~1"
   ]
  },
  {
   "cell_type": "markdown",
   "metadata": {
    "slideshow": {
     "slide_type": "subslide"
    }
   },
   "source": [
    "Jeżeli chcemy zobaczyć jak zmienił się dany plik między zmianami w repozytorium możemy wykonać polecenie:\n",
    "```sh\n",
    "git diff <hash-1-operacji-commit> <hash-2-operacji-commit> <nazwa-pliku>\n",
    "```\n",
    "lub:\n",
    "```sh\n",
    "git diff <hash-operacji-commit> <nazwa-pliku>\n",
    "```\n",
    "w przypadku gdy chcemy sprawdzić tylko ostatni plik."
   ]
  },
  {
   "cell_type": "code",
   "execution_count": 45,
   "metadata": {
    "scrolled": false,
    "slideshow": {
     "slide_type": "subslide"
    }
   },
   "outputs": [
    {
     "name": "stdout",
     "output_type": "stream",
     "text": [
      "\u001b[1mdiff --git a/pierwszy.txt b/pierwszy.txt\u001b[m\n",
      "\u001b[1mindex f5d2d9b..46e566d 100644\u001b[m\n",
      "\u001b[1m--- a/pierwszy.txt\u001b[m\n",
      "\u001b[1m+++ b/pierwszy.txt\u001b[m\n",
      "\u001b[36m@@ -1,2 +1,3 @@\u001b[m\n",
      " Witaj świecie. Tutaj pierwszy plik.\u001b[m\n",
      " Dziś jest piekny dzień.\u001b[m\n",
      "\u001b[32m+\u001b[m\u001b[32mPoznajemy Git.\u001b[m\n"
     ]
    }
   ],
   "source": [
    "git diff HEAD~1 pierwszy.txt"
   ]
  },
  {
   "cell_type": "code",
   "execution_count": 46,
   "metadata": {
    "scrolled": false,
    "slideshow": {
     "slide_type": "fragment"
    }
   },
   "outputs": [
    {
     "name": "stdout",
     "output_type": "stream",
     "text": [
      "\u001b[1mdiff --git a/pierwszy.txt b/pierwszy.txt\u001b[m\n",
      "\u001b[1mindex 73b3284..46e566d 100644\u001b[m\n",
      "\u001b[1m--- a/pierwszy.txt\u001b[m\n",
      "\u001b[1m+++ b/pierwszy.txt\u001b[m\n",
      "\u001b[36m@@ -1 +1,3 @@\u001b[m\n",
      " Witaj świecie. Tutaj pierwszy plik.\u001b[m\n",
      "\u001b[32m+\u001b[m\u001b[32mDziś jest piekny dzień.\u001b[m\n",
      "\u001b[32m+\u001b[m\u001b[32mPoznajemy Git.\u001b[m\n"
     ]
    }
   ],
   "source": [
    "git diff HEAD~2 pierwszy.txt"
   ]
  },
  {
   "cell_type": "markdown",
   "metadata": {
    "slideshow": {
     "slide_type": "slide"
    }
   },
   "source": [
    "#### Przywracanie stanu z poprzedniej wersji repozytorium\n",
    "\n",
    "Jeżeli chcemy wrócić do poprzedniej wersji pliku powinniśmy wykonać polecenie:\n",
    "```sh\n",
    "git checkout <hash-operacji-commita> <nazwa-pliku>\n",
    "```\n",
    "gdzie `<hash-operacji-commit>` to nazwa zmiany, do której chcemy powrócić a `<nazwa-pliku>` to nazwa pliku, który chcemy przywrócić. W przypadku gdy po prostu chcemy wyczyścić zmiany w naszej przestrzeni roboczej i powrócić do ostatniej wersji zapisanego pliku w repozytorium używamy polecenia:\n",
    "```sh\n",
    "git checkout -- <nazwa-pliku>\n",
    "```\n",
    "ewentualnie:\n",
    "```sh\n",
    "git checkout HEAD <nazwa-pliku>\n",
    "```"
   ]
  },
  {
   "cell_type": "code",
   "execution_count": 51,
   "metadata": {
    "scrolled": false,
    "slideshow": {
     "slide_type": "subslide"
    }
   },
   "outputs": [
    {
     "name": "stdout",
     "output_type": "stream",
     "text": [
      "Updated 1 path from 55205db\n"
     ]
    }
   ],
   "source": [
    "git checkout HEAD pierwszy.txt"
   ]
  },
  {
   "cell_type": "code",
   "execution_count": 52,
   "metadata": {
    "slideshow": {
     "slide_type": "fragment"
    }
   },
   "outputs": [
    {
     "name": "stdout",
     "output_type": "stream",
     "text": [
      "Witaj świecie. Tutaj pierwszy plik.\n",
      "Dziś jest piekny dzień.\n",
      "Poznajemy Git.\n"
     ]
    }
   ],
   "source": [
    "cat pierwszy.txt"
   ]
  },
  {
   "cell_type": "markdown",
   "metadata": {
    "slideshow": {
     "slide_type": "fragment"
    }
   },
   "source": [
    "![](https://hsf-training.github.io/analysis-essentials/_images/git-checkout.svg)"
   ]
  },
  {
   "cell_type": "markdown",
   "metadata": {
    "slideshow": {
     "slide_type": "subslide"
    }
   },
   "source": [
    "Poniższy rysunek wyjaśnia w formie graficznej jak działa repozytorum Gita:\n",
    "\n",
    "![](https://ucsbcarpentry.github.io/2019-10-24-gitbash/fig/git_staging.svg)"
   ]
  },
  {
   "cell_type": "markdown",
   "metadata": {
    "slideshow": {
     "slide_type": "slide"
    }
   },
   "source": [
    "### Ignorowanie plików i katalogów\n",
    "\n",
    "Nie zawsze chcemy by Git śledził wszystkie pliki, które są obecne w katalogu projektu. W tym celu tworzymy plik `.gitignore`, w którym zapisujemy wszystkie rzeczy, które mają być pomijane przez Gita."
   ]
  },
  {
   "cell_type": "code",
   "execution_count": 53,
   "metadata": {
    "scrolled": false,
    "slideshow": {
     "slide_type": "fragment"
    }
   },
   "outputs": [],
   "source": [
    "touch ignored.txt"
   ]
  },
  {
   "cell_type": "code",
   "execution_count": 54,
   "metadata": {
    "scrolled": true,
    "slideshow": {
     "slide_type": "fragment"
    }
   },
   "outputs": [
    {
     "name": "stdout",
     "output_type": "stream",
     "text": [
      "total 8\n",
      "drwxr-xr-x@    5 miklesz  staff    160 Mar 18 14:04 .\n",
      "drwx------@ 1997 miklesz  staff  63904 Mar 18 14:04 ..\n",
      "drwxr-xr-x@   12 miklesz  staff    384 Mar 18 14:01 .git\n",
      "-rw-r--r--     1 miklesz  staff      0 Mar 18 14:04 ignored.txt\n",
      "-rw-r--r--     1 miklesz  staff     78 Mar 18 14:01 pierwszy.txt\n"
     ]
    }
   ],
   "source": [
    "ls -la"
   ]
  },
  {
   "cell_type": "code",
   "execution_count": 55,
   "metadata": {
    "slideshow": {
     "slide_type": "subslide"
    }
   },
   "outputs": [
    {
     "name": "stdout",
     "output_type": "stream",
     "text": [
      "On branch master\n",
      "Untracked files:\n",
      "  (use \"git add <file>...\" to include in what will be committed)\n",
      "\t\u001b[31mignored.txt\u001b[m\n",
      "\n",
      "nothing added to commit but untracked files present (use \"git add\" to track)\n"
     ]
    }
   ],
   "source": [
    "git status"
   ]
  },
  {
   "cell_type": "code",
   "execution_count": 56,
   "metadata": {
    "scrolled": false,
    "slideshow": {
     "slide_type": "fragment"
    }
   },
   "outputs": [],
   "source": [
    "echo \"ignored.txt\" > .gitignore"
   ]
  },
  {
   "cell_type": "code",
   "execution_count": 57,
   "metadata": {
    "slideshow": {
     "slide_type": "fragment"
    }
   },
   "outputs": [
    {
     "name": "stdout",
     "output_type": "stream",
     "text": [
      "ignored.txt\n"
     ]
    }
   ],
   "source": [
    "cat .gitignore"
   ]
  },
  {
   "cell_type": "code",
   "execution_count": 58,
   "metadata": {
    "scrolled": false,
    "slideshow": {
     "slide_type": "fragment"
    }
   },
   "outputs": [
    {
     "name": "stdout",
     "output_type": "stream",
     "text": [
      "total 16\n",
      "drwxr-xr-x@    6 miklesz  staff    192 Mar 18 14:05 .\n",
      "drwx------@ 1997 miklesz  staff  63904 Mar 18 14:05 ..\n",
      "drwxr-xr-x@   12 miklesz  staff    384 Mar 18 14:04 .git\n",
      "-rw-r--r--     1 miklesz  staff     12 Mar 18 14:05 .gitignore\n",
      "-rw-r--r--     1 miklesz  staff      0 Mar 18 14:04 ignored.txt\n",
      "-rw-r--r--     1 miklesz  staff     78 Mar 18 14:01 pierwszy.txt\n"
     ]
    }
   ],
   "source": [
    "ls -al"
   ]
  },
  {
   "cell_type": "code",
   "execution_count": 59,
   "metadata": {
    "scrolled": false,
    "slideshow": {
     "slide_type": "fragment"
    }
   },
   "outputs": [],
   "source": [
    "git add .gitignore"
   ]
  },
  {
   "cell_type": "code",
   "execution_count": 60,
   "metadata": {
    "scrolled": false,
    "slideshow": {
     "slide_type": "subslide"
    }
   },
   "outputs": [
    {
     "name": "stdout",
     "output_type": "stream",
     "text": [
      "[master d7c984d] Ignoruj rzeczy, które zdefiniowalismy w pliku .gitignore\n",
      " 1 file changed, 1 insertion(+)\n",
      " create mode 100644 .gitignore\n"
     ]
    }
   ],
   "source": [
    "git commit -m \"Ignoruj rzeczy, które zdefiniowalismy w pliku .gitignore\""
   ]
  },
  {
   "cell_type": "code",
   "execution_count": 61,
   "metadata": {
    "scrolled": false,
    "slideshow": {
     "slide_type": "fragment"
    }
   },
   "outputs": [
    {
     "name": "stdout",
     "output_type": "stream",
     "text": [
      "On branch master\n",
      "nothing to commit, working tree clean\n"
     ]
    }
   ],
   "source": [
    "git status"
   ]
  },
  {
   "cell_type": "markdown",
   "metadata": {
    "slideshow": {
     "slide_type": "fragment"
    }
   },
   "source": [
    "W celu sprawdzenia plików i katalogów pomijanych przez gita wykonajmy polecenie `git status --ignored`:"
   ]
  },
  {
   "cell_type": "code",
   "execution_count": 62,
   "metadata": {
    "scrolled": false,
    "slideshow": {
     "slide_type": "fragment"
    }
   },
   "outputs": [
    {
     "name": "stdout",
     "output_type": "stream",
     "text": [
      "On branch master\n",
      "Ignored files:\n",
      "  (use \"git add -f <file>...\" to include in what will be committed)\n",
      "\t\u001b[31mignored.txt\u001b[m\n",
      "\n",
      "nothing to commit, working tree clean\n"
     ]
    }
   ],
   "source": [
    "git status --ignored"
   ]
  },
  {
   "cell_type": "markdown",
   "metadata": {
    "slideshow": {
     "slide_type": "slide"
    }
   },
   "source": [
    "### Repozytoria zdalne"
   ]
  },
  {
   "cell_type": "markdown",
   "metadata": {
    "slideshow": {
     "slide_type": "slide"
    }
   },
   "source": [
    "#### Klonowanie repozytorium zdalnego\n",
    "\n",
    "Wiele repozytorium Gita jest przechowywane na serwerach zdalnych takich jak [GitHub](https://github.com/), [GitLab](https://gitlab.com/), [Bitbucket](https://bitbucket.org/) lub hostowane przez niezależne instytucje lub osoby np. [PLGrid](https://git.plgrid.pl/). Jeżeli chcemy pobrać takie repozytorium i utworzyć jego lokalną kopię powinniśmy wykonać polecenie:\n",
    "\n",
    "```sh\n",
    "git clone <url-do-repozytorium> <scieżka-na-lokalną-kopię>\n",
    "```"
   ]
  },
  {
   "cell_type": "markdown",
   "metadata": {
    "slideshow": {
     "slide_type": "slide"
    }
   },
   "source": [
    "#### Dodawanie repozytorium zdalnego\n",
    "\n",
    "Git umożliwia łączenie repozytorium lokalnego z repozytoriami zdalnymi umieszczonymi na serwerach repozytorium. W celu dodania zdalnego repozytorium (tzw. `remote`) należy wykonać polecenie:\n",
    "\n",
    "```sh\n",
    "git remote add <alias> <url-do-repozytorium>\n",
    "```\n",
    "\n",
    "Gdzie `<alias>` jest naszą lokalną etykietą zdalnego repozytorium a `<url-do-repozytorium>` to odnośnik do zdalnego repozytorium w postaci linka."
   ]
  },
  {
   "cell_type": "markdown",
   "metadata": {
    "slideshow": {
     "slide_type": "slide"
    }
   },
   "source": [
    "> ##### Odnośniki do repozytorium zdalnego\n",
    "> Repozytoria zdalne mogą być zdefiniowane przez odnośnik [`https://`](https://) (np. [`https://github.com/<username>/repo.git`](https://github.com/<username>/repo.git)) lub [`ssh`]() ([`git@github.com:<username>/repo.git`]()).\\\n",
    "> Przykładowo, repozytorium `Courses` użytkownika `miklesz` na [`GitHub`](https://github.com/) dodajemy do repozytorium"
   ]
  },
  {
   "cell_type": "markdown",
   "metadata": {
    "slideshow": {
     "slide_type": "subslide"
    }
   },
   "source": [
    "> * odnośnik [`https://`](https://)"
   ]
  },
  {
   "cell_type": "code",
   "execution_count": 63,
   "metadata": {
    "scrolled": false,
    "slideshow": {
     "slide_type": "fragment"
    }
   },
   "outputs": [],
   "source": [
    "git remote add courses-https https://github.com/miklesz/Courses.git"
   ]
  },
  {
   "cell_type": "markdown",
   "metadata": {
    "slideshow": {
     "slide_type": "fragment"
    }
   },
   "source": [
    "> * odnośnik [`ssh`]()"
   ]
  },
  {
   "cell_type": "code",
   "execution_count": 64,
   "metadata": {
    "scrolled": false,
    "slideshow": {
     "slide_type": "fragment"
    }
   },
   "outputs": [],
   "source": [
    "git remote add courses-ssh git@github.com:miklesz/Courses.git"
   ]
  },
  {
   "cell_type": "markdown",
   "metadata": {
    "slideshow": {
     "slide_type": "subslide"
    }
   },
   "source": [
    "> Dla każdego zdalnego repozytorium mamy dwa odnośniki\n",
    "> * `fetch` do pobierania zmian z repozytorium zdalnego i dodawania ich do repozytorium lokalnego\n",
    "> * `push` do wysyłania zmian z repozytorium lokalnego do repozytorium zdalnego"
   ]
  },
  {
   "cell_type": "markdown",
   "metadata": {
    "slideshow": {
     "slide_type": "subslide"
    }
   },
   "source": [
    "Sprawdzamy repozytoria zdalne skonfigurowane dla naszego lokalnego repozytorium poleceniem `git remote -v`:"
   ]
  },
  {
   "cell_type": "code",
   "execution_count": 65,
   "metadata": {
    "scrolled": false,
    "slideshow": {
     "slide_type": "fragment"
    }
   },
   "outputs": [
    {
     "name": "stdout",
     "output_type": "stream",
     "text": [
      "courses-https\thttps://github.com/miklesz/Courses.git (fetch)\n",
      "courses-https\thttps://github.com/miklesz/Courses.git (push)\n",
      "courses-ssh\tgit@github.com:miklesz/Courses.git (fetch)\n",
      "courses-ssh\tgit@github.com:miklesz/Courses.git (push)\n"
     ]
    }
   ],
   "source": [
    "git remote -v"
   ]
  },
  {
   "cell_type": "markdown",
   "metadata": {
    "slideshow": {
     "slide_type": "slide"
    }
   },
   "source": [
    "### Modyfikacja parametrów repozytorium zdalnego"
   ]
  },
  {
   "cell_type": "markdown",
   "metadata": {
    "slideshow": {
     "slide_type": "subslide"
    }
   },
   "source": [
    "Jeżeli repozytorium zdalne zmieniło swój adres na `<nowy-url>` możemy go zmienić poleceniem:\n",
    "\n",
    "```sh\n",
    "git remote set-url <alias> <nowy-url>\n",
    "```\n",
    "\n",
    "Usuwanie informacji o zdalnym repozytorium z naszego lokalnego umożliwia komenda:\n",
    "\n",
    "```sh\n",
    "git remote del <alias-do-repozytorium>\n",
    "```\n",
    "\n",
    "W celu wypchnięcia nowych zmian zapisanych w commitach z repozytorium lokalnego należy użyć komendy `git push`:\n",
    "\n",
    "```sh\n",
    "git push <alias-do-repozytorium> <gałąź>\n",
    "```\n",
    "\n",
    "Do pobrania zmian z zdalnego repozytorium służy komenda `git pull`:\n",
    "\n",
    "```sh\n",
    "git pull <alias-do-repozytorium> <gałąź>\n",
    "```"
   ]
  },
  {
   "cell_type": "markdown",
   "metadata": {
    "slideshow": {
     "slide_type": "slide"
    }
   },
   "source": [
    "### Gałęzie"
   ]
  },
  {
   "cell_type": "markdown",
   "metadata": {
    "slideshow": {
     "slide_type": "subslide"
    }
   },
   "source": [
    "Gałęziami nazywamy równorzędne wersje projektu, najczęściej rozwijające pewne funkcjonalności (lub np. łatające błędy) poza główną linią projektu. Najczęściej te gałęzi są później dołączane do głównej linii (`master`) projektu.\n",
    "\n",
    "Utworzenie nowej gałęzi:\n",
    "\n",
    "```sh\n",
    "git branch <nazwa-gałęzi>\n",
    "```\n",
    "\n",
    "Wyświetlenie gałęzi lokalnych w repozytorium:\n",
    "\n",
    "```sh\n",
    "git branch nowa-funkcja\n",
    "git branch\n",
    "* master\n",
    "  nowa-funkcja\n",
    "```\n",
    "\n",
    "Zmiana aktualnej gałęzi:\n",
    "\n",
    "```sh\n",
    "git checkout <nazwa-gałęzi>\n",
    "```"
   ]
  },
  {
   "cell_type": "markdown",
   "metadata": {
    "slideshow": {
     "slide_type": "slide"
    }
   },
   "source": [
    "### Konflikty"
   ]
  },
  {
   "cell_type": "markdown",
   "metadata": {
    "slideshow": {
     "slide_type": "subslide"
    }
   },
   "source": [
    "Konfliktem nazywamy równorzędne zmiany w tych samych liniach kodu. Przykładowo chcemy połączyć zmiany od współpracownika A oraz od współpracownika B, ale niestety te zmiany zaszły na tych samych liniach w tym samym pliku. Jak wtedy mamy zdecydować, która zmiana powinna zostać?\n",
    "\n",
    "![](https://imperialcollegelondon.github.io/git-novice/fig/conflict.svg)\n",
    "\n",
    "Serwisy typu GitHub, GitLab czy BitBucket często wyświetlają informacje o możliwości zmerge'owania (przyłączenia) innej gałęzi bez konfliktów, ewentualnie wyświetlają te konflikty."
   ]
  },
  {
   "cell_type": "markdown",
   "metadata": {
    "slideshow": {
     "slide_type": "subslide"
    }
   },
   "source": [
    "Konflikt możemy wywołać również na swoim komputerze, bez uczestnictwa drugiej osoby. Wystarczy do tego użyć gałęzi:"
   ]
  },
  {
   "cell_type": "markdown",
   "metadata": {
    "slideshow": {
     "slide_type": "fragment"
    }
   },
   "source": [
    "* przejdź na gałąź master (`git checkout master`)"
   ]
  },
  {
   "cell_type": "code",
   "execution_count": 66,
   "metadata": {
    "scrolled": false,
    "slideshow": {
     "slide_type": "fragment"
    }
   },
   "outputs": [
    {
     "name": "stdout",
     "output_type": "stream",
     "text": [
      "Already on 'master'\n"
     ]
    }
   ],
   "source": [
    "git checkout master"
   ]
  },
  {
   "cell_type": "markdown",
   "metadata": {
    "slideshow": {
     "slide_type": "subslide"
    }
   },
   "source": [
    "* utwórz gałąź np. konflikt (`git branch konflikt`)"
   ]
  },
  {
   "cell_type": "code",
   "execution_count": 67,
   "metadata": {
    "scrolled": false,
    "slideshow": {
     "slide_type": "fragment"
    }
   },
   "outputs": [],
   "source": [
    "git branch konflikt"
   ]
  },
  {
   "cell_type": "markdown",
   "metadata": {
    "slideshow": {
     "slide_type": "subslide"
    }
   },
   "source": [
    "* wyedytuj istniejący plik, np. `pierwszy.txt`"
   ]
  },
  {
   "cell_type": "code",
   "execution_count": 68,
   "metadata": {
    "slideshow": {
     "slide_type": "fragment"
    }
   },
   "outputs": [
    {
     "name": "stdout",
     "output_type": "stream",
     "text": [
      "Witaj świecie. Tutaj pierwszy plik.\n",
      "Dziś jest piekny dzień.\n",
      "Poznajemy Git.\n"
     ]
    }
   ],
   "source": [
    "cat pierwszy.txt"
   ]
  },
  {
   "cell_type": "code",
   "execution_count": 69,
   "metadata": {
    "scrolled": false,
    "slideshow": {
     "slide_type": "fragment"
    }
   },
   "outputs": [],
   "source": [
    "echo \"to jest treść z gałęzi master\" > pierwszy.txt"
   ]
  },
  {
   "cell_type": "code",
   "execution_count": 70,
   "metadata": {
    "scrolled": false,
    "slideshow": {
     "slide_type": "fragment"
    }
   },
   "outputs": [
    {
     "name": "stdout",
     "output_type": "stream",
     "text": [
      "to jest treść z gałęzi master\n"
     ]
    }
   ],
   "source": [
    "cat pierwszy.txt"
   ]
  },
  {
   "cell_type": "markdown",
   "metadata": {
    "slideshow": {
     "slide_type": "subslide"
    }
   },
   "source": [
    "* zapisz zmiany (`git add pierwszy.txt`, `git commit`)"
   ]
  },
  {
   "cell_type": "code",
   "execution_count": 71,
   "metadata": {
    "scrolled": false,
    "slideshow": {
     "slide_type": "fragment"
    }
   },
   "outputs": [],
   "source": [
    "git add pierwszy.txt"
   ]
  },
  {
   "cell_type": "code",
   "execution_count": 72,
   "metadata": {
    "scrolled": false,
    "slideshow": {
     "slide_type": "fragment"
    }
   },
   "outputs": [
    {
     "name": "stdout",
     "output_type": "stream",
     "text": [
      "[master 541efca] Zapisujemy zmiany\n",
      " 1 file changed, 1 insertion(+), 3 deletions(-)\n"
     ]
    }
   ],
   "source": [
    "git commit -m \"Zapisujemy zmiany\""
   ]
  },
  {
   "cell_type": "markdown",
   "metadata": {
    "slideshow": {
     "slide_type": "subslide"
    }
   },
   "source": [
    "* przejdź na gałąź konflikt (`git checkout konflikt`)"
   ]
  },
  {
   "cell_type": "code",
   "execution_count": 73,
   "metadata": {
    "scrolled": false,
    "slideshow": {
     "slide_type": "fragment"
    }
   },
   "outputs": [
    {
     "name": "stdout",
     "output_type": "stream",
     "text": [
      "Switched to branch 'konflikt'\n"
     ]
    }
   ],
   "source": [
    "git checkout konflikt"
   ]
  },
  {
   "cell_type": "markdown",
   "metadata": {
    "slideshow": {
     "slide_type": "subslide"
    }
   },
   "source": [
    "* wyedytuj ten sam plik `pierwszy.txt`, najlepiej wprowadzając inne zmiany"
   ]
  },
  {
   "cell_type": "code",
   "execution_count": 74,
   "metadata": {
    "slideshow": {
     "slide_type": "fragment"
    }
   },
   "outputs": [
    {
     "name": "stdout",
     "output_type": "stream",
     "text": [
      "Witaj świecie. Tutaj pierwszy plik.\n",
      "Dziś jest piekny dzień.\n",
      "Poznajemy Git.\n"
     ]
    }
   ],
   "source": [
    "cat pierwszy.txt"
   ]
  },
  {
   "cell_type": "code",
   "execution_count": 75,
   "metadata": {
    "scrolled": false,
    "slideshow": {
     "slide_type": "fragment"
    }
   },
   "outputs": [],
   "source": [
    "echo \"to jest inna treść z gałęzi konflikt\" > pierwszy.txt"
   ]
  },
  {
   "cell_type": "code",
   "execution_count": 76,
   "metadata": {
    "scrolled": false,
    "slideshow": {
     "slide_type": "fragment"
    }
   },
   "outputs": [
    {
     "name": "stdout",
     "output_type": "stream",
     "text": [
      "to jest inna treść z gałęzi konflikt\n"
     ]
    }
   ],
   "source": [
    "cat pierwszy.txt"
   ]
  },
  {
   "cell_type": "markdown",
   "metadata": {
    "slideshow": {
     "slide_type": "subslide"
    }
   },
   "source": [
    "* zapisz zmiany (`git add pierwszy.txt`, `git commit`)"
   ]
  },
  {
   "cell_type": "code",
   "execution_count": 77,
   "metadata": {
    "scrolled": false,
    "slideshow": {
     "slide_type": "fragment"
    }
   },
   "outputs": [],
   "source": [
    "git add pierwszy.txt"
   ]
  },
  {
   "cell_type": "code",
   "execution_count": 78,
   "metadata": {
    "scrolled": false,
    "slideshow": {
     "slide_type": "fragment"
    }
   },
   "outputs": [
    {
     "name": "stdout",
     "output_type": "stream",
     "text": [
      "[konflikt 5fae1f0] Zapisujemy inne zmiany\n",
      " 1 file changed, 1 insertion(+), 3 deletions(-)\n"
     ]
    }
   ],
   "source": [
    "git commit -m \"Zapisujemy inne zmiany\""
   ]
  },
  {
   "cell_type": "markdown",
   "metadata": {
    "slideshow": {
     "slide_type": "subslide"
    }
   },
   "source": [
    "* przejdź z powrotem na gałąź master (`git checkout master`)"
   ]
  },
  {
   "cell_type": "code",
   "execution_count": 79,
   "metadata": {
    "scrolled": false,
    "slideshow": {
     "slide_type": "fragment"
    }
   },
   "outputs": [
    {
     "name": "stdout",
     "output_type": "stream",
     "text": [
      "Switched to branch 'master'\n"
     ]
    }
   ],
   "source": [
    "git checkout master"
   ]
  },
  {
   "cell_type": "markdown",
   "metadata": {
    "slideshow": {
     "slide_type": "subslide"
    }
   },
   "source": [
    "* dokonaj przyłączenia gałęzi konflikt (`git merge konflikt`)"
   ]
  },
  {
   "cell_type": "code",
   "execution_count": 80,
   "metadata": {
    "scrolled": false,
    "slideshow": {
     "slide_type": "fragment"
    }
   },
   "outputs": [
    {
     "name": "stdout",
     "output_type": "stream",
     "text": [
      "Auto-merging pierwszy.txt\n",
      "CONFLICT (content): Merge conflict in pierwszy.txt\n",
      "Automatic merge failed; fix conflicts and then commit the result.\n"
     ]
    },
    {
     "ename": "",
     "evalue": "1",
     "output_type": "error",
     "traceback": []
    }
   ],
   "source": [
    "git merge konflikt"
   ]
  },
  {
   "cell_type": "markdown",
   "metadata": {
    "slideshow": {
     "slide_type": "subslide"
    }
   },
   "source": [
    "Powstanie konflikt na pliku `pierwszy.txt`. Informacje z `git status` pozwolą na jego rozwiązanie:"
   ]
  },
  {
   "cell_type": "code",
   "execution_count": 81,
   "metadata": {
    "scrolled": false,
    "slideshow": {
     "slide_type": "fragment"
    }
   },
   "outputs": [
    {
     "name": "stdout",
     "output_type": "stream",
     "text": [
      "On branch master\n",
      "You have unmerged paths.\n",
      "  (fix conflicts and run \"git commit\")\n",
      "  (use \"git merge --abort\" to abort the merge)\n",
      "\n",
      "Unmerged paths:\n",
      "  (use \"git add <file>...\" to mark resolution)\n",
      "\t\u001b[31mboth modified:   pierwszy.txt\u001b[m\n",
      "\n",
      "no changes added to commit (use \"git add\" and/or \"git commit -a\")\n"
     ]
    }
   ],
   "source": [
    "git status"
   ]
  },
  {
   "cell_type": "markdown",
   "metadata": {
    "slideshow": {
     "slide_type": "subslide"
    }
   },
   "source": [
    "Konflikt oznaczany jest w następujący sposób:"
   ]
  },
  {
   "cell_type": "code",
   "execution_count": 82,
   "metadata": {
    "scrolled": false,
    "slideshow": {
     "slide_type": "fragment"
    }
   },
   "outputs": [
    {
     "name": "stdout",
     "output_type": "stream",
     "text": [
      "<<<<<<< HEAD\n",
      "to jest treść z gałęzi master\n",
      "=======\n",
      "to jest inna treść z gałęzi konflikt\n",
      ">>>>>>> konflikt\n"
     ]
    }
   ],
   "source": [
    "cat pierwszy.txt"
   ]
  },
  {
   "cell_type": "markdown",
   "metadata": {
    "slideshow": {
     "slide_type": "fragment"
    }
   },
   "source": [
    "`<<<<<<<`, `=======` i `>>>>>>>` są markerami konfliktu. Należy wybrać jedną wersję (pomiędzy `<<<<<<<` i `=======` ALBO pomiędzy `=======` i `>>>>>>>`) i resztę linii skasować."
   ]
  },
  {
   "cell_type": "markdown",
   "metadata": {
    "slideshow": {
     "slide_type": "subslide"
    }
   },
   "source": [
    "W powyższym przykładzie, po wyczyszczeniu konfliktu, plik wyglądałby następująco (wybrana wersja z gałęzi `konflikt`):"
   ]
  },
  {
   "cell_type": "code",
   "execution_count": 83,
   "metadata": {
    "scrolled": false,
    "slideshow": {
     "slide_type": "fragment"
    }
   },
   "outputs": [],
   "source": [
    "echo \"to jest inna treść z gałęzi konflikt\" > pierwszy.txt"
   ]
  },
  {
   "cell_type": "code",
   "execution_count": 84,
   "metadata": {
    "scrolled": false,
    "slideshow": {
     "slide_type": "fragment"
    }
   },
   "outputs": [
    {
     "name": "stdout",
     "output_type": "stream",
     "text": [
      "to jest inna treść z gałęzi konflikt\n"
     ]
    }
   ],
   "source": [
    "cat pierwszy.txt"
   ]
  },
  {
   "cell_type": "markdown",
   "metadata": {
    "slideshow": {
     "slide_type": "subslide"
    }
   },
   "source": [
    "Dalsze kroki pokaże nam `git status`:"
   ]
  },
  {
   "cell_type": "code",
   "execution_count": 85,
   "metadata": {
    "scrolled": false,
    "slideshow": {
     "slide_type": "fragment"
    }
   },
   "outputs": [
    {
     "name": "stdout",
     "output_type": "stream",
     "text": [
      "On branch master\n",
      "You have unmerged paths.\n",
      "  (fix conflicts and run \"git commit\")\n",
      "  (use \"git merge --abort\" to abort the merge)\n",
      "\n",
      "Unmerged paths:\n",
      "  (use \"git add <file>...\" to mark resolution)\n",
      "\t\u001b[31mboth modified:   pierwszy.txt\u001b[m\n",
      "\n",
      "no changes added to commit (use \"git add\" and/or \"git commit -a\")\n"
     ]
    }
   ],
   "source": [
    "git status"
   ]
  },
  {
   "cell_type": "markdown",
   "metadata": {
    "slideshow": {
     "slide_type": "subslide"
    }
   },
   "source": [
    "Należy oznaczyć **ręcznie**, że plik ma rozwiązany konflikt:"
   ]
  },
  {
   "cell_type": "code",
   "execution_count": 86,
   "metadata": {
    "scrolled": false,
    "slideshow": {
     "slide_type": "fragment"
    }
   },
   "outputs": [],
   "source": [
    "git add pierwszy.txt"
   ]
  },
  {
   "cell_type": "markdown",
   "metadata": {
    "slideshow": {
     "slide_type": "fragment"
    }
   },
   "source": [
    "I kontynuować przyłączanie zgodnie z instrukcjami z `git status`:"
   ]
  },
  {
   "cell_type": "code",
   "execution_count": 87,
   "metadata": {
    "scrolled": false,
    "slideshow": {
     "slide_type": "fragment"
    }
   },
   "outputs": [
    {
     "name": "stdout",
     "output_type": "stream",
     "text": [
      "On branch master\n",
      "All conflicts fixed but you are still merging.\n",
      "  (use \"git commit\" to conclude merge)\n",
      "\n",
      "Changes to be committed:\n",
      "\t\u001b[32mmodified:   pierwszy.txt\u001b[m\n",
      "\n"
     ]
    }
   ],
   "source": [
    "git status"
   ]
  },
  {
   "cell_type": "code",
   "execution_count": 88,
   "metadata": {
    "scrolled": false,
    "slideshow": {
     "slide_type": "fragment"
    }
   },
   "outputs": [
    {
     "name": "stdout",
     "output_type": "stream",
     "text": [
      "[master 7354d5a] Merge branch 'konflikt'\n"
     ]
    }
   ],
   "source": [
    "git commit -m \"Merge branch 'konflikt'\""
   ]
  },
  {
   "cell_type": "code",
   "execution_count": null,
   "metadata": {
    "scrolled": false,
    "slideshow": {
     "slide_type": "skip"
    }
   },
   "outputs": [],
   "source": []
  }
 ],
 "metadata": {
  "celltoolbar": "Slideshow",
  "kernelspec": {
   "display_name": "Bash",
   "language": "bash",
   "name": "bash"
  },
  "language_info": {
   "codemirror_mode": "shell",
   "file_extension": ".sh",
   "mimetype": "text/x-sh",
   "name": "bash"
  }
 },
 "nbformat": 4,
 "nbformat_minor": 4
}
