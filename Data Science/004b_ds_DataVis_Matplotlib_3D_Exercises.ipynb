{
 "cells": [
  {
   "cell_type": "markdown",
   "id": "9027fbfe",
   "metadata": {
    "slideshow": {
     "slide_type": "slide"
    }
   },
   "source": [
    "# Matplotlib\n",
    "\n",
    "_Mikołaj Leszczuk_\n",
    "\n",
    "![](https://i.imgflip.com/o5hw1.jpg)"
   ]
  },
  {
   "cell_type": "markdown",
   "id": "5c06fd4e",
   "metadata": {
    "slideshow": {
     "slide_type": "slide"
    }
   },
   "source": [
    "## Konspekt\n",
    "\n",
    "* Matplotlib 3D\n",
    "* Figury interaktywne\n",
    "* Ćwiczenia"
   ]
  },
  {
   "cell_type": "markdown",
   "id": "cb48183b",
   "metadata": {
    "slideshow": {
     "slide_type": "slide"
    }
   },
   "source": [
    "## Matplotlib 3D"
   ]
  },
  {
   "cell_type": "code",
   "execution_count": 1,
   "id": "35b41d96",
   "metadata": {
    "slideshow": {
     "slide_type": "fragment"
    }
   },
   "outputs": [],
   "source": [
    "import matplotlib.pyplot as plt\n",
    "from matplotlib import cm\n",
    "from matplotlib.ticker import LinearLocator\n",
    "import numpy as np"
   ]
  },
  {
   "cell_type": "markdown",
   "id": "828ae430",
   "metadata": {
    "slideshow": {
     "slide_type": "slide"
    }
   },
   "source": [
    "### Powierzchnia 3D (mapa kolorów)"
   ]
  },
  {
   "cell_type": "markdown",
   "id": "ff50cfe1",
   "metadata": {
    "slideshow": {
     "slide_type": "fragment"
    }
   },
   "source": [
    "Demonstracja kreślenia powierzchni 3D pokolorowanej za pomocą chłodno-ciepłej mapy kolorów. Powierzchnia jest zrobiona nieprzezroczystą za pomocą `antialiased=False`.\n",
    "\n",
    "Pokazanie również użycia `LinearLocator` i niestandardowego formatowania etykiet znaczników osi Z."
   ]
  },
  {
   "cell_type": "code",
   "execution_count": null,
   "id": "5c6d4b3c",
   "metadata": {
    "slideshow": {
     "slide_type": "subslide"
    }
   },
   "outputs": [],
   "source": [
    "fig, ax = plt.subplots(subplot_kw={\"projection\": \"3d\"})\n",
    "\n",
    "plt.show()"
   ]
  },
  {
   "cell_type": "markdown",
   "id": "6bdc539e",
   "metadata": {
    "slideshow": {
     "slide_type": "subslide"
    }
   },
   "source": [
    "Tworzenie danych:"
   ]
  },
  {
   "cell_type": "code",
   "execution_count": null,
   "id": "aa573657",
   "metadata": {
    "slideshow": {
     "slide_type": "fragment"
    }
   },
   "outputs": [],
   "source": [
    "X = np.arange(-5, 5, 0.25)\n",
    "Y = np.arange(-5, 5, 0.25)\n",
    "X, Y = np.meshgrid(X, Y)\n",
    "R = np.sqrt(X**2 + Y**2)\n",
    "Z = np.sin(R)"
   ]
  },
  {
   "cell_type": "markdown",
   "id": "38f415c8",
   "metadata": {
    "slideshow": {
     "slide_type": "subslide"
    }
   },
   "source": [
    "Wykreślanie powierzchni:"
   ]
  },
  {
   "cell_type": "code",
   "execution_count": null,
   "id": "7797a79d",
   "metadata": {
    "slideshow": {
     "slide_type": "fragment"
    }
   },
   "outputs": [],
   "source": [
    "fig, ax = plt.subplots(subplot_kw={\"projection\": \"3d\"})\n",
    "\n",
    "surf = ax.plot_surface(X, Y, Z, cmap=cm.coolwarm, linewidth=0, antialiased=False)\n",
    "\n",
    "plt.show()"
   ]
  },
  {
   "cell_type": "markdown",
   "id": "d7fccc2a",
   "metadata": {
    "slideshow": {
     "slide_type": "subslide"
    }
   },
   "source": [
    "Dostosowanie osi Z:"
   ]
  },
  {
   "cell_type": "code",
   "execution_count": null,
   "id": "6241d916",
   "metadata": {
    "slideshow": {
     "slide_type": "fragment"
    }
   },
   "outputs": [],
   "source": [
    "fig, ax = plt.subplots(subplot_kw={\"projection\": \"3d\"})\n",
    "\n",
    "ax.set_zlim(-1.00, 1.00)\n",
    "ax.zaxis.set_major_locator(LinearLocator(9))\n",
    "ax.zaxis.set_major_formatter('{x:.02f}')\n",
    "\n",
    "surf = ax.plot_surface(X, Y, Z, cmap=cm.coolwarm, linewidth=0, antialiased=False)\n",
    "\n",
    "plt.show()"
   ]
  },
  {
   "cell_type": "markdown",
   "id": "5e9c0c0f",
   "metadata": {
    "slideshow": {
     "slide_type": "subslide"
    }
   },
   "source": [
    "Dodawanie paska kolorów, który odwzorowuje wartości na kolory:"
   ]
  },
  {
   "cell_type": "code",
   "execution_count": null,
   "id": "23209ccd",
   "metadata": {
    "slideshow": {
     "slide_type": "subslide"
    }
   },
   "outputs": [],
   "source": [
    "fig, ax = plt.subplots(subplot_kw={\"projection\": \"3d\"})\n",
    "\n",
    "ax.set_zlim(-1.01, 1.01)\n",
    "ax.zaxis.set_major_locator(LinearLocator(10))\n",
    "ax.zaxis.set_major_formatter('{x:.02f}')\n",
    "\n",
    "surf = ax.plot_surface(X, Y, Z, cmap=cm.coolwarm, linewidth=0, antialiased=False)\n",
    "\n",
    "fig.colorbar(surf, shrink=0.5, aspect=5)\n",
    "\n",
    "plt.show()"
   ]
  },
  {
   "cell_type": "markdown",
   "id": "348a6200",
   "metadata": {
    "slideshow": {
     "slide_type": "slide"
    }
   },
   "source": [
    "### Trójkątne powierzchnie 3D"
   ]
  },
  {
   "cell_type": "markdown",
   "id": "af44a672",
   "metadata": {
    "slideshow": {
     "slide_type": "fragment"
    }
   },
   "source": [
    "Wykreślanie powierzchni 3D (jak w chipsie ziemniaczanym \"Pringles\") z trójkątną siatką.\n",
    "\n",
    "![](https://upload.wikimedia.org/wikipedia/commons/thumb/8/89/Pringles_chips.JPG/471px-Pringles_chips.JPG)"
   ]
  },
  {
   "cell_type": "markdown",
   "id": "a79433b7",
   "metadata": {
    "slideshow": {
     "slide_type": "subslide"
    }
   },
   "source": [
    "Utworzenie przestrzenii promieni i kątów (pominięto promień $r=0$, aby wyeliminować duplikację):"
   ]
  },
  {
   "cell_type": "code",
   "execution_count": 2,
   "id": "f6901ecd",
   "metadata": {
    "slideshow": {
     "slide_type": "fragment"
    }
   },
   "outputs": [],
   "source": [
    "n_radii = 8  # liczba promieni\n",
    "n_angles = 36  # liczba kątów"
   ]
  },
  {
   "cell_type": "code",
   "execution_count": 3,
   "id": "44f445ec",
   "metadata": {
    "slideshow": {
     "slide_type": "fragment"
    }
   },
   "outputs": [],
   "source": [
    "radii = np.linspace(0.125, 1.0, n_radii)\n",
    "angles = np.linspace(0, 2*np.pi, n_angles, endpoint=False)[..., np.newaxis]"
   ]
  },
  {
   "cell_type": "markdown",
   "id": "ec2f3efb",
   "metadata": {
    "slideshow": {
     "slide_type": "fragment"
    }
   },
   "source": [
    "Zamienianie współrzędnych biegunowych $(radii, angles)$ na współrzędne kartezjańskie $(x, y)$, przy czym $(0, 0)$ jest dodawany ręcznie na tym etapie, więc nie będzie zduplikowanych punktów na płaszczyźnie $(x, y)$:"
   ]
  },
  {
   "cell_type": "code",
   "execution_count": 4,
   "id": "533455d9",
   "metadata": {
    "slideshow": {
     "slide_type": "fragment"
    }
   },
   "outputs": [],
   "source": [
    "x = np.append(0, (radii*np.cos(angles)).flatten())\n",
    "y = np.append(0, (radii*np.sin(angles)).flatten())"
   ]
  },
  {
   "cell_type": "markdown",
   "id": "9f9b06ec",
   "metadata": {
    "slideshow": {
     "slide_type": "subslide"
    }
   },
   "source": [
    "Obliczenie $z$, aby utworzyć powierzchnię jak w chipsie ziemniaczanym \"Pringles\":"
   ]
  },
  {
   "cell_type": "code",
   "execution_count": 5,
   "id": "9ce99759",
   "metadata": {
    "slideshow": {
     "slide_type": "fragment"
    }
   },
   "outputs": [],
   "source": [
    "z = np.sin(-x*y)"
   ]
  },
  {
   "cell_type": "code",
   "execution_count": 6,
   "id": "119b30b1",
   "metadata": {
    "slideshow": {
     "slide_type": "subslide"
    }
   },
   "outputs": [
    {
     "data": {
      "image/png": "[encoded data removed]",
      "text/plain": [
       "<Figure size 432x288 with 1 Axes>"
      ]
     },
     "metadata": {
      "needs_background": "light"
     },
     "output_type": "display_data"
    }
   ],
   "source": [
    "ax = plt.figure().add_subplot(projection='3d')\n",
    "\n",
    "plt.show()"
   ]
  },
  {
   "cell_type": "code",
   "execution_count": 7,
   "id": "745d053c",
   "metadata": {
    "slideshow": {
     "slide_type": "subslide"
    }
   },
   "outputs": [
    {
     "data": {
      "image/png": "[encoded data removed]",
      "text/plain": [
       "<Figure size 432x288 with 1 Axes>"
      ]
     },
     "metadata": {
      "needs_background": "light"
     },
     "output_type": "display_data"
    }
   ],
   "source": [
    "ax = plt.figure().add_subplot(projection='3d')\n",
    "\n",
    "ax.plot_trisurf(x, y, z, linewidth=0.2, antialiased=True)\n",
    "\n",
    "plt.show()"
   ]
  },
  {
   "cell_type": "markdown",
   "id": "57457e2a",
   "metadata": {
    "slideshow": {
     "slide_type": "slide"
    }
   },
   "source": [
    "## Figury interaktywne"
   ]
  },
  {
   "cell_type": "markdown",
   "id": "9eddec8d",
   "metadata": {
    "slideshow": {
     "slide_type": "fragment"
    }
   },
   "source": [
    "Podczas pracy z danymi interaktywność może być nieoceniona. Narzędzia do panoramowania/powiększania i lokalizacji myszy wbudowane w okna GUI Matplotlib są często wystarczające, ale można również użyć systemu zdarzeń do tworzenia niestandardowych narzędzi do eksploracji danych."
   ]
  },
  {
   "cell_type": "markdown",
   "id": "1d0ca117",
   "metadata": {
    "slideshow": {
     "slide_type": "fragment"
    }
   },
   "source": [
    "Matplotlib jest dostarczany z powiązaniami **backendów** z kilkoma zestawami narzędzi GUI (Qt, Tk, Wx, GTK, macOS, JavaScript), a pakiety stron trzecich zapewniają powiązania z **kivy** i **Jupyter Lab**. Aby figury reagowały na zdarzenia myszy, klawiatury i malowania, pętla zdarzeń GUI musi być zintegrowana z interaktywnym monitem. Zaleca się używanie IPythona."
   ]
  },
  {
   "cell_type": "markdown",
   "id": "e1195119",
   "metadata": {
    "slideshow": {
     "slide_type": "slide"
    }
   },
   "source": [
    "### Integracja z IPythonem"
   ]
  },
  {
   "cell_type": "markdown",
   "id": "92cf945e",
   "metadata": {
    "slideshow": {
     "slide_type": "fragment"
    }
   },
   "source": [
    "Zaleca się używanie IPython do interaktywnej powłoki. Oprócz wszystkich swoich funkcji, zapewnia również, że pętla zdarzeń zestawu narzędzi GUI jest prawidłowo zintegrowana z wierszem poleceń."
   ]
  },
  {
   "cell_type": "markdown",
   "id": "a7cadb99",
   "metadata": {
    "slideshow": {
     "slide_type": "fragment"
    }
   },
   "source": [
    "Aby skonfigurować integrację i włączyć **tryb interaktywny**, używamy `%matplotlib`."
   ]
  },
  {
   "cell_type": "markdown",
   "id": "af1ff4f2",
   "metadata": {
    "slideshow": {
     "slide_type": "slide"
    }
   },
   "source": [
    "### Jupyter Notebook"
   ]
  },
  {
   "cell_type": "markdown",
   "id": "6bb9ef08",
   "metadata": {
    "slideshow": {
     "slide_type": "fragment"
    }
   },
   "source": [
    "W tym przykładzie tworzymy i modyfikujemy figurę za pomocą Jupyter Notebook. Rysunek jest wyświetlany w oknie GUI."
   ]
  },
  {
   "cell_type": "markdown",
   "id": "36f15ae2",
   "metadata": {
    "slideshow": {
     "slide_type": "fragment"
    }
   },
   "source": [
    "Aby uzyskać interaktywne figury w \"klasycznym\" Jupyter Notebook, możemy użyć:"
   ]
  },
  {
   "cell_type": "code",
   "execution_count": 8,
   "id": "67eb65a5",
   "metadata": {
    "slideshow": {
     "slide_type": "fragment"
    }
   },
   "outputs": [],
   "source": [
    "%matplotlib notebook"
   ]
  },
  {
   "cell_type": "markdown",
   "id": "4c6306d8",
   "metadata": {
    "slideshow": {
     "slide_type": "fragment"
    }
   },
   "source": [
    "Korzysta to z backendu dostarczonego przez Matplotlib."
   ]
  },
  {
   "cell_type": "markdown",
   "id": "60c43f66",
   "metadata": {
    "slideshow": {
     "slide_type": "subslide"
    }
   },
   "source": [
    "Utwórzenie nowego okna figury:"
   ]
  },
  {
   "cell_type": "code",
   "execution_count": 9,
   "id": "785ae579",
   "metadata": {
    "slideshow": {
     "slide_type": "fragment"
    }
   },
   "outputs": [
    {
     "data": {
      "application/javascript": [
       "/* Put everything inside the global mpl namespace */\n",
       "/* global mpl */\n",
       "window.mpl = {};\n",
       "\n",
       "mpl.get_websocket_type = function () {\n",
       "    if (typeof WebSocket !== 'undefined') {\n",
       "        return WebSocket;\n",
       "    } else if (typeof MozWebSocket !== 'undefined') {\n",
       "        return MozWebSocket;\n",
       "    } else {\n",
       "        alert(\n",
       "            'Your browser does not have WebSocket support. ' +\n",
       "                'Please try Chrome, Safari or Firefox ≥ 6. ' +\n",
       "                'Firefox 4 and 5 are also supported but you ' +\n",
       "                'have to enable WebSockets in about:config.'\n",
       "        );\n",
       "    }\n",
       "};\n",
       "\n",
       "mpl.figure = function (figure_id, websocket, ondownload, parent_element) {\n",
       "    this.id = figure_id;\n",
       "\n",
       "    this.ws = websocket;\n",
       "\n",
       "    this.supports_binary = this.ws.binaryType !== undefined;\n",
       "\n",
       "    if (!this.supports_binary) {\n",
       "        var warnings = document.getElementById('mpl-warnings');\n",
       "        if (warnings) {\n",
       "            warnings.style.display = 'block';\n",
       "            warnings.textContent =\n",
       "                'This browser does not support binary websocket messages. ' +\n",
       "                'Performance may be slow.';\n",
       "        }\n",
       "    }\n",
       "\n",
       "    this.imageObj = new Image();\n",
       "\n",
       "    this.context = undefined;\n",
       "    this.message = undefined;\n",
       "    this.canvas = undefined;\n",
       "    this.rubberband_canvas = undefined;\n",
       "    this.rubberband_context = undefined;\n",
       "    this.format_dropdown = undefined;\n",
       "\n",
       "    this.image_mode = 'full';\n",
       "\n",
       "    this.root = document.createElement('div');\n",
       "    this.root.setAttribute('style', 'display: inline-block');\n",
       "    this._root_extra_style(this.root);\n",
       "\n",
       "    parent_element.appendChild(this.root);\n",
       "\n",
       "    this._init_header(this);\n",
       "    this._init_canvas(this);\n",
       "    this._init_toolbar(this);\n",
       "\n",
       "    var fig = this;\n",
       "\n",
       "    this.waiting = false;\n",
       "\n",
       "    this.ws.onopen = function () {\n",
       "        fig.send_message('supports_binary', { value: fig.supports_binary });\n",
       "        fig.send_message('send_image_mode', {});\n",
       "        if (fig.ratio !== 1) {\n",
       "            fig.send_message('set_device_pixel_ratio', {\n",
       "                device_pixel_ratio: fig.ratio,\n",
       "            });\n",
       "        }\n",
       "        fig.send_message('refresh', {});\n",
       "    };\n",
       "\n",
       "    this.imageObj.onload = function () {\n",
       "        if (fig.image_mode === 'full') {\n",
       "            // Full images could contain transparency (where diff images\n",
       "            // almost always do), so we need to clear the canvas so that\n",
       "            // there is no ghosting.\n",
       "            fig.context.clearRect(0, 0, fig.canvas.width, fig.canvas.height);\n",
       "        }\n",
       "        fig.context.drawImage(fig.imageObj, 0, 0);\n",
       "    };\n",
       "\n",
       "    this.imageObj.onunload = function () {\n",
       "        fig.ws.close();\n",
       "    };\n",
       "\n",
       "    this.ws.onmessage = this._make_on_message_function(this);\n",
       "\n",
       "    this.ondownload = ondownload;\n",
       "};\n",
       "\n",
       "mpl.figure.prototype._init_header = function () {\n",
       "    var titlebar = document.createElement('div');\n",
       "    titlebar.classList =\n",
       "        'ui-dialog-titlebar ui-widget-header ui-corner-all ui-helper-clearfix';\n",
       "    var titletext = document.createElement('div');\n",
       "    titletext.classList = 'ui-dialog-title';\n",
       "    titletext.setAttribute(\n",
       "        'style',\n",
       "        'width: 100%; text-align: center; padding: 3px;'\n",
       "    );\n",
       "    titlebar.appendChild(titletext);\n",
       "    this.root.appendChild(titlebar);\n",
       "    this.header = titletext;\n",
       "};\n",
       "\n",
       "mpl.figure.prototype._canvas_extra_style = function (_canvas_div) {};\n",
       "\n",
       "mpl.figure.prototype._root_extra_style = function (_canvas_div) {};\n",
       "\n",
       "mpl.figure.prototype._init_canvas = function () {\n",
       "    var fig = this;\n",
       "\n",
       "    var canvas_div = (this.canvas_div = document.createElement('div'));\n",
       "    canvas_div.setAttribute(\n",
       "        'style',\n",
       "        'border: 1px solid #ddd;' +\n",
       "            'box-sizing: content-box;' +\n",
       "            'clear: both;' +\n",
       "            'min-height: 1px;' +\n",
       "            'min-width: 1px;' +\n",
       "            'outline: 0;' +\n",
       "            'overflow: hidden;' +\n",
       "            'position: relative;' +\n",
       "            'resize: both;'\n",
       "    );\n",
       "\n",
       "    function on_keyboard_event_closure(name) {\n",
       "        return function (event) {\n",
       "            return fig.key_event(event, name);\n",
       "        };\n",
       "    }\n",
       "\n",
       "    canvas_div.addEventListener(\n",
       "        'keydown',\n",
       "        on_keyboard_event_closure('key_press')\n",
       "    );\n",
       "    canvas_div.addEventListener(\n",
       "        'keyup',\n",
       "        on_keyboard_event_closure('key_release')\n",
       "    );\n",
       "\n",
       "    this._canvas_extra_style(canvas_div);\n",
       "    this.root.appendChild(canvas_div);\n",
       "\n",
       "    var canvas = (this.canvas = document.createElement('canvas'));\n",
       "    canvas.classList.add('mpl-canvas');\n",
       "    canvas.setAttribute('style', 'box-sizing: content-box;');\n",
       "\n",
       "    this.context = canvas.getContext('2d');\n",
       "\n",
       "    var backingStore =\n",
       "        this.context.backingStorePixelRatio ||\n",
       "        this.context.webkitBackingStorePixelRatio ||\n",
       "        this.context.mozBackingStorePixelRatio ||\n",
       "        this.context.msBackingStorePixelRatio ||\n",
       "        this.context.oBackingStorePixelRatio ||\n",
       "        this.context.backingStorePixelRatio ||\n",
       "        1;\n",
       "\n",
       "    this.ratio = (window.devicePixelRatio || 1) / backingStore;\n",
       "\n",
       "    var rubberband_canvas = (this.rubberband_canvas = document.createElement(\n",
       "        'canvas'\n",
       "    ));\n",
       "    rubberband_canvas.setAttribute(\n",
       "        'style',\n",
       "        'box-sizing: content-box; position: absolute; left: 0; top: 0; z-index: 1;'\n",
       "    );\n",
       "\n",
       "    // Apply a ponyfill if ResizeObserver is not implemented by browser.\n",
       "    if (this.ResizeObserver === undefined) {\n",
       "        if (window.ResizeObserver !== undefined) {\n",
       "            this.ResizeObserver = window.ResizeObserver;\n",
       "        } else {\n",
       "            var obs = _JSXTOOLS_RESIZE_OBSERVER({});\n",
       "            this.ResizeObserver = obs.ResizeObserver;\n",
       "        }\n",
       "    }\n",
       "\n",
       "    this.resizeObserverInstance = new this.ResizeObserver(function (entries) {\n",
       "        var nentries = entries.length;\n",
       "        for (var i = 0; i < nentries; i++) {\n",
       "            var entry = entries[i];\n",
       "            var width, height;\n",
       "            if (entry.contentBoxSize) {\n",
       "                if (entry.contentBoxSize instanceof Array) {\n",
       "                    // Chrome 84 implements new version of spec.\n",
       "                    width = entry.contentBoxSize[0].inlineSize;\n",
       "                    height = entry.contentBoxSize[0].blockSize;\n",
       "                } else {\n",
       "                    // Firefox implements old version of spec.\n",
       "                    width = entry.contentBoxSize.inlineSize;\n",
       "                    height = entry.contentBoxSize.blockSize;\n",
       "                }\n",
       "            } else {\n",
       "                // Chrome <84 implements even older version of spec.\n",
       "                width = entry.contentRect.width;\n",
       "                height = entry.contentRect.height;\n",
       "            }\n",
       "\n",
       "            // Keep the size of the canvas and rubber band canvas in sync with\n",
       "            // the canvas container.\n",
       "            if (entry.devicePixelContentBoxSize) {\n",
       "                // Chrome 84 implements new version of spec.\n",
       "                canvas.setAttribute(\n",
       "                    'width',\n",
       "                    entry.devicePixelContentBoxSize[0].inlineSize\n",
       "                );\n",
       "                canvas.setAttribute(\n",
       "                    'height',\n",
       "                    entry.devicePixelContentBoxSize[0].blockSize\n",
       "                );\n",
       "            } else {\n",
       "                canvas.setAttribute('width', width * fig.ratio);\n",
       "                canvas.setAttribute('height', height * fig.ratio);\n",
       "            }\n",
       "            canvas.setAttribute(\n",
       "                'style',\n",
       "                'width: ' + width + 'px; height: ' + height + 'px;'\n",
       "            );\n",
       "\n",
       "            rubberband_canvas.setAttribute('width', width);\n",
       "            rubberband_canvas.setAttribute('height', height);\n",
       "\n",
       "            // And update the size in Python. We ignore the initial 0/0 size\n",
       "            // that occurs as the element is placed into the DOM, which should\n",
       "            // otherwise not happen due to the minimum size styling.\n",
       "            if (fig.ws.readyState == 1 && width != 0 && height != 0) {\n",
       "                fig.request_resize(width, height);\n",
       "            }\n",
       "        }\n",
       "    });\n",
       "    this.resizeObserverInstance.observe(canvas_div);\n",
       "\n",
       "    function on_mouse_event_closure(name) {\n",
       "        return function (event) {\n",
       "            return fig.mouse_event(event, name);\n",
       "        };\n",
       "    }\n",
       "\n",
       "    rubberband_canvas.addEventListener(\n",
       "        'mousedown',\n",
       "        on_mouse_event_closure('button_press')\n",
       "    );\n",
       "    rubberband_canvas.addEventListener(\n",
       "        'mouseup',\n",
       "        on_mouse_event_closure('button_release')\n",
       "    );\n",
       "    rubberband_canvas.addEventListener(\n",
       "        'dblclick',\n",
       "        on_mouse_event_closure('dblclick')\n",
       "    );\n",
       "    // Throttle sequential mouse events to 1 every 20ms.\n",
       "    rubberband_canvas.addEventListener(\n",
       "        'mousemove',\n",
       "        on_mouse_event_closure('motion_notify')\n",
       "    );\n",
       "\n",
       "    rubberband_canvas.addEventListener(\n",
       "        'mouseenter',\n",
       "        on_mouse_event_closure('figure_enter')\n",
       "    );\n",
       "    rubberband_canvas.addEventListener(\n",
       "        'mouseleave',\n",
       "        on_mouse_event_closure('figure_leave')\n",
       "    );\n",
       "\n",
       "    canvas_div.addEventListener('wheel', function (event) {\n",
       "        if (event.deltaY < 0) {\n",
       "            event.step = 1;\n",
       "        } else {\n",
       "            event.step = -1;\n",
       "        }\n",
       "        on_mouse_event_closure('scroll')(event);\n",
       "    });\n",
       "\n",
       "    canvas_div.appendChild(canvas);\n",
       "    canvas_div.appendChild(rubberband_canvas);\n",
       "\n",
       "    this.rubberband_context = rubberband_canvas.getContext('2d');\n",
       "    this.rubberband_context.strokeStyle = '#000000';\n",
       "\n",
       "    this._resize_canvas = function (width, height, forward) {\n",
       "        if (forward) {\n",
       "            canvas_div.style.width = width + 'px';\n",
       "            canvas_div.style.height = height + 'px';\n",
       "        }\n",
       "    };\n",
       "\n",
       "    // Disable right mouse context menu.\n",
       "    this.rubberband_canvas.addEventListener('contextmenu', function (_e) {\n",
       "        event.preventDefault();\n",
       "        return false;\n",
       "    });\n",
       "\n",
       "    function set_focus() {\n",
       "        canvas.focus();\n",
       "        canvas_div.focus();\n",
       "    }\n",
       "\n",
       "    window.setTimeout(set_focus, 100);\n",
       "};\n",
       "\n",
       "mpl.figure.prototype._init_toolbar = function () {\n",
       "    var fig = this;\n",
       "\n",
       "    var toolbar = document.createElement('div');\n",
       "    toolbar.classList = 'mpl-toolbar';\n",
       "    this.root.appendChild(toolbar);\n",
       "\n",
       "    function on_click_closure(name) {\n",
       "        return function (_event) {\n",
       "            return fig.toolbar_button_onclick(name);\n",
       "        };\n",
       "    }\n",
       "\n",
       "    function on_mouseover_closure(tooltip) {\n",
       "        return function (event) {\n",
       "            if (!event.currentTarget.disabled) {\n",
       "                return fig.toolbar_button_onmouseover(tooltip);\n",
       "            }\n",
       "        };\n",
       "    }\n",
       "\n",
       "    fig.buttons = {};\n",
       "    var buttonGroup = document.createElement('div');\n",
       "    buttonGroup.classList = 'mpl-button-group';\n",
       "    for (var toolbar_ind in mpl.toolbar_items) {\n",
       "        var name = mpl.toolbar_items[toolbar_ind][0];\n",
       "        var tooltip = mpl.toolbar_items[toolbar_ind][1];\n",
       "        var image = mpl.toolbar_items[toolbar_ind][2];\n",
       "        var method_name = mpl.toolbar_items[toolbar_ind][3];\n",
       "\n",
       "        if (!name) {\n",
       "            /* Instead of a spacer, we start a new button group. */\n",
       "            if (buttonGroup.hasChildNodes()) {\n",
       "                toolbar.appendChild(buttonGroup);\n",
       "            }\n",
       "            buttonGroup = document.createElement('div');\n",
       "            buttonGroup.classList = 'mpl-button-group';\n",
       "            continue;\n",
       "        }\n",
       "\n",
       "        var button = (fig.buttons[name] = document.createElement('button'));\n",
       "        button.classList = 'mpl-widget';\n",
       "        button.setAttribute('role', 'button');\n",
       "        button.setAttribute('aria-disabled', 'false');\n",
       "        button.addEventListener('click', on_click_closure(method_name));\n",
       "        button.addEventListener('mouseover', on_mouseover_closure(tooltip));\n",
       "\n",
       "        var icon_img = document.createElement('img');\n",
       "        icon_img.src = '_images/' + image + '.png';\n",
       "        icon_img.srcset = '_images/' + image + '_large.png 2x';\n",
       "        icon_img.alt = tooltip;\n",
       "        button.appendChild(icon_img);\n",
       "\n",
       "        buttonGroup.appendChild(button);\n",
       "    }\n",
       "\n",
       "    if (buttonGroup.hasChildNodes()) {\n",
       "        toolbar.appendChild(buttonGroup);\n",
       "    }\n",
       "\n",
       "    var fmt_picker = document.createElement('select');\n",
       "    fmt_picker.classList = 'mpl-widget';\n",
       "    toolbar.appendChild(fmt_picker);\n",
       "    this.format_dropdown = fmt_picker;\n",
       "\n",
       "    for (var ind in mpl.extensions) {\n",
       "        var fmt = mpl.extensions[ind];\n",
       "        var option = document.createElement('option');\n",
       "        option.selected = fmt === mpl.default_extension;\n",
       "        option.innerHTML = fmt;\n",
       "        fmt_picker.appendChild(option);\n",
       "    }\n",
       "\n",
       "    var status_bar = document.createElement('span');\n",
       "    status_bar.classList = 'mpl-message';\n",
       "    toolbar.appendChild(status_bar);\n",
       "    this.message = status_bar;\n",
       "};\n",
       "\n",
       "mpl.figure.prototype.request_resize = function (x_pixels, y_pixels) {\n",
       "    // Request matplotlib to resize the figure. Matplotlib will then trigger a resize in the client,\n",
       "    // which will in turn request a refresh of the image.\n",
       "    this.send_message('resize', { width: x_pixels, height: y_pixels });\n",
       "};\n",
       "\n",
       "mpl.figure.prototype.send_message = function (type, properties) {\n",
       "    properties['type'] = type;\n",
       "    properties['figure_id'] = this.id;\n",
       "    this.ws.send(JSON.stringify(properties));\n",
       "};\n",
       "\n",
       "mpl.figure.prototype.send_draw_message = function () {\n",
       "    if (!this.waiting) {\n",
       "        this.waiting = true;\n",
       "        this.ws.send(JSON.stringify({ type: 'draw', figure_id: this.id }));\n",
       "    }\n",
       "};\n",
       "\n",
       "mpl.figure.prototype.handle_save = function (fig, _msg) {\n",
       "    var format_dropdown = fig.format_dropdown;\n",
       "    var format = format_dropdown.options[format_dropdown.selectedIndex].value;\n",
       "    fig.ondownload(fig, format);\n",
       "};\n",
       "\n",
       "mpl.figure.prototype.handle_resize = function (fig, msg) {\n",
       "    var size = msg['size'];\n",
       "    if (size[0] !== fig.canvas.width || size[1] !== fig.canvas.height) {\n",
       "        fig._resize_canvas(size[0], size[1], msg['forward']);\n",
       "        fig.send_message('refresh', {});\n",
       "    }\n",
       "};\n",
       "\n",
       "mpl.figure.prototype.handle_rubberband = function (fig, msg) {\n",
       "    var x0 = msg['x0'] / fig.ratio;\n",
       "    var y0 = (fig.canvas.height - msg['y0']) / fig.ratio;\n",
       "    var x1 = msg['x1'] / fig.ratio;\n",
       "    var y1 = (fig.canvas.height - msg['y1']) / fig.ratio;\n",
       "    x0 = Math.floor(x0) + 0.5;\n",
       "    y0 = Math.floor(y0) + 0.5;\n",
       "    x1 = Math.floor(x1) + 0.5;\n",
       "    y1 = Math.floor(y1) + 0.5;\n",
       "    var min_x = Math.min(x0, x1);\n",
       "    var min_y = Math.min(y0, y1);\n",
       "    var width = Math.abs(x1 - x0);\n",
       "    var height = Math.abs(y1 - y0);\n",
       "\n",
       "    fig.rubberband_context.clearRect(\n",
       "        0,\n",
       "        0,\n",
       "        fig.canvas.width / fig.ratio,\n",
       "        fig.canvas.height / fig.ratio\n",
       "    );\n",
       "\n",
       "    fig.rubberband_context.strokeRect(min_x, min_y, width, height);\n",
       "};\n",
       "\n",
       "mpl.figure.prototype.handle_figure_label = function (fig, msg) {\n",
       "    // Updates the figure title.\n",
       "    fig.header.textContent = msg['label'];\n",
       "};\n",
       "\n",
       "mpl.figure.prototype.handle_cursor = function (fig, msg) {\n",
       "    fig.rubberband_canvas.style.cursor = msg['cursor'];\n",
       "};\n",
       "\n",
       "mpl.figure.prototype.handle_message = function (fig, msg) {\n",
       "    fig.message.textContent = msg['message'];\n",
       "};\n",
       "\n",
       "mpl.figure.prototype.handle_draw = function (fig, _msg) {\n",
       "    // Request the server to send over a new figure.\n",
       "    fig.send_draw_message();\n",
       "};\n",
       "\n",
       "mpl.figure.prototype.handle_image_mode = function (fig, msg) {\n",
       "    fig.image_mode = msg['mode'];\n",
       "};\n",
       "\n",
       "mpl.figure.prototype.handle_history_buttons = function (fig, msg) {\n",
       "    for (var key in msg) {\n",
       "        if (!(key in fig.buttons)) {\n",
       "            continue;\n",
       "        }\n",
       "        fig.buttons[key].disabled = !msg[key];\n",
       "        fig.buttons[key].setAttribute('aria-disabled', !msg[key]);\n",
       "    }\n",
       "};\n",
       "\n",
       "mpl.figure.prototype.handle_navigate_mode = function (fig, msg) {\n",
       "    if (msg['mode'] === 'PAN') {\n",
       "        fig.buttons['Pan'].classList.add('active');\n",
       "        fig.buttons['Zoom'].classList.remove('active');\n",
       "    } else if (msg['mode'] === 'ZOOM') {\n",
       "        fig.buttons['Pan'].classList.remove('active');\n",
       "        fig.buttons['Zoom'].classList.add('active');\n",
       "    } else {\n",
       "        fig.buttons['Pan'].classList.remove('active');\n",
       "        fig.buttons['Zoom'].classList.remove('active');\n",
       "    }\n",
       "};\n",
       "\n",
       "mpl.figure.prototype.updated_canvas_event = function () {\n",
       "    // Called whenever the canvas gets updated.\n",
       "    this.send_message('ack', {});\n",
       "};\n",
       "\n",
       "// A function to construct a web socket function for onmessage handling.\n",
       "// Called in the figure constructor.\n",
       "mpl.figure.prototype._make_on_message_function = function (fig) {\n",
       "    return function socket_on_message(evt) {\n",
       "        if (evt.data instanceof Blob) {\n",
       "            var img = evt.data;\n",
       "            if (img.type !== 'image/png') {\n",
       "                /* FIXME: We get \"Resource interpreted as Image but\n",
       "                 * transferred with MIME type text/plain:\" errors on\n",
       "                 * Chrome.  But how to set the MIME type?  It doesn't seem\n",
       "                 * to be part of the websocket stream */\n",
       "                img.type = 'image/png';\n",
       "            }\n",
       "\n",
       "            /* Free the memory for the previous frames */\n",
       "            if (fig.imageObj.src) {\n",
       "                (window.URL || window.webkitURL).revokeObjectURL(\n",
       "                    fig.imageObj.src\n",
       "                );\n",
       "            }\n",
       "\n",
       "            fig.imageObj.src = (window.URL || window.webkitURL).createObjectURL(\n",
       "                img\n",
       "            );\n",
       "            fig.updated_canvas_event();\n",
       "            fig.waiting = false;\n",
       "            return;\n",
       "        } else if (\n",
       "            typeof evt.data === 'string' &&\n",
       "            evt.data.slice(0, 21) === 'data:image/png;base64'\n",
       "        ) {\n",
       "            fig.imageObj.src = evt.data;\n",
       "            fig.updated_canvas_event();\n",
       "            fig.waiting = false;\n",
       "            return;\n",
       "        }\n",
       "\n",
       "        var msg = JSON.parse(evt.data);\n",
       "        var msg_type = msg['type'];\n",
       "\n",
       "        // Call the  \"handle_{type}\" callback, which takes\n",
       "        // the figure and JSON message as its only arguments.\n",
       "        try {\n",
       "            var callback = fig['handle_' + msg_type];\n",
       "        } catch (e) {\n",
       "            console.log(\n",
       "                \"No handler for the '\" + msg_type + \"' message type: \",\n",
       "                msg\n",
       "            );\n",
       "            return;\n",
       "        }\n",
       "\n",
       "        if (callback) {\n",
       "            try {\n",
       "                // console.log(\"Handling '\" + msg_type + \"' message: \", msg);\n",
       "                callback(fig, msg);\n",
       "            } catch (e) {\n",
       "                console.log(\n",
       "                    \"Exception inside the 'handler_\" + msg_type + \"' callback:\",\n",
       "                    e,\n",
       "                    e.stack,\n",
       "                    msg\n",
       "                );\n",
       "            }\n",
       "        }\n",
       "    };\n",
       "};\n",
       "\n",
       "// from https://stackoverflow.com/questions/1114465/getting-mouse-location-in-canvas\n",
       "mpl.findpos = function (e) {\n",
       "    //this section is from http://www.quirksmode.org/js/events_properties.html\n",
       "    var targ;\n",
       "    if (!e) {\n",
       "        e = window.event;\n",
       "    }\n",
       "    if (e.target) {\n",
       "        targ = e.target;\n",
       "    } else if (e.srcElement) {\n",
       "        targ = e.srcElement;\n",
       "    }\n",
       "    if (targ.nodeType === 3) {\n",
       "        // defeat Safari bug\n",
       "        targ = targ.parentNode;\n",
       "    }\n",
       "\n",
       "    // pageX,Y are the mouse positions relative to the document\n",
       "    var boundingRect = targ.getBoundingClientRect();\n",
       "    var x = e.pageX - (boundingRect.left + document.body.scrollLeft);\n",
       "    var y = e.pageY - (boundingRect.top + document.body.scrollTop);\n",
       "\n",
       "    return { x: x, y: y };\n",
       "};\n",
       "\n",
       "/*\n",
       " * return a copy of an object with only non-object keys\n",
       " * we need this to avoid circular references\n",
       " * https://stackoverflow.com/a/24161582/3208463\n",
       " */\n",
       "function simpleKeys(original) {\n",
       "    return Object.keys(original).reduce(function (obj, key) {\n",
       "        if (typeof original[key] !== 'object') {\n",
       "            obj[key] = original[key];\n",
       "        }\n",
       "        return obj;\n",
       "    }, {});\n",
       "}\n",
       "\n",
       "mpl.figure.prototype.mouse_event = function (event, name) {\n",
       "    var canvas_pos = mpl.findpos(event);\n",
       "\n",
       "    if (name === 'button_press') {\n",
       "        this.canvas.focus();\n",
       "        this.canvas_div.focus();\n",
       "    }\n",
       "\n",
       "    var x = canvas_pos.x * this.ratio;\n",
       "    var y = canvas_pos.y * this.ratio;\n",
       "\n",
       "    this.send_message(name, {\n",
       "        x: x,\n",
       "        y: y,\n",
       "        button: event.button,\n",
       "        step: event.step,\n",
       "        guiEvent: simpleKeys(event),\n",
       "    });\n",
       "\n",
       "    /* This prevents the web browser from automatically changing to\n",
       "     * the text insertion cursor when the button is pressed.  We want\n",
       "     * to control all of the cursor setting manually through the\n",
       "     * 'cursor' event from matplotlib */\n",
       "    event.preventDefault();\n",
       "    return false;\n",
       "};\n",
       "\n",
       "mpl.figure.prototype._key_event_extra = function (_event, _name) {\n",
       "    // Handle any extra behaviour associated with a key event\n",
       "};\n",
       "\n",
       "mpl.figure.prototype.key_event = function (event, name) {\n",
       "    // Prevent repeat events\n",
       "    if (name === 'key_press') {\n",
       "        if (event.key === this._key) {\n",
       "            return;\n",
       "        } else {\n",
       "            this._key = event.key;\n",
       "        }\n",
       "    }\n",
       "    if (name === 'key_release') {\n",
       "        this._key = null;\n",
       "    }\n",
       "\n",
       "    var value = '';\n",
       "    if (event.ctrlKey && event.key !== 'Control') {\n",
       "        value += 'ctrl+';\n",
       "    }\n",
       "    else if (event.altKey && event.key !== 'Alt') {\n",
       "        value += 'alt+';\n",
       "    }\n",
       "    else if (event.shiftKey && event.key !== 'Shift') {\n",
       "        value += 'shift+';\n",
       "    }\n",
       "\n",
       "    value += 'k' + event.key;\n",
       "\n",
       "    this._key_event_extra(event, name);\n",
       "\n",
       "    this.send_message(name, { key: value, guiEvent: simpleKeys(event) });\n",
       "    return false;\n",
       "};\n",
       "\n",
       "mpl.figure.prototype.toolbar_button_onclick = function (name) {\n",
       "    if (name === 'download') {\n",
       "        this.handle_save(this, null);\n",
       "    } else {\n",
       "        this.send_message('toolbar_button', { name: name });\n",
       "    }\n",
       "};\n",
       "\n",
       "mpl.figure.prototype.toolbar_button_onmouseover = function (tooltip) {\n",
       "    this.message.textContent = tooltip;\n",
       "};\n",
       "\n",
       "///////////////// REMAINING CONTENT GENERATED BY embed_js.py /////////////////\n",
       "// prettier-ignore\n",
       "var _JSXTOOLS_RESIZE_OBSERVER=function(A){var t,i=new WeakMap,n=new WeakMap,a=new WeakMap,r=new WeakMap,o=new Set;function s(e){if(!(this instanceof s))throw new TypeError(\"Constructor requires 'new' operator\");i.set(this,e)}function h(){throw new TypeError(\"Function is not a constructor\")}function c(e,t,i,n){e=0 in arguments?Number(arguments[0]):0,t=1 in arguments?Number(arguments[1]):0,i=2 in arguments?Number(arguments[2]):0,n=3 in arguments?Number(arguments[3]):0,this.right=(this.x=this.left=e)+(this.width=i),this.bottom=(this.y=this.top=t)+(this.height=n),Object.freeze(this)}function d(){t=requestAnimationFrame(d);var s=new WeakMap,p=new Set;o.forEach((function(t){r.get(t).forEach((function(i){var r=t instanceof window.SVGElement,o=a.get(t),d=r?0:parseFloat(o.paddingTop),f=r?0:parseFloat(o.paddingRight),l=r?0:parseFloat(o.paddingBottom),u=r?0:parseFloat(o.paddingLeft),g=r?0:parseFloat(o.borderTopWidth),m=r?0:parseFloat(o.borderRightWidth),w=r?0:parseFloat(o.borderBottomWidth),b=u+f,F=d+l,v=(r?0:parseFloat(o.borderLeftWidth))+m,W=g+w,y=r?0:t.offsetHeight-W-t.clientHeight,E=r?0:t.offsetWidth-v-t.clientWidth,R=b+v,z=F+W,M=r?t.width:parseFloat(o.width)-R-E,O=r?t.height:parseFloat(o.height)-z-y;if(n.has(t)){var k=n.get(t);if(k[0]===M&&k[1]===O)return}n.set(t,[M,O]);var S=Object.create(h.prototype);S.target=t,S.contentRect=new c(u,d,M,O),s.has(i)||(s.set(i,[]),p.add(i)),s.get(i).push(S)}))})),p.forEach((function(e){i.get(e).call(e,s.get(e),e)}))}return s.prototype.observe=function(i){if(i instanceof window.Element){r.has(i)||(r.set(i,new Set),o.add(i),a.set(i,window.getComputedStyle(i)));var n=r.get(i);n.has(this)||n.add(this),cancelAnimationFrame(t),t=requestAnimationFrame(d)}},s.prototype.unobserve=function(i){if(i instanceof window.Element&&r.has(i)){var n=r.get(i);n.has(this)&&(n.delete(this),n.size||(r.delete(i),o.delete(i))),n.size||r.delete(i),o.size||cancelAnimationFrame(t)}},A.DOMRectReadOnly=c,A.ResizeObserver=s,A.ResizeObserverEntry=h,A}; // eslint-disable-line\n",
       "mpl.toolbar_items = [[\"Home\", \"Reset original view\", \"fa fa-home icon-home\", \"home\"], [\"Back\", \"Back to previous view\", \"fa fa-arrow-left icon-arrow-left\", \"back\"], [\"Forward\", \"Forward to next view\", \"fa fa-arrow-right icon-arrow-right\", \"forward\"], [\"\", \"\", \"\", \"\"], [\"Pan\", \"Left button pans, Right button zooms\\nx/y fixes axis, CTRL fixes aspect\", \"fa fa-arrows icon-move\", \"pan\"], [\"Zoom\", \"Zoom to rectangle\\nx/y fixes axis\", \"fa fa-square-o icon-check-empty\", \"zoom\"], [\"\", \"\", \"\", \"\"], [\"Download\", \"Download plot\", \"fa fa-floppy-o icon-save\", \"download\"]];\n",
       "\n",
       "mpl.extensions = [\"eps\", \"jpeg\", \"pgf\", \"pdf\", \"png\", \"ps\", \"raw\", \"svg\", \"tif\"];\n",
       "\n",
       "mpl.default_extension = \"png\";/* global mpl */\n",
       "\n",
       "var comm_websocket_adapter = function (comm) {\n",
       "    // Create a \"websocket\"-like object which calls the given IPython comm\n",
       "    // object with the appropriate methods. Currently this is a non binary\n",
       "    // socket, so there is still some room for performance tuning.\n",
       "    var ws = {};\n",
       "\n",
       "    ws.binaryType = comm.kernel.ws.binaryType;\n",
       "    ws.readyState = comm.kernel.ws.readyState;\n",
       "    function updateReadyState(_event) {\n",
       "        if (comm.kernel.ws) {\n",
       "            ws.readyState = comm.kernel.ws.readyState;\n",
       "        } else {\n",
       "            ws.readyState = 3; // Closed state.\n",
       "        }\n",
       "    }\n",
       "    comm.kernel.ws.addEventListener('open', updateReadyState);\n",
       "    comm.kernel.ws.addEventListener('close', updateReadyState);\n",
       "    comm.kernel.ws.addEventListener('error', updateReadyState);\n",
       "\n",
       "    ws.close = function () {\n",
       "        comm.close();\n",
       "    };\n",
       "    ws.send = function (m) {\n",
       "        //console.log('sending', m);\n",
       "        comm.send(m);\n",
       "    };\n",
       "    // Register the callback with on_msg.\n",
       "    comm.on_msg(function (msg) {\n",
       "        //console.log('receiving', msg['content']['data'], msg);\n",
       "        var data = msg['content']['data'];\n",
       "        if (data['blob'] !== undefined) {\n",
       "            data = {\n",
       "                data: new Blob(msg['buffers'], { type: data['blob'] }),\n",
       "            };\n",
       "        }\n",
       "        // Pass the mpl event to the overridden (by mpl) onmessage function.\n",
       "        ws.onmessage(data);\n",
       "    });\n",
       "    return ws;\n",
       "};\n",
       "\n",
       "mpl.mpl_figure_comm = function (comm, msg) {\n",
       "    // This is the function which gets called when the mpl process\n",
       "    // starts-up an IPython Comm through the \"matplotlib\" channel.\n",
       "\n",
       "    var id = msg.content.data.id;\n",
       "    // Get hold of the div created by the display call when the Comm\n",
       "    // socket was opened in Python.\n",
       "    var element = document.getElementById(id);\n",
       "    var ws_proxy = comm_websocket_adapter(comm);\n",
       "\n",
       "    function ondownload(figure, _format) {\n",
       "        window.open(figure.canvas.toDataURL());\n",
       "    }\n",
       "\n",
       "    var fig = new mpl.figure(id, ws_proxy, ondownload, element);\n",
       "\n",
       "    // Call onopen now - mpl needs it, as it is assuming we've passed it a real\n",
       "    // web socket which is closed, not our websocket->open comm proxy.\n",
       "    ws_proxy.onopen();\n",
       "\n",
       "    fig.parent_element = element;\n",
       "    fig.cell_info = mpl.find_output_cell(\"<div id='\" + id + \"'></div>\");\n",
       "    if (!fig.cell_info) {\n",
       "        console.error('Failed to find cell for figure', id, fig);\n",
       "        return;\n",
       "    }\n",
       "    fig.cell_info[0].output_area.element.on(\n",
       "        'cleared',\n",
       "        { fig: fig },\n",
       "        fig._remove_fig_handler\n",
       "    );\n",
       "};\n",
       "\n",
       "mpl.figure.prototype.handle_close = function (fig, msg) {\n",
       "    var width = fig.canvas.width / fig.ratio;\n",
       "    fig.cell_info[0].output_area.element.off(\n",
       "        'cleared',\n",
       "        fig._remove_fig_handler\n",
       "    );\n",
       "    fig.resizeObserverInstance.unobserve(fig.canvas_div);\n",
       "\n",
       "    // Update the output cell to use the data from the current canvas.\n",
       "    fig.push_to_output();\n",
       "    var dataURL = fig.canvas.toDataURL();\n",
       "    // Re-enable the keyboard manager in IPython - without this line, in FF,\n",
       "    // the notebook keyboard shortcuts fail.\n",
       "    IPython.keyboard_manager.enable();\n",
       "    fig.parent_element.innerHTML =\n",
       "        '<img src=\"' + dataURL + '\" width=\"' + width + '\">';\n",
       "    fig.close_ws(fig, msg);\n",
       "};\n",
       "\n",
       "mpl.figure.prototype.close_ws = function (fig, msg) {\n",
       "    fig.send_message('closing', msg);\n",
       "    // fig.ws.close()\n",
       "};\n",
       "\n",
       "mpl.figure.prototype.push_to_output = function (_remove_interactive) {\n",
       "    // Turn the data on the canvas into data in the output cell.\n",
       "    var width = this.canvas.width / this.ratio;\n",
       "    var dataURL = this.canvas.toDataURL();\n",
       "    this.cell_info[1]['text/html'] =\n",
       "        '<img src=\"' + dataURL + '\" width=\"' + width + '\">';\n",
       "};\n",
       "\n",
       "mpl.figure.prototype.updated_canvas_event = function () {\n",
       "    // Tell IPython that the notebook contents must change.\n",
       "    IPython.notebook.set_dirty(true);\n",
       "    this.send_message('ack', {});\n",
       "    var fig = this;\n",
       "    // Wait a second, then push the new image to the DOM so\n",
       "    // that it is saved nicely (might be nice to debounce this).\n",
       "    setTimeout(function () {\n",
       "        fig.push_to_output();\n",
       "    }, 1000);\n",
       "};\n",
       "\n",
       "mpl.figure.prototype._init_toolbar = function () {\n",
       "    var fig = this;\n",
       "\n",
       "    var toolbar = document.createElement('div');\n",
       "    toolbar.classList = 'btn-toolbar';\n",
       "    this.root.appendChild(toolbar);\n",
       "\n",
       "    function on_click_closure(name) {\n",
       "        return function (_event) {\n",
       "            return fig.toolbar_button_onclick(name);\n",
       "        };\n",
       "    }\n",
       "\n",
       "    function on_mouseover_closure(tooltip) {\n",
       "        return function (event) {\n",
       "            if (!event.currentTarget.disabled) {\n",
       "                return fig.toolbar_button_onmouseover(tooltip);\n",
       "            }\n",
       "        };\n",
       "    }\n",
       "\n",
       "    fig.buttons = {};\n",
       "    var buttonGroup = document.createElement('div');\n",
       "    buttonGroup.classList = 'btn-group';\n",
       "    var button;\n",
       "    for (var toolbar_ind in mpl.toolbar_items) {\n",
       "        var name = mpl.toolbar_items[toolbar_ind][0];\n",
       "        var tooltip = mpl.toolbar_items[toolbar_ind][1];\n",
       "        var image = mpl.toolbar_items[toolbar_ind][2];\n",
       "        var method_name = mpl.toolbar_items[toolbar_ind][3];\n",
       "\n",
       "        if (!name) {\n",
       "            /* Instead of a spacer, we start a new button group. */\n",
       "            if (buttonGroup.hasChildNodes()) {\n",
       "                toolbar.appendChild(buttonGroup);\n",
       "            }\n",
       "            buttonGroup = document.createElement('div');\n",
       "            buttonGroup.classList = 'btn-group';\n",
       "            continue;\n",
       "        }\n",
       "\n",
       "        button = fig.buttons[name] = document.createElement('button');\n",
       "        button.classList = 'btn btn-default';\n",
       "        button.href = '#';\n",
       "        button.title = name;\n",
       "        button.innerHTML = '<i class=\"fa ' + image + ' fa-lg\"></i>';\n",
       "        button.addEventListener('click', on_click_closure(method_name));\n",
       "        button.addEventListener('mouseover', on_mouseover_closure(tooltip));\n",
       "        buttonGroup.appendChild(button);\n",
       "    }\n",
       "\n",
       "    if (buttonGroup.hasChildNodes()) {\n",
       "        toolbar.appendChild(buttonGroup);\n",
       "    }\n",
       "\n",
       "    // Add the status bar.\n",
       "    var status_bar = document.createElement('span');\n",
       "    status_bar.classList = 'mpl-message pull-right';\n",
       "    toolbar.appendChild(status_bar);\n",
       "    this.message = status_bar;\n",
       "\n",
       "    // Add the close button to the window.\n",
       "    var buttongrp = document.createElement('div');\n",
       "    buttongrp.classList = 'btn-group inline pull-right';\n",
       "    button = document.createElement('button');\n",
       "    button.classList = 'btn btn-mini btn-primary';\n",
       "    button.href = '#';\n",
       "    button.title = 'Stop Interaction';\n",
       "    button.innerHTML = '<i class=\"fa fa-power-off icon-remove icon-large\"></i>';\n",
       "    button.addEventListener('click', function (_evt) {\n",
       "        fig.handle_close(fig, {});\n",
       "    });\n",
       "    button.addEventListener(\n",
       "        'mouseover',\n",
       "        on_mouseover_closure('Stop Interaction')\n",
       "    );\n",
       "    buttongrp.appendChild(button);\n",
       "    var titlebar = this.root.querySelector('.ui-dialog-titlebar');\n",
       "    titlebar.insertBefore(buttongrp, titlebar.firstChild);\n",
       "};\n",
       "\n",
       "mpl.figure.prototype._remove_fig_handler = function (event) {\n",
       "    var fig = event.data.fig;\n",
       "    if (event.target !== this) {\n",
       "        // Ignore bubbled events from children.\n",
       "        return;\n",
       "    }\n",
       "    fig.close_ws(fig, {});\n",
       "};\n",
       "\n",
       "mpl.figure.prototype._root_extra_style = function (el) {\n",
       "    el.style.boxSizing = 'content-box'; // override notebook setting of border-box.\n",
       "};\n",
       "\n",
       "mpl.figure.prototype._canvas_extra_style = function (el) {\n",
       "    // this is important to make the div 'focusable\n",
       "    el.setAttribute('tabindex', 0);\n",
       "    // reach out to IPython and tell the keyboard manager to turn it's self\n",
       "    // off when our div gets focus\n",
       "\n",
       "    // location in version 3\n",
       "    if (IPython.notebook.keyboard_manager) {\n",
       "        IPython.notebook.keyboard_manager.register_events(el);\n",
       "    } else {\n",
       "        // location in version 2\n",
       "        IPython.keyboard_manager.register_events(el);\n",
       "    }\n",
       "};\n",
       "\n",
       "mpl.figure.prototype._key_event_extra = function (event, _name) {\n",
       "    // Check for shift+enter\n",
       "    if (event.shiftKey && event.which === 13) {\n",
       "        this.canvas_div.blur();\n",
       "        // select the cell after this one\n",
       "        var index = IPython.notebook.find_cell_index(this.cell_info[0]);\n",
       "        IPython.notebook.select(index + 1);\n",
       "    }\n",
       "};\n",
       "\n",
       "mpl.figure.prototype.handle_save = function (fig, _msg) {\n",
       "    fig.ondownload(fig, null);\n",
       "};\n",
       "\n",
       "mpl.find_output_cell = function (html_output) {\n",
       "    // Return the cell and output element which can be found *uniquely* in the notebook.\n",
       "    // Note - this is a bit hacky, but it is done because the \"notebook_saving.Notebook\"\n",
       "    // IPython event is triggered only after the cells have been serialised, which for\n",
       "    // our purposes (turning an active figure into a static one), is too late.\n",
       "    var cells = IPython.notebook.get_cells();\n",
       "    var ncells = cells.length;\n",
       "    for (var i = 0; i < ncells; i++) {\n",
       "        var cell = cells[i];\n",
       "        if (cell.cell_type === 'code') {\n",
       "            for (var j = 0; j < cell.output_area.outputs.length; j++) {\n",
       "                var data = cell.output_area.outputs[j];\n",
       "                if (data.data) {\n",
       "                    // IPython >= 3 moved mimebundle to data attribute of output\n",
       "                    data = data.data;\n",
       "                }\n",
       "                if (data['text/html'] === html_output) {\n",
       "                    return [cell, data, j];\n",
       "                }\n",
       "            }\n",
       "        }\n",
       "    }\n",
       "};\n",
       "\n",
       "// Register the function which deals with the matplotlib target/channel.\n",
       "// The kernel may be null if the page has been refreshed.\n",
       "if (IPython.notebook.kernel !== null) {\n",
       "    IPython.notebook.kernel.comm_manager.register_target(\n",
       "        'matplotlib',\n",
       "        mpl.mpl_figure_comm\n",
       "    );\n",
       "}\n"
      ],
      "text/plain": [
       "<IPython.core.display.Javascript object>"
      ]
     },
     "metadata": {},
     "output_type": "display_data"
    },
    {
     "data": {
      "text/html": [
       "<img src=\"data:image/png;base64,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\" width=\"640\">"
      ],
      "text/plain": [
       "<IPython.core.display.HTML object>"
      ]
     },
     "metadata": {},
     "output_type": "display_data"
    }
   ],
   "source": [
    "fig, ax = plt.subplots()"
   ]
  },
  {
   "cell_type": "markdown",
   "id": "7fab6913",
   "metadata": {
    "slideshow": {
     "slide_type": "subslide"
    }
   },
   "source": [
    "Dodanie wykresu liniowego danych do okna:"
   ]
  },
  {
   "cell_type": "code",
   "execution_count": 10,
   "id": "e8cfbdb7",
   "metadata": {
    "slideshow": {
     "slide_type": "fragment"
    }
   },
   "outputs": [],
   "source": [
    "ln, = ax.plot(range(5))"
   ]
  },
  {
   "cell_type": "markdown",
   "id": "d45c47ca",
   "metadata": {
    "slideshow": {
     "slide_type": "fragment"
    }
   },
   "source": [
    "Zmienienie koloru linii z niebieskiego na pomarańczowy:"
   ]
  },
  {
   "cell_type": "code",
   "execution_count": 11,
   "id": "15db1560",
   "metadata": {
    "slideshow": {
     "slide_type": "fragment"
    }
   },
   "outputs": [],
   "source": [
    "ln.set_color('orange')"
   ]
  },
  {
   "cell_type": "markdown",
   "id": "2e2c9443",
   "metadata": {
    "slideshow": {
     "slide_type": "slide"
    }
   },
   "source": [
    "### Przykład"
   ]
  },
  {
   "cell_type": "markdown",
   "id": "44bb2a99",
   "metadata": {
    "slideshow": {
     "slide_type": "fragment"
    }
   },
   "source": [
    "Wizualizacja trzech parametrów: VMAF (ang. _Video Multi-Method Assessment Fusion_), obciążenia CPU (ang. _Central Processing Unit_) oraz przepływności wyjściowej strumienia."
   ]
  },
  {
   "cell_type": "markdown",
   "id": "04bfc369",
   "metadata": {
    "slideshow": {
     "slide_type": "fragment"
    }
   },
   "source": [
    "[CSV](surface_no_placebo.csv)"
   ]
  },
  {
   "cell_type": "markdown",
   "id": "f82ccd28",
   "metadata": {
    "slideshow": {
     "slide_type": "subslide"
    }
   },
   "source": [
    "Import z biblioteki standardowej:"
   ]
  },
  {
   "cell_type": "code",
   "execution_count": 12,
   "id": "547b014f",
   "metadata": {
    "slideshow": {
     "slide_type": "fragment"
    }
   },
   "outputs": [],
   "source": [
    "import csv"
   ]
  },
  {
   "cell_type": "markdown",
   "id": "a2f61f31",
   "metadata": {
    "slideshow": {
     "slide_type": "fragment"
    }
   },
   "source": [
    "Powiązany import stron trzecich:"
   ]
  },
  {
   "cell_type": "code",
   "execution_count": 13,
   "id": "16e1e803",
   "metadata": {
    "slideshow": {
     "slide_type": "fragment"
    }
   },
   "outputs": [],
   "source": [
    "import matplotlib.pyplot as plt\n",
    "from matplotlib import cm"
   ]
  },
  {
   "cell_type": "code",
   "execution_count": 14,
   "id": "3264c33b",
   "metadata": {
    "slideshow": {
     "slide_type": "fragment"
    }
   },
   "outputs": [],
   "source": [
    "%matplotlib notebook"
   ]
  },
  {
   "cell_type": "markdown",
   "id": "19dc1b28",
   "metadata": {
    "slideshow": {
     "slide_type": "subslide"
    }
   },
   "source": [
    "Czytanie danych:"
   ]
  },
  {
   "cell_type": "code",
   "execution_count": 15,
   "id": "b39f5ed8",
   "metadata": {
    "slideshow": {
     "slide_type": "fragment"
    }
   },
   "outputs": [],
   "source": [
    "x_list, y_list, z_list = [], [], []\n",
    "with open(file='surface_no_placebo.csv', newline='') as csv_file:\n",
    "    csv_reader = csv.reader(csv_file, delimiter=',', quotechar='|')\n",
    "    next(csv_reader)  # Pomijanie nagłówka\n",
    "    for row in csv_reader:\n",
    "        x_value = float(row[0])*100\n",
    "        y_value = int(row[1])/1_000_000\n",
    "        z_value = float(row[3])\n",
    "        x_list.append(x_value)\n",
    "        y_list.append(y_value)\n",
    "        z_list.append(z_value)"
   ]
  },
  {
   "cell_type": "code",
   "execution_count": 18,
   "id": "db60e838",
   "metadata": {
    "scrolled": true,
    "slideshow": {
     "slide_type": "subslide"
    }
   },
   "outputs": [
    {
     "data": {
      "application/javascript": [
       "/* Put everything inside the global mpl namespace */\n",
       "/* global mpl */\n",
       "window.mpl = {};\n",
       "\n",
       "mpl.get_websocket_type = function () {\n",
       "    if (typeof WebSocket !== 'undefined') {\n",
       "        return WebSocket;\n",
       "    } else if (typeof MozWebSocket !== 'undefined') {\n",
       "        return MozWebSocket;\n",
       "    } else {\n",
       "        alert(\n",
       "            'Your browser does not have WebSocket support. ' +\n",
       "                'Please try Chrome, Safari or Firefox ≥ 6. ' +\n",
       "                'Firefox 4 and 5 are also supported but you ' +\n",
       "                'have to enable WebSockets in about:config.'\n",
       "        );\n",
       "    }\n",
       "};\n",
       "\n",
       "mpl.figure = function (figure_id, websocket, ondownload, parent_element) {\n",
       "    this.id = figure_id;\n",
       "\n",
       "    this.ws = websocket;\n",
       "\n",
       "    this.supports_binary = this.ws.binaryType !== undefined;\n",
       "\n",
       "    if (!this.supports_binary) {\n",
       "        var warnings = document.getElementById('mpl-warnings');\n",
       "        if (warnings) {\n",
       "            warnings.style.display = 'block';\n",
       "            warnings.textContent =\n",
       "                'This browser does not support binary websocket messages. ' +\n",
       "                'Performance may be slow.';\n",
       "        }\n",
       "    }\n",
       "\n",
       "    this.imageObj = new Image();\n",
       "\n",
       "    this.context = undefined;\n",
       "    this.message = undefined;\n",
       "    this.canvas = undefined;\n",
       "    this.rubberband_canvas = undefined;\n",
       "    this.rubberband_context = undefined;\n",
       "    this.format_dropdown = undefined;\n",
       "\n",
       "    this.image_mode = 'full';\n",
       "\n",
       "    this.root = document.createElement('div');\n",
       "    this.root.setAttribute('style', 'display: inline-block');\n",
       "    this._root_extra_style(this.root);\n",
       "\n",
       "    parent_element.appendChild(this.root);\n",
       "\n",
       "    this._init_header(this);\n",
       "    this._init_canvas(this);\n",
       "    this._init_toolbar(this);\n",
       "\n",
       "    var fig = this;\n",
       "\n",
       "    this.waiting = false;\n",
       "\n",
       "    this.ws.onopen = function () {\n",
       "        fig.send_message('supports_binary', { value: fig.supports_binary });\n",
       "        fig.send_message('send_image_mode', {});\n",
       "        if (fig.ratio !== 1) {\n",
       "            fig.send_message('set_device_pixel_ratio', {\n",
       "                device_pixel_ratio: fig.ratio,\n",
       "            });\n",
       "        }\n",
       "        fig.send_message('refresh', {});\n",
       "    };\n",
       "\n",
       "    this.imageObj.onload = function () {\n",
       "        if (fig.image_mode === 'full') {\n",
       "            // Full images could contain transparency (where diff images\n",
       "            // almost always do), so we need to clear the canvas so that\n",
       "            // there is no ghosting.\n",
       "            fig.context.clearRect(0, 0, fig.canvas.width, fig.canvas.height);\n",
       "        }\n",
       "        fig.context.drawImage(fig.imageObj, 0, 0);\n",
       "    };\n",
       "\n",
       "    this.imageObj.onunload = function () {\n",
       "        fig.ws.close();\n",
       "    };\n",
       "\n",
       "    this.ws.onmessage = this._make_on_message_function(this);\n",
       "\n",
       "    this.ondownload = ondownload;\n",
       "};\n",
       "\n",
       "mpl.figure.prototype._init_header = function () {\n",
       "    var titlebar = document.createElement('div');\n",
       "    titlebar.classList =\n",
       "        'ui-dialog-titlebar ui-widget-header ui-corner-all ui-helper-clearfix';\n",
       "    var titletext = document.createElement('div');\n",
       "    titletext.classList = 'ui-dialog-title';\n",
       "    titletext.setAttribute(\n",
       "        'style',\n",
       "        'width: 100%; text-align: center; padding: 3px;'\n",
       "    );\n",
       "    titlebar.appendChild(titletext);\n",
       "    this.root.appendChild(titlebar);\n",
       "    this.header = titletext;\n",
       "};\n",
       "\n",
       "mpl.figure.prototype._canvas_extra_style = function (_canvas_div) {};\n",
       "\n",
       "mpl.figure.prototype._root_extra_style = function (_canvas_div) {};\n",
       "\n",
       "mpl.figure.prototype._init_canvas = function () {\n",
       "    var fig = this;\n",
       "\n",
       "    var canvas_div = (this.canvas_div = document.createElement('div'));\n",
       "    canvas_div.setAttribute(\n",
       "        'style',\n",
       "        'border: 1px solid #ddd;' +\n",
       "            'box-sizing: content-box;' +\n",
       "            'clear: both;' +\n",
       "            'min-height: 1px;' +\n",
       "            'min-width: 1px;' +\n",
       "            'outline: 0;' +\n",
       "            'overflow: hidden;' +\n",
       "            'position: relative;' +\n",
       "            'resize: both;'\n",
       "    );\n",
       "\n",
       "    function on_keyboard_event_closure(name) {\n",
       "        return function (event) {\n",
       "            return fig.key_event(event, name);\n",
       "        };\n",
       "    }\n",
       "\n",
       "    canvas_div.addEventListener(\n",
       "        'keydown',\n",
       "        on_keyboard_event_closure('key_press')\n",
       "    );\n",
       "    canvas_div.addEventListener(\n",
       "        'keyup',\n",
       "        on_keyboard_event_closure('key_release')\n",
       "    );\n",
       "\n",
       "    this._canvas_extra_style(canvas_div);\n",
       "    this.root.appendChild(canvas_div);\n",
       "\n",
       "    var canvas = (this.canvas = document.createElement('canvas'));\n",
       "    canvas.classList.add('mpl-canvas');\n",
       "    canvas.setAttribute('style', 'box-sizing: content-box;');\n",
       "\n",
       "    this.context = canvas.getContext('2d');\n",
       "\n",
       "    var backingStore =\n",
       "        this.context.backingStorePixelRatio ||\n",
       "        this.context.webkitBackingStorePixelRatio ||\n",
       "        this.context.mozBackingStorePixelRatio ||\n",
       "        this.context.msBackingStorePixelRatio ||\n",
       "        this.context.oBackingStorePixelRatio ||\n",
       "        this.context.backingStorePixelRatio ||\n",
       "        1;\n",
       "\n",
       "    this.ratio = (window.devicePixelRatio || 1) / backingStore;\n",
       "\n",
       "    var rubberband_canvas = (this.rubberband_canvas = document.createElement(\n",
       "        'canvas'\n",
       "    ));\n",
       "    rubberband_canvas.setAttribute(\n",
       "        'style',\n",
       "        'box-sizing: content-box; position: absolute; left: 0; top: 0; z-index: 1;'\n",
       "    );\n",
       "\n",
       "    // Apply a ponyfill if ResizeObserver is not implemented by browser.\n",
       "    if (this.ResizeObserver === undefined) {\n",
       "        if (window.ResizeObserver !== undefined) {\n",
       "            this.ResizeObserver = window.ResizeObserver;\n",
       "        } else {\n",
       "            var obs = _JSXTOOLS_RESIZE_OBSERVER({});\n",
       "            this.ResizeObserver = obs.ResizeObserver;\n",
       "        }\n",
       "    }\n",
       "\n",
       "    this.resizeObserverInstance = new this.ResizeObserver(function (entries) {\n",
       "        var nentries = entries.length;\n",
       "        for (var i = 0; i < nentries; i++) {\n",
       "            var entry = entries[i];\n",
       "            var width, height;\n",
       "            if (entry.contentBoxSize) {\n",
       "                if (entry.contentBoxSize instanceof Array) {\n",
       "                    // Chrome 84 implements new version of spec.\n",
       "                    width = entry.contentBoxSize[0].inlineSize;\n",
       "                    height = entry.contentBoxSize[0].blockSize;\n",
       "                } else {\n",
       "                    // Firefox implements old version of spec.\n",
       "                    width = entry.contentBoxSize.inlineSize;\n",
       "                    height = entry.contentBoxSize.blockSize;\n",
       "                }\n",
       "            } else {\n",
       "                // Chrome <84 implements even older version of spec.\n",
       "                width = entry.contentRect.width;\n",
       "                height = entry.contentRect.height;\n",
       "            }\n",
       "\n",
       "            // Keep the size of the canvas and rubber band canvas in sync with\n",
       "            // the canvas container.\n",
       "            if (entry.devicePixelContentBoxSize) {\n",
       "                // Chrome 84 implements new version of spec.\n",
       "                canvas.setAttribute(\n",
       "                    'width',\n",
       "                    entry.devicePixelContentBoxSize[0].inlineSize\n",
       "                );\n",
       "                canvas.setAttribute(\n",
       "                    'height',\n",
       "                    entry.devicePixelContentBoxSize[0].blockSize\n",
       "                );\n",
       "            } else {\n",
       "                canvas.setAttribute('width', width * fig.ratio);\n",
       "                canvas.setAttribute('height', height * fig.ratio);\n",
       "            }\n",
       "            canvas.setAttribute(\n",
       "                'style',\n",
       "                'width: ' + width + 'px; height: ' + height + 'px;'\n",
       "            );\n",
       "\n",
       "            rubberband_canvas.setAttribute('width', width);\n",
       "            rubberband_canvas.setAttribute('height', height);\n",
       "\n",
       "            // And update the size in Python. We ignore the initial 0/0 size\n",
       "            // that occurs as the element is placed into the DOM, which should\n",
       "            // otherwise not happen due to the minimum size styling.\n",
       "            if (fig.ws.readyState == 1 && width != 0 && height != 0) {\n",
       "                fig.request_resize(width, height);\n",
       "            }\n",
       "        }\n",
       "    });\n",
       "    this.resizeObserverInstance.observe(canvas_div);\n",
       "\n",
       "    function on_mouse_event_closure(name) {\n",
       "        return function (event) {\n",
       "            return fig.mouse_event(event, name);\n",
       "        };\n",
       "    }\n",
       "\n",
       "    rubberband_canvas.addEventListener(\n",
       "        'mousedown',\n",
       "        on_mouse_event_closure('button_press')\n",
       "    );\n",
       "    rubberband_canvas.addEventListener(\n",
       "        'mouseup',\n",
       "        on_mouse_event_closure('button_release')\n",
       "    );\n",
       "    rubberband_canvas.addEventListener(\n",
       "        'dblclick',\n",
       "        on_mouse_event_closure('dblclick')\n",
       "    );\n",
       "    // Throttle sequential mouse events to 1 every 20ms.\n",
       "    rubberband_canvas.addEventListener(\n",
       "        'mousemove',\n",
       "        on_mouse_event_closure('motion_notify')\n",
       "    );\n",
       "\n",
       "    rubberband_canvas.addEventListener(\n",
       "        'mouseenter',\n",
       "        on_mouse_event_closure('figure_enter')\n",
       "    );\n",
       "    rubberband_canvas.addEventListener(\n",
       "        'mouseleave',\n",
       "        on_mouse_event_closure('figure_leave')\n",
       "    );\n",
       "\n",
       "    canvas_div.addEventListener('wheel', function (event) {\n",
       "        if (event.deltaY < 0) {\n",
       "            event.step = 1;\n",
       "        } else {\n",
       "            event.step = -1;\n",
       "        }\n",
       "        on_mouse_event_closure('scroll')(event);\n",
       "    });\n",
       "\n",
       "    canvas_div.appendChild(canvas);\n",
       "    canvas_div.appendChild(rubberband_canvas);\n",
       "\n",
       "    this.rubberband_context = rubberband_canvas.getContext('2d');\n",
       "    this.rubberband_context.strokeStyle = '#000000';\n",
       "\n",
       "    this._resize_canvas = function (width, height, forward) {\n",
       "        if (forward) {\n",
       "            canvas_div.style.width = width + 'px';\n",
       "            canvas_div.style.height = height + 'px';\n",
       "        }\n",
       "    };\n",
       "\n",
       "    // Disable right mouse context menu.\n",
       "    this.rubberband_canvas.addEventListener('contextmenu', function (_e) {\n",
       "        event.preventDefault();\n",
       "        return false;\n",
       "    });\n",
       "\n",
       "    function set_focus() {\n",
       "        canvas.focus();\n",
       "        canvas_div.focus();\n",
       "    }\n",
       "\n",
       "    window.setTimeout(set_focus, 100);\n",
       "};\n",
       "\n",
       "mpl.figure.prototype._init_toolbar = function () {\n",
       "    var fig = this;\n",
       "\n",
       "    var toolbar = document.createElement('div');\n",
       "    toolbar.classList = 'mpl-toolbar';\n",
       "    this.root.appendChild(toolbar);\n",
       "\n",
       "    function on_click_closure(name) {\n",
       "        return function (_event) {\n",
       "            return fig.toolbar_button_onclick(name);\n",
       "        };\n",
       "    }\n",
       "\n",
       "    function on_mouseover_closure(tooltip) {\n",
       "        return function (event) {\n",
       "            if (!event.currentTarget.disabled) {\n",
       "                return fig.toolbar_button_onmouseover(tooltip);\n",
       "            }\n",
       "        };\n",
       "    }\n",
       "\n",
       "    fig.buttons = {};\n",
       "    var buttonGroup = document.createElement('div');\n",
       "    buttonGroup.classList = 'mpl-button-group';\n",
       "    for (var toolbar_ind in mpl.toolbar_items) {\n",
       "        var name = mpl.toolbar_items[toolbar_ind][0];\n",
       "        var tooltip = mpl.toolbar_items[toolbar_ind][1];\n",
       "        var image = mpl.toolbar_items[toolbar_ind][2];\n",
       "        var method_name = mpl.toolbar_items[toolbar_ind][3];\n",
       "\n",
       "        if (!name) {\n",
       "            /* Instead of a spacer, we start a new button group. */\n",
       "            if (buttonGroup.hasChildNodes()) {\n",
       "                toolbar.appendChild(buttonGroup);\n",
       "            }\n",
       "            buttonGroup = document.createElement('div');\n",
       "            buttonGroup.classList = 'mpl-button-group';\n",
       "            continue;\n",
       "        }\n",
       "\n",
       "        var button = (fig.buttons[name] = document.createElement('button'));\n",
       "        button.classList = 'mpl-widget';\n",
       "        button.setAttribute('role', 'button');\n",
       "        button.setAttribute('aria-disabled', 'false');\n",
       "        button.addEventListener('click', on_click_closure(method_name));\n",
       "        button.addEventListener('mouseover', on_mouseover_closure(tooltip));\n",
       "\n",
       "        var icon_img = document.createElement('img');\n",
       "        icon_img.src = '_images/' + image + '.png';\n",
       "        icon_img.srcset = '_images/' + image + '_large.png 2x';\n",
       "        icon_img.alt = tooltip;\n",
       "        button.appendChild(icon_img);\n",
       "\n",
       "        buttonGroup.appendChild(button);\n",
       "    }\n",
       "\n",
       "    if (buttonGroup.hasChildNodes()) {\n",
       "        toolbar.appendChild(buttonGroup);\n",
       "    }\n",
       "\n",
       "    var fmt_picker = document.createElement('select');\n",
       "    fmt_picker.classList = 'mpl-widget';\n",
       "    toolbar.appendChild(fmt_picker);\n",
       "    this.format_dropdown = fmt_picker;\n",
       "\n",
       "    for (var ind in mpl.extensions) {\n",
       "        var fmt = mpl.extensions[ind];\n",
       "        var option = document.createElement('option');\n",
       "        option.selected = fmt === mpl.default_extension;\n",
       "        option.innerHTML = fmt;\n",
       "        fmt_picker.appendChild(option);\n",
       "    }\n",
       "\n",
       "    var status_bar = document.createElement('span');\n",
       "    status_bar.classList = 'mpl-message';\n",
       "    toolbar.appendChild(status_bar);\n",
       "    this.message = status_bar;\n",
       "};\n",
       "\n",
       "mpl.figure.prototype.request_resize = function (x_pixels, y_pixels) {\n",
       "    // Request matplotlib to resize the figure. Matplotlib will then trigger a resize in the client,\n",
       "    // which will in turn request a refresh of the image.\n",
       "    this.send_message('resize', { width: x_pixels, height: y_pixels });\n",
       "};\n",
       "\n",
       "mpl.figure.prototype.send_message = function (type, properties) {\n",
       "    properties['type'] = type;\n",
       "    properties['figure_id'] = this.id;\n",
       "    this.ws.send(JSON.stringify(properties));\n",
       "};\n",
       "\n",
       "mpl.figure.prototype.send_draw_message = function () {\n",
       "    if (!this.waiting) {\n",
       "        this.waiting = true;\n",
       "        this.ws.send(JSON.stringify({ type: 'draw', figure_id: this.id }));\n",
       "    }\n",
       "};\n",
       "\n",
       "mpl.figure.prototype.handle_save = function (fig, _msg) {\n",
       "    var format_dropdown = fig.format_dropdown;\n",
       "    var format = format_dropdown.options[format_dropdown.selectedIndex].value;\n",
       "    fig.ondownload(fig, format);\n",
       "};\n",
       "\n",
       "mpl.figure.prototype.handle_resize = function (fig, msg) {\n",
       "    var size = msg['size'];\n",
       "    if (size[0] !== fig.canvas.width || size[1] !== fig.canvas.height) {\n",
       "        fig._resize_canvas(size[0], size[1], msg['forward']);\n",
       "        fig.send_message('refresh', {});\n",
       "    }\n",
       "};\n",
       "\n",
       "mpl.figure.prototype.handle_rubberband = function (fig, msg) {\n",
       "    var x0 = msg['x0'] / fig.ratio;\n",
       "    var y0 = (fig.canvas.height - msg['y0']) / fig.ratio;\n",
       "    var x1 = msg['x1'] / fig.ratio;\n",
       "    var y1 = (fig.canvas.height - msg['y1']) / fig.ratio;\n",
       "    x0 = Math.floor(x0) + 0.5;\n",
       "    y0 = Math.floor(y0) + 0.5;\n",
       "    x1 = Math.floor(x1) + 0.5;\n",
       "    y1 = Math.floor(y1) + 0.5;\n",
       "    var min_x = Math.min(x0, x1);\n",
       "    var min_y = Math.min(y0, y1);\n",
       "    var width = Math.abs(x1 - x0);\n",
       "    var height = Math.abs(y1 - y0);\n",
       "\n",
       "    fig.rubberband_context.clearRect(\n",
       "        0,\n",
       "        0,\n",
       "        fig.canvas.width / fig.ratio,\n",
       "        fig.canvas.height / fig.ratio\n",
       "    );\n",
       "\n",
       "    fig.rubberband_context.strokeRect(min_x, min_y, width, height);\n",
       "};\n",
       "\n",
       "mpl.figure.prototype.handle_figure_label = function (fig, msg) {\n",
       "    // Updates the figure title.\n",
       "    fig.header.textContent = msg['label'];\n",
       "};\n",
       "\n",
       "mpl.figure.prototype.handle_cursor = function (fig, msg) {\n",
       "    fig.rubberband_canvas.style.cursor = msg['cursor'];\n",
       "};\n",
       "\n",
       "mpl.figure.prototype.handle_message = function (fig, msg) {\n",
       "    fig.message.textContent = msg['message'];\n",
       "};\n",
       "\n",
       "mpl.figure.prototype.handle_draw = function (fig, _msg) {\n",
       "    // Request the server to send over a new figure.\n",
       "    fig.send_draw_message();\n",
       "};\n",
       "\n",
       "mpl.figure.prototype.handle_image_mode = function (fig, msg) {\n",
       "    fig.image_mode = msg['mode'];\n",
       "};\n",
       "\n",
       "mpl.figure.prototype.handle_history_buttons = function (fig, msg) {\n",
       "    for (var key in msg) {\n",
       "        if (!(key in fig.buttons)) {\n",
       "            continue;\n",
       "        }\n",
       "        fig.buttons[key].disabled = !msg[key];\n",
       "        fig.buttons[key].setAttribute('aria-disabled', !msg[key]);\n",
       "    }\n",
       "};\n",
       "\n",
       "mpl.figure.prototype.handle_navigate_mode = function (fig, msg) {\n",
       "    if (msg['mode'] === 'PAN') {\n",
       "        fig.buttons['Pan'].classList.add('active');\n",
       "        fig.buttons['Zoom'].classList.remove('active');\n",
       "    } else if (msg['mode'] === 'ZOOM') {\n",
       "        fig.buttons['Pan'].classList.remove('active');\n",
       "        fig.buttons['Zoom'].classList.add('active');\n",
       "    } else {\n",
       "        fig.buttons['Pan'].classList.remove('active');\n",
       "        fig.buttons['Zoom'].classList.remove('active');\n",
       "    }\n",
       "};\n",
       "\n",
       "mpl.figure.prototype.updated_canvas_event = function () {\n",
       "    // Called whenever the canvas gets updated.\n",
       "    this.send_message('ack', {});\n",
       "};\n",
       "\n",
       "// A function to construct a web socket function for onmessage handling.\n",
       "// Called in the figure constructor.\n",
       "mpl.figure.prototype._make_on_message_function = function (fig) {\n",
       "    return function socket_on_message(evt) {\n",
       "        if (evt.data instanceof Blob) {\n",
       "            var img = evt.data;\n",
       "            if (img.type !== 'image/png') {\n",
       "                /* FIXME: We get \"Resource interpreted as Image but\n",
       "                 * transferred with MIME type text/plain:\" errors on\n",
       "                 * Chrome.  But how to set the MIME type?  It doesn't seem\n",
       "                 * to be part of the websocket stream */\n",
       "                img.type = 'image/png';\n",
       "            }\n",
       "\n",
       "            /* Free the memory for the previous frames */\n",
       "            if (fig.imageObj.src) {\n",
       "                (window.URL || window.webkitURL).revokeObjectURL(\n",
       "                    fig.imageObj.src\n",
       "                );\n",
       "            }\n",
       "\n",
       "            fig.imageObj.src = (window.URL || window.webkitURL).createObjectURL(\n",
       "                img\n",
       "            );\n",
       "            fig.updated_canvas_event();\n",
       "            fig.waiting = false;\n",
       "            return;\n",
       "        } else if (\n",
       "            typeof evt.data === 'string' &&\n",
       "            evt.data.slice(0, 21) === 'data:image/png;base64'\n",
       "        ) {\n",
       "            fig.imageObj.src = evt.data;\n",
       "            fig.updated_canvas_event();\n",
       "            fig.waiting = false;\n",
       "            return;\n",
       "        }\n",
       "\n",
       "        var msg = JSON.parse(evt.data);\n",
       "        var msg_type = msg['type'];\n",
       "\n",
       "        // Call the  \"handle_{type}\" callback, which takes\n",
       "        // the figure and JSON message as its only arguments.\n",
       "        try {\n",
       "            var callback = fig['handle_' + msg_type];\n",
       "        } catch (e) {\n",
       "            console.log(\n",
       "                \"No handler for the '\" + msg_type + \"' message type: \",\n",
       "                msg\n",
       "            );\n",
       "            return;\n",
       "        }\n",
       "\n",
       "        if (callback) {\n",
       "            try {\n",
       "                // console.log(\"Handling '\" + msg_type + \"' message: \", msg);\n",
       "                callback(fig, msg);\n",
       "            } catch (e) {\n",
       "                console.log(\n",
       "                    \"Exception inside the 'handler_\" + msg_type + \"' callback:\",\n",
       "                    e,\n",
       "                    e.stack,\n",
       "                    msg\n",
       "                );\n",
       "            }\n",
       "        }\n",
       "    };\n",
       "};\n",
       "\n",
       "// from https://stackoverflow.com/questions/1114465/getting-mouse-location-in-canvas\n",
       "mpl.findpos = function (e) {\n",
       "    //this section is from http://www.quirksmode.org/js/events_properties.html\n",
       "    var targ;\n",
       "    if (!e) {\n",
       "        e = window.event;\n",
       "    }\n",
       "    if (e.target) {\n",
       "        targ = e.target;\n",
       "    } else if (e.srcElement) {\n",
       "        targ = e.srcElement;\n",
       "    }\n",
       "    if (targ.nodeType === 3) {\n",
       "        // defeat Safari bug\n",
       "        targ = targ.parentNode;\n",
       "    }\n",
       "\n",
       "    // pageX,Y are the mouse positions relative to the document\n",
       "    var boundingRect = targ.getBoundingClientRect();\n",
       "    var x = e.pageX - (boundingRect.left + document.body.scrollLeft);\n",
       "    var y = e.pageY - (boundingRect.top + document.body.scrollTop);\n",
       "\n",
       "    return { x: x, y: y };\n",
       "};\n",
       "\n",
       "/*\n",
       " * return a copy of an object with only non-object keys\n",
       " * we need this to avoid circular references\n",
       " * https://stackoverflow.com/a/24161582/3208463\n",
       " */\n",
       "function simpleKeys(original) {\n",
       "    return Object.keys(original).reduce(function (obj, key) {\n",
       "        if (typeof original[key] !== 'object') {\n",
       "            obj[key] = original[key];\n",
       "        }\n",
       "        return obj;\n",
       "    }, {});\n",
       "}\n",
       "\n",
       "mpl.figure.prototype.mouse_event = function (event, name) {\n",
       "    var canvas_pos = mpl.findpos(event);\n",
       "\n",
       "    if (name === 'button_press') {\n",
       "        this.canvas.focus();\n",
       "        this.canvas_div.focus();\n",
       "    }\n",
       "\n",
       "    var x = canvas_pos.x * this.ratio;\n",
       "    var y = canvas_pos.y * this.ratio;\n",
       "\n",
       "    this.send_message(name, {\n",
       "        x: x,\n",
       "        y: y,\n",
       "        button: event.button,\n",
       "        step: event.step,\n",
       "        guiEvent: simpleKeys(event),\n",
       "    });\n",
       "\n",
       "    /* This prevents the web browser from automatically changing to\n",
       "     * the text insertion cursor when the button is pressed.  We want\n",
       "     * to control all of the cursor setting manually through the\n",
       "     * 'cursor' event from matplotlib */\n",
       "    event.preventDefault();\n",
       "    return false;\n",
       "};\n",
       "\n",
       "mpl.figure.prototype._key_event_extra = function (_event, _name) {\n",
       "    // Handle any extra behaviour associated with a key event\n",
       "};\n",
       "\n",
       "mpl.figure.prototype.key_event = function (event, name) {\n",
       "    // Prevent repeat events\n",
       "    if (name === 'key_press') {\n",
       "        if (event.key === this._key) {\n",
       "            return;\n",
       "        } else {\n",
       "            this._key = event.key;\n",
       "        }\n",
       "    }\n",
       "    if (name === 'key_release') {\n",
       "        this._key = null;\n",
       "    }\n",
       "\n",
       "    var value = '';\n",
       "    if (event.ctrlKey && event.key !== 'Control') {\n",
       "        value += 'ctrl+';\n",
       "    }\n",
       "    else if (event.altKey && event.key !== 'Alt') {\n",
       "        value += 'alt+';\n",
       "    }\n",
       "    else if (event.shiftKey && event.key !== 'Shift') {\n",
       "        value += 'shift+';\n",
       "    }\n",
       "\n",
       "    value += 'k' + event.key;\n",
       "\n",
       "    this._key_event_extra(event, name);\n",
       "\n",
       "    this.send_message(name, { key: value, guiEvent: simpleKeys(event) });\n",
       "    return false;\n",
       "};\n",
       "\n",
       "mpl.figure.prototype.toolbar_button_onclick = function (name) {\n",
       "    if (name === 'download') {\n",
       "        this.handle_save(this, null);\n",
       "    } else {\n",
       "        this.send_message('toolbar_button', { name: name });\n",
       "    }\n",
       "};\n",
       "\n",
       "mpl.figure.prototype.toolbar_button_onmouseover = function (tooltip) {\n",
       "    this.message.textContent = tooltip;\n",
       "};\n",
       "\n",
       "///////////////// REMAINING CONTENT GENERATED BY embed_js.py /////////////////\n",
       "// prettier-ignore\n",
       "var _JSXTOOLS_RESIZE_OBSERVER=function(A){var t,i=new WeakMap,n=new WeakMap,a=new WeakMap,r=new WeakMap,o=new Set;function s(e){if(!(this instanceof s))throw new TypeError(\"Constructor requires 'new' operator\");i.set(this,e)}function h(){throw new TypeError(\"Function is not a constructor\")}function c(e,t,i,n){e=0 in arguments?Number(arguments[0]):0,t=1 in arguments?Number(arguments[1]):0,i=2 in arguments?Number(arguments[2]):0,n=3 in arguments?Number(arguments[3]):0,this.right=(this.x=this.left=e)+(this.width=i),this.bottom=(this.y=this.top=t)+(this.height=n),Object.freeze(this)}function d(){t=requestAnimationFrame(d);var s=new WeakMap,p=new Set;o.forEach((function(t){r.get(t).forEach((function(i){var r=t instanceof window.SVGElement,o=a.get(t),d=r?0:parseFloat(o.paddingTop),f=r?0:parseFloat(o.paddingRight),l=r?0:parseFloat(o.paddingBottom),u=r?0:parseFloat(o.paddingLeft),g=r?0:parseFloat(o.borderTopWidth),m=r?0:parseFloat(o.borderRightWidth),w=r?0:parseFloat(o.borderBottomWidth),b=u+f,F=d+l,v=(r?0:parseFloat(o.borderLeftWidth))+m,W=g+w,y=r?0:t.offsetHeight-W-t.clientHeight,E=r?0:t.offsetWidth-v-t.clientWidth,R=b+v,z=F+W,M=r?t.width:parseFloat(o.width)-R-E,O=r?t.height:parseFloat(o.height)-z-y;if(n.has(t)){var k=n.get(t);if(k[0]===M&&k[1]===O)return}n.set(t,[M,O]);var S=Object.create(h.prototype);S.target=t,S.contentRect=new c(u,d,M,O),s.has(i)||(s.set(i,[]),p.add(i)),s.get(i).push(S)}))})),p.forEach((function(e){i.get(e).call(e,s.get(e),e)}))}return s.prototype.observe=function(i){if(i instanceof window.Element){r.has(i)||(r.set(i,new Set),o.add(i),a.set(i,window.getComputedStyle(i)));var n=r.get(i);n.has(this)||n.add(this),cancelAnimationFrame(t),t=requestAnimationFrame(d)}},s.prototype.unobserve=function(i){if(i instanceof window.Element&&r.has(i)){var n=r.get(i);n.has(this)&&(n.delete(this),n.size||(r.delete(i),o.delete(i))),n.size||r.delete(i),o.size||cancelAnimationFrame(t)}},A.DOMRectReadOnly=c,A.ResizeObserver=s,A.ResizeObserverEntry=h,A}; // eslint-disable-line\n",
       "mpl.toolbar_items = [[\"Home\", \"Reset original view\", \"fa fa-home icon-home\", \"home\"], [\"Back\", \"Back to previous view\", \"fa fa-arrow-left icon-arrow-left\", \"back\"], [\"Forward\", \"Forward to next view\", \"fa fa-arrow-right icon-arrow-right\", \"forward\"], [\"\", \"\", \"\", \"\"], [\"Pan\", \"Left button pans, Right button zooms\\nx/y fixes axis, CTRL fixes aspect\", \"fa fa-arrows icon-move\", \"pan\"], [\"Zoom\", \"Zoom to rectangle\\nx/y fixes axis\", \"fa fa-square-o icon-check-empty\", \"zoom\"], [\"\", \"\", \"\", \"\"], [\"Download\", \"Download plot\", \"fa fa-floppy-o icon-save\", \"download\"]];\n",
       "\n",
       "mpl.extensions = [\"eps\", \"jpeg\", \"pgf\", \"pdf\", \"png\", \"ps\", \"raw\", \"svg\", \"tif\"];\n",
       "\n",
       "mpl.default_extension = \"png\";/* global mpl */\n",
       "\n",
       "var comm_websocket_adapter = function (comm) {\n",
       "    // Create a \"websocket\"-like object which calls the given IPython comm\n",
       "    // object with the appropriate methods. Currently this is a non binary\n",
       "    // socket, so there is still some room for performance tuning.\n",
       "    var ws = {};\n",
       "\n",
       "    ws.binaryType = comm.kernel.ws.binaryType;\n",
       "    ws.readyState = comm.kernel.ws.readyState;\n",
       "    function updateReadyState(_event) {\n",
       "        if (comm.kernel.ws) {\n",
       "            ws.readyState = comm.kernel.ws.readyState;\n",
       "        } else {\n",
       "            ws.readyState = 3; // Closed state.\n",
       "        }\n",
       "    }\n",
       "    comm.kernel.ws.addEventListener('open', updateReadyState);\n",
       "    comm.kernel.ws.addEventListener('close', updateReadyState);\n",
       "    comm.kernel.ws.addEventListener('error', updateReadyState);\n",
       "\n",
       "    ws.close = function () {\n",
       "        comm.close();\n",
       "    };\n",
       "    ws.send = function (m) {\n",
       "        //console.log('sending', m);\n",
       "        comm.send(m);\n",
       "    };\n",
       "    // Register the callback with on_msg.\n",
       "    comm.on_msg(function (msg) {\n",
       "        //console.log('receiving', msg['content']['data'], msg);\n",
       "        var data = msg['content']['data'];\n",
       "        if (data['blob'] !== undefined) {\n",
       "            data = {\n",
       "                data: new Blob(msg['buffers'], { type: data['blob'] }),\n",
       "            };\n",
       "        }\n",
       "        // Pass the mpl event to the overridden (by mpl) onmessage function.\n",
       "        ws.onmessage(data);\n",
       "    });\n",
       "    return ws;\n",
       "};\n",
       "\n",
       "mpl.mpl_figure_comm = function (comm, msg) {\n",
       "    // This is the function which gets called when the mpl process\n",
       "    // starts-up an IPython Comm through the \"matplotlib\" channel.\n",
       "\n",
       "    var id = msg.content.data.id;\n",
       "    // Get hold of the div created by the display call when the Comm\n",
       "    // socket was opened in Python.\n",
       "    var element = document.getElementById(id);\n",
       "    var ws_proxy = comm_websocket_adapter(comm);\n",
       "\n",
       "    function ondownload(figure, _format) {\n",
       "        window.open(figure.canvas.toDataURL());\n",
       "    }\n",
       "\n",
       "    var fig = new mpl.figure(id, ws_proxy, ondownload, element);\n",
       "\n",
       "    // Call onopen now - mpl needs it, as it is assuming we've passed it a real\n",
       "    // web socket which is closed, not our websocket->open comm proxy.\n",
       "    ws_proxy.onopen();\n",
       "\n",
       "    fig.parent_element = element;\n",
       "    fig.cell_info = mpl.find_output_cell(\"<div id='\" + id + \"'></div>\");\n",
       "    if (!fig.cell_info) {\n",
       "        console.error('Failed to find cell for figure', id, fig);\n",
       "        return;\n",
       "    }\n",
       "    fig.cell_info[0].output_area.element.on(\n",
       "        'cleared',\n",
       "        { fig: fig },\n",
       "        fig._remove_fig_handler\n",
       "    );\n",
       "};\n",
       "\n",
       "mpl.figure.prototype.handle_close = function (fig, msg) {\n",
       "    var width = fig.canvas.width / fig.ratio;\n",
       "    fig.cell_info[0].output_area.element.off(\n",
       "        'cleared',\n",
       "        fig._remove_fig_handler\n",
       "    );\n",
       "    fig.resizeObserverInstance.unobserve(fig.canvas_div);\n",
       "\n",
       "    // Update the output cell to use the data from the current canvas.\n",
       "    fig.push_to_output();\n",
       "    var dataURL = fig.canvas.toDataURL();\n",
       "    // Re-enable the keyboard manager in IPython - without this line, in FF,\n",
       "    // the notebook keyboard shortcuts fail.\n",
       "    IPython.keyboard_manager.enable();\n",
       "    fig.parent_element.innerHTML =\n",
       "        '<img src=\"' + dataURL + '\" width=\"' + width + '\">';\n",
       "    fig.close_ws(fig, msg);\n",
       "};\n",
       "\n",
       "mpl.figure.prototype.close_ws = function (fig, msg) {\n",
       "    fig.send_message('closing', msg);\n",
       "    // fig.ws.close()\n",
       "};\n",
       "\n",
       "mpl.figure.prototype.push_to_output = function (_remove_interactive) {\n",
       "    // Turn the data on the canvas into data in the output cell.\n",
       "    var width = this.canvas.width / this.ratio;\n",
       "    var dataURL = this.canvas.toDataURL();\n",
       "    this.cell_info[1]['text/html'] =\n",
       "        '<img src=\"' + dataURL + '\" width=\"' + width + '\">';\n",
       "};\n",
       "\n",
       "mpl.figure.prototype.updated_canvas_event = function () {\n",
       "    // Tell IPython that the notebook contents must change.\n",
       "    IPython.notebook.set_dirty(true);\n",
       "    this.send_message('ack', {});\n",
       "    var fig = this;\n",
       "    // Wait a second, then push the new image to the DOM so\n",
       "    // that it is saved nicely (might be nice to debounce this).\n",
       "    setTimeout(function () {\n",
       "        fig.push_to_output();\n",
       "    }, 1000);\n",
       "};\n",
       "\n",
       "mpl.figure.prototype._init_toolbar = function () {\n",
       "    var fig = this;\n",
       "\n",
       "    var toolbar = document.createElement('div');\n",
       "    toolbar.classList = 'btn-toolbar';\n",
       "    this.root.appendChild(toolbar);\n",
       "\n",
       "    function on_click_closure(name) {\n",
       "        return function (_event) {\n",
       "            return fig.toolbar_button_onclick(name);\n",
       "        };\n",
       "    }\n",
       "\n",
       "    function on_mouseover_closure(tooltip) {\n",
       "        return function (event) {\n",
       "            if (!event.currentTarget.disabled) {\n",
       "                return fig.toolbar_button_onmouseover(tooltip);\n",
       "            }\n",
       "        };\n",
       "    }\n",
       "\n",
       "    fig.buttons = {};\n",
       "    var buttonGroup = document.createElement('div');\n",
       "    buttonGroup.classList = 'btn-group';\n",
       "    var button;\n",
       "    for (var toolbar_ind in mpl.toolbar_items) {\n",
       "        var name = mpl.toolbar_items[toolbar_ind][0];\n",
       "        var tooltip = mpl.toolbar_items[toolbar_ind][1];\n",
       "        var image = mpl.toolbar_items[toolbar_ind][2];\n",
       "        var method_name = mpl.toolbar_items[toolbar_ind][3];\n",
       "\n",
       "        if (!name) {\n",
       "            /* Instead of a spacer, we start a new button group. */\n",
       "            if (buttonGroup.hasChildNodes()) {\n",
       "                toolbar.appendChild(buttonGroup);\n",
       "            }\n",
       "            buttonGroup = document.createElement('div');\n",
       "            buttonGroup.classList = 'btn-group';\n",
       "            continue;\n",
       "        }\n",
       "\n",
       "        button = fig.buttons[name] = document.createElement('button');\n",
       "        button.classList = 'btn btn-default';\n",
       "        button.href = '#';\n",
       "        button.title = name;\n",
       "        button.innerHTML = '<i class=\"fa ' + image + ' fa-lg\"></i>';\n",
       "        button.addEventListener('click', on_click_closure(method_name));\n",
       "        button.addEventListener('mouseover', on_mouseover_closure(tooltip));\n",
       "        buttonGroup.appendChild(button);\n",
       "    }\n",
       "\n",
       "    if (buttonGroup.hasChildNodes()) {\n",
       "        toolbar.appendChild(buttonGroup);\n",
       "    }\n",
       "\n",
       "    // Add the status bar.\n",
       "    var status_bar = document.createElement('span');\n",
       "    status_bar.classList = 'mpl-message pull-right';\n",
       "    toolbar.appendChild(status_bar);\n",
       "    this.message = status_bar;\n",
       "\n",
       "    // Add the close button to the window.\n",
       "    var buttongrp = document.createElement('div');\n",
       "    buttongrp.classList = 'btn-group inline pull-right';\n",
       "    button = document.createElement('button');\n",
       "    button.classList = 'btn btn-mini btn-primary';\n",
       "    button.href = '#';\n",
       "    button.title = 'Stop Interaction';\n",
       "    button.innerHTML = '<i class=\"fa fa-power-off icon-remove icon-large\"></i>';\n",
       "    button.addEventListener('click', function (_evt) {\n",
       "        fig.handle_close(fig, {});\n",
       "    });\n",
       "    button.addEventListener(\n",
       "        'mouseover',\n",
       "        on_mouseover_closure('Stop Interaction')\n",
       "    );\n",
       "    buttongrp.appendChild(button);\n",
       "    var titlebar = this.root.querySelector('.ui-dialog-titlebar');\n",
       "    titlebar.insertBefore(buttongrp, titlebar.firstChild);\n",
       "};\n",
       "\n",
       "mpl.figure.prototype._remove_fig_handler = function (event) {\n",
       "    var fig = event.data.fig;\n",
       "    if (event.target !== this) {\n",
       "        // Ignore bubbled events from children.\n",
       "        return;\n",
       "    }\n",
       "    fig.close_ws(fig, {});\n",
       "};\n",
       "\n",
       "mpl.figure.prototype._root_extra_style = function (el) {\n",
       "    el.style.boxSizing = 'content-box'; // override notebook setting of border-box.\n",
       "};\n",
       "\n",
       "mpl.figure.prototype._canvas_extra_style = function (el) {\n",
       "    // this is important to make the div 'focusable\n",
       "    el.setAttribute('tabindex', 0);\n",
       "    // reach out to IPython and tell the keyboard manager to turn it's self\n",
       "    // off when our div gets focus\n",
       "\n",
       "    // location in version 3\n",
       "    if (IPython.notebook.keyboard_manager) {\n",
       "        IPython.notebook.keyboard_manager.register_events(el);\n",
       "    } else {\n",
       "        // location in version 2\n",
       "        IPython.keyboard_manager.register_events(el);\n",
       "    }\n",
       "};\n",
       "\n",
       "mpl.figure.prototype._key_event_extra = function (event, _name) {\n",
       "    // Check for shift+enter\n",
       "    if (event.shiftKey && event.which === 13) {\n",
       "        this.canvas_div.blur();\n",
       "        // select the cell after this one\n",
       "        var index = IPython.notebook.find_cell_index(this.cell_info[0]);\n",
       "        IPython.notebook.select(index + 1);\n",
       "    }\n",
       "};\n",
       "\n",
       "mpl.figure.prototype.handle_save = function (fig, _msg) {\n",
       "    fig.ondownload(fig, null);\n",
       "};\n",
       "\n",
       "mpl.find_output_cell = function (html_output) {\n",
       "    // Return the cell and output element which can be found *uniquely* in the notebook.\n",
       "    // Note - this is a bit hacky, but it is done because the \"notebook_saving.Notebook\"\n",
       "    // IPython event is triggered only after the cells have been serialised, which for\n",
       "    // our purposes (turning an active figure into a static one), is too late.\n",
       "    var cells = IPython.notebook.get_cells();\n",
       "    var ncells = cells.length;\n",
       "    for (var i = 0; i < ncells; i++) {\n",
       "        var cell = cells[i];\n",
       "        if (cell.cell_type === 'code') {\n",
       "            for (var j = 0; j < cell.output_area.outputs.length; j++) {\n",
       "                var data = cell.output_area.outputs[j];\n",
       "                if (data.data) {\n",
       "                    // IPython >= 3 moved mimebundle to data attribute of output\n",
       "                    data = data.data;\n",
       "                }\n",
       "                if (data['text/html'] === html_output) {\n",
       "                    return [cell, data, j];\n",
       "                }\n",
       "            }\n",
       "        }\n",
       "    }\n",
       "};\n",
       "\n",
       "// Register the function which deals with the matplotlib target/channel.\n",
       "// The kernel may be null if the page has been refreshed.\n",
       "if (IPython.notebook.kernel !== null) {\n",
       "    IPython.notebook.kernel.comm_manager.register_target(\n",
       "        'matplotlib',\n",
       "        mpl.mpl_figure_comm\n",
       "    );\n",
       "}\n"
      ],
      "text/plain": [
       "<IPython.core.display.Javascript object>"
      ]
     },
     "metadata": {},
     "output_type": "display_data"
    },
    {
     "data": {
      "text/html": [
       "<img src=\"data:image/png;base64,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\" width=\"640\">"
      ],
      "text/plain": [
       "<IPython.core.display.HTML object>"
      ]
     },
     "metadata": {},
     "output_type": "display_data"
    }
   ],
   "source": [
    "fig, ax = plt.subplots(subplot_kw={\"projection\": \"3d\"})"
   ]
  },
  {
   "cell_type": "markdown",
   "id": "f3a2896d",
   "metadata": {
    "slideshow": {
     "slide_type": "subslide"
    }
   },
   "source": [
    "Wykreślanie powierzchni:"
   ]
  },
  {
   "cell_type": "code",
   "execution_count": 19,
   "id": "d3ed620e",
   "metadata": {
    "slideshow": {
     "slide_type": "fragment"
    }
   },
   "outputs": [],
   "source": [
    "surf = ax.plot_trisurf(x_list, y_list, z_list, cmap=cm.viridis)"
   ]
  },
  {
   "cell_type": "markdown",
   "id": "6a3a901e",
   "metadata": {
    "slideshow": {
     "slide_type": "fragment"
    }
   },
   "source": [
    "Dostosowywanie osi:"
   ]
  },
  {
   "cell_type": "code",
   "execution_count": 20,
   "id": "10edb54a",
   "metadata": {},
   "outputs": [],
   "source": [
    "ax.set_xlim(763.3587786, 72.99270073)\n",
    "ax.set_title('VMAF vs. CPU vs. przepływność')\n",
    "ax.set_xlabel('CPU [%]')\n",
    "ax.set_ylabel('Przepływność [Mb/s]')\n",
    "ax.set_zlabel('VMAF');"
   ]
  },
  {
   "cell_type": "markdown",
   "id": "32d40320",
   "metadata": {
    "slideshow": {
     "slide_type": "slide"
    }
   },
   "source": [
    "## Ćwiczenia"
   ]
  },
  {
   "cell_type": "code",
   "execution_count": 21,
   "id": "82f5b76c",
   "metadata": {},
   "outputs": [],
   "source": [
    "%matplotlib inline"
   ]
  },
  {
   "cell_type": "markdown",
   "id": "bb69cc4f",
   "metadata": {
    "slideshow": {
     "slide_type": "slide"
    }
   },
   "source": [
    "### Narysuj linię z odpowiednią etykietą na osi x, osi y i tytułem"
   ]
  },
  {
   "cell_type": "markdown",
   "id": "b351d3d9",
   "metadata": {
    "slideshow": {
     "slide_type": "slide"
    }
   },
   "source": [
    "#### Ćwiczenie"
   ]
  },
  {
   "cell_type": "markdown",
   "id": "9d5712af",
   "metadata": {
    "slideshow": {
     "slide_type": "fragment"
    }
   },
   "source": [
    "Napisz program w Pythonie, który narysuje linię z odpowiednią etykietą na osi x, osi y i tytule."
   ]
  },
  {
   "cell_type": "markdown",
   "id": "01f9e397",
   "metadata": {
    "slideshow": {
     "slide_type": "subslide"
    }
   },
   "source": [
    "Przykładowy wynik:"
   ]
  },
  {
   "cell_type": "markdown",
   "id": "3131a14f",
   "metadata": {
    "slideshow": {
     "slide_type": "fragment"
    }
   },
   "source": [
    "![](https://www.w3resource.com/w3r_images/matplotlib-basic-exercise-1.png)"
   ]
  },
  {
   "cell_type": "markdown",
   "id": "8ebf7097",
   "metadata": {
    "slideshow": {
     "slide_type": "slide"
    }
   },
   "source": [
    "#### Rozwiązanie"
   ]
  },
  {
   "cell_type": "code",
   "execution_count": 22,
   "id": "a36556df",
   "metadata": {
    "slideshow": {
     "slide_type": "subslide"
    }
   },
   "outputs": [
    {
     "name": "stdout",
     "output_type": "stream",
     "text": [
      "Wartości X: 1 2 3 4 5 6 7 8 9 10 11 12 13 14 15 16 17 18 19 20 21 22 23 24 25 26 27 28 29 30 31 32 33 34 35 36 37 38 39 40 41 42 43 44 45 46 47 48 49\n",
      "Wartości Y (trzy razy X): [3, 6, 9, 12, 15, 18, 21, 24, 27, 30, 33, 36, 39, 42, 45, 48, 51, 54, 57, 60, 63, 66, 69, 72, 75, 78, 81, 84, 87, 90, 93, 96, 99, 102, 105, 108, 111, 114, 117, 120, 123, 126, 129, 132, 135, 138, 141, 144, 147]\n"
     ]
    },
    {
     "data": {
      "image/png": "[encoded data removed]",
      "text/plain": [
       "<Figure size 432x288 with 1 Axes>"
      ]
     },
     "metadata": {
      "needs_background": "light"
     },
     "output_type": "display_data"
    }
   ],
   "source": [
    "import matplotlib.pyplot as plt\n",
    "X = range(1, 50)\n",
    "Y = [value * 3 for value in X]\n",
    "print(\"Wartości X:\", *range(1,50))\n",
    "print(\"Wartości Y (trzy razy X):\", Y)\n",
    "plt.plot(X, Y)  # Wykreśl linie i/lub znaczniki do osi.\n",
    "plt.xlabel('x - axis')  # Ustaw etykietę osi x bieżącej osi.\n",
    "plt.ylabel('y - axis')  # Ustaw etykietę osi y bieżącej osi.\n",
    "plt.title('Draw a line.')  # Ustaw tytuł\n",
    "plt.show()  # Pokaż figurę."
   ]
  },
  {
   "cell_type": "markdown",
   "id": "b53cdb46",
   "metadata": {
    "slideshow": {
     "slide_type": "slide"
    }
   },
   "source": [
    "### Narysuj linię używając podanych wartości osi, z odpowiednią etykietą na osi x, osi y i tytule"
   ]
  },
  {
   "cell_type": "markdown",
   "id": "7fed321e",
   "metadata": {
    "slideshow": {
     "slide_type": "slide"
    }
   },
   "source": [
    "#### Ćwiczenie"
   ]
  },
  {
   "cell_type": "markdown",
   "id": "52156bb7",
   "metadata": {
    "slideshow": {
     "slide_type": "fragment"
    }
   },
   "source": [
    "Napisz program w Pythonie, który narysuje linię przy użyciu podanych wartości osi, z odpowiednią etykietą na osi x, osi y i tytule."
   ]
  },
  {
   "cell_type": "markdown",
   "id": "8a876631",
   "metadata": {
    "slideshow": {
     "slide_type": "subslide"
    }
   },
   "source": [
    "Przykładowy wynik:"
   ]
  },
  {
   "cell_type": "markdown",
   "id": "83fa98b5",
   "metadata": {
    "slideshow": {
     "slide_type": "fragment"
    }
   },
   "source": [
    "![](https://www.w3resource.com/w3r_images/matplotlib-basic-exercise-2.png)"
   ]
  },
  {
   "cell_type": "markdown",
   "id": "e794a2ee",
   "metadata": {
    "slideshow": {
     "slide_type": "slide"
    }
   },
   "source": [
    "#### Rozwiązanie"
   ]
  },
  {
   "cell_type": "code",
   "execution_count": 23,
   "id": "678d5942",
   "metadata": {
    "slideshow": {
     "slide_type": "subslide"
    }
   },
   "outputs": [
    {
     "data": {
      "image/png": "[encoded data removed]",
      "text/plain": [
       "<Figure size 432x288 with 1 Axes>"
      ]
     },
     "metadata": {
      "needs_background": "light"
     },
     "output_type": "display_data"
    }
   ],
   "source": [
    "import matplotlib.pyplot as plt\n",
    "x = [1, 2, 3]  # wartości osi x\n",
    "y = [2, 4, 1]  # wartości osi y \n",
    "plt.plot(x, y)  # Wykreśl linie i/lub znaczniki do osi.\n",
    "plt.xlabel('x - axis')  # Ustaw etykietę osi x bieżącej osi.\n",
    "plt.ylabel('y - axis')  # Ustaw etykietę osi y bieżącej osi.\n",
    "plt.title('Sample graph!')  # Ustaw tytuł\n",
    "plt.show()  # Pokaż figurę."
   ]
  },
  {
   "cell_type": "markdown",
   "id": "63a616d6",
   "metadata": {
    "slideshow": {
     "slide_type": "slide"
    }
   },
   "source": [
    "### Narysuj linię korzystając z podanych wartości osi pobranych z pliku tekstowego, z odpowiednią etykietą w osi x, osi y oraz tytułem"
   ]
  },
  {
   "cell_type": "markdown",
   "id": "95652912",
   "metadata": {
    "slideshow": {
     "slide_type": "slide"
    }
   },
   "source": [
    "#### Ćwiczenie"
   ]
  },
  {
   "cell_type": "markdown",
   "id": "7a6eb7b5",
   "metadata": {
    "slideshow": {
     "slide_type": "fragment"
    }
   },
   "source": [
    "Napisz program w Pythonie, który narysuje linię przy użyciu podanych wartości osi z odpowiednią etykietą na osi x, osi y i tytule.\n",
    "\n",
    "[test.txt](test.txt)"
   ]
  },
  {
   "cell_type": "markdown",
   "id": "92140efc",
   "metadata": {
    "slideshow": {
     "slide_type": "subslide"
    }
   },
   "source": [
    "Przykładowy wynik:"
   ]
  },
  {
   "cell_type": "markdown",
   "id": "7833b6ff",
   "metadata": {
    "slideshow": {
     "slide_type": "fragment"
    }
   },
   "source": [
    "![](https://www.w3resource.com/w3r_images/matplotlib-basic-exercise-3.png)"
   ]
  },
  {
   "cell_type": "markdown",
   "id": "05d5a60d",
   "metadata": {
    "slideshow": {
     "slide_type": "slide"
    }
   },
   "source": [
    "#### Rozwiązanie"
   ]
  },
  {
   "cell_type": "code",
   "execution_count": 24,
   "id": "e4757e43",
   "metadata": {
    "slideshow": {
     "slide_type": "subslide"
    }
   },
   "outputs": [
    {
     "data": {
      "image/png": "[encoded data removed]",
      "text/plain": [
       "<Figure size 432x288 with 1 Axes>"
      ]
     },
     "metadata": {
      "needs_background": "light"
     },
     "output_type": "display_data"
    }
   ],
   "source": [
    "import matplotlib.pyplot as plt\n",
    "with open(\"test.txt\") as f:\n",
    "    data = f.read()\n",
    "data = data.split('\\n')\n",
    "x = [int(row.split(' ')[0]) for row in data]\n",
    "y = [int(row.split(' ')[1]) for row in data]\n",
    "plt.plot(x, y)  # Wykreśl linie i/lub znaczniki do osi.\n",
    "plt.xlabel('x - axis')  # Ustaw etykietę osi x bieżącej osi.\n",
    "plt.ylabel('y - axis')  # Ustaw etykietę osi y bieżącej osi.\n",
    "plt.title('Sample graph!')  # Ustaw tytuł\n",
    "plt.show()  # Pokaż figurę."
   ]
  },
  {
   "cell_type": "markdown",
   "id": "f831bfce",
   "metadata": {
    "slideshow": {
     "slide_type": "slide"
    }
   },
   "source": [
    "### Rysuj wykresy liniowe danych finansowych Alphabet Inc. od 3 października 2016 r. do 7 października 2016 r."
   ]
  },
  {
   "cell_type": "markdown",
   "id": "a835fe28",
   "metadata": {
    "slideshow": {
     "slide_type": "slide"
    }
   },
   "source": [
    "#### Ćwiczenie"
   ]
  },
  {
   "cell_type": "markdown",
   "id": "fe55932b",
   "metadata": {
    "slideshow": {
     "slide_type": "fragment"
    }
   },
   "source": [
    "Napisz program w języku Python do rysowania wykresów liniowych danych finansowych firmy Alphabet Inc. w okresie od 3 października 2016 r. do 7 października 2016 r.\n",
    "\n",
    "Przykładowe dane finansowe ([fdata.csv](fdata.csv)):"
   ]
  },
  {
   "cell_type": "markdown",
   "id": "b64e73e4",
   "metadata": {
    "slideshow": {
     "slide_type": "subslide"
    }
   },
   "source": [
    "Przykładowy wynik:"
   ]
  },
  {
   "cell_type": "markdown",
   "id": "7e2b45e9",
   "metadata": {
    "slideshow": {
     "slide_type": "fragment"
    }
   },
   "source": [
    "![](https://www.w3resource.com/w3r_images/matplotlib-basic-exercise-4.png)"
   ]
  },
  {
   "cell_type": "markdown",
   "id": "a64d0982",
   "metadata": {
    "slideshow": {
     "slide_type": "slide"
    }
   },
   "source": [
    "#### Rozwiązanie"
   ]
  },
  {
   "cell_type": "code",
   "execution_count": 25,
   "id": "8e8f7ca8",
   "metadata": {
    "slideshow": {
     "slide_type": "subslide"
    }
   },
   "outputs": [
    {
     "data": {
      "image/png": "[encoded data removed]",
      "text/plain": [
       "<Figure size 432x288 with 1 Axes>"
      ]
     },
     "metadata": {
      "needs_background": "light"
     },
     "output_type": "display_data"
    }
   ],
   "source": [
    "import matplotlib.pyplot as plt\n",
    "import pandas as pd\n",
    "df = pd.read_csv('fdata.csv', sep=',', parse_dates=True, index_col=0)\n",
    "df.plot()\n",
    "plt.show()"
   ]
  },
  {
   "cell_type": "markdown",
   "id": "cdf9b650",
   "metadata": {
    "slideshow": {
     "slide_type": "slide"
    }
   },
   "source": [
    "### Wykreśl dwie lub więcej linii na tej samej podziałce z odpowiednimi legendami każdej linii"
   ]
  },
  {
   "cell_type": "markdown",
   "id": "28f2ae1d",
   "metadata": {
    "slideshow": {
     "slide_type": "slide"
    }
   },
   "source": [
    "#### Ćwiczenie"
   ]
  },
  {
   "cell_type": "markdown",
   "id": "0ac1390f",
   "metadata": {
    "slideshow": {
     "slide_type": "fragment"
    }
   },
   "source": [
    "Napisz program w Pythonie, który wykreśli dwie lub więcej linii na tym samym wykresie z odpowiednią legendą każdej linii."
   ]
  },
  {
   "cell_type": "markdown",
   "id": "a366d4ea",
   "metadata": {
    "slideshow": {
     "slide_type": "subslide"
    }
   },
   "source": [
    "Przykładowy wynik:"
   ]
  },
  {
   "cell_type": "markdown",
   "id": "d088d021",
   "metadata": {
    "slideshow": {
     "slide_type": "fragment"
    }
   },
   "source": [
    "![](https://www.w3resource.com/w3r_images/matplotlib-basic-exercise-5.png)"
   ]
  },
  {
   "cell_type": "markdown",
   "id": "ffb1e9c7",
   "metadata": {
    "slideshow": {
     "slide_type": "slide"
    }
   },
   "source": [
    "#### Rozwiązanie"
   ]
  },
  {
   "cell_type": "code",
   "execution_count": 26,
   "id": "3ca0652e",
   "metadata": {
    "slideshow": {
     "slide_type": "subslide"
    }
   },
   "outputs": [
    {
     "data": {
      "image/png": "[encoded data removed]",
      "text/plain": [
       "<Figure size 432x288 with 1 Axes>"
      ]
     },
     "metadata": {
      "needs_background": "light"
     },
     "output_type": "display_data"
    }
   ],
   "source": [
    "import matplotlib.pyplot as plt\n",
    "# punkty linii 1\n",
    "x1 = [10, 20, 30]\n",
    "y1 = [20, 40, 10]\n",
    "plt.plot(x1, y1, label = \"line 1\")  # kreślenie punktów linii 1\n",
    "# punkty linii 2\n",
    "x2 = [10, 20, 30]\n",
    "y2 = [40, 10, 30]\n",
    "plt.plot(x2, y2, label = \"line 2\")  # kreślenie punktów linii 1\n",
    "plt.xlabel('x - axis')  # Ustaw etykietę osi x bieżącej osi.\n",
    "plt.ylabel('y - axis')  # Ustaw etykietę osi y bieżącej osi.\n",
    "# Ustaw tytuł aktualnych osi.\n",
    "plt.title('Two or more lines on same plot with suitable legends ')\n",
    "plt.legend()  # pokaż legendę na podziałce\n",
    "plt.show()  # Wyświetl figurę."
   ]
  },
  {
   "cell_type": "markdown",
   "id": "87fe7344",
   "metadata": {
    "slideshow": {
     "slide_type": "slide"
    }
   },
   "source": [
    "### Narysuj dwie lub więcej linii z legendami, różnymi szerokościami i kolorami"
   ]
  },
  {
   "cell_type": "markdown",
   "id": "ca56348c",
   "metadata": {
    "slideshow": {
     "slide_type": "slide"
    }
   },
   "source": [
    "#### Ćwiczenie"
   ]
  },
  {
   "cell_type": "markdown",
   "id": "0254f5af",
   "metadata": {
    "slideshow": {
     "slide_type": "fragment"
    }
   },
   "source": [
    "Napisz program w Pythonie, który wykreśli dwie lub więcej linii z legendami, o różnych szerokościach i kolorach."
   ]
  },
  {
   "cell_type": "markdown",
   "id": "386bd9e7",
   "metadata": {
    "slideshow": {
     "slide_type": "subslide"
    }
   },
   "source": [
    "Przykładowy wynik:"
   ]
  },
  {
   "cell_type": "markdown",
   "id": "7cbd8af8",
   "metadata": {
    "slideshow": {
     "slide_type": "fragment"
    }
   },
   "source": [
    "![](https://www.w3resource.com/w3r_images/matplotlib-basic-exercise-6.png)"
   ]
  },
  {
   "cell_type": "markdown",
   "id": "20b9bbd1",
   "metadata": {
    "slideshow": {
     "slide_type": "slide"
    }
   },
   "source": [
    "#### Rozwiązanie"
   ]
  },
  {
   "cell_type": "code",
   "execution_count": 27,
   "id": "86d482dd",
   "metadata": {
    "slideshow": {
     "slide_type": "subslide"
    }
   },
   "outputs": [
    {
     "data": {
      "image/png": "[encoded data removed]",
      "text/plain": [
       "<Figure size 432x288 with 1 Axes>"
      ]
     },
     "metadata": {
      "needs_background": "light"
     },
     "output_type": "display_data"
    }
   ],
   "source": [
    "import matplotlib.pyplot as plt\n",
    "# punkty linii 1\n",
    "x1 = [10,20,30]\n",
    "y1 = [20,40,10]\n",
    "# punkty linii 2\n",
    "x2 = [10,20,30]\n",
    "y2 = [40,10,30]\n",
    "plt.xlabel('x - axis')  # Ustaw etykietę osi x bieżącej osi.\n",
    "plt.ylabel('y - axis')  # Ustaw etykietę osi y bieżącej osi.\n",
    "# Ustaw tytuł\n",
    "plt.title('Two or more lines with different widths and colors with suitable legends ')\n",
    "# Pokaż figurę.\n",
    "plt.plot(x1, y1, color='blue', linewidth = 3,  label = 'line1-width-3')\n",
    "plt.plot(x2, y2, color='red', linewidth = 5,  label = 'line2-width-5')\n",
    "plt.legend()  # pokaż legendę na podziałce\n",
    "plt.show()"
   ]
  },
  {
   "cell_type": "markdown",
   "id": "bf5c95b0",
   "metadata": {
    "slideshow": {
     "slide_type": "slide"
    }
   },
   "source": [
    "### Narysuj dwie lub więcej linii w różnych stylach"
   ]
  },
  {
   "cell_type": "markdown",
   "id": "5ff3a417",
   "metadata": {
    "slideshow": {
     "slide_type": "slide"
    }
   },
   "source": [
    "#### Ćwiczenie"
   ]
  },
  {
   "cell_type": "markdown",
   "id": "a490bb95",
   "metadata": {
    "slideshow": {
     "slide_type": "fragment"
    }
   },
   "source": [
    "Napisz program w Pythonie, który wykreśli dwie lub więcej linii w różnych stylach."
   ]
  },
  {
   "cell_type": "markdown",
   "id": "fe32ba71",
   "metadata": {
    "slideshow": {
     "slide_type": "subslide"
    }
   },
   "source": [
    "Przykładowy wynik:"
   ]
  },
  {
   "cell_type": "markdown",
   "id": "c44d8256",
   "metadata": {
    "slideshow": {
     "slide_type": "fragment"
    }
   },
   "source": [
    "![](https://www.w3resource.com/w3r_images/matplotlib-basic-exercise-7.png)"
   ]
  },
  {
   "cell_type": "markdown",
   "id": "fbed61be",
   "metadata": {
    "slideshow": {
     "slide_type": "slide"
    }
   },
   "source": [
    "#### Rozwiązanie"
   ]
  },
  {
   "cell_type": "code",
   "execution_count": 28,
   "id": "f69aefc2",
   "metadata": {
    "slideshow": {
     "slide_type": "subslide"
    }
   },
   "outputs": [
    {
     "data": {
      "image/png": "[encoded data removed]",
      "text/plain": [
       "<Figure size 432x288 with 1 Axes>"
      ]
     },
     "metadata": {
      "needs_background": "light"
     },
     "output_type": "display_data"
    }
   ],
   "source": [
    "import matplotlib.pyplot as plt\n",
    "# punkty linii 1\n",
    "x1 = [10,20,30]\n",
    "y1 = [20,40,10]\n",
    "# punkty linii 2\n",
    "x2 = [10,20,30]\n",
    "y2 = [40,10,30]\n",
    "plt.xlabel('x - axis')  # Ustaw etykietę osi x bieżącej osi.\n",
    "plt.ylabel('y - axis')  # Ustaw etykietę osi y bieżącej osi.\n",
    "# Wykreśl linie i/lub znaczniki do osi.\n",
    "plt.plot(x1,y1, color='blue', linewidth = 3,  label = 'line1-dotted',linestyle='dotted')\n",
    "plt.plot(x2,y2, color='red', linewidth = 5,  label = 'line2-dashed', linestyle='dashed')\n",
    "plt.title(\"Plot with two or more lines with different styles\")  # Ustaw tytuł\n",
    "plt.legend()  # pokaż legendę na podziałce\n",
    "plt.show()  # funkcja, aby pokazać podziałkę"
   ]
  },
  {
   "cell_type": "markdown",
   "id": "e6437ab9",
   "metadata": {
    "slideshow": {
     "slide_type": "slide"
    }
   },
   "source": [
    "### Wykreśl dwie lub więcej linii i ustaw znaczniki linii"
   ]
  },
  {
   "cell_type": "markdown",
   "id": "387173cf",
   "metadata": {
    "slideshow": {
     "slide_type": "slide"
    }
   },
   "source": [
    "#### Ćwiczenie"
   ]
  },
  {
   "cell_type": "markdown",
   "id": "6e76f652",
   "metadata": {
    "slideshow": {
     "slide_type": "fragment"
    }
   },
   "source": [
    "Napisz program w Pythonie, który kreśli dwie lub więcej linii i ustawia znaczniki linii."
   ]
  },
  {
   "cell_type": "markdown",
   "id": "419c65d1",
   "metadata": {
    "slideshow": {
     "slide_type": "subslide"
    }
   },
   "source": [
    "Przykładowy wynik:"
   ]
  },
  {
   "cell_type": "markdown",
   "id": "4a03ee18",
   "metadata": {
    "slideshow": {
     "slide_type": "fragment"
    }
   },
   "source": [
    "![](https://www.w3resource.com/w3r_images/matplotlib-basic-exercise-8.png)"
   ]
  },
  {
   "cell_type": "markdown",
   "id": "9e460d75",
   "metadata": {
    "slideshow": {
     "slide_type": "slide"
    }
   },
   "source": [
    "#### Rozwiązanie"
   ]
  },
  {
   "cell_type": "code",
   "execution_count": 29,
   "id": "cde7d6a4",
   "metadata": {
    "slideshow": {
     "slide_type": "subslide"
    }
   },
   "outputs": [
    {
     "data": {
      "image/png": "[encoded data removed]",
      "text/plain": [
       "<Figure size 432x288 with 1 Axes>"
      ]
     },
     "metadata": {
      "needs_background": "light"
     },
     "output_type": "display_data"
    }
   ],
   "source": [
    "import matplotlib.pyplot as plt\n",
    "x = [1,4,5,6,7]  # wartości osi x\n",
    "y = [2,6,3,6,3]  # wartości osi y\n",
    "\n",
    "# wykreślanie punktów\n",
    "plt.plot(x, y, color='red', linestyle='dashdot', linewidth = 3,\n",
    "         marker='o', markerfacecolor='blue', markersize=12)\n",
    "plt.ylim(1,8)  # Ustaw granice y aktualnych osi.\n",
    "plt.xlim(1,8)  # Ustaw granice x aktualnych osi.\n",
    "\n",
    "plt.xlabel('x - axis')  # nazwanie osi X\n",
    "plt.ylabel('y - axis')  # nazwanie osi Y\n",
    "\n",
    "plt.title('Display marker')  # nadawanie tytułu wykresowi\n",
    "plt.show()  # funkcja, aby pokazać podziałkę"
   ]
  },
  {
   "cell_type": "markdown",
   "id": "8dc2b33b",
   "metadata": {
    "slideshow": {
     "slide_type": "slide"
    }
   },
   "source": [
    "### Wyświetl aktualne wartości limitów osi i ustaw nowe wartości osi"
   ]
  },
  {
   "cell_type": "markdown",
   "id": "8fb46e9d",
   "metadata": {
    "slideshow": {
     "slide_type": "slide"
    }
   },
   "source": [
    "#### Ćwiczenie"
   ]
  },
  {
   "cell_type": "markdown",
   "id": "7faee82a",
   "metadata": {
    "slideshow": {
     "slide_type": "fragment"
    }
   },
   "source": [
    "Napisz program w języku Python, który będzie wyświetlał bieżące wartości graniczne osi i ustawiał nowe wartości osi."
   ]
  },
  {
   "cell_type": "markdown",
   "id": "82743f37",
   "metadata": {
    "slideshow": {
     "slide_type": "subslide"
    }
   },
   "source": [
    "Przykładowy wynik:"
   ]
  },
  {
   "cell_type": "markdown",
   "id": "ff2f6958",
   "metadata": {
    "slideshow": {
     "slide_type": "fragment"
    }
   },
   "source": [
    "`(-1.4000000000000004, 51.4, -4.2, 154.2)`\n",
    "![](https://www.w3resource.com/w3r_images/matplotlib-basic-exercise-9.png)"
   ]
  },
  {
   "cell_type": "markdown",
   "id": "03649d5f",
   "metadata": {
    "slideshow": {
     "slide_type": "slide"
    }
   },
   "source": [
    "#### Rozwiązanie"
   ]
  },
  {
   "cell_type": "code",
   "execution_count": 34,
   "id": "ffc2b076",
   "metadata": {
    "slideshow": {
     "slide_type": "subslide"
    }
   },
   "outputs": [
    {
     "name": "stdout",
     "output_type": "stream",
     "text": [
      "(-1.4000000000000004, 51.4, -4.2, 154.2)\n"
     ]
    },
    {
     "data": {
      "image/png": "[encoded data removed]",
      "text/plain": [
       "<Figure size 432x288 with 1 Axes>"
      ]
     },
     "metadata": {
      "needs_background": "light"
     },
     "output_type": "display_data"
    }
   ],
   "source": [
    "import matplotlib.pyplot as plt\n",
    "X = range(1, 50)\n",
    "Y = [value * 3 for value in X]\n",
    "plt.plot(X, Y)\n",
    "plt.xlabel('x - axis')\n",
    "plt.ylabel('y - axis')\n",
    "plt.title('Draw a line.')\n",
    "print(plt.axis())  # pokazuje aktualne wartości limitów osi\n",
    "# ustaw nowe limity osi\n",
    "# Limit osi x 0 do 100\n",
    "# Limit osi y 0 do 200\n",
    "plt.axis([0, 100, 0, 200]) \n",
    "plt.show()  # Wyświetl figurę."
   ]
  },
  {
   "cell_type": "markdown",
   "id": "f23e5455",
   "metadata": {
    "slideshow": {
     "slide_type": "slide"
    }
   },
   "source": [
    "### Wykreśl kilka linii z różnymi stylami formatu w jednym poleceniu za pomocą tablic"
   ]
  },
  {
   "cell_type": "markdown",
   "id": "d5a30750",
   "metadata": {
    "slideshow": {
     "slide_type": "slide"
    }
   },
   "source": [
    "#### Ćwiczenie"
   ]
  },
  {
   "cell_type": "markdown",
   "id": "6a307a66",
   "metadata": {
    "slideshow": {
     "slide_type": "fragment"
    }
   },
   "source": [
    "Napisz program w Pythonie, który będzie kreślił kilka linii z różnymi stylami formatu w jednym poleceniu za pomocą tablic."
   ]
  },
  {
   "cell_type": "markdown",
   "id": "3070d28f",
   "metadata": {
    "slideshow": {
     "slide_type": "subslide"
    }
   },
   "source": [
    "Przykładowy wynik:"
   ]
  },
  {
   "cell_type": "markdown",
   "id": "af004ccf",
   "metadata": {
    "slideshow": {
     "slide_type": "fragment"
    }
   },
   "source": [
    "![](https://www.w3resource.com/w3r_images/matplotlib-basic-exercise-11.png)"
   ]
  },
  {
   "cell_type": "markdown",
   "id": "8c8d7258",
   "metadata": {
    "slideshow": {
     "slide_type": "slide"
    }
   },
   "source": [
    "#### Rozwiązanie"
   ]
  },
  {
   "cell_type": "code",
   "execution_count": 35,
   "id": "703703d7",
   "metadata": {
    "slideshow": {
     "slide_type": "subslide"
    }
   },
   "outputs": [
    {
     "data": {
      "image/png": "[encoded data removed]",
      "text/plain": [
       "<Figure size 432x288 with 1 Axes>"
      ]
     },
     "metadata": {
      "needs_background": "light"
     },
     "output_type": "display_data"
    }
   ],
   "source": [
    "import numpy as np\n",
    "import matplotlib.pyplot as plt\n",
    "\n",
    "# Czas próbkowania w odstępach 200ms\n",
    "t = np.arange(0., 5., 0.2)\n",
    "\n",
    "# zielone kreski, niebieskie kwadraty i czerwone trójkąty\n",
    "plt.plot(t, t, 'g--', t, t**2, 'bs', t, t**3, 'r^')\n",
    "plt.show()"
   ]
  },
  {
   "cell_type": "markdown",
   "id": "92316369",
   "metadata": {
    "slideshow": {
     "slide_type": "slide"
    }
   },
   "source": [
    "### Utwórz wiele podziałek"
   ]
  },
  {
   "cell_type": "markdown",
   "id": "3880f651",
   "metadata": {
    "slideshow": {
     "slide_type": "slide"
    }
   },
   "source": [
    "#### Ćwiczenie"
   ]
  },
  {
   "cell_type": "markdown",
   "id": "da831c9d",
   "metadata": {
    "slideshow": {
     "slide_type": "fragment"
    }
   },
   "source": [
    "Napisz program w Pythonie do tworzenia wielu wykresów"
   ]
  },
  {
   "cell_type": "markdown",
   "id": "3fbdb6ac",
   "metadata": {
    "slideshow": {
     "slide_type": "subslide"
    }
   },
   "source": [
    "Przykładowy wynik:"
   ]
  },
  {
   "cell_type": "markdown",
   "id": "f9baae18",
   "metadata": {
    "slideshow": {
     "slide_type": "fragment"
    }
   },
   "source": [
    "![](https://www.w3resource.com/w3r_images/matplotlib-basic-exercise-15.png)"
   ]
  },
  {
   "cell_type": "markdown",
   "id": "2690cf68",
   "metadata": {
    "slideshow": {
     "slide_type": "slide"
    }
   },
   "source": [
    "#### Rozwiązanie"
   ]
  },
  {
   "cell_type": "code",
   "execution_count": null,
   "id": "ae4077dc",
   "metadata": {
    "slideshow": {
     "slide_type": "subslide"
    }
   },
   "outputs": [],
   "source": [
    "import matplotlib.pyplot as plt\n",
    "fig = plt.figure()\n",
    "fig.subplots_adjust(bottom=0.020, left=0.020, top = 0.900, right=0.800)\n",
    "\n",
    "plt.subplot(2, 1, 1)\n",
    "plt.xticks(()), plt.yticks(())\n",
    "\n",
    "plt.subplot(2, 3, 4)\n",
    "plt.xticks(()), plt.yticks(())\n",
    "\n",
    "plt.subplot(2, 3, 5)\n",
    "plt.xticks(()), plt.yticks(())\n",
    "\n",
    "plt.subplot(2, 3, 6)\n",
    "plt.xticks(()), plt.yticks(())\n",
    "\n",
    "plt.show()"
   ]
  },
  {
   "cell_type": "markdown",
   "id": "43351468",
   "metadata": {
    "slideshow": {
     "slide_type": "slide"
    }
   },
   "source": [
    "### Wyświetl wykres słupkowy popularności języków programowania"
   ]
  },
  {
   "cell_type": "markdown",
   "id": "415e6832",
   "metadata": {
    "slideshow": {
     "slide_type": "slide"
    }
   },
   "source": [
    "#### Ćwiczenie"
   ]
  },
  {
   "cell_type": "markdown",
   "id": "b249390d",
   "metadata": {
    "slideshow": {
     "slide_type": "fragment"
    }
   },
   "source": [
    "Napisz program w Pythonie, aby wyświetlić wykres słupkowy popularności języków programowania.\n",
    "\n",
    "Przykładowe dane:\n",
    "\n",
    "Języki programowania: `'Java', 'Python', 'PHP', 'JavaScript', 'C#', 'C++'`\n",
    "\n",
    "Popularność: `22.2, 17.6, 8.8, 8, 7.7, 6.7`"
   ]
  },
  {
   "cell_type": "markdown",
   "id": "3680b9ad",
   "metadata": {
    "slideshow": {
     "slide_type": "subslide"
    }
   },
   "source": [
    "Przykładowy wynik:"
   ]
  },
  {
   "cell_type": "markdown",
   "id": "58dad0b6",
   "metadata": {
    "slideshow": {
     "slide_type": "fragment"
    }
   },
   "source": [
    "![](https://www.w3resource.com/w3r_images/matplotlib-barchart-exercise-1.png)"
   ]
  },
  {
   "cell_type": "markdown",
   "id": "3f0c6003",
   "metadata": {
    "slideshow": {
     "slide_type": "slide"
    }
   },
   "source": [
    "#### Rozwiązanie"
   ]
  },
  {
   "cell_type": "code",
   "execution_count": 37,
   "id": "3f17a593",
   "metadata": {
    "slideshow": {
     "slide_type": "subslide"
    }
   },
   "outputs": [
    {
     "data": {
      "image/png": "[encoded data removed]",
      "text/plain": [
       "<Figure size 432x288 with 1 Axes>"
      ]
     },
     "metadata": {
      "needs_background": "light"
     },
     "output_type": "display_data"
    }
   ],
   "source": [
    "import matplotlib.pyplot as plt\n",
    "x = ['Java', 'Python', 'PHP', 'JavaScript', 'C#', 'C++']\n",
    "popularity = [22.2, 17.6, 8.8, 8, 7.7, 6.7]\n",
    "x_pos = [i for i, _ in enumerate(x)]\n",
    "plt.bar(x_pos, popularity, color='blue')\n",
    "plt.xlabel(\"Languages\")\n",
    "plt.ylabel(\"Popularity\")\n",
    "plt.title(\"PopularitY of Programming Language\\n\" + \"Worldwide, Oct 2017 compared to a year ago\")\n",
    "plt.xticks(x_pos, x)\n",
    "plt.minorticks_on()  # Włącz siatkę\n",
    "plt.grid(which='major', linestyle='-', linewidth='0.5', color='red')\n",
    "# Dostosuj mniejszą siatkę\n",
    "plt.grid(which='minor', linestyle=':', linewidth='0.5', color='black')\n",
    "plt.show()"
   ]
  },
  {
   "cell_type": "markdown",
   "id": "02476157",
   "metadata": {
    "slideshow": {
     "slide_type": "slide"
    }
   },
   "source": [
    "### Wyświetl poziomy wykres słupkowy popularności języków programowania"
   ]
  },
  {
   "cell_type": "markdown",
   "id": "d9992be6",
   "metadata": {
    "slideshow": {
     "slide_type": "slide"
    }
   },
   "source": [
    "#### Ćwiczenie"
   ]
  },
  {
   "cell_type": "markdown",
   "id": "d5ff028c",
   "metadata": {
    "slideshow": {
     "slide_type": "fragment"
    }
   },
   "source": [
    "Napisz program w Pythonie wyświetlający poziomy wykres słupkowy popularności języków programowania.\n",
    "\n",
    "Przykładowe dane:\n",
    "\n",
    "Języki programowania: `'Java', 'Python', 'PHP', 'JS', 'C#', 'C++'`\n",
    "\n",
    "Popularność: `22.2, 17.6, 8.8, 8, 7.7, 6.7`"
   ]
  },
  {
   "cell_type": "markdown",
   "id": "27dfa2ad",
   "metadata": {
    "slideshow": {
     "slide_type": "subslide"
    }
   },
   "source": [
    "Przykładowy wynik:"
   ]
  },
  {
   "cell_type": "markdown",
   "id": "e0e14af1",
   "metadata": {
    "slideshow": {
     "slide_type": "fragment"
    }
   },
   "source": [
    "![](https://www.w3resource.com/w3r_images/matplotlib-barchart-exercise-2.png)"
   ]
  },
  {
   "cell_type": "markdown",
   "id": "ccb7a1f6",
   "metadata": {
    "slideshow": {
     "slide_type": "slide"
    }
   },
   "source": [
    "#### Rozwiązanie"
   ]
  },
  {
   "cell_type": "code",
   "execution_count": null,
   "id": "5bcf878f",
   "metadata": {
    "slideshow": {
     "slide_type": "subslide"
    }
   },
   "outputs": [],
   "source": [
    "import matplotlib.pyplot as plt\n",
    "x = ['Java', 'Python', 'PHP', 'JS', 'C#', 'C++']\n",
    "popularity = [22.2, 17.6, 8.8, 8, 7.7, 6.7]\n",
    "x_pos = [i for i, _ in enumerate(x)]\n",
    "plt.barh(x_pos, popularity, color='green')\n",
    "plt.xlabel(\"Popularity\")\n",
    "plt.ylabel(\"Languages\")\n",
    "plt.title(\"PopularitY of Programming Language\\n\" + \"Worldwide, Oct 2017 compared to a year ago\")\n",
    "plt.yticks(x_pos, x)\n",
    "plt.minorticks_on()  # Włącz siatkę\n",
    "plt.grid(which='major', linestyle='-', linewidth='0.5', color='red')\n",
    "# Dostosuj mniejszą siatkę\n",
    "plt.grid(which='minor', linestyle=':', linewidth='0.5', color='black')\n",
    "plt.show()"
   ]
  },
  {
   "cell_type": "markdown",
   "id": "68554313",
   "metadata": {
    "slideshow": {
     "slide_type": "slide"
    }
   },
   "source": [
    "### Wyświetl wykres słupkowy popularności języków programowania"
   ]
  },
  {
   "cell_type": "markdown",
   "id": "cc5aba2e",
   "metadata": {
    "slideshow": {
     "slide_type": "slide"
    }
   },
   "source": [
    "#### Ćwiczenie"
   ]
  },
  {
   "cell_type": "markdown",
   "id": "c8397abe",
   "metadata": {
    "slideshow": {
     "slide_type": "fragment"
    }
   },
   "source": [
    "Napisz program w Pythonie wyświetlający poziomy wykres słupkowy popularności języków programowania.\n",
    "\n",
    "Przykładowe dane:\n",
    "\n",
    "Języki programowania: `'Java', 'Python', 'PHP', 'JavaScript', 'C#', 'C++'`\n",
    "\n",
    "Popularność: `22.2, 17.6, 8.8, 8, 7.7, 6.7`"
   ]
  },
  {
   "cell_type": "markdown",
   "id": "080acfd1",
   "metadata": {
    "slideshow": {
     "slide_type": "subslide"
    }
   },
   "source": [
    "Przykładowy wynik:"
   ]
  },
  {
   "cell_type": "markdown",
   "id": "5b180ebd",
   "metadata": {
    "slideshow": {
     "slide_type": "fragment"
    }
   },
   "source": [
    "![](https://www.w3resource.com/w3r_images/matplotlib-barchart-exercise-3.png)"
   ]
  },
  {
   "cell_type": "markdown",
   "id": "4f2ff7fd",
   "metadata": {
    "slideshow": {
     "slide_type": "slide"
    }
   },
   "source": [
    "#### Rozwiązanie"
   ]
  },
  {
   "cell_type": "code",
   "execution_count": null,
   "id": "db893bb0",
   "metadata": {
    "slideshow": {
     "slide_type": "subslide"
    }
   },
   "outputs": [],
   "source": [
    "import matplotlib.pyplot as plt\n",
    "x = ['Java', 'Python', 'PHP', 'JavaScript', 'C#', 'C++']\n",
    "popularity = [22.2, 17.6, 8.8, 8, 7.7, 6.7]\n",
    "x_pos = [i for i, _ in enumerate(x)]\n",
    "\n",
    "plt.bar(x_pos, popularity, color=(0.4, 0.6, 0.8, 1.0))\n",
    "\n",
    "plt.xlabel(\"Languages\")\n",
    "plt.ylabel(\"Popularity\")\n",
    "plt.title(\"PopularitY of Programming Language\\n\" + \"Worldwide, Oct 2017 compared to a year ago\")\n",
    "plt.xticks(x_pos, x)\n",
    "plt.minorticks_on()  # Włącz siatkę\n",
    "plt.grid(which='major', linestyle='-', linewidth='0.5', color='red')\n",
    "# Dostosuj mniejszą siatkę\n",
    "plt.grid(which='minor', linestyle=':', linewidth='0.5', color='black')\n",
    "plt.show()"
   ]
  },
  {
   "cell_type": "markdown",
   "id": "a94f936e",
   "metadata": {
    "slideshow": {
     "slide_type": "slide"
    }
   },
   "source": [
    "### Wyświetl wykres słupkowy popularności języków programowania, używając innego koloru dla każdego słupka"
   ]
  },
  {
   "cell_type": "markdown",
   "id": "59e33ce0",
   "metadata": {
    "slideshow": {
     "slide_type": "slide"
    }
   },
   "source": [
    "#### Ćwiczenie"
   ]
  },
  {
   "cell_type": "markdown",
   "id": "e0245a9d",
   "metadata": {
    "slideshow": {
     "slide_type": "fragment"
    }
   },
   "source": [
    "Napisz program w Pythonie wyświetlający wykres słupkowy popularności języków programowania. Użyj innego koloru dla każdego paska.\n",
    "\n",
    "Przykładowe dane:\n",
    "\n",
    "Języki programowania: `'Java', 'Python', 'PHP', 'JavaScript', 'C#', 'C++'`\n",
    "\n",
    "Popularność: `22.2, 17.6, 8.8, 8, 7.7, 6.7`"
   ]
  },
  {
   "cell_type": "markdown",
   "id": "572c6009",
   "metadata": {
    "slideshow": {
     "slide_type": "subslide"
    }
   },
   "source": [
    "Przykładowy wynik:"
   ]
  },
  {
   "cell_type": "markdown",
   "id": "06e0b7b9",
   "metadata": {
    "slideshow": {
     "slide_type": "fragment"
    }
   },
   "source": [
    "![](https://www.w3resource.com/w3r_images/matplotlib-barchart-exercise-4.png)"
   ]
  },
  {
   "cell_type": "markdown",
   "id": "93fdd9ed",
   "metadata": {
    "slideshow": {
     "slide_type": "slide"
    }
   },
   "source": [
    "#### Rozwiązanie"
   ]
  },
  {
   "cell_type": "code",
   "execution_count": null,
   "id": "67280cbc",
   "metadata": {
    "slideshow": {
     "slide_type": "subslide"
    }
   },
   "outputs": [],
   "source": [
    "import matplotlib.pyplot as plt\n",
    "x = ['Java', 'Python', 'PHP', 'JavaScript', 'C#', 'C++']\n",
    "popularity = [22.2, 17.6, 8.8, 8, 7.7, 6.7]\n",
    "x_pos = [i for i, _ in enumerate(x)]\n",
    "\n",
    "plt.bar(x_pos, popularity, color=['red', 'black', 'green', 'blue', 'yellow', 'cyan'])\n",
    "\n",
    "plt.xlabel(\"Languages\")\n",
    "plt.ylabel(\"Popularity\")\n",
    "plt.title(\"PopularitY of Programming Language\\n\" + \"Worldwide, Oct 2017 compared to a year ago\")\n",
    "plt.xticks(x_pos, x)\n",
    "plt.minorticks_on()  # Włącz siatkę\n",
    "plt.grid(which='major', linestyle='-', linewidth='0.5', color='red')\n",
    "# Dostosuj mniejszą siatkę\n",
    "plt.grid(which='minor', linestyle=':', linewidth='0.5', color='black')\n",
    "plt.show()"
   ]
  },
  {
   "cell_type": "markdown",
   "id": "067bbd93",
   "metadata": {
    "slideshow": {
     "slide_type": "slide"
    }
   },
   "source": [
    "### Narysuj wykres punktowy, biorąc losowy rozkład w X i Y"
   ]
  },
  {
   "cell_type": "markdown",
   "id": "00b12402",
   "metadata": {
    "slideshow": {
     "slide_type": "slide"
    }
   },
   "source": [
    "#### Ćwiczenie"
   ]
  },
  {
   "cell_type": "markdown",
   "id": "1def050f",
   "metadata": {
    "slideshow": {
     "slide_type": "fragment"
    }
   },
   "source": [
    "Napisz program w Pythonie, który narysuje wykres punktowy, biorąc losowy rozkład w X i Y i wykreślając je względem siebie."
   ]
  },
  {
   "cell_type": "markdown",
   "id": "b1c1e8f1",
   "metadata": {
    "slideshow": {
     "slide_type": "subslide"
    }
   },
   "source": [
    "Przykładowy wynik:"
   ]
  },
  {
   "cell_type": "markdown",
   "id": "3652f8fc",
   "metadata": {
    "slideshow": {
     "slide_type": "fragment"
    }
   },
   "source": [
    "![](https://www.w3resource.com/w3r_images/matplotlib-scatter-exercise-1.png)"
   ]
  },
  {
   "cell_type": "markdown",
   "id": "66b38105",
   "metadata": {
    "slideshow": {
     "slide_type": "slide"
    }
   },
   "source": [
    "#### Rozwiązanie"
   ]
  },
  {
   "cell_type": "code",
   "execution_count": null,
   "id": "05fe4418",
   "metadata": {
    "slideshow": {
     "slide_type": "fragment"
    }
   },
   "outputs": [],
   "source": [
    "import matplotlib.pyplot as plt\n",
    "from pylab import randn\n",
    "X = randn(200)\n",
    "Y = randn(200)\n",
    "plt.scatter(X,Y, color='r')\n",
    "plt.xlabel(\"X\")\n",
    "plt.ylabel(\"Y\")\n",
    "plt.show()"
   ]
  },
  {
   "cell_type": "markdown",
   "id": "36f45928",
   "metadata": {
    "slideshow": {
     "slide_type": "slide"
    }
   },
   "source": [
    "### Narysuj wykres punktowy z pustymi okręgami, przyjmując losowy rozkład w X i Y"
   ]
  },
  {
   "cell_type": "markdown",
   "id": "d7d0aa01",
   "metadata": {
    "slideshow": {
     "slide_type": "slide"
    }
   },
   "source": [
    "#### Ćwiczenie"
   ]
  },
  {
   "cell_type": "markdown",
   "id": "d5163a31",
   "metadata": {
    "slideshow": {
     "slide_type": "fragment"
    }
   },
   "source": [
    "Napisz program w Pythonie, który narysuje wykres punktowy z pustymi okręgami, przyjmując losowy rozkład w X i Y i wykreślając je względem siebie."
   ]
  },
  {
   "cell_type": "markdown",
   "id": "10d4a7e6",
   "metadata": {
    "slideshow": {
     "slide_type": "subslide"
    }
   },
   "source": [
    "Przykładowy wynik:"
   ]
  },
  {
   "cell_type": "markdown",
   "id": "eb09dc01",
   "metadata": {
    "slideshow": {
     "slide_type": "fragment"
    }
   },
   "source": [
    "![](https://www.w3resource.com/w3r_images/matplotlib-scatter-exercise-2.png)"
   ]
  },
  {
   "cell_type": "markdown",
   "id": "b335898c",
   "metadata": {
    "slideshow": {
     "slide_type": "slide"
    }
   },
   "source": [
    "#### Rozwiązanie"
   ]
  },
  {
   "cell_type": "code",
   "execution_count": null,
   "id": "ca2b9ddb",
   "metadata": {
    "slideshow": {
     "slide_type": "fragment"
    }
   },
   "outputs": [],
   "source": [
    "import matplotlib.pyplot as plt \n",
    "import numpy as np \n",
    "x = np.random.randn(50) \n",
    "y = np.random.randn(50)\n",
    "plt.scatter(x, y, s=70, facecolors='none', edgecolors='g')\n",
    "plt.xlabel(\"X\")\n",
    "plt.ylabel(\"Y\")\n",
    "plt.show()"
   ]
  },
  {
   "cell_type": "code",
   "execution_count": null,
   "id": "ac767407",
   "metadata": {
    "slideshow": {
     "slide_type": "skip"
    }
   },
   "outputs": [],
   "source": []
  }
 ],
 "metadata": {
  "celltoolbar": "Slideshow",
  "kernelspec": {
   "display_name": "Python 3 (ipykernel)",
   "language": "python",
   "name": "python3"
  },
  "language_info": {
   "codemirror_mode": {
    "name": "ipython",
    "version": 3
   },
   "file_extension": ".py",
   "mimetype": "text/x-python",
   "name": "python",
   "nbconvert_exporter": "python",
   "pygments_lexer": "ipython3",
   "version": "3.10.4"
  }
 },
 "nbformat": 4,
 "nbformat_minor": 5
}
