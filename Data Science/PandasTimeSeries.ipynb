{
 "cells": [
  {
   "cell_type": "markdown",
   "id": "a7e459bf",
   "metadata": {},
   "source": [
    "Podstawowe biblioteki do pracy z datami i czasem to `datetime` i `dateutil`. "
   ]
  },
  {
   "cell_type": "code",
   "execution_count": null,
   "id": "93670d90",
   "metadata": {},
   "outputs": [],
   "source": [
    "from datetime import datetime\n",
    "datetime(year=2015, month=7, day=4)"
   ]
  },
  {
   "cell_type": "markdown",
   "id": "cfab399c",
   "metadata": {},
   "source": [
    "Korzystając z `dateutil` możemy np parsować daty podane jako tekst:"
   ]
  },
  {
   "cell_type": "code",
   "execution_count": null,
   "id": "36ebb8e1",
   "metadata": {},
   "outputs": [],
   "source": [
    "from dateutil import parser\n",
    "date = parser.parse('4th of July, 2015')"
   ]
  },
  {
   "cell_type": "code",
   "execution_count": null,
   "id": "8d8a0c1b",
   "metadata": {},
   "outputs": [],
   "source": [
    "date"
   ]
  },
  {
   "cell_type": "markdown",
   "id": "e36634c1",
   "metadata": {},
   "source": [
    "A obiekty `datetime` zamieniać na string:"
   ]
  },
  {
   "cell_type": "code",
   "execution_count": null,
   "id": "05061436",
   "metadata": {},
   "outputs": [],
   "source": [
    "date.strftime('%A')"
   ]
  },
  {
   "cell_type": "markdown",
   "id": "4cf3f05c",
   "metadata": {},
   "source": [
    "https://docs.python.org/3/library/datetime.html#strftime-and-strptime-behavior"
   ]
  },
  {
   "cell_type": "markdown",
   "id": "1269d6e4",
   "metadata": {},
   "source": [
    "Ciekawą biblioteką jest również `pytz` które służy do pracy ze strefami czasowymi. "
   ]
  },
  {
   "cell_type": "markdown",
   "id": "9f6daef0",
   "metadata": {},
   "source": [
    "Obiekty `datetime` są natomiast skomplikowane w użyciu na dużą skalę."
   ]
  },
  {
   "cell_type": "markdown",
   "id": "67a34164",
   "metadata": {},
   "source": [
    "### numpy.datetime64"
   ]
  },
  {
   "cell_type": "code",
   "execution_count": null,
   "id": "4ebf75af",
   "metadata": {},
   "outputs": [],
   "source": [
    "import numpy as np"
   ]
  },
  {
   "cell_type": "code",
   "execution_count": null,
   "id": "47a0bbd3",
   "metadata": {},
   "outputs": [],
   "source": [
    "date = np.array('2015-07-04', dtype=np.datetime64)"
   ]
  },
  {
   "cell_type": "code",
   "execution_count": null,
   "id": "39c3154e",
   "metadata": {},
   "outputs": [],
   "source": [
    "date"
   ]
  },
  {
   "cell_type": "markdown",
   "id": "78bd5bf9",
   "metadata": {},
   "source": [
    "Na takim typie danym możemy wykonywać operacje wektorowe:"
   ]
  },
  {
   "cell_type": "code",
   "execution_count": null,
   "id": "c7a63b28",
   "metadata": {},
   "outputs": [],
   "source": [
    "date + np.arange(12)"
   ]
  },
  {
   "cell_type": "markdown",
   "id": "030b2023",
   "metadata": {},
   "source": [
    "Jako, że pamięc przeznaczona na pojedynczy obiekt jest stała musimy być świadomi kompromisu pomiędzy dokładnością czasu, a rozmiarem zakresu dat jaki możemy przetworzyć."
   ]
  },
  {
   "cell_type": "code",
   "execution_count": null,
   "id": "42e0d4c5",
   "metadata": {},
   "outputs": [],
   "source": [
    "np.datetime64('2015-07-04')"
   ]
  },
  {
   "cell_type": "code",
   "execution_count": null,
   "id": "6d308ec3",
   "metadata": {},
   "outputs": [],
   "source": [
    "np.datetime64('2015-07-04 12:00')"
   ]
  },
  {
   "cell_type": "code",
   "execution_count": null,
   "id": "6c3af41f",
   "metadata": {},
   "outputs": [],
   "source": [
    "np.datetime64('2015-07-04 12:59:59.50', 'ns')"
   ]
  },
  {
   "cell_type": "markdown",
   "id": "f241b4ad",
   "metadata": {},
   "source": [
    "### Jak to wygląda w Pandasie?"
   ]
  },
  {
   "cell_type": "markdown",
   "id": "c39ae652",
   "metadata": {},
   "source": [
    "Pandas stara się pogodzić oba światy dostarczając obiekt `Timestamp`"
   ]
  },
  {
   "cell_type": "code",
   "execution_count": null,
   "id": "58b485df",
   "metadata": {},
   "outputs": [],
   "source": [
    "import pandas as pd\n",
    "\n",
    "date = pd.to_datetime('4th of July, 2015')"
   ]
  },
  {
   "cell_type": "code",
   "execution_count": null,
   "id": "7833cd50",
   "metadata": {},
   "outputs": [],
   "source": [
    "date"
   ]
  },
  {
   "cell_type": "code",
   "execution_count": null,
   "id": "fdfafb80",
   "metadata": {},
   "outputs": [],
   "source": [
    "date.strftime('%A')"
   ]
  },
  {
   "cell_type": "code",
   "execution_count": null,
   "id": "deea33e4",
   "metadata": {},
   "outputs": [],
   "source": [
    "date = date + pd.to_timedelta(np.arange(12), 'D')"
   ]
  },
  {
   "cell_type": "code",
   "execution_count": null,
   "id": "9f1c6b28",
   "metadata": {},
   "outputs": [],
   "source": [
    "date"
   ]
  },
  {
   "cell_type": "markdown",
   "id": "7adefff6",
   "metadata": {},
   "source": [
    "### Indeksowanie danych czasem"
   ]
  },
  {
   "cell_type": "code",
   "execution_count": null,
   "id": "e247feb3",
   "metadata": {},
   "outputs": [],
   "source": [
    "index = pd.DatetimeIndex(['2014-07-04', '2014-08-04',\n",
    "                          '2015-07-04', '2015-08-04'])\n",
    "data = pd.Series([0, 1, 2, 3], index=index)\n",
    "data"
   ]
  },
  {
   "cell_type": "markdown",
   "id": "793efbe4",
   "metadata": {},
   "source": [
    "Możemy teraz filtrować dane korzystając z czasu:"
   ]
  },
  {
   "cell_type": "code",
   "execution_count": null,
   "id": "104e009c",
   "metadata": {},
   "outputs": [],
   "source": [
    "data['2014-07-04':'2015-07-04']"
   ]
  },
  {
   "cell_type": "markdown",
   "id": "a9283a16",
   "metadata": {},
   "source": [
    "Lub przekazując np rok:"
   ]
  },
  {
   "cell_type": "code",
   "execution_count": null,
   "id": "b8e6ba9f",
   "metadata": {},
   "outputs": [],
   "source": [
    "data['2015']"
   ]
  },
  {
   "cell_type": "markdown",
   "id": "ec3b06f4",
   "metadata": {},
   "source": [
    "Typy danych dotyczące czasu w Pandas:"
   ]
  },
  {
   "cell_type": "markdown",
   "id": "afddf756",
   "metadata": {},
   "source": [
    "- time stampy - pd.Timestamp\n",
    "- okresy - pd.Period\n",
    "- time deltas pd.Timedelta"
   ]
  },
  {
   "cell_type": "code",
   "execution_count": null,
   "id": "bbfa32ba",
   "metadata": {},
   "outputs": [],
   "source": [
    "dates = pd.to_datetime([datetime(2015, 7, 3), '4th of July, 2015',\n",
    "                       '2015-Jul-6', '07-07-2015', '20150708'])\n",
    "dates"
   ]
  },
  {
   "cell_type": "code",
   "execution_count": null,
   "id": "ee807b62",
   "metadata": {},
   "outputs": [],
   "source": [
    "dates.to_period('D')"
   ]
  },
  {
   "cell_type": "code",
   "execution_count": null,
   "id": "d31dd20e",
   "metadata": {},
   "outputs": [],
   "source": [
    "dates - dates[0]"
   ]
  },
  {
   "cell_type": "markdown",
   "id": "db9a367e",
   "metadata": {},
   "source": [
    "### Ciągi dat"
   ]
  },
  {
   "cell_type": "code",
   "execution_count": null,
   "id": "f5364b93",
   "metadata": {},
   "outputs": [],
   "source": [
    "pd.date_range('2015-07-03', '2015-07-10')"
   ]
  },
  {
   "cell_type": "code",
   "execution_count": null,
   "id": "532dff7f",
   "metadata": {},
   "outputs": [],
   "source": [
    "pd.date_range('2015-07-03', '2015-07-10', freq='H')"
   ]
  },
  {
   "cell_type": "markdown",
   "id": "3252477f",
   "metadata": {},
   "source": [
    "### Resampling, shifting, windowing"
   ]
  },
  {
   "cell_type": "code",
   "execution_count": null,
   "id": "6b766d62",
   "metadata": {},
   "outputs": [],
   "source": [
    "from pandas_datareader import data\n",
    "\n",
    "goog = data.DataReader('GOOG',\n",
    "                       start='2015',\n",
    "                       end='2020',\n",
    "                       data_source='stooq')"
   ]
  },
  {
   "cell_type": "code",
   "execution_count": null,
   "id": "a951792f",
   "metadata": {},
   "outputs": [],
   "source": [
    "goog.head()"
   ]
  },
  {
   "cell_type": "code",
   "execution_count": null,
   "id": "e80bf280",
   "metadata": {},
   "outputs": [],
   "source": [
    "goog = goog['Close']"
   ]
  },
  {
   "cell_type": "code",
   "execution_count": null,
   "id": "a6d7f4a0",
   "metadata": {},
   "outputs": [],
   "source": [
    "goog"
   ]
  },
  {
   "cell_type": "code",
   "execution_count": null,
   "id": "bde7c61c",
   "metadata": {},
   "outputs": [],
   "source": [
    "%matplotlib inline\n",
    "import matplotlib.pyplot as plt\n",
    "import seaborn; seaborn.set()"
   ]
  },
  {
   "cell_type": "code",
   "execution_count": null,
   "id": "abf4da16",
   "metadata": {},
   "outputs": [],
   "source": [
    "goog.plot();"
   ]
  },
  {
   "cell_type": "markdown",
   "id": "283cf1db",
   "metadata": {},
   "source": [
    "Pracując z danymi czasowymi często chcemy je zsamplować po różnych okresach, pomaga tu metoda `resample` lub `asfreq`"
   ]
  },
  {
   "cell_type": "code",
   "execution_count": null,
   "id": "91754f30",
   "metadata": {},
   "outputs": [],
   "source": [
    "goog"
   ]
  },
  {
   "cell_type": "code",
   "execution_count": null,
   "id": "318e3634",
   "metadata": {},
   "outputs": [],
   "source": [
    "goog.resample('BA')"
   ]
  },
  {
   "cell_type": "code",
   "execution_count": null,
   "id": "03865b5a",
   "metadata": {},
   "outputs": [],
   "source": [
    "goog.plot(alpha=0.5, style='-')\n",
    "goog.resample('BA').mean().plot(style=':')\n",
    "goog.asfreq('BA').plot(style='--')\n",
    "\n",
    "plt.legend(['input', 'resample', 'asfreq'],\n",
    "           loc='upper left');"
   ]
  },
  {
   "cell_type": "markdown",
   "id": "b3cb47e0",
   "metadata": {},
   "source": [
    "- resample - zwraca średnią z poprzedniego okresu\n",
    "- asfreq zwraca ostatnią wartość z okresu"
   ]
  },
  {
   "cell_type": "markdown",
   "id": "93e577c9",
   "metadata": {},
   "source": [
    "For up-sampling, resample() and asfreq() are largely equivalent, though resample has many more options available. In this case, the default for both methods is to leave the up-sampled points empty, that is, filled with NA values. "
   ]
  },
  {
   "cell_type": "code",
   "execution_count": null,
   "id": "9bb1ebe1",
   "metadata": {},
   "outputs": [],
   "source": [
    "fig, ax = plt.subplots(2, sharex=True)\n",
    "data = goog.iloc[:10]\n",
    "\n",
    "data.asfreq('D').plot(ax=ax[0], marker='o')\n",
    "\n",
    "data.asfreq('D', method='bfill').plot(ax=ax[1], style='-o')\n",
    "data.asfreq('D', method='ffill').plot(ax=ax[1], style='--o')\n",
    "ax[1].legend([\"back-fill\", \"forward-fill\"]);"
   ]
  },
  {
   "cell_type": "code",
   "execution_count": null,
   "id": "646403e8",
   "metadata": {},
   "outputs": [],
   "source": [
    "fig, ax = plt.subplots(2, sharey=True)\n",
    "\n",
    "# apply a frequency to the data\n",
    "goog = goog.asfreq('D', method='pad')\n",
    "\n",
    "goog.plot(ax=ax[0])\n",
    "goog.shift(900).plot(ax=ax[1]) # przesuń dane o 900 dni\n",
    "\n",
    "# legends and annotations\n",
    "local_max = pd.to_datetime('2016-11-05')\n",
    "offset = pd.Timedelta(900, 'D')\n",
    "\n",
    "ax[0].legend(['input'], loc=2)\n",
    "ax[0].get_xticklabels()[2].set(weight='heavy', color='red')\n",
    "ax[0].axvline(local_max, alpha=0.3, color='red')\n",
    "\n",
    "ax[1].legend(['shift(900)'], loc=2)\n",
    "ax[1].get_xticklabels()[2].set(weight='heavy', color='red')\n",
    "ax[1].axvline(local_max + offset, alpha=0.3, color='red')\n"
   ]
  },
  {
   "cell_type": "markdown",
   "id": "d7b4660f",
   "metadata": {},
   "source": [
    "Taka operacja przydaje się gdy chcemy policzyć różnicę w czasie. Np w ten sposób możemy policzyć roczny zwrot:"
   ]
  },
  {
   "cell_type": "code",
   "execution_count": null,
   "id": "65827bf0",
   "metadata": {},
   "outputs": [],
   "source": [
    "(goog.shift(-365) / goog - 1) * 100"
   ]
  },
  {
   "cell_type": "code",
   "execution_count": null,
   "id": "2567da70",
   "metadata": {},
   "outputs": [],
   "source": [
    "ROI = 100 * (goog.shift(-365) / goog - 1)\n",
    "ROI.plot()\n",
    "plt.ylabel('% Return on Investment');"
   ]
  },
  {
   "cell_type": "markdown",
   "id": "3572c6e8",
   "metadata": {},
   "source": [
    "### Rolling windows"
   ]
  },
  {
   "cell_type": "code",
   "execution_count": null,
   "id": "4043fce6",
   "metadata": {},
   "outputs": [],
   "source": [
    "rolling = goog.rolling(365, center=True)"
   ]
  },
  {
   "cell_type": "code",
   "execution_count": null,
   "id": "f0ad7c4a",
   "metadata": {},
   "outputs": [],
   "source": [
    "data = pd.DataFrame({'input':goog,\n",
    "                     'rolling-mean': rolling.mean(),\n",
    "                     'rolling-std': rolling.std()})"
   ]
  },
  {
   "cell_type": "code",
   "execution_count": null,
   "id": "d888c2b4",
   "metadata": {},
   "outputs": [],
   "source": [
    "data.plot(style=['-', '--', ':'])"
   ]
  },
  {
   "cell_type": "code",
   "execution_count": null,
   "id": "e3a346d8",
   "metadata": {},
   "outputs": [],
   "source": [
    "data = pd.read_csv('/Users/sapkowskis/Downloads/Fremont_Bridge_Bicycle_Counter.csv',\n",
    "                   index_col='Date',\n",
    "                   parse_dates=True)"
   ]
  },
  {
   "cell_type": "code",
   "execution_count": null,
   "id": "43a32b7d",
   "metadata": {},
   "outputs": [],
   "source": [
    "data.head()"
   ]
  },
  {
   "cell_type": "code",
   "execution_count": null,
   "id": "cc6b6e13",
   "metadata": {},
   "outputs": [],
   "source": [
    "data.columns = ['Total', 'West', 'East']"
   ]
  },
  {
   "cell_type": "code",
   "execution_count": null,
   "id": "83cbef26",
   "metadata": {},
   "outputs": [],
   "source": [
    "data.dropna().describe()"
   ]
  },
  {
   "cell_type": "code",
   "execution_count": null,
   "id": "b37a77ce",
   "metadata": {},
   "outputs": [],
   "source": [
    "data.plot()"
   ]
  },
  {
   "cell_type": "code",
   "execution_count": null,
   "id": "28251752",
   "metadata": {},
   "outputs": [],
   "source": [
    "# too dense"
   ]
  },
  {
   "cell_type": "code",
   "execution_count": null,
   "id": "c4b290e2",
   "metadata": {},
   "outputs": [],
   "source": [
    "weekly = data.resample('W').sum()"
   ]
  },
  {
   "cell_type": "code",
   "execution_count": null,
   "id": "7a6f83aa",
   "metadata": {},
   "outputs": [],
   "source": [
    "weekly.plot(style=[':', '--', '-'])"
   ]
  },
  {
   "cell_type": "code",
   "execution_count": null,
   "id": "b6ab6d88",
   "metadata": {},
   "outputs": [],
   "source": [
    "daily = data.resample('D').sum()"
   ]
  },
  {
   "cell_type": "code",
   "execution_count": null,
   "id": "5493ca10",
   "metadata": {},
   "outputs": [],
   "source": [
    "daily.rolling(30,\n",
    "              center=True,\n",
    "             ).sum().plot(style=[':', '--', '-'])"
   ]
  },
  {
   "cell_type": "code",
   "execution_count": null,
   "id": "84b7257c",
   "metadata": {},
   "outputs": [],
   "source": [
    "data.groupby(data.index.time).mean().plot()"
   ]
  },
  {
   "cell_type": "code",
   "execution_count": null,
   "id": "4a859603",
   "metadata": {},
   "outputs": [],
   "source": [
    "by_weekday = data.groupby(data.index.dayofweek).mean()\n",
    "by_weekday.index = ['Mon', 'Tues', 'Wed', 'Thurs', 'Fri', 'Sat', 'Sun']\n",
    "by_weekday.plot(style=[':', '--', '-']);"
   ]
  },
  {
   "cell_type": "code",
   "execution_count": null,
   "id": "32cb8f67",
   "metadata": {},
   "outputs": [],
   "source": [
    "weekend = np.where(data.index.weekday < 5, 'Weekday', 'Weekend')\n",
    "by_time = data.groupby([weekend, data.index.time]).mean()"
   ]
  },
  {
   "cell_type": "code",
   "execution_count": null,
   "id": "4bf3086d",
   "metadata": {},
   "outputs": [],
   "source": [
    "import matplotlib.pyplot as plt\n",
    "hourly_ticks = 4 * 60 * 60 * np.arange(6)\n",
    "\n",
    "fig, ax = plt.subplots(1, 2, figsize=(14, 5))\n",
    "by_time.loc['Weekday'].plot(ax=ax[0], title='Weekdays',\n",
    "                           xticks=hourly_ticks, style=[':', '--', '-'])\n",
    "by_time.loc['Weekend'].plot(ax=ax[1], title='Weekends',\n",
    "                           xticks=hourly_ticks, style=[':', '--', '-']);\n",
    "\n"
   ]
  },
  {
   "cell_type": "code",
   "execution_count": null,
   "id": "7e4063c6",
   "metadata": {},
   "outputs": [],
   "source": []
  }
 ],
 "metadata": {
  "kernelspec": {
   "display_name": "Python 3 (ipykernel)",
   "language": "python",
   "name": "python3"
  },
  "language_info": {
   "codemirror_mode": {
    "name": "ipython",
    "version": 3
   },
   "file_extension": ".py",
   "mimetype": "text/x-python",
   "name": "python",
   "nbconvert_exporter": "python",
   "pygments_lexer": "ipython3",
   "version": "3.10.2"
  }
 },
 "nbformat": 4,
 "nbformat_minor": 5
}
