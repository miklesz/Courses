{
 "cells": [
  {
   "cell_type": "markdown",
   "id": "79c2cb75",
   "metadata": {},
   "source": [
    "## WebScraping\n",
    "\n",
    "Jednym ze sposobów zdobywania danych jest zbieranie ich samodzielnie. Korzystając z Pythona możemy zautomatyzować ten proces. Zagadnienie to nazywa się web scrapingiem.\n",
    "\n",
    "Żeby lepiej zrozumieć na jakiej zasadzie działa web scraping musimy najpierw dowiedzieć się jakie są podstawowe zasady działania stron internetowych. \n",
    "\n",
    "Za każdym razem kiedy otwieramy stronę internetową nasza przeglądarka robi request do serwera który zwraca pewną odpowiedź. Jeżeli wszystko poszło dobrze, to zawartością tej odpowiedzi jest HTML interesującej nas strony. Może on zawierać odwołania do innych rzeczy na stronie (obrazki, dźwięki, pliki JavaScript) o które przeglądarka zrobi osobne requesty. \n",
    "\n",
    "Kiedy korzystamy z przeglądarki internetowej ciężko doprowadzić do nadużyć stron internetowych. Jednak wywołując kod w Pythonie możemy tworzyć nawet tysiące requestów na sekundę co może doprowadzić albo do zablokowania nas, albo nawet do zatkania serwera.\n",
    "\n",
    "Biblioteka z której będziemy korzystać do robienia requestów nazywa się po prostu `requests`"
   ]
  },
  {
   "cell_type": "code",
   "execution_count": 2,
   "id": "55736bf3",
   "metadata": {},
   "outputs": [],
   "source": [
    "import requests"
   ]
  },
  {
   "cell_type": "markdown",
   "id": "f9a52e26",
   "metadata": {},
   "source": [
    "### GET request"
   ]
  },
  {
   "cell_type": "markdown",
   "id": "e0c3aed1",
   "metadata": {},
   "source": [
    "Requesty typu `GET` służą do odczytywania danych. "
   ]
  },
  {
   "cell_type": "code",
   "execution_count": 3,
   "id": "c4199c4e",
   "metadata": {},
   "outputs": [
    {
     "data": {
      "text/plain": [
       "<Response [200]>"
      ]
     },
     "execution_count": 3,
     "metadata": {},
     "output_type": "execute_result"
    }
   ],
   "source": [
    "requests.get('https://api.github.com/')"
   ]
  },
  {
   "cell_type": "markdown",
   "id": "0c98eedf",
   "metadata": {},
   "source": [
    "### Response"
   ]
  },
  {
   "cell_type": "markdown",
   "id": "e9648e8a",
   "metadata": {},
   "source": [
    "Wynikiem działania requestu jest obiekt typu `Response`."
   ]
  },
  {
   "cell_type": "code",
   "execution_count": 4,
   "id": "1a3d7a50",
   "metadata": {},
   "outputs": [],
   "source": [
    "response = requests.get('https://api.github.com/')"
   ]
  },
  {
   "cell_type": "code",
   "execution_count": 5,
   "id": "c356f560",
   "metadata": {},
   "outputs": [
    {
     "data": {
      "text/plain": [
       "<Response [200]>"
      ]
     },
     "execution_count": 5,
     "metadata": {},
     "output_type": "execute_result"
    }
   ],
   "source": [
    "response"
   ]
  },
  {
   "cell_type": "markdown",
   "id": "e23d0618",
   "metadata": {},
   "source": [
    "Jednym z ważnych atrybutów `Response` jest `status_code` który mówi jaki jest wynik zapytania. Odpowiedź `200 OK` oznacza, że zapytanie było udane i dostaliśmy wynik.\n",
    "\n",
    "Znaczenia innych kodów można sprawadzić tutaj:\n",
    "https://en.wikipedia.org/wiki/List_of_HTTP_status_codes\n",
    "\n",
    "Korzystając z odpowiedzi możemy łatwo sprawdzić czy zapytanie się powiodło:"
   ]
  },
  {
   "cell_type": "code",
   "execution_count": 6,
   "id": "d9f85bfd",
   "metadata": {},
   "outputs": [
    {
     "name": "stdout",
     "output_type": "stream",
     "text": [
      "success\n"
     ]
    }
   ],
   "source": [
    "if response:\n",
    "    print(\"success\")\n",
    "else:\n",
    "    print(\"error!\")"
   ]
  },
  {
   "cell_type": "code",
   "execution_count": 7,
   "id": "98b7093b",
   "metadata": {},
   "outputs": [
    {
     "name": "stdout",
     "output_type": "stream",
     "text": [
      "Success!\n",
      "HTTP error occurred: 404 Client Error: Not Found for url: https://api.github.com/invalid\n"
     ]
    }
   ],
   "source": [
    "from requests.exceptions import HTTPError\n",
    "\n",
    "for url in ['https://api.github.com', 'https://api.github.com/invalid']:\n",
    "    try:\n",
    "        response = requests.get(url)\n",
    "\n",
    "        response.raise_for_status()\n",
    "    except HTTPError as http_err:\n",
    "        print(f'HTTP error occurred: {http_err}')\n",
    "    except Exception as err:\n",
    "        print(f'Other error occurred: {err}')\n",
    "    else:\n",
    "        print('Success!')\n"
   ]
  },
  {
   "cell_type": "markdown",
   "id": "cf8010f4",
   "metadata": {},
   "source": [
    "Aby sprawdzić zawartość odpowiedzi musimy skorzystać z atrybutu `content`"
   ]
  },
  {
   "cell_type": "code",
   "execution_count": 8,
   "id": "0c0d8d69",
   "metadata": {},
   "outputs": [],
   "source": [
    "response = requests.get('https://api.github.com')"
   ]
  },
  {
   "cell_type": "code",
   "execution_count": 9,
   "id": "35bb09f3",
   "metadata": {},
   "outputs": [
    {
     "data": {
      "text/plain": [
       "b'{\"current_user_url\":\"https://api.github.com/user\",\"current_user_authorizations_html_url\":\"https://github.com/settings/connections/applications{/client_id}\",\"authorizations_url\":\"https://api.github.com/authorizations\",\"code_search_url\":\"https://api.github.com/search/code?q={query}{&page,per_page,sort,order}\",\"commit_search_url\":\"https://api.github.com/search/commits?q={query}{&page,per_page,sort,order}\",\"emails_url\":\"https://api.github.com/user/emails\",\"emojis_url\":\"https://api.github.com/emojis\",\"events_url\":\"https://api.github.com/events\",\"feeds_url\":\"https://api.github.com/feeds\",\"followers_url\":\"https://api.github.com/user/followers\",\"following_url\":\"https://api.github.com/user/following{/target}\",\"gists_url\":\"https://api.github.com/gists{/gist_id}\",\"hub_url\":\"https://api.github.com/hub\",\"issue_search_url\":\"https://api.github.com/search/issues?q={query}{&page,per_page,sort,order}\",\"issues_url\":\"https://api.github.com/issues\",\"keys_url\":\"https://api.github.com/user/keys\",\"label_search_url\":\"https://api.github.com/search/labels?q={query}&repository_id={repository_id}{&page,per_page}\",\"notifications_url\":\"https://api.github.com/notifications\",\"organization_url\":\"https://api.github.com/orgs/{org}\",\"organization_repositories_url\":\"https://api.github.com/orgs/{org}/repos{?type,page,per_page,sort}\",\"organization_teams_url\":\"https://api.github.com/orgs/{org}/teams\",\"public_gists_url\":\"https://api.github.com/gists/public\",\"rate_limit_url\":\"https://api.github.com/rate_limit\",\"repository_url\":\"https://api.github.com/repos/{owner}/{repo}\",\"repository_search_url\":\"https://api.github.com/search/repositories?q={query}{&page,per_page,sort,order}\",\"current_user_repositories_url\":\"https://api.github.com/user/repos{?type,page,per_page,sort}\",\"starred_url\":\"https://api.github.com/user/starred{/owner}{/repo}\",\"starred_gists_url\":\"https://api.github.com/gists/starred\",\"topic_search_url\":\"https://api.github.com/search/topics?q={query}{&page,per_page}\",\"user_url\":\"https://api.github.com/users/{user}\",\"user_organizations_url\":\"https://api.github.com/user/orgs\",\"user_repositories_url\":\"https://api.github.com/users/{user}/repos{?type,page,per_page,sort}\",\"user_search_url\":\"https://api.github.com/search/users?q={query}{&page,per_page,sort,order}\"}'"
      ]
     },
     "execution_count": 9,
     "metadata": {},
     "output_type": "execute_result"
    }
   ],
   "source": [
    "response.content"
   ]
  },
  {
   "cell_type": "markdown",
   "id": "50132ab2",
   "metadata": {},
   "source": [
    "Oprócz `content` możemy również sprawdzić nagłówek odpowiedzi używając `headers`"
   ]
  },
  {
   "cell_type": "code",
   "execution_count": 10,
   "id": "a1b2ccb2",
   "metadata": {},
   "outputs": [
    {
     "data": {
      "text/plain": [
       "{'Server': 'GitHub.com', 'Date': 'Fri, 08 Oct 2021 14:25:24 GMT', 'Cache-Control': 'public, max-age=60, s-maxage=60', 'Vary': 'Accept, Accept-Encoding, Accept, X-Requested-With', 'ETag': '\"4f825cc84e1c733059d46e76e6df9db557ae5254f9625dfe8e1b09499c449438\"', 'Access-Control-Expose-Headers': 'ETag, Link, Location, Retry-After, X-GitHub-OTP, X-RateLimit-Limit, X-RateLimit-Remaining, X-RateLimit-Used, X-RateLimit-Resource, X-RateLimit-Reset, X-OAuth-Scopes, X-Accepted-OAuth-Scopes, X-Poll-Interval, X-GitHub-Media-Type, Deprecation, Sunset', 'Access-Control-Allow-Origin': '*', 'Strict-Transport-Security': 'max-age=31536000; includeSubdomains; preload', 'X-Frame-Options': 'deny', 'X-Content-Type-Options': 'nosniff', 'X-XSS-Protection': '0', 'Referrer-Policy': 'origin-when-cross-origin, strict-origin-when-cross-origin', 'Content-Security-Policy': \"default-src 'none'\", 'Content-Type': 'application/json; charset=utf-8', 'X-GitHub-Media-Type': 'github.v3; format=json', 'Content-Encoding': 'gzip', 'X-RateLimit-Limit': '60', 'X-RateLimit-Remaining': '54', 'X-RateLimit-Reset': '1633706579', 'X-RateLimit-Resource': 'core', 'X-RateLimit-Used': '6', 'Accept-Ranges': 'bytes', 'Content-Length': '510', 'X-GitHub-Request-Id': 'E85D:8A8F:4D521F:4ED0DE:616054D6'}"
      ]
     },
     "execution_count": 10,
     "metadata": {},
     "output_type": "execute_result"
    }
   ],
   "source": [
    "response.headers"
   ]
  },
  {
   "cell_type": "markdown",
   "id": "fdd08a40",
   "metadata": {},
   "source": [
    "W nagłówku znajdziemy takie informacje jak np. `Content-Type` który mówi jakiego typu jest odpowiedź:"
   ]
  },
  {
   "cell_type": "code",
   "execution_count": 12,
   "id": "a536d4cb",
   "metadata": {},
   "outputs": [
    {
     "data": {
      "text/plain": [
       "'application/json; charset=utf-8'"
      ]
     },
     "execution_count": 12,
     "metadata": {},
     "output_type": "execute_result"
    }
   ],
   "source": [
    "response.headers['Content-Type']"
   ]
  },
  {
   "cell_type": "markdown",
   "id": "32f00a7e",
   "metadata": {},
   "source": [
    "### Tworzenie zapytań do API"
   ]
  },
  {
   "cell_type": "markdown",
   "id": "47871901",
   "metadata": {},
   "source": [
    "Zapytania `GET` możemy odpowiednio parametryzować z użyciem query string. "
   ]
  },
  {
   "cell_type": "markdown",
   "id": "dc62c91b",
   "metadata": {},
   "source": [
    "Zapytanie poniżej odpytuje API Githubowe o repozytoria napisane w języku Python.\n",
    "\n",
    "Dokumentacja Github API: https://docs.github.com/en/rest"
   ]
  },
  {
   "cell_type": "code",
   "execution_count": 13,
   "id": "d8ec1faf",
   "metadata": {},
   "outputs": [
    {
     "data": {
      "text/plain": [
       "{'id': 4290214,\n",
       " 'node_id': 'MDEwOlJlcG9zaXRvcnk0MjkwMjE0',\n",
       " 'name': 'grequests',\n",
       " 'full_name': 'spyoungtech/grequests',\n",
       " 'private': False,\n",
       " 'owner': {'login': 'spyoungtech',\n",
       "  'id': 15212758,\n",
       "  'node_id': 'MDQ6VXNlcjE1MjEyNzU4',\n",
       "  'avatar_url': 'https://avatars.githubusercontent.com/u/15212758?v=4',\n",
       "  'gravatar_id': '',\n",
       "  'url': 'https://api.github.com/users/spyoungtech',\n",
       "  'html_url': 'https://github.com/spyoungtech',\n",
       "  'followers_url': 'https://api.github.com/users/spyoungtech/followers',\n",
       "  'following_url': 'https://api.github.com/users/spyoungtech/following{/other_user}',\n",
       "  'gists_url': 'https://api.github.com/users/spyoungtech/gists{/gist_id}',\n",
       "  'starred_url': 'https://api.github.com/users/spyoungtech/starred{/owner}{/repo}',\n",
       "  'subscriptions_url': 'https://api.github.com/users/spyoungtech/subscriptions',\n",
       "  'organizations_url': 'https://api.github.com/users/spyoungtech/orgs',\n",
       "  'repos_url': 'https://api.github.com/users/spyoungtech/repos',\n",
       "  'events_url': 'https://api.github.com/users/spyoungtech/events{/privacy}',\n",
       "  'received_events_url': 'https://api.github.com/users/spyoungtech/received_events',\n",
       "  'type': 'User',\n",
       "  'site_admin': False},\n",
       " 'html_url': 'https://github.com/spyoungtech/grequests',\n",
       " 'description': 'Requests + Gevent = <3',\n",
       " 'fork': False,\n",
       " 'url': 'https://api.github.com/repos/spyoungtech/grequests',\n",
       " 'forks_url': 'https://api.github.com/repos/spyoungtech/grequests/forks',\n",
       " 'keys_url': 'https://api.github.com/repos/spyoungtech/grequests/keys{/key_id}',\n",
       " 'collaborators_url': 'https://api.github.com/repos/spyoungtech/grequests/collaborators{/collaborator}',\n",
       " 'teams_url': 'https://api.github.com/repos/spyoungtech/grequests/teams',\n",
       " 'hooks_url': 'https://api.github.com/repos/spyoungtech/grequests/hooks',\n",
       " 'issue_events_url': 'https://api.github.com/repos/spyoungtech/grequests/issues/events{/number}',\n",
       " 'events_url': 'https://api.github.com/repos/spyoungtech/grequests/events',\n",
       " 'assignees_url': 'https://api.github.com/repos/spyoungtech/grequests/assignees{/user}',\n",
       " 'branches_url': 'https://api.github.com/repos/spyoungtech/grequests/branches{/branch}',\n",
       " 'tags_url': 'https://api.github.com/repos/spyoungtech/grequests/tags',\n",
       " 'blobs_url': 'https://api.github.com/repos/spyoungtech/grequests/git/blobs{/sha}',\n",
       " 'git_tags_url': 'https://api.github.com/repos/spyoungtech/grequests/git/tags{/sha}',\n",
       " 'git_refs_url': 'https://api.github.com/repos/spyoungtech/grequests/git/refs{/sha}',\n",
       " 'trees_url': 'https://api.github.com/repos/spyoungtech/grequests/git/trees{/sha}',\n",
       " 'statuses_url': 'https://api.github.com/repos/spyoungtech/grequests/statuses/{sha}',\n",
       " 'languages_url': 'https://api.github.com/repos/spyoungtech/grequests/languages',\n",
       " 'stargazers_url': 'https://api.github.com/repos/spyoungtech/grequests/stargazers',\n",
       " 'contributors_url': 'https://api.github.com/repos/spyoungtech/grequests/contributors',\n",
       " 'subscribers_url': 'https://api.github.com/repos/spyoungtech/grequests/subscribers',\n",
       " 'subscription_url': 'https://api.github.com/repos/spyoungtech/grequests/subscription',\n",
       " 'commits_url': 'https://api.github.com/repos/spyoungtech/grequests/commits{/sha}',\n",
       " 'git_commits_url': 'https://api.github.com/repos/spyoungtech/grequests/git/commits{/sha}',\n",
       " 'comments_url': 'https://api.github.com/repos/spyoungtech/grequests/comments{/number}',\n",
       " 'issue_comment_url': 'https://api.github.com/repos/spyoungtech/grequests/issues/comments{/number}',\n",
       " 'contents_url': 'https://api.github.com/repos/spyoungtech/grequests/contents/{+path}',\n",
       " 'compare_url': 'https://api.github.com/repos/spyoungtech/grequests/compare/{base}...{head}',\n",
       " 'merges_url': 'https://api.github.com/repos/spyoungtech/grequests/merges',\n",
       " 'archive_url': 'https://api.github.com/repos/spyoungtech/grequests/{archive_format}{/ref}',\n",
       " 'downloads_url': 'https://api.github.com/repos/spyoungtech/grequests/downloads',\n",
       " 'issues_url': 'https://api.github.com/repos/spyoungtech/grequests/issues{/number}',\n",
       " 'pulls_url': 'https://api.github.com/repos/spyoungtech/grequests/pulls{/number}',\n",
       " 'milestones_url': 'https://api.github.com/repos/spyoungtech/grequests/milestones{/number}',\n",
       " 'notifications_url': 'https://api.github.com/repos/spyoungtech/grequests/notifications{?since,all,participating}',\n",
       " 'labels_url': 'https://api.github.com/repos/spyoungtech/grequests/labels{/name}',\n",
       " 'releases_url': 'https://api.github.com/repos/spyoungtech/grequests/releases{/id}',\n",
       " 'deployments_url': 'https://api.github.com/repos/spyoungtech/grequests/deployments',\n",
       " 'created_at': '2012-05-10T21:50:15Z',\n",
       " 'updated_at': '2021-10-08T10:54:16Z',\n",
       " 'pushed_at': '2021-10-04T17:48:26Z',\n",
       " 'git_url': 'git://github.com/spyoungtech/grequests.git',\n",
       " 'ssh_url': 'git@github.com:spyoungtech/grequests.git',\n",
       " 'clone_url': 'https://github.com/spyoungtech/grequests.git',\n",
       " 'svn_url': 'https://github.com/spyoungtech/grequests',\n",
       " 'homepage': 'https://pypi.python.org/pypi/grequests',\n",
       " 'size': 57,\n",
       " 'stargazers_count': 3873,\n",
       " 'watchers_count': 3873,\n",
       " 'language': 'Python',\n",
       " 'has_issues': True,\n",
       " 'has_projects': True,\n",
       " 'has_downloads': True,\n",
       " 'has_wiki': True,\n",
       " 'has_pages': False,\n",
       " 'forks_count': 335,\n",
       " 'mirror_url': None,\n",
       " 'archived': False,\n",
       " 'disabled': False,\n",
       " 'open_issues_count': 9,\n",
       " 'license': {'key': 'bsd-2-clause',\n",
       "  'name': 'BSD 2-Clause \"Simplified\" License',\n",
       "  'spdx_id': 'BSD-2-Clause',\n",
       "  'url': 'https://api.github.com/licenses/bsd-2-clause',\n",
       "  'node_id': 'MDc6TGljZW5zZTQ='},\n",
       " 'allow_forking': True,\n",
       " 'is_template': False,\n",
       " 'topics': [],\n",
       " 'visibility': 'public',\n",
       " 'forks': 335,\n",
       " 'open_issues': 9,\n",
       " 'watchers': 3873,\n",
       " 'default_branch': 'master',\n",
       " 'score': 1.0}"
      ]
     },
     "execution_count": 13,
     "metadata": {},
     "output_type": "execute_result"
    }
   ],
   "source": [
    "response = requests.get(\n",
    "    'https://api.github.com/search/repositories',\n",
    "    params={'q': 'requests+language:python'},\n",
    ")\n",
    "\n",
    "json_response = response.json()\n",
    "repository = json_response['items'][0]\n",
    "\n",
    "repository"
   ]
  },
  {
   "cell_type": "markdown",
   "id": "263f9e1c",
   "metadata": {},
   "source": [
    "### POST requests"
   ]
  },
  {
   "cell_type": "markdown",
   "id": "fb313e06",
   "metadata": {},
   "source": [
    "Zapytania typu POST służą do przesyłania danych podczas zapytań. W tym przypadku powinniśmy przekazać dane w `body` a nie jako query string. W `requests` służy do tego parametr `data` lub `json`"
   ]
  },
  {
   "cell_type": "code",
   "execution_count": 14,
   "id": "4d360c2d",
   "metadata": {},
   "outputs": [],
   "source": [
    "response = requests.post('https://httpbin.org/post', data={'key':'value'})"
   ]
  },
  {
   "cell_type": "code",
   "execution_count": 15,
   "id": "a47cfe88",
   "metadata": {},
   "outputs": [
    {
     "data": {
      "text/plain": [
       "b'{\\n  \"args\": {}, \\n  \"data\": \"\", \\n  \"files\": {}, \\n  \"form\": {\\n    \"key\": \"value\"\\n  }, \\n  \"headers\": {\\n    \"Accept\": \"*/*\", \\n    \"Accept-Encoding\": \"gzip, deflate\", \\n    \"Content-Length\": \"9\", \\n    \"Content-Type\": \"application/x-www-form-urlencoded\", \\n    \"Host\": \"httpbin.org\", \\n    \"User-Agent\": \"python-requests/2.26.0\", \\n    \"X-Amzn-Trace-Id\": \"Root=1-61605530-765873e9738d02c12bb1c1ea\"\\n  }, \\n  \"json\": null, \\n  \"origin\": \"82.84.248.139\", \\n  \"url\": \"https://httpbin.org/post\"\\n}\\n'"
      ]
     },
     "execution_count": 15,
     "metadata": {},
     "output_type": "execute_result"
    }
   ],
   "source": [
    "response.content"
   ]
  },
  {
   "cell_type": "markdown",
   "id": "0e5bdc84",
   "metadata": {},
   "source": [
    "### Timeout\n",
    "\n",
    "Kiedy robimy zapytanie do zewnętrznego serwisu musimy poczekać na jego odpowiedź. Może zdarzyć się sytuacja, że serwis nie odpowiada - aby zabezpieczyć się przed tym możemy skorzystać z parametru `timeout`."
   ]
  },
  {
   "cell_type": "code",
   "execution_count": 16,
   "id": "0b1aba02",
   "metadata": {},
   "outputs": [
    {
     "data": {
      "text/plain": [
       "<Response [200]>"
      ]
     },
     "execution_count": 16,
     "metadata": {},
     "output_type": "execute_result"
    }
   ],
   "source": [
    "requests.get('https://api.github.com', timeout=1)\n",
    "requests.get('https://api.github.com', timeout=3.05)"
   ]
  },
  {
   "cell_type": "markdown",
   "id": "52f305f8",
   "metadata": {},
   "source": [
    "### Zapisywanie HTML do pliku:\n",
    "\n",
    "Aby nie nadużywać zasobów strony i nie zostać zablokowanym dobrym pomysłem jest zapisywanie sobie odpowiedzi HTMLowych do pliku i pracowanie na nich offline:"
   ]
  },
  {
   "cell_type": "code",
   "execution_count": 17,
   "id": "df47eb54",
   "metadata": {},
   "outputs": [],
   "source": [
    "r = requests.get('https://api.github.com', timeout=1)"
   ]
  },
  {
   "cell_type": "code",
   "execution_count": 18,
   "id": "460f44b0",
   "metadata": {},
   "outputs": [],
   "source": [
    "def save_html(html, path):\n",
    "    with open(path, 'wb') as f:\n",
    "        f.write(html)\n",
    "        \n",
    "        \n",
    "save_html(r.content, 'github_com')"
   ]
  },
  {
   "cell_type": "code",
   "execution_count": 19,
   "id": "88c2e660",
   "metadata": {},
   "outputs": [],
   "source": [
    "def open_html(path):\n",
    "    with open(path, 'rb') as f:\n",
    "        return f.read()\n",
    "    \n",
    "    \n",
    "html = open_html('github_com')\n"
   ]
  },
  {
   "cell_type": "markdown",
   "id": "7de0ce4a",
   "metadata": {},
   "source": [
    "### Odczytywanie HTML strony internetowej:"
   ]
  },
  {
   "cell_type": "code",
   "execution_count": 20,
   "id": "6b8c1477",
   "metadata": {},
   "outputs": [
    {
     "name": "stdout",
     "output_type": "stream",
     "text": [
      "b'<!DOCTYPE html>\\n<html>\\n    <head>\\n        <title>A simple example page</title>\\n    </head>\\n    <body'\n"
     ]
    }
   ],
   "source": [
    "import requests\n",
    "\n",
    "url = 'https://dataquestio.github.io/web-scraping-pages/simple.html'\n",
    "\n",
    "r = requests.get(url)\n",
    "\n",
    "print(r.content[:100])\n"
   ]
  },
  {
   "cell_type": "markdown",
   "id": "32c64f37",
   "metadata": {},
   "source": [
    "### BeautifulSoup\n",
    "\n",
    "Używając `requests` możemy otrzymać HTML danej strony internetowej. Jednak zwykle otrzymane dane będą bardzo skomplikowane i rozbudowane i odczytywanie danych z nich ręcznie może być mocno upierdliwe. Aby ułatwić sobie tą pracę możemy skorzystać z pakietu `beautifulsoup4`, który pozwala nam parsować pliki HTML i XML."
   ]
  },
  {
   "cell_type": "code",
   "execution_count": 21,
   "id": "f4d6950c",
   "metadata": {},
   "outputs": [],
   "source": [
    "from bs4 import BeautifulSoup\n",
    "soup = BeautifulSoup(r.content, 'html.parser')"
   ]
  },
  {
   "cell_type": "code",
   "execution_count": 22,
   "id": "d963b7ec",
   "metadata": {},
   "outputs": [
    {
     "name": "stdout",
     "output_type": "stream",
     "text": [
      "<!DOCTYPE html>\n",
      "<html>\n",
      " <head>\n",
      "  <title>\n",
      "   A simple example page\n",
      "  </title>\n",
      " </head>\n",
      " <body>\n",
      "  <p>\n",
      "   Here is some simple content for this page.\n",
      "  </p>\n",
      " </body>\n",
      "</html>\n"
     ]
    }
   ],
   "source": [
    "print(soup.prettify())"
   ]
  },
  {
   "cell_type": "markdown",
   "id": "3b3a8fd0",
   "metadata": {},
   "source": [
    "Korzystając z atrybutu `children` możemy przeglądać rekursywnie obiekty HTML:"
   ]
  },
  {
   "cell_type": "code",
   "execution_count": 27,
   "id": "c421f924",
   "metadata": {},
   "outputs": [
    {
     "data": {
      "text/plain": [
       "['html',\n",
       " '\\n',\n",
       " <html>\n",
       " <head>\n",
       " <title>A simple example page</title>\n",
       " </head>\n",
       " <body>\n",
       " <p>Here is some simple content for this page.</p>\n",
       " </body>\n",
       " </html>]"
      ]
     },
     "execution_count": 27,
     "metadata": {},
     "output_type": "execute_result"
    }
   ],
   "source": [
    "list(soup.children)"
   ]
  },
  {
   "cell_type": "code",
   "execution_count": 28,
   "id": "64621b0d",
   "metadata": {},
   "outputs": [
    {
     "data": {
      "text/plain": [
       "[bs4.element.Doctype, bs4.element.NavigableString, bs4.element.Tag]"
      ]
     },
     "execution_count": 28,
     "metadata": {},
     "output_type": "execute_result"
    }
   ],
   "source": [
    "[type(item) for item in soup.children]"
   ]
  },
  {
   "cell_type": "markdown",
   "id": "cd9cf717",
   "metadata": {},
   "source": [
    "W tym przypadku interesuje nas trzeci element listy reprezentujący tag `<html>`"
   ]
  },
  {
   "cell_type": "code",
   "execution_count": 29,
   "id": "8c763e78",
   "metadata": {},
   "outputs": [],
   "source": [
    "html = list(soup.children)[2]"
   ]
  },
  {
   "cell_type": "code",
   "execution_count": 25,
   "id": "f28f9705",
   "metadata": {},
   "outputs": [
    {
     "data": {
      "text/plain": [
       "['\\n',\n",
       " <head>\n",
       " <title>A simple example page</title>\n",
       " </head>,\n",
       " '\\n',\n",
       " <body>\n",
       " <p>Here is some simple content for this page.</p>\n",
       " </body>,\n",
       " '\\n']"
      ]
     },
     "execution_count": 25,
     "metadata": {},
     "output_type": "execute_result"
    }
   ],
   "source": [
    "list(html.children)"
   ]
  },
  {
   "cell_type": "markdown",
   "id": "f2b10b7a",
   "metadata": {},
   "source": [
    "Analogicznie wyciągamy tag `<body>`:"
   ]
  },
  {
   "cell_type": "code",
   "execution_count": 31,
   "id": "a4bbf011",
   "metadata": {},
   "outputs": [],
   "source": [
    "body = list(html.children)[3]"
   ]
  },
  {
   "cell_type": "markdown",
   "id": "ed3d622a",
   "metadata": {},
   "source": [
    "Skąd w łatwy sposób dostajemy się do tekstu:"
   ]
  },
  {
   "cell_type": "code",
   "execution_count": 32,
   "id": "69bfcf6c",
   "metadata": {},
   "outputs": [
    {
     "data": {
      "text/plain": [
       "['\\n', <p>Here is some simple content for this page.</p>, '\\n']"
      ]
     },
     "execution_count": 32,
     "metadata": {},
     "output_type": "execute_result"
    }
   ],
   "source": [
    "list(body.children)"
   ]
  },
  {
   "cell_type": "code",
   "execution_count": 33,
   "id": "8616027b",
   "metadata": {},
   "outputs": [],
   "source": [
    "p = list(body.children)[1]"
   ]
  },
  {
   "cell_type": "code",
   "execution_count": 34,
   "id": "0a20b720",
   "metadata": {},
   "outputs": [
    {
     "data": {
      "text/plain": [
       "'Here is some simple content for this page.'"
      ]
     },
     "execution_count": 34,
     "metadata": {},
     "output_type": "execute_result"
    }
   ],
   "source": [
    "p.get_text()"
   ]
  },
  {
   "cell_type": "markdown",
   "id": "c512d55f",
   "metadata": {},
   "source": [
    "Aby nie musieć manualnie szukać rzeczy na stronie `bs4` udostępnia metody pozwalające na szukanie obiektów po tagu lub klasie css:"
   ]
  },
  {
   "cell_type": "code",
   "execution_count": 36,
   "id": "5e73926d",
   "metadata": {},
   "outputs": [
    {
     "data": {
      "text/plain": [
       "[<p>Here is some simple content for this page.</p>]"
      ]
     },
     "execution_count": 36,
     "metadata": {},
     "output_type": "execute_result"
    }
   ],
   "source": [
    "soup = BeautifulSoup(r.content, 'html.parser')\n",
    "soup.find_all('p')  # znajdź wszystkie elementy z tagiem <p>"
   ]
  },
  {
   "cell_type": "code",
   "execution_count": 37,
   "id": "1b867bff",
   "metadata": {},
   "outputs": [
    {
     "data": {
      "text/plain": [
       "'Here is some simple content for this page.'"
      ]
     },
     "execution_count": 37,
     "metadata": {},
     "output_type": "execute_result"
    }
   ],
   "source": [
    "soup.find_all('p')[0].get_text()"
   ]
  },
  {
   "cell_type": "code",
   "execution_count": 38,
   "id": "31b93a17",
   "metadata": {},
   "outputs": [
    {
     "data": {
      "text/plain": [
       "<html>\n",
       "<head>\n",
       "<title>A simple example page</title>\n",
       "</head>\n",
       "<body>\n",
       "<div>\n",
       "<p class=\"inner-text first-item\" id=\"first\">\n",
       "                First paragraph.\n",
       "            </p>\n",
       "<p class=\"inner-text\">\n",
       "                Second paragraph.\n",
       "            </p>\n",
       "</div>\n",
       "<p class=\"outer-text first-item\" id=\"second\">\n",
       "<b>\n",
       "                First outer paragraph.\n",
       "            </b>\n",
       "</p>\n",
       "<p class=\"outer-text\">\n",
       "<b>\n",
       "                Second outer paragraph.\n",
       "            </b>\n",
       "</p>\n",
       "</body>\n",
       "</html>"
      ]
     },
     "execution_count": 38,
     "metadata": {},
     "output_type": "execute_result"
    }
   ],
   "source": [
    "page = requests.get(\"https://dataquestio.github.io/web-scraping-pages/ids_and_classes.html\")\n",
    "soup = BeautifulSoup(page.content, 'html.parser')\n",
    "soup"
   ]
  },
  {
   "cell_type": "markdown",
   "id": "11df123a",
   "metadata": {},
   "source": [
    "Znajdowanie obiektów z tagiem `<p>` i klasą `outer-text`:"
   ]
  },
  {
   "cell_type": "code",
   "execution_count": 55,
   "id": "409604e6",
   "metadata": {},
   "outputs": [
    {
     "data": {
      "text/plain": [
       "[<p class=\"outer-text first-item\" id=\"second\">\n",
       " <b>\n",
       "                 First outer paragraph.\n",
       "             </b>\n",
       " </p>,\n",
       " <p class=\"outer-text\">\n",
       " <b>\n",
       "                 Second outer paragraph.\n",
       "             </b>\n",
       " </p>]"
      ]
     },
     "execution_count": 55,
     "metadata": {},
     "output_type": "execute_result"
    }
   ],
   "source": [
    "soup.find_all('p', class_='outer-text')"
   ]
  },
  {
   "cell_type": "code",
   "execution_count": 56,
   "id": "1d64525e",
   "metadata": {},
   "outputs": [
    {
     "data": {
      "text/plain": [
       "[<p class=\"outer-text first-item\" id=\"second\">\n",
       " <b>\n",
       "                 First outer paragraph.\n",
       "             </b>\n",
       " </p>,\n",
       " <p class=\"outer-text\">\n",
       " <b>\n",
       "                 Second outer paragraph.\n",
       "             </b>\n",
       " </p>]"
      ]
     },
     "execution_count": 56,
     "metadata": {},
     "output_type": "execute_result"
    }
   ],
   "source": [
    "soup.find_all(class_=\"outer-text\")"
   ]
  },
  {
   "cell_type": "code",
   "execution_count": 57,
   "id": "ee7bd276",
   "metadata": {},
   "outputs": [
    {
     "data": {
      "text/plain": [
       "[<p class=\"inner-text first-item\" id=\"first\">\n",
       "                 First paragraph.\n",
       "             </p>,\n",
       " <p class=\"inner-text\">\n",
       "                 Second paragraph.\n",
       "             </p>]"
      ]
     },
     "execution_count": 57,
     "metadata": {},
     "output_type": "execute_result"
    }
   ],
   "source": [
    "soup.select(\"div p\")"
   ]
  },
  {
   "cell_type": "markdown",
   "id": "518a86f0",
   "metadata": {},
   "source": [
    "### Scraping strony internetowej z pogodą\n",
    "\n",
    "Spróbujemy zescrapować pogodę na następne 7 dni w San Francisco.\n",
    "Skorzystamy ze strony:\n",
    "https://forecast.weather.gov/MapClick.php?lat=37.7772&lon=-122.4168\n",
    "\n",
    "Analizując jej źródła zobaczymy, że interesuje nas część otagowana `seven-day-forecast`. Poszczególne prognozy są oznaczone klasą `tombstone-container`."
   ]
  },
  {
   "cell_type": "code",
   "execution_count": 39,
   "id": "e0910919",
   "metadata": {},
   "outputs": [
    {
     "name": "stdout",
     "output_type": "stream",
     "text": [
      "<div class=\"tombstone-container\">\n",
      " <p class=\"period-name\">\n",
      "  Today\n",
      "  <br/>\n",
      "  <br/>\n",
      " </p>\n",
      " <p>\n",
      "  <img alt=\"Today: Mostly cloudy, then gradually becoming sunny, with a high near 64. Breezy, with a west wind 15 to 24 mph, with gusts as high as 31 mph. \" class=\"forecast-icon\" src=\"DualImage.php?i=sct&amp;j=wind_few\" title=\"Today: Mostly cloudy, then gradually becoming sunny, with a high near 64. Breezy, with a west wind 15 to 24 mph, with gusts as high as 31 mph. \"/>\n",
      " </p>\n",
      " <p class=\"short-desc\">\n",
      "  Mostly Sunny\n",
      "  <br/>\n",
      "  then Sunny\n",
      "  <br/>\n",
      "  and Breezy\n",
      " </p>\n",
      " <p class=\"temp temp-high\">\n",
      "  High: 64 °F\n",
      " </p>\n",
      "</div>\n"
     ]
    }
   ],
   "source": [
    "page = requests.get(\"https://forecast.weather.gov/MapClick.php?lat=37.7772&lon=-122.4168\")\n",
    "soup = BeautifulSoup(page.content, 'html.parser')\n",
    "seven_day = soup.find(id=\"seven-day-forecast\")\n",
    "forecast_items = seven_day.find_all(class_=\"tombstone-container\")\n",
    "tonight = forecast_items[0]\n",
    "print(tonight.prettify())"
   ]
  },
  {
   "cell_type": "code",
   "execution_count": 40,
   "id": "4484af2e",
   "metadata": {},
   "outputs": [
    {
     "data": {
      "text/plain": [
       "['Today',\n",
       " 'Tonight',\n",
       " 'Saturday',\n",
       " 'SaturdayNight',\n",
       " 'Sunday',\n",
       " 'SundayNight',\n",
       " 'ColumbusDay',\n",
       " 'MondayNight',\n",
       " 'Tuesday']"
      ]
     },
     "execution_count": 40,
     "metadata": {},
     "output_type": "execute_result"
    }
   ],
   "source": [
    "period_tags = seven_day.select(\".tombstone-container .period-name\")\n",
    "periods = [pt.get_text() for pt in period_tags]\n",
    "periods"
   ]
  },
  {
   "cell_type": "markdown",
   "id": "053011e0",
   "metadata": {},
   "source": [
    "Korzystając z różnych klas możemy wyciągnąć poszczególne informacje:"
   ]
  },
  {
   "cell_type": "code",
   "execution_count": 41,
   "id": "703fe8b5",
   "metadata": {},
   "outputs": [
    {
     "name": "stdout",
     "output_type": "stream",
     "text": [
      "['Mostly Sunnythen Sunnyand Breezy', 'ChanceShowers', 'Slight ChanceShowers thenSunny', 'Mostly Clear', 'Sunny', 'Mostly Clear', 'Sunny', 'Mostly Clear', 'Sunny']\n",
      "['High: 64 °F', 'Low: 59 °F', 'High: 69 °F', 'Low: 54 °F', 'High: 69 °F', 'Low: 53 °F', 'High: 67 °F', 'Low: 54 °F', 'High: 70 °F']\n",
      "['Today: Mostly cloudy, then gradually becoming sunny, with a high near 64. Breezy, with a west wind 15 to 24 mph, with gusts as high as 31 mph. ', 'Tonight: A 40 percent chance of showers, mainly after 11pm.  Mostly cloudy, with a steady temperature around 59. West wind 15 to 20 mph decreasing to 5 to 10 mph after midnight. Winds could gust as high as 25 mph. ', 'Saturday: A 20 percent chance of showers before 11am.  Mostly cloudy through mid morning, then gradual clearing, with a high near 69. East southeast wind 5 to 8 mph becoming calm. ', 'Saturday Night: Mostly clear, with a low around 54. West southwest wind 13 to 18 mph decreasing to 5 to 10 mph after midnight. Winds could gust as high as 24 mph. ', 'Sunday: Sunny, with a high near 69. West wind 9 to 13 mph. ', 'Sunday Night: Mostly clear, with a low around 53.', 'Columbus Day: Sunny, with a high near 67.', 'Monday Night: Mostly clear, with a low around 54.', 'Tuesday: Sunny, with a high near 70.']\n"
     ]
    }
   ],
   "source": [
    "short_descs = [sd.get_text() for sd in seven_day.select(\".tombstone-container .short-desc\")]\n",
    "temps = [t.get_text() for t in seven_day.select(\".tombstone-container .temp\")]\n",
    "descs = [d[\"title\"] for d in seven_day.select(\".tombstone-container img\")]\n",
    "print(short_descs)\n",
    "print(temps)\n",
    "print(descs)"
   ]
  },
  {
   "cell_type": "markdown",
   "id": "5d0ab3dc",
   "metadata": {},
   "source": [
    "Tak zdobyte wyniki możemy wrzucić do pandas i stworzyć z nich DataFrame:"
   ]
  },
  {
   "cell_type": "code",
   "execution_count": 42,
   "id": "1dddfad6",
   "metadata": {},
   "outputs": [
    {
     "data": {
      "text/html": [
       "<div>\n",
       "<style scoped>\n",
       "    .dataframe tbody tr th:only-of-type {\n",
       "        vertical-align: middle;\n",
       "    }\n",
       "\n",
       "    .dataframe tbody tr th {\n",
       "        vertical-align: top;\n",
       "    }\n",
       "\n",
       "    .dataframe thead th {\n",
       "        text-align: right;\n",
       "    }\n",
       "</style>\n",
       "<table border=\"1\" class=\"dataframe\">\n",
       "  <thead>\n",
       "    <tr style=\"text-align: right;\">\n",
       "      <th></th>\n",
       "      <th>period</th>\n",
       "      <th>short_desc</th>\n",
       "      <th>temp</th>\n",
       "      <th>desc</th>\n",
       "    </tr>\n",
       "  </thead>\n",
       "  <tbody>\n",
       "    <tr>\n",
       "      <th>0</th>\n",
       "      <td>Today</td>\n",
       "      <td>Mostly Sunnythen Sunnyand Breezy</td>\n",
       "      <td>High: 64 °F</td>\n",
       "      <td>Today: Mostly cloudy, then gradually becoming ...</td>\n",
       "    </tr>\n",
       "    <tr>\n",
       "      <th>1</th>\n",
       "      <td>Tonight</td>\n",
       "      <td>ChanceShowers</td>\n",
       "      <td>Low: 59 °F</td>\n",
       "      <td>Tonight: A 40 percent chance of showers, mainl...</td>\n",
       "    </tr>\n",
       "    <tr>\n",
       "      <th>2</th>\n",
       "      <td>Saturday</td>\n",
       "      <td>Slight ChanceShowers thenSunny</td>\n",
       "      <td>High: 69 °F</td>\n",
       "      <td>Saturday: A 20 percent chance of showers befor...</td>\n",
       "    </tr>\n",
       "    <tr>\n",
       "      <th>3</th>\n",
       "      <td>SaturdayNight</td>\n",
       "      <td>Mostly Clear</td>\n",
       "      <td>Low: 54 °F</td>\n",
       "      <td>Saturday Night: Mostly clear, with a low aroun...</td>\n",
       "    </tr>\n",
       "    <tr>\n",
       "      <th>4</th>\n",
       "      <td>Sunday</td>\n",
       "      <td>Sunny</td>\n",
       "      <td>High: 69 °F</td>\n",
       "      <td>Sunday: Sunny, with a high near 69. West wind ...</td>\n",
       "    </tr>\n",
       "    <tr>\n",
       "      <th>5</th>\n",
       "      <td>SundayNight</td>\n",
       "      <td>Mostly Clear</td>\n",
       "      <td>Low: 53 °F</td>\n",
       "      <td>Sunday Night: Mostly clear, with a low around 53.</td>\n",
       "    </tr>\n",
       "    <tr>\n",
       "      <th>6</th>\n",
       "      <td>ColumbusDay</td>\n",
       "      <td>Sunny</td>\n",
       "      <td>High: 67 °F</td>\n",
       "      <td>Columbus Day: Sunny, with a high near 67.</td>\n",
       "    </tr>\n",
       "    <tr>\n",
       "      <th>7</th>\n",
       "      <td>MondayNight</td>\n",
       "      <td>Mostly Clear</td>\n",
       "      <td>Low: 54 °F</td>\n",
       "      <td>Monday Night: Mostly clear, with a low around 54.</td>\n",
       "    </tr>\n",
       "    <tr>\n",
       "      <th>8</th>\n",
       "      <td>Tuesday</td>\n",
       "      <td>Sunny</td>\n",
       "      <td>High: 70 °F</td>\n",
       "      <td>Tuesday: Sunny, with a high near 70.</td>\n",
       "    </tr>\n",
       "  </tbody>\n",
       "</table>\n",
       "</div>"
      ],
      "text/plain": [
       "          period                        short_desc         temp  \\\n",
       "0          Today  Mostly Sunnythen Sunnyand Breezy  High: 64 °F   \n",
       "1        Tonight                     ChanceShowers   Low: 59 °F   \n",
       "2       Saturday    Slight ChanceShowers thenSunny  High: 69 °F   \n",
       "3  SaturdayNight                      Mostly Clear   Low: 54 °F   \n",
       "4         Sunday                             Sunny  High: 69 °F   \n",
       "5    SundayNight                      Mostly Clear   Low: 53 °F   \n",
       "6    ColumbusDay                             Sunny  High: 67 °F   \n",
       "7    MondayNight                      Mostly Clear   Low: 54 °F   \n",
       "8        Tuesday                             Sunny  High: 70 °F   \n",
       "\n",
       "                                                desc  \n",
       "0  Today: Mostly cloudy, then gradually becoming ...  \n",
       "1  Tonight: A 40 percent chance of showers, mainl...  \n",
       "2  Saturday: A 20 percent chance of showers befor...  \n",
       "3  Saturday Night: Mostly clear, with a low aroun...  \n",
       "4  Sunday: Sunny, with a high near 69. West wind ...  \n",
       "5  Sunday Night: Mostly clear, with a low around 53.  \n",
       "6          Columbus Day: Sunny, with a high near 67.  \n",
       "7  Monday Night: Mostly clear, with a low around 54.  \n",
       "8               Tuesday: Sunny, with a high near 70.  "
      ]
     },
     "execution_count": 42,
     "metadata": {},
     "output_type": "execute_result"
    }
   ],
   "source": [
    "import pandas as pd\n",
    "weather = pd.DataFrame({\n",
    "    \"period\": periods,\n",
    "    \"short_desc\": short_descs,\n",
    "    \"temp\": temps,\n",
    "    \"desc\":descs\n",
    "})\n",
    "weather"
   ]
  },
  {
   "cell_type": "markdown",
   "id": "e542adfd",
   "metadata": {},
   "source": [
    "Spróbujemy dostać się do temperatury - skorzystamy tutaj z wyrażeń regularnych:\n",
    "\n",
    "Więcej o wyrażeniach regularnych: https://regexone.com/"
   ]
  },
  {
   "cell_type": "code",
   "execution_count": 43,
   "id": "7adbd34d",
   "metadata": {},
   "outputs": [
    {
     "data": {
      "text/plain": [
       "0    64\n",
       "1    59\n",
       "2    69\n",
       "3    54\n",
       "4    69\n",
       "5    53\n",
       "6    67\n",
       "7    54\n",
       "8    70\n",
       "Name: temp, dtype: object"
      ]
     },
     "execution_count": 43,
     "metadata": {},
     "output_type": "execute_result"
    }
   ],
   "source": [
    "temp_nums = weather[\"temp\"].str.extract(\"(\\d+)\", expand=False)\n",
    "weather[\"temp_num\"] = temp_nums.astype('int')\n",
    "temp_nums"
   ]
  },
  {
   "cell_type": "markdown",
   "id": "007a7b93",
   "metadata": {},
   "source": [
    "Aby znaleźć prognozy tylko dla nocy możemy skorzystać z kolumny `temp` i wyciągnąc wiersze w których znajduje się słowo \"Low\"."
   ]
  },
  {
   "cell_type": "code",
   "execution_count": 45,
   "id": "d299d5ee",
   "metadata": {},
   "outputs": [
    {
     "data": {
      "text/plain": [
       "0    False\n",
       "1     True\n",
       "2    False\n",
       "3     True\n",
       "4    False\n",
       "5     True\n",
       "6    False\n",
       "7     True\n",
       "8    False\n",
       "Name: temp, dtype: bool"
      ]
     },
     "execution_count": 45,
     "metadata": {},
     "output_type": "execute_result"
    }
   ],
   "source": [
    "is_night = weather[\"temp\"].str.contains(\"Low\")\n",
    "weather[\"is_night\"] = is_night\n",
    "is_night"
   ]
  },
  {
   "cell_type": "code",
   "execution_count": 46,
   "id": "706cd40e",
   "metadata": {},
   "outputs": [
    {
     "data": {
      "text/html": [
       "<div>\n",
       "<style scoped>\n",
       "    .dataframe tbody tr th:only-of-type {\n",
       "        vertical-align: middle;\n",
       "    }\n",
       "\n",
       "    .dataframe tbody tr th {\n",
       "        vertical-align: top;\n",
       "    }\n",
       "\n",
       "    .dataframe thead th {\n",
       "        text-align: right;\n",
       "    }\n",
       "</style>\n",
       "<table border=\"1\" class=\"dataframe\">\n",
       "  <thead>\n",
       "    <tr style=\"text-align: right;\">\n",
       "      <th></th>\n",
       "      <th>period</th>\n",
       "      <th>short_desc</th>\n",
       "      <th>temp</th>\n",
       "      <th>desc</th>\n",
       "      <th>temp_num</th>\n",
       "      <th>is_night</th>\n",
       "    </tr>\n",
       "  </thead>\n",
       "  <tbody>\n",
       "    <tr>\n",
       "      <th>1</th>\n",
       "      <td>Tonight</td>\n",
       "      <td>ChanceShowers</td>\n",
       "      <td>Low: 59 °F</td>\n",
       "      <td>Tonight: A 40 percent chance of showers, mainl...</td>\n",
       "      <td>59</td>\n",
       "      <td>True</td>\n",
       "    </tr>\n",
       "    <tr>\n",
       "      <th>3</th>\n",
       "      <td>SaturdayNight</td>\n",
       "      <td>Mostly Clear</td>\n",
       "      <td>Low: 54 °F</td>\n",
       "      <td>Saturday Night: Mostly clear, with a low aroun...</td>\n",
       "      <td>54</td>\n",
       "      <td>True</td>\n",
       "    </tr>\n",
       "    <tr>\n",
       "      <th>5</th>\n",
       "      <td>SundayNight</td>\n",
       "      <td>Mostly Clear</td>\n",
       "      <td>Low: 53 °F</td>\n",
       "      <td>Sunday Night: Mostly clear, with a low around 53.</td>\n",
       "      <td>53</td>\n",
       "      <td>True</td>\n",
       "    </tr>\n",
       "    <tr>\n",
       "      <th>7</th>\n",
       "      <td>MondayNight</td>\n",
       "      <td>Mostly Clear</td>\n",
       "      <td>Low: 54 °F</td>\n",
       "      <td>Monday Night: Mostly clear, with a low around 54.</td>\n",
       "      <td>54</td>\n",
       "      <td>True</td>\n",
       "    </tr>\n",
       "  </tbody>\n",
       "</table>\n",
       "</div>"
      ],
      "text/plain": [
       "          period     short_desc        temp  \\\n",
       "1        Tonight  ChanceShowers  Low: 59 °F   \n",
       "3  SaturdayNight   Mostly Clear  Low: 54 °F   \n",
       "5    SundayNight   Mostly Clear  Low: 53 °F   \n",
       "7    MondayNight   Mostly Clear  Low: 54 °F   \n",
       "\n",
       "                                                desc  temp_num  is_night  \n",
       "1  Tonight: A 40 percent chance of showers, mainl...        59      True  \n",
       "3  Saturday Night: Mostly clear, with a low aroun...        54      True  \n",
       "5  Sunday Night: Mostly clear, with a low around 53.        53      True  \n",
       "7  Monday Night: Mostly clear, with a low around 54.        54      True  "
      ]
     },
     "execution_count": 46,
     "metadata": {},
     "output_type": "execute_result"
    }
   ],
   "source": [
    "weather[is_night]"
   ]
  },
  {
   "cell_type": "code",
   "execution_count": 47,
   "id": "40b6a64d",
   "metadata": {},
   "outputs": [],
   "source": [
    "### Nastepna strona"
   ]
  },
  {
   "cell_type": "markdown",
   "id": "30737c88",
   "metadata": {},
   "source": [
    "### Ćwiczenie\n",
    "\n",
    "Inny przykład web scrapingu to zeskrapowanie strony prowadzącej ranking obiektowności mediów w Stanach Zjednoczonych:"
   ]
  },
  {
   "cell_type": "markdown",
   "id": "4cf1b48c",
   "metadata": {},
   "source": [
    "Spróbuj zescrapować tabelkę z AllSides Media Bias Ratings. Możesz posiłkować się poniższym kodem:"
   ]
  },
  {
   "cell_type": "code",
   "execution_count": 49,
   "id": "707763b8",
   "metadata": {},
   "outputs": [
    {
     "name": "stdout",
     "output_type": "stream",
     "text": [
      "b'<!DOCTYPE html>\\n<html  lang=\"en\" dir=\"ltr\" prefix=\"og: http://ogp.me/ns# content: http://purl.org/rs'\n"
     ]
    }
   ],
   "source": [
    "import requests\n",
    "\n",
    "url = 'https://www.allsides.com/media-bias/media-bias-ratings'\n",
    "\n",
    "r = requests.get(url)\n",
    "\n",
    "print(r.content[:100])\n"
   ]
  },
  {
   "cell_type": "code",
   "execution_count": 73,
   "id": "161c9532",
   "metadata": {},
   "outputs": [],
   "source": [
    "from bs4 import BeautifulSoup\n",
    "\n",
    "soup = BeautifulSoup(r.content, 'html.parser')\n"
   ]
  },
  {
   "cell_type": "code",
   "execution_count": 74,
   "id": "e3cf4534",
   "metadata": {},
   "outputs": [],
   "source": [
    "rows = soup.select('tbody tr')"
   ]
  },
  {
   "cell_type": "code",
   "execution_count": 75,
   "id": "90b0f9b9",
   "metadata": {},
   "outputs": [
    {
     "name": "stdout",
     "output_type": "stream",
     "text": [
      "ABC News (Online)\n"
     ]
    }
   ],
   "source": [
    "row = rows[0]\n",
    "\n",
    "name = row.select_one('.source-title').text.strip()\n",
    "\n",
    "print(name)\n"
   ]
  },
  {
   "cell_type": "code",
   "execution_count": 76,
   "id": "a6761e80",
   "metadata": {},
   "outputs": [
    {
     "name": "stdout",
     "output_type": "stream",
     "text": [
      "https://www.allsides.com/news-source/abc-news-media-bias\n"
     ]
    }
   ],
   "source": [
    "allsides_page = row.select_one('.source-title a')['href']\n",
    "allsides_page = 'https://www.allsides.com' + allsides_page\n",
    "\n",
    "print(allsides_page)\n"
   ]
  },
  {
   "cell_type": "code",
   "execution_count": 77,
   "id": "219cb457",
   "metadata": {},
   "outputs": [
    {
     "name": "stdout",
     "output_type": "stream",
     "text": [
      "left-center\n"
     ]
    }
   ],
   "source": [
    "bias = row.select_one('.views-field-field-bias-image a')['href']\n",
    "bias = bias.split('/')[-1]\n",
    "\n",
    "print(bias)\n"
   ]
  },
  {
   "cell_type": "code",
   "execution_count": 78,
   "id": "7966cb88",
   "metadata": {},
   "outputs": [
    {
     "name": "stdout",
     "output_type": "stream",
     "text": [
      "Agree: 35455, Disagree: 17959, Ratio 1.97\n"
     ]
    }
   ],
   "source": [
    "agree = row.select_one('.agree').text\n",
    "agree = int(agree)\n",
    "\n",
    "disagree = row.select_one('.disagree').text\n",
    "disagree = int(disagree)\n",
    "\n",
    "agree_ratio = agree / disagree\n",
    "\n",
    "print(f\"Agree: {agree}, Disagree: {disagree}, Ratio {agree_ratio:.2f}\")\n"
   ]
  },
  {
   "cell_type": "code",
   "execution_count": 80,
   "id": "431009d9",
   "metadata": {},
   "outputs": [
    {
     "name": "stdout",
     "output_type": "stream",
     "text": [
      "strongly agrees\n"
     ]
    }
   ],
   "source": [
    "def get_agreeance_text(ratio):\n",
    "    if ratio > 3: return \"absolutely agrees\"\n",
    "    elif 2 < ratio <= 3: return \"strongly agrees\"\n",
    "    elif 1.5 < ratio <= 2: return \"agrees\"\n",
    "    elif 1 < ratio <= 1.5: return \"somewhat agrees\"\n",
    "    elif ratio == 1: return \"neutral\"\n",
    "    elif 0.67 < ratio < 1: return \"somewhat disagrees\"\n",
    "    elif 0.5 < ratio <= 0.67: return \"disagrees\"\n",
    "    elif 0.33 < ratio <= 0.5: return \"strongly disagrees\"\n",
    "    elif ratio <= 0.33: return \"absolutely disagrees\"\n",
    "    else: return None\n",
    "    \n",
    "print(get_agreeance_text(2.5))\n"
   ]
  },
  {
   "cell_type": "code",
   "execution_count": 81,
   "id": "c2624d04",
   "metadata": {},
   "outputs": [],
   "source": [
    "data= []\n",
    "\n",
    "for row in rows:\n",
    "    d = dict()\n",
    "    \n",
    "    d['name'] = row.select_one('.source-title').text.strip()\n",
    "    d['allsides_page'] = 'https://www.allsides.com' + row.select_one('.source-title a')['href']\n",
    "    d['bias'] = row.select_one('.views-field-field-bias-image a')['href'].split('/')[-1]\n",
    "    d['agree'] = int(row.select_one('.agree').text)\n",
    "    d['disagree'] = int(row.select_one('.disagree').text)\n",
    "    d['agree_ratio'] = d['agree'] / d['disagree']\n",
    "    d['agreeance_text'] = get_agreeance_text(d['agree_ratio'])\n",
    "    \n",
    "    data.append(d)\n"
   ]
  },
  {
   "cell_type": "code",
   "execution_count": 84,
   "id": "7248f24b",
   "metadata": {},
   "outputs": [],
   "source": [
    "pages = [\n",
    "    'https://www.allsides.com/media-bias/media-bias-ratings',\n",
    "#    'https://www.allsides.com/media-bias/media-bias-ratings?page=1',\n",
    "#    'https://www.allsides.com/media-bias/media-bias-ratings?page=2'\n",
    "]\n"
   ]
  },
  {
   "cell_type": "code",
   "execution_count": 85,
   "id": "27cb2d27",
   "metadata": {},
   "outputs": [],
   "source": [
    "from time import sleep\n",
    "\n",
    "data= []\n",
    "\n",
    "for page in pages:\n",
    "    r = requests.get(page)\n",
    "    soup = BeautifulSoup(r.content, 'html.parser')\n",
    "    \n",
    "    rows = soup.select('tbody tr')\n",
    "\n",
    "    for row in rows:\n",
    "        d = dict()\n",
    "\n",
    "        d['name'] = row.select_one('.source-title').text.strip()\n",
    "        d['allsides_page'] = 'https://www.allsides.com' + row.select_one('.source-title a')['href']\n",
    "        d['bias'] = row.select_one('.views-field-field-bias-image a')['href'].split('/')[-1]\n",
    "        d['agree'] = int(row.select_one('.agree').text)\n",
    "        d['disagree'] = int(row.select_one('.disagree').text)\n",
    "        d['agree_ratio'] = d['agree'] / d['disagree']\n",
    "        d['agreeance_text'] = get_agreeance_text(d['agree_ratio'])\n",
    "\n",
    "        data.append(d)\n",
    "    \n",
    "    sleep(10)\n"
   ]
  },
  {
   "cell_type": "code",
   "execution_count": 86,
   "id": "e7500438",
   "metadata": {},
   "outputs": [
    {
     "data": {
      "text/plain": [
       "[{'name': 'ABC News (Online)',\n",
       "  'allsides_page': 'https://www.allsides.com/news-source/abc-news-media-bias',\n",
       "  'bias': 'left-center',\n",
       "  'agree': 35455,\n",
       "  'disagree': 17959,\n",
       "  'agree_ratio': 1.9742190545130576,\n",
       "  'agreeance_text': 'agrees'},\n",
       " {'name': 'AlterNet',\n",
       "  'allsides_page': 'https://www.allsides.com/news-source/alternet-media-bias',\n",
       "  'bias': 'left',\n",
       "  'agree': 13706,\n",
       "  'disagree': 2968,\n",
       "  'agree_ratio': 4.617924528301887,\n",
       "  'agreeance_text': 'absolutely agrees'},\n",
       " {'name': 'Associated Press',\n",
       "  'allsides_page': 'https://www.allsides.com/news-source/associated-press-media-bias',\n",
       "  'bias': 'center',\n",
       "  'agree': 26761,\n",
       "  'disagree': 20602,\n",
       "  'agree_ratio': 1.2989515581011553,\n",
       "  'agreeance_text': 'somewhat agrees'},\n",
       " {'name': 'Axios',\n",
       "  'allsides_page': 'https://www.allsides.com/news-source/axios',\n",
       "  'bias': 'center',\n",
       "  'agree': 6092,\n",
       "  'disagree': 6462,\n",
       "  'agree_ratio': 0.9427421850820179,\n",
       "  'agreeance_text': 'somewhat disagrees'},\n",
       " {'name': 'BBC News',\n",
       "  'allsides_page': 'https://www.allsides.com/news-source/bbc-news-media-bias',\n",
       "  'bias': 'center',\n",
       "  'agree': 29300,\n",
       "  'disagree': 25126,\n",
       "  'agree_ratio': 1.1661227413834274,\n",
       "  'agreeance_text': 'somewhat agrees'},\n",
       " {'name': 'Bloomberg',\n",
       "  'allsides_page': 'https://www.allsides.com/news-source/bloomberg-media-bias',\n",
       "  'bias': 'left-center',\n",
       "  'agree': 15940,\n",
       "  'disagree': 21109,\n",
       "  'agree_ratio': 0.7551281443933867,\n",
       "  'agreeance_text': 'somewhat disagrees'},\n",
       " {'name': 'Breitbart News',\n",
       "  'allsides_page': 'https://www.allsides.com/news-source/breitbart',\n",
       "  'bias': 'right',\n",
       "  'agree': 39306,\n",
       "  'disagree': 11241,\n",
       "  'agree_ratio': 3.4966639978649585,\n",
       "  'agreeance_text': 'absolutely agrees'},\n",
       " {'name': 'BuzzFeed News',\n",
       "  'allsides_page': 'https://www.allsides.com/news-source/buzzfeed-media-bias',\n",
       "  'bias': 'left',\n",
       "  'agree': 24598,\n",
       "  'disagree': 9209,\n",
       "  'agree_ratio': 2.6710826365512,\n",
       "  'agreeance_text': 'strongly agrees'},\n",
       " {'name': 'CBS News (Online)',\n",
       "  'allsides_page': 'https://www.allsides.com/news-source/cbs-news-media-bias',\n",
       "  'bias': 'left-center',\n",
       "  'agree': 18937,\n",
       "  'disagree': 12090,\n",
       "  'agree_ratio': 1.5663358147229114,\n",
       "  'agreeance_text': 'agrees'},\n",
       " {'name': 'Christian Science Monitor',\n",
       "  'allsides_page': 'https://www.allsides.com/news-source/christian-science-monitor',\n",
       "  'bias': 'center',\n",
       "  'agree': 15622,\n",
       "  'disagree': 19185,\n",
       "  'agree_ratio': 0.8142819911389106,\n",
       "  'agreeance_text': 'somewhat disagrees'},\n",
       " {'name': 'CNN (Online News)',\n",
       "  'allsides_page': 'https://www.allsides.com/news-source/cnn-media-bias',\n",
       "  'bias': 'left',\n",
       "  'agree': 50943,\n",
       "  'disagree': 47804,\n",
       "  'agree_ratio': 1.0656639611747971,\n",
       "  'agreeance_text': 'somewhat agrees'},\n",
       " {'name': 'CNN (Opinion)',\n",
       "  'allsides_page': 'https://www.allsides.com/news-source/cnn-editorial',\n",
       "  'bias': 'left',\n",
       "  'agree': 33353,\n",
       "  'disagree': 7351,\n",
       "  'agree_ratio': 4.537205822337097,\n",
       "  'agreeance_text': 'absolutely agrees'},\n",
       " {'name': 'Daily Beast',\n",
       "  'allsides_page': 'https://www.allsides.com/news-source/daily-beast-media-bias',\n",
       "  'bias': 'left',\n",
       "  'agree': 19373,\n",
       "  'disagree': 6116,\n",
       "  'agree_ratio': 3.1675931981687375,\n",
       "  'agreeance_text': 'absolutely agrees'},\n",
       " {'name': 'Daily Mail',\n",
       "  'allsides_page': 'https://www.allsides.com/news-source/daily-mail',\n",
       "  'bias': 'right',\n",
       "  'agree': 11827,\n",
       "  'disagree': 6472,\n",
       "  'agree_ratio': 1.8274103831891224,\n",
       "  'agreeance_text': 'agrees'},\n",
       " {'name': 'Democracy Now',\n",
       "  'allsides_page': 'https://www.allsides.com/news-source/democracy-now',\n",
       "  'bias': 'left',\n",
       "  'agree': 13297,\n",
       "  'disagree': 3058,\n",
       "  'agree_ratio': 4.348266841072596,\n",
       "  'agreeance_text': 'absolutely agrees'},\n",
       " {'name': 'Forbes',\n",
       "  'allsides_page': 'https://www.allsides.com/news-source/forbes',\n",
       "  'bias': 'center',\n",
       "  'agree': 13700,\n",
       "  'disagree': 8432,\n",
       "  'agree_ratio': 1.624762808349146,\n",
       "  'agreeance_text': 'agrees'},\n",
       " {'name': 'Fox News (Online News)',\n",
       "  'allsides_page': 'https://www.allsides.com/news-source/fox-news-media-bias',\n",
       "  'bias': 'right',\n",
       "  'agree': 41844,\n",
       "  'disagree': 47667,\n",
       "  'agree_ratio': 0.8778400151047895,\n",
       "  'agreeance_text': 'somewhat disagrees'},\n",
       " {'name': 'Fox News (Opinion)',\n",
       "  'allsides_page': 'https://www.allsides.com/news-source/fox-news-editorial-media-bias',\n",
       "  'bias': 'right',\n",
       "  'agree': 27931,\n",
       "  'disagree': 6539,\n",
       "  'agree_ratio': 4.271448233674874,\n",
       "  'agreeance_text': 'absolutely agrees'},\n",
       " {'name': 'HuffPost',\n",
       "  'allsides_page': 'https://www.allsides.com/news-source/huffpost-media-bias',\n",
       "  'bias': 'left',\n",
       "  'agree': 35462,\n",
       "  'disagree': 22240,\n",
       "  'agree_ratio': 1.5945143884892086,\n",
       "  'agreeance_text': 'agrees'},\n",
       " {'name': 'Mother Jones',\n",
       "  'allsides_page': 'https://www.allsides.com/news-source/mother-jones-bias',\n",
       "  'bias': 'left',\n",
       "  'agree': 15228,\n",
       "  'disagree': 2256,\n",
       "  'agree_ratio': 6.75,\n",
       "  'agreeance_text': 'absolutely agrees'},\n",
       " {'name': 'MSNBC',\n",
       "  'allsides_page': 'https://www.allsides.com/news-source/msnbc',\n",
       "  'bias': 'left',\n",
       "  'agree': 20989,\n",
       "  'disagree': 5437,\n",
       "  'agree_ratio': 3.860400956409785,\n",
       "  'agreeance_text': 'absolutely agrees'},\n",
       " {'name': 'National Review',\n",
       "  'allsides_page': 'https://www.allsides.com/news-source/national-review',\n",
       "  'bias': 'right',\n",
       "  'agree': 18843,\n",
       "  'disagree': 7682,\n",
       "  'agree_ratio': 2.4528768549856808,\n",
       "  'agreeance_text': 'strongly agrees'},\n",
       " {'name': 'NBC News (Online)',\n",
       "  'allsides_page': 'https://www.allsides.com/news-source/nbc-news-media-bias',\n",
       "  'bias': 'left-center',\n",
       "  'agree': 12059,\n",
       "  'disagree': 11833,\n",
       "  'agree_ratio': 1.0190991295529452,\n",
       "  'agreeance_text': 'somewhat agrees'},\n",
       " {'name': 'New York Post (News)',\n",
       "  'allsides_page': 'https://www.allsides.com/news-source/new-york-post',\n",
       "  'bias': 'right-center',\n",
       "  'agree': 14201,\n",
       "  'disagree': 7595,\n",
       "  'agree_ratio': 1.8697827518104015,\n",
       "  'agreeance_text': 'agrees'},\n",
       " {'name': 'New York Times (News)',\n",
       "  'allsides_page': 'https://www.allsides.com/news-source/new-york-times',\n",
       "  'bias': 'left-center',\n",
       "  'agree': 28942,\n",
       "  'disagree': 38784,\n",
       "  'agree_ratio': 0.7462355610561056,\n",
       "  'agreeance_text': 'somewhat disagrees'},\n",
       " {'name': 'New York Times (Opinion)',\n",
       "  'allsides_page': 'https://www.allsides.com/news-source/new-york-times-opinion-media-bias',\n",
       "  'bias': 'left',\n",
       "  'agree': 14327,\n",
       "  'disagree': 3875,\n",
       "  'agree_ratio': 3.697290322580645,\n",
       "  'agreeance_text': 'absolutely agrees'},\n",
       " {'name': 'Newsweek',\n",
       "  'allsides_page': 'https://www.allsides.com/news-source/newsweek',\n",
       "  'bias': 'center',\n",
       "  'agree': 3249,\n",
       "  'disagree': 4829,\n",
       "  'agree_ratio': 0.6728101056119279,\n",
       "  'agreeance_text': 'somewhat disagrees'},\n",
       " {'name': 'NPR (Online News)',\n",
       "  'allsides_page': 'https://www.allsides.com/news-source/npr-media-bias',\n",
       "  'bias': 'center',\n",
       "  'agree': 31634,\n",
       "  'disagree': 30014,\n",
       "  'agree_ratio': 1.0539748117545145,\n",
       "  'agreeance_text': 'somewhat agrees'},\n",
       " {'name': 'NPR (Opinion)',\n",
       "  'allsides_page': 'https://www.allsides.com/news-source/npr-editorial',\n",
       "  'bias': 'left-center',\n",
       "  'agree': 8380,\n",
       "  'disagree': 9454,\n",
       "  'agree_ratio': 0.8863972921514702,\n",
       "  'agreeance_text': 'somewhat disagrees'},\n",
       " {'name': 'Politico',\n",
       "  'allsides_page': 'https://www.allsides.com/news-source/politico-media-bias',\n",
       "  'bias': 'left-center',\n",
       "  'agree': 23363,\n",
       "  'disagree': 30184,\n",
       "  'agree_ratio': 0.7740193479989398,\n",
       "  'agreeance_text': 'somewhat disagrees'},\n",
       " {'name': 'Reason',\n",
       "  'allsides_page': 'https://www.allsides.com/news-source/reason',\n",
       "  'bias': 'right-center',\n",
       "  'agree': 9425,\n",
       "  'disagree': 5730,\n",
       "  'agree_ratio': 1.6448516579406631,\n",
       "  'agreeance_text': 'agrees'},\n",
       " {'name': 'Reuters',\n",
       "  'allsides_page': 'https://www.allsides.com/news-source/reuters',\n",
       "  'bias': 'center',\n",
       "  'agree': 18080,\n",
       "  'disagree': 10113,\n",
       "  'agree_ratio': 1.7877978839117967,\n",
       "  'agreeance_text': 'agrees'},\n",
       " {'name': 'Slate',\n",
       "  'allsides_page': 'https://www.allsides.com/news-source/slate',\n",
       "  'bias': 'left',\n",
       "  'agree': 9507,\n",
       "  'disagree': 3497,\n",
       "  'agree_ratio': 2.718615956534172,\n",
       "  'agreeance_text': 'strongly agrees'},\n",
       " {'name': 'The American Spectator',\n",
       "  'allsides_page': 'https://www.allsides.com/news-source/american-spectator',\n",
       "  'bias': 'right',\n",
       "  'agree': 11934,\n",
       "  'disagree': 4155,\n",
       "  'agree_ratio': 2.872202166064982,\n",
       "  'agreeance_text': 'strongly agrees'},\n",
       " {'name': 'The Atlantic',\n",
       "  'allsides_page': 'https://www.allsides.com/news-source/atlantic',\n",
       "  'bias': 'left-center',\n",
       "  'agree': 14537,\n",
       "  'disagree': 7928,\n",
       "  'agree_ratio': 1.833627648839556,\n",
       "  'agreeance_text': 'agrees'},\n",
       " {'name': 'The Daily Caller',\n",
       "  'allsides_page': 'https://www.allsides.com/news-source/daily-caller',\n",
       "  'bias': 'right',\n",
       "  'agree': 9929,\n",
       "  'disagree': 3970,\n",
       "  'agree_ratio': 2.501007556675063,\n",
       "  'agreeance_text': 'strongly agrees'},\n",
       " {'name': 'The Daily Wire',\n",
       "  'allsides_page': 'https://www.allsides.com/news-source/daily-wire',\n",
       "  'bias': 'right',\n",
       "  'agree': 10576,\n",
       "  'disagree': 3797,\n",
       "  'agree_ratio': 2.785356860679484,\n",
       "  'agreeance_text': 'strongly agrees'},\n",
       " {'name': 'The Economist',\n",
       "  'allsides_page': 'https://www.allsides.com/news-source/economist',\n",
       "  'bias': 'left-center',\n",
       "  'agree': 5863,\n",
       "  'disagree': 9970,\n",
       "  'agree_ratio': 0.5880641925777332,\n",
       "  'agreeance_text': 'disagrees'},\n",
       " {'name': 'The Epoch Times',\n",
       "  'allsides_page': 'https://www.allsides.com/news-source/epoch-times-media-bias',\n",
       "  'bias': 'right-center',\n",
       "  'agree': 11305,\n",
       "  'disagree': 5419,\n",
       "  'agree_ratio': 2.086178261671895,\n",
       "  'agreeance_text': 'strongly agrees'},\n",
       " {'name': 'The Federalist',\n",
       "  'allsides_page': 'https://www.allsides.com/news-source/federalist',\n",
       "  'bias': 'right',\n",
       "  'agree': 9069,\n",
       "  'disagree': 2777,\n",
       "  'agree_ratio': 3.2657544112351458,\n",
       "  'agreeance_text': 'absolutely agrees'},\n",
       " {'name': 'The Guardian',\n",
       "  'allsides_page': 'https://www.allsides.com/news-source/guardian',\n",
       "  'bias': 'left-center',\n",
       "  'agree': 13492,\n",
       "  'disagree': 8188,\n",
       "  'agree_ratio': 1.6477772349780166,\n",
       "  'agreeance_text': 'agrees'},\n",
       " {'name': 'The Hill',\n",
       "  'allsides_page': 'https://www.allsides.com/news-source/hill-media-bias',\n",
       "  'bias': 'center',\n",
       "  'agree': 15979,\n",
       "  'disagree': 21367,\n",
       "  'agree_ratio': 0.7478354471849114,\n",
       "  'agreeance_text': 'somewhat disagrees'},\n",
       " {'name': 'The Intercept',\n",
       "  'allsides_page': 'https://www.allsides.com/news-source/intercept',\n",
       "  'bias': 'left',\n",
       "  'agree': 5480,\n",
       "  'disagree': 1598,\n",
       "  'agree_ratio': 3.4292866082603255,\n",
       "  'agreeance_text': 'absolutely agrees'},\n",
       " {'name': 'The New Yorker',\n",
       "  'allsides_page': 'https://www.allsides.com/news-source/new-yorker',\n",
       "  'bias': 'left',\n",
       "  'agree': 9365,\n",
       "  'disagree': 2256,\n",
       "  'agree_ratio': 4.151152482269503,\n",
       "  'agreeance_text': 'absolutely agrees'},\n",
       " {'name': 'TheBlaze.com',\n",
       "  'allsides_page': 'https://www.allsides.com/news-source/theblaze-bias',\n",
       "  'bias': 'right',\n",
       "  'agree': 99685,\n",
       "  'disagree': 80239,\n",
       "  'agree_ratio': 1.2423509764578322,\n",
       "  'agreeance_text': 'somewhat agrees'},\n",
       " {'name': 'Time Magazine',\n",
       "  'allsides_page': 'https://www.allsides.com/news-source/time-magazine-news-media-bias',\n",
       "  'bias': 'left-center',\n",
       "  'agree': 9350,\n",
       "  'disagree': 7816,\n",
       "  'agree_ratio': 1.1962640736949846,\n",
       "  'agreeance_text': 'somewhat agrees'},\n",
       " {'name': 'USA TODAY',\n",
       "  'allsides_page': 'https://www.allsides.com/news-source/usa-today-media-bias',\n",
       "  'bias': 'left-center',\n",
       "  'agree': 18341,\n",
       "  'disagree': 20641,\n",
       "  'agree_ratio': 0.888571290150671,\n",
       "  'agreeance_text': 'somewhat disagrees'},\n",
       " {'name': 'Vox',\n",
       "  'allsides_page': 'https://www.allsides.com/news-source/vox-news-media-bias',\n",
       "  'bias': 'left',\n",
       "  'agree': 29461,\n",
       "  'disagree': 14977,\n",
       "  'agree_ratio': 1.9670828603859252,\n",
       "  'agreeance_text': 'agrees'},\n",
       " {'name': 'Wall Street Journal (News)',\n",
       "  'allsides_page': 'https://www.allsides.com/news-source/wall-street-journal-media-bias',\n",
       "  'bias': 'center',\n",
       "  'agree': 21907,\n",
       "  'disagree': 24831,\n",
       "  'agree_ratio': 0.8822439692320084,\n",
       "  'agreeance_text': 'somewhat disagrees'},\n",
       " {'name': 'Wall Street Journal (Opinion)',\n",
       "  'allsides_page': 'https://www.allsides.com/news-source/wall-street-journal-opinion',\n",
       "  'bias': 'right-center',\n",
       "  'agree': 11023,\n",
       "  'disagree': 7393,\n",
       "  'agree_ratio': 1.491005004734208,\n",
       "  'agreeance_text': 'somewhat agrees'}]"
      ]
     },
     "execution_count": 86,
     "metadata": {},
     "output_type": "execute_result"
    }
   ],
   "source": [
    "data"
   ]
  },
  {
   "cell_type": "code",
   "execution_count": 88,
   "id": "af68d1fa",
   "metadata": {},
   "outputs": [],
   "source": [
    "df = pd.DataFrame(data)"
   ]
  },
  {
   "cell_type": "code",
   "execution_count": 89,
   "id": "19ca8c1a",
   "metadata": {},
   "outputs": [
    {
     "data": {
      "text/html": [
       "<div>\n",
       "<style scoped>\n",
       "    .dataframe tbody tr th:only-of-type {\n",
       "        vertical-align: middle;\n",
       "    }\n",
       "\n",
       "    .dataframe tbody tr th {\n",
       "        vertical-align: top;\n",
       "    }\n",
       "\n",
       "    .dataframe thead th {\n",
       "        text-align: right;\n",
       "    }\n",
       "</style>\n",
       "<table border=\"1\" class=\"dataframe\">\n",
       "  <thead>\n",
       "    <tr style=\"text-align: right;\">\n",
       "      <th></th>\n",
       "      <th>name</th>\n",
       "      <th>allsides_page</th>\n",
       "      <th>bias</th>\n",
       "      <th>agree</th>\n",
       "      <th>disagree</th>\n",
       "      <th>agree_ratio</th>\n",
       "      <th>agreeance_text</th>\n",
       "      <th>total_votes</th>\n",
       "    </tr>\n",
       "  </thead>\n",
       "  <tbody>\n",
       "    <tr>\n",
       "      <th>44</th>\n",
       "      <td>TheBlaze.com</td>\n",
       "      <td>https://www.allsides.com/news-source/theblaze-...</td>\n",
       "      <td>right</td>\n",
       "      <td>99685</td>\n",
       "      <td>80239</td>\n",
       "      <td>1.242351</td>\n",
       "      <td>somewhat agrees</td>\n",
       "      <td>179924</td>\n",
       "    </tr>\n",
       "    <tr>\n",
       "      <th>10</th>\n",
       "      <td>CNN (Online News)</td>\n",
       "      <td>https://www.allsides.com/news-source/cnn-media...</td>\n",
       "      <td>left</td>\n",
       "      <td>50943</td>\n",
       "      <td>47804</td>\n",
       "      <td>1.065664</td>\n",
       "      <td>somewhat agrees</td>\n",
       "      <td>98747</td>\n",
       "    </tr>\n",
       "    <tr>\n",
       "      <th>16</th>\n",
       "      <td>Fox News (Online News)</td>\n",
       "      <td>https://www.allsides.com/news-source/fox-news-...</td>\n",
       "      <td>right</td>\n",
       "      <td>41844</td>\n",
       "      <td>47667</td>\n",
       "      <td>0.877840</td>\n",
       "      <td>somewhat disagrees</td>\n",
       "      <td>89511</td>\n",
       "    </tr>\n",
       "    <tr>\n",
       "      <th>24</th>\n",
       "      <td>New York Times (News)</td>\n",
       "      <td>https://www.allsides.com/news-source/new-york-...</td>\n",
       "      <td>left-center</td>\n",
       "      <td>28942</td>\n",
       "      <td>38784</td>\n",
       "      <td>0.746236</td>\n",
       "      <td>somewhat disagrees</td>\n",
       "      <td>67726</td>\n",
       "    </tr>\n",
       "    <tr>\n",
       "      <th>27</th>\n",
       "      <td>NPR (Online News)</td>\n",
       "      <td>https://www.allsides.com/news-source/npr-media...</td>\n",
       "      <td>center</td>\n",
       "      <td>31634</td>\n",
       "      <td>30014</td>\n",
       "      <td>1.053975</td>\n",
       "      <td>somewhat agrees</td>\n",
       "      <td>61648</td>\n",
       "    </tr>\n",
       "    <tr>\n",
       "      <th>18</th>\n",
       "      <td>HuffPost</td>\n",
       "      <td>https://www.allsides.com/news-source/huffpost-...</td>\n",
       "      <td>left</td>\n",
       "      <td>35462</td>\n",
       "      <td>22240</td>\n",
       "      <td>1.594514</td>\n",
       "      <td>agrees</td>\n",
       "      <td>57702</td>\n",
       "    </tr>\n",
       "    <tr>\n",
       "      <th>4</th>\n",
       "      <td>BBC News</td>\n",
       "      <td>https://www.allsides.com/news-source/bbc-news-...</td>\n",
       "      <td>center</td>\n",
       "      <td>29300</td>\n",
       "      <td>25126</td>\n",
       "      <td>1.166123</td>\n",
       "      <td>somewhat agrees</td>\n",
       "      <td>54426</td>\n",
       "    </tr>\n",
       "    <tr>\n",
       "      <th>29</th>\n",
       "      <td>Politico</td>\n",
       "      <td>https://www.allsides.com/news-source/politico-...</td>\n",
       "      <td>left-center</td>\n",
       "      <td>23363</td>\n",
       "      <td>30184</td>\n",
       "      <td>0.774019</td>\n",
       "      <td>somewhat disagrees</td>\n",
       "      <td>53547</td>\n",
       "    </tr>\n",
       "    <tr>\n",
       "      <th>0</th>\n",
       "      <td>ABC News (Online)</td>\n",
       "      <td>https://www.allsides.com/news-source/abc-news-...</td>\n",
       "      <td>left-center</td>\n",
       "      <td>35455</td>\n",
       "      <td>17959</td>\n",
       "      <td>1.974219</td>\n",
       "      <td>agrees</td>\n",
       "      <td>53414</td>\n",
       "    </tr>\n",
       "    <tr>\n",
       "      <th>6</th>\n",
       "      <td>Breitbart News</td>\n",
       "      <td>https://www.allsides.com/news-source/breitbart</td>\n",
       "      <td>right</td>\n",
       "      <td>39306</td>\n",
       "      <td>11241</td>\n",
       "      <td>3.496664</td>\n",
       "      <td>absolutely agrees</td>\n",
       "      <td>50547</td>\n",
       "    </tr>\n",
       "  </tbody>\n",
       "</table>\n",
       "</div>"
      ],
      "text/plain": [
       "                      name                                      allsides_page  \\\n",
       "44            TheBlaze.com  https://www.allsides.com/news-source/theblaze-...   \n",
       "10       CNN (Online News)  https://www.allsides.com/news-source/cnn-media...   \n",
       "16  Fox News (Online News)  https://www.allsides.com/news-source/fox-news-...   \n",
       "24   New York Times (News)  https://www.allsides.com/news-source/new-york-...   \n",
       "27       NPR (Online News)  https://www.allsides.com/news-source/npr-media...   \n",
       "18                HuffPost  https://www.allsides.com/news-source/huffpost-...   \n",
       "4                 BBC News  https://www.allsides.com/news-source/bbc-news-...   \n",
       "29                Politico  https://www.allsides.com/news-source/politico-...   \n",
       "0        ABC News (Online)  https://www.allsides.com/news-source/abc-news-...   \n",
       "6           Breitbart News     https://www.allsides.com/news-source/breitbart   \n",
       "\n",
       "           bias  agree  disagree  agree_ratio      agreeance_text  total_votes  \n",
       "44        right  99685     80239     1.242351     somewhat agrees       179924  \n",
       "10         left  50943     47804     1.065664     somewhat agrees        98747  \n",
       "16        right  41844     47667     0.877840  somewhat disagrees        89511  \n",
       "24  left-center  28942     38784     0.746236  somewhat disagrees        67726  \n",
       "27       center  31634     30014     1.053975     somewhat agrees        61648  \n",
       "18         left  35462     22240     1.594514              agrees        57702  \n",
       "4        center  29300     25126     1.166123     somewhat agrees        54426  \n",
       "29  left-center  23363     30184     0.774019  somewhat disagrees        53547  \n",
       "0   left-center  35455     17959     1.974219              agrees        53414  \n",
       "6         right  39306     11241     3.496664   absolutely agrees        50547  "
      ]
     },
     "execution_count": 89,
     "metadata": {},
     "output_type": "execute_result"
    }
   ],
   "source": [
    "df['total_votes'] = df['agree'] + df['disagree']\n",
    "df.sort_values('total_votes', ascending=False, inplace=True)\n",
    "\n",
    "df.head(10)\n"
   ]
  },
  {
   "cell_type": "code",
   "execution_count": null,
   "id": "0538f478",
   "metadata": {},
   "outputs": [],
   "source": []
  }
 ],
 "metadata": {
  "kernelspec": {
   "display_name": "Python 3 (ipykernel)",
   "language": "python",
   "name": "python3"
  },
  "language_info": {
   "codemirror_mode": {
    "name": "ipython",
    "version": 3
   },
   "file_extension": ".py",
   "mimetype": "text/x-python",
   "name": "python",
   "nbconvert_exporter": "python",
   "pygments_lexer": "ipython3",
   "version": "3.10.2"
  }
 },
 "nbformat": 4,
 "nbformat_minor": 5
}
