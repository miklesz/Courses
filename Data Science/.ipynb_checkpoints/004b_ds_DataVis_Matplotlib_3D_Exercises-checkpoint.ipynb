{
 "cells": [
  {
   "cell_type": "markdown",
   "id": "9027fbfe",
   "metadata": {
    "slideshow": {
     "slide_type": "slide"
    }
   },
   "source": [
    "# Matplotlib\n",
    "\n",
    "_Mikołaj Leszczuk_\n",
    "\n",
    "![](https://i.imgflip.com/o5hw1.jpg)"
   ]
  },
  {
   "cell_type": "markdown",
   "id": "5c06fd4e",
   "metadata": {
    "slideshow": {
     "slide_type": "slide"
    }
   },
   "source": [
    "## Konspekt\n",
    "\n",
    "* Matplotlib 3D\n",
    "* Figury interaktywne\n",
    "* Ćwiczenia"
   ]
  },
  {
   "cell_type": "markdown",
   "id": "cb48183b",
   "metadata": {
    "slideshow": {
     "slide_type": "slide"
    }
   },
   "source": [
    "## Matplotlib 3D"
   ]
  },
  {
   "cell_type": "code",
   "execution_count": null,
   "id": "35b41d96",
   "metadata": {
    "slideshow": {
     "slide_type": "fragment"
    }
   },
   "outputs": [],
   "source": [
    "import matplotlib.pyplot as plt\n",
    "from matplotlib import cm\n",
    "from matplotlib.ticker import LinearLocator\n",
    "import numpy as np"
   ]
  },
  {
   "cell_type": "markdown",
   "id": "828ae430",
   "metadata": {
    "slideshow": {
     "slide_type": "slide"
    }
   },
   "source": [
    "### Powierzchnia 3D (mapa kolorów)"
   ]
  },
  {
   "cell_type": "markdown",
   "id": "ff50cfe1",
   "metadata": {
    "slideshow": {
     "slide_type": "fragment"
    }
   },
   "source": [
    "Demonstracja kreślenia powierzchni 3D pokolorowanej za pomocą chłodno-ciepłej mapy kolorów. Powierzchnia jest zrobiona nieprzezroczystą za pomocą `antialiased=False`.\n",
    "\n",
    "Pokazanie również użycia `LinearLocator` i niestandardowego formatowania etykiet znaczników osi Z."
   ]
  },
  {
   "cell_type": "code",
   "execution_count": null,
   "id": "5c6d4b3c",
   "metadata": {
    "slideshow": {
     "slide_type": "subslide"
    }
   },
   "outputs": [],
   "source": [
    "fig, ax = plt.subplots(subplot_kw={\"projection\": \"3d\"})\n",
    "\n",
    "plt.show()"
   ]
  },
  {
   "cell_type": "markdown",
   "id": "6bdc539e",
   "metadata": {
    "slideshow": {
     "slide_type": "subslide"
    }
   },
   "source": [
    "Tworzenie danych:"
   ]
  },
  {
   "cell_type": "code",
   "execution_count": null,
   "id": "aa573657",
   "metadata": {
    "slideshow": {
     "slide_type": "fragment"
    }
   },
   "outputs": [],
   "source": [
    "X = np.arange(-5, 5, 0.25)\n",
    "Y = np.arange(-5, 5, 0.25)\n",
    "X, Y = np.meshgrid(X, Y)\n",
    "R = np.sqrt(X**2 + Y**2)\n",
    "Z = np.sin(R)"
   ]
  },
  {
   "cell_type": "markdown",
   "id": "38f415c8",
   "metadata": {
    "slideshow": {
     "slide_type": "subslide"
    }
   },
   "source": [
    "Wykreślanie powierzchni:"
   ]
  },
  {
   "cell_type": "code",
   "execution_count": null,
   "id": "7797a79d",
   "metadata": {
    "slideshow": {
     "slide_type": "fragment"
    }
   },
   "outputs": [],
   "source": [
    "fig, ax = plt.subplots(subplot_kw={\"projection\": \"3d\"})\n",
    "\n",
    "surf = ax.plot_surface(X, Y, Z, cmap=cm.coolwarm, linewidth=0, antialiased=False)\n",
    "\n",
    "plt.show()"
   ]
  },
  {
   "cell_type": "markdown",
   "id": "d7fccc2a",
   "metadata": {
    "slideshow": {
     "slide_type": "subslide"
    }
   },
   "source": [
    "Dostosowanie osi Z:"
   ]
  },
  {
   "cell_type": "code",
   "execution_count": null,
   "id": "6241d916",
   "metadata": {
    "slideshow": {
     "slide_type": "fragment"
    }
   },
   "outputs": [],
   "source": [
    "fig, ax = plt.subplots(subplot_kw={\"projection\": \"3d\"})\n",
    "\n",
    "ax.set_zlim(-1.00, 1.00)\n",
    "ax.zaxis.set_major_locator(LinearLocator(9))\n",
    "ax.zaxis.set_major_formatter('{x:.02f}')\n",
    "\n",
    "surf = ax.plot_surface(X, Y, Z, cmap=cm.coolwarm, linewidth=0, antialiased=False)\n",
    "\n",
    "plt.show()"
   ]
  },
  {
   "cell_type": "markdown",
   "id": "5e9c0c0f",
   "metadata": {
    "slideshow": {
     "slide_type": "subslide"
    }
   },
   "source": [
    "Dodawanie paska kolorów, który odwzorowuje wartości na kolory:"
   ]
  },
  {
   "cell_type": "code",
   "execution_count": null,
   "id": "23209ccd",
   "metadata": {
    "slideshow": {
     "slide_type": "subslide"
    }
   },
   "outputs": [],
   "source": [
    "fig, ax = plt.subplots(subplot_kw={\"projection\": \"3d\"})\n",
    "\n",
    "ax.set_zlim(-1.01, 1.01)\n",
    "ax.zaxis.set_major_locator(LinearLocator(10))\n",
    "ax.zaxis.set_major_formatter('{x:.02f}')\n",
    "\n",
    "surf = ax.plot_surface(X, Y, Z, cmap=cm.coolwarm, linewidth=0, antialiased=False)\n",
    "\n",
    "fig.colorbar(surf, shrink=0.5, aspect=5)\n",
    "\n",
    "plt.show()"
   ]
  },
  {
   "cell_type": "markdown",
   "id": "348a6200",
   "metadata": {
    "slideshow": {
     "slide_type": "slide"
    }
   },
   "source": [
    "### Trójkątne powierzchnie 3D"
   ]
  },
  {
   "cell_type": "markdown",
   "id": "af44a672",
   "metadata": {
    "slideshow": {
     "slide_type": "fragment"
    }
   },
   "source": [
    "Wykreślanie powierzchni 3D (jak w chipsie ziemniaczanym \"Pringles\") z trójkątną siatką.\n",
    "\n",
    "![](https://upload.wikimedia.org/wikipedia/commons/thumb/8/89/Pringles_chips.JPG/471px-Pringles_chips.JPG)"
   ]
  },
  {
   "cell_type": "markdown",
   "id": "a79433b7",
   "metadata": {
    "slideshow": {
     "slide_type": "subslide"
    }
   },
   "source": [
    "Utworzenie przestrzenii promieni i kątów (pominięto promień $r=0$, aby wyeliminować duplikację):"
   ]
  },
  {
   "cell_type": "code",
   "execution_count": null,
   "id": "f6901ecd",
   "metadata": {
    "slideshow": {
     "slide_type": "fragment"
    }
   },
   "outputs": [],
   "source": [
    "n_radii = 8  # liczba promieni\n",
    "n_angles = 36  # liczba kątów"
   ]
  },
  {
   "cell_type": "code",
   "execution_count": null,
   "id": "44f445ec",
   "metadata": {
    "slideshow": {
     "slide_type": "fragment"
    }
   },
   "outputs": [],
   "source": [
    "radii = np.linspace(0.125, 1.0, n_radii)\n",
    "angles = np.linspace(0, 2*np.pi, n_angles, endpoint=False)[..., np.newaxis]"
   ]
  },
  {
   "cell_type": "markdown",
   "id": "ec2f3efb",
   "metadata": {
    "slideshow": {
     "slide_type": "fragment"
    }
   },
   "source": [
    "Zamienianie współrzędnych biegunowych $(radii, angles)$ na współrzędne kartezjańskie $(x, y)$, przy czym $(0, 0)$ jest dodawany ręcznie na tym etapie, więc nie będzie zduplikowanych punktów na płaszczyźnie $(x, y)$:"
   ]
  },
  {
   "cell_type": "code",
   "execution_count": null,
   "id": "533455d9",
   "metadata": {
    "slideshow": {
     "slide_type": "fragment"
    }
   },
   "outputs": [],
   "source": [
    "x = np.append(0, (radii*np.cos(angles)).flatten())\n",
    "y = np.append(0, (radii*np.sin(angles)).flatten())"
   ]
  },
  {
   "cell_type": "markdown",
   "id": "9f9b06ec",
   "metadata": {
    "slideshow": {
     "slide_type": "subslide"
    }
   },
   "source": [
    "Obliczenie $z$, aby utworzyć powierzchnię jak w chipsie ziemniaczanym \"Pringles\":"
   ]
  },
  {
   "cell_type": "code",
   "execution_count": null,
   "id": "9ce99759",
   "metadata": {
    "slideshow": {
     "slide_type": "fragment"
    }
   },
   "outputs": [],
   "source": [
    "z = np.sin(-x*y)"
   ]
  },
  {
   "cell_type": "code",
   "execution_count": null,
   "id": "119b30b1",
   "metadata": {
    "slideshow": {
     "slide_type": "subslide"
    }
   },
   "outputs": [],
   "source": [
    "ax = plt.figure().add_subplot(projection='3d')\n",
    "\n",
    "plt.show()"
   ]
  },
  {
   "cell_type": "code",
   "execution_count": null,
   "id": "745d053c",
   "metadata": {
    "slideshow": {
     "slide_type": "subslide"
    }
   },
   "outputs": [],
   "source": [
    "ax = plt.figure().add_subplot(projection='3d')\n",
    "\n",
    "ax.plot_trisurf(x, y, z, linewidth=0.2, antialiased=True)\n",
    "\n",
    "plt.show()"
   ]
  },
  {
   "cell_type": "markdown",
   "id": "57457e2a",
   "metadata": {
    "slideshow": {
     "slide_type": "slide"
    }
   },
   "source": [
    "## Figury interaktywne"
   ]
  },
  {
   "cell_type": "markdown",
   "id": "9eddec8d",
   "metadata": {
    "slideshow": {
     "slide_type": "fragment"
    }
   },
   "source": [
    "Podczas pracy z danymi interaktywność może być nieoceniona. Narzędzia do panoramowania/powiększania i lokalizacji myszy wbudowane w okna GUI Matplotlib są często wystarczające, ale można również użyć systemu zdarzeń do tworzenia niestandardowych narzędzi do eksploracji danych."
   ]
  },
  {
   "cell_type": "markdown",
   "id": "1d0ca117",
   "metadata": {
    "slideshow": {
     "slide_type": "fragment"
    }
   },
   "source": [
    "Matplotlib jest dostarczany z powiązaniami **backendów** z kilkoma zestawami narzędzi GUI (Qt, Tk, Wx, GTK, macOS, JavaScript), a pakiety stron trzecich zapewniają powiązania z **kivy** i **Jupyter Lab**. Aby figury reagowały na zdarzenia myszy, klawiatury i malowania, pętla zdarzeń GUI musi być zintegrowana z interaktywnym monitem. Zaleca się używanie IPythona."
   ]
  },
  {
   "cell_type": "markdown",
   "id": "e1195119",
   "metadata": {
    "slideshow": {
     "slide_type": "slide"
    }
   },
   "source": [
    "### Integracja z IPythonem"
   ]
  },
  {
   "cell_type": "markdown",
   "id": "92cf945e",
   "metadata": {
    "slideshow": {
     "slide_type": "fragment"
    }
   },
   "source": [
    "Zaleca się używanie IPython do interaktywnej powłoki. Oprócz wszystkich swoich funkcji, zapewnia również, że pętla zdarzeń zestawu narzędzi GUI jest prawidłowo zintegrowana z wierszem poleceń."
   ]
  },
  {
   "cell_type": "markdown",
   "id": "a7cadb99",
   "metadata": {
    "slideshow": {
     "slide_type": "fragment"
    }
   },
   "source": [
    "Aby skonfigurować integrację i włączyć **tryb interaktywny**, używamy `%matplotlib`."
   ]
  },
  {
   "cell_type": "markdown",
   "id": "af1ff4f2",
   "metadata": {
    "slideshow": {
     "slide_type": "slide"
    }
   },
   "source": [
    "### Jupyter Notebook"
   ]
  },
  {
   "cell_type": "markdown",
   "id": "6bb9ef08",
   "metadata": {
    "slideshow": {
     "slide_type": "fragment"
    }
   },
   "source": [
    "W tym przykładzie tworzymy i modyfikujemy figurę za pomocą Jupyter Notebook. Rysunek jest wyświetlany w oknie GUI."
   ]
  },
  {
   "cell_type": "markdown",
   "id": "36f15ae2",
   "metadata": {
    "slideshow": {
     "slide_type": "fragment"
    }
   },
   "source": [
    "Aby uzyskać interaktywne figury w \"klasycznym\" Jupyter Notebook, możemy użyć:"
   ]
  },
  {
   "cell_type": "code",
   "execution_count": null,
   "id": "67eb65a5",
   "metadata": {
    "slideshow": {
     "slide_type": "fragment"
    }
   },
   "outputs": [],
   "source": [
    "%matplotlib notebook"
   ]
  },
  {
   "cell_type": "markdown",
   "id": "4c6306d8",
   "metadata": {
    "slideshow": {
     "slide_type": "fragment"
    }
   },
   "source": [
    "Korzysta to z backendu dostarczonego przez Matplotlib."
   ]
  },
  {
   "cell_type": "markdown",
   "id": "60c43f66",
   "metadata": {
    "slideshow": {
     "slide_type": "subslide"
    }
   },
   "source": [
    "Utwórzenie nowego okna figury:"
   ]
  },
  {
   "cell_type": "code",
   "execution_count": null,
   "id": "785ae579",
   "metadata": {
    "slideshow": {
     "slide_type": "fragment"
    }
   },
   "outputs": [],
   "source": [
    "fig, ax = plt.subplots()"
   ]
  },
  {
   "cell_type": "markdown",
   "id": "7fab6913",
   "metadata": {
    "slideshow": {
     "slide_type": "subslide"
    }
   },
   "source": [
    "Dodanie wykresu liniowego danych do okna:"
   ]
  },
  {
   "cell_type": "code",
   "execution_count": null,
   "id": "e8cfbdb7",
   "metadata": {
    "slideshow": {
     "slide_type": "fragment"
    }
   },
   "outputs": [],
   "source": [
    "ln, = ax.plot(range(5))"
   ]
  },
  {
   "cell_type": "markdown",
   "id": "d45c47ca",
   "metadata": {
    "slideshow": {
     "slide_type": "fragment"
    }
   },
   "source": [
    "Zmienienie koloru linii z niebieskiego na pomarańczowy:"
   ]
  },
  {
   "cell_type": "code",
   "execution_count": null,
   "id": "15db1560",
   "metadata": {
    "slideshow": {
     "slide_type": "fragment"
    }
   },
   "outputs": [],
   "source": [
    "ln.set_color('orange')"
   ]
  },
  {
   "cell_type": "markdown",
   "id": "2e2c9443",
   "metadata": {
    "slideshow": {
     "slide_type": "slide"
    }
   },
   "source": [
    "### Przykład"
   ]
  },
  {
   "cell_type": "markdown",
   "id": "44bb2a99",
   "metadata": {
    "slideshow": {
     "slide_type": "fragment"
    }
   },
   "source": [
    "Wizualizacja trzech parametrów: VMAF (ang. _Video Multi-Method Assessment Fusion_), obciążenia CPU (ang. _Central Processing Unit_) oraz przepływności wyjściowej strumienia."
   ]
  },
  {
   "cell_type": "markdown",
   "id": "04bfc369",
   "metadata": {
    "slideshow": {
     "slide_type": "fragment"
    }
   },
   "source": [
    "[CSV](surface_no_placebo.csv)"
   ]
  },
  {
   "cell_type": "markdown",
   "id": "f82ccd28",
   "metadata": {
    "slideshow": {
     "slide_type": "subslide"
    }
   },
   "source": [
    "Import z biblioteki standardowej:"
   ]
  },
  {
   "cell_type": "code",
   "execution_count": null,
   "id": "547b014f",
   "metadata": {
    "slideshow": {
     "slide_type": "fragment"
    }
   },
   "outputs": [],
   "source": [
    "import csv"
   ]
  },
  {
   "cell_type": "markdown",
   "id": "a2f61f31",
   "metadata": {
    "slideshow": {
     "slide_type": "fragment"
    }
   },
   "source": [
    "Powiązany import stron trzecich:"
   ]
  },
  {
   "cell_type": "code",
   "execution_count": null,
   "id": "16e1e803",
   "metadata": {
    "slideshow": {
     "slide_type": "fragment"
    }
   },
   "outputs": [],
   "source": [
    "import matplotlib.pyplot as plt\n",
    "from matplotlib import cm"
   ]
  },
  {
   "cell_type": "code",
   "execution_count": null,
   "id": "3264c33b",
   "metadata": {
    "slideshow": {
     "slide_type": "fragment"
    }
   },
   "outputs": [],
   "source": [
    "%matplotlib notebook"
   ]
  },
  {
   "cell_type": "markdown",
   "id": "19dc1b28",
   "metadata": {
    "slideshow": {
     "slide_type": "subslide"
    }
   },
   "source": [
    "Czytanie danych:"
   ]
  },
  {
   "cell_type": "code",
   "execution_count": null,
   "id": "b39f5ed8",
   "metadata": {
    "slideshow": {
     "slide_type": "fragment"
    }
   },
   "outputs": [],
   "source": [
    "x_list, y_list, z_list = [], [], []\n",
    "with open(file='surface_no_placebo.csv', newline='') as csv_file:\n",
    "    csv_reader = csv.reader(csv_file, delimiter=',', quotechar='|')\n",
    "    next(csv_reader)  # Pomijanie nagłówka\n",
    "    for row in csv_reader:\n",
    "        x_value = float(row[0])*100\n",
    "        y_value = int(row[1])/1_000_000\n",
    "        z_value = float(row[3])\n",
    "        x_list.append(x_value)\n",
    "        y_list.append(y_value)\n",
    "        z_list.append(z_value)"
   ]
  },
  {
   "cell_type": "code",
   "execution_count": null,
   "id": "db60e838",
   "metadata": {
    "scrolled": true,
    "slideshow": {
     "slide_type": "subslide"
    }
   },
   "outputs": [],
   "source": [
    "fig, ax = plt.subplots(subplot_kw={\"projection\": \"3d\"})"
   ]
  },
  {
   "cell_type": "markdown",
   "id": "f3a2896d",
   "metadata": {
    "slideshow": {
     "slide_type": "subslide"
    }
   },
   "source": [
    "Wykreślanie powierzchni:"
   ]
  },
  {
   "cell_type": "code",
   "execution_count": null,
   "id": "d3ed620e",
   "metadata": {
    "slideshow": {
     "slide_type": "fragment"
    }
   },
   "outputs": [],
   "source": [
    "surf = ax.plot_trisurf(x_list, y_list, z_list, cmap=cm.viridis)"
   ]
  },
  {
   "cell_type": "markdown",
   "id": "6a3a901e",
   "metadata": {
    "slideshow": {
     "slide_type": "fragment"
    }
   },
   "source": [
    "Dostosowywanie osi:"
   ]
  },
  {
   "cell_type": "code",
   "execution_count": null,
   "id": "10edb54a",
   "metadata": {},
   "outputs": [],
   "source": [
    "ax.set_xlim(763.3587786, 72.99270073)\n",
    "ax.set_title('VMAF vs. CPU vs. przepływność')\n",
    "ax.set_xlabel('CPU [%]')\n",
    "ax.set_ylabel('Przepływność [Mb/s]')\n",
    "ax.set_zlabel('VMAF');"
   ]
  },
  {
   "cell_type": "markdown",
   "id": "32d40320",
   "metadata": {
    "slideshow": {
     "slide_type": "slide"
    }
   },
   "source": [
    "## Ćwiczenia"
   ]
  },
  {
   "cell_type": "code",
   "execution_count": null,
   "id": "82f5b76c",
   "metadata": {},
   "outputs": [],
   "source": [
    "%matplotlib inline"
   ]
  },
  {
   "cell_type": "markdown",
   "id": "bb69cc4f",
   "metadata": {
    "slideshow": {
     "slide_type": "slide"
    }
   },
   "source": [
    "### Narysuj linię z odpowiednią etykietą na osi x, osi y i tytułem"
   ]
  },
  {
   "cell_type": "markdown",
   "id": "b351d3d9",
   "metadata": {
    "slideshow": {
     "slide_type": "slide"
    }
   },
   "source": [
    "#### Ćwiczenie"
   ]
  },
  {
   "cell_type": "markdown",
   "id": "9d5712af",
   "metadata": {
    "slideshow": {
     "slide_type": "fragment"
    }
   },
   "source": [
    "Napisz program w Pythonie, który narysuje linię z odpowiednią etykietą na osi x, osi y i tytule."
   ]
  },
  {
   "cell_type": "markdown",
   "id": "01f9e397",
   "metadata": {
    "slideshow": {
     "slide_type": "subslide"
    }
   },
   "source": [
    "Przykładowy wynik:"
   ]
  },
  {
   "cell_type": "markdown",
   "id": "3131a14f",
   "metadata": {
    "slideshow": {
     "slide_type": "fragment"
    }
   },
   "source": [
    "![](https://www.w3resource.com/w3r_images/matplotlib-basic-exercise-1.png)"
   ]
  },
  {
   "cell_type": "markdown",
   "id": "8ebf7097",
   "metadata": {
    "slideshow": {
     "slide_type": "slide"
    }
   },
   "source": [
    "#### Rozwiązanie"
   ]
  },
  {
   "cell_type": "code",
   "execution_count": null,
   "id": "a36556df",
   "metadata": {
    "slideshow": {
     "slide_type": "subslide"
    }
   },
   "outputs": [],
   "source": [
    "import matplotlib.pyplot as plt\n",
    "X = range(1, 50)\n",
    "Y = [value * 3 for value in X]\n",
    "print(\"Wartości X:\", *range(1,50))\n",
    "print(\"Wartości Y (trzy razy X):\", Y)\n",
    "plt.plot(X, Y)  # Wykreśl linie i/lub znaczniki do osi.\n",
    "plt.xlabel('x - axis')  # Ustaw etykietę osi x bieżącej osi.\n",
    "plt.ylabel('y - axis')  # Ustaw etykietę osi y bieżącej osi.\n",
    "plt.title('Draw a line.')  # Ustaw tytuł\n",
    "plt.show()  # Pokaż figurę."
   ]
  },
  {
   "cell_type": "markdown",
   "id": "b53cdb46",
   "metadata": {
    "slideshow": {
     "slide_type": "slide"
    }
   },
   "source": [
    "### Narysuj linię używając podanych wartości osi z odpowiednią etykietą na osi x, osi y i tytule"
   ]
  },
  {
   "cell_type": "markdown",
   "id": "7fed321e",
   "metadata": {
    "slideshow": {
     "slide_type": "slide"
    }
   },
   "source": [
    "#### Ćwiczenie"
   ]
  },
  {
   "cell_type": "markdown",
   "id": "52156bb7",
   "metadata": {
    "slideshow": {
     "slide_type": "fragment"
    }
   },
   "source": [
    "Napisz program w Pythonie, który narysuje linię przy użyciu podanych wartości osi z odpowiednią etykietą na osi x, osi y i tytule."
   ]
  },
  {
   "cell_type": "markdown",
   "id": "8a876631",
   "metadata": {
    "slideshow": {
     "slide_type": "subslide"
    }
   },
   "source": [
    "Przykładowy wynik:"
   ]
  },
  {
   "cell_type": "markdown",
   "id": "83fa98b5",
   "metadata": {
    "slideshow": {
     "slide_type": "fragment"
    }
   },
   "source": [
    "![](https://www.w3resource.com/w3r_images/matplotlib-basic-exercise-2.png)"
   ]
  },
  {
   "cell_type": "markdown",
   "id": "e794a2ee",
   "metadata": {
    "slideshow": {
     "slide_type": "slide"
    }
   },
   "source": [
    "#### Rozwiązanie"
   ]
  },
  {
   "cell_type": "code",
   "execution_count": null,
   "id": "678d5942",
   "metadata": {
    "slideshow": {
     "slide_type": "subslide"
    }
   },
   "outputs": [],
   "source": [
    "import matplotlib.pyplot as plt\n",
    "x = [1, 2, 3]  # wartości osi x\n",
    "y = [2, 4, 1]  # wartości osi y \n",
    "plt.plot(x, y)  # Wykreśl linie i/lub znaczniki do osi.\n",
    "plt.xlabel('x - axis')  # Ustaw etykietę osi x bieżącej osi.\n",
    "plt.ylabel('y - axis')  # Ustaw etykietę osi y bieżącej osi.\n",
    "plt.title('Sample graph!')  # Ustaw tytuł\n",
    "plt.show()  # Pokaż figurę."
   ]
  },
  {
   "cell_type": "markdown",
   "id": "63a616d6",
   "metadata": {
    "slideshow": {
     "slide_type": "slide"
    }
   },
   "source": [
    "### Narysuj linię korzystając z podanych wartości osi pobranych z pliku tekstowego, z odpowiednią etykietą w osi x, osi y oraz tytułem"
   ]
  },
  {
   "cell_type": "markdown",
   "id": "95652912",
   "metadata": {
    "slideshow": {
     "slide_type": "slide"
    }
   },
   "source": [
    "#### Ćwiczenie"
   ]
  },
  {
   "cell_type": "markdown",
   "id": "7a6eb7b5",
   "metadata": {
    "slideshow": {
     "slide_type": "fragment"
    }
   },
   "source": [
    "Napisz program w Pythonie, który narysuje linię przy użyciu podanych wartości osi z odpowiednią etykietą na osi x, osi y i tytule.\n",
    "\n",
    "[test.txt](test.txt)"
   ]
  },
  {
   "cell_type": "markdown",
   "id": "92140efc",
   "metadata": {
    "slideshow": {
     "slide_type": "subslide"
    }
   },
   "source": [
    "Przykładowy wynik:"
   ]
  },
  {
   "cell_type": "markdown",
   "id": "7833b6ff",
   "metadata": {
    "slideshow": {
     "slide_type": "fragment"
    }
   },
   "source": [
    "![](https://www.w3resource.com/w3r_images/matplotlib-basic-exercise-3.png)"
   ]
  },
  {
   "cell_type": "markdown",
   "id": "05d5a60d",
   "metadata": {
    "slideshow": {
     "slide_type": "slide"
    }
   },
   "source": [
    "#### Rozwiązanie"
   ]
  },
  {
   "cell_type": "code",
   "execution_count": null,
   "id": "e4757e43",
   "metadata": {
    "slideshow": {
     "slide_type": "subslide"
    }
   },
   "outputs": [],
   "source": [
    "import matplotlib.pyplot as plt\n",
    "with open(\"test.txt\") as f:\n",
    "    data = f.read()\n",
    "data = data.split('\\n')\n",
    "x = [int(row.split(' ')[0]) for row in data]\n",
    "y = [int(row.split(' ')[1]) for row in data]\n",
    "plt.plot(x, y)  # Wykreśl linie i/lub znaczniki do osi.\n",
    "plt.xlabel('x - axis')  # Ustaw etykietę osi x bieżącej osi.\n",
    "plt.ylabel('y - axis')  # Ustaw etykietę osi y bieżącej osi.\n",
    "plt.title('Sample graph!')  # Ustaw tytuł\n",
    "plt.show()  # Pokaż figurę."
   ]
  },
  {
   "cell_type": "markdown",
   "id": "f831bfce",
   "metadata": {
    "slideshow": {
     "slide_type": "slide"
    }
   },
   "source": [
    "### Rysuj wykresy liniowe danych finansowych Alphabet Inc. od 3 października 2016 r. do 7 października 2016 r."
   ]
  },
  {
   "cell_type": "markdown",
   "id": "a835fe28",
   "metadata": {
    "slideshow": {
     "slide_type": "slide"
    }
   },
   "source": [
    "#### Ćwiczenie"
   ]
  },
  {
   "cell_type": "markdown",
   "id": "fe55932b",
   "metadata": {
    "slideshow": {
     "slide_type": "fragment"
    }
   },
   "source": [
    "Napisz program w języku Python do rysowania wykresów liniowych danych finansowych firmy Alphabet Inc. w okresie od 3 października 2016 r. do 7 października 2016 r.\n",
    "\n",
    "Przykładowe dane finansowe ([fdata.csv](fdata.csv)):"
   ]
  },
  {
   "cell_type": "markdown",
   "id": "b64e73e4",
   "metadata": {
    "slideshow": {
     "slide_type": "subslide"
    }
   },
   "source": [
    "Przykładowy wynik:"
   ]
  },
  {
   "cell_type": "markdown",
   "id": "7e2b45e9",
   "metadata": {
    "slideshow": {
     "slide_type": "fragment"
    }
   },
   "source": [
    "![](https://www.w3resource.com/w3r_images/matplotlib-basic-exercise-4.png)"
   ]
  },
  {
   "cell_type": "markdown",
   "id": "a64d0982",
   "metadata": {
    "slideshow": {
     "slide_type": "slide"
    }
   },
   "source": [
    "#### Rozwiązanie"
   ]
  },
  {
   "cell_type": "code",
   "execution_count": null,
   "id": "8e8f7ca8",
   "metadata": {
    "slideshow": {
     "slide_type": "subslide"
    }
   },
   "outputs": [],
   "source": [
    "import matplotlib.pyplot as plt\n",
    "import pandas as pd\n",
    "df = pd.read_csv('fdata.csv', sep=',', parse_dates=True, index_col=0)\n",
    "df.plot()\n",
    "plt.show()"
   ]
  },
  {
   "cell_type": "markdown",
   "id": "cdf9b650",
   "metadata": {
    "slideshow": {
     "slide_type": "slide"
    }
   },
   "source": [
    "### Wykreśl dwie lub więcej linii na tej samej podziałce z odpowiednimi legendami każdej linii"
   ]
  },
  {
   "cell_type": "markdown",
   "id": "28f2ae1d",
   "metadata": {
    "slideshow": {
     "slide_type": "slide"
    }
   },
   "source": [
    "#### Ćwiczenie"
   ]
  },
  {
   "cell_type": "markdown",
   "id": "0ac1390f",
   "metadata": {
    "slideshow": {
     "slide_type": "fragment"
    }
   },
   "source": [
    "Napisz program w Pythonie, który wykreśli dwie lub więcej linii na tym samym wykresie z odpowiednią legendą każdej linii."
   ]
  },
  {
   "cell_type": "markdown",
   "id": "a366d4ea",
   "metadata": {
    "slideshow": {
     "slide_type": "subslide"
    }
   },
   "source": [
    "Przykładowy wynik:"
   ]
  },
  {
   "cell_type": "markdown",
   "id": "d088d021",
   "metadata": {
    "slideshow": {
     "slide_type": "fragment"
    }
   },
   "source": [
    "![](https://www.w3resource.com/w3r_images/matplotlib-basic-exercise-5.png)"
   ]
  },
  {
   "cell_type": "markdown",
   "id": "ffb1e9c7",
   "metadata": {
    "slideshow": {
     "slide_type": "slide"
    }
   },
   "source": [
    "#### Rozwiązanie"
   ]
  },
  {
   "cell_type": "code",
   "execution_count": null,
   "id": "3ca0652e",
   "metadata": {
    "slideshow": {
     "slide_type": "subslide"
    }
   },
   "outputs": [],
   "source": [
    "import matplotlib.pyplot as plt\n",
    "# punkty linii 1\n",
    "x1 = [10, 20, 30]\n",
    "y1 = [20, 40, 10]\n",
    "plt.plot(x1, y1, label = \"line 1\")  # kreślenie punktów linii 1\n",
    "# punkty linii 2\n",
    "x2 = [10, 20, 30]\n",
    "y2 = [40, 10, 30]\n",
    "plt.plot(x2, y2, label = \"line 2\")  # kreślenie punktów linii 1\n",
    "plt.xlabel('x - axis')  # Ustaw etykietę osi x bieżącej osi.\n",
    "plt.ylabel('y - axis')  # Ustaw etykietę osi y bieżącej osi.\n",
    "# Ustaw tytuł aktualnych osi.\n",
    "plt.title('Two or more lines on same plot with suitable legends ')\n",
    "plt.legend()  # pokaż legendę na podziałce\n",
    "plt.show()  # Wyświetl figurę."
   ]
  },
  {
   "cell_type": "markdown",
   "id": "87fe7344",
   "metadata": {
    "slideshow": {
     "slide_type": "slide"
    }
   },
   "source": [
    "### Narysuj dwie lub więcej linii z legendami, różnymi szerokościami i kolorami"
   ]
  },
  {
   "cell_type": "markdown",
   "id": "ca56348c",
   "metadata": {
    "slideshow": {
     "slide_type": "slide"
    }
   },
   "source": [
    "#### Ćwiczenie"
   ]
  },
  {
   "cell_type": "markdown",
   "id": "0254f5af",
   "metadata": {
    "slideshow": {
     "slide_type": "fragment"
    }
   },
   "source": [
    "Napisz program w Pythonie, który wykreśli dwie lub więcej linii z legendami, o różnych szerokościach i kolorach."
   ]
  },
  {
   "cell_type": "markdown",
   "id": "386bd9e7",
   "metadata": {
    "slideshow": {
     "slide_type": "subslide"
    }
   },
   "source": [
    "Przykładowy wynik:"
   ]
  },
  {
   "cell_type": "markdown",
   "id": "7cbd8af8",
   "metadata": {
    "slideshow": {
     "slide_type": "fragment"
    }
   },
   "source": [
    "![](https://www.w3resource.com/w3r_images/matplotlib-basic-exercise-6.png)"
   ]
  },
  {
   "cell_type": "markdown",
   "id": "20b9bbd1",
   "metadata": {
    "slideshow": {
     "slide_type": "slide"
    }
   },
   "source": [
    "#### Rozwiązanie"
   ]
  },
  {
   "cell_type": "code",
   "execution_count": null,
   "id": "86d482dd",
   "metadata": {
    "slideshow": {
     "slide_type": "subslide"
    }
   },
   "outputs": [],
   "source": [
    "import matplotlib.pyplot as plt\n",
    "# punkty linii 1\n",
    "x1 = [10,20,30]\n",
    "y1 = [20,40,10]\n",
    "# punkty linii 2\n",
    "x2 = [10,20,30]\n",
    "y2 = [40,10,30]\n",
    "plt.xlabel('x - axis')  # Ustaw etykietę osi x bieżącej osi.\n",
    "plt.ylabel('y - axis')  # Ustaw etykietę osi y bieżącej osi.\n",
    "# Ustaw tytuł\n",
    "plt.title('Two or more lines with different widths and colors with suitable legends ')\n",
    "# Pokaż figurę.\n",
    "plt.plot(x1, y1, color='blue', linewidth = 3,  label = 'line1-width-3')\n",
    "plt.plot(x2, y2, color='red', linewidth = 5,  label = 'line2-width-5')\n",
    "plt.legend()  # pokaż legendę na podziałce\n",
    "plt.show()"
   ]
  },
  {
   "cell_type": "markdown",
   "id": "bf5c95b0",
   "metadata": {
    "slideshow": {
     "slide_type": "slide"
    }
   },
   "source": [
    "### Narysuj dwie lub więcej linii w różnych stylach"
   ]
  },
  {
   "cell_type": "markdown",
   "id": "5ff3a417",
   "metadata": {
    "slideshow": {
     "slide_type": "slide"
    }
   },
   "source": [
    "#### Ćwiczenie"
   ]
  },
  {
   "cell_type": "markdown",
   "id": "a490bb95",
   "metadata": {
    "slideshow": {
     "slide_type": "fragment"
    }
   },
   "source": [
    "Napisz program w Pythonie, który wykreśli dwie lub więcej linii w różnych stylach."
   ]
  },
  {
   "cell_type": "markdown",
   "id": "fe32ba71",
   "metadata": {
    "slideshow": {
     "slide_type": "subslide"
    }
   },
   "source": [
    "Przykładowy wynik:"
   ]
  },
  {
   "cell_type": "markdown",
   "id": "c44d8256",
   "metadata": {
    "slideshow": {
     "slide_type": "fragment"
    }
   },
   "source": [
    "![](https://www.w3resource.com/w3r_images/matplotlib-basic-exercise-7.png)"
   ]
  },
  {
   "cell_type": "markdown",
   "id": "fbed61be",
   "metadata": {
    "slideshow": {
     "slide_type": "slide"
    }
   },
   "source": [
    "#### Rozwiązanie"
   ]
  },
  {
   "cell_type": "code",
   "execution_count": null,
   "id": "f69aefc2",
   "metadata": {
    "slideshow": {
     "slide_type": "subslide"
    }
   },
   "outputs": [],
   "source": [
    "import matplotlib.pyplot as plt\n",
    "# punkty linii 1\n",
    "x1 = [10,20,30]\n",
    "y1 = [20,40,10]\n",
    "# punkty linii 2\n",
    "x2 = [10,20,30]\n",
    "y2 = [40,10,30]\n",
    "plt.xlabel('x - axis')  # Ustaw etykietę osi x bieżącej osi.\n",
    "plt.ylabel('y - axis')  # Ustaw etykietę osi y bieżącej osi.\n",
    "# Wykreśl linie i/lub znaczniki do osi.\n",
    "plt.plot(x1,y1, color='blue', linewidth = 3,  label = 'line1-dotted',linestyle='dotted')\n",
    "plt.plot(x2,y2, color='red', linewidth = 5,  label = 'line2-dashed', linestyle='dashed')\n",
    "plt.title(\"Plot with two or more lines with different styles\")  # Ustaw tytuł\n",
    "plt.legend()  # pokaż legendę na podziałce\n",
    "plt.show()  # funkcja, aby pokazać podziałkę"
   ]
  },
  {
   "cell_type": "markdown",
   "id": "e6437ab9",
   "metadata": {
    "slideshow": {
     "slide_type": "slide"
    }
   },
   "source": [
    "### Wykreśl dwie lub więcej linii i ustaw znaczniki linii"
   ]
  },
  {
   "cell_type": "markdown",
   "id": "387173cf",
   "metadata": {
    "slideshow": {
     "slide_type": "slide"
    }
   },
   "source": [
    "#### Ćwiczenie"
   ]
  },
  {
   "cell_type": "markdown",
   "id": "6e76f652",
   "metadata": {
    "slideshow": {
     "slide_type": "fragment"
    }
   },
   "source": [
    "Napisz program w Pythonie, który kreśli dwie lub więcej linii i ustawia znaczniki linii."
   ]
  },
  {
   "cell_type": "markdown",
   "id": "419c65d1",
   "metadata": {
    "slideshow": {
     "slide_type": "subslide"
    }
   },
   "source": [
    "Przykładowy wynik:"
   ]
  },
  {
   "cell_type": "markdown",
   "id": "4a03ee18",
   "metadata": {
    "slideshow": {
     "slide_type": "fragment"
    }
   },
   "source": [
    "![](https://www.w3resource.com/w3r_images/matplotlib-basic-exercise-8.png)"
   ]
  },
  {
   "cell_type": "markdown",
   "id": "9e460d75",
   "metadata": {
    "slideshow": {
     "slide_type": "slide"
    }
   },
   "source": [
    "#### Rozwiązanie"
   ]
  },
  {
   "cell_type": "code",
   "execution_count": null,
   "id": "cde7d6a4",
   "metadata": {
    "slideshow": {
     "slide_type": "subslide"
    }
   },
   "outputs": [],
   "source": [
    "import matplotlib.pyplot as plt\n",
    "x = [1,4,5,6,7]  # wartości osi x\n",
    "y = [2,6,3,6,3]  # wartości osi y\n",
    "\n",
    "# wykreślanie punktów\n",
    "plt.plot(x, y, color='red', linestyle='dashdot', linewidth = 3,\n",
    "         marker='o', markerfacecolor='blue', markersize=12)\n",
    "plt.ylim(1,8)  # Ustaw granice y aktualnych osi.\n",
    "plt.xlim(1,8)  # Ustaw granice x aktualnych osi.\n",
    "\n",
    "plt.xlabel('x - axis')  # nazwanie osi X\n",
    "plt.ylabel('y - axis')  # nazwanie osi Y\n",
    "\n",
    "plt.title('Display marker')  # nadawanie tytułu wykresowi\n",
    "plt.show()  # funkcja, aby pokazać podziałkę"
   ]
  },
  {
   "cell_type": "markdown",
   "id": "8dc2b33b",
   "metadata": {
    "slideshow": {
     "slide_type": "slide"
    }
   },
   "source": [
    "### Wyświetl aktualne wartości limitów osi i ustaw nowe wartości osi"
   ]
  },
  {
   "cell_type": "markdown",
   "id": "8fb46e9d",
   "metadata": {
    "slideshow": {
     "slide_type": "slide"
    }
   },
   "source": [
    "#### Ćwiczenie"
   ]
  },
  {
   "cell_type": "markdown",
   "id": "7faee82a",
   "metadata": {
    "slideshow": {
     "slide_type": "fragment"
    }
   },
   "source": [
    "Napisz program w języku Python, który będzie wyświetlał bieżące wartości graniczne osi i ustawiał nowe wartości osi."
   ]
  },
  {
   "cell_type": "markdown",
   "id": "82743f37",
   "metadata": {
    "slideshow": {
     "slide_type": "subslide"
    }
   },
   "source": [
    "Przykładowy wynik:"
   ]
  },
  {
   "cell_type": "markdown",
   "id": "ff2f6958",
   "metadata": {
    "slideshow": {
     "slide_type": "fragment"
    }
   },
   "source": [
    "`(-1.4000000000000004, 51.4, -4.2, 154.2)`\n",
    "![](https://www.w3resource.com/w3r_images/matplotlib-basic-exercise-9.png)"
   ]
  },
  {
   "cell_type": "markdown",
   "id": "03649d5f",
   "metadata": {
    "slideshow": {
     "slide_type": "slide"
    }
   },
   "source": [
    "#### Rozwiązanie"
   ]
  },
  {
   "cell_type": "code",
   "execution_count": null,
   "id": "ffc2b076",
   "metadata": {
    "slideshow": {
     "slide_type": "subslide"
    }
   },
   "outputs": [],
   "source": [
    "import matplotlib.pyplot as plt\n",
    "X = range(1, 50)\n",
    "Y = [value * 3 for value in X]\n",
    "plt.plot(X, Y)\n",
    "plt.xlabel('x - axis')\n",
    "plt.ylabel('y - axis')\n",
    "plt.title('Draw a line.')\n",
    "print(plt.axis())  # pokazuje aktualne wartości limitów osi\n",
    "# ustaw nowe limity osi\n",
    "# Limit osi x 0 do 100\n",
    "# Limit osi y 0 do 200\n",
    "plt.axis([0, 100, 0, 200]) \n",
    "plt.show()  # Wyświetl figurę."
   ]
  },
  {
   "cell_type": "markdown",
   "id": "f23e5455",
   "metadata": {
    "slideshow": {
     "slide_type": "slide"
    }
   },
   "source": [
    "### Wykreśl kilka linii z różnymi stylami formatu w jednym poleceniu za pomocą tablic"
   ]
  },
  {
   "cell_type": "markdown",
   "id": "d5a30750",
   "metadata": {
    "slideshow": {
     "slide_type": "slide"
    }
   },
   "source": [
    "#### Ćwiczenie"
   ]
  },
  {
   "cell_type": "markdown",
   "id": "6a307a66",
   "metadata": {
    "slideshow": {
     "slide_type": "fragment"
    }
   },
   "source": [
    "Napisz program w Pythonie, który będzie kreślił kilka linii z różnymi stylami formatu w jednym poleceniu za pomocą tablic."
   ]
  },
  {
   "cell_type": "markdown",
   "id": "3070d28f",
   "metadata": {
    "slideshow": {
     "slide_type": "subslide"
    }
   },
   "source": [
    "Przykładowy wynik:"
   ]
  },
  {
   "cell_type": "markdown",
   "id": "af004ccf",
   "metadata": {
    "slideshow": {
     "slide_type": "fragment"
    }
   },
   "source": [
    "![](https://www.w3resource.com/w3r_images/matplotlib-basic-exercise-11.png)"
   ]
  },
  {
   "cell_type": "markdown",
   "id": "8c8d7258",
   "metadata": {
    "slideshow": {
     "slide_type": "slide"
    }
   },
   "source": [
    "#### Rozwiązanie"
   ]
  },
  {
   "cell_type": "code",
   "execution_count": null,
   "id": "703703d7",
   "metadata": {
    "slideshow": {
     "slide_type": "subslide"
    }
   },
   "outputs": [],
   "source": [
    "import numpy as np\n",
    "import matplotlib.pyplot as plt\n",
    "\n",
    "# Czas próbkowania w odstępach 200ms\n",
    "t = np.arange(0., 5., 0.2)\n",
    "\n",
    "# zielone kreski, niebieskie kwadraty i czerwone trójkąty\n",
    "plt.plot(t, t, 'g--', t, t**2, 'bs', t, t**3, 'r^')\n",
    "plt.show()"
   ]
  },
  {
   "cell_type": "markdown",
   "id": "92316369",
   "metadata": {
    "slideshow": {
     "slide_type": "slide"
    }
   },
   "source": [
    "### Utwórz wiele podziałek"
   ]
  },
  {
   "cell_type": "markdown",
   "id": "3880f651",
   "metadata": {
    "slideshow": {
     "slide_type": "slide"
    }
   },
   "source": [
    "#### Ćwiczenie"
   ]
  },
  {
   "cell_type": "markdown",
   "id": "da831c9d",
   "metadata": {
    "slideshow": {
     "slide_type": "fragment"
    }
   },
   "source": [
    "Napisz program w Pythonie do tworzenia wielu wykresów"
   ]
  },
  {
   "cell_type": "markdown",
   "id": "3fbdb6ac",
   "metadata": {
    "slideshow": {
     "slide_type": "subslide"
    }
   },
   "source": [
    "Przykładowy wynik:"
   ]
  },
  {
   "cell_type": "markdown",
   "id": "f9baae18",
   "metadata": {
    "slideshow": {
     "slide_type": "fragment"
    }
   },
   "source": [
    "![](https://www.w3resource.com/w3r_images/matplotlib-basic-exercise-15.png)"
   ]
  },
  {
   "cell_type": "markdown",
   "id": "2690cf68",
   "metadata": {
    "slideshow": {
     "slide_type": "slide"
    }
   },
   "source": [
    "#### Rozwiązanie"
   ]
  },
  {
   "cell_type": "code",
   "execution_count": null,
   "id": "ae4077dc",
   "metadata": {
    "slideshow": {
     "slide_type": "subslide"
    }
   },
   "outputs": [],
   "source": [
    "import matplotlib.pyplot as plt\n",
    "fig = plt.figure()\n",
    "fig.subplots_adjust(bottom=0.020, left=0.020, top = 0.900, right=0.800)\n",
    "\n",
    "plt.subplot(2, 1, 1)\n",
    "plt.xticks(()), plt.yticks(())\n",
    "\n",
    "plt.subplot(2, 3, 4)\n",
    "plt.xticks(()), plt.yticks(())\n",
    "\n",
    "plt.subplot(2, 3, 5)\n",
    "plt.xticks(()), plt.yticks(())\n",
    "\n",
    "plt.subplot(2, 3, 6)\n",
    "plt.xticks(()), plt.yticks(())\n",
    "\n",
    "plt.show()"
   ]
  },
  {
   "cell_type": "markdown",
   "id": "43351468",
   "metadata": {
    "slideshow": {
     "slide_type": "slide"
    }
   },
   "source": [
    "### Wyświetl wykres słupkowy popularności języków programowania"
   ]
  },
  {
   "cell_type": "markdown",
   "id": "415e6832",
   "metadata": {
    "slideshow": {
     "slide_type": "slide"
    }
   },
   "source": [
    "#### Ćwiczenie"
   ]
  },
  {
   "cell_type": "markdown",
   "id": "b249390d",
   "metadata": {
    "slideshow": {
     "slide_type": "fragment"
    }
   },
   "source": [
    "Napisz program w Pythonie, aby wyświetlić wykres słupkowy popularności języków programowania.\n",
    "\n",
    "Przykładowe dane:\n",
    "\n",
    "Języki programowania: `'Java', 'Python', 'PHP', 'JavaScript', 'C#', 'C++'`\n",
    "\n",
    "Popularność: `22.2, 17.6, 8.8, 8, 7.7, 6.7`"
   ]
  },
  {
   "cell_type": "markdown",
   "id": "3680b9ad",
   "metadata": {
    "slideshow": {
     "slide_type": "subslide"
    }
   },
   "source": [
    "Przykładowy wynik:"
   ]
  },
  {
   "cell_type": "markdown",
   "id": "58dad0b6",
   "metadata": {
    "slideshow": {
     "slide_type": "fragment"
    }
   },
   "source": [
    "![](https://www.w3resource.com/w3r_images/matplotlib-barchart-exercise-1.png)"
   ]
  },
  {
   "cell_type": "markdown",
   "id": "3f0c6003",
   "metadata": {
    "slideshow": {
     "slide_type": "slide"
    }
   },
   "source": [
    "#### Rozwiązanie"
   ]
  },
  {
   "cell_type": "code",
   "execution_count": null,
   "id": "3f17a593",
   "metadata": {
    "slideshow": {
     "slide_type": "subslide"
    }
   },
   "outputs": [],
   "source": [
    "import matplotlib.pyplot as plt\n",
    "x = ['Java', 'Python', 'PHP', 'JavaScript', 'C#', 'C++']\n",
    "popularity = [22.2, 17.6, 8.8, 8, 7.7, 6.7]\n",
    "x_pos = [i for i, _ in enumerate(x)]\n",
    "plt.bar(x_pos, popularity, color='blue')\n",
    "plt.xlabel(\"Languages\")\n",
    "plt.ylabel(\"Popularity\")\n",
    "plt.title(\"PopularitY of Programming Language\\n\" + \"Worldwide, Oct 2017 compared to a year ago\")\n",
    "plt.xticks(x_pos, x)\n",
    "plt.minorticks_on()  # Włącz siatkę\n",
    "plt.grid(which='major', linestyle='-', linewidth='0.5', color='red')\n",
    "# Dostosuj mniejszą siatkę\n",
    "plt.grid(which='minor', linestyle=':', linewidth='0.5', color='black')\n",
    "plt.show()"
   ]
  },
  {
   "cell_type": "markdown",
   "id": "02476157",
   "metadata": {
    "slideshow": {
     "slide_type": "slide"
    }
   },
   "source": [
    "### Wyświetl poziomy wykres słupkowy popularności języków programowania"
   ]
  },
  {
   "cell_type": "markdown",
   "id": "d9992be6",
   "metadata": {
    "slideshow": {
     "slide_type": "slide"
    }
   },
   "source": [
    "#### Ćwiczenie"
   ]
  },
  {
   "cell_type": "markdown",
   "id": "d5ff028c",
   "metadata": {
    "slideshow": {
     "slide_type": "fragment"
    }
   },
   "source": [
    "Napisz program w Pythonie wyświetlający poziomy wykres słupkowy popularności języków programowania.\n",
    "\n",
    "Przykładowe dane:\n",
    "\n",
    "Języki programowania: `'Java', 'Python', 'PHP', 'JS', 'C#', 'C++'`\n",
    "\n",
    "Popularność: `22.2, 17.6, 8.8, 8, 7.7, 6.7`"
   ]
  },
  {
   "cell_type": "markdown",
   "id": "27dfa2ad",
   "metadata": {
    "slideshow": {
     "slide_type": "subslide"
    }
   },
   "source": [
    "Przykładowy wynik:"
   ]
  },
  {
   "cell_type": "markdown",
   "id": "e0e14af1",
   "metadata": {
    "slideshow": {
     "slide_type": "fragment"
    }
   },
   "source": [
    "![](https://www.w3resource.com/w3r_images/matplotlib-barchart-exercise-2.png)"
   ]
  },
  {
   "cell_type": "markdown",
   "id": "ccb7a1f6",
   "metadata": {
    "slideshow": {
     "slide_type": "slide"
    }
   },
   "source": [
    "#### Rozwiązanie"
   ]
  },
  {
   "cell_type": "code",
   "execution_count": null,
   "id": "5bcf878f",
   "metadata": {
    "slideshow": {
     "slide_type": "subslide"
    }
   },
   "outputs": [],
   "source": [
    "import matplotlib.pyplot as plt\n",
    "x = ['Java', 'Python', 'PHP', 'JS', 'C#', 'C++']\n",
    "popularity = [22.2, 17.6, 8.8, 8, 7.7, 6.7]\n",
    "x_pos = [i for i, _ in enumerate(x)]\n",
    "plt.barh(x_pos, popularity, color='green')\n",
    "plt.xlabel(\"Popularity\")\n",
    "plt.ylabel(\"Languages\")\n",
    "plt.title(\"PopularitY of Programming Language\\n\" + \"Worldwide, Oct 2017 compared to a year ago\")\n",
    "plt.yticks(x_pos, x)\n",
    "plt.minorticks_on()  # Włącz siatkę\n",
    "plt.grid(which='major', linestyle='-', linewidth='0.5', color='red')\n",
    "# Dostosuj mniejszą siatkę\n",
    "plt.grid(which='minor', linestyle=':', linewidth='0.5', color='black')\n",
    "plt.show()"
   ]
  },
  {
   "cell_type": "markdown",
   "id": "68554313",
   "metadata": {
    "slideshow": {
     "slide_type": "slide"
    }
   },
   "source": [
    "### Wyświetl wykres słupkowy popularności języków programowania"
   ]
  },
  {
   "cell_type": "markdown",
   "id": "cc5aba2e",
   "metadata": {
    "slideshow": {
     "slide_type": "slide"
    }
   },
   "source": [
    "#### Ćwiczenie"
   ]
  },
  {
   "cell_type": "markdown",
   "id": "c8397abe",
   "metadata": {
    "slideshow": {
     "slide_type": "fragment"
    }
   },
   "source": [
    "Napisz program w Pythonie wyświetlający poziomy wykres słupkowy popularności języków programowania.\n",
    "\n",
    "Przykładowe dane:\n",
    "\n",
    "Języki programowania: `'Java', 'Python', 'PHP', 'JavaScript', 'C#', 'C++'`\n",
    "\n",
    "Popularność: `22.2, 17.6, 8.8, 8, 7.7, 6.7`"
   ]
  },
  {
   "cell_type": "markdown",
   "id": "080acfd1",
   "metadata": {
    "slideshow": {
     "slide_type": "subslide"
    }
   },
   "source": [
    "Przykładowy wynik:"
   ]
  },
  {
   "cell_type": "markdown",
   "id": "5b180ebd",
   "metadata": {
    "slideshow": {
     "slide_type": "fragment"
    }
   },
   "source": [
    "![](https://www.w3resource.com/w3r_images/matplotlib-barchart-exercise-3.png)"
   ]
  },
  {
   "cell_type": "markdown",
   "id": "4f2ff7fd",
   "metadata": {
    "slideshow": {
     "slide_type": "slide"
    }
   },
   "source": [
    "#### Rozwiązanie"
   ]
  },
  {
   "cell_type": "code",
   "execution_count": null,
   "id": "db893bb0",
   "metadata": {
    "slideshow": {
     "slide_type": "subslide"
    }
   },
   "outputs": [],
   "source": [
    "import matplotlib.pyplot as plt\n",
    "x = ['Java', 'Python', 'PHP', 'JavaScript', 'C#', 'C++']\n",
    "popularity = [22.2, 17.6, 8.8, 8, 7.7, 6.7]\n",
    "x_pos = [i for i, _ in enumerate(x)]\n",
    "\n",
    "plt.bar(x_pos, popularity, color=(0.4, 0.6, 0.8, 1.0))\n",
    "\n",
    "plt.xlabel(\"Languages\")\n",
    "plt.ylabel(\"Popularity\")\n",
    "plt.title(\"PopularitY of Programming Language\\n\" + \"Worldwide, Oct 2017 compared to a year ago\")\n",
    "plt.xticks(x_pos, x)\n",
    "plt.minorticks_on()  # Włącz siatkę\n",
    "plt.grid(which='major', linestyle='-', linewidth='0.5', color='red')\n",
    "# Dostosuj mniejszą siatkę\n",
    "plt.grid(which='minor', linestyle=':', linewidth='0.5', color='black')\n",
    "plt.show()"
   ]
  },
  {
   "cell_type": "markdown",
   "id": "a94f936e",
   "metadata": {
    "slideshow": {
     "slide_type": "slide"
    }
   },
   "source": [
    "### Wyświetl wykres słupkowy popularności języków programowania, używając innego koloru dla każdego słupka"
   ]
  },
  {
   "cell_type": "markdown",
   "id": "59e33ce0",
   "metadata": {
    "slideshow": {
     "slide_type": "slide"
    }
   },
   "source": [
    "#### Ćwiczenie"
   ]
  },
  {
   "cell_type": "markdown",
   "id": "e0245a9d",
   "metadata": {
    "slideshow": {
     "slide_type": "fragment"
    }
   },
   "source": [
    "Napisz program w Pythonie wyświetlający wykres słupkowy popularności języków programowania. Użyj innego koloru dla każdego paska.\n",
    "\n",
    "Przykładowe dane:\n",
    "\n",
    "Języki programowania: `'Java', 'Python', 'PHP', 'JavaScript', 'C#', 'C++'`\n",
    "\n",
    "Popularność: `22.2, 17.6, 8.8, 8, 7.7, 6.7`"
   ]
  },
  {
   "cell_type": "markdown",
   "id": "572c6009",
   "metadata": {
    "slideshow": {
     "slide_type": "subslide"
    }
   },
   "source": [
    "Przykładowy wynik:"
   ]
  },
  {
   "cell_type": "markdown",
   "id": "06e0b7b9",
   "metadata": {
    "slideshow": {
     "slide_type": "fragment"
    }
   },
   "source": [
    "![](https://www.w3resource.com/w3r_images/matplotlib-barchart-exercise-4.png)"
   ]
  },
  {
   "cell_type": "markdown",
   "id": "93fdd9ed",
   "metadata": {
    "slideshow": {
     "slide_type": "slide"
    }
   },
   "source": [
    "#### Rozwiązanie"
   ]
  },
  {
   "cell_type": "code",
   "execution_count": null,
   "id": "67280cbc",
   "metadata": {
    "slideshow": {
     "slide_type": "subslide"
    }
   },
   "outputs": [],
   "source": [
    "import matplotlib.pyplot as plt\n",
    "x = ['Java', 'Python', 'PHP', 'JavaScript', 'C#', 'C++']\n",
    "popularity = [22.2, 17.6, 8.8, 8, 7.7, 6.7]\n",
    "x_pos = [i for i, _ in enumerate(x)]\n",
    "\n",
    "plt.bar(x_pos, popularity, color=['red', 'black', 'green', 'blue', 'yellow', 'cyan'])\n",
    "\n",
    "plt.xlabel(\"Languages\")\n",
    "plt.ylabel(\"Popularity\")\n",
    "plt.title(\"PopularitY of Programming Language\\n\" + \"Worldwide, Oct 2017 compared to a year ago\")\n",
    "plt.xticks(x_pos, x)\n",
    "plt.minorticks_on()  # Włącz siatkę\n",
    "plt.grid(which='major', linestyle='-', linewidth='0.5', color='red')\n",
    "# Dostosuj mniejszą siatkę\n",
    "plt.grid(which='minor', linestyle=':', linewidth='0.5', color='black')\n",
    "plt.show()"
   ]
  },
  {
   "cell_type": "markdown",
   "id": "067bbd93",
   "metadata": {
    "slideshow": {
     "slide_type": "slide"
    }
   },
   "source": [
    "### Narysuj wykres punktowy, biorąc losowy rozkład w X i Y"
   ]
  },
  {
   "cell_type": "markdown",
   "id": "00b12402",
   "metadata": {
    "slideshow": {
     "slide_type": "slide"
    }
   },
   "source": [
    "#### Ćwiczenie"
   ]
  },
  {
   "cell_type": "markdown",
   "id": "1def050f",
   "metadata": {
    "slideshow": {
     "slide_type": "fragment"
    }
   },
   "source": [
    "Napisz program w Pythonie, który narysuje wykres punktowy, biorąc losowy rozkład w X i Y i wykreślając je względem siebie."
   ]
  },
  {
   "cell_type": "markdown",
   "id": "b1c1e8f1",
   "metadata": {
    "slideshow": {
     "slide_type": "subslide"
    }
   },
   "source": [
    "Przykładowy wynik:"
   ]
  },
  {
   "cell_type": "markdown",
   "id": "3652f8fc",
   "metadata": {
    "slideshow": {
     "slide_type": "fragment"
    }
   },
   "source": [
    "![](https://www.w3resource.com/w3r_images/matplotlib-scatter-exercise-1.png)"
   ]
  },
  {
   "cell_type": "markdown",
   "id": "66b38105",
   "metadata": {
    "slideshow": {
     "slide_type": "slide"
    }
   },
   "source": [
    "#### Rozwiązanie"
   ]
  },
  {
   "cell_type": "code",
   "execution_count": null,
   "id": "05fe4418",
   "metadata": {
    "slideshow": {
     "slide_type": "fragment"
    }
   },
   "outputs": [],
   "source": [
    "import matplotlib.pyplot as plt\n",
    "from pylab import randn\n",
    "X = randn(200)\n",
    "Y = randn(200)\n",
    "plt.scatter(X,Y, color='r')\n",
    "plt.xlabel(\"X\")\n",
    "plt.ylabel(\"Y\")\n",
    "plt.show()"
   ]
  },
  {
   "cell_type": "markdown",
   "id": "36f45928",
   "metadata": {
    "slideshow": {
     "slide_type": "slide"
    }
   },
   "source": [
    "### Narysuj wykres punktowy z pustymi okręgami, przyjmując losowy rozkład w X i Y"
   ]
  },
  {
   "cell_type": "markdown",
   "id": "d7d0aa01",
   "metadata": {
    "slideshow": {
     "slide_type": "slide"
    }
   },
   "source": [
    "#### Ćwiczenie"
   ]
  },
  {
   "cell_type": "markdown",
   "id": "d5163a31",
   "metadata": {
    "slideshow": {
     "slide_type": "fragment"
    }
   },
   "source": [
    "Napisz program w Pythonie, który narysuje wykres punktowy z pustymi okręgami, przyjmując losowy rozkład w X i Y i wykreślając je względem siebie."
   ]
  },
  {
   "cell_type": "markdown",
   "id": "10d4a7e6",
   "metadata": {
    "slideshow": {
     "slide_type": "subslide"
    }
   },
   "source": [
    "Przykładowy wynik:"
   ]
  },
  {
   "cell_type": "markdown",
   "id": "eb09dc01",
   "metadata": {
    "slideshow": {
     "slide_type": "fragment"
    }
   },
   "source": [
    "![](https://www.w3resource.com/w3r_images/matplotlib-scatter-exercise-2.png)"
   ]
  },
  {
   "cell_type": "markdown",
   "id": "b335898c",
   "metadata": {
    "slideshow": {
     "slide_type": "slide"
    }
   },
   "source": [
    "#### Rozwiązanie"
   ]
  },
  {
   "cell_type": "code",
   "execution_count": null,
   "id": "ca2b9ddb",
   "metadata": {
    "slideshow": {
     "slide_type": "fragment"
    }
   },
   "outputs": [],
   "source": [
    "import matplotlib.pyplot as plt \n",
    "import numpy as np \n",
    "x = np.random.randn(50) \n",
    "y = np.random.randn(50)\n",
    "plt.scatter(x, y, s=70, facecolors='none', edgecolors='g')\n",
    "plt.xlabel(\"X\")\n",
    "plt.ylabel(\"Y\")\n",
    "plt.show()"
   ]
  },
  {
   "cell_type": "code",
   "execution_count": null,
   "id": "ac767407",
   "metadata": {
    "slideshow": {
     "slide_type": "skip"
    }
   },
   "outputs": [],
   "source": []
  }
 ],
 "metadata": {
  "celltoolbar": "Slideshow",
  "kernelspec": {
   "display_name": "Python 3 (ipykernel)",
   "language": "python",
   "name": "python3"
  },
  "language_info": {
   "codemirror_mode": {
    "name": "ipython",
    "version": 3
   },
   "file_extension": ".py",
   "mimetype": "text/x-python",
   "name": "python",
   "nbconvert_exporter": "python",
   "pygments_lexer": "ipython3",
   "version": "3.10.4"
  }
 },
 "nbformat": 4,
 "nbformat_minor": 5
}
