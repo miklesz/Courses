{
 "cells": [
  {
   "cell_type": "markdown",
   "id": "a08920a0",
   "metadata": {
    "slideshow": {
     "slide_type": "slide"
    }
   },
   "source": [
    "## Seaborn\n",
    "\n",
    "Sam `matplotlib` ma dość mało intuicyjne API - dlatego powstały pakiety takie jak `Seaborn`, które znacząco ułatwiają pracę z wykresami"
   ]
  },
  {
   "cell_type": "code",
   "execution_count": null,
   "id": "3c7a5058",
   "metadata": {
    "slideshow": {
     "slide_type": "fragment"
    }
   },
   "outputs": [],
   "source": [
    "import numpy as np\n",
    "import pandas as pd\n",
    "import matplotlib as mpl\n",
    "import matplotlib.pyplot as plt"
   ]
  },
  {
   "cell_type": "code",
   "execution_count": null,
   "id": "ca6286d7",
   "metadata": {
    "slideshow": {
     "slide_type": "fragment"
    }
   },
   "outputs": [],
   "source": [
    "%matplotlib inline"
   ]
  },
  {
   "cell_type": "markdown",
   "id": "18133210",
   "metadata": {
    "slideshow": {
     "slide_type": "fragment"
    }
   },
   "source": [
    "Seaborn to pakiet zbudowany na bazie matplotlib który ułatwia pracę z nim. Przede wszystkim Seaborn świetnie działa w użyciu z obiektami typu `pandas.DataFrame`"
   ]
  },
  {
   "cell_type": "code",
   "execution_count": null,
   "id": "9196420c",
   "metadata": {
    "slideshow": {
     "slide_type": "fragment"
    }
   },
   "outputs": [],
   "source": [
    "import seaborn as sns"
   ]
  },
  {
   "cell_type": "code",
   "execution_count": null,
   "id": "ca2cb218",
   "metadata": {
    "slideshow": {
     "slide_type": "fragment"
    }
   },
   "outputs": [],
   "source": [
    "rng = np.random.RandomState(0)\n",
    "x = np.linspace(0, 10, 500)\n",
    "y = np.cumsum(rng.randn(500, 6), 0)\n"
   ]
  },
  {
   "cell_type": "code",
   "execution_count": null,
   "id": "eb011dc6",
   "metadata": {
    "slideshow": {
     "slide_type": "subslide"
    }
   },
   "outputs": [],
   "source": [
    "plt.plot(x, y)\n",
    "plt.legend('ABCDEF', ncol=2, loc='upper left');"
   ]
  },
  {
   "cell_type": "code",
   "execution_count": null,
   "id": "8b0fe49e",
   "metadata": {
    "slideshow": {
     "slide_type": "subslide"
    }
   },
   "outputs": [],
   "source": [
    "sns.set()"
   ]
  },
  {
   "cell_type": "code",
   "execution_count": null,
   "id": "b285e396",
   "metadata": {
    "slideshow": {
     "slide_type": "fragment"
    }
   },
   "outputs": [],
   "source": [
    "plt.plot(x, y)\n",
    "plt.legend('ABCDEF', ncol=2, loc='upper left');"
   ]
  },
  {
   "cell_type": "markdown",
   "id": "e85eec97",
   "metadata": {
    "slideshow": {
     "slide_type": "subslide"
    }
   },
   "source": [
    "Przypomnijmy sobie rysowanie histogramu:"
   ]
  },
  {
   "cell_type": "code",
   "execution_count": null,
   "id": "488b4b92",
   "metadata": {
    "slideshow": {
     "slide_type": "fragment"
    }
   },
   "outputs": [],
   "source": [
    "data = np.random.multivariate_normal([0, 0], [[5, 2], [2, 2]], size=2000)\n",
    "data = pd.DataFrame(data, columns=['x', 'y'])\n",
    "\n",
    "for col in 'xy':\n",
    "    plt.hist(data[col], alpha=0.5)"
   ]
  },
  {
   "cell_type": "markdown",
   "id": "450307a2",
   "metadata": {
    "slideshow": {
     "slide_type": "subslide"
    }
   },
   "source": [
    "Korzystając z Seaborn możemy łatwo narysować estymowaną gęstość rozkładu:"
   ]
  },
  {
   "cell_type": "code",
   "execution_count": null,
   "id": "0879d11d",
   "metadata": {
    "slideshow": {
     "slide_type": "fragment"
    }
   },
   "outputs": [],
   "source": [
    "for col in 'xy':\n",
    "    sns.kdeplot(data[col], shade=True)"
   ]
  },
  {
   "cell_type": "markdown",
   "id": "981b4d3c",
   "metadata": {
    "slideshow": {
     "slide_type": "subslide"
    }
   },
   "source": [
    "Albo połączyć gęstość wraz z histogramem:"
   ]
  },
  {
   "cell_type": "code",
   "execution_count": null,
   "id": "e6ab616b",
   "metadata": {
    "slideshow": {
     "slide_type": "fragment"
    }
   },
   "outputs": [],
   "source": [
    "sns.distplot(data['x'])\n",
    "sns.distplot(data['y']);"
   ]
  },
  {
   "cell_type": "markdown",
   "id": "43c48b28",
   "metadata": {
    "slideshow": {
     "slide_type": "subslide"
    }
   },
   "source": [
    "Seaborn świetnie sobie radzi również z rokładami wielowymiarowymi:"
   ]
  },
  {
   "cell_type": "code",
   "execution_count": null,
   "id": "4f337360",
   "metadata": {
    "slideshow": {
     "slide_type": "fragment"
    }
   },
   "outputs": [],
   "source": [
    "sns.kdeplot(x=data['x'], y=data['y']);"
   ]
  },
  {
   "cell_type": "code",
   "execution_count": null,
   "id": "ac7d94b1",
   "metadata": {
    "slideshow": {
     "slide_type": "subslide"
    }
   },
   "outputs": [],
   "source": [
    "with sns.axes_style('white'):\n",
    "    sns.jointplot(x=data['x'], y=data['y'], kind='kde')"
   ]
  },
  {
   "cell_type": "markdown",
   "id": "44b3c663",
   "metadata": {
    "slideshow": {
     "slide_type": "subslide"
    }
   },
   "source": [
    "Możemy również skorzystać z `pairplot` aby szybko przedstawić relacje między różnymi zmiennymi:"
   ]
  },
  {
   "cell_type": "code",
   "execution_count": null,
   "id": "8647e42e",
   "metadata": {
    "slideshow": {
     "slide_type": "fragment"
    }
   },
   "outputs": [],
   "source": [
    "iris = sns.load_dataset(\"iris\")\n",
    "iris.head()"
   ]
  },
  {
   "cell_type": "code",
   "execution_count": null,
   "id": "76c1ebbc",
   "metadata": {
    "slideshow": {
     "slide_type": "subslide"
    }
   },
   "outputs": [],
   "source": [
    "sns.pairplot(iris, hue='species', height=2.5);"
   ]
  },
  {
   "cell_type": "markdown",
   "id": "bf612e66",
   "metadata": {
    "slideshow": {
     "slide_type": "slide"
    }
   },
   "source": [
    "### Przykład"
   ]
  },
  {
   "cell_type": "code",
   "execution_count": null,
   "id": "09d8f0cd",
   "metadata": {
    "slideshow": {
     "slide_type": "fragment"
    }
   },
   "outputs": [],
   "source": [
    "marathon_url = 'https://raw.githubusercontent.com/jakevdp/marathon-data/master/marathon-data.csv'"
   ]
  },
  {
   "cell_type": "code",
   "execution_count": null,
   "id": "56f43fb5",
   "metadata": {
    "slideshow": {
     "slide_type": "fragment"
    }
   },
   "outputs": [],
   "source": [
    "marathon_df = pd.read_csv(marathon_url)"
   ]
  },
  {
   "cell_type": "code",
   "execution_count": null,
   "id": "5db5559a",
   "metadata": {
    "scrolled": true,
    "slideshow": {
     "slide_type": "fragment"
    }
   },
   "outputs": [],
   "source": [
    "marathon_df.head(), marathon_df.dtypes"
   ]
  },
  {
   "cell_type": "markdown",
   "id": "7571f867",
   "metadata": {
    "slideshow": {
     "slide_type": "subslide"
    }
   },
   "source": [
    "Zmieńmy odpowiednio typy danych:"
   ]
  },
  {
   "cell_type": "code",
   "execution_count": null,
   "id": "18903289",
   "metadata": {
    "slideshow": {
     "slide_type": "fragment"
    }
   },
   "outputs": [],
   "source": [
    "from datetime import timedelta"
   ]
  },
  {
   "cell_type": "code",
   "execution_count": null,
   "id": "c3f61005",
   "metadata": {
    "slideshow": {
     "slide_type": "fragment"
    }
   },
   "outputs": [],
   "source": [
    "def convert_time(s):\n",
    "    h, m, s = map(int, s.split(':'))\n",
    "    return timedelta(hours=h, minutes=m, seconds=s)"
   ]
  },
  {
   "cell_type": "code",
   "execution_count": null,
   "id": "7332a007",
   "metadata": {
    "slideshow": {
     "slide_type": "fragment"
    }
   },
   "outputs": [],
   "source": [
    "marathon_df = pd.read_csv(marathon_url, converters={'split':convert_time, 'final':convert_time})"
   ]
  },
  {
   "cell_type": "code",
   "execution_count": null,
   "id": "100ae4bf",
   "metadata": {
    "slideshow": {
     "slide_type": "fragment"
    }
   },
   "outputs": [],
   "source": [
    "marathon_df.head()"
   ]
  },
  {
   "cell_type": "code",
   "execution_count": null,
   "id": "fafd259b",
   "metadata": {
    "slideshow": {
     "slide_type": "subslide"
    }
   },
   "outputs": [],
   "source": [
    "marathon_df.dtypes"
   ]
  },
  {
   "cell_type": "code",
   "execution_count": null,
   "id": "40ff8896",
   "metadata": {
    "slideshow": {
     "slide_type": "fragment"
    }
   },
   "outputs": [],
   "source": [
    "marathon_df['split_sec'] = marathon_df['split'].dt.seconds\n",
    "marathon_df['final_sec'] = marathon_df['final'].dt.seconds\n",
    "marathon_df.head()"
   ]
  },
  {
   "cell_type": "code",
   "execution_count": null,
   "id": "45849fb2",
   "metadata": {
    "slideshow": {
     "slide_type": "subslide"
    }
   },
   "outputs": [],
   "source": [
    "with sns.axes_style('white'):\n",
    "    g = sns.jointplot(x=marathon_df['split_sec'], y=marathon_df['final_sec'], kind='hex')\n",
    "    g.ax_joint.plot(np.linspace(4000, 16000),\n",
    "                    np.linspace(8000, 32000), ':k')"
   ]
  },
  {
   "cell_type": "code",
   "execution_count": null,
   "id": "44931e80",
   "metadata": {
    "slideshow": {
     "slide_type": "subslide"
    }
   },
   "outputs": [],
   "source": [
    "marathon_df['split_frac'] = 1 - 2 * marathon_df['split_sec'] / marathon_df['final_sec']\n",
    "marathon_df.head()"
   ]
  },
  {
   "cell_type": "code",
   "execution_count": null,
   "id": "00afc22e",
   "metadata": {
    "slideshow": {
     "slide_type": "fragment"
    }
   },
   "outputs": [],
   "source": [
    "sns.histplot(marathon_df['split_frac'], kde=False);\n",
    "plt.axvline(0, color=\"k\", linestyle=\"--\");"
   ]
  },
  {
   "cell_type": "code",
   "execution_count": null,
   "id": "9cf149d0",
   "metadata": {
    "slideshow": {
     "slide_type": "fragment"
    }
   },
   "outputs": [],
   "source": [
    "sum(marathon_df.split_frac < 0)"
   ]
  },
  {
   "cell_type": "code",
   "execution_count": null,
   "id": "ec4a085d",
   "metadata": {
    "slideshow": {
     "slide_type": "subslide"
    }
   },
   "outputs": [],
   "source": [
    "g = sns.PairGrid(marathon_df, vars=['age', 'split_sec', 'final_sec', 'split_frac'], hue='gender', palette='RdBu_r')\n",
    "g.map(plt.scatter, alpha=0.8) and g.add_legend();"
   ]
  },
  {
   "cell_type": "code",
   "execution_count": null,
   "id": "8d3e249e",
   "metadata": {
    "slideshow": {
     "slide_type": "subslide"
    }
   },
   "outputs": [],
   "source": [
    "sns.kdeplot(marathon_df.split_frac[marathon_df.gender=='M'], label='men', shade=True)\n",
    "sns.kdeplot(marathon_df.split_frac[marathon_df.gender=='W'], label='women', shade=True)\n",
    "plt.xlabel('split_frac')\n",
    "plt.legend();"
   ]
  },
  {
   "cell_type": "code",
   "execution_count": null,
   "id": "fffd576e",
   "metadata": {
    "slideshow": {
     "slide_type": "subslide"
    }
   },
   "outputs": [],
   "source": [
    "sns.violinplot(x=marathon_df[\"gender\"], y=marathon_df[\"split_frac\"],\n",
    "               palette=[\"lightblue\", \"lightpink\"]);"
   ]
  },
  {
   "cell_type": "code",
   "execution_count": null,
   "id": "d8326baa",
   "metadata": {
    "slideshow": {
     "slide_type": "subslide"
    }
   },
   "outputs": [],
   "source": [
    "marathon_df['age_dec'] = marathon_df.age.map(lambda age: 10 * (age // 10))\n",
    "marathon_df.head()"
   ]
  },
  {
   "cell_type": "code",
   "execution_count": null,
   "id": "a8fa7dfe",
   "metadata": {
    "slideshow": {
     "slide_type": "fragment"
    }
   },
   "outputs": [],
   "source": [
    "with sns.axes_style(style=None):\n",
    "    sns.violinplot(x=marathon_df[\"age_dec\"], y=marathon_df[\"split_frac\"], hue=\"gender\", data=marathon_df,\n",
    "                   split=True, inner=\"quartile\",\n",
    "                   palette=[\"lightblue\", \"lightpink\"]);"
   ]
  },
  {
   "cell_type": "code",
   "execution_count": null,
   "id": "99055f8b",
   "metadata": {
    "slideshow": {
     "slide_type": "subslide"
    }
   },
   "outputs": [],
   "source": [
    "sum(marathon_df['age'] > 80)"
   ]
  },
  {
   "cell_type": "code",
   "execution_count": null,
   "id": "b0094844",
   "metadata": {
    "slideshow": {
     "slide_type": "skip"
    }
   },
   "outputs": [],
   "source": []
  }
 ],
 "metadata": {
  "celltoolbar": "Slideshow",
  "kernelspec": {
   "display_name": "Python 3 (ipykernel)",
   "language": "python",
   "name": "python3"
  },
  "language_info": {
   "codemirror_mode": {
    "name": "ipython",
    "version": 3
   },
   "file_extension": ".py",
   "mimetype": "text/x-python",
   "name": "python",
   "nbconvert_exporter": "python",
   "pygments_lexer": "ipython3",
   "version": "3.10.2"
  }
 },
 "nbformat": 4,
 "nbformat_minor": 5
}
