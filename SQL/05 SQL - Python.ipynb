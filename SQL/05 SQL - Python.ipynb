{
 "cells": [
  {
   "cell_type": "markdown",
   "metadata": {
    "slideshow": {
     "slide_type": "slide"
    }
   },
   "source": [
    "# SQL - Interfejs Pythona dla baz danych SQLite\n",
    "_Mikołaj Leszczuk_\n",
    "![](https://pbs.twimg.com/media/EW-ZS6NXQAA7oUa.jpg)"
   ]
  },
  {
   "cell_type": "markdown",
   "metadata": {
    "slideshow": {
     "slide_type": "slide"
    }
   },
   "source": [
    "# Konspekt\n",
    "* Interfejs sqlite3\n",
    "* Ćwiczenia\n",
    "* Test\n",
    "* Materiały dodatkowe"
   ]
  },
  {
   "cell_type": "markdown",
   "metadata": {
    "slideshow": {
     "slide_type": "slide"
    }
   },
   "source": [
    "## Interfejs sqlite3\n",
    "\n",
    "Interfejs sqlite3 to biblioteka C, która zapewnia lekką dyskową bazę danych, która nie wymaga oddzielnego procesu serwera i umożliwia dostęp do bazy danych przy użyciu niestandardowego wariantu języka zapytań SQL. Niektóre aplikacje mogą używać sqlite3 do wewnętrznego przechowywania danych. Możliwe jest również prototypowanie aplikacji przy użyciu sqlite3, a następnie przeniesienie kodu do większej bazy danych, takiej jak PostgreSQL lub Oracle.\n",
    "\n",
    "Moduł sqlite3 został napisany przez Gerharda Häringa. Zapewnia interfejs SQL zgodny ze specyfikacją DB-API 2.0 opisaną w [PEP 249](https://www.python.org/dev/peps/pep-0249)."
   ]
  },
  {
   "cell_type": "markdown",
   "metadata": {
    "slideshow": {
     "slide_type": "subslide"
    }
   },
   "source": [
    "Aby użyć modułu, musisz najpierw utworzyć obiekt [`Connection`](https://docs.python.org/3/library/sqlite3.html#sqlite3.Connection), który reprezentuje bazę danych. Tutaj dane zostaną zapisane w pliku `example.db`:"
   ]
  },
  {
   "cell_type": "code",
   "execution_count": 2,
   "metadata": {
    "slideshow": {
     "slide_type": "fragment"
    }
   },
   "outputs": [
    {
     "ename": "FileNotFoundError",
     "evalue": "[Errno 2] No such file or directory: 'example.db'",
     "output_type": "error",
     "traceback": [
      "\u001b[0;31m---------------------------------------------------------------------------\u001b[0m",
      "\u001b[0;31mFileNotFoundError\u001b[0m                         Traceback (most recent call last)",
      "Cell \u001b[0;32mIn[2], line 2\u001b[0m\n\u001b[1;32m      1\u001b[0m \u001b[38;5;28;01mimport\u001b[39;00m \u001b[38;5;21;01mos\u001b[39;00m\n\u001b[0;32m----> 2\u001b[0m \u001b[43mos\u001b[49m\u001b[38;5;241;43m.\u001b[39;49m\u001b[43mremove\u001b[49m\u001b[43m(\u001b[49m\u001b[38;5;124;43m'\u001b[39;49m\u001b[38;5;124;43mexample.db\u001b[39;49m\u001b[38;5;124;43m'\u001b[39;49m\u001b[43m)\u001b[49m\n",
      "\u001b[0;31mFileNotFoundError\u001b[0m: [Errno 2] No such file or directory: 'example.db'"
     ]
    }
   ],
   "source": [
    "import os\n",
    "os.remove('example.db')"
   ]
  },
  {
   "cell_type": "code",
   "execution_count": 3,
   "metadata": {
    "slideshow": {
     "slide_type": "fragment"
    }
   },
   "outputs": [],
   "source": [
    "import sqlite3\n",
    "conn = sqlite3.connect('example.db')"
   ]
  },
  {
   "cell_type": "markdown",
   "metadata": {
    "slideshow": {
     "slide_type": "fragment"
    }
   },
   "source": [
    "Możesz również podać specjalną nazwę `:memory:` aby utworzyć bazę danych w pamięci RAM."
   ]
  },
  {
   "cell_type": "markdown",
   "metadata": {
    "slideshow": {
     "slide_type": "subslide"
    }
   },
   "source": [
    "Gdy masz już połączenie ([`Connection`](https://docs.python.org/3/library/sqlite3.html#sqlite3.Connection)), możesz utworzyć obiekt [Cursor](https://docs.python.org/3/library/sqlite3.html#sqlite3.Cursor) i wywołać jego metodę [execute()](https://docs.python.org/3/library/sqlite3.html#sqlite3.Cursor.execute) w celu wykonania poleceń SQL:"
   ]
  },
  {
   "cell_type": "code",
   "execution_count": 4,
   "metadata": {
    "slideshow": {
     "slide_type": "fragment"
    }
   },
   "outputs": [],
   "source": [
    "c = conn.cursor()"
   ]
  },
  {
   "cell_type": "markdown",
   "metadata": {
    "slideshow": {
     "slide_type": "subslide"
    }
   },
   "source": [
    "Utwórz tabelę:"
   ]
  },
  {
   "cell_type": "code",
   "execution_count": 5,
   "metadata": {
    "slideshow": {
     "slide_type": "fragment"
    }
   },
   "outputs": [
    {
     "data": {
      "text/plain": [
       "<sqlite3.Cursor at 0x111cb9640>"
      ]
     },
     "execution_count": 5,
     "metadata": {},
     "output_type": "execute_result"
    }
   ],
   "source": [
    "c.execute('''CREATE TABLE stocks\n",
    "             (date text, trans text, symbol text, qty real, price real)''')"
   ]
  },
  {
   "cell_type": "markdown",
   "metadata": {
    "slideshow": {
     "slide_type": "fragment"
    }
   },
   "source": [
    "Wstaw wiersz danych:"
   ]
  },
  {
   "cell_type": "code",
   "execution_count": 6,
   "metadata": {
    "slideshow": {
     "slide_type": "fragment"
    }
   },
   "outputs": [
    {
     "data": {
      "text/plain": [
       "<sqlite3.Cursor at 0x111cb9640>"
      ]
     },
     "execution_count": 6,
     "metadata": {},
     "output_type": "execute_result"
    }
   ],
   "source": [
    "c.execute(\"INSERT INTO stocks VALUES ('2006-01-05', 'BUY', 'RHAT', 100, 35.14)\")"
   ]
  },
  {
   "cell_type": "markdown",
   "metadata": {
    "slideshow": {
     "slide_type": "fragment"
    }
   },
   "source": [
    "Zapisz (zatwierdź, ang. _commit_) zmiany:"
   ]
  },
  {
   "cell_type": "code",
   "execution_count": 7,
   "metadata": {
    "slideshow": {
     "slide_type": "fragment"
    }
   },
   "outputs": [],
   "source": [
    "conn.commit()"
   ]
  },
  {
   "cell_type": "markdown",
   "metadata": {
    "slideshow": {
     "slide_type": "subslide"
    }
   },
   "source": [
    "Możemy również zamknąć połączenie, jeśli skończymy.\n",
    "\n",
    "Tylko upewnij się, że wszelkie zmiany zostały wprowadzone, w przeciwnym razie zostaną utracone:"
   ]
  },
  {
   "cell_type": "code",
   "execution_count": 8,
   "metadata": {
    "slideshow": {
     "slide_type": "fragment"
    }
   },
   "outputs": [],
   "source": [
    "conn.close()"
   ]
  },
  {
   "cell_type": "markdown",
   "metadata": {
    "slideshow": {
     "slide_type": "fragment"
    }
   },
   "source": [
    "Zapisane dane są trwałe i są dostępne w kolejnych sesjach:"
   ]
  },
  {
   "cell_type": "code",
   "execution_count": 9,
   "metadata": {
    "slideshow": {
     "slide_type": "fragment"
    }
   },
   "outputs": [],
   "source": [
    "import sqlite3\n",
    "conn = sqlite3.connect('example.db')\n",
    "c = conn.cursor()"
   ]
  },
  {
   "cell_type": "markdown",
   "metadata": {
    "slideshow": {
     "slide_type": "subslide"
    }
   },
   "source": [
    "Nigdy tego nie rób (niepewne!):"
   ]
  },
  {
   "cell_type": "code",
   "execution_count": 13,
   "metadata": {
    "slideshow": {
     "slide_type": "fragment"
    }
   },
   "outputs": [
    {
     "name": "stdout",
     "output_type": "stream",
     "text": [
      "SELECT * FROM stocks WHERE symbol = 'RHAT';\n"
     ]
    },
    {
     "data": {
      "text/plain": [
       "<sqlite3.Cursor at 0x111975140>"
      ]
     },
     "execution_count": 13,
     "metadata": {},
     "output_type": "execute_result"
    }
   ],
   "source": [
    "symbol = \"RHAT\"\n",
    "query = f\"SELECT * FROM stocks WHERE symbol = '{symbol}';\"\n",
    "print(query)\n",
    "c.execute(query)"
   ]
  },
  {
   "cell_type": "markdown",
   "metadata": {
    "slideshow": {
     "slide_type": "fragment"
    }
   },
   "source": [
    "Zrób to zamiast tego:"
   ]
  },
  {
   "cell_type": "code",
   "execution_count": 14,
   "metadata": {
    "slideshow": {
     "slide_type": "fragment"
    }
   },
   "outputs": [
    {
     "name": "stdout",
     "output_type": "stream",
     "text": [
      "('2006-01-05', 'BUY', 'RHAT', 100.0, 35.14)\n"
     ]
    }
   ],
   "source": [
    "t = ('RHAT', )\n",
    "c.execute('SELECT * FROM stocks WHERE symbol=?', t)\n",
    "print(c.fetchone())"
   ]
  },
  {
   "cell_type": "markdown",
   "metadata": {
    "slideshow": {
     "slide_type": "fragment"
    }
   },
   "source": [
    "Argument `execute`, który reprezentuje wartości, które chcesz wstawić do bazy danych, powinien być krotką (sekwencją)!"
   ]
  },
  {
   "cell_type": "markdown",
   "metadata": {
    "slideshow": {
     "slide_type": "subslide"
    }
   },
   "source": [
    "Większy przykład, który wstawia wiele rekordów naraz:"
   ]
  },
  {
   "cell_type": "code",
   "execution_count": 15,
   "metadata": {
    "slideshow": {
     "slide_type": "fragment"
    }
   },
   "outputs": [
    {
     "data": {
      "text/plain": [
       "<sqlite3.Cursor at 0x111975140>"
      ]
     },
     "execution_count": 15,
     "metadata": {},
     "output_type": "execute_result"
    }
   ],
   "source": [
    "purchases = [('2006-03-28', 'BUY', 'IBM', 1000, 45.00),\n",
    "             ('2006-04-05', 'BUY', 'MSFT', 1000, 72.00),\n",
    "             ('2006-04-06', 'SELL', 'IBM', 500, 53.00),\n",
    "            ]\n",
    "c.executemany('INSERT INTO stocks VALUES (?,?,?,?,?)', purchases)"
   ]
  },
  {
   "cell_type": "markdown",
   "metadata": {
    "slideshow": {
     "slide_type": "subslide"
    }
   },
   "source": [
    "Aby pobrać dane po wykonaniu instrukcji SELECT, możesz traktować kursor jako [iterator](https://docs.python.org/3/glossary.html#term-iterator), wywołać metodę [`fetchone()`](https://docs.python.org/3/library/sqlite3.html#sqlite3.Cursor.fetchone) kursora w celu pobrania pojedynczego pasującego wiersza lub wywołać funkcję [`fetchall()`](https://docs.python.org/3/library/sqlite3.html#sqlite3.Cursor.fetchall) w celu uzyskania listy pasujących wierszy.\n",
    "\n",
    "W tym przykładzie zastosowano formę iteratora:"
   ]
  },
  {
   "cell_type": "code",
   "execution_count": 16,
   "metadata": {
    "slideshow": {
     "slide_type": "fragment"
    }
   },
   "outputs": [
    {
     "name": "stdout",
     "output_type": "stream",
     "text": [
      "('2006-01-05', 'BUY', 'RHAT', 100.0, 35.14)\n",
      "('2006-03-28', 'BUY', 'IBM', 1000.0, 45.0)\n",
      "('2006-04-06', 'SELL', 'IBM', 500.0, 53.0)\n",
      "('2006-04-05', 'BUY', 'MSFT', 1000.0, 72.0)\n"
     ]
    }
   ],
   "source": [
    "for row in c.execute('SELECT * FROM stocks ORDER BY price'):\n",
    "    print(row)"
   ]
  },
  {
   "cell_type": "markdown",
   "metadata": {
    "slideshow": {
     "slide_type": "subslide"
    }
   },
   "source": [
    "Metoda **`iterdump()`** zwraca iterator do zrzutu bazy danych w formacie tekstowym SQL. Przydatne podczas zapisywania bazy danych w pamięci w celu późniejszego przywrócenia.\n",
    "\n",
    "Można więc napisać program w Pythonie, aby utworzyć kopię zapasową bazy danych SQLite:"
   ]
  },
  {
   "cell_type": "code",
   "execution_count": 17,
   "metadata": {
    "slideshow": {
     "slide_type": "fragment"
    }
   },
   "outputs": [
    {
     "name": "stdout",
     "output_type": "stream",
     "text": [
      "Kopia zapasowa została wykonana pomyślnie.\n",
      "Zapisano jako CodeBrainers_dump.sql\n"
     ]
    }
   ],
   "source": [
    "import sqlite3\n",
    "import io\n",
    "conn = sqlite3.connect('CodeBrainers.db')\n",
    "with io.open('CodeBrainers_dump.sql', 'w') as f:\n",
    "    for line in conn.iterdump():\n",
    "        f.write('%s\\n' % line)\n",
    "print('Kopia zapasowa została wykonana pomyślnie.')\n",
    "print('Zapisano jako CodeBrainers_dump.sql')\n",
    "conn.close()"
   ]
  },
  {
   "cell_type": "markdown",
   "metadata": {
    "slideshow": {
     "slide_type": "slide"
    }
   },
   "source": [
    "## Ćwiczenia"
   ]
  },
  {
   "cell_type": "markdown",
   "metadata": {
    "slideshow": {
     "slide_type": "fragment"
    }
   },
   "source": [
    "Python i baza danych SQLite - ćwiczenia i praktyka"
   ]
  },
  {
   "cell_type": "markdown",
   "metadata": {
    "slideshow": {
     "slide_type": "slide"
    }
   },
   "source": [
    "### Utwórz połączenie bazy danych SQLite z bazą danych znajdującą się w pamięci"
   ]
  },
  {
   "cell_type": "markdown",
   "metadata": {
    "slideshow": {
     "slide_type": "slide"
    }
   },
   "source": [
    "#### Ćwiczenie"
   ]
  },
  {
   "cell_type": "markdown",
   "metadata": {
    "slideshow": {
     "slide_type": "fragment"
    }
   },
   "source": [
    "Napisz program w języku Python, aby utworzyć połączenie bazy danych SQLite z bazą danych znajdującą się w pamięci."
   ]
  },
  {
   "cell_type": "markdown",
   "metadata": {},
   "source": [
    "---"
   ]
  },
  {
   "cell_type": "markdown",
   "metadata": {
    "slideshow": {
     "slide_type": "slide"
    }
   },
   "source": [
    "#### Rozwiązanie"
   ]
  },
  {
   "cell_type": "markdown",
   "metadata": {
    "slideshow": {
     "slide_type": "fragment"
    }
   },
   "source": [
    "Kod Pythona (przykładowe rozwiązanie i przykładowe dane wyjściowe):"
   ]
  },
  {
   "cell_type": "code",
   "execution_count": 18,
   "metadata": {
    "slideshow": {
     "slide_type": "fragment"
    }
   },
   "outputs": [
    {
     "name": "stdout",
     "output_type": "stream",
     "text": [
      "Baza danych pamięci utworzona i połączona z SQLite.\n",
      "Połączenie SQLite jest zamknięte.\n"
     ]
    }
   ],
   "source": [
    "import sqlite3\n",
    "conn = sqlite3.connect(':memory:')\n",
    "print(\"Baza danych pamięci utworzona i połączona z SQLite.\")\n",
    "conn.close()\n",
    "print(\"Połączenie SQLite jest zamknięte.\")"
   ]
  },
  {
   "cell_type": "markdown",
   "metadata": {
    "slideshow": {
     "slide_type": "slide"
    }
   },
   "source": [
    "### Utwórz bazę danych SQLite i połącz się z bazą danych oraz wydrukuj wersje"
   ]
  },
  {
   "cell_type": "markdown",
   "metadata": {
    "slideshow": {
     "slide_type": "slide"
    }
   },
   "source": [
    "#### Ćwiczenie"
   ]
  },
  {
   "cell_type": "markdown",
   "metadata": {
    "slideshow": {
     "slide_type": "fragment"
    }
   },
   "source": [
    "Napisz program w Pythonie, aby utworzyć bazę danych SQLite w pliku i połączyć się z bazą danych oraz wydrukować wersję bazy danych SQLite i numer wersji modułu sqlite3 w postaci ciągu.\n",
    "\n",
    "Podpowiedzi:\n",
    "* Funkcja SQLite **sqlite_version** zwraca ciąg znaków wersji dla uruchomionej biblioteki SQLite.\n",
    "* Atrybut Pythona `sqlite3.`**`version`** zwraca numer wersji modułu sqlite3 w postaci ciągu. To nie jest wersja biblioteki SQLite!"
   ]
  },
  {
   "cell_type": "markdown",
   "metadata": {},
   "source": [
    "---"
   ]
  },
  {
   "cell_type": "markdown",
   "metadata": {
    "slideshow": {
     "slide_type": "slide"
    }
   },
   "source": [
    "#### Rozwiązanie"
   ]
  },
  {
   "cell_type": "markdown",
   "metadata": {
    "slideshow": {
     "slide_type": "fragment"
    }
   },
   "source": [
    "Kod Pythona (przykładowe rozwiązanie i przykładowe dane wyjściowe):"
   ]
  },
  {
   "cell_type": "code",
   "execution_count": 19,
   "metadata": {
    "slideshow": {
     "slide_type": "fragment"
    }
   },
   "outputs": [
    {
     "name": "stdout",
     "output_type": "stream",
     "text": [
      "Baza danych stworzona i połączona z SQLite.\n",
      "Wersja bazy danych SQLite to:  [('3.42.0',)]\n",
      "Wersja modułu sqlite3 to:  2.6.0\n",
      "Połączenie SQLite jest zamknięte.\n"
     ]
    }
   ],
   "source": [
    "import sqlite3\n",
    "conn = sqlite3.connect('temp.db')\n",
    "c = conn.cursor()\n",
    "print(\"Baza danych stworzona i połączona z SQLite.\")\n",
    "query = \"SELECT sqlite_version();\"\n",
    "c.execute(query)\n",
    "record = c.fetchall()\n",
    "print(\"Wersja bazy danych SQLite to: \", record)\n",
    "print(\"Wersja modułu sqlite3 to: \", sqlite3.version)\n",
    "conn.close()\n",
    "print(\"Połączenie SQLite jest zamknięte.\")"
   ]
  },
  {
   "cell_type": "markdown",
   "metadata": {
    "slideshow": {
     "slide_type": "slide"
    }
   },
   "source": [
    "### Utwórz bazę danych SQLite, połącz się z bazą danych oraz zabezpiecz się przed wyjątkami"
   ]
  },
  {
   "cell_type": "markdown",
   "metadata": {
    "slideshow": {
     "slide_type": "slide"
    }
   },
   "source": [
    "#### Ćwiczenie"
   ]
  },
  {
   "cell_type": "markdown",
   "metadata": {
    "slideshow": {
     "slide_type": "fragment"
    }
   },
   "source": [
    "Napisz program w Pythonie, aby utworzyć bazę danych SQLite i połączyć się z bazą danych oraz zabezpieczyć się przed wyjątkami. Wywołaj sztucznie wyjątek, wykonując błędne zapytanie.\n",
    "\n",
    "Podpowiedź: _wyjątek_ `sqlite3.`**`Error`** jest to klasa bazowa pozostałych wyjątków w module sqlite3. Jest to zarazem podklasa [`Exception`](https://docs.python.org/3/library/exceptions.html#Exception)."
   ]
  },
  {
   "cell_type": "markdown",
   "metadata": {},
   "source": [
    "---"
   ]
  },
  {
   "cell_type": "markdown",
   "metadata": {
    "slideshow": {
     "slide_type": "slide"
    }
   },
   "source": [
    "#### Rozwiązanie"
   ]
  },
  {
   "cell_type": "markdown",
   "metadata": {
    "slideshow": {
     "slide_type": "fragment"
    }
   },
   "source": [
    "Kod Pythona (przykładowe rozwiązanie i przykładowe dane wyjściowe):"
   ]
  },
  {
   "cell_type": "code",
   "execution_count": 20,
   "metadata": {
    "slideshow": {
     "slide_type": "fragment"
    }
   },
   "outputs": [
    {
     "name": "stdout",
     "output_type": "stream",
     "text": [
      "Baza danych stworzona i połączona z SQLite.\n",
      "Błąd podczas łączenia się z SQLite no such table: users\n",
      "Połączenie SQLite jest zamknięte.\n"
     ]
    }
   ],
   "source": [
    "import sqlite3\n",
    "try:\n",
    "    conn = sqlite3.connect(':memory:')\n",
    "    c = conn.cursor()\n",
    "    print(\"Baza danych stworzona i połączona z SQLite.\")\n",
    "    c.execute(\"SELECT * FROM users;\")\n",
    "except sqlite3.Error as error:\n",
    "    print(\"Błąd podczas łączenia się z SQLite\", error)\n",
    "finally:\n",
    "    conn.close()\n",
    "    print(\"Połączenie SQLite jest zamknięte.\")"
   ]
  },
  {
   "cell_type": "markdown",
   "metadata": {
    "slideshow": {
     "slide_type": "slide"
    }
   },
   "source": [
    "### Utwórz tabelę w bazie danych SQLite"
   ]
  },
  {
   "cell_type": "markdown",
   "metadata": {
    "slideshow": {
     "slide_type": "slide"
    }
   },
   "source": [
    "#### Ćwiczenie"
   ]
  },
  {
   "cell_type": "markdown",
   "metadata": {
    "slideshow": {
     "slide_type": "fragment"
    }
   },
   "source": [
    "Napisz program w Pythonie, aby połączyć bazę danych SQLite, utworzyć tabelę w bazie danych i zweryfikować jej utworzenie.\n",
    "\n",
    "Podpowiedź: Każda baza danych SQLite zawiera pojedynczą „tabelę schematów”, która przechowuje schemat tej bazy danych. Schemat bazy danych to opis wszystkich innych tabel, indeksów, wyzwalaczy i widoków zawartych w bazie danych. Tabela schematów wygląda następująco:\n",
    "\n",
    "```sqlite\n",
    "CREATE TABLE sqlite_schema(\n",
    "  type text,\n",
    "  name text,\n",
    "  tbl_name text,\n",
    "  rootpage integer,\n",
    "  sql text\n",
    ");\n",
    "```"
   ]
  },
  {
   "cell_type": "markdown",
   "metadata": {
    "slideshow": {
     "slide_type": "subslide"
    }
   },
   "source": [
    "Tabela `sqlite_schema` zawiera po jednym wierszu dla każdej tabeli, indeksu, widoku i wyzwalacza (zbiorczo „obiekty”) w schemacie, z wyjątkiem tego, że nie ma wpisu dla samej tabeli `sqlite_schema`. Zapoznaj się z podsekcją dotyczącą [przechowywania schematów](https://www.sqlite.org/fileformat2.html#ffschema) w dokumentacji [formatu plików](https://www.sqlite.org/fileformat2.html), aby uzyskać dodatkowe informacje o tym, jak program SQLite używa wewnętrznie tabeli `sqlite_schema`."
   ]
  },
  {
   "cell_type": "markdown",
   "metadata": {},
   "source": [
    "---"
   ]
  },
  {
   "cell_type": "markdown",
   "metadata": {
    "slideshow": {
     "slide_type": "slide"
    }
   },
   "source": [
    "#### Rozwiązanie"
   ]
  },
  {
   "cell_type": "markdown",
   "metadata": {
    "slideshow": {
     "slide_type": "fragment"
    }
   },
   "source": [
    "Kod Pythona (przykładowe rozwiązanie i przykładowe dane wyjściowe):"
   ]
  },
  {
   "cell_type": "code",
   "execution_count": 21,
   "metadata": {
    "slideshow": {
     "slide_type": "fragment"
    }
   },
   "outputs": [
    {
     "name": "stdout",
     "output_type": "stream",
     "text": [
      "Utworzono tabelę Users.\n",
      "[('table', 'users', 'users', 2, 'CREATE TABLE users(login VARCHAR(8) NOT NULL, name VARCHAR(40) NOT NULL, phone_no VARCHAR(15))')]\n",
      "Połączenie SQLite jest zamknięte.\n"
     ]
    }
   ],
   "source": [
    "import sqlite3\n",
    "conn = sqlite3.connect(':memory:')\n",
    "c = conn.cursor()\n",
    "c.execute(\"CREATE TABLE users(login VARCHAR(8) NOT NULL, name VARCHAR(40) NOT NULL, phone_no VARCHAR(15));\")\n",
    "print(\"Utworzono tabelę Users.\")  \n",
    "c.execute(\"SELECT * FROM sqlite_schema;\")\n",
    "record = c.fetchall()\n",
    "print(record)\n",
    "conn.close()\n",
    "print(\"Połączenie SQLite jest zamknięte.\")\n"
   ]
  },
  {
   "cell_type": "markdown",
   "metadata": {
    "slideshow": {
     "slide_type": "slide"
    }
   },
   "source": [
    "### Wypisz zawartość tabel z pliku bazy danych SQLite CodeBrainers"
   ]
  },
  {
   "cell_type": "markdown",
   "metadata": {
    "slideshow": {
     "slide_type": "slide"
    }
   },
   "source": [
    "#### Ćwiczenie"
   ]
  },
  {
   "cell_type": "markdown",
   "metadata": {
    "slideshow": {
     "slide_type": "fragment"
    }
   },
   "source": [
    "Napisz program w Pythonie, który wyświetli listy zawartości tabel pliku bazy danych SQLite CodeBrainers."
   ]
  },
  {
   "cell_type": "markdown",
   "metadata": {},
   "source": [
    "---"
   ]
  },
  {
   "cell_type": "markdown",
   "metadata": {
    "slideshow": {
     "slide_type": "slide"
    }
   },
   "source": [
    "#### Rozwiązanie"
   ]
  },
  {
   "cell_type": "markdown",
   "metadata": {
    "slideshow": {
     "slide_type": "fragment"
    }
   },
   "source": [
    "Kod Pythona (przykładowe rozwiązanie i przykładowe dane wyjściowe):"
   ]
  },
  {
   "cell_type": "code",
   "execution_count": 26,
   "metadata": {
    "slideshow": {
     "slide_type": "fragment"
    }
   },
   "outputs": [
    {
     "name": "stdout",
     "output_type": "stream",
     "text": [
      "Wykaz zawartości tabel:\n",
      "[(5, 'Spodnie', 100.0, 5, '2011-02-01'), (6, 'Bluza', 60.0, 2, '2011-02-12')]\n",
      "[(1, 'Adam', 'Lublin', '2011-02-05'), (2, 'Monika', 'Gdynia', '2011-02-19'), (3, 'Natalia', 'Zakopane', '2011-02-23'), (4, 'Katarzyna', 'Lublin', '2011-03-08'), (5, 'Marcin', 'Warszawa', '2011-03-21')]\n",
      "[(1, 2, 2), (1, 4, 1), (2, 6, 1), (2, 8, 1), (2, 5, 2), (3, 5, 1), (3, 7, 2), (4, 5, 1), (4, 2, 1), (4, 7, 2), (5, 4, 1), (6, 6, 1)]\n",
      "Połączenie SQLite jest zamknięte.\n"
     ]
    }
   ],
   "source": [
    "import sqlite3\n",
    "conn = sqlite3.connect('CodeBrainers.db')\n",
    "c = conn.cursor()\n",
    "print(\"Wykaz zawartości tabel:\")\n",
    "c.execute(\"SELECT * FROM product\")\n",
    "print(c.fetchall())\n",
    "c.execute(\"SELECT * FROM customer\")\n",
    "print(c.fetchall())\n",
    "c.execute(\"SELECT * FROM order_product\")\n",
    "print(c.fetchall())\n",
    "conn.close()\n",
    "print(\"Połączenie SQLite jest zamknięte.\")"
   ]
  },
  {
   "cell_type": "code",
   "execution_count": 29,
   "metadata": {
    "slideshow": {
     "slide_type": "subslide"
    }
   },
   "outputs": [
    {
     "name": "stdout",
     "output_type": "stream",
     "text": [
      "[('Order_product',), ('Customer',), ('Product',)]\n",
      "\n",
      "Order_product:\n",
      "[(1, 2, 2), (1, 4, 1), (2, 6, 1), (2, 8, 1), (2, 5, 2), (3, 5, 1), (3, 7, 2), (4, 5, 1), (4, 2, 1), (4, 7, 2), (5, 4, 1), (6, 6, 1)]\n",
      "\n",
      "Customer:\n",
      "[(1, 'Adam', 'Lublin', '2011-02-05'), (2, 'Monika', 'Gdynia', '2011-02-19'), (3, 'Natalia', 'Zakopane', '2011-02-23'), (4, 'Katarzyna', 'Lublin', '2011-03-08'), (5, 'Marcin', 'Warszawa', '2011-03-21')]\n",
      "\n",
      "Product:\n",
      "[(5, 'Spodnie', 100.0, 5, '2011-02-01'), (6, 'Bluza', 60.0, 2, '2011-02-12')]\n"
     ]
    }
   ],
   "source": [
    "import sqlite3\n",
    "conn = sqlite3.connect('CodeBrainers.db')\n",
    "c = conn.cursor()\n",
    "c.execute('SELECT name FROM sqlite_schema WHERE type=\"table\"')\n",
    "tables = c.fetchall()\n",
    "print(tables)\n",
    "for table in tables:\n",
    "    print(f'\\n{table[0]}:')\n",
    "    c.execute(f\"SELECT * FROM {table[0]}\")\n",
    "    print(c.fetchall())\n",
    "conn.close()"
   ]
  },
  {
   "cell_type": "markdown",
   "metadata": {
    "slideshow": {
     "slide_type": "slide"
    }
   },
   "source": [
    "### Utwórz i wypełnij tabelę w bazie danych SQLite"
   ]
  },
  {
   "cell_type": "markdown",
   "metadata": {
    "slideshow": {
     "slide_type": "slide"
    }
   },
   "source": [
    "#### Ćwiczenie"
   ]
  },
  {
   "cell_type": "markdown",
   "metadata": {
    "slideshow": {
     "slide_type": "fragment"
    }
   },
   "source": [
    "Napisz program w Pythonie, aby połączyć bazę danych SQLite i utworzyć tabelę w bazie danych:\n",
    "\n",
    "Struktura tabeli `Users`:\n",
    "\n",
    "```sqlite\n",
    "login VARCHAR(8) NOT NULL\n",
    "name VARCHAR(40) NOT NULL\n",
    "phone_no VARCHAR(15)\n",
    "```\n",
    "\n",
    "Następnie spróbuj dodać jeden wiersz (np.: `'user', 'Jan Nowak', '1234567890'`) i go wyświetlić z bazy danych."
   ]
  },
  {
   "cell_type": "markdown",
   "metadata": {},
   "source": [
    "---"
   ]
  },
  {
   "cell_type": "markdown",
   "metadata": {
    "slideshow": {
     "slide_type": "slide"
    }
   },
   "source": [
    "#### Rozwiązanie"
   ]
  },
  {
   "cell_type": "markdown",
   "metadata": {
    "slideshow": {
     "slide_type": "fragment"
    }
   },
   "source": [
    "Kod Pythona (przykładowe rozwiązanie i przykładowe dane wyjściowe):"
   ]
  },
  {
   "cell_type": "code",
   "execution_count": 30,
   "metadata": {
    "slideshow": {
     "slide_type": "fragment"
    }
   },
   "outputs": [
    {
     "name": "stdout",
     "output_type": "stream",
     "text": [
      "Utworzono tabelę Users.\n",
      "[('user', 'Jan Nowak', '1234567890')]\n",
      "Połączenie SQLite jest zamknięte.\n"
     ]
    }
   ],
   "source": [
    "import sqlite3\n",
    "conn = sqlite3.connect(':memory:')\n",
    "c = conn.cursor()\n",
    "c.execute(\"CREATE TABLE users(login VARCHAR(8) NOT NULL, name VARCHAR(40) NOT NULL, phone_no VARCHAR(15));\")\n",
    "print(\"Utworzono tabelę Users.\")\n",
    "c.execute(\"INSERT INTO users VALUES ('user', 'Jan Nowak', '1234567890');\")\n",
    "c.execute(\"SELECT * FROM users;\")\n",
    "record = c.fetchall()\n",
    "print(record)\n",
    "conn.close()\n",
    "print(\"Połączenie SQLite jest zamknięte.\")"
   ]
  },
  {
   "cell_type": "markdown",
   "metadata": {
    "slideshow": {
     "slide_type": "slide"
    }
   },
   "source": [
    "### Wstaw listę rekordów do podanej tabeli SQLite i policz liczbę wierszy w danej tabeli SQLite"
   ]
  },
  {
   "cell_type": "markdown",
   "metadata": {
    "slideshow": {
     "slide_type": "slide"
    }
   },
   "source": [
    "#### Ćwiczenie"
   ]
  },
  {
   "cell_type": "markdown",
   "metadata": {
    "slideshow": {
     "slide_type": "fragment"
    }
   },
   "source": [
    "Napisz program w Pythonie, który wstawi listę kilku rekordów do podanej tabeli SQLite o kilku kolumnach (jednym poleceniem). Policz liczbę wierszy w danej tabeli SQLite (przed i po wstawieniu wierszy).\n",
    "\n",
    "Przykładowe kolumny tabeli:\n",
    "\n",
    "```sqlite\n",
    "id SMALLINT\n",
    "name VARCHAR(30)\n",
    "city VARCHAR(35)\n",
    "```"
   ]
  },
  {
   "cell_type": "markdown",
   "metadata": {
    "slideshow": {
     "slide_type": "subslide"
    }
   },
   "source": [
    "Przykładowe rekordy:\n",
    "\n",
    "```sqlite\n",
    "5001, 'Piotr Nowak',          'Warszawa'\n",
    "5002, 'Anna Kowalska',        'Kraków'\n",
    "5003, 'Krzysztof Wiśniewski', 'Łódź'\n",
    "5004, 'Maria Wójcik',         'Kraków'\n",
    "5005, 'Andrzej Kowalczyk',    'Wrocław' \n",
    "```"
   ]
  },
  {
   "cell_type": "markdown",
   "metadata": {},
   "source": [
    "---"
   ]
  },
  {
   "cell_type": "markdown",
   "metadata": {
    "slideshow": {
     "slide_type": "slide"
    }
   },
   "source": [
    "#### Rozwiązanie"
   ]
  },
  {
   "cell_type": "markdown",
   "metadata": {
    "slideshow": {
     "slide_type": "fragment"
    }
   },
   "source": [
    "Kod Pythona (przykładowe rozwiązanie i przykładowe dane wyjściowe):"
   ]
  },
  {
   "cell_type": "code",
   "execution_count": 31,
   "metadata": {
    "slideshow": {
     "slide_type": "subslide"
    }
   },
   "outputs": [
    {
     "name": "stdout",
     "output_type": "stream",
     "text": [
      "Liczba rekordów przed wstawieniem wierszy:\n",
      "0\n",
      "Liczba rekordów po wstawieniu wierszy:\n",
      "5\n",
      "Połączenie SQLite jest zamknięte.\n"
     ]
    }
   ],
   "source": [
    "import sqlite3 \n",
    "conn = sqlite3.connect(':memory:')\n",
    "c = conn.cursor()\n",
    "# Utwórz tabelę\n",
    "c.execute(\"CREATE TABLE users(id SMALLINT, name VARCHAR(30), city VARCHAR(35));\")\n",
    "print(\"Liczba rekordów przed wstawieniem wierszy:\")\n",
    "cursor = c.execute('SELECT * FROM users;')\n",
    "print(len(cursor.fetchall()))\n",
    "query = \"INSERT INTO users (id, name, city) VALUES (?, ?, ?);\"    \n",
    "# Wstaw rekordy\n",
    "rows = [(5001,'Piotr Nowak',          'Warszawa'),\n",
    "        (5002,'Anna Kowalska',        'Kraków'  ),\n",
    "        (5003,'Krzysztof Wiśniewski', 'Łódź'    ),\n",
    "        (5004,'Maria Wójcik',         'Kraków'  ),\n",
    "        (5005,'Andrzej Kowalczyk',    'Wrocław' )]\n",
    "c.executemany(query, rows)\n",
    "conn.commit()      \n",
    "print(\"Liczba rekordów po wstawieniu wierszy:\")\n",
    "cursor = c.execute('SELECT * FROM users;')\n",
    "print(len(cursor.fetchall()))\n",
    "conn.close()\n",
    "print(\"Połączenie SQLite jest zamknięte.\")"
   ]
  },
  {
   "cell_type": "markdown",
   "metadata": {
    "slideshow": {
     "slide_type": "slide"
    }
   },
   "source": [
    "### Wstaw wartości do tabeli z danych wejściowych użytkownika"
   ]
  },
  {
   "cell_type": "markdown",
   "metadata": {
    "slideshow": {
     "slide_type": "slide"
    }
   },
   "source": [
    "#### Ćwiczenie"
   ]
  },
  {
   "cell_type": "markdown",
   "metadata": {
    "slideshow": {
     "slide_type": "fragment"
    }
   },
   "source": [
    "Napisz program w Pythonie, który będzie wstawiał wartości do tabeli z danych wejściowych użytkownika.\n",
    "\n",
    "Przykładowe kolumny tabeli:\n",
    "\n",
    "```sqlite\n",
    "id SMALLINT\n",
    "name VARCHAR(30)\n",
    "city VARCHAR(35)\n",
    "```"
   ]
  },
  {
   "cell_type": "markdown",
   "metadata": {},
   "source": [
    "---"
   ]
  },
  {
   "cell_type": "markdown",
   "metadata": {
    "slideshow": {
     "slide_type": "slide"
    }
   },
   "source": [
    "#### Rozwiązanie"
   ]
  },
  {
   "cell_type": "markdown",
   "metadata": {
    "slideshow": {
     "slide_type": "fragment"
    }
   },
   "source": [
    "Kod Pythona (przykładowe rozwiązanie i przykładowe dane wyjściowe):"
   ]
  },
  {
   "cell_type": "code",
   "execution_count": 32,
   "metadata": {
    "slideshow": {
     "slide_type": "fragment"
    }
   },
   "outputs": [
    {
     "name": "stdout",
     "output_type": "stream",
     "text": [
      "ID:1\n",
      "Name:Mikołaj\n",
      "City:Kraków\n",
      "Dane wprowadzone pomyślnie.\n",
      "Połączenie SQLite jest zamknięte.\n"
     ]
    }
   ],
   "source": [
    "import sqlite3\n",
    "conn = sqlite3.connect(':memory:')\n",
    "c  = conn.cursor()\n",
    "# Utwórz tabelę użytkowników \n",
    "c.execute(\"CREATE TABLE users(id SMALLINT, name VARCHAR(30), city VARCHAR(35));\")\n",
    "input_id = input('ID:')\n",
    "input_name = input('Name:')\n",
    "input_city = input('City:')\n",
    "c.execute(\"INSERT INTO users(id, name, city) VALUES (?,?,?)\", (input_id, input_name, input_city))\n",
    "conn.commit()\n",
    "print('Dane wprowadzone pomyślnie.')\n",
    "conn.close()\n",
    "print(\"Połączenie SQLite jest zamknięte.\")"
   ]
  },
  {
   "cell_type": "markdown",
   "metadata": {
    "slideshow": {
     "slide_type": "slide"
    }
   },
   "source": [
    "### Zaktualizuj określoną wartość kolumny w danej tabeli"
   ]
  },
  {
   "cell_type": "markdown",
   "metadata": {
    "slideshow": {
     "slide_type": "slide"
    }
   },
   "source": [
    "#### Ćwiczenie"
   ]
  },
  {
   "cell_type": "markdown",
   "metadata": {
    "slideshow": {
     "slide_type": "fragment"
    }
   },
   "source": [
    "Napisz program w Pythonie, aby zaktualizować określoną wartość kolumny w danej tabeli i wybrać/wyświetlić w pętli wszystkie wiersze przed i po aktualizacji tej tabeli.\n",
    "\n",
    "Przykładowe kolumny tabeli:\n",
    "\n",
    "```sqlite\n",
    "id SMALLINT\n",
    "name VARCHAR(30)\n",
    "city VARCHAR(35)\n",
    "```"
   ]
  },
  {
   "cell_type": "markdown",
   "metadata": {
    "slideshow": {
     "slide_type": "subslide"
    }
   },
   "source": [
    "Przykładowe rekordy:\n",
    "\n",
    "```sqlite\n",
    "5001, 'Piotr Nowak',          'Warszawa'\n",
    "5002, 'Anna Kowalska',        'Kraków'\n",
    "5003, 'Krzysztof Wiśniewski', 'Łódź'\n",
    "5004, 'Maria Wójcik',         'Kraków'\n",
    "5005, 'Andrzej Kowalczyk',    'Wrocław'\n",
    "```"
   ]
  },
  {
   "cell_type": "markdown",
   "metadata": {},
   "source": [
    "---"
   ]
  },
  {
   "cell_type": "markdown",
   "metadata": {
    "slideshow": {
     "slide_type": "slide"
    }
   },
   "source": [
    "#### Rozwiązanie"
   ]
  },
  {
   "cell_type": "markdown",
   "metadata": {
    "slideshow": {
     "slide_type": "fragment"
    }
   },
   "source": [
    "Kod Pythona (przykładowe rozwiązanie i przykładowe dane wyjściowe):"
   ]
  },
  {
   "cell_type": "code",
   "execution_count": null,
   "metadata": {
    "slideshow": {
     "slide_type": "subslide"
    }
   },
   "outputs": [],
   "source": [
    "import sqlite3 \n",
    "conn = sqlite3.connect(':memory:')\n",
    "c = conn.cursor()\n",
    "# Utwórz tabelę\n",
    "c.execute(\"CREATE TABLE users(id SMALLINT, name VARCHAR(30), city VARCHAR(35));\")\n",
    "query = \"INSERT INTO users (id, name, city) VALUES (?, ?, ?);\"    \n",
    "# Wstaw rekordy\n",
    "rows = [(5001,'Piotr Nowak',          'Warszawa'),\n",
    "        (5002,'Anna Kowalska',        'Kraków'  ),\n",
    "        (5003,'Krzysztof Wiśniewski', 'Łódź'    ),\n",
    "        (5004,'Maria Wójcik',         'Kraków'  ),\n",
    "        (5005,'Andrzej Kowalczyk',    'Wrocław' )]\n",
    "c.executemany(query, rows)\n",
    "conn.commit()      \n",
    "rows = c.execute('SELECT * FROM users;')\n",
    "print(\"Dane użytkowników:\")\n",
    "for row in rows:\n",
    "    print(row)\n",
    "print(\"Zaktualizuj miasto Łódź do Poznania, gdzie id to 5003:\")\n",
    "c.execute('UPDATE users SET city = \"Poznań\" WHERE id = 5003;')\n",
    "print(\"Rekord zaktualizowany pomyślnie.\")   \n",
    "rows = c.execute('SELECT * FROM users;')\n",
    "print(\"Po zaktualizowaniu danych użytkowników:\")\n",
    "for row in rows:\n",
    "    print(row)\n",
    "conn.close()\n",
    "print(\"Połączenie SQLite jest zamknięte.\")"
   ]
  },
  {
   "cell_type": "markdown",
   "metadata": {
    "slideshow": {
     "slide_type": "slide"
    }
   },
   "source": [
    "### Usuń określony wiersz z podanej tabeli SQLite"
   ]
  },
  {
   "cell_type": "markdown",
   "metadata": {
    "slideshow": {
     "slide_type": "slide"
    }
   },
   "source": [
    "#### Ćwiczenie"
   ]
  },
  {
   "cell_type": "markdown",
   "metadata": {
    "slideshow": {
     "slide_type": "fragment"
    }
   },
   "source": [
    "Napisz program w Pythonie, aby usunąć określony (danymi wejściowymi uzytkownika) wiersz z podanej tabeli SQLite i wybrać/wyświetlić w pętli wszystkie wiersze przed i po aktualizacji tej tabeli.\n",
    "\n",
    "Przykładowe kolumny tabeli:\n",
    "\n",
    "```sqlite\n",
    "id SMALLINT\n",
    "name VARCHAR(30)\n",
    "city VARCHAR(35)\n",
    "```"
   ]
  },
  {
   "cell_type": "markdown",
   "metadata": {
    "slideshow": {
     "slide_type": "subslide"
    }
   },
   "source": [
    "Przykładowe rekordy:\n",
    "\n",
    "```sqlite\n",
    "5001, 'Piotr Nowak',          'Warszawa'\n",
    "5002, 'Anna Kowalska',        'Kraków'\n",
    "5003, 'Krzysztof Wiśniewski', 'Łódź'\n",
    "5004, 'Maria Wójcik',         'Kraków'\n",
    "5005, 'Andrzej Kowalczyk',    'Wrocław'\n",
    "```"
   ]
  },
  {
   "cell_type": "markdown",
   "metadata": {},
   "source": [
    "---"
   ]
  },
  {
   "cell_type": "markdown",
   "metadata": {
    "slideshow": {
     "slide_type": "slide"
    }
   },
   "source": [
    "#### Rozwiązanie"
   ]
  },
  {
   "cell_type": "markdown",
   "metadata": {
    "slideshow": {
     "slide_type": "fragment"
    }
   },
   "source": [
    "Kod Pythona (przykładowe rozwiązanie i przykładowe dane wyjściowe):"
   ]
  },
  {
   "cell_type": "code",
   "execution_count": null,
   "metadata": {
    "slideshow": {
     "slide_type": "subslide"
    }
   },
   "outputs": [],
   "source": [
    "import sqlite3 \n",
    "conn = sqlite3.connect(':memory:')\n",
    "c = conn.cursor()\n",
    "# Utwórz tabelę\n",
    "c.execute(\"CREATE TABLE users(id SMALLINT, name VARCHAR(30), city VARCHAR(35));\")\n",
    "query = \"INSERT INTO users (id, name, city) VALUES (?, ?, ?);\"    \n",
    "# Wstaw rekordy\n",
    "rows = [(5001,'Piotr Nowak',          'Warszawa'),\n",
    "        (5002,'Anna Kowalska',        'Kraków'  ),\n",
    "        (5003,'Krzysztof Wiśniewski', 'Łódź'    ),\n",
    "        (5004,'Maria Wójcik',         'Kraków'  ),\n",
    "        (5005,'Andrzej Kowalczyk',    'Wrocław' )]\n",
    "c.executemany(query, rows)\n",
    "conn.commit()      \n",
    "rows = c.execute('SELECT * FROM users;')\n",
    "print(\"Dane użytkowników:\")\n",
    "for row in rows:\n",
    "    print(row)\n",
    "input_id = input('ID:')\n",
    "print(\"Usuń użytkownika o ID\", input_id, \":\")\n",
    "c.execute('DELETE FROM users WHERE id = ?;', (input_id,))\n",
    "conn.commit()\n",
    "print(\"Rekord zaktualizowany pomyślnie.\")   \n",
    "rows = c.execute('SELECT * FROM users;')\n",
    "print(\"Po zaktualizowaniu danych użytkowników:\")\n",
    "for row in rows:\n",
    "    print(row)\n",
    "conn.close()\n",
    "print(\"Połączenie SQLite jest zamknięte.\")"
   ]
  },
  {
   "cell_type": "markdown",
   "metadata": {
    "slideshow": {
     "slide_type": "slide"
    }
   },
   "source": [
    "## [Test](https://www.w3schools.com/sql/sql_quiz.asp)\n",
    "\n",
    "Możesz sprawdzić swoje umiejętności SQL w Quizie.\n",
    "\n",
    "Test zawiera 25 pytań i nie ma ograniczenia czasowego.\n",
    "\n",
    "Test nie jest oficjalny, jest po prostu przyjemnym sposobem sprawdzenia, ile wiesz lub nie wiesz o SQL."
   ]
  },
  {
   "cell_type": "markdown",
   "metadata": {
    "slideshow": {
     "slide_type": "slide"
    }
   },
   "source": [
    "## Materiały dodatkowe\n",
    "\n",
    "* [SQL e-learning](http://zasoby.open.agh.edu.pl/~11smdrobniak/)\n",
    "* [Podstawy baz danych z encyklopedią SQL](http://zasoby.open.agh.edu.pl/~09seenglert/)\n",
    "* [MySQL - podstawy](http://www.galaxy.agh.edu.pl/~pamalino/programowanie/mysql/)\n",
    "* [SQL](https://github.com/pkociepka/sql)"
   ]
  },
  {
   "cell_type": "code",
   "execution_count": null,
   "metadata": {
    "slideshow": {
     "slide_type": "skip"
    }
   },
   "outputs": [],
   "source": []
  }
 ],
 "metadata": {
  "celltoolbar": "Slideshow",
  "kernelspec": {
   "display_name": "Python 3 (ipykernel)",
   "language": "python",
   "name": "python3"
  },
  "language_info": {
   "codemirror_mode": {
    "name": "ipython",
    "version": 3
   },
   "file_extension": ".py",
   "mimetype": "text/x-python",
   "name": "python",
   "nbconvert_exporter": "python",
   "pygments_lexer": "ipython3",
   "version": "3.11.5"
  }
 },
 "nbformat": 4,
 "nbformat_minor": 4
}
