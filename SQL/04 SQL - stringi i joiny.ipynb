{
 "cells": [
  {
   "cell_type": "markdown",
   "metadata": {
    "slideshow": {
     "slide_type": "slide"
    }
   },
   "source": [
    "# SQL - stringi i joiny\n",
    "_Mikołaj Leszczuk_"
   ]
  },
  {
   "cell_type": "markdown",
   "metadata": {
    "slideshow": {
     "slide_type": "slide"
    }
   },
   "source": [
    "## Konspekt"
   ]
  },
  {
   "cell_type": "markdown",
   "metadata": {
    "slideshow": {
     "slide_type": "fragment"
    }
   },
   "source": [
    "* Operacje na stringach (+ćwiczenia)\n",
    "* Łączenie tabel i wyszukiwanie danych w wielu tabelach (+ćwiczenia)\n",
    "* Zadania utrwalające 2"
   ]
  },
  {
   "cell_type": "markdown",
   "metadata": {
    "slideshow": {
     "slide_type": "slide"
    }
   },
   "source": [
    "## Operacje na stringach"
   ]
  },
  {
   "cell_type": "markdown",
   "metadata": {
    "slideshow": {
     "slide_type": "fragment"
    }
   },
   "source": [
    "Tu doświadczymy istotnych różnic pomiędzy implementacjami DBMS!"
   ]
  },
  {
   "cell_type": "code",
   "execution_count": null,
   "metadata": {
    "slideshow": {
     "slide_type": "fragment"
    }
   },
   "outputs": [],
   "source": [
    "%CREATE osoby.db rw"
   ]
  },
  {
   "cell_type": "code",
   "execution_count": null,
   "metadata": {
    "slideshow": {
     "slide_type": "fragment"
    }
   },
   "outputs": [],
   "source": [
    "%LOAD osoby.db rw"
   ]
  },
  {
   "cell_type": "code",
   "execution_count": null,
   "metadata": {
    "slideshow": {
     "slide_type": "fragment"
    }
   },
   "outputs": [],
   "source": [
    "CREATE TABLE \"osoby\" (\n",
    "    \"imię\"     VARCHAR,\n",
    "    \"nazwisko\" VARCHAR,\n",
    "    \"wiek\"     TINYINT\n",
    ");"
   ]
  },
  {
   "cell_type": "code",
   "execution_count": null,
   "metadata": {
    "slideshow": {
     "slide_type": "subslide"
    }
   },
   "outputs": [],
   "source": [
    "SELECT * FROM osoby;"
   ]
  },
  {
   "cell_type": "code",
   "execution_count": null,
   "metadata": {
    "slideshow": {
     "slide_type": "subslide"
    }
   },
   "outputs": [],
   "source": [
    "INSERT INTO osoby VALUES (\"Paweł\", \"Kowalski\", 3);"
   ]
  },
  {
   "cell_type": "code",
   "execution_count": null,
   "metadata": {
    "slideshow": {
     "slide_type": "fragment"
    }
   },
   "outputs": [],
   "source": [
    "INSERT INTO osoby VALUES (\"Piotr\", \"Janik\", 7);"
   ]
  },
  {
   "cell_type": "code",
   "execution_count": null,
   "metadata": {
    "slideshow": {
     "slide_type": "fragment"
    }
   },
   "outputs": [],
   "source": [
    "INSERT INTO osoby VALUES (\"Michał\", \"Nowak\", 13);"
   ]
  },
  {
   "cell_type": "code",
   "execution_count": null,
   "metadata": {
    "slideshow": {
     "slide_type": "fragment"
    }
   },
   "outputs": [],
   "source": [
    "SELECT * FROM osoby;"
   ]
  },
  {
   "cell_type": "markdown",
   "metadata": {
    "slideshow": {
     "slide_type": "slide"
    }
   },
   "source": [
    "### `CONCAT()`"
   ]
  },
  {
   "cell_type": "markdown",
   "metadata": {
    "slideshow": {
     "slide_type": "fragment"
    }
   },
   "source": [
    "Czasem jest potrzeba wyświetlenia konkatenacji kolumn i jakiegoś łańcucha tekstowego. Do tego może przydać się funkcja `CONCAT()`.\n",
    "\n",
    "Składnia operatora konkatenacji różni się od siebie w bazach danych:\n",
    "\n",
    "* Oracle: `CONCAT()` lub `||`\n",
    "* MySQL: `CONCAT()`\n",
    "* SQL Server: `+`\n",
    "* SQLite: `||`"
   ]
  },
  {
   "cell_type": "markdown",
   "metadata": {
    "slideshow": {
     "slide_type": "slide"
    }
   },
   "source": [
    "#### Składnia dla MySQL/Oracle"
   ]
  },
  {
   "cell_type": "markdown",
   "metadata": {
    "slideshow": {
     "slide_type": "fragment"
    }
   },
   "source": [
    "```mysql\n",
    "SELECT CONCAT(nazwa_kolumny1,nazwa_kolumny2) FROM nazwa_tabeli;\n",
    "```"
   ]
  },
  {
   "cell_type": "markdown",
   "metadata": {
    "slideshow": {
     "slide_type": "slide"
    }
   },
   "source": [
    "##### Przykład"
   ]
  },
  {
   "cell_type": "markdown",
   "metadata": {
    "slideshow": {
     "slide_type": "fragment"
    }
   },
   "source": [
    "```mysql\n",
    "CONCAT()\n",
    "```\n",
    "\n",
    "**Wyświetl tekst powstały z połączenia imienia z nazwiskiem**\n",
    "\n",
    "Tabela **``Osoby``**:"
   ]
  },
  {
   "cell_type": "code",
   "execution_count": null,
   "metadata": {
    "slideshow": {
     "slide_type": "fragment"
    }
   },
   "outputs": [],
   "source": [
    "SELECT * FROM osoby;"
   ]
  },
  {
   "cell_type": "markdown",
   "metadata": {
    "slideshow": {
     "slide_type": "slide"
    }
   },
   "source": [
    "Zapytanie i wynik zapytania SQLite:"
   ]
  },
  {
   "cell_type": "code",
   "execution_count": null,
   "metadata": {
    "slideshow": {
     "slide_type": "fragment"
    }
   },
   "outputs": [],
   "source": [
    "SELECT CONCAT(imię,nazwisko) FROM osoby;"
   ]
  },
  {
   "cell_type": "markdown",
   "metadata": {
    "slideshow": {
     "slide_type": "subslide"
    }
   },
   "source": [
    "Zapytanie i wynik zapytania MySQL/Oracle:\n",
    "\n",
    "```mysql\n",
    "SELECT CONCAT(imię,nazwisko) FROM osoby;\n",
    "```\n",
    "\n",
    "|     CONCAT(imię,nazwisko)    |\n",
    "|:----------------------------:|\n",
    "|     PawełKowalski            |\n",
    "|     PiotrJanik               |\n",
    "|     MichałNowak              |\n",
    "\n",
    "W Oracle funkcja `CONCAT()` przyjmuje wyłącznie 2 argumenty. Problem można ominąć używając operatora `||` dostępnego tylko w Oracle i SQLite."
   ]
  },
  {
   "cell_type": "markdown",
   "metadata": {
    "slideshow": {
     "slide_type": "slide"
    }
   },
   "source": [
    "#### Składnia użycia operatora `||` w Oracle/SQLite"
   ]
  },
  {
   "cell_type": "markdown",
   "metadata": {
    "slideshow": {
     "slide_type": "fragment"
    }
   },
   "source": [
    "```sql\n",
    "SELECT 'dowolny_tekst'||nazwa_kolumny1||'dowolny_tekst'||nazwa_kolumny2 FROM nazwa_tabeli;\n",
    "```"
   ]
  },
  {
   "cell_type": "markdown",
   "metadata": {
    "slideshow": {
     "slide_type": "slide"
    }
   },
   "source": [
    "##### Przykład"
   ]
  },
  {
   "cell_type": "markdown",
   "metadata": {
    "slideshow": {
     "slide_type": "fragment"
    }
   },
   "source": [
    "Użycie `||` w Oracle/SQLite\n",
    "\n",
    "**Wyświetl imię i nazwisko oddzielone spacją `(\" \")`**\n",
    "\n",
    "Tabela **`Osoby`**:"
   ]
  },
  {
   "cell_type": "code",
   "execution_count": null,
   "metadata": {
    "slideshow": {
     "slide_type": "fragment"
    }
   },
   "outputs": [],
   "source": [
    "SELECT * FROM osoby;"
   ]
  },
  {
   "cell_type": "markdown",
   "metadata": {
    "slideshow": {
     "slide_type": "slide"
    }
   },
   "source": [
    "Zapytanie i wynik zapytania:"
   ]
  },
  {
   "cell_type": "code",
   "execution_count": null,
   "metadata": {
    "slideshow": {
     "slide_type": "fragment"
    }
   },
   "outputs": [],
   "source": [
    "SELECT imię||' '||nazwisko FROM osoby;"
   ]
  },
  {
   "cell_type": "markdown",
   "metadata": {
    "slideshow": {
     "slide_type": "slide"
    }
   },
   "source": [
    "#### Składnia dla SQL Server"
   ]
  },
  {
   "cell_type": "markdown",
   "metadata": {
    "slideshow": {
     "slide_type": "fragment"
    }
   },
   "source": [
    "```sql\n",
    "SELECT 'dowolny_tekst'+nazwa_kolumny1+'dowolny_tekst'+ nazwa_kolumny2 FROM nazwa_tabeli;\n",
    "```"
   ]
  },
  {
   "cell_type": "markdown",
   "metadata": {
    "slideshow": {
     "slide_type": "slide"
    }
   },
   "source": [
    "##### Przykład"
   ]
  },
  {
   "cell_type": "markdown",
   "metadata": {
    "slideshow": {
     "slide_type": "fragment"
    }
   },
   "source": [
    "Użycie `+` w SQL Server\n",
    "\n",
    "**Wyświetl imię i nazwisko oddzielone spacją `(\" \")`**\n",
    "\n",
    "Tabela **`Osoby`**:"
   ]
  },
  {
   "cell_type": "code",
   "execution_count": null,
   "metadata": {
    "slideshow": {
     "slide_type": "fragment"
    }
   },
   "outputs": [],
   "source": [
    "SELECT * FROM osoby;"
   ]
  },
  {
   "cell_type": "markdown",
   "metadata": {
    "slideshow": {
     "slide_type": "slide"
    }
   },
   "source": [
    "Zapytanie i wynik zapytania SQLite:"
   ]
  },
  {
   "cell_type": "code",
   "execution_count": null,
   "metadata": {
    "slideshow": {
     "slide_type": "fragment"
    }
   },
   "outputs": [],
   "source": [
    "SELECT imię+' '+nazwisko FROM osoby;"
   ]
  },
  {
   "cell_type": "markdown",
   "metadata": {
    "slideshow": {
     "slide_type": "slide"
    }
   },
   "source": [
    "Zapytanie i wynik zapytania SQL Server:\n",
    "\n",
    "```sql\n",
    "SELECT imię+' '+nazwisko FROM osoby;\n",
    "```\n",
    "\n",
    "|     imię+' '+nazwisko    |\n",
    "|:------------------------:|\n",
    "|     Paweł   Kowalski     |\n",
    "|     Piotr   Janik        |\n",
    "|     Michał   Nowak       |"
   ]
  },
  {
   "cell_type": "markdown",
   "metadata": {
    "slideshow": {
     "slide_type": "slide"
    }
   },
   "source": [
    "#### Ćwiczenie"
   ]
  },
  {
   "cell_type": "markdown",
   "metadata": {
    "slideshow": {
     "slide_type": "fragment"
    }
   },
   "source": [
    "**Wyświetl bez powtórzeń imię i nazwisko oddzielone spacją `(\" \")`**\n",
    "\n",
    "Tabela **`Simple_library_db`**:"
   ]
  },
  {
   "cell_type": "markdown",
   "metadata": {
    "slideshow": {
     "slide_type": "fragment"
    }
   },
   "source": [
    "[00 SQL - Reset.ipynb](00%20SQL%20-%20Reset.ipynb)"
   ]
  },
  {
   "cell_type": "code",
   "execution_count": null,
   "metadata": {
    "slideshow": {
     "slide_type": "fragment"
    }
   },
   "outputs": [],
   "source": [
    "%LOAD simple_library_db.db rw"
   ]
  },
  {
   "cell_type": "code",
   "execution_count": null,
   "metadata": {
    "slideshow": {
     "slide_type": "subslide"
    }
   },
   "outputs": [],
   "source": [
    "SELECT * FROM simple_library_db;"
   ]
  },
  {
   "cell_type": "markdown",
   "metadata": {
    "slideshow": {
     "slide_type": "fragment"
    }
   },
   "source": [
    "Wpisz zapytanie do bazy!"
   ]
  },
  {
   "cell_type": "markdown",
   "metadata": {},
   "source": [
    "---"
   ]
  },
  {
   "cell_type": "markdown",
   "metadata": {
    "slideshow": {
     "slide_type": "slide"
    }
   },
   "source": [
    "Zapytanie i wynik zapytania:"
   ]
  },
  {
   "cell_type": "code",
   "execution_count": null,
   "metadata": {
    "slideshow": {
     "slide_type": "fragment"
    }
   },
   "outputs": [],
   "source": [
    "SELECT DISTINCT author_name||' '|| author_surname FROM simple_library_db;"
   ]
  },
  {
   "cell_type": "markdown",
   "metadata": {
    "slideshow": {
     "slide_type": "slide"
    }
   },
   "source": [
    "### `LOWER(nazwa_kolumny)` i `UPPER(nazwa_kolumny)`"
   ]
  },
  {
   "cell_type": "markdown",
   "metadata": {
    "slideshow": {
     "slide_type": "fragment"
    }
   },
   "source": [
    "Funkcja zwraca wartość kolumny tekstowej w postaci małych/dużych liter.\n",
    "\n",
    "Składnia:\n",
    "\n",
    "```sqlite\n",
    "SELECT LOWER(nazwa_kolumny) FROM nazwa_tabeli;\n",
    "```\n",
    "\n",
    "```sqlite\n",
    "SELECT UPPER(nazwa_kolumny) FROM nazwa_tabeli;\n",
    "```"
   ]
  },
  {
   "cell_type": "markdown",
   "metadata": {
    "slideshow": {
     "slide_type": "slide"
    }
   },
   "source": [
    "#### Przykład"
   ]
  },
  {
   "cell_type": "markdown",
   "metadata": {
    "slideshow": {
     "slide_type": "fragment"
    }
   },
   "source": [
    "```sql\n",
    "LOWER()\n",
    "```\n",
    "\n",
    "**Wyświetl wszystkie nazwiska małymi literami**\n",
    "\n",
    "Tabela **`Osoby`**:"
   ]
  },
  {
   "cell_type": "code",
   "execution_count": null,
   "metadata": {
    "slideshow": {
     "slide_type": "fragment"
    }
   },
   "outputs": [],
   "source": [
    "%LOAD osoby.db rw"
   ]
  },
  {
   "cell_type": "code",
   "execution_count": null,
   "metadata": {
    "slideshow": {
     "slide_type": "fragment"
    }
   },
   "outputs": [],
   "source": [
    "SELECT * FROM osoby;"
   ]
  },
  {
   "cell_type": "markdown",
   "metadata": {
    "slideshow": {
     "slide_type": "slide"
    }
   },
   "source": [
    "Zapytanie i wynik zapytania:"
   ]
  },
  {
   "cell_type": "code",
   "execution_count": null,
   "metadata": {
    "slideshow": {
     "slide_type": "fragment"
    }
   },
   "outputs": [],
   "source": [
    "SELECT LOWER(nazwisko) FROM osoby;"
   ]
  },
  {
   "cell_type": "markdown",
   "metadata": {
    "slideshow": {
     "slide_type": "slide"
    }
   },
   "source": [
    "#### Przykład"
   ]
  },
  {
   "cell_type": "markdown",
   "metadata": {
    "slideshow": {
     "slide_type": "fragment"
    }
   },
   "source": [
    "```sql\n",
    "UPPER()\n",
    "```\n",
    "\n",
    "**Wyświetl wszystkie nazwiska dużymi literami**\n",
    "\n",
    "Tabela **`Osoby`**:"
   ]
  },
  {
   "cell_type": "code",
   "execution_count": null,
   "metadata": {
    "slideshow": {
     "slide_type": "fragment"
    }
   },
   "outputs": [],
   "source": [
    "SELECT * FROM osoby;"
   ]
  },
  {
   "cell_type": "markdown",
   "metadata": {
    "slideshow": {
     "slide_type": "slide"
    }
   },
   "source": [
    "Zapytanie i wynik zapytania:"
   ]
  },
  {
   "cell_type": "code",
   "execution_count": null,
   "metadata": {
    "slideshow": {
     "slide_type": "fragment"
    }
   },
   "outputs": [],
   "source": [
    "SELECT UPPER(nazwisko) FROM osoby;"
   ]
  },
  {
   "cell_type": "markdown",
   "metadata": {
    "slideshow": {
     "slide_type": "slide"
    }
   },
   "source": [
    "#### Ćwiczenie"
   ]
  },
  {
   "cell_type": "markdown",
   "metadata": {
    "slideshow": {
     "slide_type": "fragment"
    }
   },
   "source": [
    "**Wyświetl bez powtórzeń imię małymi literami i nazwisko dużymi literami**\n",
    "\n",
    "Tabela **`Simple_library_db`**:"
   ]
  },
  {
   "cell_type": "code",
   "execution_count": null,
   "metadata": {
    "slideshow": {
     "slide_type": "fragment"
    }
   },
   "outputs": [],
   "source": [
    "%LOAD simple_library_db.db rw"
   ]
  },
  {
   "cell_type": "code",
   "execution_count": null,
   "metadata": {
    "slideshow": {
     "slide_type": "subslide"
    }
   },
   "outputs": [],
   "source": [
    "SELECT * FROM simple_library_db;"
   ]
  },
  {
   "cell_type": "markdown",
   "metadata": {
    "slideshow": {
     "slide_type": "fragment"
    }
   },
   "source": [
    "Wpisz zapytanie do bazy!"
   ]
  },
  {
   "cell_type": "markdown",
   "metadata": {},
   "source": [
    "---"
   ]
  },
  {
   "cell_type": "markdown",
   "metadata": {
    "slideshow": {
     "slide_type": "slide"
    }
   },
   "source": [
    "Zapytanie i wynik zapytania:"
   ]
  },
  {
   "cell_type": "code",
   "execution_count": null,
   "metadata": {
    "slideshow": {
     "slide_type": "fragment"
    }
   },
   "outputs": [],
   "source": [
    "SELECT DISTINCT LOWER(author_name), UPPER(author_surname) FROM simple_library_db;"
   ]
  },
  {
   "cell_type": "markdown",
   "metadata": {
    "slideshow": {
     "slide_type": "slide"
    }
   },
   "source": [
    "### `LENGTH(nazwa_kolumny)`"
   ]
  },
  {
   "cell_type": "markdown",
   "metadata": {
    "slideshow": {
     "slide_type": "fragment"
    }
   },
   "source": [
    "Funkcja zwraca długość pola tekstowego podanego jako argument\n",
    "\n",
    "Składnia:\n",
    "\n",
    "```sqlite\n",
    "SELECT LENGTH(nazwa_kolumny) FROM nazwa_tabeli;\n",
    "```\n",
    "\n",
    "W SQL Server używa się do tego samego funkcji `LEN()`"
   ]
  },
  {
   "cell_type": "markdown",
   "metadata": {
    "slideshow": {
     "slide_type": "slide"
    }
   },
   "source": [
    "#### Przykład"
   ]
  },
  {
   "cell_type": "markdown",
   "metadata": {
    "slideshow": {
     "slide_type": "fragment"
    }
   },
   "source": [
    "```sql\n",
    "LENGTH()\n",
    "```\n",
    "\n",
    "**Wyświetl nazwisko i odpowiadającą jemu długość nazwiska**\n",
    "\n",
    "Tabela **`Osoby`**:"
   ]
  },
  {
   "cell_type": "code",
   "execution_count": null,
   "metadata": {
    "slideshow": {
     "slide_type": "fragment"
    }
   },
   "outputs": [],
   "source": [
    "%LOAD osoby.db rw"
   ]
  },
  {
   "cell_type": "code",
   "execution_count": null,
   "metadata": {
    "slideshow": {
     "slide_type": "fragment"
    }
   },
   "outputs": [],
   "source": [
    "SELECT * FROM osoby;"
   ]
  },
  {
   "cell_type": "markdown",
   "metadata": {
    "slideshow": {
     "slide_type": "slide"
    }
   },
   "source": [
    "Zapytanie i wynik zapytania:"
   ]
  },
  {
   "cell_type": "code",
   "execution_count": null,
   "metadata": {
    "slideshow": {
     "slide_type": "fragment"
    }
   },
   "outputs": [],
   "source": [
    "SELECT nazwisko,LENGTH(nazwisko) FROM osoby;"
   ]
  },
  {
   "cell_type": "markdown",
   "metadata": {
    "slideshow": {
     "slide_type": "slide"
    }
   },
   "source": [
    "### `REPLACE(str1,str2,str3)`"
   ]
  },
  {
   "cell_type": "markdown",
   "metadata": {
    "slideshow": {
     "slide_type": "fragment"
    }
   },
   "source": [
    "Funkcja przeszukuje `str1` w poszukiwaniu `str2` aby go zamienić na `str3`\n",
    "\n",
    "Składnia:\n",
    "\n",
    "```sqlite\n",
    "SELECT REPLACE(nazwa_kolumny,'str2','str3') FROM nazwa_tabeli;\n",
    "```"
   ]
  },
  {
   "cell_type": "markdown",
   "metadata": {
    "slideshow": {
     "slide_type": "slide"
    }
   },
   "source": [
    "#### Przykład"
   ]
  },
  {
   "cell_type": "markdown",
   "metadata": {
    "slideshow": {
     "slide_type": "fragment"
    }
   },
   "source": [
    "```sql\n",
    "REPLACE()\n",
    "```\n",
    "\n",
    "**Wyświetl imiona i nazwiska z tym że zamiast imienia Michał wyświetl Michael**\n",
    "\n",
    "Tabela **`Osoby`**:"
   ]
  },
  {
   "cell_type": "code",
   "execution_count": null,
   "metadata": {
    "slideshow": {
     "slide_type": "fragment"
    }
   },
   "outputs": [],
   "source": [
    "SELECT * FROM osoby;"
   ]
  },
  {
   "cell_type": "markdown",
   "metadata": {
    "slideshow": {
     "slide_type": "slide"
    }
   },
   "source": [
    "Zapytanie i wynik zapytania:"
   ]
  },
  {
   "cell_type": "code",
   "execution_count": null,
   "metadata": {
    "slideshow": {
     "slide_type": "fragment"
    }
   },
   "outputs": [],
   "source": [
    "SELECT REPLACE(imię,'Michał','Michael'), nazwisko FROM osoby;"
   ]
  },
  {
   "cell_type": "markdown",
   "metadata": {
    "slideshow": {
     "slide_type": "slide"
    }
   },
   "source": [
    "### `SUBSTR(nazwa_kolumny,pozycja[,liczba_znaków])`"
   ]
  },
  {
   "cell_type": "markdown",
   "metadata": {
    "slideshow": {
     "slide_type": "fragment"
    }
   },
   "source": [
    "Funkcja ta służy do operacji na łańcuchach tekstowych w wyniku zapytań. Może przyjmować 2-3 argumentów.\n",
    "\n",
    "```sql\n",
    "SUBSTR(nazwa_kolumny,pozycja[,liczba_znaków])\n",
    "```\n",
    "\n",
    "`nazwa_kolumny` - łańcuch tekstowy do obcięcia\n",
    "\n",
    "`pozycja` - nr znaku od którego ma być wyświetlony string\n",
    "\n",
    "`liczba_znaków` - argument opcjonalny, liczba znaków do wyświetlenia, liczona od parametru pozycja"
   ]
  },
  {
   "cell_type": "markdown",
   "metadata": {
    "slideshow": {
     "slide_type": "subslide"
    }
   },
   "source": [
    "W Oracle oraz w niektórych wersjach MySQL używa się funkcji `SUBSTRING()`\n",
    "\n",
    "Natomiast w MS Access stosuje się `MID()`\n",
    "\n",
    "Składnia:\n",
    "\n",
    "```sqlite\n",
    "SELECT SUBSTR(nazwa_kolumny,pozycja[,liczba_znaków]) FROM nazwa_tabeli;\n",
    "```"
   ]
  },
  {
   "cell_type": "markdown",
   "metadata": {
    "slideshow": {
     "slide_type": "slide"
    }
   },
   "source": [
    "#### Przykład"
   ]
  },
  {
   "cell_type": "markdown",
   "metadata": {
    "slideshow": {
     "slide_type": "fragment"
    }
   },
   "source": [
    "```sqlite\n",
    "SUBSTR()\n",
    "```\n",
    "\n",
    "**Wyświetl dwie pierwsze litery z nazwiska**\n",
    "\n",
    "Tabela **`Osoby`**:"
   ]
  },
  {
   "cell_type": "code",
   "execution_count": null,
   "metadata": {
    "slideshow": {
     "slide_type": "fragment"
    }
   },
   "outputs": [],
   "source": [
    "SELECT * FROM osoby;"
   ]
  },
  {
   "cell_type": "markdown",
   "metadata": {
    "slideshow": {
     "slide_type": "slide"
    }
   },
   "source": [
    "Zapytanie i wynik zapytania:"
   ]
  },
  {
   "cell_type": "code",
   "execution_count": null,
   "metadata": {
    "slideshow": {
     "slide_type": "fragment"
    }
   },
   "outputs": [],
   "source": [
    "SELECT SUBSTR(nazwisko,1,2) FROM osoby;"
   ]
  },
  {
   "cell_type": "markdown",
   "metadata": {
    "slideshow": {
     "slide_type": "slide"
    }
   },
   "source": [
    "## Łączenie tabel i wyszukiwanie danych w wielu tabelach"
   ]
  },
  {
   "cell_type": "markdown",
   "metadata": {
    "slideshow": {
     "slide_type": "fragment"
    }
   },
   "source": [
    "Czasem potrzebujemy wybrać dane z tabeli w zależności od danych pochodzących z innej tabeli. Do rozwiązania tego problemu służy operacja zwana **łączeniem (`JOIN`)**.\n",
    "\n",
    "Jeśli w zapytaniu potrzebne nam są dane z `tabeli1` i `tabeli2` to musimy wpisać ich nazwy zaraz po słowie `FROM` (tak jak to robimy w standardowych zapytaniach) a następnie odwoływać się do kolumn z tych tabel używając: nazwy konkretnej tabeli, operatora kropki “`.`” oraz nazwy żądanej kolumny.\n",
    "\n",
    "```sqlite\n",
    "SELECT tabela.kolumna,tabela2.kolumna FROM tabela,tabela2 ON tabela2.kolumna=tabela.kolumna\n",
    "```"
   ]
  },
  {
   "cell_type": "markdown",
   "metadata": {
    "slideshow": {
     "slide_type": "subslide"
    }
   },
   "source": [
    "Operator “`,`” jest skrótem od słowa kluczowego `JOIN`, które oznacza zebranie wymienionych tabel w jedną dużą i operowanie na niej.\n",
    "\n",
    "Możliwe jest łączenie trzech i więcej tabel. Działa to analogicznie jak w przypadku dwóch tabel.\n",
    "\n",
    "`JOIN` łączy rekordy z dwóch kolumn w jeden na podstawie podanego warunku"
   ]
  },
  {
   "cell_type": "markdown",
   "metadata": {
    "slideshow": {
     "slide_type": "slide"
    }
   },
   "source": [
    "#### Przykład\n",
    "\n",
    "**Łączymy rekordy z tabel `Authors` i `Titles` w jedną tabelę na podstawie podanego warunku równości `authors.id` i `titles.author_id`**\n",
    "\n",
    "Tabela **`Authors`**:"
   ]
  },
  {
   "cell_type": "code",
   "execution_count": 1,
   "metadata": {
    "slideshow": {
     "slide_type": "fragment"
    }
   },
   "outputs": [],
   "source": [
    "%LOAD library_db.db rw"
   ]
  },
  {
   "cell_type": "code",
   "execution_count": 2,
   "metadata": {
    "slideshow": {
     "slide_type": "subslide"
    }
   },
   "outputs": [
    {
     "data": {
      "text/html": [
       "<table>\n",
       "<tr>\n",
       "<th>ID</th>\n",
       "<th>surname</th>\n",
       "<th>name</th>\n",
       "</tr>\n",
       "<tr>\n",
       "<td>1</td>\n",
       "<td>Lem</td>\n",
       "<td>Stanisław</td>\n",
       "</tr>\n",
       "<tr>\n",
       "<td>2</td>\n",
       "<td>Kosik</td>\n",
       "<td>Rafał</td>\n",
       "</tr>\n",
       "<tr>\n",
       "<td>3</td>\n",
       "<td>Gombrowicz</td>\n",
       "<td>Witold</td>\n",
       "</tr>\n",
       "<tr>\n",
       "<td>4</td>\n",
       "<td>Mrożek</td>\n",
       "<td>Sławomir</td>\n",
       "</tr>\n",
       "<tr>\n",
       "<td>5</td>\n",
       "<td>Dukaj</td>\n",
       "<td>Jacek</td>\n",
       "</tr>\n",
       "<tr>\n",
       "<td>6</td>\n",
       "<td>Sapkowki</td>\n",
       "<td>Andrzej</td>\n",
       "</tr>\n",
       "</table>"
      ],
      "text/plain": [
       "+----+------------+------------+\n",
       "| ID | surname    | name       |\n",
       "+----+------------+------------+\n",
       "| 1  | Lem        | Stanisław |\n",
       "+----+------------+------------+\n",
       "| 2  | Kosik      | Rafał     |\n",
       "+----+------------+------------+\n",
       "| 3  | Gombrowicz | Witold     |\n",
       "+----+------------+------------+\n",
       "| 4  | Mrożek    | Sławomir  |\n",
       "+----+------------+------------+\n",
       "| 5  | Dukaj      | Jacek      |\n",
       "+----+------------+------------+\n",
       "| 6  | Sapkowki   | Andrzej    |\n",
       "+----+------------+------------+"
      ]
     },
     "execution_count": 2,
     "metadata": {},
     "output_type": "execute_result"
    }
   ],
   "source": [
    "SELECT * FROM authors;"
   ]
  },
  {
   "cell_type": "markdown",
   "metadata": {
    "slideshow": {
     "slide_type": "fragment"
    }
   },
   "source": [
    "Tabela **`Titles`**:"
   ]
  },
  {
   "cell_type": "code",
   "execution_count": 3,
   "metadata": {
    "slideshow": {
     "slide_type": "subslide"
    }
   },
   "outputs": [
    {
     "data": {
      "text/html": [
       "<table>\n",
       "<tr>\n",
       "<th>ID</th>\n",
       "<th>title</th>\n",
       "<th>author_id</th>\n",
       "</tr>\n",
       "<tr>\n",
       "<td>1</td>\n",
       "<td>Solaris</td>\n",
       "<td>1</td>\n",
       "</tr>\n",
       "<tr>\n",
       "<td>2</td>\n",
       "<td>Cyberiada</td>\n",
       "<td>1</td>\n",
       "</tr>\n",
       "<tr>\n",
       "<td>3</td>\n",
       "<td>Katar</td>\n",
       "<td>1</td>\n",
       "</tr>\n",
       "<tr>\n",
       "<td>4</td>\n",
       "<td>Bajki robotów</td>\n",
       "<td>1</td>\n",
       "</tr>\n",
       "<tr>\n",
       "<td>5</td>\n",
       "<td>Opowieści o Pilocie Pirxie</td>\n",
       "<td>1</td>\n",
       "</tr>\n",
       "<tr>\n",
       "<td>6</td>\n",
       "<td>Rękopis znaleziony w wannie</td>\n",
       "<td>1</td>\n",
       "</tr>\n",
       "<tr>\n",
       "<td>7</td>\n",
       "<td>Dzienniki gwiazdowe</td>\n",
       "<td>1</td>\n",
       "</tr>\n",
       "<tr>\n",
       "<td>8</td>\n",
       "<td>Eden</td>\n",
       "<td>1</td>\n",
       "</tr>\n",
       "<tr>\n",
       "<td>9</td>\n",
       "<td>Śledztwo</td>\n",
       "<td>1</td>\n",
       "</tr>\n",
       "<tr>\n",
       "<td>10</td>\n",
       "<td>Powrót z gwiazd</td>\n",
       "<td>1</td>\n",
       "</tr>\n",
       "<tr>\n",
       "<td>11</td>\n",
       "<td>Niezwyciężony</td>\n",
       "<td>1</td>\n",
       "</tr>\n",
       "<tr>\n",
       "<td>12</td>\n",
       "<td>Wysoki zamek</td>\n",
       "<td>1</td>\n",
       "</tr>\n",
       "<tr>\n",
       "<td>13</td>\n",
       "<td>Głos Pana</td>\n",
       "<td>1</td>\n",
       "</tr>\n",
       "<tr>\n",
       "<td>14</td>\n",
       "<td>Pożytek ze smoka</td>\n",
       "<td>1</td>\n",
       "</tr>\n",
       "<tr>\n",
       "<td>15</td>\n",
       "<td>Sknocony kryminał</td>\n",
       "<td>1</td>\n",
       "</tr>\n",
       "<tr>\n",
       "<td>16</td>\n",
       "<td>Mars</td>\n",
       "<td>2</td>\n",
       "</tr>\n",
       "<tr>\n",
       "<td>17</td>\n",
       "<td>Kameleon</td>\n",
       "<td>2</td>\n",
       "</tr>\n",
       "<tr>\n",
       "<td>18</td>\n",
       "<td>Vertical</td>\n",
       "<td>2</td>\n",
       "</tr>\n",
       "<tr>\n",
       "<td>19</td>\n",
       "<td>Różaniec</td>\n",
       "<td>2</td>\n",
       "</tr>\n",
       "<tr>\n",
       "<td>20</td>\n",
       "<td>Obywatel który się zawiesił</td>\n",
       "<td>2</td>\n",
       "</tr>\n",
       "<tr>\n",
       "<td>21</td>\n",
       "<td>Pamiętniki z okresu dojrzewania</td>\n",
       "<td>3</td>\n",
       "</tr>\n",
       "<tr>\n",
       "<td>22</td>\n",
       "<td>Ferdydurke</td>\n",
       "<td>3</td>\n",
       "</tr>\n",
       "<tr>\n",
       "<td>23</td>\n",
       "<td>Trans-Atlantyk</td>\n",
       "<td>3</td>\n",
       "</tr>\n",
       "<tr>\n",
       "<td>24</td>\n",
       "<td>Iwona księżniczka Burgunda</td>\n",
       "<td>3</td>\n",
       "</tr>\n",
       "<tr>\n",
       "<td>25</td>\n",
       "<td>Ślub</td>\n",
       "<td>3</td>\n",
       "</tr>\n",
       "<tr>\n",
       "<td>26</td>\n",
       "<td>Operetka</td>\n",
       "<td>3</td>\n",
       "</tr>\n",
       "<tr>\n",
       "<td>27</td>\n",
       "<td>Bakakaj</td>\n",
       "<td>3</td>\n",
       "</tr>\n",
       "<tr>\n",
       "<td>28</td>\n",
       "<td>Tango</td>\n",
       "<td>4</td>\n",
       "</tr>\n",
       "<tr>\n",
       "<td>29</td>\n",
       "<td>Emigranci</td>\n",
       "<td>4</td>\n",
       "</tr>\n",
       "<tr>\n",
       "<td>30</td>\n",
       "<td>Kynolog w rozterce</td>\n",
       "<td>4</td>\n",
       "</tr>\n",
       "<tr>\n",
       "<td>31</td>\n",
       "<td>Miłość na Krymie</td>\n",
       "<td>4</td>\n",
       "</tr>\n",
       "<tr>\n",
       "<td>32</td>\n",
       "<td>Wesele w Atomicach</td>\n",
       "<td>4</td>\n",
       "</tr>\n",
       "<tr>\n",
       "<td>33</td>\n",
       "<td>Lód</td>\n",
       "<td>5</td>\n",
       "</tr>\n",
       "<tr>\n",
       "<td>34</td>\n",
       "<td>Wrociec</td>\n",
       "<td>5</td>\n",
       "</tr>\n",
       "<tr>\n",
       "<td>35</td>\n",
       "<td>Perfekcyjna niedoskonałość</td>\n",
       "<td>5</td>\n",
       "</tr>\n",
       "<tr>\n",
       "<td>36</td>\n",
       "<td>Katedra</td>\n",
       "<td>5</td>\n",
       "</tr>\n",
       "<tr>\n",
       "<td>37</td>\n",
       "<td>Narrenturm</td>\n",
       "<td>6</td>\n",
       "</tr>\n",
       "<tr>\n",
       "<td>38</td>\n",
       "<td>Boży wojownicy</td>\n",
       "<td>6</td>\n",
       "</tr>\n",
       "<tr>\n",
       "<td>39</td>\n",
       "<td>Lux perpetua</td>\n",
       "<td>6</td>\n",
       "</tr>\n",
       "<tr>\n",
       "<td>40</td>\n",
       "<td>Rękopis znaleziony w smoczej jaskini</td>\n",
       "<td>6</td>\n",
       "</tr>\n",
       "</table>"
      ],
      "text/plain": [
       "+----+---------------------------------------+-----------+\n",
       "| ID | title                                 | author_id |\n",
       "+----+---------------------------------------+-----------+\n",
       "| 1  | Solaris                               | 1         |\n",
       "+----+---------------------------------------+-----------+\n",
       "| 2  | Cyberiada                             | 1         |\n",
       "+----+---------------------------------------+-----------+\n",
       "| 3  | Katar                                 | 1         |\n",
       "+----+---------------------------------------+-----------+\n",
       "| 4  | Bajki robotów                        | 1         |\n",
       "+----+---------------------------------------+-----------+\n",
       "| 5  | Opowieści o Pilocie Pirxie           | 1         |\n",
       "+----+---------------------------------------+-----------+\n",
       "| 6  | Rękopis znaleziony w wannie          | 1         |\n",
       "+----+---------------------------------------+-----------+\n",
       "| 7  | Dzienniki gwiazdowe                   | 1         |\n",
       "+----+---------------------------------------+-----------+\n",
       "| 8  | Eden                                  | 1         |\n",
       "+----+---------------------------------------+-----------+\n",
       "| 9  | Śledztwo                             | 1         |\n",
       "+----+---------------------------------------+-----------+\n",
       "| 10 | Powrót z gwiazd                      | 1         |\n",
       "+----+---------------------------------------+-----------+\n",
       "| 11 | Niezwyciężony                       | 1         |\n",
       "+----+---------------------------------------+-----------+\n",
       "| 12 | Wysoki zamek                          | 1         |\n",
       "+----+---------------------------------------+-----------+\n",
       "| 13 | Głos Pana                            | 1         |\n",
       "+----+---------------------------------------+-----------+\n",
       "| 14 | Pożytek ze smoka                     | 1         |\n",
       "+----+---------------------------------------+-----------+\n",
       "| 15 | Sknocony kryminał                    | 1         |\n",
       "+----+---------------------------------------+-----------+\n",
       "| 16 | Mars                                  | 2         |\n",
       "+----+---------------------------------------+-----------+\n",
       "| 17 | Kameleon                              | 2         |\n",
       "+----+---------------------------------------+-----------+\n",
       "| 18 | Vertical                              | 2         |\n",
       "+----+---------------------------------------+-----------+\n",
       "| 19 | Różaniec                            | 2         |\n",
       "+----+---------------------------------------+-----------+\n",
       "| 20 | Obywatel który się zawiesił        | 2         |\n",
       "+----+---------------------------------------+-----------+\n",
       "| 21 | Pamiętniki z okresu dojrzewania      | 3         |\n",
       "+----+---------------------------------------+-----------+\n",
       "| 22 | Ferdydurke                            | 3         |\n",
       "+----+---------------------------------------+-----------+\n",
       "| 23 | Trans-Atlantyk                        | 3         |\n",
       "+----+---------------------------------------+-----------+\n",
       "| 24 | Iwona księżniczka Burgunda          | 3         |\n",
       "+----+---------------------------------------+-----------+\n",
       "| 25 | Ślub                                 | 3         |\n",
       "+----+---------------------------------------+-----------+\n",
       "| 26 | Operetka                              | 3         |\n",
       "+----+---------------------------------------+-----------+\n",
       "| 27 | Bakakaj                               | 3         |\n",
       "+----+---------------------------------------+-----------+\n",
       "| 28 | Tango                                 | 4         |\n",
       "+----+---------------------------------------+-----------+\n",
       "| 29 | Emigranci                             | 4         |\n",
       "+----+---------------------------------------+-----------+\n",
       "| 30 | Kynolog w rozterce                    | 4         |\n",
       "+----+---------------------------------------+-----------+\n",
       "| 31 | Miłość na Krymie                   | 4         |\n",
       "+----+---------------------------------------+-----------+\n",
       "| 32 | Wesele w Atomicach                    | 4         |\n",
       "+----+---------------------------------------+-----------+\n",
       "| 33 | Lód                                  | 5         |\n",
       "+----+---------------------------------------+-----------+\n",
       "| 34 | Wrociec                               | 5         |\n",
       "+----+---------------------------------------+-----------+\n",
       "| 35 | Perfekcyjna niedoskonałość         | 5         |\n",
       "+----+---------------------------------------+-----------+\n",
       "| 36 | Katedra                               | 5         |\n",
       "+----+---------------------------------------+-----------+\n",
       "| 37 | Narrenturm                            | 6         |\n",
       "+----+---------------------------------------+-----------+\n",
       "| 38 | Boży wojownicy                       | 6         |\n",
       "+----+---------------------------------------+-----------+\n",
       "| 39 | Lux perpetua                          | 6         |\n",
       "+----+---------------------------------------+-----------+\n",
       "| 40 | Rękopis znaleziony w smoczej jaskini | 6         |\n",
       "+----+---------------------------------------+-----------+"
      ]
     },
     "execution_count": 3,
     "metadata": {},
     "output_type": "execute_result"
    }
   ],
   "source": [
    "SELECT * FROM titles;"
   ]
  },
  {
   "cell_type": "markdown",
   "metadata": {
    "slideshow": {
     "slide_type": "slide"
    }
   },
   "source": [
    "Zapytanie i wynik zapytania:"
   ]
  },
  {
   "cell_type": "code",
   "execution_count": 4,
   "metadata": {
    "slideshow": {
     "slide_type": "subslide"
    }
   },
   "outputs": [
    {
     "data": {
      "text/html": [
       "<table>\n",
       "<tr>\n",
       "<th>ID</th>\n",
       "<th>surname</th>\n",
       "<th>name</th>\n",
       "<th>ID</th>\n",
       "<th>title</th>\n",
       "<th>author_id</th>\n",
       "</tr>\n",
       "<tr>\n",
       "<td>1</td>\n",
       "<td>Lem</td>\n",
       "<td>Stanisław</td>\n",
       "<td>1</td>\n",
       "<td>Solaris</td>\n",
       "<td>1</td>\n",
       "</tr>\n",
       "<tr>\n",
       "<td>1</td>\n",
       "<td>Lem</td>\n",
       "<td>Stanisław</td>\n",
       "<td>10</td>\n",
       "<td>Powrót z gwiazd</td>\n",
       "<td>1</td>\n",
       "</tr>\n",
       "<tr>\n",
       "<td>1</td>\n",
       "<td>Lem</td>\n",
       "<td>Stanisław</td>\n",
       "<td>11</td>\n",
       "<td>Niezwyciężony</td>\n",
       "<td>1</td>\n",
       "</tr>\n",
       "<tr>\n",
       "<td>1</td>\n",
       "<td>Lem</td>\n",
       "<td>Stanisław</td>\n",
       "<td>12</td>\n",
       "<td>Wysoki zamek</td>\n",
       "<td>1</td>\n",
       "</tr>\n",
       "<tr>\n",
       "<td>1</td>\n",
       "<td>Lem</td>\n",
       "<td>Stanisław</td>\n",
       "<td>13</td>\n",
       "<td>Głos Pana</td>\n",
       "<td>1</td>\n",
       "</tr>\n",
       "<tr>\n",
       "<td>1</td>\n",
       "<td>Lem</td>\n",
       "<td>Stanisław</td>\n",
       "<td>14</td>\n",
       "<td>Pożytek ze smoka</td>\n",
       "<td>1</td>\n",
       "</tr>\n",
       "<tr>\n",
       "<td>1</td>\n",
       "<td>Lem</td>\n",
       "<td>Stanisław</td>\n",
       "<td>15</td>\n",
       "<td>Sknocony kryminał</td>\n",
       "<td>1</td>\n",
       "</tr>\n",
       "<tr>\n",
       "<td>1</td>\n",
       "<td>Lem</td>\n",
       "<td>Stanisław</td>\n",
       "<td>2</td>\n",
       "<td>Cyberiada</td>\n",
       "<td>1</td>\n",
       "</tr>\n",
       "<tr>\n",
       "<td>1</td>\n",
       "<td>Lem</td>\n",
       "<td>Stanisław</td>\n",
       "<td>3</td>\n",
       "<td>Katar</td>\n",
       "<td>1</td>\n",
       "</tr>\n",
       "<tr>\n",
       "<td>1</td>\n",
       "<td>Lem</td>\n",
       "<td>Stanisław</td>\n",
       "<td>4</td>\n",
       "<td>Bajki robotów</td>\n",
       "<td>1</td>\n",
       "</tr>\n",
       "<tr>\n",
       "<td>1</td>\n",
       "<td>Lem</td>\n",
       "<td>Stanisław</td>\n",
       "<td>5</td>\n",
       "<td>Opowieści o Pilocie Pirxie</td>\n",
       "<td>1</td>\n",
       "</tr>\n",
       "<tr>\n",
       "<td>1</td>\n",
       "<td>Lem</td>\n",
       "<td>Stanisław</td>\n",
       "<td>6</td>\n",
       "<td>Rękopis znaleziony w wannie</td>\n",
       "<td>1</td>\n",
       "</tr>\n",
       "<tr>\n",
       "<td>1</td>\n",
       "<td>Lem</td>\n",
       "<td>Stanisław</td>\n",
       "<td>7</td>\n",
       "<td>Dzienniki gwiazdowe</td>\n",
       "<td>1</td>\n",
       "</tr>\n",
       "<tr>\n",
       "<td>1</td>\n",
       "<td>Lem</td>\n",
       "<td>Stanisław</td>\n",
       "<td>8</td>\n",
       "<td>Eden</td>\n",
       "<td>1</td>\n",
       "</tr>\n",
       "<tr>\n",
       "<td>1</td>\n",
       "<td>Lem</td>\n",
       "<td>Stanisław</td>\n",
       "<td>9</td>\n",
       "<td>Śledztwo</td>\n",
       "<td>1</td>\n",
       "</tr>\n",
       "<tr>\n",
       "<td>2</td>\n",
       "<td>Kosik</td>\n",
       "<td>Rafał</td>\n",
       "<td>16</td>\n",
       "<td>Mars</td>\n",
       "<td>2</td>\n",
       "</tr>\n",
       "<tr>\n",
       "<td>2</td>\n",
       "<td>Kosik</td>\n",
       "<td>Rafał</td>\n",
       "<td>17</td>\n",
       "<td>Kameleon</td>\n",
       "<td>2</td>\n",
       "</tr>\n",
       "<tr>\n",
       "<td>2</td>\n",
       "<td>Kosik</td>\n",
       "<td>Rafał</td>\n",
       "<td>18</td>\n",
       "<td>Vertical</td>\n",
       "<td>2</td>\n",
       "</tr>\n",
       "<tr>\n",
       "<td>2</td>\n",
       "<td>Kosik</td>\n",
       "<td>Rafał</td>\n",
       "<td>19</td>\n",
       "<td>Różaniec</td>\n",
       "<td>2</td>\n",
       "</tr>\n",
       "<tr>\n",
       "<td>2</td>\n",
       "<td>Kosik</td>\n",
       "<td>Rafał</td>\n",
       "<td>20</td>\n",
       "<td>Obywatel który się zawiesił</td>\n",
       "<td>2</td>\n",
       "</tr>\n",
       "<tr>\n",
       "<td>3</td>\n",
       "<td>Gombrowicz</td>\n",
       "<td>Witold</td>\n",
       "<td>21</td>\n",
       "<td>Pamiętniki z okresu dojrzewania</td>\n",
       "<td>3</td>\n",
       "</tr>\n",
       "<tr>\n",
       "<td>3</td>\n",
       "<td>Gombrowicz</td>\n",
       "<td>Witold</td>\n",
       "<td>22</td>\n",
       "<td>Ferdydurke</td>\n",
       "<td>3</td>\n",
       "</tr>\n",
       "<tr>\n",
       "<td>3</td>\n",
       "<td>Gombrowicz</td>\n",
       "<td>Witold</td>\n",
       "<td>23</td>\n",
       "<td>Trans-Atlantyk</td>\n",
       "<td>3</td>\n",
       "</tr>\n",
       "<tr>\n",
       "<td>3</td>\n",
       "<td>Gombrowicz</td>\n",
       "<td>Witold</td>\n",
       "<td>24</td>\n",
       "<td>Iwona księżniczka Burgunda</td>\n",
       "<td>3</td>\n",
       "</tr>\n",
       "<tr>\n",
       "<td>3</td>\n",
       "<td>Gombrowicz</td>\n",
       "<td>Witold</td>\n",
       "<td>25</td>\n",
       "<td>Ślub</td>\n",
       "<td>3</td>\n",
       "</tr>\n",
       "<tr>\n",
       "<td>3</td>\n",
       "<td>Gombrowicz</td>\n",
       "<td>Witold</td>\n",
       "<td>26</td>\n",
       "<td>Operetka</td>\n",
       "<td>3</td>\n",
       "</tr>\n",
       "<tr>\n",
       "<td>3</td>\n",
       "<td>Gombrowicz</td>\n",
       "<td>Witold</td>\n",
       "<td>27</td>\n",
       "<td>Bakakaj</td>\n",
       "<td>3</td>\n",
       "</tr>\n",
       "<tr>\n",
       "<td>4</td>\n",
       "<td>Mrożek</td>\n",
       "<td>Sławomir</td>\n",
       "<td>28</td>\n",
       "<td>Tango</td>\n",
       "<td>4</td>\n",
       "</tr>\n",
       "<tr>\n",
       "<td>4</td>\n",
       "<td>Mrożek</td>\n",
       "<td>Sławomir</td>\n",
       "<td>29</td>\n",
       "<td>Emigranci</td>\n",
       "<td>4</td>\n",
       "</tr>\n",
       "<tr>\n",
       "<td>4</td>\n",
       "<td>Mrożek</td>\n",
       "<td>Sławomir</td>\n",
       "<td>30</td>\n",
       "<td>Kynolog w rozterce</td>\n",
       "<td>4</td>\n",
       "</tr>\n",
       "<tr>\n",
       "<td>4</td>\n",
       "<td>Mrożek</td>\n",
       "<td>Sławomir</td>\n",
       "<td>31</td>\n",
       "<td>Miłość na Krymie</td>\n",
       "<td>4</td>\n",
       "</tr>\n",
       "<tr>\n",
       "<td>4</td>\n",
       "<td>Mrożek</td>\n",
       "<td>Sławomir</td>\n",
       "<td>32</td>\n",
       "<td>Wesele w Atomicach</td>\n",
       "<td>4</td>\n",
       "</tr>\n",
       "<tr>\n",
       "<td>5</td>\n",
       "<td>Dukaj</td>\n",
       "<td>Jacek</td>\n",
       "<td>33</td>\n",
       "<td>Lód</td>\n",
       "<td>5</td>\n",
       "</tr>\n",
       "<tr>\n",
       "<td>5</td>\n",
       "<td>Dukaj</td>\n",
       "<td>Jacek</td>\n",
       "<td>34</td>\n",
       "<td>Wrociec</td>\n",
       "<td>5</td>\n",
       "</tr>\n",
       "<tr>\n",
       "<td>5</td>\n",
       "<td>Dukaj</td>\n",
       "<td>Jacek</td>\n",
       "<td>35</td>\n",
       "<td>Perfekcyjna niedoskonałość</td>\n",
       "<td>5</td>\n",
       "</tr>\n",
       "<tr>\n",
       "<td>5</td>\n",
       "<td>Dukaj</td>\n",
       "<td>Jacek</td>\n",
       "<td>36</td>\n",
       "<td>Katedra</td>\n",
       "<td>5</td>\n",
       "</tr>\n",
       "<tr>\n",
       "<td>6</td>\n",
       "<td>Sapkowki</td>\n",
       "<td>Andrzej</td>\n",
       "<td>37</td>\n",
       "<td>Narrenturm</td>\n",
       "<td>6</td>\n",
       "</tr>\n",
       "<tr>\n",
       "<td>6</td>\n",
       "<td>Sapkowki</td>\n",
       "<td>Andrzej</td>\n",
       "<td>38</td>\n",
       "<td>Boży wojownicy</td>\n",
       "<td>6</td>\n",
       "</tr>\n",
       "<tr>\n",
       "<td>6</td>\n",
       "<td>Sapkowki</td>\n",
       "<td>Andrzej</td>\n",
       "<td>39</td>\n",
       "<td>Lux perpetua</td>\n",
       "<td>6</td>\n",
       "</tr>\n",
       "<tr>\n",
       "<td>6</td>\n",
       "<td>Sapkowki</td>\n",
       "<td>Andrzej</td>\n",
       "<td>40</td>\n",
       "<td>Rękopis znaleziony w smoczej jaskini</td>\n",
       "<td>6</td>\n",
       "</tr>\n",
       "</table>"
      ],
      "text/plain": [
       "+----+------------+------------+----+---------------------------------------+-----------+\n",
       "| ID | surname    | name       | ID | title                                 | author_id |\n",
       "+----+------------+------------+----+---------------------------------------+-----------+\n",
       "| 1  | Lem        | Stanisław | 1  | Solaris                               | 1         |\n",
       "+----+------------+------------+----+---------------------------------------+-----------+\n",
       "| 1  | Lem        | Stanisław | 10 | Powrót z gwiazd                      | 1         |\n",
       "+----+------------+------------+----+---------------------------------------+-----------+\n",
       "| 1  | Lem        | Stanisław | 11 | Niezwyciężony                       | 1         |\n",
       "+----+------------+------------+----+---------------------------------------+-----------+\n",
       "| 1  | Lem        | Stanisław | 12 | Wysoki zamek                          | 1         |\n",
       "+----+------------+------------+----+---------------------------------------+-----------+\n",
       "| 1  | Lem        | Stanisław | 13 | Głos Pana                            | 1         |\n",
       "+----+------------+------------+----+---------------------------------------+-----------+\n",
       "| 1  | Lem        | Stanisław | 14 | Pożytek ze smoka                     | 1         |\n",
       "+----+------------+------------+----+---------------------------------------+-----------+\n",
       "| 1  | Lem        | Stanisław | 15 | Sknocony kryminał                    | 1         |\n",
       "+----+------------+------------+----+---------------------------------------+-----------+\n",
       "| 1  | Lem        | Stanisław | 2  | Cyberiada                             | 1         |\n",
       "+----+------------+------------+----+---------------------------------------+-----------+\n",
       "| 1  | Lem        | Stanisław | 3  | Katar                                 | 1         |\n",
       "+----+------------+------------+----+---------------------------------------+-----------+\n",
       "| 1  | Lem        | Stanisław | 4  | Bajki robotów                        | 1         |\n",
       "+----+------------+------------+----+---------------------------------------+-----------+\n",
       "| 1  | Lem        | Stanisław | 5  | Opowieści o Pilocie Pirxie           | 1         |\n",
       "+----+------------+------------+----+---------------------------------------+-----------+\n",
       "| 1  | Lem        | Stanisław | 6  | Rękopis znaleziony w wannie          | 1         |\n",
       "+----+------------+------------+----+---------------------------------------+-----------+\n",
       "| 1  | Lem        | Stanisław | 7  | Dzienniki gwiazdowe                   | 1         |\n",
       "+----+------------+------------+----+---------------------------------------+-----------+\n",
       "| 1  | Lem        | Stanisław | 8  | Eden                                  | 1         |\n",
       "+----+------------+------------+----+---------------------------------------+-----------+\n",
       "| 1  | Lem        | Stanisław | 9  | Śledztwo                             | 1         |\n",
       "+----+------------+------------+----+---------------------------------------+-----------+\n",
       "| 2  | Kosik      | Rafał     | 16 | Mars                                  | 2         |\n",
       "+----+------------+------------+----+---------------------------------------+-----------+\n",
       "| 2  | Kosik      | Rafał     | 17 | Kameleon                              | 2         |\n",
       "+----+------------+------------+----+---------------------------------------+-----------+\n",
       "| 2  | Kosik      | Rafał     | 18 | Vertical                              | 2         |\n",
       "+----+------------+------------+----+---------------------------------------+-----------+\n",
       "| 2  | Kosik      | Rafał     | 19 | Różaniec                            | 2         |\n",
       "+----+------------+------------+----+---------------------------------------+-----------+\n",
       "| 2  | Kosik      | Rafał     | 20 | Obywatel który się zawiesił        | 2         |\n",
       "+----+------------+------------+----+---------------------------------------+-----------+\n",
       "| 3  | Gombrowicz | Witold     | 21 | Pamiętniki z okresu dojrzewania      | 3         |\n",
       "+----+------------+------------+----+---------------------------------------+-----------+\n",
       "| 3  | Gombrowicz | Witold     | 22 | Ferdydurke                            | 3         |\n",
       "+----+------------+------------+----+---------------------------------------+-----------+\n",
       "| 3  | Gombrowicz | Witold     | 23 | Trans-Atlantyk                        | 3         |\n",
       "+----+------------+------------+----+---------------------------------------+-----------+\n",
       "| 3  | Gombrowicz | Witold     | 24 | Iwona księżniczka Burgunda          | 3         |\n",
       "+----+------------+------------+----+---------------------------------------+-----------+\n",
       "| 3  | Gombrowicz | Witold     | 25 | Ślub                                 | 3         |\n",
       "+----+------------+------------+----+---------------------------------------+-----------+\n",
       "| 3  | Gombrowicz | Witold     | 26 | Operetka                              | 3         |\n",
       "+----+------------+------------+----+---------------------------------------+-----------+\n",
       "| 3  | Gombrowicz | Witold     | 27 | Bakakaj                               | 3         |\n",
       "+----+------------+------------+----+---------------------------------------+-----------+\n",
       "| 4  | Mrożek    | Sławomir  | 28 | Tango                                 | 4         |\n",
       "+----+------------+------------+----+---------------------------------------+-----------+\n",
       "| 4  | Mrożek    | Sławomir  | 29 | Emigranci                             | 4         |\n",
       "+----+------------+------------+----+---------------------------------------+-----------+\n",
       "| 4  | Mrożek    | Sławomir  | 30 | Kynolog w rozterce                    | 4         |\n",
       "+----+------------+------------+----+---------------------------------------+-----------+\n",
       "| 4  | Mrożek    | Sławomir  | 31 | Miłość na Krymie                   | 4         |\n",
       "+----+------------+------------+----+---------------------------------------+-----------+\n",
       "| 4  | Mrożek    | Sławomir  | 32 | Wesele w Atomicach                    | 4         |\n",
       "+----+------------+------------+----+---------------------------------------+-----------+\n",
       "| 5  | Dukaj      | Jacek      | 33 | Lód                                  | 5         |\n",
       "+----+------------+------------+----+---------------------------------------+-----------+\n",
       "| 5  | Dukaj      | Jacek      | 34 | Wrociec                               | 5         |\n",
       "+----+------------+------------+----+---------------------------------------+-----------+\n",
       "| 5  | Dukaj      | Jacek      | 35 | Perfekcyjna niedoskonałość         | 5         |\n",
       "+----+------------+------------+----+---------------------------------------+-----------+\n",
       "| 5  | Dukaj      | Jacek      | 36 | Katedra                               | 5         |\n",
       "+----+------------+------------+----+---------------------------------------+-----------+\n",
       "| 6  | Sapkowki   | Andrzej    | 37 | Narrenturm                            | 6         |\n",
       "+----+------------+------------+----+---------------------------------------+-----------+\n",
       "| 6  | Sapkowki   | Andrzej    | 38 | Boży wojownicy                       | 6         |\n",
       "+----+------------+------------+----+---------------------------------------+-----------+\n",
       "| 6  | Sapkowki   | Andrzej    | 39 | Lux perpetua                          | 6         |\n",
       "+----+------------+------------+----+---------------------------------------+-----------+\n",
       "| 6  | Sapkowki   | Andrzej    | 40 | Rękopis znaleziony w smoczej jaskini | 6         |\n",
       "+----+------------+------------+----+---------------------------------------+-----------+"
      ]
     },
     "execution_count": 4,
     "metadata": {},
     "output_type": "execute_result"
    }
   ],
   "source": [
    "SELECT * FROM authors JOIN titles ON authors.ID=titles.author_id;"
   ]
  },
  {
   "cell_type": "markdown",
   "metadata": {
    "slideshow": {
     "slide_type": "slide"
    }
   },
   "source": [
    "#### Ćwiczenie\n",
    "\n",
    "**Znajdź nazwisko i tytuły książek napisanych przez autora o identyfikatorze 3**\n",
    "\n",
    "Tabela **`Titles`**:"
   ]
  },
  {
   "cell_type": "code",
   "execution_count": 5,
   "metadata": {
    "slideshow": {
     "slide_type": "subslide"
    }
   },
   "outputs": [
    {
     "data": {
      "text/html": [
       "<table>\n",
       "<tr>\n",
       "<th>ID</th>\n",
       "<th>title</th>\n",
       "<th>author_id</th>\n",
       "</tr>\n",
       "<tr>\n",
       "<td>1</td>\n",
       "<td>Solaris</td>\n",
       "<td>1</td>\n",
       "</tr>\n",
       "<tr>\n",
       "<td>2</td>\n",
       "<td>Cyberiada</td>\n",
       "<td>1</td>\n",
       "</tr>\n",
       "<tr>\n",
       "<td>3</td>\n",
       "<td>Katar</td>\n",
       "<td>1</td>\n",
       "</tr>\n",
       "<tr>\n",
       "<td>4</td>\n",
       "<td>Bajki robotów</td>\n",
       "<td>1</td>\n",
       "</tr>\n",
       "<tr>\n",
       "<td>5</td>\n",
       "<td>Opowieści o Pilocie Pirxie</td>\n",
       "<td>1</td>\n",
       "</tr>\n",
       "<tr>\n",
       "<td>6</td>\n",
       "<td>Rękopis znaleziony w wannie</td>\n",
       "<td>1</td>\n",
       "</tr>\n",
       "<tr>\n",
       "<td>7</td>\n",
       "<td>Dzienniki gwiazdowe</td>\n",
       "<td>1</td>\n",
       "</tr>\n",
       "<tr>\n",
       "<td>8</td>\n",
       "<td>Eden</td>\n",
       "<td>1</td>\n",
       "</tr>\n",
       "<tr>\n",
       "<td>9</td>\n",
       "<td>Śledztwo</td>\n",
       "<td>1</td>\n",
       "</tr>\n",
       "<tr>\n",
       "<td>10</td>\n",
       "<td>Powrót z gwiazd</td>\n",
       "<td>1</td>\n",
       "</tr>\n",
       "<tr>\n",
       "<td>11</td>\n",
       "<td>Niezwyciężony</td>\n",
       "<td>1</td>\n",
       "</tr>\n",
       "<tr>\n",
       "<td>12</td>\n",
       "<td>Wysoki zamek</td>\n",
       "<td>1</td>\n",
       "</tr>\n",
       "<tr>\n",
       "<td>13</td>\n",
       "<td>Głos Pana</td>\n",
       "<td>1</td>\n",
       "</tr>\n",
       "<tr>\n",
       "<td>14</td>\n",
       "<td>Pożytek ze smoka</td>\n",
       "<td>1</td>\n",
       "</tr>\n",
       "<tr>\n",
       "<td>15</td>\n",
       "<td>Sknocony kryminał</td>\n",
       "<td>1</td>\n",
       "</tr>\n",
       "<tr>\n",
       "<td>16</td>\n",
       "<td>Mars</td>\n",
       "<td>2</td>\n",
       "</tr>\n",
       "<tr>\n",
       "<td>17</td>\n",
       "<td>Kameleon</td>\n",
       "<td>2</td>\n",
       "</tr>\n",
       "<tr>\n",
       "<td>18</td>\n",
       "<td>Vertical</td>\n",
       "<td>2</td>\n",
       "</tr>\n",
       "<tr>\n",
       "<td>19</td>\n",
       "<td>Różaniec</td>\n",
       "<td>2</td>\n",
       "</tr>\n",
       "<tr>\n",
       "<td>20</td>\n",
       "<td>Obywatel który się zawiesił</td>\n",
       "<td>2</td>\n",
       "</tr>\n",
       "<tr>\n",
       "<td>21</td>\n",
       "<td>Pamiętniki z okresu dojrzewania</td>\n",
       "<td>3</td>\n",
       "</tr>\n",
       "<tr>\n",
       "<td>22</td>\n",
       "<td>Ferdydurke</td>\n",
       "<td>3</td>\n",
       "</tr>\n",
       "<tr>\n",
       "<td>23</td>\n",
       "<td>Trans-Atlantyk</td>\n",
       "<td>3</td>\n",
       "</tr>\n",
       "<tr>\n",
       "<td>24</td>\n",
       "<td>Iwona księżniczka Burgunda</td>\n",
       "<td>3</td>\n",
       "</tr>\n",
       "<tr>\n",
       "<td>25</td>\n",
       "<td>Ślub</td>\n",
       "<td>3</td>\n",
       "</tr>\n",
       "<tr>\n",
       "<td>26</td>\n",
       "<td>Operetka</td>\n",
       "<td>3</td>\n",
       "</tr>\n",
       "<tr>\n",
       "<td>27</td>\n",
       "<td>Bakakaj</td>\n",
       "<td>3</td>\n",
       "</tr>\n",
       "<tr>\n",
       "<td>28</td>\n",
       "<td>Tango</td>\n",
       "<td>4</td>\n",
       "</tr>\n",
       "<tr>\n",
       "<td>29</td>\n",
       "<td>Emigranci</td>\n",
       "<td>4</td>\n",
       "</tr>\n",
       "<tr>\n",
       "<td>30</td>\n",
       "<td>Kynolog w rozterce</td>\n",
       "<td>4</td>\n",
       "</tr>\n",
       "<tr>\n",
       "<td>31</td>\n",
       "<td>Miłość na Krymie</td>\n",
       "<td>4</td>\n",
       "</tr>\n",
       "<tr>\n",
       "<td>32</td>\n",
       "<td>Wesele w Atomicach</td>\n",
       "<td>4</td>\n",
       "</tr>\n",
       "<tr>\n",
       "<td>33</td>\n",
       "<td>Lód</td>\n",
       "<td>5</td>\n",
       "</tr>\n",
       "<tr>\n",
       "<td>34</td>\n",
       "<td>Wrociec</td>\n",
       "<td>5</td>\n",
       "</tr>\n",
       "<tr>\n",
       "<td>35</td>\n",
       "<td>Perfekcyjna niedoskonałość</td>\n",
       "<td>5</td>\n",
       "</tr>\n",
       "<tr>\n",
       "<td>36</td>\n",
       "<td>Katedra</td>\n",
       "<td>5</td>\n",
       "</tr>\n",
       "<tr>\n",
       "<td>37</td>\n",
       "<td>Narrenturm</td>\n",
       "<td>6</td>\n",
       "</tr>\n",
       "<tr>\n",
       "<td>38</td>\n",
       "<td>Boży wojownicy</td>\n",
       "<td>6</td>\n",
       "</tr>\n",
       "<tr>\n",
       "<td>39</td>\n",
       "<td>Lux perpetua</td>\n",
       "<td>6</td>\n",
       "</tr>\n",
       "<tr>\n",
       "<td>40</td>\n",
       "<td>Rękopis znaleziony w smoczej jaskini</td>\n",
       "<td>6</td>\n",
       "</tr>\n",
       "</table>"
      ],
      "text/plain": [
       "+----+---------------------------------------+-----------+\n",
       "| ID | title                                 | author_id |\n",
       "+----+---------------------------------------+-----------+\n",
       "| 1  | Solaris                               | 1         |\n",
       "+----+---------------------------------------+-----------+\n",
       "| 2  | Cyberiada                             | 1         |\n",
       "+----+---------------------------------------+-----------+\n",
       "| 3  | Katar                                 | 1         |\n",
       "+----+---------------------------------------+-----------+\n",
       "| 4  | Bajki robotów                        | 1         |\n",
       "+----+---------------------------------------+-----------+\n",
       "| 5  | Opowieści o Pilocie Pirxie           | 1         |\n",
       "+----+---------------------------------------+-----------+\n",
       "| 6  | Rękopis znaleziony w wannie          | 1         |\n",
       "+----+---------------------------------------+-----------+\n",
       "| 7  | Dzienniki gwiazdowe                   | 1         |\n",
       "+----+---------------------------------------+-----------+\n",
       "| 8  | Eden                                  | 1         |\n",
       "+----+---------------------------------------+-----------+\n",
       "| 9  | Śledztwo                             | 1         |\n",
       "+----+---------------------------------------+-----------+\n",
       "| 10 | Powrót z gwiazd                      | 1         |\n",
       "+----+---------------------------------------+-----------+\n",
       "| 11 | Niezwyciężony                       | 1         |\n",
       "+----+---------------------------------------+-----------+\n",
       "| 12 | Wysoki zamek                          | 1         |\n",
       "+----+---------------------------------------+-----------+\n",
       "| 13 | Głos Pana                            | 1         |\n",
       "+----+---------------------------------------+-----------+\n",
       "| 14 | Pożytek ze smoka                     | 1         |\n",
       "+----+---------------------------------------+-----------+\n",
       "| 15 | Sknocony kryminał                    | 1         |\n",
       "+----+---------------------------------------+-----------+\n",
       "| 16 | Mars                                  | 2         |\n",
       "+----+---------------------------------------+-----------+\n",
       "| 17 | Kameleon                              | 2         |\n",
       "+----+---------------------------------------+-----------+\n",
       "| 18 | Vertical                              | 2         |\n",
       "+----+---------------------------------------+-----------+\n",
       "| 19 | Różaniec                            | 2         |\n",
       "+----+---------------------------------------+-----------+\n",
       "| 20 | Obywatel który się zawiesił        | 2         |\n",
       "+----+---------------------------------------+-----------+\n",
       "| 21 | Pamiętniki z okresu dojrzewania      | 3         |\n",
       "+----+---------------------------------------+-----------+\n",
       "| 22 | Ferdydurke                            | 3         |\n",
       "+----+---------------------------------------+-----------+\n",
       "| 23 | Trans-Atlantyk                        | 3         |\n",
       "+----+---------------------------------------+-----------+\n",
       "| 24 | Iwona księżniczka Burgunda          | 3         |\n",
       "+----+---------------------------------------+-----------+\n",
       "| 25 | Ślub                                 | 3         |\n",
       "+----+---------------------------------------+-----------+\n",
       "| 26 | Operetka                              | 3         |\n",
       "+----+---------------------------------------+-----------+\n",
       "| 27 | Bakakaj                               | 3         |\n",
       "+----+---------------------------------------+-----------+\n",
       "| 28 | Tango                                 | 4         |\n",
       "+----+---------------------------------------+-----------+\n",
       "| 29 | Emigranci                             | 4         |\n",
       "+----+---------------------------------------+-----------+\n",
       "| 30 | Kynolog w rozterce                    | 4         |\n",
       "+----+---------------------------------------+-----------+\n",
       "| 31 | Miłość na Krymie                   | 4         |\n",
       "+----+---------------------------------------+-----------+\n",
       "| 32 | Wesele w Atomicach                    | 4         |\n",
       "+----+---------------------------------------+-----------+\n",
       "| 33 | Lód                                  | 5         |\n",
       "+----+---------------------------------------+-----------+\n",
       "| 34 | Wrociec                               | 5         |\n",
       "+----+---------------------------------------+-----------+\n",
       "| 35 | Perfekcyjna niedoskonałość         | 5         |\n",
       "+----+---------------------------------------+-----------+\n",
       "| 36 | Katedra                               | 5         |\n",
       "+----+---------------------------------------+-----------+\n",
       "| 37 | Narrenturm                            | 6         |\n",
       "+----+---------------------------------------+-----------+\n",
       "| 38 | Boży wojownicy                       | 6         |\n",
       "+----+---------------------------------------+-----------+\n",
       "| 39 | Lux perpetua                          | 6         |\n",
       "+----+---------------------------------------+-----------+\n",
       "| 40 | Rękopis znaleziony w smoczej jaskini | 6         |\n",
       "+----+---------------------------------------+-----------+"
      ]
     },
     "execution_count": 5,
     "metadata": {},
     "output_type": "execute_result"
    }
   ],
   "source": [
    "SELECT * FROM titles;"
   ]
  },
  {
   "cell_type": "markdown",
   "metadata": {
    "slideshow": {
     "slide_type": "slide"
    }
   },
   "source": [
    "Tabela **`Authors`**:"
   ]
  },
  {
   "cell_type": "code",
   "execution_count": 6,
   "metadata": {
    "slideshow": {
     "slide_type": "fragment"
    }
   },
   "outputs": [
    {
     "data": {
      "text/html": [
       "<table>\n",
       "<tr>\n",
       "<th>ID</th>\n",
       "<th>surname</th>\n",
       "<th>name</th>\n",
       "</tr>\n",
       "<tr>\n",
       "<td>1</td>\n",
       "<td>Lem</td>\n",
       "<td>Stanisław</td>\n",
       "</tr>\n",
       "<tr>\n",
       "<td>2</td>\n",
       "<td>Kosik</td>\n",
       "<td>Rafał</td>\n",
       "</tr>\n",
       "<tr>\n",
       "<td>3</td>\n",
       "<td>Gombrowicz</td>\n",
       "<td>Witold</td>\n",
       "</tr>\n",
       "<tr>\n",
       "<td>4</td>\n",
       "<td>Mrożek</td>\n",
       "<td>Sławomir</td>\n",
       "</tr>\n",
       "<tr>\n",
       "<td>5</td>\n",
       "<td>Dukaj</td>\n",
       "<td>Jacek</td>\n",
       "</tr>\n",
       "<tr>\n",
       "<td>6</td>\n",
       "<td>Sapkowki</td>\n",
       "<td>Andrzej</td>\n",
       "</tr>\n",
       "</table>"
      ],
      "text/plain": [
       "+----+------------+------------+\n",
       "| ID | surname    | name       |\n",
       "+----+------------+------------+\n",
       "| 1  | Lem        | Stanisław |\n",
       "+----+------------+------------+\n",
       "| 2  | Kosik      | Rafał     |\n",
       "+----+------------+------------+\n",
       "| 3  | Gombrowicz | Witold     |\n",
       "+----+------------+------------+\n",
       "| 4  | Mrożek    | Sławomir  |\n",
       "+----+------------+------------+\n",
       "| 5  | Dukaj      | Jacek      |\n",
       "+----+------------+------------+\n",
       "| 6  | Sapkowki   | Andrzej    |\n",
       "+----+------------+------------+"
      ]
     },
     "execution_count": 6,
     "metadata": {},
     "output_type": "execute_result"
    }
   ],
   "source": [
    "SELECT * FROM authors;"
   ]
  },
  {
   "cell_type": "markdown",
   "metadata": {
    "slideshow": {
     "slide_type": "fragment"
    }
   },
   "source": [
    "Wpisz zapytanie do bazy!"
   ]
  },
  {
   "cell_type": "markdown",
   "metadata": {},
   "source": [
    "---"
   ]
  },
  {
   "cell_type": "markdown",
   "metadata": {
    "slideshow": {
     "slide_type": "slide"
    }
   },
   "source": [
    "Zapytanie i wynik zapytania:"
   ]
  },
  {
   "cell_type": "code",
   "execution_count": 7,
   "metadata": {
    "slideshow": {
     "slide_type": "fragment"
    }
   },
   "outputs": [
    {
     "data": {
      "text/html": [
       "<table>\n",
       "<tr>\n",
       "<th>surname</th>\n",
       "<th>title</th>\n",
       "</tr>\n",
       "<tr>\n",
       "<td>Gombrowicz</td>\n",
       "<td>Bakakaj</td>\n",
       "</tr>\n",
       "<tr>\n",
       "<td>Gombrowicz</td>\n",
       "<td>Ferdydurke</td>\n",
       "</tr>\n",
       "<tr>\n",
       "<td>Gombrowicz</td>\n",
       "<td>Iwona księżniczka Burgunda</td>\n",
       "</tr>\n",
       "<tr>\n",
       "<td>Gombrowicz</td>\n",
       "<td>Operetka</td>\n",
       "</tr>\n",
       "<tr>\n",
       "<td>Gombrowicz</td>\n",
       "<td>Pamiętniki z okresu dojrzewania</td>\n",
       "</tr>\n",
       "<tr>\n",
       "<td>Gombrowicz</td>\n",
       "<td>Trans-Atlantyk</td>\n",
       "</tr>\n",
       "<tr>\n",
       "<td>Gombrowicz</td>\n",
       "<td>Ślub</td>\n",
       "</tr>\n",
       "</table>"
      ],
      "text/plain": [
       "+------------+----------------------------------+\n",
       "| surname    | title                            |\n",
       "+------------+----------------------------------+\n",
       "| Gombrowicz | Bakakaj                          |\n",
       "+------------+----------------------------------+\n",
       "| Gombrowicz | Ferdydurke                       |\n",
       "+------------+----------------------------------+\n",
       "| Gombrowicz | Iwona księżniczka Burgunda     |\n",
       "+------------+----------------------------------+\n",
       "| Gombrowicz | Operetka                         |\n",
       "+------------+----------------------------------+\n",
       "| Gombrowicz | Pamiętniki z okresu dojrzewania |\n",
       "+------------+----------------------------------+\n",
       "| Gombrowicz | Trans-Atlantyk                   |\n",
       "+------------+----------------------------------+\n",
       "| Gombrowicz | Ślub                            |\n",
       "+------------+----------------------------------+"
      ]
     },
     "execution_count": 7,
     "metadata": {},
     "output_type": "execute_result"
    }
   ],
   "source": [
    "SELECT authors.surname,titles.title FROM authors JOIN titles ON authors.ID=titles.author_id\n",
    "WHERE titles.author_id=\"3\";"
   ]
  },
  {
   "cell_type": "markdown",
   "metadata": {
    "slideshow": {
     "slide_type": "slide"
    }
   },
   "source": [
    "#### Ćwiczenie\n",
    "\n",
    "**Znajdź imiona, nazwiska i tytuły książek napisanych przez autorów o imieniu rozpoczynającym się na “`S`”**\n",
    "\n",
    "Tabela **`Titles`**:"
   ]
  },
  {
   "cell_type": "code",
   "execution_count": 8,
   "metadata": {
    "slideshow": {
     "slide_type": "subslide"
    }
   },
   "outputs": [
    {
     "data": {
      "text/html": [
       "<table>\n",
       "<tr>\n",
       "<th>ID</th>\n",
       "<th>title</th>\n",
       "<th>author_id</th>\n",
       "</tr>\n",
       "<tr>\n",
       "<td>1</td>\n",
       "<td>Solaris</td>\n",
       "<td>1</td>\n",
       "</tr>\n",
       "<tr>\n",
       "<td>2</td>\n",
       "<td>Cyberiada</td>\n",
       "<td>1</td>\n",
       "</tr>\n",
       "<tr>\n",
       "<td>3</td>\n",
       "<td>Katar</td>\n",
       "<td>1</td>\n",
       "</tr>\n",
       "<tr>\n",
       "<td>4</td>\n",
       "<td>Bajki robotów</td>\n",
       "<td>1</td>\n",
       "</tr>\n",
       "<tr>\n",
       "<td>5</td>\n",
       "<td>Opowieści o Pilocie Pirxie</td>\n",
       "<td>1</td>\n",
       "</tr>\n",
       "<tr>\n",
       "<td>6</td>\n",
       "<td>Rękopis znaleziony w wannie</td>\n",
       "<td>1</td>\n",
       "</tr>\n",
       "<tr>\n",
       "<td>7</td>\n",
       "<td>Dzienniki gwiazdowe</td>\n",
       "<td>1</td>\n",
       "</tr>\n",
       "<tr>\n",
       "<td>8</td>\n",
       "<td>Eden</td>\n",
       "<td>1</td>\n",
       "</tr>\n",
       "<tr>\n",
       "<td>9</td>\n",
       "<td>Śledztwo</td>\n",
       "<td>1</td>\n",
       "</tr>\n",
       "<tr>\n",
       "<td>10</td>\n",
       "<td>Powrót z gwiazd</td>\n",
       "<td>1</td>\n",
       "</tr>\n",
       "<tr>\n",
       "<td>11</td>\n",
       "<td>Niezwyciężony</td>\n",
       "<td>1</td>\n",
       "</tr>\n",
       "<tr>\n",
       "<td>12</td>\n",
       "<td>Wysoki zamek</td>\n",
       "<td>1</td>\n",
       "</tr>\n",
       "<tr>\n",
       "<td>13</td>\n",
       "<td>Głos Pana</td>\n",
       "<td>1</td>\n",
       "</tr>\n",
       "<tr>\n",
       "<td>14</td>\n",
       "<td>Pożytek ze smoka</td>\n",
       "<td>1</td>\n",
       "</tr>\n",
       "<tr>\n",
       "<td>15</td>\n",
       "<td>Sknocony kryminał</td>\n",
       "<td>1</td>\n",
       "</tr>\n",
       "<tr>\n",
       "<td>16</td>\n",
       "<td>Mars</td>\n",
       "<td>2</td>\n",
       "</tr>\n",
       "<tr>\n",
       "<td>17</td>\n",
       "<td>Kameleon</td>\n",
       "<td>2</td>\n",
       "</tr>\n",
       "<tr>\n",
       "<td>18</td>\n",
       "<td>Vertical</td>\n",
       "<td>2</td>\n",
       "</tr>\n",
       "<tr>\n",
       "<td>19</td>\n",
       "<td>Różaniec</td>\n",
       "<td>2</td>\n",
       "</tr>\n",
       "<tr>\n",
       "<td>20</td>\n",
       "<td>Obywatel który się zawiesił</td>\n",
       "<td>2</td>\n",
       "</tr>\n",
       "<tr>\n",
       "<td>21</td>\n",
       "<td>Pamiętniki z okresu dojrzewania</td>\n",
       "<td>3</td>\n",
       "</tr>\n",
       "<tr>\n",
       "<td>22</td>\n",
       "<td>Ferdydurke</td>\n",
       "<td>3</td>\n",
       "</tr>\n",
       "<tr>\n",
       "<td>23</td>\n",
       "<td>Trans-Atlantyk</td>\n",
       "<td>3</td>\n",
       "</tr>\n",
       "<tr>\n",
       "<td>24</td>\n",
       "<td>Iwona księżniczka Burgunda</td>\n",
       "<td>3</td>\n",
       "</tr>\n",
       "<tr>\n",
       "<td>25</td>\n",
       "<td>Ślub</td>\n",
       "<td>3</td>\n",
       "</tr>\n",
       "<tr>\n",
       "<td>26</td>\n",
       "<td>Operetka</td>\n",
       "<td>3</td>\n",
       "</tr>\n",
       "<tr>\n",
       "<td>27</td>\n",
       "<td>Bakakaj</td>\n",
       "<td>3</td>\n",
       "</tr>\n",
       "<tr>\n",
       "<td>28</td>\n",
       "<td>Tango</td>\n",
       "<td>4</td>\n",
       "</tr>\n",
       "<tr>\n",
       "<td>29</td>\n",
       "<td>Emigranci</td>\n",
       "<td>4</td>\n",
       "</tr>\n",
       "<tr>\n",
       "<td>30</td>\n",
       "<td>Kynolog w rozterce</td>\n",
       "<td>4</td>\n",
       "</tr>\n",
       "<tr>\n",
       "<td>31</td>\n",
       "<td>Miłość na Krymie</td>\n",
       "<td>4</td>\n",
       "</tr>\n",
       "<tr>\n",
       "<td>32</td>\n",
       "<td>Wesele w Atomicach</td>\n",
       "<td>4</td>\n",
       "</tr>\n",
       "<tr>\n",
       "<td>33</td>\n",
       "<td>Lód</td>\n",
       "<td>5</td>\n",
       "</tr>\n",
       "<tr>\n",
       "<td>34</td>\n",
       "<td>Wrociec</td>\n",
       "<td>5</td>\n",
       "</tr>\n",
       "<tr>\n",
       "<td>35</td>\n",
       "<td>Perfekcyjna niedoskonałość</td>\n",
       "<td>5</td>\n",
       "</tr>\n",
       "<tr>\n",
       "<td>36</td>\n",
       "<td>Katedra</td>\n",
       "<td>5</td>\n",
       "</tr>\n",
       "<tr>\n",
       "<td>37</td>\n",
       "<td>Narrenturm</td>\n",
       "<td>6</td>\n",
       "</tr>\n",
       "<tr>\n",
       "<td>38</td>\n",
       "<td>Boży wojownicy</td>\n",
       "<td>6</td>\n",
       "</tr>\n",
       "<tr>\n",
       "<td>39</td>\n",
       "<td>Lux perpetua</td>\n",
       "<td>6</td>\n",
       "</tr>\n",
       "<tr>\n",
       "<td>40</td>\n",
       "<td>Rękopis znaleziony w smoczej jaskini</td>\n",
       "<td>6</td>\n",
       "</tr>\n",
       "</table>"
      ],
      "text/plain": [
       "+----+---------------------------------------+-----------+\n",
       "| ID | title                                 | author_id |\n",
       "+----+---------------------------------------+-----------+\n",
       "| 1  | Solaris                               | 1         |\n",
       "+----+---------------------------------------+-----------+\n",
       "| 2  | Cyberiada                             | 1         |\n",
       "+----+---------------------------------------+-----------+\n",
       "| 3  | Katar                                 | 1         |\n",
       "+----+---------------------------------------+-----------+\n",
       "| 4  | Bajki robotów                        | 1         |\n",
       "+----+---------------------------------------+-----------+\n",
       "| 5  | Opowieści o Pilocie Pirxie           | 1         |\n",
       "+----+---------------------------------------+-----------+\n",
       "| 6  | Rękopis znaleziony w wannie          | 1         |\n",
       "+----+---------------------------------------+-----------+\n",
       "| 7  | Dzienniki gwiazdowe                   | 1         |\n",
       "+----+---------------------------------------+-----------+\n",
       "| 8  | Eden                                  | 1         |\n",
       "+----+---------------------------------------+-----------+\n",
       "| 9  | Śledztwo                             | 1         |\n",
       "+----+---------------------------------------+-----------+\n",
       "| 10 | Powrót z gwiazd                      | 1         |\n",
       "+----+---------------------------------------+-----------+\n",
       "| 11 | Niezwyciężony                       | 1         |\n",
       "+----+---------------------------------------+-----------+\n",
       "| 12 | Wysoki zamek                          | 1         |\n",
       "+----+---------------------------------------+-----------+\n",
       "| 13 | Głos Pana                            | 1         |\n",
       "+----+---------------------------------------+-----------+\n",
       "| 14 | Pożytek ze smoka                     | 1         |\n",
       "+----+---------------------------------------+-----------+\n",
       "| 15 | Sknocony kryminał                    | 1         |\n",
       "+----+---------------------------------------+-----------+\n",
       "| 16 | Mars                                  | 2         |\n",
       "+----+---------------------------------------+-----------+\n",
       "| 17 | Kameleon                              | 2         |\n",
       "+----+---------------------------------------+-----------+\n",
       "| 18 | Vertical                              | 2         |\n",
       "+----+---------------------------------------+-----------+\n",
       "| 19 | Różaniec                            | 2         |\n",
       "+----+---------------------------------------+-----------+\n",
       "| 20 | Obywatel który się zawiesił        | 2         |\n",
       "+----+---------------------------------------+-----------+\n",
       "| 21 | Pamiętniki z okresu dojrzewania      | 3         |\n",
       "+----+---------------------------------------+-----------+\n",
       "| 22 | Ferdydurke                            | 3         |\n",
       "+----+---------------------------------------+-----------+\n",
       "| 23 | Trans-Atlantyk                        | 3         |\n",
       "+----+---------------------------------------+-----------+\n",
       "| 24 | Iwona księżniczka Burgunda          | 3         |\n",
       "+----+---------------------------------------+-----------+\n",
       "| 25 | Ślub                                 | 3         |\n",
       "+----+---------------------------------------+-----------+\n",
       "| 26 | Operetka                              | 3         |\n",
       "+----+---------------------------------------+-----------+\n",
       "| 27 | Bakakaj                               | 3         |\n",
       "+----+---------------------------------------+-----------+\n",
       "| 28 | Tango                                 | 4         |\n",
       "+----+---------------------------------------+-----------+\n",
       "| 29 | Emigranci                             | 4         |\n",
       "+----+---------------------------------------+-----------+\n",
       "| 30 | Kynolog w rozterce                    | 4         |\n",
       "+----+---------------------------------------+-----------+\n",
       "| 31 | Miłość na Krymie                   | 4         |\n",
       "+----+---------------------------------------+-----------+\n",
       "| 32 | Wesele w Atomicach                    | 4         |\n",
       "+----+---------------------------------------+-----------+\n",
       "| 33 | Lód                                  | 5         |\n",
       "+----+---------------------------------------+-----------+\n",
       "| 34 | Wrociec                               | 5         |\n",
       "+----+---------------------------------------+-----------+\n",
       "| 35 | Perfekcyjna niedoskonałość         | 5         |\n",
       "+----+---------------------------------------+-----------+\n",
       "| 36 | Katedra                               | 5         |\n",
       "+----+---------------------------------------+-----------+\n",
       "| 37 | Narrenturm                            | 6         |\n",
       "+----+---------------------------------------+-----------+\n",
       "| 38 | Boży wojownicy                       | 6         |\n",
       "+----+---------------------------------------+-----------+\n",
       "| 39 | Lux perpetua                          | 6         |\n",
       "+----+---------------------------------------+-----------+\n",
       "| 40 | Rękopis znaleziony w smoczej jaskini | 6         |\n",
       "+----+---------------------------------------+-----------+"
      ]
     },
     "execution_count": 8,
     "metadata": {},
     "output_type": "execute_result"
    }
   ],
   "source": [
    "SELECT * FROM titles;"
   ]
  },
  {
   "cell_type": "markdown",
   "metadata": {
    "slideshow": {
     "slide_type": "slide"
    }
   },
   "source": [
    "Tabela **`Authors`**:"
   ]
  },
  {
   "cell_type": "code",
   "execution_count": 9,
   "metadata": {
    "slideshow": {
     "slide_type": "fragment"
    }
   },
   "outputs": [
    {
     "data": {
      "text/html": [
       "<table>\n",
       "<tr>\n",
       "<th>ID</th>\n",
       "<th>surname</th>\n",
       "<th>name</th>\n",
       "</tr>\n",
       "<tr>\n",
       "<td>1</td>\n",
       "<td>Lem</td>\n",
       "<td>Stanisław</td>\n",
       "</tr>\n",
       "<tr>\n",
       "<td>2</td>\n",
       "<td>Kosik</td>\n",
       "<td>Rafał</td>\n",
       "</tr>\n",
       "<tr>\n",
       "<td>3</td>\n",
       "<td>Gombrowicz</td>\n",
       "<td>Witold</td>\n",
       "</tr>\n",
       "<tr>\n",
       "<td>4</td>\n",
       "<td>Mrożek</td>\n",
       "<td>Sławomir</td>\n",
       "</tr>\n",
       "<tr>\n",
       "<td>5</td>\n",
       "<td>Dukaj</td>\n",
       "<td>Jacek</td>\n",
       "</tr>\n",
       "<tr>\n",
       "<td>6</td>\n",
       "<td>Sapkowki</td>\n",
       "<td>Andrzej</td>\n",
       "</tr>\n",
       "</table>"
      ],
      "text/plain": [
       "+----+------------+------------+\n",
       "| ID | surname    | name       |\n",
       "+----+------------+------------+\n",
       "| 1  | Lem        | Stanisław |\n",
       "+----+------------+------------+\n",
       "| 2  | Kosik      | Rafał     |\n",
       "+----+------------+------------+\n",
       "| 3  | Gombrowicz | Witold     |\n",
       "+----+------------+------------+\n",
       "| 4  | Mrożek    | Sławomir  |\n",
       "+----+------------+------------+\n",
       "| 5  | Dukaj      | Jacek      |\n",
       "+----+------------+------------+\n",
       "| 6  | Sapkowki   | Andrzej    |\n",
       "+----+------------+------------+"
      ]
     },
     "execution_count": 9,
     "metadata": {},
     "output_type": "execute_result"
    }
   ],
   "source": [
    "SELECT * FROM authors;"
   ]
  },
  {
   "cell_type": "markdown",
   "metadata": {
    "slideshow": {
     "slide_type": "fragment"
    }
   },
   "source": [
    "Wpisz zapytanie do bazy!"
   ]
  },
  {
   "cell_type": "markdown",
   "metadata": {},
   "source": [
    "---"
   ]
  },
  {
   "cell_type": "markdown",
   "metadata": {
    "slideshow": {
     "slide_type": "slide"
    }
   },
   "source": [
    "Zapytanie i wynik zapytania:"
   ]
  },
  {
   "cell_type": "code",
   "execution_count": 10,
   "metadata": {
    "slideshow": {
     "slide_type": "subslide"
    }
   },
   "outputs": [
    {
     "data": {
      "text/html": [
       "<table>\n",
       "<tr>\n",
       "<th>name</th>\n",
       "<th>surname</th>\n",
       "<th>title</th>\n",
       "</tr>\n",
       "<tr>\n",
       "<td>Stanisław</td>\n",
       "<td>Lem</td>\n",
       "<td>Bajki robotów</td>\n",
       "</tr>\n",
       "<tr>\n",
       "<td>Stanisław</td>\n",
       "<td>Lem</td>\n",
       "<td>Cyberiada</td>\n",
       "</tr>\n",
       "<tr>\n",
       "<td>Stanisław</td>\n",
       "<td>Lem</td>\n",
       "<td>Dzienniki gwiazdowe</td>\n",
       "</tr>\n",
       "<tr>\n",
       "<td>Stanisław</td>\n",
       "<td>Lem</td>\n",
       "<td>Eden</td>\n",
       "</tr>\n",
       "<tr>\n",
       "<td>Stanisław</td>\n",
       "<td>Lem</td>\n",
       "<td>Głos Pana</td>\n",
       "</tr>\n",
       "<tr>\n",
       "<td>Stanisław</td>\n",
       "<td>Lem</td>\n",
       "<td>Katar</td>\n",
       "</tr>\n",
       "<tr>\n",
       "<td>Stanisław</td>\n",
       "<td>Lem</td>\n",
       "<td>Niezwyciężony</td>\n",
       "</tr>\n",
       "<tr>\n",
       "<td>Stanisław</td>\n",
       "<td>Lem</td>\n",
       "<td>Opowieści o Pilocie Pirxie</td>\n",
       "</tr>\n",
       "<tr>\n",
       "<td>Stanisław</td>\n",
       "<td>Lem</td>\n",
       "<td>Powrót z gwiazd</td>\n",
       "</tr>\n",
       "<tr>\n",
       "<td>Stanisław</td>\n",
       "<td>Lem</td>\n",
       "<td>Pożytek ze smoka</td>\n",
       "</tr>\n",
       "<tr>\n",
       "<td>Stanisław</td>\n",
       "<td>Lem</td>\n",
       "<td>Rękopis znaleziony w wannie</td>\n",
       "</tr>\n",
       "<tr>\n",
       "<td>Stanisław</td>\n",
       "<td>Lem</td>\n",
       "<td>Sknocony kryminał</td>\n",
       "</tr>\n",
       "<tr>\n",
       "<td>Stanisław</td>\n",
       "<td>Lem</td>\n",
       "<td>Solaris</td>\n",
       "</tr>\n",
       "<tr>\n",
       "<td>Stanisław</td>\n",
       "<td>Lem</td>\n",
       "<td>Wysoki zamek</td>\n",
       "</tr>\n",
       "<tr>\n",
       "<td>Stanisław</td>\n",
       "<td>Lem</td>\n",
       "<td>Śledztwo</td>\n",
       "</tr>\n",
       "<tr>\n",
       "<td>Sławomir</td>\n",
       "<td>Mrożek</td>\n",
       "<td>Emigranci</td>\n",
       "</tr>\n",
       "<tr>\n",
       "<td>Sławomir</td>\n",
       "<td>Mrożek</td>\n",
       "<td>Kynolog w rozterce</td>\n",
       "</tr>\n",
       "<tr>\n",
       "<td>Sławomir</td>\n",
       "<td>Mrożek</td>\n",
       "<td>Miłość na Krymie</td>\n",
       "</tr>\n",
       "<tr>\n",
       "<td>Sławomir</td>\n",
       "<td>Mrożek</td>\n",
       "<td>Tango</td>\n",
       "</tr>\n",
       "<tr>\n",
       "<td>Sławomir</td>\n",
       "<td>Mrożek</td>\n",
       "<td>Wesele w Atomicach</td>\n",
       "</tr>\n",
       "</table>"
      ],
      "text/plain": [
       "+------------+---------+------------------------------+\n",
       "| name       | surname | title                        |\n",
       "+------------+---------+------------------------------+\n",
       "| Stanisław | Lem     | Bajki robotów               |\n",
       "+------------+---------+------------------------------+\n",
       "| Stanisław | Lem     | Cyberiada                    |\n",
       "+------------+---------+------------------------------+\n",
       "| Stanisław | Lem     | Dzienniki gwiazdowe          |\n",
       "+------------+---------+------------------------------+\n",
       "| Stanisław | Lem     | Eden                         |\n",
       "+------------+---------+------------------------------+\n",
       "| Stanisław | Lem     | Głos Pana                   |\n",
       "+------------+---------+------------------------------+\n",
       "| Stanisław | Lem     | Katar                        |\n",
       "+------------+---------+------------------------------+\n",
       "| Stanisław | Lem     | Niezwyciężony              |\n",
       "+------------+---------+------------------------------+\n",
       "| Stanisław | Lem     | Opowieści o Pilocie Pirxie  |\n",
       "+------------+---------+------------------------------+\n",
       "| Stanisław | Lem     | Powrót z gwiazd             |\n",
       "+------------+---------+------------------------------+\n",
       "| Stanisław | Lem     | Pożytek ze smoka            |\n",
       "+------------+---------+------------------------------+\n",
       "| Stanisław | Lem     | Rękopis znaleziony w wannie |\n",
       "+------------+---------+------------------------------+\n",
       "| Stanisław | Lem     | Sknocony kryminał           |\n",
       "+------------+---------+------------------------------+\n",
       "| Stanisław | Lem     | Solaris                      |\n",
       "+------------+---------+------------------------------+\n",
       "| Stanisław | Lem     | Wysoki zamek                 |\n",
       "+------------+---------+------------------------------+\n",
       "| Stanisław | Lem     | Śledztwo                    |\n",
       "+------------+---------+------------------------------+\n",
       "| Sławomir  | Mrożek | Emigranci                    |\n",
       "+------------+---------+------------------------------+\n",
       "| Sławomir  | Mrożek | Kynolog w rozterce           |\n",
       "+------------+---------+------------------------------+\n",
       "| Sławomir  | Mrożek | Miłość na Krymie          |\n",
       "+------------+---------+------------------------------+\n",
       "| Sławomir  | Mrożek | Tango                        |\n",
       "+------------+---------+------------------------------+\n",
       "| Sławomir  | Mrożek | Wesele w Atomicach           |\n",
       "+------------+---------+------------------------------+"
      ]
     },
     "execution_count": 10,
     "metadata": {},
     "output_type": "execute_result"
    }
   ],
   "source": [
    "SELECT authors.name,authors.surname,titles.title FROM authors JOIN titles\n",
    "ON authors.ID=titles.author_id WHERE authors.name LIKE 'S%';"
   ]
  },
  {
   "cell_type": "markdown",
   "metadata": {
    "slideshow": {
     "slide_type": "slide"
    }
   },
   "source": [
    "### Łączenie tabel z użyciem aliasów\n",
    "\n",
    "```sql\n",
    "SELECT tab.kolumna FROM tabela AS tab,tabela2 AS tab2 WHERE tab2.kolumna=wartość;\n",
    "```"
   ]
  },
  {
   "cell_type": "markdown",
   "metadata": {
    "slideshow": {
     "slide_type": "slide"
    }
   },
   "source": [
    "#### Przykład\n",
    "\n",
    "**Podajemy id, nazwę i ilość zamówionych produktów w zamówieniu o id `4` korzystając z aliasów dla tabel `Order_product` i `Product`**\n",
    "\n",
    "Tabela **`Order_product`**:"
   ]
  },
  {
   "cell_type": "code",
   "execution_count": 11,
   "metadata": {
    "slideshow": {
     "slide_type": "fragment"
    }
   },
   "outputs": [],
   "source": [
    "%LOAD CodeBrainers.db rw"
   ]
  },
  {
   "cell_type": "code",
   "execution_count": 12,
   "metadata": {
    "slideshow": {
     "slide_type": "subslide"
    }
   },
   "outputs": [
    {
     "data": {
      "text/html": [
       "<table>\n",
       "<tr>\n",
       "<th>order_id</th>\n",
       "<th>product_id</th>\n",
       "<th>amount</th>\n",
       "</tr>\n",
       "<tr>\n",
       "<td>1</td>\n",
       "<td>2</td>\n",
       "<td>2</td>\n",
       "</tr>\n",
       "<tr>\n",
       "<td>1</td>\n",
       "<td>4</td>\n",
       "<td>1</td>\n",
       "</tr>\n",
       "<tr>\n",
       "<td>2</td>\n",
       "<td>6</td>\n",
       "<td>1</td>\n",
       "</tr>\n",
       "<tr>\n",
       "<td>2</td>\n",
       "<td>8</td>\n",
       "<td>1</td>\n",
       "</tr>\n",
       "<tr>\n",
       "<td>2</td>\n",
       "<td>5</td>\n",
       "<td>2</td>\n",
       "</tr>\n",
       "<tr>\n",
       "<td>3</td>\n",
       "<td>5</td>\n",
       "<td>1</td>\n",
       "</tr>\n",
       "<tr>\n",
       "<td>3</td>\n",
       "<td>7</td>\n",
       "<td>2</td>\n",
       "</tr>\n",
       "<tr>\n",
       "<td>4</td>\n",
       "<td>5</td>\n",
       "<td>1</td>\n",
       "</tr>\n",
       "<tr>\n",
       "<td>4</td>\n",
       "<td>2</td>\n",
       "<td>1</td>\n",
       "</tr>\n",
       "<tr>\n",
       "<td>4</td>\n",
       "<td>7</td>\n",
       "<td>2</td>\n",
       "</tr>\n",
       "<tr>\n",
       "<td>5</td>\n",
       "<td>4</td>\n",
       "<td>1</td>\n",
       "</tr>\n",
       "<tr>\n",
       "<td>6</td>\n",
       "<td>6</td>\n",
       "<td>1</td>\n",
       "</tr>\n",
       "</table>"
      ],
      "text/plain": [
       "+----------+------------+--------+\n",
       "| order_id | product_id | amount |\n",
       "+----------+------------+--------+\n",
       "| 1        | 2          | 2      |\n",
       "+----------+------------+--------+\n",
       "| 1        | 4          | 1      |\n",
       "+----------+------------+--------+\n",
       "| 2        | 6          | 1      |\n",
       "+----------+------------+--------+\n",
       "| 2        | 8          | 1      |\n",
       "+----------+------------+--------+\n",
       "| 2        | 5          | 2      |\n",
       "+----------+------------+--------+\n",
       "| 3        | 5          | 1      |\n",
       "+----------+------------+--------+\n",
       "| 3        | 7          | 2      |\n",
       "+----------+------------+--------+\n",
       "| 4        | 5          | 1      |\n",
       "+----------+------------+--------+\n",
       "| 4        | 2          | 1      |\n",
       "+----------+------------+--------+\n",
       "| 4        | 7          | 2      |\n",
       "+----------+------------+--------+\n",
       "| 5        | 4          | 1      |\n",
       "+----------+------------+--------+\n",
       "| 6        | 6          | 1      |\n",
       "+----------+------------+--------+"
      ]
     },
     "execution_count": 12,
     "metadata": {},
     "output_type": "execute_result"
    }
   ],
   "source": [
    "SELECT * FROM order_product;"
   ]
  },
  {
   "cell_type": "markdown",
   "metadata": {
    "slideshow": {
     "slide_type": "subslide"
    }
   },
   "source": [
    "Tabela **`Product`**:"
   ]
  },
  {
   "cell_type": "code",
   "execution_count": 13,
   "metadata": {
    "slideshow": {
     "slide_type": "fragment"
    }
   },
   "outputs": [
    {
     "data": {
      "text/html": [
       "<table>\n",
       "<tr>\n",
       "<th>id</th>\n",
       "<th>name</th>\n",
       "<th>price</th>\n",
       "<th>amount</th>\n",
       "<th>date</th>\n",
       "</tr>\n",
       "<tr>\n",
       "<td>5</td>\n",
       "<td>Spodnie</td>\n",
       "<td>100.0</td>\n",
       "<td>5</td>\n",
       "<td>2011-02-01</td>\n",
       "</tr>\n",
       "<tr>\n",
       "<td>6</td>\n",
       "<td>Bluza</td>\n",
       "<td>60.0</td>\n",
       "<td>2</td>\n",
       "<td>2011-02-12</td>\n",
       "</tr>\n",
       "</table>"
      ],
      "text/plain": [
       "+----+---------+-------+--------+------------+\n",
       "| id | name    | price | amount | date       |\n",
       "+----+---------+-------+--------+------------+\n",
       "| 5  | Spodnie | 100.0 | 5      | 2011-02-01 |\n",
       "+----+---------+-------+--------+------------+\n",
       "| 6  | Bluza   | 60.0  | 2      | 2011-02-12 |\n",
       "+----+---------+-------+--------+------------+"
      ]
     },
     "execution_count": 13,
     "metadata": {},
     "output_type": "execute_result"
    }
   ],
   "source": [
    "SELECT * FROM product;"
   ]
  },
  {
   "cell_type": "markdown",
   "metadata": {
    "slideshow": {
     "slide_type": "slide"
    }
   },
   "source": [
    "Zapytanie i wynik zapytania:"
   ]
  },
  {
   "cell_type": "code",
   "execution_count": 14,
   "metadata": {
    "slideshow": {
     "slide_type": "fragment"
    }
   },
   "outputs": [
    {
     "data": {
      "text/html": [
       "<table>\n",
       "<tr>\n",
       "<th>id</th>\n",
       "<th>name</th>\n",
       "<th>amount</th>\n",
       "</tr>\n",
       "<tr>\n",
       "<td>5</td>\n",
       "<td>Spodnie</td>\n",
       "<td>1</td>\n",
       "</tr>\n",
       "</table>"
      ],
      "text/plain": [
       "+----+---------+--------+\n",
       "| id | name    | amount |\n",
       "+----+---------+--------+\n",
       "| 5  | Spodnie | 1      |\n",
       "+----+---------+--------+"
      ]
     },
     "execution_count": 14,
     "metadata": {},
     "output_type": "execute_result"
    }
   ],
   "source": [
    "SELECT p.id, p.name, op.amount FROM order_product AS op, product AS p\n",
    "WHERE op.order_id = 4 AND p.id = op.product_id;"
   ]
  },
  {
   "cell_type": "markdown",
   "metadata": {
    "slideshow": {
     "slide_type": "slide"
    }
   },
   "source": [
    "## Zadania utrwalające 2"
   ]
  },
  {
   "cell_type": "markdown",
   "metadata": {
    "slideshow": {
     "slide_type": "slide"
    }
   },
   "source": [
    "### Ćwiczenia\n",
    "\n",
    "[`02_joins.md`](https://github.com/pkociepka/sql/blob/master/exercises/02_joins.md)"
   ]
  },
  {
   "cell_type": "markdown",
   "metadata": {
    "slideshow": {
     "slide_type": "slide"
    }
   },
   "source": [
    "### Materiały\n",
    "\n",
    "[`library_db.sql`](https://github.com/pkociepka/sql/blob/master/library_db.sql)"
   ]
  },
  {
   "cell_type": "markdown",
   "metadata": {
    "slideshow": {
     "slide_type": "subslide"
    }
   },
   "source": [
    "Schemat bazy danych z pliku [`library_db.sql`](https://github.com/pkociepka/sql/blob/master/library_db.sql) znajdziesz w pliku [`library_db_scheme.png`](https://github.com/pkociepka/sql/blob/master/library_db_schema.png)\n",
    "\n",
    "![](https://raw.githubusercontent.com/pkociepka/sql/master/library_db_schema.png)"
   ]
  },
  {
   "cell_type": "code",
   "execution_count": null,
   "metadata": {
    "slideshow": {
     "slide_type": "skip"
    }
   },
   "outputs": [],
   "source": []
  }
 ],
 "metadata": {
  "celltoolbar": "Slideshow",
  "kernelspec": {
   "display_name": "xsqlite",
   "language": "sqlite",
   "name": "xsqlite"
  },
  "language_info": {
   "codemirror_mode": "sql",
   "file_extension": "",
   "mimetype": "",
   "name": "sql",
   "version": "3.33.0"
  }
 },
 "nbformat": 4,
 "nbformat_minor": 4
}
