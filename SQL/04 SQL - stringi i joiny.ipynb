{
 "cells": [
  {
   "cell_type": "markdown",
   "metadata": {
    "slideshow": {
     "slide_type": "slide"
    }
   },
   "source": [
    "# SQL - stringi i joiny\n",
    "_Mikołaj Leszczuk_"
   ]
  },
  {
   "cell_type": "markdown",
   "metadata": {
    "slideshow": {
     "slide_type": "slide"
    }
   },
   "source": [
    "## Konspekt"
   ]
  },
  {
   "cell_type": "markdown",
   "metadata": {
    "slideshow": {
     "slide_type": "fragment"
    }
   },
   "source": [
    "* Operacje na stringach (+ćwiczenia)\n",
    "* Łączenie tabel i wyszukiwanie danych w wielu tabelach (+ćwiczenia)\n",
    "* Zadania utrwalające 2"
   ]
  },
  {
   "cell_type": "markdown",
   "metadata": {
    "slideshow": {
     "slide_type": "slide"
    }
   },
   "source": [
    "## Operacje na stringach"
   ]
  },
  {
   "cell_type": "markdown",
   "metadata": {
    "slideshow": {
     "slide_type": "fragment"
    }
   },
   "source": [
    "Tu doświadczymy istotnych różnic pomiędzy implementacjami DBMS!"
   ]
  },
  {
   "cell_type": "code",
   "execution_count": null,
   "metadata": {
    "slideshow": {
     "slide_type": "fragment"
    }
   },
   "outputs": [],
   "source": [
    "%CREATE osoby.db rw"
   ]
  },
  {
   "cell_type": "code",
   "execution_count": null,
   "metadata": {
    "slideshow": {
     "slide_type": "fragment"
    }
   },
   "outputs": [],
   "source": [
    "%LOAD osoby.db rw"
   ]
  },
  {
   "cell_type": "code",
   "execution_count": null,
   "metadata": {},
   "outputs": [],
   "source": [
    "DELETE FROM osoby;"
   ]
  },
  {
   "cell_type": "code",
   "execution_count": null,
   "metadata": {
    "slideshow": {
     "slide_type": "fragment"
    }
   },
   "outputs": [],
   "source": [
    "CREATE TABLE \"osoby\" (\n",
    "    \"imię\"     VARCHAR,\n",
    "    \"nazwisko\" VARCHAR,\n",
    "    \"wiek\"     TINYINT\n",
    ");"
   ]
  },
  {
   "cell_type": "code",
   "execution_count": null,
   "metadata": {
    "slideshow": {
     "slide_type": "subslide"
    }
   },
   "outputs": [],
   "source": [
    "SELECT * FROM osoby;"
   ]
  },
  {
   "cell_type": "code",
   "execution_count": null,
   "metadata": {
    "slideshow": {
     "slide_type": "subslide"
    }
   },
   "outputs": [],
   "source": [
    "INSERT INTO osoby VALUES (\"Paweł\", \"Kowalski\", 3);"
   ]
  },
  {
   "cell_type": "code",
   "execution_count": null,
   "metadata": {
    "slideshow": {
     "slide_type": "fragment"
    }
   },
   "outputs": [],
   "source": [
    "INSERT INTO osoby VALUES (\"Piotr\", \"Janik\", 7);"
   ]
  },
  {
   "cell_type": "code",
   "execution_count": null,
   "metadata": {
    "slideshow": {
     "slide_type": "fragment"
    }
   },
   "outputs": [],
   "source": [
    "INSERT INTO osoby VALUES (\"Michał\", \"Nowak\", 13);"
   ]
  },
  {
   "cell_type": "code",
   "execution_count": null,
   "metadata": {
    "slideshow": {
     "slide_type": "fragment"
    }
   },
   "outputs": [],
   "source": [
    "SELECT * FROM osoby;"
   ]
  },
  {
   "cell_type": "markdown",
   "metadata": {
    "slideshow": {
     "slide_type": "slide"
    }
   },
   "source": [
    "### `CONCAT()`"
   ]
  },
  {
   "cell_type": "markdown",
   "metadata": {
    "slideshow": {
     "slide_type": "fragment"
    }
   },
   "source": [
    "Czasem jest potrzeba wyświetlenia konkatenacji kolumn i jakiegoś łańcucha tekstowego. Do tego może przydać się funkcja `CONCAT()`.\n",
    "\n",
    "Składnia operatora konkatenacji różni się od siebie w bazach danych:\n",
    "\n",
    "* Oracle: `CONCAT()` lub `||`\n",
    "* MySQL: `CONCAT()`\n",
    "* SQL Server: `+`\n",
    "* SQLite: `||`"
   ]
  },
  {
   "cell_type": "markdown",
   "metadata": {
    "slideshow": {
     "slide_type": "slide"
    }
   },
   "source": [
    "#### Składnia dla MySQL/Oracle"
   ]
  },
  {
   "cell_type": "markdown",
   "metadata": {
    "slideshow": {
     "slide_type": "fragment"
    }
   },
   "source": [
    "```mysql\n",
    "SELECT CONCAT(nazwa_kolumny1,nazwa_kolumny2) FROM nazwa_tabeli;\n",
    "```"
   ]
  },
  {
   "cell_type": "markdown",
   "metadata": {
    "slideshow": {
     "slide_type": "slide"
    }
   },
   "source": [
    "##### Przykład"
   ]
  },
  {
   "cell_type": "markdown",
   "metadata": {
    "slideshow": {
     "slide_type": "fragment"
    }
   },
   "source": [
    "```mysql\n",
    "CONCAT()\n",
    "```\n",
    "\n",
    "**Wyświetl tekst powstały z połączenia imienia z nazwiskiem**\n",
    "\n",
    "Tabela **``Osoby``**:"
   ]
  },
  {
   "cell_type": "code",
   "execution_count": null,
   "metadata": {
    "slideshow": {
     "slide_type": "fragment"
    }
   },
   "outputs": [],
   "source": [
    "SELECT * FROM osoby;"
   ]
  },
  {
   "cell_type": "markdown",
   "metadata": {
    "slideshow": {
     "slide_type": "slide"
    }
   },
   "source": [
    "Zapytanie i wynik zapytania SQLite:"
   ]
  },
  {
   "cell_type": "code",
   "execution_count": null,
   "metadata": {
    "slideshow": {
     "slide_type": "fragment"
    }
   },
   "outputs": [],
   "source": [
    "SELECT CONCAT(imię,nazwisko) FROM osoby;"
   ]
  },
  {
   "cell_type": "markdown",
   "metadata": {
    "slideshow": {
     "slide_type": "subslide"
    }
   },
   "source": [
    "Zapytanie i wynik zapytania MySQL/Oracle:\n",
    "\n",
    "```mysql\n",
    "SELECT CONCAT(imię,nazwisko) FROM osoby;\n",
    "```\n",
    "\n",
    "|     CONCAT(imię,nazwisko)    |\n",
    "|:----------------------------:|\n",
    "|     PawełKowalski            |\n",
    "|     PiotrJanik               |\n",
    "|     MichałNowak              |\n",
    "\n",
    "W Oracle funkcja `CONCAT()` przyjmuje wyłącznie 2 argumenty. Problem można ominąć używając operatora `||` dostępnego tylko w Oracle i SQLite."
   ]
  },
  {
   "cell_type": "markdown",
   "metadata": {
    "slideshow": {
     "slide_type": "slide"
    }
   },
   "source": [
    "#### Składnia użycia operatora `||` w Oracle/SQLite"
   ]
  },
  {
   "cell_type": "markdown",
   "metadata": {
    "slideshow": {
     "slide_type": "fragment"
    }
   },
   "source": [
    "```sql\n",
    "SELECT 'dowolny_tekst'||nazwa_kolumny1||'dowolny_tekst'||nazwa_kolumny2 FROM nazwa_tabeli;\n",
    "```"
   ]
  },
  {
   "cell_type": "markdown",
   "metadata": {
    "slideshow": {
     "slide_type": "slide"
    }
   },
   "source": [
    "##### Przykład"
   ]
  },
  {
   "cell_type": "markdown",
   "metadata": {
    "slideshow": {
     "slide_type": "fragment"
    }
   },
   "source": [
    "Użycie `||` w Oracle/SQLite\n",
    "\n",
    "**Wyświetl imię i nazwisko oddzielone spacją `(\" \")`**\n",
    "\n",
    "Tabela **`Osoby`**:"
   ]
  },
  {
   "cell_type": "code",
   "execution_count": null,
   "metadata": {
    "slideshow": {
     "slide_type": "fragment"
    }
   },
   "outputs": [],
   "source": [
    "SELECT * FROM osoby;"
   ]
  },
  {
   "cell_type": "markdown",
   "metadata": {
    "slideshow": {
     "slide_type": "slide"
    }
   },
   "source": [
    "Zapytanie i wynik zapytania:"
   ]
  },
  {
   "cell_type": "code",
   "execution_count": null,
   "metadata": {
    "slideshow": {
     "slide_type": "fragment"
    }
   },
   "outputs": [],
   "source": [
    "SELECT imię||' '||nazwisko FROM osoby;"
   ]
  },
  {
   "cell_type": "markdown",
   "metadata": {
    "slideshow": {
     "slide_type": "slide"
    }
   },
   "source": [
    "#### Składnia dla SQL Server"
   ]
  },
  {
   "cell_type": "markdown",
   "metadata": {
    "slideshow": {
     "slide_type": "fragment"
    }
   },
   "source": [
    "```sql\n",
    "SELECT 'dowolny_tekst'+nazwa_kolumny1+'dowolny_tekst'+ nazwa_kolumny2 FROM nazwa_tabeli;\n",
    "```"
   ]
  },
  {
   "cell_type": "markdown",
   "metadata": {
    "slideshow": {
     "slide_type": "slide"
    }
   },
   "source": [
    "##### Przykład"
   ]
  },
  {
   "cell_type": "markdown",
   "metadata": {
    "slideshow": {
     "slide_type": "fragment"
    }
   },
   "source": [
    "Użycie `+` w SQL Server\n",
    "\n",
    "**Wyświetl imię i nazwisko oddzielone spacją `(\" \")`**\n",
    "\n",
    "Tabela **`Osoby`**:"
   ]
  },
  {
   "cell_type": "code",
   "execution_count": null,
   "metadata": {
    "slideshow": {
     "slide_type": "fragment"
    }
   },
   "outputs": [],
   "source": [
    "SELECT * FROM osoby;"
   ]
  },
  {
   "cell_type": "markdown",
   "metadata": {
    "slideshow": {
     "slide_type": "slide"
    }
   },
   "source": [
    "Zapytanie i wynik zapytania SQLite:"
   ]
  },
  {
   "cell_type": "code",
   "execution_count": null,
   "metadata": {
    "slideshow": {
     "slide_type": "fragment"
    }
   },
   "outputs": [],
   "source": [
    "SELECT imię+' '+nazwisko FROM osoby;"
   ]
  },
  {
   "cell_type": "markdown",
   "metadata": {
    "slideshow": {
     "slide_type": "slide"
    }
   },
   "source": [
    "Zapytanie i wynik zapytania SQL Server:\n",
    "\n",
    "```sql\n",
    "SELECT imię+' '+nazwisko FROM osoby;\n",
    "```\n",
    "\n",
    "|     imię+' '+nazwisko    |\n",
    "|:------------------------:|\n",
    "|     Paweł   Kowalski     |\n",
    "|     Piotr   Janik        |\n",
    "|     Michał   Nowak       |"
   ]
  },
  {
   "cell_type": "markdown",
   "metadata": {
    "slideshow": {
     "slide_type": "slide"
    }
   },
   "source": [
    "#### Ćwiczenie"
   ]
  },
  {
   "cell_type": "markdown",
   "metadata": {
    "slideshow": {
     "slide_type": "fragment"
    }
   },
   "source": [
    "**Wyświetl bez powtórzeń imię i nazwisko oddzielone spacją `(\" \")`**\n",
    "\n",
    "Tabela **`Simple_library_db`**:"
   ]
  },
  {
   "cell_type": "markdown",
   "metadata": {
    "slideshow": {
     "slide_type": "fragment"
    }
   },
   "source": [
    "[00 SQL - Reset.ipynb](00%20SQL%20-%20Reset.ipynb)"
   ]
  },
  {
   "cell_type": "code",
   "execution_count": null,
   "metadata": {
    "slideshow": {
     "slide_type": "fragment"
    }
   },
   "outputs": [],
   "source": [
    "%LOAD simple_library_db.db rw"
   ]
  },
  {
   "cell_type": "code",
   "execution_count": null,
   "metadata": {
    "slideshow": {
     "slide_type": "subslide"
    }
   },
   "outputs": [],
   "source": [
    "SELECT * FROM simple_library_db;"
   ]
  },
  {
   "cell_type": "markdown",
   "metadata": {
    "slideshow": {
     "slide_type": "fragment"
    }
   },
   "source": [
    "Wpisz zapytanie do bazy!"
   ]
  },
  {
   "cell_type": "markdown",
   "metadata": {},
   "source": [
    "---"
   ]
  },
  {
   "cell_type": "markdown",
   "metadata": {
    "slideshow": {
     "slide_type": "slide"
    }
   },
   "source": [
    "Zapytanie i wynik zapytania:"
   ]
  },
  {
   "cell_type": "code",
   "execution_count": null,
   "metadata": {
    "slideshow": {
     "slide_type": "fragment"
    }
   },
   "outputs": [],
   "source": [
    "SELECT DISTINCT author_name || ' ' || author_surname FROM simple_library_db;"
   ]
  },
  {
   "cell_type": "markdown",
   "metadata": {
    "slideshow": {
     "slide_type": "slide"
    }
   },
   "source": [
    "### `LOWER(nazwa_kolumny)` i `UPPER(nazwa_kolumny)`"
   ]
  },
  {
   "cell_type": "markdown",
   "metadata": {
    "slideshow": {
     "slide_type": "fragment"
    }
   },
   "source": [
    "Funkcja zwraca wartość kolumny tekstowej w postaci małych/dużych liter.\n",
    "\n",
    "Składnia:\n",
    "\n",
    "```sqlite\n",
    "SELECT LOWER(nazwa_kolumny) FROM nazwa_tabeli;\n",
    "```\n",
    "\n",
    "```sqlite\n",
    "SELECT UPPER(nazwa_kolumny) FROM nazwa_tabeli;\n",
    "```"
   ]
  },
  {
   "cell_type": "markdown",
   "metadata": {
    "slideshow": {
     "slide_type": "slide"
    }
   },
   "source": [
    "#### Przykład"
   ]
  },
  {
   "cell_type": "markdown",
   "metadata": {
    "slideshow": {
     "slide_type": "fragment"
    }
   },
   "source": [
    "```sql\n",
    "LOWER()\n",
    "```\n",
    "\n",
    "**Wyświetl wszystkie nazwiska małymi literami**\n",
    "\n",
    "Tabela **`Osoby`**:"
   ]
  },
  {
   "cell_type": "code",
   "execution_count": null,
   "metadata": {
    "slideshow": {
     "slide_type": "fragment"
    }
   },
   "outputs": [],
   "source": [
    "%LOAD osoby.db rw"
   ]
  },
  {
   "cell_type": "code",
   "execution_count": null,
   "metadata": {
    "slideshow": {
     "slide_type": "fragment"
    }
   },
   "outputs": [],
   "source": [
    "SELECT * FROM osoby;"
   ]
  },
  {
   "cell_type": "markdown",
   "metadata": {
    "slideshow": {
     "slide_type": "slide"
    }
   },
   "source": [
    "Zapytanie i wynik zapytania:"
   ]
  },
  {
   "cell_type": "code",
   "execution_count": null,
   "metadata": {
    "slideshow": {
     "slide_type": "fragment"
    }
   },
   "outputs": [],
   "source": [
    "SELECT LOWER(nazwisko) FROM osoby;"
   ]
  },
  {
   "cell_type": "markdown",
   "metadata": {
    "slideshow": {
     "slide_type": "slide"
    }
   },
   "source": [
    "#### Przykład"
   ]
  },
  {
   "cell_type": "markdown",
   "metadata": {
    "slideshow": {
     "slide_type": "fragment"
    }
   },
   "source": [
    "```sql\n",
    "UPPER()\n",
    "```\n",
    "\n",
    "**Wyświetl wszystkie nazwiska dużymi literami**\n",
    "\n",
    "Tabela **`Osoby`**:"
   ]
  },
  {
   "cell_type": "code",
   "execution_count": null,
   "metadata": {
    "slideshow": {
     "slide_type": "fragment"
    }
   },
   "outputs": [],
   "source": [
    "SELECT * FROM osoby;"
   ]
  },
  {
   "cell_type": "markdown",
   "metadata": {
    "slideshow": {
     "slide_type": "slide"
    }
   },
   "source": [
    "Zapytanie i wynik zapytania:"
   ]
  },
  {
   "cell_type": "code",
   "execution_count": null,
   "metadata": {
    "slideshow": {
     "slide_type": "fragment"
    }
   },
   "outputs": [],
   "source": [
    "SELECT UPPER(nazwisko) FROM osoby;"
   ]
  },
  {
   "cell_type": "markdown",
   "metadata": {
    "slideshow": {
     "slide_type": "slide"
    }
   },
   "source": [
    "#### Ćwiczenie"
   ]
  },
  {
   "cell_type": "markdown",
   "metadata": {
    "slideshow": {
     "slide_type": "fragment"
    }
   },
   "source": [
    "**Wyświetl bez powtórzeń imię małymi literami i nazwisko dużymi literami**\n",
    "\n",
    "Tabela **`Simple_library_db`**:"
   ]
  },
  {
   "cell_type": "code",
   "execution_count": null,
   "metadata": {
    "slideshow": {
     "slide_type": "fragment"
    }
   },
   "outputs": [],
   "source": [
    "%LOAD simple_library_db.db rw"
   ]
  },
  {
   "cell_type": "code",
   "execution_count": null,
   "metadata": {
    "slideshow": {
     "slide_type": "subslide"
    }
   },
   "outputs": [],
   "source": [
    "SELECT * FROM simple_library_db;"
   ]
  },
  {
   "cell_type": "markdown",
   "metadata": {
    "slideshow": {
     "slide_type": "fragment"
    }
   },
   "source": [
    "Wpisz zapytanie do bazy!"
   ]
  },
  {
   "cell_type": "markdown",
   "metadata": {},
   "source": [
    "---"
   ]
  },
  {
   "cell_type": "markdown",
   "metadata": {
    "slideshow": {
     "slide_type": "slide"
    }
   },
   "source": [
    "Zapytanie i wynik zapytania:"
   ]
  },
  {
   "cell_type": "code",
   "execution_count": null,
   "metadata": {
    "slideshow": {
     "slide_type": "fragment"
    }
   },
   "outputs": [],
   "source": [
    "SELECT DISTINCT LOWER(author_name), UPPER(author_surname) FROM simple_library_db;"
   ]
  },
  {
   "cell_type": "markdown",
   "metadata": {
    "slideshow": {
     "slide_type": "slide"
    }
   },
   "source": [
    "### `LENGTH(nazwa_kolumny)`"
   ]
  },
  {
   "cell_type": "markdown",
   "metadata": {
    "slideshow": {
     "slide_type": "fragment"
    }
   },
   "source": [
    "Funkcja zwraca długość pola tekstowego podanego jako argument\n",
    "\n",
    "Składnia:\n",
    "\n",
    "```sqlite\n",
    "SELECT LENGTH(nazwa_kolumny) FROM nazwa_tabeli;\n",
    "```\n",
    "\n",
    "W SQL Server używa się do tego samego funkcji `LEN()`"
   ]
  },
  {
   "cell_type": "markdown",
   "metadata": {
    "slideshow": {
     "slide_type": "slide"
    }
   },
   "source": [
    "#### Przykład"
   ]
  },
  {
   "cell_type": "markdown",
   "metadata": {
    "slideshow": {
     "slide_type": "fragment"
    }
   },
   "source": [
    "```sql\n",
    "LENGTH()\n",
    "```\n",
    "\n",
    "**Wyświetl nazwisko i odpowiadającą jemu długość nazwiska**\n",
    "\n",
    "Tabela **`Osoby`**:"
   ]
  },
  {
   "cell_type": "code",
   "execution_count": null,
   "metadata": {
    "slideshow": {
     "slide_type": "fragment"
    }
   },
   "outputs": [],
   "source": [
    "%LOAD osoby.db rw"
   ]
  },
  {
   "cell_type": "code",
   "execution_count": null,
   "metadata": {
    "slideshow": {
     "slide_type": "fragment"
    }
   },
   "outputs": [],
   "source": [
    "SELECT * FROM osoby;"
   ]
  },
  {
   "cell_type": "markdown",
   "metadata": {
    "slideshow": {
     "slide_type": "slide"
    }
   },
   "source": [
    "Zapytanie i wynik zapytania:"
   ]
  },
  {
   "cell_type": "code",
   "execution_count": null,
   "metadata": {
    "slideshow": {
     "slide_type": "fragment"
    }
   },
   "outputs": [],
   "source": [
    "SELECT nazwisko,LENGTH(nazwisko) FROM osoby;"
   ]
  },
  {
   "cell_type": "markdown",
   "metadata": {
    "slideshow": {
     "slide_type": "slide"
    }
   },
   "source": [
    "### `REPLACE(str1,str2,str3)`"
   ]
  },
  {
   "cell_type": "markdown",
   "metadata": {
    "slideshow": {
     "slide_type": "fragment"
    }
   },
   "source": [
    "Funkcja przeszukuje `str1` w poszukiwaniu `str2` aby go zamienić na `str3`\n",
    "\n",
    "Składnia:\n",
    "\n",
    "```sqlite\n",
    "SELECT REPLACE(nazwa_kolumny,'str2','str3') FROM nazwa_tabeli;\n",
    "```"
   ]
  },
  {
   "cell_type": "markdown",
   "metadata": {
    "slideshow": {
     "slide_type": "slide"
    }
   },
   "source": [
    "#### Przykład"
   ]
  },
  {
   "cell_type": "markdown",
   "metadata": {
    "slideshow": {
     "slide_type": "fragment"
    }
   },
   "source": [
    "```sql\n",
    "REPLACE()\n",
    "```\n",
    "\n",
    "**Wyświetl imiona i nazwiska z tym że zamiast imienia Michał wyświetl Michael**\n",
    "\n",
    "Tabela **`Osoby`**:"
   ]
  },
  {
   "cell_type": "code",
   "execution_count": null,
   "metadata": {
    "slideshow": {
     "slide_type": "fragment"
    }
   },
   "outputs": [],
   "source": [
    "SELECT * FROM osoby;"
   ]
  },
  {
   "cell_type": "markdown",
   "metadata": {
    "slideshow": {
     "slide_type": "slide"
    }
   },
   "source": [
    "Zapytanie i wynik zapytania:"
   ]
  },
  {
   "cell_type": "code",
   "execution_count": null,
   "metadata": {
    "slideshow": {
     "slide_type": "fragment"
    }
   },
   "outputs": [],
   "source": [
    "SELECT REPLACE(imię,'Michał','Michael'), nazwisko FROM osoby;"
   ]
  },
  {
   "cell_type": "markdown",
   "metadata": {
    "slideshow": {
     "slide_type": "slide"
    }
   },
   "source": [
    "### `SUBSTR(nazwa_kolumny,pozycja[,liczba_znaków])`"
   ]
  },
  {
   "cell_type": "markdown",
   "metadata": {
    "slideshow": {
     "slide_type": "fragment"
    }
   },
   "source": [
    "Funkcja ta służy do operacji na łańcuchach tekstowych w wyniku zapytań. Może przyjmować 2-3 argumentów.\n",
    "\n",
    "```sql\n",
    "SUBSTR(nazwa_kolumny,pozycja[,liczba_znaków])\n",
    "```\n",
    "\n",
    "`nazwa_kolumny` - łańcuch tekstowy do obcięcia\n",
    "\n",
    "`pozycja` - nr znaku od którego ma być wyświetlony string\n",
    "\n",
    "`liczba_znaków` - argument opcjonalny, liczba znaków do wyświetlenia, liczona od parametru pozycja"
   ]
  },
  {
   "cell_type": "markdown",
   "metadata": {
    "slideshow": {
     "slide_type": "subslide"
    }
   },
   "source": [
    "W Oracle oraz w niektórych wersjach MySQL używa się funkcji `SUBSTRING()`\n",
    "\n",
    "Natomiast w MS Access stosuje się `MID()`\n",
    "\n",
    "Składnia:\n",
    "\n",
    "```sqlite\n",
    "SELECT SUBSTR(nazwa_kolumny,pozycja[,liczba_znaków]) FROM nazwa_tabeli;\n",
    "```"
   ]
  },
  {
   "cell_type": "markdown",
   "metadata": {
    "slideshow": {
     "slide_type": "slide"
    }
   },
   "source": [
    "#### Przykład"
   ]
  },
  {
   "cell_type": "markdown",
   "metadata": {
    "slideshow": {
     "slide_type": "fragment"
    }
   },
   "source": [
    "```sqlite\n",
    "SUBSTR()\n",
    "```\n",
    "\n",
    "**Wyświetl dwie pierwsze litery z nazwiska**\n",
    "\n",
    "Tabela **`Osoby`**:"
   ]
  },
  {
   "cell_type": "code",
   "execution_count": null,
   "metadata": {
    "slideshow": {
     "slide_type": "fragment"
    }
   },
   "outputs": [],
   "source": [
    "SELECT * FROM osoby;"
   ]
  },
  {
   "cell_type": "markdown",
   "metadata": {
    "slideshow": {
     "slide_type": "slide"
    }
   },
   "source": [
    "Zapytanie i wynik zapytania:"
   ]
  },
  {
   "cell_type": "code",
   "execution_count": null,
   "metadata": {
    "slideshow": {
     "slide_type": "fragment"
    }
   },
   "outputs": [],
   "source": [
    "SELECT SUBSTR(nazwisko,1,2) FROM osoby;"
   ]
  },
  {
   "cell_type": "markdown",
   "metadata": {
    "slideshow": {
     "slide_type": "slide"
    }
   },
   "source": [
    "## Łączenie tabel i wyszukiwanie danych w wielu tabelach"
   ]
  },
  {
   "cell_type": "markdown",
   "metadata": {
    "slideshow": {
     "slide_type": "fragment"
    }
   },
   "source": [
    "Czasem potrzebujemy wybrać dane z tabeli w zależności od danych pochodzących z innej tabeli. Do rozwiązania tego problemu służy operacja zwana **łączeniem (`JOIN`)**.\n",
    "\n",
    "Jeśli w zapytaniu potrzebne nam są dane z `tabeli1` i `tabeli2` to musimy wpisać ich nazwy zaraz po słowie `FROM` (tak jak to robimy w standardowych zapytaniach) a następnie odwoływać się do kolumn z tych tabel używając: nazwy konkretnej tabeli, operatora kropki “`.`” oraz nazwy żądanej kolumny.\n",
    "\n",
    "```sqlite\n",
    "SELECT tabela.kolumna,tabela2.kolumna FROM tabela,tabela2 ON tabela2.kolumna=tabela.kolumna\n",
    "```"
   ]
  },
  {
   "cell_type": "markdown",
   "metadata": {
    "slideshow": {
     "slide_type": "subslide"
    }
   },
   "source": [
    "Operator “`,`” jest skrótem od słowa kluczowego `JOIN`, które oznacza zebranie wymienionych tabel w jedną dużą i operowanie na niej.\n",
    "\n",
    "Możliwe jest łączenie trzech i więcej tabel. Działa to analogicznie jak w przypadku dwóch tabel.\n",
    "\n",
    "`JOIN` łączy rekordy z dwóch kolumn w jeden na podstawie podanego warunku"
   ]
  },
  {
   "cell_type": "markdown",
   "metadata": {
    "slideshow": {
     "slide_type": "slide"
    }
   },
   "source": [
    "#### Przykład\n",
    "\n",
    "**Łączymy rekordy z tabel `Authors` i `Titles` w jedną tabelę na podstawie podanego warunku równości `authors.id` i `titles.author_id`**\n",
    "\n",
    "Tabela **`Authors`**:"
   ]
  },
  {
   "cell_type": "code",
   "execution_count": null,
   "metadata": {
    "slideshow": {
     "slide_type": "fragment"
    }
   },
   "outputs": [],
   "source": [
    "%LOAD library_db.db rw"
   ]
  },
  {
   "cell_type": "code",
   "execution_count": null,
   "metadata": {
    "slideshow": {
     "slide_type": "subslide"
    }
   },
   "outputs": [],
   "source": [
    "SELECT * FROM authors;"
   ]
  },
  {
   "cell_type": "markdown",
   "metadata": {
    "slideshow": {
     "slide_type": "fragment"
    }
   },
   "source": [
    "Tabela **`Titles`**:"
   ]
  },
  {
   "cell_type": "code",
   "execution_count": null,
   "metadata": {
    "slideshow": {
     "slide_type": "subslide"
    }
   },
   "outputs": [],
   "source": [
    "SELECT * FROM titles;"
   ]
  },
  {
   "cell_type": "markdown",
   "metadata": {
    "slideshow": {
     "slide_type": "slide"
    }
   },
   "source": [
    "Zapytanie i wynik zapytania:"
   ]
  },
  {
   "cell_type": "code",
   "execution_count": null,
   "metadata": {
    "slideshow": {
     "slide_type": "subslide"
    }
   },
   "outputs": [],
   "source": [
    "SELECT * FROM authors JOIN titles ON authors.ID=titles.author_id;"
   ]
  },
  {
   "cell_type": "markdown",
   "metadata": {
    "slideshow": {
     "slide_type": "slide"
    }
   },
   "source": [
    "#### Ćwiczenie\n",
    "\n",
    "**Znajdź nazwisko i tytuły książek napisanych przez autora o identyfikatorze 3**\n",
    "\n",
    "Tabela **`Titles`**:"
   ]
  },
  {
   "cell_type": "code",
   "execution_count": null,
   "metadata": {
    "slideshow": {
     "slide_type": "subslide"
    }
   },
   "outputs": [],
   "source": [
    "SELECT * FROM titles;"
   ]
  },
  {
   "cell_type": "markdown",
   "metadata": {
    "slideshow": {
     "slide_type": "slide"
    }
   },
   "source": [
    "Tabela **`Authors`**:"
   ]
  },
  {
   "cell_type": "code",
   "execution_count": null,
   "metadata": {
    "slideshow": {
     "slide_type": "fragment"
    }
   },
   "outputs": [],
   "source": [
    "SELECT * FROM authors;"
   ]
  },
  {
   "cell_type": "markdown",
   "metadata": {
    "slideshow": {
     "slide_type": "fragment"
    }
   },
   "source": [
    "Wpisz zapytanie do bazy!"
   ]
  },
  {
   "cell_type": "markdown",
   "metadata": {},
   "source": [
    "---"
   ]
  },
  {
   "cell_type": "markdown",
   "metadata": {
    "slideshow": {
     "slide_type": "slide"
    }
   },
   "source": [
    "Zapytanie i wynik zapytania:"
   ]
  },
  {
   "cell_type": "code",
   "execution_count": null,
   "metadata": {
    "slideshow": {
     "slide_type": "fragment"
    }
   },
   "outputs": [],
   "source": [
    "SELECT authors.surname,titles.title FROM authors JOIN titles ON authors.ID=titles.author_id\n",
    "WHERE titles.author_id=\"3\";"
   ]
  },
  {
   "cell_type": "markdown",
   "metadata": {
    "slideshow": {
     "slide_type": "slide"
    }
   },
   "source": [
    "#### Ćwiczenie\n",
    "\n",
    "**Znajdź imiona, nazwiska i tytuły książek napisanych przez autorów o imieniu rozpoczynającym się na “`S`”**\n",
    "\n",
    "Tabela **`Titles`**:"
   ]
  },
  {
   "cell_type": "code",
   "execution_count": null,
   "metadata": {
    "slideshow": {
     "slide_type": "subslide"
    }
   },
   "outputs": [],
   "source": [
    "SELECT * FROM titles;"
   ]
  },
  {
   "cell_type": "markdown",
   "metadata": {
    "slideshow": {
     "slide_type": "slide"
    }
   },
   "source": [
    "Tabela **`Authors`**:"
   ]
  },
  {
   "cell_type": "code",
   "execution_count": null,
   "metadata": {
    "slideshow": {
     "slide_type": "fragment"
    }
   },
   "outputs": [],
   "source": [
    "SELECT * FROM authors;"
   ]
  },
  {
   "cell_type": "markdown",
   "metadata": {
    "slideshow": {
     "slide_type": "fragment"
    }
   },
   "source": [
    "Wpisz zapytanie do bazy!"
   ]
  },
  {
   "cell_type": "markdown",
   "metadata": {},
   "source": [
    "---"
   ]
  },
  {
   "cell_type": "markdown",
   "metadata": {
    "slideshow": {
     "slide_type": "slide"
    }
   },
   "source": [
    "Zapytanie i wynik zapytania:"
   ]
  },
  {
   "cell_type": "code",
   "execution_count": null,
   "metadata": {
    "slideshow": {
     "slide_type": "subslide"
    }
   },
   "outputs": [],
   "source": [
    "SELECT authors.name,authors.surname,titles.title FROM authors JOIN titles\n",
    "ON authors.ID=titles.author_id WHERE authors.name LIKE 'S%';"
   ]
  },
  {
   "cell_type": "markdown",
   "metadata": {
    "slideshow": {
     "slide_type": "slide"
    }
   },
   "source": [
    "### Łączenie tabel z użyciem aliasów\n",
    "\n",
    "```sql\n",
    "SELECT tab.kolumna FROM tabela AS tab,tabela2 AS tab2 WHERE tab2.kolumna=wartość;\n",
    "```"
   ]
  },
  {
   "cell_type": "markdown",
   "metadata": {
    "slideshow": {
     "slide_type": "slide"
    }
   },
   "source": [
    "#### Przykład\n",
    "\n",
    "**Podajemy id, nazwę i ilość zamówionych produktów w zamówieniu o id `4` korzystając z aliasów dla tabel `Order_product` i `Product`**\n",
    "\n",
    "Tabela **`Order_product`**:"
   ]
  },
  {
   "cell_type": "code",
   "execution_count": null,
   "metadata": {
    "slideshow": {
     "slide_type": "fragment"
    }
   },
   "outputs": [],
   "source": [
    "%LOAD CodeBrainers.db rw"
   ]
  },
  {
   "cell_type": "code",
   "execution_count": null,
   "metadata": {
    "slideshow": {
     "slide_type": "subslide"
    }
   },
   "outputs": [],
   "source": [
    "SELECT * FROM order_product;"
   ]
  },
  {
   "cell_type": "markdown",
   "metadata": {
    "slideshow": {
     "slide_type": "subslide"
    }
   },
   "source": [
    "Tabela **`Product`**:"
   ]
  },
  {
   "cell_type": "code",
   "execution_count": null,
   "metadata": {
    "slideshow": {
     "slide_type": "fragment"
    }
   },
   "outputs": [],
   "source": [
    "SELECT * FROM product;"
   ]
  },
  {
   "cell_type": "markdown",
   "metadata": {
    "slideshow": {
     "slide_type": "slide"
    }
   },
   "source": [
    "Zapytanie i wynik zapytania:"
   ]
  },
  {
   "cell_type": "code",
   "execution_count": null,
   "metadata": {
    "slideshow": {
     "slide_type": "fragment"
    }
   },
   "outputs": [],
   "source": [
    "SELECT p.id, p.name, op.amount FROM order_product AS op, product AS p\n",
    "WHERE op.order_id = 4 AND p.id = op.product_id;"
   ]
  },
  {
   "cell_type": "markdown",
   "metadata": {
    "slideshow": {
     "slide_type": "slide"
    }
   },
   "source": [
    "## Zadania utrwalające 2"
   ]
  },
  {
   "cell_type": "markdown",
   "metadata": {
    "slideshow": {
     "slide_type": "slide"
    }
   },
   "source": [
    "### Ćwiczenia\n",
    "\n",
    "[`02_joins.md`](https://github.com/pkociepka/sql/blob/master/exercises/02_joins.md)"
   ]
  },
  {
   "cell_type": "markdown",
   "metadata": {
    "slideshow": {
     "slide_type": "slide"
    }
   },
   "source": [
    "### Materiały\n",
    "\n",
    "[`library_db.sql`](https://github.com/pkociepka/sql/blob/master/library_db.sql)"
   ]
  },
  {
   "cell_type": "markdown",
   "metadata": {
    "slideshow": {
     "slide_type": "subslide"
    }
   },
   "source": [
    "Schemat bazy danych z pliku [`library_db.sql`](https://github.com/pkociepka/sql/blob/master/library_db.sql) znajdziesz w pliku [`library_db_scheme.png`](https://github.com/pkociepka/sql/blob/master/library_db_schema.png)\n",
    "\n",
    "![](https://raw.githubusercontent.com/pkociepka/sql/master/library_db_schema.png)"
   ]
  },
  {
   "cell_type": "code",
   "execution_count": null,
   "metadata": {
    "slideshow": {
     "slide_type": "skip"
    }
   },
   "outputs": [],
   "source": []
  }
 ],
 "metadata": {
  "celltoolbar": "Slideshow",
  "kernelspec": {
   "display_name": "xsqlite",
   "language": "sqlite",
   "name": "xsqlite"
  },
  "language_info": {
   "codemirror_mode": "sql",
   "file_extension": "",
   "mimetype": "",
   "name": "sql",
   "version": "3.33.0"
  }
 },
 "nbformat": 4,
 "nbformat_minor": 4
}
