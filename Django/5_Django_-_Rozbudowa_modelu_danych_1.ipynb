{
 "cells": [
  {
   "cell_type": "markdown",
   "id": "631e9c2e",
   "metadata": {
    "slideshow": {
     "slide_type": "slide"
    }
   },
   "source": [
    "# Django - Prezentacja danych\n",
    "*[Mikołaj Leszczuk](mailto:mikolaj.leszczuk@agh.edu.pl), [Agnieszka Rudnicka](mailto:rudnicka@agh.edu.pl)*"
   ]
  },
  {
   "cell_type": "markdown",
   "id": "e26d559c",
   "metadata": {
    "slideshow": {
     "slide_type": "fragment"
    }
   },
   "source": [
    "* Relacyjne bazy danych\n",
    "  * Problem z polem reżysera w obecnym modelu\n",
    "  * Relacje i klucz obcy\n",
    "  * Graficzna reprezentacja modelu danych\n",
    "* Ulepszamy nasze modele\n",
    "  * Model reżysera\n",
    "  * Poprawki w modelu filmów (część 1/2)"
   ]
  },
  {
   "cell_type": "markdown",
   "id": "c4b55677",
   "metadata": {
    "slideshow": {
     "slide_type": "slide"
    }
   },
   "source": [
    "## Relacyjne bazy danych"
   ]
  },
  {
   "cell_type": "markdown",
   "id": "ecc23009",
   "metadata": {
    "slideshow": {
     "slide_type": "fragment"
    }
   },
   "source": [
    "Do tej pory nasza aplikacja posiadała dość prosty i ubogi model danych. Była to tylko pojedyncza tabela przechowująca filmy (`class Movie(models.Model)`: w pliku [`movies/models.py`](movies/models.py))."
   ]
  },
  {
   "cell_type": "markdown",
   "id": "3a2acfa5",
   "metadata": {
    "slideshow": {
     "slide_type": "fragment"
    }
   },
   "source": [
    "Pora na utworzenie oddzielnego modelu na reżyserów i recenzje oraz rozszerzenie istniejącego modelu filmów o dodatkowe pola."
   ]
  },
  {
   "cell_type": "markdown",
   "id": "9e865925",
   "metadata": {
    "slideshow": {
     "slide_type": "skip"
    }
   },
   "source": []
  }
 ],
 "metadata": {
  "celltoolbar": "Slideshow",
  "kernelspec": {
   "display_name": "Python 3 (ipykernel)",
   "language": "python",
   "name": "python3"
  },
  "language_info": {
   "codemirror_mode": {
    "name": "ipython",
    "version": 3
   },
   "file_extension": ".py",
   "mimetype": "text/x-python",
   "name": "python",
   "nbconvert_exporter": "python",
   "pygments_lexer": "ipython3",
   "version": "3.13.3"
  }
 },
 "nbformat": 4,
 "nbformat_minor": 5
}
