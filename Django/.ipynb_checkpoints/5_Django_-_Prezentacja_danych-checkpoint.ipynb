{
 "cells": [
  {
   "cell_type": "markdown",
   "id": "631e9c2e",
   "metadata": {
    "slideshow": {
     "slide_type": "slide"
    }
   },
   "source": [
    "# Django - Wprowadzenie\n",
    "*[Mikołaj Leszczuk](mailto:mikolaj.leszczuk@agh.edu.pl), [Agnieszka Rudnicka](mailto:rudnicka@agh.edu.pl)*"
   ]
  },
  {
   "cell_type": "markdown",
   "id": "e26d559c",
   "metadata": {
    "slideshow": {
     "slide_type": "fragment"
    }
   },
   "source": [
    "* Szablony HTML w Django - szablon bazowy dla naszej aplikacji\n",
    "* Prezentacja danych z bazy\n",
    "  * Widok listy filmów\n",
    "  * Rejestracja podstrony listy filmów\n",
    "  * Szablon HTML listy\n",
    "* Dalsze prace"
   ]
  },
  {
   "cell_type": "markdown",
   "id": "d2c428b9",
   "metadata": {
    "slideshow": {
     "slide_type": "slide"
    }
   },
   "source": [
    "## Szablony HTML w Django - szablon bazowy dla naszej aplikacji"
   ]
  },
  {
   "cell_type": "markdown",
   "id": "4e017759",
   "metadata": {
    "slideshow": {
     "slide_type": "fragment"
    }
   },
   "source": [
    "Każda strona WWW ma kilka stałych elementów interfejsu, takich jak: menu, stopka, obszar gdzie wyświetlane są treści, czasem pasek boczny i inne. Każda podstrona naszej aplikacji musi więc składać się z tego samego kodu, kopiowanego wszędzie i trudnego w utrzymaniu. Gdy zrobimy gdzieś literówkę, to musimy poprawiać we wszystkich plikach z osobna! Gdy chcemy dodać coś nowego do interfejsu też."
   ]
  },
  {
   "cell_type": "markdown",
   "id": "b5ec3c1a",
   "metadata": {
    "slideshow": {
     "slide_type": "fragment"
    }
   },
   "source": [
    "Na szczęście istnieją frameworki! Django jak wiele innych narzędzi ma sposób na taką redundancję kodu - [Django HTML Templating Engine](https://docs.djangoproject.com/en/4.2/topics/templates/). W skrócie nazywane dalej szablonami HTML Django."
   ]
  },
  {
   "cell_type": "markdown",
   "id": "2897c996",
   "metadata": {
    "slideshow": {
     "slide_type": "subslide"
    }
   },
   "source": [
    "Do tej pory mieliśmy do czynienia głównie ze standardową składnią HTML."
   ]
  },
  {
   "cell_type": "markdown",
   "id": "bff959ec",
   "metadata": {
    "slideshow": {
     "slide_type": "fragment"
    }
   },
   "source": [
    "Django wzbogaca możliwości HTML między innymi o dziedziczenie szablonów. To pozwala nam napisać jeden raz szablon bazowy naszej aplikacji, który będzie dynamicznie załączany do każdej podstrony, która po nim dziedziczy. Brzmi magicznie? Nie szkodzi, zobaczmy jak to wygląda w praktyce."
   ]
  },
  {
   "cell_type": "markdown",
   "id": "72c834e0",
   "metadata": {
    "slideshow": {
     "slide_type": "subslide"
    }
   },
   "source": [
    "### Szablon bazowy dla naszej aplikacji"
   ]
  },
  {
   "cell_type": "markdown",
   "id": "b25127f2",
   "metadata": {
    "slideshow": {
     "slide_type": "fragment"
    }
   },
   "source": [
    "Na dobry początek utwórzmy w katalogu [`movies/templates/`](movies/templates/) nowy plik [`base.html`](http://localhost:8888/edit/Documents/Courses/Django/movies/templates/base.html). Będzie to nasz bazowy szablon wykorzystywany przez inne podstrony."
   ]
  },
  {
   "cell_type": "markdown",
   "id": "f19f50df",
   "metadata": {
    "slideshow": {
     "slide_type": "subslide"
    }
   },
   "source": [
    "Zacznijmy od czegoś prostego (proponowana początkowa zawartość [`base.html`](http://localhost:8888/edit/Documents/Courses/Django/movies/templates/base.html)):"
   ]
  },
  {
   "cell_type": "markdown",
   "id": "69242836",
   "metadata": {
    "slideshow": {
     "slide_type": "fragment"
    }
   },
   "source": [
    "```html\n",
    "<!DOCTYPE html>\n",
    "<html lang=\"pl\">\n",
    "<head>\n",
    "    <meta charset=\"UTF-8\">\n",
    "    <title>Moja biblioteka filmów</title>\n",
    "</head>\n",
    "<body>\n",
    "    \n",
    "</body>\n",
    "</html>\n",
    "```"
   ]
  },
  {
   "cell_type": "markdown",
   "id": "f2c1e2b5",
   "metadata": {
    "slideshow": {
     "slide_type": "subslide"
    }
   },
   "source": [
    "Powyższy HTML wyświetli nam jedynie pustą stronę z tytułem karty \"Moja biblioteka filmów\". Dodajmy więc przynajmniej jakiś nagłówek (oczywiście w środku elementu `<body> </body>`):"
   ]
  },
  {
   "cell_type": "markdown",
   "id": "ec25a836",
   "metadata": {
    "slideshow": {
     "slide_type": "fragment"
    }
   },
   "source": [
    "```html\n",
    "<h1>\n",
    "    Witamy w filmotece!\n",
    "</h1>\n",
    "```"
   ]
  },
  {
   "cell_type": "markdown",
   "id": "802309c8",
   "metadata": {
    "slideshow": {
     "slide_type": "fragment"
    }
   },
   "source": [
    "W ten sposób będziemy wiedzieli, że każda strona wykorzystuje ten kod HTML, bo nam się wyświetli nagłówek."
   ]
  },
  {
   "cell_type": "markdown",
   "id": "cacacfab",
   "metadata": {
    "slideshow": {
     "slide_type": "subslide"
    }
   },
   "source": [
    "Następnie dodajmy HTMLowy tag Django:"
   ]
  },
  {
   "cell_type": "markdown",
   "id": "0d9fcf22",
   "metadata": {
    "slideshow": {
     "slide_type": "fragment"
    }
   },
   "source": [
    "```django\n",
    "{% block content %}\n",
    "    Tu będzie treść...\n",
    "{% endblock %}\n",
    "```"
   ]
  },
  {
   "cell_type": "markdown",
   "id": "2c7546a4",
   "metadata": {
    "slideshow": {
     "slide_type": "fragment"
    }
   },
   "source": [
    "Ten fragment kodu informuje Django, że w tym miejscu pliku HTML można wstawić jakąś zawartość w szablonach HTML, które rozszerzają ten. Kontynuujmy..."
   ]
  },
  {
   "cell_type": "markdown",
   "id": "ce2034c6",
   "metadata": {
    "slideshow": {
     "slide_type": "fragment"
    }
   },
   "source": [
    "_Tag `{% block %}{% endblock %}` może być pusty, ale jeśli coś w nim umieścimy zadziała to jak domyślna wartość._"
   ]
  },
  {
   "cell_type": "markdown",
   "id": "9762e69e",
   "metadata": {
    "slideshow": {
     "slide_type": "subslide"
    }
   },
   "source": [
    "W szablonie z poprzednich zajęć [`hello.html`](http://localhost:8888/edit/Documents/Courses/Django/movies/templates/hello.html) dodajmy na górze pliku, w pierwszej linijce `extends`."
   ]
  },
  {
   "cell_type": "markdown",
   "id": "fbf11b4d",
   "metadata": {
    "slideshow": {
     "slide_type": "fragment"
    }
   },
   "source": [
    "```django\n",
    "{% extends \"base.html\" %}\n",
    "\n",
    "<h1>Witaj świecie z HTML!</h1>\n",
    "```"
   ]
  },
  {
   "cell_type": "markdown",
   "id": "f954aa58",
   "metadata": {
    "slideshow": {
     "slide_type": "fragment"
    }
   },
   "source": [
    "A następnie wejdźmy na [tę stronę](http://127.0.0.1:8000/hello/) w przeglądarce. Rezultaty? :)"
   ]
  },
  {
   "cell_type": "markdown",
   "id": "2a0fcd80",
   "metadata": {
    "slideshow": {
     "slide_type": "subslide"
    }
   },
   "source": [
    "To teraz zobaczymy co oznaczało \"wstawić jakąś zawartość w szablonach HTML, które rozszerzają ten ([`base.html`](http://localhost:8888/edit/Documents/Courses/Django/movies/templates/base.html))\". Zmieńmy kod na następujący."
   ]
  },
  {
   "cell_type": "markdown",
   "id": "97656363",
   "metadata": {
    "slideshow": {
     "slide_type": "fragment"
    }
   },
   "source": [
    "```django\n",
    "{% extends \"base.html\" %}\n",
    "\n",
    "{% block content %}\n",
    "    <h1>Witaj świecie z HTML!</h1>\n",
    "{% endblock %}\n",
    "```"
   ]
  },
  {
   "cell_type": "markdown",
   "id": "ed6a0972",
   "metadata": {
    "slideshow": {
     "slide_type": "fragment"
    }
   },
   "source": [
    "I ponownie udajmy się do przeglądarki."
   ]
  },
  {
   "cell_type": "markdown",
   "id": "d39717d6",
   "metadata": {
    "slideshow": {
     "slide_type": "slide"
    }
   },
   "source": [
    "## Prezentacja danych z bazy"
   ]
  },
  {
   "cell_type": "markdown",
   "id": "97830817",
   "metadata": {
    "slideshow": {
     "slide_type": "fragment"
    }
   },
   "source": [
    "W tej chwili mamy działający model na filmy oraz narzędzie, które pozwala na zarządzanie nimi (panel administracyjny). Jednak chcielibyśmy pochwalić się zawartością naszej biblioteczki światu. W tym celu oczywiście nie rozdamy wszystkim haseł dostępu, lub go nie zdejmiemy, to byłoby niebezpieczne!"
   ]
  },
  {
   "cell_type": "markdown",
   "id": "dc94d040",
   "metadata": {
    "slideshow": {
     "slide_type": "fragment"
    }
   },
   "source": [
    "Spróbujmy zatem wyświetlić listę filmów korzystając z szablonów HTML Django. To one pozwalają nam dynamicznie dodawać treść pobraną z bazy danych (a w międzyczasie zmienianą przez użytkowników w panelu administracyjnym)."
   ]
  },
  {
   "cell_type": "markdown",
   "id": "d5b56710",
   "metadata": {
    "slideshow": {
     "slide_type": "slide"
    }
   },
   "source": [
    "### Widok listy filmów"
   ]
  },
  {
   "cell_type": "markdown",
   "id": "1cdcdb61",
   "metadata": {
    "slideshow": {
     "slide_type": "fragment"
    }
   },
   "source": [
    "Udajmy się do [`movies/views.py`](http://localhost:8888/edit/Documents/Courses/Django/movies/views.py) aby utworzyć widok listy filmów."
   ]
  },
  {
   "cell_type": "markdown",
   "id": "6b163970",
   "metadata": {
    "slideshow": {
     "slide_type": "fragment"
    }
   },
   "source": [
    "Na dobry początek trzeba zaimportować model (mądre IDE jak VSCode lub Pycharm same to zaproponują / zrobią).\n",
    "Następnie piszemy kolejną funkcję, która przyjmuje zapytanie (`request`) jako argument."
   ]
  },
  {
   "cell_type": "markdown",
   "id": "18be95fd",
   "metadata": {
    "slideshow": {
     "slide_type": "subslide"
    }
   },
   "source": [
    "```python\n",
    "from movies.models import Movie\n",
    "\n",
    "def list_movies(request):\n",
    "    movies = Movie.objects.all()\n",
    "    return render(\n",
    "        request, \n",
    "        template_name=\"movie_list.html\", \n",
    "        context={\"movies\": movies}\n",
    "    )\n",
    "```"
   ]
  },
  {
   "cell_type": "markdown",
   "id": "108397ce",
   "metadata": {
    "slideshow": {
     "slide_type": "subslide"
    }
   },
   "source": [
    "W tym miejscu wiele się dzieje! Zacznijmy od góry:"
   ]
  },
  {
   "cell_type": "markdown",
   "id": "e057bdcd",
   "metadata": {
    "slideshow": {
     "slide_type": "fragment"
    }
   },
   "source": [
    "* dzięki zaimportowaniu modelu `Movie` będziemy mogli wejść w interakcje z bazą danych za pośrednictwem Django, czyli między innymi:\n",
    "  * dodawać nowe obiekty typu `Movie`\n",
    "  * edytować i usuwać istniejące obiekty `Movie`\n",
    "  * odczytywać a także filtrować istniejące obiekty `Movie`"
   ]
  },
  {
   "cell_type": "markdown",
   "id": "eb2b1c79",
   "metadata": {
    "slideshow": {
     "slide_type": "fragment"
    }
   },
   "source": [
    "* `objects` - każdy model w Django ma coś co się nazywa [manager](https://docs.djangoproject.com/en/4.2/topics/db/managers/), nie będziemy wchodzić tutaj w szczegóły, ale jest to interfejs przez który dostarczane są nam operacje na bazie danych. W praktyce, umożliwia to nam tworzenie, edycję, usuwanie i inne zapytania do bazy danych."
   ]
  },
  {
   "cell_type": "markdown",
   "id": "b8d0bd8f",
   "metadata": {
    "slideshow": {
     "slide_type": "subslide"
    }
   },
   "source": [
    "* `Movie.objects.all()` użyje menedżera obiektów typu `Movie` i zapyta bazę danych o WSZYSTKIE filmy. Dostaniemy więc listę całej zawartości naszej filmoteki."
   ]
  },
  {
   "cell_type": "markdown",
   "id": "45f7c751",
   "metadata": {
    "slideshow": {
     "slide_type": "fragment"
    }
   },
   "source": [
    "* Do wygenerowania odpowiedzi aplikacji zostanie użyty szablon `movie_list.html` (tak, musimy go teraz stworzyć!)"
   ]
  },
  {
   "cell_type": "markdown",
   "id": "68695fc7",
   "metadata": {
    "slideshow": {
     "slide_type": "fragment"
    }
   },
   "source": [
    "* Lista filmów zostanie dodana do kontekstu HTML"
   ]
  },
  {
   "cell_type": "markdown",
   "id": "1595a2da",
   "metadata": {
    "slideshow": {
     "slide_type": "slide"
    }
   },
   "source": [
    "### Rejestracja podstrony listy filmów"
   ]
  },
  {
   "cell_type": "markdown",
   "id": "c22a9f0b",
   "metadata": {
    "slideshow": {
     "slide_type": "fragment"
    }
   },
   "source": [
    "Aby widok mógł być wyświetlony trzeba mu przydzielić jakiś adres. Udajmy się więc do [`urls.py`](http://localhost:8888/edit/Documents/Courses/Django/goodmovies/urls.py) czyli o URL resolvera naszego projektu. Tutaj należy dodać `path()`, który będzie kierował zapytania przeglądarek użytkowników z konkretnego adresu na stronę powstającej listy filmów."
   ]
  },
  {
   "cell_type": "markdown",
   "id": "7b272e30",
   "metadata": {
    "slideshow": {
     "slide_type": "subslide"
    }
   },
   "source": [
    "Przykładowo, do listy `urlpatterns` dodajmy linijkę:"
   ]
  },
  {
   "cell_type": "markdown",
   "id": "137dca8a",
   "metadata": {
    "slideshow": {
     "slide_type": "fragment"
    }
   },
   "source": [
    "```python\n",
    "urlpatterns = [\n",
    "    ...\n",
    "    \n",
    "    # http://127.0.0.1:8000/filmy\n",
    "    path(\"filmy\", views.list_movies),  # NOWE\n",
    "]\n",
    "```"
   ]
  },
  {
   "cell_type": "markdown",
   "id": "bd8f15e1",
   "metadata": {
    "slideshow": {
     "slide_type": "fragment"
    }
   },
   "source": [
    "Teraz link [http://127.0.0.1:8000/filmy](http://127.0.0.1:8000/filmy) powinien nas kierować do listy filmów, którą przed chwilą napisaliśmy w [`views.py`](http://localhost:8888/edit/Documents/Courses/Django/movies/views.py). Został jeszcze jeden element - szablon HTML, który wyświetli dane."
   ]
  },
  {
   "cell_type": "markdown",
   "id": "d59dd3d3",
   "metadata": {
    "slideshow": {
     "slide_type": "slide"
    }
   },
   "source": [
    "### Szablon HTML listy"
   ]
  },
  {
   "cell_type": "markdown",
   "id": "31533e56",
   "metadata": {
    "slideshow": {
     "slide_type": "fragment"
    }
   },
   "source": [
    "Stwórzmy plik o nazwie [`movie_list.html`](http://localhost:8888/edit/Documents/Courses/Django/movies/templates/movie_list.html) (oczywiście musi być umieszczony w katalogu szablonów naszej aplikacji [`movies/templates/`](movies/templates/))."
   ]
  },
  {
   "cell_type": "markdown",
   "id": "eaeb2be7",
   "metadata": {
    "slideshow": {
     "slide_type": "fragment"
    }
   },
   "source": [
    "Na początek możemy sprawdzić, czy wszystko dobrze zaprogramowaliśmy. Spróbujmy więc wypisać zmienną `movies`, którą dodaliśmy do kontekstu szablonu."
   ]
  },
  {
   "cell_type": "markdown",
   "id": "c6d8a94b",
   "metadata": {
    "slideshow": {
     "slide_type": "fragment"
    }
   },
   "source": [
    "```django\n",
    "{{ movies }}\n",
    "```"
   ]
  },
  {
   "cell_type": "markdown",
   "id": "65ca3abb",
   "metadata": {
    "slideshow": {
     "slide_type": "subslide"
    }
   },
   "source": [
    "Jeśli w przeglądarce pojawiła się lista obiektów z tajemniczym `QuerySet`, to jesteśmy na dobrej drodze."
   ]
  },
  {
   "cell_type": "markdown",
   "id": "d04a5e47",
   "metadata": {
    "slideshow": {
     "slide_type": "fragment"
    }
   },
   "source": [
    "Aby wypisać elementy list prostą pętlą można posłużyć się tagiem Django\n",
    "\n",
    "`{% for %}`."
   ]
  },
  {
   "cell_type": "markdown",
   "id": "a11a3600",
   "metadata": {
    "slideshow": {
     "slide_type": "fragment"
    }
   },
   "source": [
    "```django\n",
    "{% for movie in movies %}\n",
    "<p>\n",
    "    Film: {{ movie }}\n",
    "</p>\n",
    "{% endfor %}\n",
    "```"
   ]
  },
  {
   "cell_type": "markdown",
   "id": "c97a26ae",
   "metadata": {
    "slideshow": {
     "slide_type": "subslide"
    }
   },
   "source": [
    "Powyższy kawałek kodu prze-iteruje po liście, którą dostarczyliśmy z widoku. Następnie dla każdego elementu wstawi HTML zawarty w środku, czyli w naszym przypadku akapit z napisem `Film: {{ movie }}`."
   ]
  },
  {
   "cell_type": "markdown",
   "id": "7356d61c",
   "metadata": {
    "slideshow": {
     "slide_type": "slide"
    }
   },
   "source": [
    "## Dalsze prace"
   ]
  },
  {
   "cell_type": "markdown",
   "id": "ad9ca4dc",
   "metadata": {
    "slideshow": {
     "slide_type": "fragment"
    }
   },
   "source": [
    "1. Wypisz osobno każde z pól modelu filmu np.: tytuł (`movie.title`), datę publikacji (`movie.published_at`)\n",
    "1. Wykorzystaj HTML (np.: `<b></b>`, `<i></i>`) i CSS (np.: `<style>p {color: green;}</style>` w `<head></head>`) do poprawienia wyglądu listy\n",
    "1. Przebuduj szablon `movie_list.html` tak aby wykorzystywał (rozszerzał) szablon bazowy `base.html` (np.: `{% extends \"base.html\" %}{% block content %}{% endblock %}`)\n",
    "1. Dodaj widok szczegółów pierwszego, pojedynczego filmu (np.: `Movie.objects.all()[0]`)"
   ]
  },
  {
   "cell_type": "markdown",
   "id": "9e865925",
   "metadata": {
    "slideshow": {
     "slide_type": "skip"
    }
   },
   "source": []
  }
 ],
 "metadata": {
  "celltoolbar": "Slideshow",
  "kernelspec": {
   "display_name": "Python 3 (ipykernel)",
   "language": "python",
   "name": "python3"
  },
  "language_info": {
   "codemirror_mode": {
    "name": "ipython",
    "version": 3
   },
   "file_extension": ".py",
   "mimetype": "text/x-python",
   "name": "python",
   "nbconvert_exporter": "python",
   "pygments_lexer": "ipython3",
   "version": "3.11.3"
  }
 },
 "nbformat": 4,
 "nbformat_minor": 5
}
