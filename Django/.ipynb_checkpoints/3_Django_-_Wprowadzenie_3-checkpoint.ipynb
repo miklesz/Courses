{
 "cells": [
  {
   "cell_type": "markdown",
   "id": "631e9c2e",
   "metadata": {
    "slideshow": {
     "slide_type": "slide"
    }
   },
   "source": [
    "# Django - Wprowadzenie 3\n",
    "*[Mikołaj Leszczuk](mailto:mikolaj.leszczuk@agh.edu.pl), [Agnieszka Rudnicka](mailto:rudnicka@agh.edu.pl)*"
   ]
  },
  {
   "cell_type": "markdown",
   "id": "e26d559c",
   "metadata": {
    "slideshow": {
     "slide_type": "fragment"
    }
   },
   "source": [
    "* Nasz pierwszy \"pełnoprawny\" widok\n",
    "* Bazy danych i migracja bazy danych\n",
    "* Tworzenie super-użytkownika\n",
    "* Panel administracyjny\n",
    "* Kontekst w szablonach HTML\n",
    "* Jak włączyć obsługę Django w PyCharm?\n",
    "* Zadanie"
   ]
  },
  {
   "cell_type": "markdown",
   "id": "2d4b904c",
   "metadata": {
    "slideshow": {
     "slide_type": "slide"
    }
   },
   "source": [
    "## Nasz pierwszy \"pełnoprawny\" widok"
   ]
  },
  {
   "cell_type": "markdown",
   "id": "b6a7827f",
   "metadata": {
    "slideshow": {
     "slide_type": "fragment"
    }
   },
   "source": [
    "Ten poprzedni pierwszy widok był tylko nudnym tekstem, spróbujmy tym razem użyć odpowiedzi HTML."
   ]
  },
  {
   "cell_type": "markdown",
   "id": "e5c2f785",
   "metadata": {
    "slideshow": {
     "slide_type": "fragment"
    }
   },
   "source": [
    "Wróćmy do [`views.py`](http://localhost:8888/edit/Documents/Teaching/Courses/Django/movies/views.py):"
   ]
  },
  {
   "cell_type": "markdown",
   "id": "df566d64",
   "metadata": {
    "slideshow": {
     "slide_type": "fragment"
    }
   },
   "source": [
    "```python\n",
    "from django.shortcuts import render\n",
    "\n",
    "\n",
    "# Create your views here.\n",
    "def hello_world(request):\n",
    "    return render(request, template_name=\"hello.html\")  # NOWE\n",
    "```"
   ]
  },
  {
   "cell_type": "markdown",
   "id": "c0751ada",
   "metadata": {
    "slideshow": {
     "slide_type": "subslide"
    }
   },
   "source": [
    "Tym razem użyjmy funkcji `render`, która już była wcześniej zaimportowana. Przyjmuje ona 2 argumenty wymagane:"
   ]
  },
  {
   "cell_type": "markdown",
   "id": "60ec9349",
   "metadata": {
    "slideshow": {
     "slide_type": "fragment"
    }
   },
   "source": [
    "* _request_ - czyli przychodzące zapytanie o stronę"
   ]
  },
  {
   "cell_type": "markdown",
   "id": "a9aa30dd",
   "metadata": {
    "slideshow": {
     "slide_type": "fragment"
    }
   },
   "source": [
    "* _template_name_ - nazwę szablonu HTML, który ma być wyrenderowany jako odpowiedź"
   ]
  },
  {
   "cell_type": "markdown",
   "id": "0a5d474a",
   "metadata": {
    "slideshow": {
     "slide_type": "fragment"
    }
   },
   "source": [
    "Oprócz tego można też przekazać kontekst, ale do tego wrócimy za chwilę."
   ]
  },
  {
   "cell_type": "markdown",
   "id": "ad370558",
   "metadata": {
    "slideshow": {
     "slide_type": "fragment"
    }
   },
   "source": [
    "Oczywiście plik `hello.html` nie istnieje, więc musimy go wpierw utworzyć."
   ]
  },
  {
   "cell_type": "markdown",
   "id": "e9aaadc0",
   "metadata": {
    "slideshow": {
     "slide_type": "subslide"
    }
   },
   "source": [
    "W katalogu naszej aplikacji [`movies`](movies/) stwórzmy katalog [`templates/`](movies/), to tutaj będziemy umieszczać pliki HTML dotyczące aplikacji [`movies`](movies/)."
   ]
  },
  {
   "cell_type": "code",
   "execution_count": 6,
   "id": "5cd1f353",
   "metadata": {
    "slideshow": {
     "slide_type": "fragment"
    }
   },
   "outputs": [],
   "source": [
    "!mkdir movies/templates"
   ]
  },
  {
   "cell_type": "markdown",
   "id": "e1501142",
   "metadata": {
    "slideshow": {
     "slide_type": "fragment"
    }
   },
   "source": [
    "W tym katalogu utwórzmy plik [`hello.html`](http://localhost:8888/edit/Documents/Teaching/Courses/Django/movies/templates/hello.html)."
   ]
  },
  {
   "cell_type": "code",
   "execution_count": 7,
   "id": "5da33871",
   "metadata": {
    "slideshow": {
     "slide_type": "fragment"
    }
   },
   "outputs": [],
   "source": [
    "!touch movies/templates/hello.html"
   ]
  },
  {
   "cell_type": "markdown",
   "id": "9fe0100b",
   "metadata": {
    "slideshow": {
     "slide_type": "fragment"
    }
   },
   "source": [
    "I zamieśćmy w pliku [`hello.html`](http://localhost:8888/edit/Documents/Teaching/Courses/Django/movies/templates/hello.html) dowolny HTML, na przykład:<br>[`<h1>Witaj świecie</h1>`](http://localhost:8888/edit/Documents/Teaching/Courses/Django/movies/templates/hello.html)"
   ]
  },
  {
   "cell_type": "code",
   "execution_count": 8,
   "id": "a2823301",
   "metadata": {
    "slideshow": {
     "slide_type": "fragment"
    }
   },
   "outputs": [],
   "source": [
    "!echo \"<h1>Witaj świecie</h1>\" > movies/templates/hello.html"
   ]
  },
  {
   "cell_type": "code",
   "execution_count": 9,
   "id": "3f7be712",
   "metadata": {
    "scrolled": true,
    "slideshow": {
     "slide_type": "subslide"
    }
   },
   "outputs": [
    {
     "name": "stdout",
     "output_type": "stream",
     "text": [
      "\u001b[01;34mmovies/\u001b[0m\r\n",
      "├── \u001b[00m__init__.py\u001b[0m\r\n",
      "├── \u001b[01;34m__pycache__\u001b[0m\r\n",
      "│   ├── \u001b[00m__init__.cpython-312.pyc\u001b[0m\r\n",
      "│   ├── \u001b[00madmin.cpython-312.pyc\u001b[0m\r\n",
      "│   ├── \u001b[00mapps.cpython-312.pyc\u001b[0m\r\n",
      "│   ├── \u001b[00mmodels.cpython-312.pyc\u001b[0m\r\n",
      "│   └── \u001b[00mviews.cpython-312.pyc\u001b[0m\r\n",
      "├── \u001b[00madmin.py\u001b[0m\r\n",
      "├── \u001b[00mapps.py\u001b[0m\r\n",
      "├── \u001b[01;34mmigrations\u001b[0m\r\n",
      "│   ├── \u001b[00m__init__.py\u001b[0m\r\n",
      "│   └── \u001b[01;34m__pycache__\u001b[0m\r\n",
      "│       └── \u001b[00m__init__.cpython-312.pyc\u001b[0m\r\n",
      "├── \u001b[00mmodels.py\u001b[0m\r\n",
      "├── \u001b[01;34mtemplates\u001b[0m\r\n",
      "│   └── \u001b[00mhello.html\u001b[0m\r\n",
      "├── \u001b[00mtests.py\u001b[0m\r\n",
      "└── \u001b[00mviews.py\u001b[0m\r\n",
      "\r\n",
      "5 directories, 14 files\r\n"
     ]
    }
   ],
   "source": [
    "!tree movies/"
   ]
  },
  {
   "cell_type": "markdown",
   "id": "0cc4f955",
   "metadata": {
    "slideshow": {
     "slide_type": "subslide"
    }
   },
   "source": [
    "Następnie [uruchamiamy ponownie serwer](0_Run.ipynb) (tak, tym razem trzeba!)."
   ]
  },
  {
   "cell_type": "markdown",
   "id": "680df4ad",
   "metadata": {
    "slideshow": {
     "slide_type": "fragment"
    }
   },
   "source": [
    "I odświeżmy stronę w przeglądarce ([http://127.0.0.1:8000/hello/](http://127.0.0.1:8000/hello/) jeśli ktoś zamknął kartę)."
   ]
  },
  {
   "cell_type": "markdown",
   "id": "629da5bb",
   "metadata": {
    "slideshow": {
     "slide_type": "fragment"
    }
   },
   "source": [
    "Powinniśmy ujrzeć napis, ale tym razem jako nagłówek `<h1>`."
   ]
  },
  {
   "cell_type": "markdown",
   "id": "57c478ea",
   "metadata": {
    "slideshow": {
     "slide_type": "slide"
    }
   },
   "source": [
    "## Bazy danych i migracja bazy danych"
   ]
  },
  {
   "cell_type": "markdown",
   "id": "14a1e838",
   "metadata": {
    "slideshow": {
     "slide_type": "fragment"
    }
   },
   "source": [
    "Wróćmy na chwilę do pliku [`settings.py`](http://localhost:8888/edit/Documents/Teaching/Courses/Django/goodmovies/settings.py). To tutaj znajdują się kluczowe ustawienia projektu."
   ]
  },
  {
   "cell_type": "markdown",
   "id": "d727c8f7",
   "metadata": {
    "slideshow": {
     "slide_type": "fragment"
    }
   },
   "source": [
    "Wśród nich jest również informacja o bazie danych:"
   ]
  },
  {
   "cell_type": "markdown",
   "id": "7cc2ae16",
   "metadata": {
    "slideshow": {
     "slide_type": "fragment"
    }
   },
   "source": [
    "```python\n",
    "# Database\n",
    "# https://docs.djangoproject.com/en/3.0/ref/settings/#databases\n",
    "\n",
    "DATABASES = {\n",
    "    'default': {\n",
    "        'ENGINE': 'django.db.backends.sqlite3',\n",
    "        'NAME': os.path.join(BASE_DIR, 'db.sqlite3'),\n",
    "    }\n",
    "}\n",
    "```"
   ]
  },
  {
   "cell_type": "markdown",
   "id": "6171a9eb",
   "metadata": {
    "slideshow": {
     "slide_type": "subslide"
    }
   },
   "source": [
    "Jak może zauważyliście, po uruchomieniu projektu w katalogu głównym pojawił się plik `db.sqlite3`. To właśnie nasza baza danych. Django domyślnie przechowuje dane w pliku `'db.sqlite3'` w formacie `SQLite3`."
   ]
  },
  {
   "cell_type": "markdown",
   "id": "41d0610b",
   "metadata": {
    "slideshow": {
     "slide_type": "fragment"
    }
   },
   "source": [
    "Gdybyśmy w przyszłości chcieli używać innego silnika bazy danych, trzeba będzie zmienić powyższe ustawienie."
   ]
  },
  {
   "cell_type": "markdown",
   "id": "86e0f918",
   "metadata": {
    "slideshow": {
     "slide_type": "fragment"
    }
   },
   "source": [
    "Jednak na potrzeby tego projektu zostaniemy przy SQLite - jest proste w obsłudze i nie wymaga instalowania dodatkowego oprogramowania. Django wspiera jednak również inne serwery baz danych, jak na przykład: PostgreSQL i MySQL."
   ]
  },
  {
   "cell_type": "markdown",
   "id": "8e860d3e",
   "metadata": {
    "slideshow": {
     "slide_type": "subslide"
    }
   },
   "source": [
    "Podczas uruchomiania projektu można było zauważyć w terminalu poniższą wiadomość:"
   ]
  },
  {
   "cell_type": "markdown",
   "id": "5d01a9e9",
   "metadata": {
    "slideshow": {
     "slide_type": "fragment"
    }
   },
   "source": [
    "```sh\n",
    "System check identified no issues (0 silenced).\n",
    "\n",
    "You have 17 unapplied migration(s). Your project may not work properly until you apply the\n",
    "migrations for app(s): admin, auth, contenttypes, sessions.\n",
    "Run 'python manage.py migrate' to apply them.\n",
    "```"
   ]
  },
  {
   "cell_type": "markdown",
   "id": "c773bfda",
   "metadata": {
    "slideshow": {
     "slide_type": "fragment"
    }
   },
   "source": [
    "Django informuje nas, że mamy niezaaplikowane migracje. W skrócie oznacza to, że stan naszej bazy danych nie odzwierciedla tego, czego oczekuje aplikacja. Przykładowo aplikacja `django.contrib.auth` dostarcza model użytkownika, którego użyjemy za chwilę."
   ]
  },
  {
   "cell_type": "markdown",
   "id": "43324a54",
   "metadata": {
    "slideshow": {
     "slide_type": "subslide"
    }
   },
   "source": [
    "Model użytkownika ma takie pola jak _username_, _imię_, _nazwisko_, _hasło_. Django oczekuje, że tak zdefiniowany model będzie miał odpowiednią tabele w bazie danych z kolumnami odpowiedniego typu (na dane tekstowe - tekstowe, na liczby - kolumnę typu liczbowego, na pliki inny itp.)."
   ]
  },
  {
   "cell_type": "markdown",
   "id": "da4ffb6b",
   "metadata": {
    "slideshow": {
     "slide_type": "fragment"
    }
   },
   "source": [
    "Żeby lepiej zrozumieć konsekwencje spróbujmy wejść pod adres [http://127.0.0.1:8000/admin/](http://127.0.0.1:8000/admin/)\n",
    "\n",
    "Zobaczymy formularz logowania. Jednak nie mamy przecież ani loginu, ani hasła potrzebnych do przejścia dalej. Te informacje byłyby zapisane w bazie danych."
   ]
  },
  {
   "cell_type": "markdown",
   "id": "12394f7d",
   "metadata": {},
   "source": [
    "![](https://docs.djangoproject.com/en/1.8/_images/admin01.png)"
   ]
  },
  {
   "cell_type": "markdown",
   "id": "4e4597de",
   "metadata": {
    "slideshow": {
     "slide_type": "subslide"
    }
   },
   "source": [
    "Zmigrujmy zatem naszą bazę danych (tym samym stworzone zostaną tabele na użytkowników i nie tylko)."
   ]
  },
  {
   "cell_type": "markdown",
   "id": "acb5eafa",
   "metadata": {
    "slideshow": {
     "slide_type": "subslide"
    }
   },
   "source": [
    "Wszelkie akcje związane z zarządzaniem aplikacją można wykonać używając skryptu `manage.py` (wcześniejsze tworzenie appki też):"
   ]
  },
  {
   "cell_type": "code",
   "execution_count": 10,
   "id": "e5556a6f",
   "metadata": {
    "slideshow": {
     "slide_type": "fragment"
    }
   },
   "outputs": [
    {
     "name": "stdout",
     "output_type": "stream",
     "text": [
      "\u001b[36;1mOperations to perform:\u001b[0m\r\n",
      "\u001b[1m  Apply all migrations: \u001b[0madmin, auth, contenttypes, sessions\r\n",
      "\u001b[36;1mRunning migrations:\u001b[0m\r\n",
      "  No migrations to apply.\r\n"
     ]
    }
   ],
   "source": [
    "!python3 manage.py migrate"
   ]
  },
  {
   "cell_type": "markdown",
   "id": "b4dcd163",
   "metadata": {
    "slideshow": {
     "slide_type": "subslide"
    }
   },
   "source": [
    "Podczas [kolejnego uruchomiania projektu](0_Run.ipynb) już nie zauważymy w terminalu wiadomości, w której Django informuje nas, że mamy niezaaplikowane migracje."
   ]
  },
  {
   "cell_type": "markdown",
   "id": "8bd1dbf9",
   "metadata": {
    "slideshow": {
     "slide_type": "slide"
    }
   },
   "source": [
    "## Tworzenie super-użytkownika"
   ]
  },
  {
   "cell_type": "markdown",
   "id": "40296cdb",
   "metadata": {
    "slideshow": {
     "slide_type": "fragment"
    }
   },
   "source": [
    "Aby stworzyć super-użytkownika, który będzie miał wszystkie uprawnienia w aplikacji możemy użyć polecenia pomocniczego <a href=\"http://localhost:8888/nbclassic/tree\" target=\"_blank\">w terminalu</a>:"
   ]
  },
  {
   "cell_type": "markdown",
   "id": "c42c58c4",
   "metadata": {
    "slideshow": {
     "slide_type": "fragment"
    }
   },
   "source": [
    "```sh\n",
    "cd Documents/Teaching/Courses/Django/\n",
    "python3 manage.py createsuperuser\n",
    "```"
   ]
  },
  {
   "cell_type": "markdown",
   "id": "b6a5d46a",
   "metadata": {
    "slideshow": {
     "slide_type": "fragment"
    }
   },
   "source": [
    "Teraz będzie można się zalogować do panelu administracyjnego."
   ]
  },
  {
   "cell_type": "markdown",
   "id": "72713956",
   "metadata": {
    "slideshow": {
     "slide_type": "slide"
    }
   },
   "source": [
    "## Panel administracyjny"
   ]
  },
  {
   "cell_type": "markdown",
   "id": "f9c3cd99",
   "metadata": {
    "slideshow": {
     "slide_type": "fragment"
    }
   },
   "source": [
    "Przejdźmy więc na stronę: [http://127.0.0.1:8000/admin/](http://127.0.0.1:8000/admin/)"
   ]
  },
  {
   "cell_type": "markdown",
   "id": "36c11207",
   "metadata": {
    "slideshow": {
     "slide_type": "fragment"
    }
   },
   "source": [
    "Można tu miedzy innymi zarządzać użytkownikami (klikając w `Users` przejdziemy do listy użytkowników)."
   ]
  },
  {
   "cell_type": "markdown",
   "id": "7a65e651",
   "metadata": {
    "slideshow": {
     "slide_type": "fragment"
    }
   },
   "source": [
    "Wszystkie znajdujące się tutaj widoki są automatycznie generowane. Na następnych zajęciach zajmiemy się dodawaniem modeli i podepniemy je pod ten panel."
   ]
  },
  {
   "cell_type": "markdown",
   "id": "de77ef9d",
   "metadata": {
    "slideshow": {
     "slide_type": "slide"
    }
   },
   "source": [
    "## Kontekst w szablonach HTML"
   ]
  },
  {
   "cell_type": "markdown",
   "id": "d298e379",
   "metadata": {
    "slideshow": {
     "slide_type": "fragment"
    }
   },
   "source": [
    "Wróćmy na chwilę do naszego przykładu z \"Witaj świecie\" w HTML. Gdybyśmy chcieli wyświetlić informacje o aktualnie zalogowanym użytkowniku możemy umieścić w [`hello.html`](http://localhost:8888/edit/Documents/Teaching/Courses/Django/movies/templates/hello.html) taki oto kod:"
   ]
  },
  {
   "cell_type": "markdown",
   "id": "ce596c00",
   "metadata": {
    "slideshow": {
     "slide_type": "fragment"
    }
   },
   "source": [
    "```django\n",
    "<p>\n",
    "    Aktualny użytkownik to: {{ request.user }}\n",
    "</p>\n",
    "```"
   ]
  },
  {
   "cell_type": "markdown",
   "id": "375b30b1",
   "metadata": {
    "slideshow": {
     "slide_type": "fragment"
    }
   },
   "source": [
    "```sh\n",
    "nano movies/templates/hello.html\n",
    "```"
   ]
  },
  {
   "cell_type": "markdown",
   "id": "556e13e5",
   "metadata": {
    "slideshow": {
     "slide_type": "subslide"
    }
   },
   "source": [
    "W przeglądarce powinniśmy zobaczyć:"
   ]
  },
  {
   "cell_type": "markdown",
   "id": "87a4339b",
   "metadata": {
    "slideshow": {
     "slide_type": "fragment"
    }
   },
   "source": [
    "```\n",
    "Aktualny użytkownik to: AnonymousUser\n",
    "```"
   ]
  },
  {
   "cell_type": "markdown",
   "id": "5de2b98a",
   "metadata": {
    "slideshow": {
     "slide_type": "fragment"
    }
   },
   "source": [
    "lub jeśli się zalogowaliśmy przez panel admina - login naszego użytkownika zamiast `AnonymousUser`."
   ]
  },
  {
   "cell_type": "markdown",
   "id": "fbbd3013",
   "metadata": {
    "slideshow": {
     "slide_type": "subslide"
    }
   },
   "source": [
    "Generalnie za pomocą `{{ zmienna }}` podwójnych nawiasów klamrowych możemy wypisywać dane dostępne w kontekście HTML. Co to znaczy? Myślmy o kontekście jak o słowniku, czyli strukturze klucz-wartość. Pod każdym kluczem kryją się jakieś dane. Wiele z nich jest zapewnionych domyślnie przez framework, jak np. wyżej wykorzystane `request.user`."
   ]
  },
  {
   "cell_type": "markdown",
   "id": "8aac005e",
   "metadata": {
    "slideshow": {
     "slide_type": "fragment"
    }
   },
   "source": [
    "Jednak to nie wszystko. Załóżmy, że chcemy dodać do kontekstu własne dane, np. aktualną godzinę."
   ]
  },
  {
   "cell_type": "markdown",
   "id": "43fdaa07",
   "metadata": {
    "slideshow": {
     "slide_type": "subslide"
    }
   },
   "source": [
    "Wróćmy zatem do naszej funkcji widoku w [`views.py`](http://localhost:8888/edit/Documents/Teaching/Courses/Django/movies/views.py):"
   ]
  },
  {
   "cell_type": "markdown",
   "id": "e2ecc155",
   "metadata": {
    "slideshow": {
     "slide_type": "fragment"
    }
   },
   "source": [
    "```python\n",
    "from datetime import datetime  # NOWE\n",
    "\n",
    "from django.shortcuts import render\n",
    "\n",
    "\n",
    "# Create your views here.\n",
    "def hello_world(request):\n",
    "    our_context = {\"time\": datetime.now()}  # NOWE\n",
    "    return render(\n",
    "        request, \n",
    "        template_name=\"hello.html\", \n",
    "        context=our_context\n",
    "    )  # NOWE\n",
    "```"
   ]
  },
  {
   "cell_type": "markdown",
   "id": "2d145be9",
   "metadata": {
    "slideshow": {
     "slide_type": "fragment"
    }
   },
   "source": [
    "W powyższym kodzie stworzyliśmy słownik `our_context`, w którym umieściliśmy aktualną datę i godzinę. Następnie przekazaliśmy ten słownik jako `context` do funkcji `render()`."
   ]
  },
  {
   "cell_type": "markdown",
   "id": "1ad1daf7",
   "metadata": {
    "slideshow": {
     "slide_type": "subslide"
    }
   },
   "source": [
    "Efekt?"
   ]
  },
  {
   "cell_type": "markdown",
   "id": "47fcec86",
   "metadata": {
    "slideshow": {
     "slide_type": "subslide"
    }
   },
   "source": [
    "W [`hello.html`](http://localhost:8888/edit/Documents/Teaching/Courses/Django/movies/templates/hello.html) możemy teraz wypisać zmienną `{{ time }}` używając podwójnych nawiasów klamrowych."
   ]
  },
  {
   "cell_type": "markdown",
   "id": "afeea777",
   "metadata": {
    "slideshow": {
     "slide_type": "fragment"
    }
   },
   "source": [
    "```django\n",
    "<p>\n",
    "    Aktualny czas: {{ time }}\n",
    "</p>\n",
    "```"
   ]
  },
  {
   "cell_type": "markdown",
   "id": "402d0727",
   "metadata": {
    "slideshow": {
     "slide_type": "fragment"
    }
   },
   "source": [
    "```sh\n",
    "nano movies/templates/hello.html\n",
    "```"
   ]
  },
  {
   "cell_type": "markdown",
   "id": "a81f74c1",
   "metadata": {
    "slideshow": {
     "slide_type": "subslide"
    }
   },
   "source": [
    "Efekt?"
   ]
  },
  {
   "cell_type": "markdown",
   "id": "a9146c0c",
   "metadata": {
    "slideshow": {
     "slide_type": "subslide"
    }
   },
   "source": [
    "To właśnie przez kontekst będziemy przekazywać informacje z tak zwanego \"backendu\" do \"frontendu\". Będą to np. zapisane w naszej bazie danych filmy i inne informacje."
   ]
  },
  {
   "cell_type": "markdown",
   "id": "eceab7b3",
   "metadata": {
    "slideshow": {
     "slide_type": "slide"
    }
   },
   "source": [
    "## Jak włączyć obsługę Django w PyCharm?"
   ]
  },
  {
   "cell_type": "markdown",
   "id": "4a574da0",
   "metadata": {
    "slideshow": {
     "slide_type": "subslide"
    }
   },
   "source": [
    "![](pycharm.png)"
   ]
  },
  {
   "cell_type": "markdown",
   "id": "c61a1f66",
   "metadata": {
    "slideshow": {
     "slide_type": "slide"
    }
   },
   "source": [
    "## Zadanie"
   ]
  },
  {
   "cell_type": "markdown",
   "id": "8541deaa",
   "metadata": {
    "slideshow": {
     "slide_type": "fragment"
    }
   },
   "source": [
    "Sprawdź, czy użytkownik jest uwierzytelniony."
   ]
  },
  {
   "cell_type": "markdown",
   "id": "addac976",
   "metadata": {
    "slideshow": {
     "slide_type": "fragment"
    }
   },
   "source": [
    "Można wykorzystać informacje o użytkowniku z\n",
    "\n",
    "`{{ user.is_authenticated }}`."
   ]
  },
  {
   "cell_type": "markdown",
   "id": "34aa8bfd",
   "metadata": {
    "slideshow": {
     "slide_type": "skip"
    }
   },
   "source": []
  }
 ],
 "metadata": {
  "celltoolbar": "Slideshow",
  "kernelspec": {
   "display_name": "Python 3 (ipykernel)",
   "language": "python",
   "name": "python3"
  },
  "language_info": {
   "codemirror_mode": {
    "name": "ipython",
    "version": 3
   },
   "file_extension": ".py",
   "mimetype": "text/x-python",
   "name": "python",
   "nbconvert_exporter": "python",
   "pygments_lexer": "ipython3",
   "version": "3.11.5"
  }
 },
 "nbformat": 4,
 "nbformat_minor": 5
}
