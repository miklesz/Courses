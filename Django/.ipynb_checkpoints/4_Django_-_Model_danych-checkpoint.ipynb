{
 "cells": [
  {
   "cell_type": "markdown",
   "id": "631e9c2e",
   "metadata": {
    "slideshow": {
     "slide_type": "slide"
    }
   },
   "source": [
    "# Django - Model danych\n",
    "*[Mikołaj Leszczuk](mailto:mikolaj.leszczuk@agh.edu.pl), [Agnieszka Rudnicka](mailto:rudnicka@agh.edu.pl)*"
   ]
  },
  {
   "cell_type": "markdown",
   "id": "e26d559c",
   "metadata": {
    "slideshow": {
     "slide_type": "subslide"
    }
   },
   "source": [
    "* Po co nam baza danych?\n",
    "* \"Klasyczne\" zarządzanie bazami danych\n",
    "* Tworzenie tabeli w Django\n",
    "  * Podgląd migracji\n",
    "  * Migracja\n",
    "* Aplikowanie migracji\n",
    "* Przeglądanie bazy danych przy pomocy DB Browser\n",
    "* Podsumowanie migracji\n",
    "* Panel administracyjny\n",
    "* Dalsze kroki\n",
    "* Dodatkowe materiały"
   ]
  },
  {
   "cell_type": "markdown",
   "id": "d2c428b9",
   "metadata": {
    "slideshow": {
     "slide_type": "slide"
    }
   },
   "source": [
    "## Po co nam baza danych?"
   ]
  },
  {
   "cell_type": "markdown",
   "id": "fc575a8f",
   "metadata": {
    "slideshow": {
     "slide_type": "fragment"
    }
   },
   "source": [
    "Najprościej mówiąc - to kontener, w którym zapisane będą informacje o użytkownikach naszej strony, filmy, aktualności i wszystkie inne rzeczy, które dodamy. Baza danych w naszym przypadku pozwala na przechowywanie danych, które będą dodawane przez użytkownika aplikacji, a nie przez programistę. My, jako programiści, jedynie ustalimy reguły, wyznaczając modele. Na tych zajęciach skupimy się na bazach relacyjnych, takich jak SQLite3. Warto jednak wiedzieć, że typów baz danych jest wiele, a jednym z takich, który znamy z codzienności, jest arkusz kalkulacyjny."
   ]
  },
  {
   "cell_type": "markdown",
   "id": "1d52239b",
   "metadata": {
    "slideshow": {
     "slide_type": "fragment"
    }
   },
   "source": [
    "W tym konspekcie zaczniemy od modelu przeznaczonego do przechowywania filmów."
   ]
  },
  {
   "cell_type": "markdown",
   "id": "031a1fb9",
   "metadata": {
    "slideshow": {
     "slide_type": "subslide"
    }
   },
   "source": [
    "Zobaczmy jak to wygląda w praktyce..."
   ]
  },
  {
   "cell_type": "markdown",
   "id": "1f513186",
   "metadata": {
    "slideshow": {
     "slide_type": "slide"
    }
   },
   "source": [
    "## \"Klasyczne\" zarządzanie bazami danych"
   ]
  },
  {
   "cell_type": "markdown",
   "id": "a6b89615",
   "metadata": {
    "slideshow": {
     "slide_type": "fragment"
    }
   },
   "source": [
    "Gdybyśmy nie mieli narzędzi takich jak Django i innych, praca z bazami danych (w większości) wymagałaby nauczenia się dodatkowego języka: SQL."
   ]
  },
  {
   "cell_type": "markdown",
   "id": "ea7076a5",
   "metadata": {
    "slideshow": {
     "slide_type": "fragment"
    }
   },
   "source": [
    "Przykładowe tworzenie tabeli z wykorzystaniem SQL:"
   ]
  },
  {
   "cell_type": "markdown",
   "id": "4613e4e2",
   "metadata": {
    "slideshow": {
     "slide_type": "fragment"
    }
   },
   "source": [
    "```sql\n",
    "CREATE TABLE \"movies_movie\" (\n",
    "    \"id\" integer NOT NULL PRIMARY KEY AUTOINCREMENT,\n",
    "    \"title\" varchar(100) NOT NULL,\n",
    "    \"short_description\" text NOT NULL,\n",
    "    \"published_at\" datetime NOT NULL);\n",
    "COMMIT;\n",
    "```"
   ]
  },
  {
   "cell_type": "markdown",
   "id": "f263ae2c",
   "metadata": {
    "slideshow": {
     "slide_type": "subslide"
    }
   },
   "source": [
    "Byłby to kod, który trzeba przetestować i gdzieś zapisać. Następnie należałoby pamiętać, żeby wykonać go na odpowiedniej bazie danych. Gdyby w trakcie projektu wygląd tej tabeli miał się zmienić (a często tak się dzieje!), wymagane byłyby kolejne skrypty napisane w SQL. A to tylko początek problemów..."
   ]
  },
  {
   "cell_type": "markdown",
   "id": "2bc16d24",
   "metadata": {
    "slideshow": {
     "slide_type": "slide"
    }
   },
   "source": [
    "## Tworzenie tabeli w Django"
   ]
  },
  {
   "cell_type": "markdown",
   "id": "7065eafd",
   "metadata": {
    "slideshow": {
     "slide_type": "fragment"
    }
   },
   "source": [
    "Tworzenie tabeli z wykorzystaniem Django (w pliku [`models.py`](http://localhost:8888/edit/Documents/Teaching/Courses/Django/movies/models.py)):"
   ]
  },
  {
   "cell_type": "markdown",
   "id": "447c5aee",
   "metadata": {
    "slideshow": {
     "slide_type": "fragment"
    }
   },
   "source": [
    "```python\n",
    "class Movie(models.Model):\n",
    "    title = models.CharField(max_length=100)\n",
    "    short_description = models.TextField()\n",
    "    published_at = models.DateTimeField()\n",
    "```"
   ]
  },
  {
   "cell_type": "markdown",
   "id": "e33e5d59",
   "metadata": {
    "slideshow": {
     "slide_type": "subslide"
    }
   },
   "source": [
    "### Podgląd migracji"
   ]
  },
  {
   "cell_type": "markdown",
   "id": "61a3b1b5",
   "metadata": {
    "slideshow": {
     "slide_type": "fragment"
    }
   },
   "source": [
    "Jeśli chcielibyśmy jedynie podejrzeć co zostanie wygenerowane możemy podczas migracji wykorzystać flagi:"
   ]
  },
  {
   "cell_type": "markdown",
   "id": "32f6c58f",
   "metadata": {
    "slideshow": {
     "slide_type": "fragment"
    }
   },
   "source": [
    "```sh\n",
    "--dry-run -v 3\n",
    "```"
   ]
  },
  {
   "cell_type": "markdown",
   "id": "222697b4",
   "metadata": {
    "slideshow": {
     "slide_type": "fragment"
    }
   },
   "source": [
    "Pierwsza część pozwala na \"wykonanie na sucho\", czyli cała maszyneria zostanie uruchomiona, ale migracja nie zostanie zapisana na dysku/stworzona. `-v 3` natomiast pozwala na wypisanie wszystkich szczegółów procesu generowania migracji a także samej migracji."
   ]
  },
  {
   "cell_type": "markdown",
   "id": "9e7317dc",
   "metadata": {
    "slideshow": {
     "slide_type": "subslide"
    }
   },
   "source": [
    " Wynik działania tego polecenia możemy zobaczyć na kolejny slajdzie."
   ]
  },
  {
   "cell_type": "code",
   "execution_count": 17,
   "id": "91034909",
   "metadata": {
    "slideshow": {
     "slide_type": "subslide"
    }
   },
   "outputs": [
    {
     "name": "stdout",
     "output_type": "stream",
     "text": [
      "No changes detected\r\n"
     ]
    }
   ],
   "source": [
    "# Poniższe polecenie wypisze na konsole poniższe informacje\n",
    "\n",
    "!python3 manage.py makemigrations --dry-run -v 3"
   ]
  },
  {
   "cell_type": "markdown",
   "id": "65f46818",
   "metadata": {
    "slideshow": {
     "slide_type": "subslide"
    }
   },
   "source": [
    "Jak widzimy, najpierw narzędzie poinformowało nas, że tworzona zostaje migracja dla aplikacji \"movies\" a następnie w terminalu wypisana została cała migracja.\n",
    "\n",
    "To jest ten krótki kawałek kodu w Pythonie począwszy od\n",
    "```python\n",
    "# Generated by Django\n",
    "```\n",
    "do samego końca."
   ]
  },
  {
   "cell_type": "markdown",
   "id": "984df065",
   "metadata": {
    "slideshow": {
     "slide_type": "slide"
    }
   },
   "source": [
    "### Migracja"
   ]
  },
  {
   "cell_type": "markdown",
   "id": "09e27971",
   "metadata": {
    "slideshow": {
     "slide_type": "fragment"
    }
   },
   "source": [
    "Poniższym poleceniem możemy wygenerować migrację. Migracja w tym przypadku to skrypt w Pythonie, który pozwala na utworzenie potrzebnych tabel w bazie danych, która jest podpięta do aplikacji. W naszym przypadku tabele zostaną stworzone w bazie `db.sqlite3`, która znajduje się domyślnie w głównym katalogu całego projektu/repozytorium kodu."
   ]
  },
  {
   "cell_type": "code",
   "execution_count": 18,
   "id": "cee3c2a2",
   "metadata": {
    "slideshow": {
     "slide_type": "fragment"
    }
   },
   "outputs": [
    {
     "name": "stdout",
     "output_type": "stream",
     "text": [
      "No changes detected\r\n"
     ]
    }
   ],
   "source": [
    "!python3 manage.py makemigrations"
   ]
  },
  {
   "cell_type": "markdown",
   "id": "6dd727d2",
   "metadata": {
    "slideshow": {
     "slide_type": "subslide"
    }
   },
   "source": [
    "Po wykonaniu powyższego polecenia w katalogu `migrations` pojawi się nowy plik nazwany `0001_initial.py`. Migracje są automatycznie numerowane, natomiast ich nazwę można ustawić:\n",
    "\n",
    "Polecenie:\n",
    "```sh\n",
    "python3 manage.py makemigrations -n nazwa\n",
    "```\n",
    "wygeneruje `numer_nazwa.py`."
   ]
  },
  {
   "cell_type": "markdown",
   "id": "b91f4183",
   "metadata": {
    "slideshow": {
     "slide_type": "subslide"
    }
   },
   "source": [
    "Na pierwszy rzut oka może się wydawać, że kodu/pracy wcale nie jest mniej. Jednak kluczowe zyski z korzystania z frameworku to:"
   ]
  },
  {
   "cell_type": "markdown",
   "id": "cfa1940d",
   "metadata": {
    "slideshow": {
     "slide_type": "fragment"
    }
   },
   "source": [
    "* nie trzeba się uczyć dodatkowego języka (SQL),"
   ]
  },
  {
   "cell_type": "markdown",
   "id": "102a2e90",
   "metadata": {
    "slideshow": {
     "slide_type": "fragment"
    }
   },
   "source": [
    "* framework jest dobrze przetestowany przez twórców i użytkowników, więc możemy założyć, że działa,"
   ]
  },
  {
   "cell_type": "markdown",
   "id": "de70ca73",
   "metadata": {
    "slideshow": {
     "slide_type": "fragment"
    }
   },
   "source": [
    "* przy każdej zmianie w modelu wystarczy uruchomić polecenie w konsoli, a SQL zostanie wygenerowany automatycznie - nie musimy się zastanawiać co się zmieniło."
   ]
  },
  {
   "cell_type": "markdown",
   "id": "514ffee3",
   "metadata": {
    "slideshow": {
     "slide_type": "fragment"
    }
   },
   "source": [
    "Innymi słowy - oszczędzamy czas dzięki gotowym narzędziom. 🙂"
   ]
  },
  {
   "cell_type": "markdown",
   "id": "5a9412c8",
   "metadata": {
    "slideshow": {
     "slide_type": "slide"
    }
   },
   "source": [
    "## Aplikowanie migracji"
   ]
  },
  {
   "cell_type": "markdown",
   "id": "47e0b57c",
   "metadata": {
    "slideshow": {
     "slide_type": "fragment"
    }
   },
   "source": [
    "Teraz kiedy mamy już napisany podstawowy model oraz wygenerowaną migrację trzeba ją zaaplikować na bazę danych."
   ]
  },
  {
   "cell_type": "markdown",
   "id": "8c2621a4",
   "metadata": {
    "slideshow": {
     "slide_type": "fragment"
    }
   },
   "source": [
    "Utworzy to odpowiednią tabele na nasze filmy w bazie danych."
   ]
  },
  {
   "cell_type": "code",
   "execution_count": 19,
   "id": "a2ef37f6",
   "metadata": {
    "slideshow": {
     "slide_type": "subslide"
    }
   },
   "outputs": [
    {
     "name": "stdout",
     "output_type": "stream",
     "text": [
      "\u001b[36;1mOperations to perform:\u001b[0m\r\n",
      "\u001b[1m  Apply all migrations: \u001b[0madmin, auth, contenttypes, movies, sessions\r\n",
      "\u001b[36;1mRunning migrations:\u001b[0m\r\n",
      "  No migrations to apply.\r\n"
     ]
    }
   ],
   "source": [
    "!python3 manage.py migrate"
   ]
  },
  {
   "cell_type": "markdown",
   "id": "76abd772",
   "metadata": {
    "slideshow": {
     "slide_type": "fragment"
    }
   },
   "source": [
    "W outpucie, w linijce `Applying movies... OK` widnieje nasza migracja! Ona właśnie została zaaplikowana."
   ]
  },
  {
   "cell_type": "markdown",
   "id": "8448bbb7",
   "metadata": {
    "slideshow": {
     "slide_type": "slide"
    }
   },
   "source": [
    "## Przeglądanie bazy danych przy pomocy DB Browser"
   ]
  },
  {
   "cell_type": "markdown",
   "id": "ad37b17c",
   "metadata": {
    "slideshow": {
     "slide_type": "fragment"
    }
   },
   "source": [
    "Do przeglądania bazy danych SQLite można wykorzystać [https://sqlitebrowser.org/](https://sqlitebrowser.org/).\n",
    "\n",
    "Jest to mały darmowy program, który teraz możemy uruchomić i otworzyć nim plik `db.sqlite3`, a w nim, podglądać (przykładowo) niedawno stworzoną tabelę `movies_movie`."
   ]
  },
  {
   "cell_type": "markdown",
   "id": "9bf75ac6",
   "metadata": {
    "slideshow": {
     "slide_type": "slide"
    }
   },
   "source": [
    "## Podsumowanie migracji"
   ]
  },
  {
   "cell_type": "markdown",
   "id": "f10a59f7",
   "metadata": {
    "slideshow": {
     "slide_type": "fragment"
    }
   },
   "source": [
    "Reasumując, aby przechowywać informacje w bazie danych musimy:"
   ]
  },
  {
   "cell_type": "markdown",
   "id": "57d99d30",
   "metadata": {
    "slideshow": {
     "slide_type": "fragment"
    }
   },
   "source": [
    "1. Opisać w Django (plik `models.py`) jak ma się nazywać model, jakie ma mieć pola oraz jakie właściwości mają te pola posiadać. (np. pole \"data_utworzenia\", typ: data, wymagane)\n",
    "2. Wygenerować migrację (polecenie: `python3 manage.py makemigrations`)\n",
    "3. Zaaplikować migrację na bazie danych, co spowoduje utworzenie odpowiednich tabel lub wprowadzenie zmian w istniejących (polecenie: `python3 manage.py migrate`)"
   ]
  },
  {
   "cell_type": "markdown",
   "id": "de9c5c04",
   "metadata": {
    "slideshow": {
     "slide_type": "slide"
    }
   },
   "source": [
    "## Panel administracyjny"
   ]
  },
  {
   "cell_type": "markdown",
   "id": "874fba2a",
   "metadata": {
    "slideshow": {
     "slide_type": "fragment"
    }
   },
   "source": [
    "Najszybszym (i dla niektórych najwygodniejszym) sposobem, żeby dodać nowe filmy będzie wykorzystanie panelu administracyjnego Django. Jest to narzędzie dostarczone z frameworkiem, domyślnie włączone."
   ]
  },
  {
   "cell_type": "markdown",
   "id": "35fc9c1a",
   "metadata": {
    "slideshow": {
     "slide_type": "fragment"
    }
   },
   "source": [
    "Aby z niego skorzystać musimy zarejestrować nasz model `Movie` jako obsługiwany przez panel administracyjny. W tym celu otwórzmy plik [`admin.py`](http://localhost:8888/edit/Documents/Teaching/Courses/Django/movies/admin.py) znajdujący się w katalog aplikacji ([`movies/admin.py`](http://localhost:8888/edit/Documents/Teaching/Courses/Django/movies/admin.py)). Znajdziemy tutaj jedynie jeden import i komentarz."
   ]
  },
  {
   "cell_type": "markdown",
   "id": "997d90ab",
   "metadata": {
    "slideshow": {
     "slide_type": "subslide"
    }
   },
   "source": [
    "Dopiszmy więc wymagany kod:"
   ]
  },
  {
   "cell_type": "markdown",
   "id": "18952fe3",
   "metadata": {
    "slideshow": {
     "slide_type": "fragment"
    }
   },
   "source": [
    "```python\n",
    "from django.contrib import admin\n",
    "from movies.models import Movie  # NOWE\n",
    "\n",
    "\n",
    "# Register your models here.\n",
    "admin.site.register(Movie)  # NOWE\n",
    "```"
   ]
  },
  {
   "cell_type": "markdown",
   "id": "c566eade",
   "metadata": {
    "slideshow": {
     "slide_type": "fragment"
    }
   },
   "source": [
    "W ten sposób aplikacja panelu administracyjnego będzie wiedziała, że istnieje model `Movie` i ma być on zarządzany przez panel."
   ]
  },
  {
   "cell_type": "markdown",
   "id": "dfd5cc91",
   "metadata": {
    "slideshow": {
     "slide_type": "subslide"
    }
   },
   "source": [
    "[Uruchommy więc aplikację](0_Run.ipynb) i przejdźmy pod [http://127.0.0.1:8000/admin/](http://127.0.0.1:8000/admin/)\n",
    "\n",
    "_Przypomnienie_:\n",
    "\n",
    "```sh\n",
    "# polecenie do uruchomienia\n",
    "python3 manage.py runserver\n",
    "\n",
    "# polecenie do utworzenia super-użytkownika/admina\n",
    "python3 manage.py createsuperuser\n",
    "```"
   ]
  },
  {
   "cell_type": "markdown",
   "id": "e2a01130",
   "metadata": {
    "slideshow": {
     "slide_type": "slide"
    }
   },
   "source": [
    "## Dalsze kroki"
   ]
  },
  {
   "cell_type": "markdown",
   "id": "c698b443",
   "metadata": {
    "slideshow": {
     "slide_type": "fragment"
    }
   },
   "source": [
    "1. Dodać kilka filmów\n",
    "2. Otworzyć bazę danych za pomocą programu DB Browser i przeglądnąć dane w tabeli `movies_movie`\n",
    "3. Konfiguracja etykiety dla obiektów na liście poprzez użycie metody `__str__` w klasie modelu, np.:\n",
    "```python\n",
    "    def __str__(self):\n",
    "        return self.title\n",
    "```\n",
    "4. Dodanie kolejnych pól do modelu, z nowymi typami danych, np.:\n",
    "```python\n",
    "    rating = models.IntegerField()\n",
    "```"
   ]
  },
  {
   "cell_type": "markdown",
   "id": "f12b82a8",
   "metadata": {
    "slideshow": {
     "slide_type": "slide"
    }
   },
   "source": [
    "## Dodatkowe materiały"
   ]
  },
  {
   "cell_type": "markdown",
   "id": "f4a56f11",
   "metadata": {
    "slideshow": {
     "slide_type": "fragment"
    }
   },
   "source": [
    "* Spis dostępnych pól, które można dodać do modelu: [https://docs.djangoproject.com/en/4.2/ref/models/fields/#field-types](https://docs.djangoproject.com/en/4.2/ref/models/fields/#field-types) \n",
    "* Django Cheat Sheet, czyli spis często używanych poleceń i kawałków kodu: [https://github.com/lucrae/django-cheat-sheet](https://github.com/lucrae/django-cheat-sheet)\n",
    "* Wytłumaczenie czym jest model dla osób mniej zaznajomionych z programowaniem: [https://tutorial.djangogirls.org/pl/django_models/](https://tutorial.djangogirls.org/pl/django_models/)"
   ]
  },
  {
   "cell_type": "markdown",
   "id": "9e865925",
   "metadata": {
    "slideshow": {
     "slide_type": "skip"
    }
   },
   "source": []
  }
 ],
 "metadata": {
  "celltoolbar": "Slideshow",
  "kernelspec": {
   "display_name": "Python 3 (ipykernel)",
   "language": "python",
   "name": "python3"
  },
  "language_info": {
   "codemirror_mode": {
    "name": "ipython",
    "version": 3
   },
   "file_extension": ".py",
   "mimetype": "text/x-python",
   "name": "python",
   "nbconvert_exporter": "python",
   "pygments_lexer": "ipython3",
   "version": "3.11.5"
  }
 },
 "nbformat": 4,
 "nbformat_minor": 5
}
