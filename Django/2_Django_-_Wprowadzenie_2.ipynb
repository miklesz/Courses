{
 "cells": [
  {
   "cell_type": "markdown",
   "id": "631e9c2e",
   "metadata": {
    "slideshow": {
     "slide_type": "slide"
    }
   },
   "source": [
    "# Django - Wprowadzenie 2\n",
    "*[Mikołaj Leszczuk](mailto:mikolaj.leszczuk@agh.edu.pl), [Agnieszka Rudnicka](mailto:rudnicka@agh.edu.pl)*"
   ]
  },
  {
   "cell_type": "markdown",
   "id": "e26d559c",
   "metadata": {
    "slideshow": {
     "slide_type": "fragment"
    }
   },
   "source": [
    "* Nasz pierwszy projekt w Django\n",
    "* URL Resolver\n",
    "* Nasza pierwsza aplikacja\n",
    "* Nasz pierwszy widok i automatyczne przeładowanie aplikacji"
   ]
  },
  {
   "cell_type": "markdown",
   "id": "ca6b23bb",
   "metadata": {
    "slideshow": {
     "slide_type": "slide"
    }
   },
   "source": [
    "## Nasz pierwszy projekt w Django"
   ]
  },
  {
   "cell_type": "markdown",
   "id": "b8d88169",
   "metadata": {
    "slideshow": {
     "slide_type": "fragment"
    }
   },
   "source": [
    "Aby rozpocząć pracę z projektem utwórzmy nowy katalog (wcześniej na wszelki wypadek \"sprzątając\")."
   ]
  },
  {
   "cell_type": "markdown",
   "id": "30c2cb7b",
   "metadata": {
    "slideshow": {
     "slide_type": "fragment"
    }
   },
   "source": [
    "Można to zrobić poleceniem:"
   ]
  },
  {
   "cell_type": "code",
   "execution_count": 1,
   "id": "b7a9c845",
   "metadata": {
    "slideshow": {
     "slide_type": "-"
    }
   },
   "outputs": [
    {
     "name": "stdout",
     "output_type": "stream",
     "text": [
      "rm: manage.py: No such file or directory\n",
      "rm: movies: No such file or directory\n",
      "rm: db.sqlite3: No such file or directory\n"
     ]
    }
   ],
   "source": [
    "!rm -r manage.py \n",
    "!rm -r goodmovies \n",
    "!rm -r movies\n",
    "!rm -r db.sqlite3\n",
    "!mkdir goodmovies"
   ]
  },
  {
   "cell_type": "markdown",
   "id": "57913784",
   "metadata": {
    "slideshow": {
     "slide_type": "subslide"
    }
   },
   "source": [
    "Django zaopatruje nas w polecenie `django-admin`, które pozwala na tworzenie nowych projektów, appek i inne działania."
   ]
  },
  {
   "cell_type": "markdown",
   "id": "dd8de7b7",
   "metadata": {
    "slideshow": {
     "slide_type": "fragment"
    }
   },
   "source": [
    "Aby stworzyć nowy projekt wykonajmy polecenie (warto zauważyć kropkę na końcu, która wskazuje na aktualny katalog):"
   ]
  },
  {
   "cell_type": "code",
   "execution_count": 1,
   "id": "3801143c",
   "metadata": {
    "slideshow": {
     "slide_type": "fragment"
    }
   },
   "outputs": [
    {
     "name": "stdout",
     "output_type": "stream",
     "text": [
      "/bin/sh: django-admin: command not found\r\n"
     ]
    }
   ],
   "source": [
    "!django-admin startproject goodmovies ."
   ]
  },
  {
   "cell_type": "markdown",
   "id": "c8227be8",
   "metadata": {
    "slideshow": {
     "slide_type": "subslide"
    }
   },
   "source": [
    "UNIX: `tree`, Windows: `tree /F`\n",
    "\n",
    "W aktualnym katalogu powinny się pojawić następujące pliki:"
   ]
  },
  {
   "cell_type": "code",
   "execution_count": null,
   "id": "31877b33",
   "metadata": {
    "scrolled": true,
    "slideshow": {
     "slide_type": "fragment"
    }
   },
   "outputs": [],
   "source": [
    "!tree"
   ]
  },
  {
   "cell_type": "markdown",
   "id": "37d67dec",
   "metadata": {
    "slideshow": {
     "slide_type": "subslide"
    }
   },
   "source": [
    "* *goodmovies/* - katalog z podstawowymi ustawieniami naszego projektu, najważniejszy plik to `settings.py`, to tam znajdziemy ustawienia projektu. Innym ważnym plikiem jest `urls.py` w którym to podane są URLe do widoków aplikacji - więcej o tym już niebawem."
   ]
  },
  {
   "cell_type": "markdown",
   "id": "5bff69af",
   "metadata": {
    "slideshow": {
     "slide_type": "fragment"
    }
   },
   "source": [
    "* *manage.py* - plik do zarządzania projektem, coś w rodzaju manage-scriptu, więcej o nim za chwilę"
   ]
  },
  {
   "cell_type": "markdown",
   "id": "a204ca56",
   "metadata": {
    "slideshow": {
     "slide_type": "subslide"
    }
   },
   "source": [
    "[Uruchommy więc nasz projekt!](0_Run.ipynb)"
   ]
  },
  {
   "cell_type": "markdown",
   "id": "0b57ab5d",
   "metadata": {
    "slideshow": {
     "slide_type": "fragment"
    }
   },
   "source": [
    "Przejdźmy zatem do przeglądarki jak proponuje wiadomość w terminalu. Adres to: [http://127.0.0.1:8000/](http://127.0.0.1:8000/)"
   ]
  },
  {
   "cell_type": "markdown",
   "id": "d348323f",
   "metadata": {
    "slideshow": {
     "slide_type": "subslide"
    }
   },
   "source": [
    "Tym samym właśnie napisaliśmy `\"Hello world\"` w Django! Nasza aplikacja totalnie nic nie robi, ale czy na pewno? Jeśli ujrzeliście taki widok w przeglądarce, to oznacza, że instalacja zakończyła się pomyślnie i możemy nareszcie przejść do tworzenia aplikacji."
   ]
  },
  {
   "cell_type": "markdown",
   "id": "95e3a3cf",
   "metadata": {
    "slideshow": {
     "slide_type": "slide"
    }
   },
   "source": [
    "## URL Resolver"
   ]
  },
  {
   "cell_type": "markdown",
   "id": "96ec8b4e",
   "metadata": {
    "slideshow": {
     "slide_type": "fragment"
    }
   },
   "source": [
    "Kiedy serwer otrzymuje żądanie (np. z naszej przeglądarki internetowej) przekazuje je do Django."
   ]
  },
  {
   "cell_type": "markdown",
   "id": "fd03a078",
   "metadata": {
    "slideshow": {
     "slide_type": "fragment"
    }
   },
   "source": [
    "Zaglądnijmy teraz do pliku [`urls.py`](http://localhost:8888/edit/Documents/Teaching/Courses/Django/goodmovies/urls.py).\n"
   ]
  },
  {
   "cell_type": "markdown",
   "id": "4692cba4",
   "metadata": {
    "slideshow": {
     "slide_type": "subslide"
    }
   },
   "source": [
    "Django posiada coś co się nazywa *url resolver* - to mechanizm rozpoznawania i rozwiązywania adresów URL. Prościej mówiąc - lista z adresami URL, które dotyczą aplikacji. Jeśli adres URL zapytania pasuje do jakiegoś adresu zadeklarowanego w aplikacji, to żądanie zostaje przekazane do odpowiedniej funkcji (konkretnego **widoku**) wskazanego przez aplikację."
   ]
  },
  {
   "cell_type": "markdown",
   "id": "2f1ede93",
   "metadata": {
    "slideshow": {
     "slide_type": "fragment"
    }
   },
   "source": [
    "To właśnie widoki są sercem logiki aplikacji w Django. Wykorzystują one warstwę modelu powiązana z bazą danych do zapisywania oraz odczytywania danych. Natomiast szablony HTML są zapełniane odpowiednimi informacjami dostępnymi w widoku i następnie taki wyrenderowany HTML zostaje zwrócony do serwera i wreszcie do użytkownika aplikacji (do przeglądarki)."
   ]
  },
  {
   "cell_type": "markdown",
   "id": "07f5ab87",
   "metadata": {
    "slideshow": {
     "slide_type": "fragment"
    }
   },
   "source": [
    "*Jest to opis znacznie uproszczony i prawdopodobnie dla większości niezrozumiały. Nic nie szkodzi. W najbliższym czasie poznamy co to wszystko oznacza w praktyce.*"
   ]
  },
  {
   "cell_type": "markdown",
   "id": "d43a3676",
   "metadata": {
    "slideshow": {
     "slide_type": "slide"
    }
   },
   "source": [
    "## Nasza pierwsza aplikacja"
   ]
  },
  {
   "cell_type": "markdown",
   "id": "59cc1a04",
   "metadata": {
    "slideshow": {
     "slide_type": "fragment"
    }
   },
   "source": [
    "W środowisku Django przyjęło się, że każdy projekt zrzesza wiele mniejszych aplikacji (Django apps). Rolą aplikacji jest zapewnienie konkretnej funkcjonalności, w miarę możliwości niezależnej od innych. Można na to patrzeć jak na swego rodzaju *pluginy*. Takie appki w idealnym świecie można by wydzielać i przenosić między projektami."
   ]
  },
  {
   "cell_type": "markdown",
   "id": "2c467298",
   "metadata": {
    "slideshow": {
     "slide_type": "subslide"
    }
   },
   "source": [
    "Stwórzmy więc pierwsza aplikację, na cele tego kursu będziemy tworzyć mini-bibliotekę zawierającą filmy."
   ]
  },
  {
   "cell_type": "code",
   "execution_count": null,
   "id": "1921a6cc",
   "metadata": {
    "slideshow": {
     "slide_type": "fragment"
    }
   },
   "outputs": [],
   "source": [
    "!django-admin startapp movies"
   ]
  },
  {
   "cell_type": "markdown",
   "id": "750c84da",
   "metadata": {
    "slideshow": {
     "slide_type": "fragment"
    }
   },
   "source": [
    "Powyższe polecenie stworzy nowy katalog z kilkoma plikami. Omówimy je poniżej."
   ]
  },
  {
   "cell_type": "code",
   "execution_count": null,
   "id": "5bf8f33d",
   "metadata": {
    "slideshow": {
     "slide_type": "subslide"
    }
   },
   "outputs": [],
   "source": [
    "!tree"
   ]
  },
  {
   "cell_type": "markdown",
   "id": "9452dbd2",
   "metadata": {
    "slideshow": {
     "slide_type": "subslide"
    }
   },
   "source": [
    "* *migrations/* - katalog na migracje bazodanowe, czyli pliki, które opisują jak schemat bazy danych się zmieniał pomiędzy kolejnymi wersjami aplikacji. Tutaj znajdziemy wyłącznie pliki automatycznie generowane przez Django. W praktyce - niekiedy zachodzi potrzeba napisania migracji danych i to tutaj się je tworzy (poza zakresem tego kursu)."
   ]
  },
  {
   "cell_type": "markdown",
   "id": "fb896403",
   "metadata": {
    "slideshow": {
     "slide_type": "fragment"
    }
   },
   "source": [
    "* *admin.py* - plik, w którym deklarujemy jak ma wyglądać nasz panel administracyjny, w praktyce opisuje się tutaj które modele i jakie pola modeli mają być edytowalne."
   ]
  },
  {
   "cell_type": "markdown",
   "id": "4bf398f8",
   "metadata": {
    "slideshow": {
     "slide_type": "fragment"
    }
   },
   "source": [
    "* *apps.py* - plik deklarujący podstawowe informacje o aplikacji, takie jak nazwa \"dla ludzi\""
   ]
  },
  {
   "cell_type": "markdown",
   "id": "7102d273",
   "metadata": {
    "slideshow": {
     "slide_type": "subslide"
    }
   },
   "source": [
    "* *models.py* - jeden z ważniejszych plików, to tutaj znajdują się informacje jak wyglądają dane przechowywane w bazie danych przez aplikacji. W naszym przypadku będą to filmy, więc tutaj znajdziemy model opisujący pojedynczy film (spis pól jak tytuł, reżyser, data premiery, aktorzy...)"
   ]
  },
  {
   "cell_type": "markdown",
   "id": "971b3771",
   "metadata": {
    "slideshow": {
     "slide_type": "fragment"
    }
   },
   "source": [
    "* *tests.py* - tak, testy :)"
   ]
  },
  {
   "cell_type": "markdown",
   "id": "320b69bc",
   "metadata": {
    "slideshow": {
     "slide_type": "fragment"
    }
   },
   "source": [
    "* *views.py* - wspomniane wcześniej *widoki* zamieszczane są w tym pliku. Dzięki logice tutaj umieszczonej Django będzie w stanie wyświetlić nasze strony internetowe."
   ]
  },
  {
   "cell_type": "markdown",
   "id": "4018d807",
   "metadata": {
    "slideshow": {
     "slide_type": "slide"
    }
   },
   "source": [
    "## Nasz pierwszy widok i automatyczne przeładowanie aplikacji"
   ]
  },
  {
   "cell_type": "markdown",
   "id": "6dbf820b",
   "metadata": {
    "slideshow": {
     "slide_type": "subslide"
    }
   },
   "source": [
    "Otwórzmy plik [`views.py`](http://localhost:8888/edit/Documents/Teaching/Courses/Django/movies/views.py) umieszczony w [`movies/views.py`](http://localhost:8888/edit/Documents/Teaching/Courses/Django/movies/views.py)."
   ]
  },
  {
   "cell_type": "markdown",
   "id": "757a0716",
   "metadata": {
    "slideshow": {
     "slide_type": "subslide"
    }
   },
   "source": [
    "Na początek posłużymy się prostą funkcją, która jako argument przyjmuje zapytanie (które przyjdzie z naszej przeglądarki). Funkcja ta powinna jakoś odpowiedzieć."
   ]
  },
  {
   "cell_type": "markdown",
   "id": "ffd9667e",
   "metadata": {
    "slideshow": {
     "slide_type": "fragment"
    }
   },
   "source": [
    "Na górze pliku zaimportujmy generyczną odpowiedź HTTP:"
   ]
  },
  {
   "cell_type": "markdown",
   "id": "35862a00",
   "metadata": {
    "slideshow": {
     "slide_type": "fragment"
    }
   },
   "source": [
    "```python\n",
    "from django.http import HttpResponse\n",
    "```"
   ]
  },
  {
   "cell_type": "markdown",
   "id": "a4693089",
   "metadata": {
    "slideshow": {
     "slide_type": "fragment"
    }
   },
   "source": [
    "Następnie napiszmy prostą funkcję, która zwraca jedynie napis \"Witaj świecie\":"
   ]
  },
  {
   "cell_type": "markdown",
   "id": "718a1e44",
   "metadata": {
    "slideshow": {
     "slide_type": "fragment"
    }
   },
   "source": [
    "```python\n",
    "def hello_world(request):\n",
    "    return HttpResponse(\"Witaj świecie!\")\n",
    "```"
   ]
  },
  {
   "cell_type": "markdown",
   "id": "1a1c3067",
   "metadata": {
    "slideshow": {
     "slide_type": "subslide"
    }
   },
   "source": [
    "Nasz plik [`views.py`](http://localhost:8888/edit/Documents/Teaching/Courses/Django/movies/views.py) powinien wyglądać następująco:"
   ]
  },
  {
   "cell_type": "markdown",
   "id": "07e891ee",
   "metadata": {
    "slideshow": {
     "slide_type": "fragment"
    }
   },
   "source": [
    "```python\n",
    "from django.http import HttpResponse\n",
    "from django.shortcuts import render\n",
    "\n",
    "\n",
    "# Create your views here.\n",
    "def hello_world(request):\n",
    "    return HttpResponse(\"Witaj świecie!\")\n",
    "```"
   ]
  },
  {
   "cell_type": "markdown",
   "id": "5d1d1bd1",
   "metadata": {
    "slideshow": {
     "slide_type": "fragment"
    }
   },
   "source": [
    "Jednak to nie wszystko. Jeśli wejdziemy [http://127.0.0.1:8000/](http://127.0.0.1:8000/) nie ukaże się nam powitanie świata."
   ]
  },
  {
   "cell_type": "markdown",
   "id": "bb40057c",
   "metadata": {
    "slideshow": {
     "slide_type": "subslide"
    }
   },
   "source": [
    "Aby nasza aplikacja była uwzględniona przez Django trzeba ją dodać do zainstalowanych. W tym celu otwieramy plik [`settings.py`](http://localhost:8888/edit/Documents/Teaching/Courses/Django/goodmovies/settings.py), o którym była mowa wcześniej. To tutaj znajdują się ustawienia projektu, w tym lista zainstalowanych aplikacji."
   ]
  },
  {
   "cell_type": "markdown",
   "id": "ee38def5",
   "metadata": {
    "slideshow": {
     "slide_type": "subslide"
    }
   },
   "source": [
    "Odszukujemy fragment z listą o nazwie `INSTALLED_APPS`:"
   ]
  },
  {
   "cell_type": "markdown",
   "id": "77e7c7b3",
   "metadata": {
    "slideshow": {
     "slide_type": "fragment"
    }
   },
   "source": [
    "```python\n",
    "# Application definition\n",
    "\n",
    "INSTALLED_APPS = [\n",
    "    'django.contrib.admin',\n",
    "    'django.contrib.auth',\n",
    "    'django.contrib.contenttypes',\n",
    "    'django.contrib.sessions',\n",
    "    'django.contrib.messages',\n",
    "    'django.contrib.staticfiles',\n",
    "    'movies',  # <-- NOWE, dopisane teraz :)\n",
    "]\n",
    "```"
   ]
  },
  {
   "cell_type": "markdown",
   "id": "5faabc46",
   "metadata": {
    "slideshow": {
     "slide_type": "fragment"
    }
   },
   "source": [
    "I dopisujemy naszą aplikację, w moim przypadku to jest `movies`."
   ]
  },
  {
   "cell_type": "markdown",
   "id": "10615244",
   "metadata": {
    "slideshow": {
     "slide_type": "subslide"
    }
   },
   "source": [
    "W tej chwili nasz aplikacja została dołączona do projektu. Jednakże widok, który napisaliśmy nie został podpięty pod żaden adres URL, więc nie da się go jeszcze wyświetlić. Naprawmy to."
   ]
  },
  {
   "cell_type": "markdown",
   "id": "338f2527",
   "metadata": {
    "slideshow": {
     "slide_type": "fragment"
    }
   },
   "source": [
    "Otwórzmy [`urls.py`](http://localhost:8888/edit/Documents/Teaching/Courses/Django/goodmovies/urls.py) w katalogu projektu i dodajmy naszą funkcję widoku:"
   ]
  },
  {
   "cell_type": "markdown",
   "id": "de78c582",
   "metadata": {
    "slideshow": {
     "slide_type": "fragment"
    }
   },
   "source": [
    "```python\n",
    "from movies import views  # NOWE\n",
    "\n",
    "urlpatterns = [\n",
    "    path('admin/', admin.site.urls),\n",
    "    path('hello/', views.hello_world),  # NOWE\n",
    "]\n",
    "```"
   ]
  },
  {
   "cell_type": "markdown",
   "id": "efdb07e5",
   "metadata": {
    "slideshow": {
     "slide_type": "fragment"
    }
   },
   "source": [
    "W powyższym kodzie `# NOWE` zaznaczono 2 dodane linijki. Reszta powinna zostać bez zmian."
   ]
  },
  {
   "cell_type": "markdown",
   "id": "f8075d9e",
   "metadata": {
    "slideshow": {
     "slide_type": "subslide"
    }
   },
   "source": [
    "Następnie udajmy się do przeglądarki pod adres [http://127.0.0.1:8000/hello/](http://127.0.0.1:8000/hello/)"
   ]
  },
  {
   "cell_type": "markdown",
   "id": "8cc90cc7",
   "metadata": {
    "slideshow": {
     "slide_type": "fragment"
    }
   },
   "source": [
    "Działa! 😊"
   ]
  },
  {
   "cell_type": "markdown",
   "id": "29cabc8b",
   "metadata": {
    "slideshow": {
     "slide_type": "slide"
    }
   },
   "source": [
    "W międzyczasie można było zauważyć (jeśli aplikacja była uruchomiona), ze doszło do automatycznego przeładowania aplikacji:"
   ]
  },
  {
   "cell_type": "markdown",
   "id": "6038f586",
   "metadata": {
    "slideshow": {
     "slide_type": "fragment"
    }
   },
   "source": [
    "```sh\n",
    ".../views.py changed, reloading.\n",
    "Performing system checks...\n",
    "\n",
    "Watching for file changes with StatReloader\n",
    "```"
   ]
  },
  {
   "cell_type": "markdown",
   "id": "866933ee",
   "metadata": {
    "slideshow": {
     "slide_type": "fragment"
    }
   },
   "source": [
    "Jest to mechanizm automatycznego przeładowania, który jest domyślnie włączony i \"nasłuchuje\" na zmiany w plikach projektu i aplikacji."
   ]
  },
  {
   "cell_type": "markdown",
   "id": "c0e4fd9f",
   "metadata": {
    "slideshow": {
     "slide_type": "fragment"
    }
   },
   "source": [
    "Dzięki temu nie musimy ręcznie zatrzymywać i uruchamiać serwera od nowa po każdej wprowadzonej zmianie. Prawda, że przydatne?"
   ]
  },
  {
   "cell_type": "code",
   "execution_count": null,
   "id": "050100d2",
   "metadata": {
    "slideshow": {
     "slide_type": "skip"
    }
   },
   "outputs": [],
   "source": []
  }
 ],
 "metadata": {
  "celltoolbar": "Slideshow",
  "kernelspec": {
   "display_name": "Python 3 (ipykernel)",
   "language": "python",
   "name": "python3"
  },
  "language_info": {
   "codemirror_mode": {
    "name": "ipython",
    "version": 3
   },
   "file_extension": ".py",
   "mimetype": "text/x-python",
   "name": "python",
   "nbconvert_exporter": "python",
   "pygments_lexer": "ipython3",
   "version": "3.13.3"
  }
 },
 "nbformat": 4,
 "nbformat_minor": 5
}
