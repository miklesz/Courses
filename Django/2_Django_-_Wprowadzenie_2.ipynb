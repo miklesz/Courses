{
 "cells": [
  {
   "cell_type": "markdown",
   "id": "631e9c2e",
   "metadata": {
    "slideshow": {
     "slide_type": "slide"
    }
   },
   "source": [
    "# Django - Wprowadzenie 2\n",
    "*[Mikołaj Leszczuk](mailto:mikolaj.leszczuk@agh.edu.pl), [Agnieszka Rudnicka](mailto:rudnicka@agh.edu.pl)*"
   ]
  },
  {
   "cell_type": "markdown",
   "id": "e26d559c",
   "metadata": {
    "slideshow": {
     "slide_type": "fragment"
    }
   },
   "source": [
    "* Nasza pierwsza aplikacja\n",
    "* Nasz pierwszy widok i automatyczne przeładowanie aplikacji\n",
    "* Nasz pierwszy \"pełnoprawny\" widok\n",
    "* Bazy danych i migracja bazy danych\n",
    "* Tworzenie super-użytkownika\n",
    "* Panel administracyjny\n",
    "* Kontekst w szablonach HTML\n",
    "* Jak włączyć obsługę Django w PyCharm?\n",
    "* Zadanie"
   ]
  },
  {
   "cell_type": "markdown",
   "id": "d43a3676",
   "metadata": {
    "slideshow": {
     "slide_type": "slide"
    }
   },
   "source": [
    "## Nasza pierwsza aplikacja"
   ]
  },
  {
   "cell_type": "markdown",
   "id": "59cc1a04",
   "metadata": {
    "slideshow": {
     "slide_type": "fragment"
    }
   },
   "source": [
    "W środowisku Django przyjęło się, że każdy projekt zrzesza wiele mniejszych aplikacji (Django apps). Rolą aplikacji jest zapewnienie konkretnej funkcjonalności, w miarę możliwości niezależnej od innych. Można na to patrzeć jak na swego rodzaju *pluginy*. Takie appki w idealnym świecie można by wydzielać i przenosić między projektami."
   ]
  },
  {
   "cell_type": "markdown",
   "id": "2c467298",
   "metadata": {
    "slideshow": {
     "slide_type": "subslide"
    }
   },
   "source": [
    "Stwórzmy więc pierwsza aplikację, na cele tego kursu będziemy tworzyć mini-bibliotekę zawierającą filmy."
   ]
  },
  {
   "cell_type": "code",
   "execution_count": null,
   "id": "1921a6cc",
   "metadata": {
    "slideshow": {
     "slide_type": "fragment"
    }
   },
   "outputs": [],
   "source": [
    "!django-admin startapp movies"
   ]
  },
  {
   "cell_type": "markdown",
   "id": "750c84da",
   "metadata": {
    "slideshow": {
     "slide_type": "fragment"
    }
   },
   "source": [
    "Powyższe polecenie stworzy nowy katalog z kilkoma plikami. Omówimy je poniżej."
   ]
  },
  {
   "cell_type": "code",
   "execution_count": null,
   "id": "5bf8f33d",
   "metadata": {
    "slideshow": {
     "slide_type": "subslide"
    }
   },
   "outputs": [],
   "source": [
    "!tree"
   ]
  },
  {
   "cell_type": "markdown",
   "id": "9452dbd2",
   "metadata": {
    "slideshow": {
     "slide_type": "subslide"
    }
   },
   "source": [
    "* *migrations/* - katalog na migracje bazodanowe, czyli pliki, które opisują jak schemat bazy danych się zmieniał pomiędzy kolejnymi wersjami aplikacji. Tutaj znajdziemy wyłącznie pliki automatycznie generowane przez Django. W praktyce - niekiedy zachodzi potrzeba napisania migracji danych i to tutaj się je tworzy (poza zakresem tego kursu)."
   ]
  },
  {
   "cell_type": "markdown",
   "id": "fb896403",
   "metadata": {
    "slideshow": {
     "slide_type": "fragment"
    }
   },
   "source": [
    "* *admin.py* - plik, w którym deklarujemy jak ma wyglądać nasz panel administracyjny, w praktyce opisuje się tutaj które modele i jakie pola modeli mają być edytowalne."
   ]
  },
  {
   "cell_type": "markdown",
   "id": "4bf398f8",
   "metadata": {
    "slideshow": {
     "slide_type": "fragment"
    }
   },
   "source": [
    "* *apps.py* - plik deklarujący podstawowe informacje o aplikacji, takie jak nazwa \"dla ludzi\""
   ]
  },
  {
   "cell_type": "markdown",
   "id": "7102d273",
   "metadata": {
    "slideshow": {
     "slide_type": "subslide"
    }
   },
   "source": [
    "* *models.py* - jeden z ważniejszych plików, to tutaj znajdują się informacje jak wyglądają dane przechowywane w bazie danych przez aplikacji. W naszym przypadku będą to filmy, więc tutaj znajdziemy model opisujący pojedynczy film (spis pól jak tytuł, reżyser, data premiery, aktorzy...)"
   ]
  },
  {
   "cell_type": "markdown",
   "id": "971b3771",
   "metadata": {
    "slideshow": {
     "slide_type": "fragment"
    }
   },
   "source": [
    "* *tests.py* - tak, testy :)"
   ]
  },
  {
   "cell_type": "markdown",
   "id": "320b69bc",
   "metadata": {
    "slideshow": {
     "slide_type": "fragment"
    }
   },
   "source": [
    "* *views.py* - wspomniane wcześniej *widoki* zamieszczane są w tym pliku. Dzięki logice tutaj umieszczonej Django będzie w stanie wyświetlić nasze strony internetowe."
   ]
  },
  {
   "cell_type": "markdown",
   "id": "4018d807",
   "metadata": {
    "slideshow": {
     "slide_type": "slide"
    }
   },
   "source": [
    "## Nasz pierwszy widok i automatyczne przeładowanie aplikacji"
   ]
  },
  {
   "cell_type": "markdown",
   "id": "6dbf820b",
   "metadata": {
    "slideshow": {
     "slide_type": "subslide"
    }
   },
   "source": [
    "Otwórzmy plik [`views.py`](http://localhost:8888/edit/movies/views.py) umieszczony w [`movies/views.py`](http://localhost:8888/edit/movies/views.py)."
   ]
  },
  {
   "cell_type": "markdown",
   "id": "757a0716",
   "metadata": {
    "slideshow": {
     "slide_type": "subslide"
    }
   },
   "source": [
    "Na początek posłużymy się prostą funkcją, która jako argument przyjmuje zapytanie (które przyjdzie z naszej przeglądarki). Funkcja ta powinna jakoś odpowiedzieć."
   ]
  },
  {
   "cell_type": "markdown",
   "id": "ffd9667e",
   "metadata": {
    "slideshow": {
     "slide_type": "fragment"
    }
   },
   "source": [
    "Na górze pliku zaimportujmy generyczną odpowiedź HTTP:"
   ]
  },
  {
   "cell_type": "markdown",
   "id": "35862a00",
   "metadata": {
    "slideshow": {
     "slide_type": "fragment"
    }
   },
   "source": [
    "```python\n",
    "from django.http import HttpResponse\n",
    "```"
   ]
  },
  {
   "cell_type": "markdown",
   "id": "a4693089",
   "metadata": {
    "slideshow": {
     "slide_type": "fragment"
    }
   },
   "source": [
    "Następnie napiszmy prostą funkcję, która zwraca jedynie napis \"Witaj świecie\":"
   ]
  },
  {
   "cell_type": "markdown",
   "id": "718a1e44",
   "metadata": {
    "slideshow": {
     "slide_type": "fragment"
    }
   },
   "source": [
    "```python\n",
    "def hello_world(request):\n",
    "    return HttpResponse(\"Witaj świecie!\")\n",
    "```"
   ]
  },
  {
   "cell_type": "markdown",
   "id": "1a1c3067",
   "metadata": {
    "slideshow": {
     "slide_type": "subslide"
    }
   },
   "source": [
    "Nasz plik [`views.py`](http://localhost:8888/edit/movies/views.py) powinien wyglądać następująco:"
   ]
  },
  {
   "cell_type": "markdown",
   "id": "07e891ee",
   "metadata": {
    "slideshow": {
     "slide_type": "fragment"
    }
   },
   "source": [
    "```python\n",
    "from django.http import HttpResponse\n",
    "from django.shortcuts import render\n",
    "\n",
    "\n",
    "# Create your views here.\n",
    "def hello_world(request):\n",
    "    return HttpResponse(\"Witaj świecie!\")\n",
    "```"
   ]
  },
  {
   "cell_type": "markdown",
   "id": "5d1d1bd1",
   "metadata": {
    "slideshow": {
     "slide_type": "fragment"
    }
   },
   "source": [
    "Jednak to nie wszystko. Jeśli wejdziemy [http://127.0.0.1:8000/](http://127.0.0.1:8000/) nie ukaże się nam powitanie świata."
   ]
  },
  {
   "cell_type": "markdown",
   "id": "bb40057c",
   "metadata": {
    "slideshow": {
     "slide_type": "subslide"
    }
   },
   "source": [
    "Aby nasza aplikacja była uwzględniona przez Django trzeba ją dodać do zainstalowanych. W tym celu otwieramy plik [`settings.py`](http://localhost:8888/edit/goodmovies/settings.py), o którym była mowa wcześniej. To tutaj znajdują się ustawienia projektu, w tym lista zainstalowanych aplikacji."
   ]
  },
  {
   "cell_type": "markdown",
   "id": "ee38def5",
   "metadata": {
    "slideshow": {
     "slide_type": "subslide"
    }
   },
   "source": [
    "Odszukujemy fragment z listą o nazwie `INSTALLED_APPS`:"
   ]
  },
  {
   "cell_type": "markdown",
   "id": "77e7c7b3",
   "metadata": {
    "slideshow": {
     "slide_type": "fragment"
    }
   },
   "source": [
    "```python\n",
    "# Application definition\n",
    "\n",
    "INSTALLED_APPS = [\n",
    "    'django.contrib.admin',\n",
    "    'django.contrib.auth',\n",
    "    'django.contrib.contenttypes',\n",
    "    'django.contrib.sessions',\n",
    "    'django.contrib.messages',\n",
    "    'django.contrib.staticfiles',\n",
    "    'movies',  # <-- NOWE, dopisane teraz :)\n",
    "]\n",
    "```"
   ]
  },
  {
   "cell_type": "markdown",
   "id": "5faabc46",
   "metadata": {
    "slideshow": {
     "slide_type": "fragment"
    }
   },
   "source": [
    "I dopisujemy naszą aplikację, w moim przypadku to jest `movies`."
   ]
  },
  {
   "cell_type": "markdown",
   "id": "10615244",
   "metadata": {
    "slideshow": {
     "slide_type": "subslide"
    }
   },
   "source": [
    "W tej chwili nasz aplikacja została dołączona do projektu. Jednakże widok, który napisaliśmy nie został podpięty pod żaden adres URL, więc nie da się go jeszcze wyświetlić. Naprawmy to."
   ]
  },
  {
   "cell_type": "markdown",
   "id": "338f2527",
   "metadata": {
    "slideshow": {
     "slide_type": "fragment"
    }
   },
   "source": [
    "Otwórzmy [`urls.py`](http://localhost:8888/edit/goodmovies/urls.py) w katalogu projektu i dodajmy naszą funkcję widoku:"
   ]
  },
  {
   "cell_type": "markdown",
   "id": "de78c582",
   "metadata": {
    "slideshow": {
     "slide_type": "fragment"
    }
   },
   "source": [
    "```python\n",
    "from movies import views  # NOWE\n",
    "\n",
    "urlpatterns = [\n",
    "    path('admin/', admin.site.urls),\n",
    "    path('hello/', views.hello_world),  # NOWE\n",
    "]\n",
    "```"
   ]
  },
  {
   "cell_type": "markdown",
   "id": "efdb07e5",
   "metadata": {
    "slideshow": {
     "slide_type": "fragment"
    }
   },
   "source": [
    "W powyższym kodzie `# NOWE` zaznaczono 2 dodane linijki. Reszta powinna zostać bez zmian."
   ]
  },
  {
   "cell_type": "markdown",
   "id": "f8075d9e",
   "metadata": {
    "slideshow": {
     "slide_type": "subslide"
    }
   },
   "source": [
    "Następnie udajmy się do przeglądarki pod adres [http://127.0.0.1:8000/hello/](http://127.0.0.1:8000/hello/)"
   ]
  },
  {
   "cell_type": "markdown",
   "id": "8cc90cc7",
   "metadata": {
    "slideshow": {
     "slide_type": "fragment"
    }
   },
   "source": [
    "Działa! 😊"
   ]
  },
  {
   "cell_type": "markdown",
   "id": "29cabc8b",
   "metadata": {
    "slideshow": {
     "slide_type": "slide"
    }
   },
   "source": [
    "W międzyczasie można było zauważyć (jeśli aplikacja była uruchomiona), ze doszło do automatycznego przeładowania aplikacji:"
   ]
  },
  {
   "cell_type": "markdown",
   "id": "6038f586",
   "metadata": {
    "slideshow": {
     "slide_type": "fragment"
    }
   },
   "source": [
    "```sh\n",
    ".../views.py changed, reloading.\n",
    "Performing system checks...\n",
    "\n",
    "Watching for file changes with StatReloader\n",
    "```"
   ]
  },
  {
   "cell_type": "markdown",
   "id": "866933ee",
   "metadata": {
    "slideshow": {
     "slide_type": "fragment"
    }
   },
   "source": [
    "Jest to mechanizm automatycznego przeładowania, który jest domyślnie włączony i \"nasłuchuje\" na zmiany w plikach projektu i aplikacji."
   ]
  },
  {
   "cell_type": "markdown",
   "id": "c0e4fd9f",
   "metadata": {
    "slideshow": {
     "slide_type": "fragment"
    }
   },
   "source": [
    "Dzięki temu nie musimy ręcznie zatrzymywać i uruchamiać serwera od nowa po każdej wprowadzonej zmianie. Prawda, że przydatne?"
   ]
  },
  {
   "cell_type": "markdown",
   "id": "2d4b904c",
   "metadata": {
    "slideshow": {
     "slide_type": "slide"
    }
   },
   "source": [
    "## Nasz pierwszy \"pełnoprawny\" widok"
   ]
  },
  {
   "cell_type": "markdown",
   "id": "b6a7827f",
   "metadata": {
    "slideshow": {
     "slide_type": "fragment"
    }
   },
   "source": [
    "Ten poprzedni pierwszy widok był tylko nudnym tekstem, spróbujmy tym razem użyć odpowiedzi HTML."
   ]
  },
  {
   "cell_type": "markdown",
   "id": "e5c2f785",
   "metadata": {
    "slideshow": {
     "slide_type": "fragment"
    }
   },
   "source": [
    "Wróćmy do [`views.py`](http://localhost:8888/edit/movies/views.py):"
   ]
  },
  {
   "cell_type": "markdown",
   "id": "df566d64",
   "metadata": {
    "slideshow": {
     "slide_type": "fragment"
    }
   },
   "source": [
    "```python\n",
    "from django.shortcuts import render\n",
    "\n",
    "\n",
    "# Create your views here.\n",
    "def hello_world(request):\n",
    "    return render(request, template_name=\"hello.html\")  # NOWE\n",
    "```"
   ]
  },
  {
   "cell_type": "markdown",
   "id": "c0751ada",
   "metadata": {
    "slideshow": {
     "slide_type": "subslide"
    }
   },
   "source": [
    "Tym razem użyjmy funkcji `render`, która już była wcześniej zaimportowana. Przyjmuje ona 2 argumenty wymagane:"
   ]
  },
  {
   "cell_type": "markdown",
   "id": "60ec9349",
   "metadata": {
    "slideshow": {
     "slide_type": "fragment"
    }
   },
   "source": [
    "* _request_ - czyli przychodzące zapytanie o stronę"
   ]
  },
  {
   "cell_type": "markdown",
   "id": "a9aa30dd",
   "metadata": {
    "slideshow": {
     "slide_type": "fragment"
    }
   },
   "source": [
    "* _template_name_ - nazwę szablonu HTML, który ma być wyrenderowany jako odpowiedź"
   ]
  },
  {
   "cell_type": "markdown",
   "id": "0a5d474a",
   "metadata": {
    "slideshow": {
     "slide_type": "fragment"
    }
   },
   "source": [
    "Oprócz tego można też przekazać kontekst, ale do tego wrócimy za chwilę."
   ]
  },
  {
   "cell_type": "markdown",
   "id": "ad370558",
   "metadata": {
    "slideshow": {
     "slide_type": "fragment"
    }
   },
   "source": [
    "Oczywiście plik `hello.html` nie istnieje, więc musimy go wpierw utworzyć."
   ]
  },
  {
   "cell_type": "markdown",
   "id": "e9aaadc0",
   "metadata": {
    "slideshow": {
     "slide_type": "subslide"
    }
   },
   "source": [
    "W katalogu naszej aplikacji [`movies`](movies/) stwórzmy katalog [`templates/`](movies/), to tutaj będziemy umieszczać pliki HTML dotyczące aplikacji [`movies`](movies/)."
   ]
  },
  {
   "cell_type": "code",
   "execution_count": null,
   "id": "5cd1f353",
   "metadata": {
    "slideshow": {
     "slide_type": "-"
    }
   },
   "outputs": [],
   "source": [
    "!mkdir movies/templates"
   ]
  },
  {
   "cell_type": "markdown",
   "id": "e1501142",
   "metadata": {
    "slideshow": {
     "slide_type": "fragment"
    }
   },
   "source": [
    "W tym katalogu utwórzmy plik [`hello.html`](http://localhost:8888/edit/movies/templates/hello.html)."
   ]
  },
  {
   "cell_type": "code",
   "execution_count": null,
   "id": "ca6bfeff",
   "metadata": {
    "slideshow": {
     "slide_type": "-"
    }
   },
   "outputs": [],
   "source": [
    "!touch movies/templates/hello.html"
   ]
  },
  {
   "cell_type": "markdown",
   "id": "9fe0100b",
   "metadata": {
    "slideshow": {
     "slide_type": "fragment"
    }
   },
   "source": [
    "I zamieśćmy w pliku [`hello.html`](http://localhost:8888/edit/movies/templates/hello.html) dowolny HTML, na przykład:<br>[`<h1>Witaj świecie</h1>`](http://localhost:8888/edit/movies/templates/hello.html)"
   ]
  },
  {
   "cell_type": "code",
   "execution_count": null,
   "id": "a2823301",
   "metadata": {
    "slideshow": {
     "slide_type": "-"
    }
   },
   "outputs": [],
   "source": [
    "!echo \"<h1>Witaj świecie</h1>\" > movies/templates/hello.html"
   ]
  },
  {
   "cell_type": "code",
   "execution_count": null,
   "id": "3f7be712",
   "metadata": {
    "scrolled": true,
    "slideshow": {
     "slide_type": "subslide"
    }
   },
   "outputs": [],
   "source": [
    "!tree movies/"
   ]
  },
  {
   "cell_type": "markdown",
   "id": "0cc4f955",
   "metadata": {
    "slideshow": {
     "slide_type": "subslide"
    }
   },
   "source": [
    "Następnie [uruchamiamy ponownie serwer](0_Run.ipynb) (tak, tym razem trzeba!)."
   ]
  },
  {
   "cell_type": "markdown",
   "id": "680df4ad",
   "metadata": {
    "slideshow": {
     "slide_type": "fragment"
    }
   },
   "source": [
    "I odświeżmy stronę w przeglądarce ([http://127.0.0.1:8000/hello/](http://127.0.0.1:8000/hello/) jeśli ktoś zamknął kartę)."
   ]
  },
  {
   "cell_type": "markdown",
   "id": "629da5bb",
   "metadata": {
    "slideshow": {
     "slide_type": "fragment"
    }
   },
   "source": [
    "Powinniśmy ujrzeć napis, ale tym razem jako nagłówek `<h1>`."
   ]
  },
  {
   "cell_type": "markdown",
   "id": "57c478ea",
   "metadata": {
    "slideshow": {
     "slide_type": "slide"
    }
   },
   "source": [
    "## Bazy danych i migracja bazy danych"
   ]
  },
  {
   "cell_type": "markdown",
   "id": "14a1e838",
   "metadata": {
    "slideshow": {
     "slide_type": "fragment"
    }
   },
   "source": [
    "Wróćmy na chwilę do pliku [`settings.py`](http://localhost:8888/edit/goodmovies/settings.py). To tutaj znajdują się kluczowe ustawienia projektu."
   ]
  },
  {
   "cell_type": "markdown",
   "id": "d727c8f7",
   "metadata": {
    "slideshow": {
     "slide_type": "fragment"
    }
   },
   "source": [
    "Wśród nich jest również informacja o bazie danych:"
   ]
  },
  {
   "cell_type": "markdown",
   "id": "7cc2ae16",
   "metadata": {
    "slideshow": {
     "slide_type": "fragment"
    }
   },
   "source": [
    "```python\n",
    "# Database\n",
    "# https://docs.djangoproject.com/en/3.0/ref/settings/#databases\n",
    "\n",
    "DATABASES = {\n",
    "    'default': {\n",
    "        'ENGINE': 'django.db.backends.sqlite3',\n",
    "        'NAME': os.path.join(BASE_DIR, 'db.sqlite3'),\n",
    "    }\n",
    "}\n",
    "```"
   ]
  },
  {
   "cell_type": "markdown",
   "id": "6171a9eb",
   "metadata": {
    "slideshow": {
     "slide_type": "subslide"
    }
   },
   "source": [
    "Jak może zauważyliście, po uruchomieniu projektu w katalogu głównym pojawił się plik `db.sqlite3`. To właśnie nasza baza danych. Django domyślnie przechowuje dane w pliku `'db.sqlite3'` w formacie `SQLite3`."
   ]
  },
  {
   "cell_type": "markdown",
   "id": "41d0610b",
   "metadata": {
    "slideshow": {
     "slide_type": "fragment"
    }
   },
   "source": [
    "Gdybyśmy w przyszłości chcieli używać innego silnika bazy danych, trzeba będzie zmienić powyższe ustawienie."
   ]
  },
  {
   "cell_type": "markdown",
   "id": "86e0f918",
   "metadata": {
    "slideshow": {
     "slide_type": "fragment"
    }
   },
   "source": [
    "Jednak na potrzeby tego projektu zostaniemy przy SQLite - jest proste w obsłudze i nie wymaga instalowania dodatkowego oprogramowania. Django wspiera jednak również inne serwery baz danych, jak na przykład: PostgreSQL i MySQL."
   ]
  },
  {
   "cell_type": "markdown",
   "id": "8e860d3e",
   "metadata": {
    "slideshow": {
     "slide_type": "subslide"
    }
   },
   "source": [
    "Podczas uruchomiania projektu można było zauważyć w terminalu poniższą wiadomość:"
   ]
  },
  {
   "cell_type": "markdown",
   "id": "5d01a9e9",
   "metadata": {
    "slideshow": {
     "slide_type": "fragment"
    }
   },
   "source": [
    "```sh\n",
    "System check identified no issues (0 silenced).\n",
    "\n",
    "You have 18 unapplied migration(s). Your project may not work properly until you apply the\n",
    "migrations for app(s): admin, auth, contenttypes, sessions.\n",
    "Run 'python manage.py migrate' to apply them.\n",
    "```"
   ]
  },
  {
   "cell_type": "markdown",
   "id": "c773bfda",
   "metadata": {
    "slideshow": {
     "slide_type": "fragment"
    }
   },
   "source": [
    "Django informuje nas, że mamy niezaaplikowane migracje. W skrócie oznacza to, że stan naszej bazy danych nie odzwierciedla tego, czego oczekuje aplikacja. Przykładowo aplikacja `django.contrib.auth` dostarcza model użytkownika, którego użyjemy za chwilę."
   ]
  },
  {
   "cell_type": "markdown",
   "id": "43324a54",
   "metadata": {
    "slideshow": {
     "slide_type": "subslide"
    }
   },
   "source": [
    "Model użytkownika ma takie pola jak _username_, _imię_, _nazwisko_, _hasło_. Django oczekuje, że tak zdefiniowany model będzie miał odpowiednią tabele w bazie danych z kolumnami odpowiedniego typu (na dane tekstowe - tekstowe, na liczby - kolumnę typu liczbowego, na pliki inny itp.)."
   ]
  },
  {
   "cell_type": "markdown",
   "id": "da4ffb6b",
   "metadata": {
    "slideshow": {
     "slide_type": "fragment"
    }
   },
   "source": [
    "Żeby lepiej zrozumieć konsekwencje spróbujmy wejść pod adres [http://127.0.0.1:8000/admin/](http://127.0.0.1:8000/admin/)\n",
    "\n",
    "Zobaczymy formularz logowania. Jednak nie mamy przecież ani loginu, ani hasła potrzebnych do przejścia dalej. Te informacje byłyby zapisane w bazie danych."
   ]
  },
  {
   "cell_type": "markdown",
   "id": "12394f7d",
   "metadata": {},
   "source": [
    "![](https://docs.djangoproject.com/en/1.8/_images/admin01.png)"
   ]
  },
  {
   "cell_type": "markdown",
   "id": "4e4597de",
   "metadata": {
    "slideshow": {
     "slide_type": "subslide"
    }
   },
   "source": [
    "Zmigrujmy zatem naszą bazę danych (tym samym stworzone zostaną tabele na użytkowników i nie tylko)."
   ]
  },
  {
   "cell_type": "markdown",
   "id": "acb5eafa",
   "metadata": {
    "slideshow": {
     "slide_type": "subslide"
    }
   },
   "source": [
    "Wszelkie akcje związane z zarządzaniem aplikacją można wykonać używając skryptu `manage.py` (wcześniejsze tworzenie appki też):"
   ]
  },
  {
   "cell_type": "code",
   "execution_count": null,
   "id": "e5556a6f",
   "metadata": {
    "slideshow": {
     "slide_type": "fragment"
    }
   },
   "outputs": [],
   "source": [
    "!python3 manage.py migrate"
   ]
  },
  {
   "cell_type": "markdown",
   "id": "b4dcd163",
   "metadata": {
    "slideshow": {
     "slide_type": "subslide"
    }
   },
   "source": [
    "Podczas [kolejnego uruchomiania projektu](0_Run.ipynb) już nie zauważymy w terminalu wiadomości, w której Django informuje nas, że mamy niezaaplikowane migracje."
   ]
  },
  {
   "cell_type": "markdown",
   "id": "8bd1dbf9",
   "metadata": {
    "slideshow": {
     "slide_type": "slide"
    }
   },
   "source": [
    "## Tworzenie super-użytkownika"
   ]
  },
  {
   "cell_type": "markdown",
   "id": "40296cdb",
   "metadata": {
    "slideshow": {
     "slide_type": "fragment"
    }
   },
   "source": [
    "Aby stworzyć super-użytkownika, który będzie miał wszystkie uprawnienia w aplikacji możemy użyć polecenia pomocniczego..."
   ]
  },
  {
   "cell_type": "code",
   "execution_count": null,
   "id": "4d95da13",
   "metadata": {
    "slideshow": {
     "slide_type": "fragment"
    }
   },
   "outputs": [],
   "source": [
    "import requests\n",
    "requests.post('http://127.0.0.1:8888/api/terminals')"
   ]
  },
  {
   "cell_type": "markdown",
   "id": "13cea8cc",
   "metadata": {
    "slideshow": {
     "slide_type": "fragment"
    }
   },
   "source": [
    "...[w terminalu](/terminals/1):"
   ]
  },
  {
   "cell_type": "markdown",
   "id": "c42c58c4",
   "metadata": {
    "slideshow": {
     "slide_type": "fragment"
    }
   },
   "source": [
    "```sh\n",
    "python3 manage.py createsuperuser\n",
    "```"
   ]
  },
  {
   "cell_type": "markdown",
   "id": "b6a5d46a",
   "metadata": {
    "slideshow": {
     "slide_type": "fragment"
    }
   },
   "source": [
    "Teraz będzie można się zalogować do panelu administracyjnego."
   ]
  },
  {
   "cell_type": "markdown",
   "id": "72713956",
   "metadata": {
    "slideshow": {
     "slide_type": "slide"
    }
   },
   "source": [
    "## Panel administracyjny"
   ]
  },
  {
   "cell_type": "markdown",
   "id": "f9c3cd99",
   "metadata": {
    "slideshow": {
     "slide_type": "fragment"
    }
   },
   "source": [
    "Przejdźmy więc na stronę: [http://127.0.0.1:8000/admin/](http://127.0.0.1:8000/admin/)"
   ]
  },
  {
   "cell_type": "markdown",
   "id": "36c11207",
   "metadata": {
    "slideshow": {
     "slide_type": "fragment"
    }
   },
   "source": [
    "Można tu miedzy innymi zarządzać użytkownikami (klikając w `Users` przejdziemy do listy użytkowników)."
   ]
  },
  {
   "cell_type": "markdown",
   "id": "7a65e651",
   "metadata": {
    "slideshow": {
     "slide_type": "fragment"
    }
   },
   "source": [
    "Wszystkie znajdujące się tutaj widoki są automatycznie generowane. Na następnych zajęciach zajmiemy się dodawaniem modeli i podepniemy je pod ten panel."
   ]
  },
  {
   "cell_type": "markdown",
   "id": "2802f44b",
   "metadata": {
    "slideshow": {
     "slide_type": "fragment"
    }
   },
   "source": [
    "Wylogujmy się."
   ]
  },
  {
   "cell_type": "markdown",
   "id": "de77ef9d",
   "metadata": {
    "slideshow": {
     "slide_type": "slide"
    }
   },
   "source": [
    "## Kontekst w szablonach HTML"
   ]
  },
  {
   "cell_type": "markdown",
   "id": "d298e379",
   "metadata": {
    "slideshow": {
     "slide_type": "fragment"
    }
   },
   "source": [
    "Wróćmy na chwilę do naszego przykładu z \"Witaj świecie\" w HTML. Gdybyśmy chcieli wyświetlić informacje o aktualnie zalogowanym użytkowniku możemy umieścić w [`hello.html`](http://localhost:8888/edit/movies/templates/hello.html) taki oto kod:"
   ]
  },
  {
   "cell_type": "markdown",
   "id": "ce596c00",
   "metadata": {
    "slideshow": {
     "slide_type": "fragment"
    }
   },
   "source": [
    "```django\n",
    "<p>\n",
    "    Aktualny użytkownik to: {{ request.user }}\n",
    "</p>\n",
    "```"
   ]
  },
  {
   "cell_type": "markdown",
   "id": "375b30b1",
   "metadata": {
    "slideshow": {
     "slide_type": "fragment"
    }
   },
   "source": [
    "```sh\n",
    "nano movies/templates/hello.html\n",
    "```"
   ]
  },
  {
   "cell_type": "markdown",
   "id": "556e13e5",
   "metadata": {
    "slideshow": {
     "slide_type": "subslide"
    }
   },
   "source": [
    "W przeglądarce powinniśmy zobaczyć:"
   ]
  },
  {
   "cell_type": "markdown",
   "id": "87a4339b",
   "metadata": {
    "slideshow": {
     "slide_type": "fragment"
    }
   },
   "source": [
    "```\n",
    "Aktualny użytkownik to: AnonymousUser\n",
    "```"
   ]
  },
  {
   "cell_type": "markdown",
   "id": "5de2b98a",
   "metadata": {
    "slideshow": {
     "slide_type": "fragment"
    }
   },
   "source": [
    "lub jeśli się zalogujemy przez panel admina - login naszego użytkownika zamiast `AnonymousUser`."
   ]
  },
  {
   "cell_type": "markdown",
   "id": "fbbd3013",
   "metadata": {
    "slideshow": {
     "slide_type": "subslide"
    }
   },
   "source": [
    "Generalnie za pomocą `{{ zmienna }}` podwójnych nawiasów klamrowych możemy wypisywać dane dostępne w kontekście HTML. Co to znaczy? Myślmy o kontekście jak o słowniku, czyli strukturze klucz-wartość. Pod każdym kluczem kryją się jakieś dane. Wiele z nich jest zapewnionych domyślnie przez framework, jak np. wyżej wykorzystane `request.user`."
   ]
  },
  {
   "cell_type": "markdown",
   "id": "8aac005e",
   "metadata": {
    "slideshow": {
     "slide_type": "fragment"
    }
   },
   "source": [
    "Jednak to nie wszystko. Załóżmy, że chcemy dodać do kontekstu własne dane, np. aktualną godzinę."
   ]
  },
  {
   "cell_type": "markdown",
   "id": "43fdaa07",
   "metadata": {
    "slideshow": {
     "slide_type": "subslide"
    }
   },
   "source": [
    "Wróćmy zatem do naszej funkcji widoku w [`views.py`](http://localhost:8888/edit/movies/views.py):"
   ]
  },
  {
   "cell_type": "markdown",
   "id": "e2ecc155",
   "metadata": {
    "slideshow": {
     "slide_type": "fragment"
    }
   },
   "source": [
    "```python\n",
    "from datetime import datetime  # NOWE\n",
    "\n",
    "from django.shortcuts import render\n",
    "\n",
    "\n",
    "# Create your views here.\n",
    "def hello_world(request):\n",
    "    our_context = {\"time\": datetime.now()}  # NOWE\n",
    "    return render(\n",
    "        request, \n",
    "        template_name=\"hello.html\", \n",
    "        context=our_context\n",
    "    )  # NOWE\n",
    "```"
   ]
  },
  {
   "cell_type": "markdown",
   "id": "2d145be9",
   "metadata": {
    "slideshow": {
     "slide_type": "fragment"
    }
   },
   "source": [
    "W powyższym kodzie stworzyliśmy słownik `our_context`, w którym umieściliśmy aktualną datę i godzinę. Następnie przekazaliśmy ten słownik jako `context` do funkcji `render()`."
   ]
  },
  {
   "cell_type": "markdown",
   "id": "1ad1daf7",
   "metadata": {
    "slideshow": {
     "slide_type": "subslide"
    }
   },
   "source": [
    "Efekt?"
   ]
  },
  {
   "cell_type": "markdown",
   "id": "47fcec86",
   "metadata": {
    "slideshow": {
     "slide_type": "subslide"
    }
   },
   "source": [
    "W [`hello.html`](http://localhost:8888/edit/movies/templates/hello.html) możemy teraz wypisać zmienną `{{ time }}` używając podwójnych nawiasów klamrowych."
   ]
  },
  {
   "cell_type": "markdown",
   "id": "afeea777",
   "metadata": {
    "slideshow": {
     "slide_type": "fragment"
    }
   },
   "source": [
    "```django\n",
    "<p>\n",
    "    Aktualny czas: {{ time }}\n",
    "</p>\n",
    "```"
   ]
  },
  {
   "cell_type": "markdown",
   "id": "402d0727",
   "metadata": {
    "slideshow": {
     "slide_type": "fragment"
    }
   },
   "source": [
    "```sh\n",
    "nano movies/templates/hello.html\n",
    "```"
   ]
  },
  {
   "cell_type": "markdown",
   "id": "a81f74c1",
   "metadata": {
    "slideshow": {
     "slide_type": "subslide"
    }
   },
   "source": [
    "Efekt?"
   ]
  },
  {
   "cell_type": "markdown",
   "id": "a9146c0c",
   "metadata": {
    "slideshow": {
     "slide_type": "subslide"
    }
   },
   "source": [
    "To właśnie przez kontekst będziemy przekazywać informacje z tak zwanego \"backendu\" do \"frontendu\". Będą to np. zapisane w naszej bazie danych filmy i inne informacje."
   ]
  },
  {
   "cell_type": "markdown",
   "id": "eceab7b3",
   "metadata": {
    "slideshow": {
     "slide_type": "slide"
    }
   },
   "source": [
    "## Jak włączyć obsługę Django w PyCharm?"
   ]
  },
  {
   "cell_type": "markdown",
   "id": "4a574da0",
   "metadata": {
    "slideshow": {
     "slide_type": "subslide"
    }
   },
   "source": [
    "![](pycharm.png)"
   ]
  },
  {
   "cell_type": "markdown",
   "id": "c61a1f66",
   "metadata": {
    "slideshow": {
     "slide_type": "slide"
    }
   },
   "source": [
    "## Zadanie"
   ]
  },
  {
   "cell_type": "markdown",
   "id": "8541deaa",
   "metadata": {
    "slideshow": {
     "slide_type": "fragment"
    }
   },
   "source": [
    "Sprawdź, czy użytkownik jest uwierzytelniony."
   ]
  },
  {
   "cell_type": "markdown",
   "id": "addac976",
   "metadata": {
    "slideshow": {
     "slide_type": "fragment"
    }
   },
   "source": [
    "Można wykorzystać informacje o użytkowniku z\n",
    "\n",
    "`{{ user.is_authenticated }}`."
   ]
  },
  {
   "cell_type": "markdown",
   "id": "34aa8bfd",
   "metadata": {
    "slideshow": {
     "slide_type": "skip"
    }
   },
   "source": []
  }
 ],
 "metadata": {
  "celltoolbar": "Slideshow",
  "kernelspec": {
   "display_name": "Python 3 (ipykernel)",
   "language": "python",
   "name": "python3"
  },
  "language_info": {
   "codemirror_mode": {
    "name": "ipython",
    "version": 3
   },
   "file_extension": ".py",
   "mimetype": "text/x-python",
   "name": "python",
   "nbconvert_exporter": "python",
   "pygments_lexer": "ipython3",
   "version": "3.13.3"
  }
 },
 "nbformat": 4,
 "nbformat_minor": 5
}
